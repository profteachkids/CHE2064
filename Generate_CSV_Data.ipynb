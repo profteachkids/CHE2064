{
  "nbformat": 4,
  "nbformat_minor": 0,
  "metadata": {
    "colab": {
      "name": "Generate_CSV_Data.ipynb",
      "provenance": [],
      "collapsed_sections": [],
      "authorship_tag": "ABX9TyPjXy9FHNzPWVWWhU7bcdzv",
      "include_colab_link": true
    },
    "kernelspec": {
      "name": "python3",
      "display_name": "Python 3"
    }
  },
  "cells": [
    {
      "cell_type": "markdown",
      "metadata": {
        "id": "view-in-github",
        "colab_type": "text"
      },
      "source": [
        "<a href=\"https://colab.research.google.com/github/profteachkids/CHE2064/blob/master/Generate_CSV_Data.ipynb\" target=\"_parent\"><img src=\"https://colab.research.google.com/assets/colab-badge.svg\" alt=\"Open In Colab\"/></a>"
      ]
    },
    {
      "cell_type": "code",
      "metadata": {
        "id": "-qks-DXAzdq7",
        "colab_type": "code",
        "colab": {
          "base_uri": "https://localhost:8080/",
          "height": 170
        },
        "outputId": "1067ab12-a8a6-4373-f4cf-8af2b5c4ff55"
      },
      "source": [
        "pip install faker"
      ],
      "execution_count": 8,
      "outputs": [
        {
          "output_type": "stream",
          "text": [
            "Collecting faker\n",
            "\u001b[?25l  Downloading https://files.pythonhosted.org/packages/f1/61/0d6ff41ca781a778f843bd0ae690bf44cd3911d542e4fa77c0acc624cdac/Faker-4.1.2-py3-none-any.whl (1.0MB)\n",
            "\u001b[K     |████████████████████████████████| 1.0MB 3.4MB/s \n",
            "\u001b[?25hRequirement already satisfied: text-unidecode==1.3 in /usr/local/lib/python3.6/dist-packages (from faker) (1.3)\n",
            "Requirement already satisfied: python-dateutil>=2.4 in /usr/local/lib/python3.6/dist-packages (from faker) (2.8.1)\n",
            "Requirement already satisfied: six>=1.5 in /usr/local/lib/python3.6/dist-packages (from python-dateutil>=2.4->faker) (1.15.0)\n",
            "Installing collected packages: faker\n",
            "Successfully installed faker-4.1.2\n"
          ],
          "name": "stdout"
        }
      ]
    },
    {
      "cell_type": "code",
      "metadata": {
        "id": "59t-lhJzzJY0",
        "colab_type": "code",
        "colab": {}
      },
      "source": [
        "import numpy as np\n",
        "from faker import Faker\n",
        "import pandas as pd\n",
        "fake=Faker()"
      ],
      "execution_count": 11,
      "outputs": []
    },
    {
      "cell_type": "code",
      "metadata": {
        "id": "s0g3NX0gzPq7",
        "colab_type": "code",
        "colab": {}
      },
      "source": [
        "name_list = [fake.last_name_nonbinary() for i in range(10)]\n",
        "\n",
        "N=1000\n",
        "equipment_list = ['TankA', 'TankB', 'TankC', 'ColumnA', 'ColumnB', 'Reactor']\n",
        "task_list = ['Overhaul', 'Inspect', 'Maintain']\n",
        "date = [fake.date_between(start_date='-3M', end_date='today') for i in range(N)]\n",
        "task = np.random.choice(task_list, size=N)\n",
        "equipment = np.random.choice(equipment_list, size=N)\n",
        "cost = np.random.randint(10000,1000000, size=N)\n",
        "name = np.random.choice(name_list, size=N)"
      ],
      "execution_count": 24,
      "outputs": []
    },
    {
      "cell_type": "code",
      "metadata": {
        "id": "fCKueGJ5zTgM",
        "colab_type": "code",
        "colab": {}
      },
      "source": [
        "df= pd.DataFrame(data={'equipment':equipment, 'task': task, 'cost': cost, 'name':name, 'date': date})"
      ],
      "execution_count": 25,
      "outputs": []
    },
    {
      "cell_type": "code",
      "metadata": {
        "id": "pW8qWHEI1LZA",
        "colab_type": "code",
        "colab": {}
      },
      "source": [
        "df.to_csv('maintenance_log.txt',index=False)  "
      ],
      "execution_count": 27,
      "outputs": []
    },
    {
      "cell_type": "code",
      "metadata": {
        "id": "umOdIELl1NBH",
        "colab_type": "code",
        "colab": {
          "base_uri": "https://localhost:8080/",
          "height": 201
        },
        "outputId": "20ac03eb-27e7-440b-bce9-73a8dc692f24"
      },
      "source": [
        "df.head()"
      ],
      "execution_count": 26,
      "outputs": [
        {
          "output_type": "execute_result",
          "data": {
            "text/html": [
              "<div>\n",
              "<style scoped>\n",
              "    .dataframe tbody tr th:only-of-type {\n",
              "        vertical-align: middle;\n",
              "    }\n",
              "\n",
              "    .dataframe tbody tr th {\n",
              "        vertical-align: top;\n",
              "    }\n",
              "\n",
              "    .dataframe thead th {\n",
              "        text-align: right;\n",
              "    }\n",
              "</style>\n",
              "<table border=\"1\" class=\"dataframe\">\n",
              "  <thead>\n",
              "    <tr style=\"text-align: right;\">\n",
              "      <th></th>\n",
              "      <th>equipment</th>\n",
              "      <th>task</th>\n",
              "      <th>cost</th>\n",
              "      <th>name</th>\n",
              "      <th>date</th>\n",
              "    </tr>\n",
              "  </thead>\n",
              "  <tbody>\n",
              "    <tr>\n",
              "      <th>0</th>\n",
              "      <td>TankB</td>\n",
              "      <td>Inspect</td>\n",
              "      <td>777585</td>\n",
              "      <td>Stuart</td>\n",
              "      <td>2020-07-20</td>\n",
              "    </tr>\n",
              "    <tr>\n",
              "      <th>1</th>\n",
              "      <td>TankA</td>\n",
              "      <td>Maintain</td>\n",
              "      <td>874058</td>\n",
              "      <td>Pena</td>\n",
              "      <td>2020-06-10</td>\n",
              "    </tr>\n",
              "    <tr>\n",
              "      <th>2</th>\n",
              "      <td>TankB</td>\n",
              "      <td>Maintain</td>\n",
              "      <td>304179</td>\n",
              "      <td>Davis</td>\n",
              "      <td>2020-08-08</td>\n",
              "    </tr>\n",
              "    <tr>\n",
              "      <th>3</th>\n",
              "      <td>ColumnB</td>\n",
              "      <td>Overhaul</td>\n",
              "      <td>534194</td>\n",
              "      <td>Davis</td>\n",
              "      <td>2020-07-27</td>\n",
              "    </tr>\n",
              "    <tr>\n",
              "      <th>4</th>\n",
              "      <td>TankC</td>\n",
              "      <td>Overhaul</td>\n",
              "      <td>19028</td>\n",
              "      <td>Cole</td>\n",
              "      <td>2020-08-12</td>\n",
              "    </tr>\n",
              "  </tbody>\n",
              "</table>\n",
              "</div>"
            ],
            "text/plain": [
              "  equipment      task    cost    name        date\n",
              "0     TankB   Inspect  777585  Stuart  2020-07-20\n",
              "1     TankA  Maintain  874058    Pena  2020-06-10\n",
              "2     TankB  Maintain  304179   Davis  2020-08-08\n",
              "3   ColumnB  Overhaul  534194   Davis  2020-07-27\n",
              "4     TankC  Overhaul   19028    Cole  2020-08-12"
            ]
          },
          "metadata": {
            "tags": []
          },
          "execution_count": 26
        }
      ]
    },
    {
      "cell_type": "code",
      "metadata": {
        "id": "C0X2MpS-2L8K",
        "colab_type": "code",
        "colab": {}
      },
      "source": [
        ""
      ],
      "execution_count": null,
      "outputs": []
    }
  ]
}