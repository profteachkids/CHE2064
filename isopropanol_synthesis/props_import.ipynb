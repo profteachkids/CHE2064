{
 "cells": [
  {
   "cell_type": "code",
   "execution_count": 1,
   "metadata": {
    "collapsed": true
   },
   "outputs": [
    {
     "name": "stdout",
     "output_type": "stream",
     "text": [
      "dyld: Library not loaded: /usr/local/opt/openssl/lib/libssl.1.0.0.dylib\r\n",
      "  Referenced from: /usr/local/bin/wget\r\n",
      "  Reason: image not found\r\n",
      "Collecting ipynb\r\n",
      "  Downloading ipynb-0.5.1-py3-none-any.whl (6.9 kB)\r\n",
      "Installing collected packages: ipynb\r\n",
      "Successfully installed ipynb-0.5.1\r\n",
      "Requirement already satisfied: dotmap in /Users/carlosco/opt/anaconda3/envs/pytorch/lib/python3.8/site-packages (1.3.17)\r\n"
     ]
    }
   ],
   "source": [
    "!wget https://raw.githubusercontent.com/profteachkids/CHE2064/master/che_tools.ipynb -o che_tools.ipynb\n",
    "!pip install ipynb\n",
    "!pip install dotmap"
   ]
  },
  {
   "cell_type": "code",
   "execution_count": 3,
   "outputs": [],
   "source": [
    "import ipynb\n",
    "from ipynb.fs.full.che_tools import import_ChemCad\n",
    "from dotmap import DotMap"
   ],
   "metadata": {
    "collapsed": false,
    "pycharm": {
     "name": "#%%\n"
    }
   }
  },
  {
   "cell_type": "code",
   "execution_count": null,
   "outputs": [],
   "source": [
    "props=import_ChemCad(['Propylene','DiisopropylEther', 'Isopropanol','Water'])\n",
    "import_NRTL(props['ID'])\n"
   ],
   "metadata": {
    "collapsed": false,
    "pycharm": {
     "name": "#%%\n"
    }
   }
  }
 ],
 "metadata": {
  "kernelspec": {
   "display_name": "Python 3",
   "language": "python",
   "name": "python3"
  },
  "language_info": {
   "codemirror_mode": {
    "name": "ipython",
    "version": 2
   },
   "file_extension": ".py",
   "mimetype": "text/x-python",
   "name": "python",
   "nbconvert_exporter": "python",
   "pygments_lexer": "ipython2",
   "version": "2.7.6"
  }
 },
 "nbformat": 4,
 "nbformat_minor": 0
}