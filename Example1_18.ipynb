{
  "nbformat": 4,
  "nbformat_minor": 0,
  "metadata": {
    "colab": {
      "name": "Example1_18.ipynb",
      "provenance": [],
      "authorship_tag": "ABX9TyNNxaEtMSHSOo83FyYr5R+F",
      "include_colab_link": true
    },
    "kernelspec": {
      "name": "python3",
      "display_name": "Python 3"
    },
    "language_info": {
      "name": "python"
    }
  },
  "cells": [
    {
      "cell_type": "markdown",
      "metadata": {
        "id": "view-in-github",
        "colab_type": "text"
      },
      "source": [
        "<a href=\"https://colab.research.google.com/github/profteachkids/CHE2064/blob/master/Example1_18.ipynb\" target=\"_parent\"><img src=\"https://colab.research.google.com/assets/colab-badge.svg\" alt=\"Open In Colab\"/></a>"
      ]
    },
    {
      "cell_type": "code",
      "metadata": {
        "id": "3mnmScNo_nZi"
      },
      "source": [
        "import numpy as np\n",
        "from scipy.integrate import solve_ivp\n",
        "from scipy.optimize import root\n",
        "from plotly.subplots import make_subplots\n",
        "import plotly.graph_objects as go\n",
        "import plotly.io as pio\n",
        "pio.templates.default='plotly_dark'"
      ],
      "execution_count": 2,
      "outputs": []
    },
    {
      "cell_type": "code",
      "metadata": {
        "id": "ai07g2U3zBPU"
      },
      "source": [
        "D12=72e-6  # m2/s\n",
        "D13=230e-6\n",
        "D23 = 230e-6\n",
        "P=101325  #Pa\n",
        "T=548 #K\n",
        "R=8.314 #J/(mol K)\n",
        "c=P/(R*T)\n",
        "kr=10  # mol/(m2 s mol frac)\n",
        "delta=1e-3\n",
        "F12=c*D12/delta\n",
        "F13=c*D13/delta\n",
        "F23=c*D23/delta\n",
        "y1i=0.\n",
        "y2i=0.5\n"
      ],
      "execution_count": 3,
      "outputs": []
    },
    {
      "cell_type": "code",
      "metadata": {
        "id": "Nin5Jd2yzEie"
      },
      "source": [
        "def f(yi):\n",
        "\n",
        "    y1i=yi[0]\n",
        "    y2i=yi[1]\n",
        "    N1 = -kr*y1i\n",
        "    N2=-N1\n",
        "    N3=-N1\n",
        "    def dy(eta, y):\n",
        "        y1=y[0]\n",
        "        y2=y[1]\n",
        "        y3=(1-y1-y2)\n",
        "        return np.array([(y1*N2-y2*N1)/F12 + (y1*N3-y3*N1)/F13,\n",
        "                    (y2*N1-y1*N2)/F12+ (y2*N3- y3*N2)/F23])\n",
        "\n",
        "\n",
        "    yb=solve_ivp(dy,(0,1),(y1i, y2i),method='Radau',dense_output=True).sol(1)\n",
        "    return [yb[0]-0.6, yb[1]-0.2] \n"
      ],
      "execution_count": 6,
      "outputs": []
    },
    {
      "cell_type": "code",
      "metadata": {
        "id": "PInMI2HUMSX3"
      },
      "source": [
        "res=root(f,[y1i,y2i])\n",
        "y1i=res.x[0]\n",
        "y2i=res.x[1]\n",
        "N1 = -kr*y1i\n",
        "N2=-N1\n",
        "N3=-N1\n",
        "def dy(eta, y):\n",
        "    y1=y[0]\n",
        "    y2=y[1]\n",
        "    y3=(1-y1-y2)\n",
        "    return np.array([(y1*N2-y2*N1)/F12 + (y1*N3-y3*N1)/F13,\n",
        "                (y2*N1-y1*N2)/F12 + (y2*N3- y3*N2)/F23])\n",
        "\n",
        "\n",
        "res=solve_ivp(dy,(0,1),(y1i, y2i),method='Radau',dense_output=True)"
      ],
      "execution_count": 13,
      "outputs": []
    },
    {
      "cell_type": "code",
      "metadata": {
        "id": "gnOvgP_nHtl6"
      },
      "source": [
        "eta_plot=np.linspace(0,1,51)\n",
        "sol=res.sol(eta_plot)"
      ],
      "execution_count": 14,
      "outputs": []
    },
    {
      "cell_type": "code",
      "metadata": {
        "colab": {
          "base_uri": "https://localhost:8080/",
          "height": 542
        },
        "id": "EbJRc9Ms6pE7",
        "outputId": "4d7e2f1b-093a-4d94-ecf9-ed9c2847dff5"
      },
      "source": [
        "fig=make_subplots(rows=1,cols=1)\n",
        "fig.add_trace(go.Scatter(x=eta_plot*delta,y=sol[0],name='ethanol'))\n",
        "fig.add_trace(go.Scatter(x=eta_plot*delta,y=sol[1],name='acetaldehye'))\n",
        "fig.add_trace(go.Scatter(x=eta_plot*delta,y=1-sol[0]-sol[1],name='hydrogen'))"
      ],
      "execution_count": 15,
      "outputs": [
        {
          "output_type": "display_data",
          "data": {
            "text/html": [
              "<html>\n",
              "<head><meta charset=\"utf-8\" /></head>\n",
              "<body>\n",
              "    <div>\n",
              "            <script src=\"https://cdnjs.cloudflare.com/ajax/libs/mathjax/2.7.5/MathJax.js?config=TeX-AMS-MML_SVG\"></script><script type=\"text/javascript\">if (window.MathJax) {MathJax.Hub.Config({SVG: {font: \"STIX-Web\"}});}</script>\n",
              "                <script type=\"text/javascript\">window.PlotlyConfig = {MathJaxConfig: 'local'};</script>\n",
              "        <script src=\"https://cdn.plot.ly/plotly-latest.min.js\"></script>    \n",
              "            <div id=\"8be40cf5-d1c2-4068-8a18-c788f781d39b\" class=\"plotly-graph-div\" style=\"height:525px; width:100%;\"></div>\n",
              "            <script type=\"text/javascript\">\n",
              "                \n",
              "                    window.PLOTLYENV=window.PLOTLYENV || {};\n",
              "                    \n",
              "                if (document.getElementById(\"8be40cf5-d1c2-4068-8a18-c788f781d39b\")) {\n",
              "                    Plotly.newPlot(\n",
              "                        '8be40cf5-d1c2-4068-8a18-c788f781d39b',\n",
              "                        [{\"name\": \"ethanol\", \"type\": \"scatter\", \"x\": [0.0, 2e-05, 4e-05, 6e-05, 8e-05, 0.0001, 0.00012, 0.00014000000000000001, 0.00016, 0.00017999999999999998, 0.0002, 0.00022, 0.00024, 0.00026000000000000003, 0.00028000000000000003, 0.0003, 0.00032, 0.00034, 0.00035999999999999997, 0.00038, 0.0004, 0.00042, 0.00044, 0.00046, 0.00048, 0.0005, 0.0005200000000000001, 0.00054, 0.0005600000000000001, 0.00058, 0.0006, 0.00062, 0.00064, 0.00066, 0.00068, 0.0007000000000000001, 0.0007199999999999999, 0.00074, 0.00076, 0.0007800000000000001, 0.0008, 0.0008200000000000001, 0.00084, 0.00086, 0.00088, 0.0009000000000000001, 0.00092, 0.0009400000000000001, 0.00096, 0.00098, 0.001], \"y\": [0.08880137134869599, 0.0977302810186319, 0.1067081312127685, 0.11573527314626912, 0.12481177384690681, 0.1339378712135578, 0.14311381124393463, 0.1523398399357499, 0.16161620328671605, 0.17094314729454568, 0.18032091795695138, 0.18974976127164553, 0.1992299232363408, 0.20876164984874973, 0.2183451871065848, 0.22798078100755848, 0.23766867754938348, 0.24740912272977225, 0.25720236254643725, 0.2670486429970912, 0.2769482100794465, 0.28690130979121564, 0.29690818813011133, 0.30696925948080955, 0.31708475517629214, 0.3272546970411636, 0.33747935917842764, 0.3477590156910878, 0.3580939406821478, 0.36848440825461115, 0.3789306925114817, 0.389433067555763, 0.3999918074904587, 0.4106071864185724, 0.42127947844310787, 0.4320089576670686, 0.4427958981934583, 0.4536405741252807, 0.4645432595655394, 0.47550422861723796, 0.4865237553833801, 0.49760211396696946, 0.5087395784710096, 0.5199364229985044, 0.5311929216524572, 0.542509348535872, 0.5538859777517521, 0.5653230834031013, 0.5768209395929231, 0.5883798204242217, 0.6]}, {\"name\": \"acetaldehye\", \"type\": \"scatter\", \"x\": [0.0, 2e-05, 4e-05, 6e-05, 8e-05, 0.0001, 0.00012, 0.00014000000000000001, 0.00016, 0.00017999999999999998, 0.0002, 0.00022, 0.00024, 0.00026000000000000003, 0.00028000000000000003, 0.0003, 0.00032, 0.00034, 0.00035999999999999997, 0.00038, 0.0004, 0.00042, 0.00044, 0.00046, 0.00048, 0.0005, 0.0005200000000000001, 0.00054, 0.0005600000000000001, 0.00058, 0.0006, 0.00062, 0.00064, 0.00066, 0.00068, 0.0007000000000000001, 0.0007199999999999999, 0.00074, 0.00076, 0.0007800000000000001, 0.0008, 0.0008200000000000001, 0.00084, 0.00086, 0.00088, 0.0009000000000000001, 0.00092, 0.0009400000000000001, 0.00096, 0.00098, 0.001], \"y\": [0.5837007722640003, 0.577110934930106, 0.5704802927493743, 0.5638085341053107, 0.5570956045236384, 0.5503412949285452, 0.5435453889162086, 0.5367076700828061, 0.5298279220245147, 0.5229059283375121, 0.5159414726179756, 0.5089343384620827, 0.5018843094660106, 0.49479116922593674, 0.4876547013380385, 0.48047468939849336, 0.47325091700347854, 0.4659831677491716, 0.45867122523174975, 0.45131487304739054, 0.4439138947922712, 0.43646807406256927, 0.42897719445446203, 0.4214408869223969, 0.41385894837411247, 0.4062313656423385, 0.3985578968680277, 0.39083830019213234, 0.38307233375560507, 0.3752597556993984, 0.3674003241644648, 0.35949379729175673, 0.35153993322222676, 0.3435384900968274, 0.33548922605651116, 0.32739189924223056, 0.31924626779493803, 0.3110520898555862, 0.3028091235651274, 0.29451712706451433, 0.2861758584946993, 0.27778507599663504, 0.269344537711274, 0.2608540017795685, 0.2523132263424712, 0.24372196954093467, 0.23507998951591128, 0.2263870444083536, 0.21764289235921422, 0.20884729150944545, 0.19999999999999993]}, {\"name\": \"hydrogen\", \"type\": \"scatter\", \"x\": [0.0, 2e-05, 4e-05, 6e-05, 8e-05, 0.0001, 0.00012, 0.00014000000000000001, 0.00016, 0.00017999999999999998, 0.0002, 0.00022, 0.00024, 0.00026000000000000003, 0.00028000000000000003, 0.0003, 0.00032, 0.00034, 0.00035999999999999997, 0.00038, 0.0004, 0.00042, 0.00044, 0.00046, 0.00048, 0.0005, 0.0005200000000000001, 0.00054, 0.0005600000000000001, 0.00058, 0.0006, 0.00062, 0.00064, 0.00066, 0.00068, 0.0007000000000000001, 0.0007199999999999999, 0.00074, 0.00076, 0.0007800000000000001, 0.0008, 0.0008200000000000001, 0.00084, 0.00086, 0.00088, 0.0009000000000000001, 0.00092, 0.0009400000000000001, 0.00096, 0.00098, 0.001], \"y\": [0.32749785638730367, 0.3251587840512621, 0.32281157603785726, 0.3204561927484202, 0.31809262162945484, 0.31572083385789695, 0.31334079983985674, 0.3109524899814441, 0.3085558746887692, 0.3061509243679421, 0.303737609425073, 0.30131590026627175, 0.2988857672976486, 0.2964471809253136, 0.2940001115553767, 0.29154452959394817, 0.289080405447138, 0.2866077095210562, 0.284126412221813, 0.28163648395551827, 0.2791378951282823, 0.2766306161462151, 0.27411461741542664, 0.27158985359679355, 0.26905629644959544, 0.26651393731649786, 0.2639627439535447, 0.26140268411677986, 0.2588337255622472, 0.25625583604599045, 0.2536689833240535, 0.25107313515248025, 0.24846825928731453, 0.24585432348460018, 0.24323129550038097, 0.24059914309070085, 0.23795783401160364, 0.23530733601913312, 0.23264761686933316, 0.22997864431824772, 0.2273003861219206, 0.22461281003639544, 0.22191588381771643, 0.21920957522192708, 0.21649385200507154, 0.21376868192319337, 0.21103403273233665, 0.20828987218854506, 0.20553616804786265, 0.2027728880663329, 0.2000000000000001]}],\n",
              "                        {\"template\": {\"data\": {\"bar\": [{\"error_x\": {\"color\": \"#f2f5fa\"}, \"error_y\": {\"color\": \"#f2f5fa\"}, \"marker\": {\"line\": {\"color\": \"rgb(17,17,17)\", \"width\": 0.5}}, \"type\": \"bar\"}], \"barpolar\": [{\"marker\": {\"line\": {\"color\": \"rgb(17,17,17)\", \"width\": 0.5}}, \"type\": \"barpolar\"}], \"carpet\": [{\"aaxis\": {\"endlinecolor\": \"#A2B1C6\", \"gridcolor\": \"#506784\", \"linecolor\": \"#506784\", \"minorgridcolor\": \"#506784\", \"startlinecolor\": \"#A2B1C6\"}, \"baxis\": {\"endlinecolor\": \"#A2B1C6\", \"gridcolor\": \"#506784\", \"linecolor\": \"#506784\", \"minorgridcolor\": \"#506784\", \"startlinecolor\": \"#A2B1C6\"}, \"type\": \"carpet\"}], \"choropleth\": [{\"colorbar\": {\"outlinewidth\": 0, \"ticks\": \"\"}, \"type\": \"choropleth\"}], \"contour\": [{\"colorbar\": {\"outlinewidth\": 0, \"ticks\": \"\"}, \"colorscale\": [[0.0, \"#0d0887\"], [0.1111111111111111, \"#46039f\"], [0.2222222222222222, \"#7201a8\"], [0.3333333333333333, \"#9c179e\"], [0.4444444444444444, \"#bd3786\"], [0.5555555555555556, \"#d8576b\"], [0.6666666666666666, \"#ed7953\"], [0.7777777777777778, \"#fb9f3a\"], [0.8888888888888888, \"#fdca26\"], [1.0, \"#f0f921\"]], \"type\": \"contour\"}], \"contourcarpet\": [{\"colorbar\": {\"outlinewidth\": 0, \"ticks\": \"\"}, \"type\": \"contourcarpet\"}], \"heatmap\": [{\"colorbar\": {\"outlinewidth\": 0, \"ticks\": \"\"}, \"colorscale\": [[0.0, \"#0d0887\"], [0.1111111111111111, \"#46039f\"], [0.2222222222222222, \"#7201a8\"], [0.3333333333333333, \"#9c179e\"], [0.4444444444444444, \"#bd3786\"], [0.5555555555555556, \"#d8576b\"], [0.6666666666666666, \"#ed7953\"], [0.7777777777777778, \"#fb9f3a\"], [0.8888888888888888, \"#fdca26\"], [1.0, \"#f0f921\"]], \"type\": \"heatmap\"}], \"heatmapgl\": [{\"colorbar\": {\"outlinewidth\": 0, \"ticks\": \"\"}, \"colorscale\": [[0.0, \"#0d0887\"], [0.1111111111111111, \"#46039f\"], [0.2222222222222222, \"#7201a8\"], [0.3333333333333333, \"#9c179e\"], [0.4444444444444444, \"#bd3786\"], [0.5555555555555556, \"#d8576b\"], [0.6666666666666666, \"#ed7953\"], [0.7777777777777778, \"#fb9f3a\"], [0.8888888888888888, \"#fdca26\"], [1.0, \"#f0f921\"]], \"type\": \"heatmapgl\"}], \"histogram\": [{\"marker\": {\"colorbar\": {\"outlinewidth\": 0, \"ticks\": \"\"}}, \"type\": \"histogram\"}], \"histogram2d\": [{\"colorbar\": {\"outlinewidth\": 0, \"ticks\": \"\"}, \"colorscale\": [[0.0, \"#0d0887\"], [0.1111111111111111, \"#46039f\"], [0.2222222222222222, \"#7201a8\"], [0.3333333333333333, \"#9c179e\"], [0.4444444444444444, \"#bd3786\"], [0.5555555555555556, \"#d8576b\"], [0.6666666666666666, \"#ed7953\"], [0.7777777777777778, \"#fb9f3a\"], [0.8888888888888888, \"#fdca26\"], [1.0, \"#f0f921\"]], \"type\": \"histogram2d\"}], \"histogram2dcontour\": [{\"colorbar\": {\"outlinewidth\": 0, \"ticks\": \"\"}, \"colorscale\": [[0.0, \"#0d0887\"], [0.1111111111111111, \"#46039f\"], [0.2222222222222222, \"#7201a8\"], [0.3333333333333333, \"#9c179e\"], [0.4444444444444444, \"#bd3786\"], [0.5555555555555556, \"#d8576b\"], [0.6666666666666666, \"#ed7953\"], [0.7777777777777778, \"#fb9f3a\"], [0.8888888888888888, \"#fdca26\"], [1.0, \"#f0f921\"]], \"type\": \"histogram2dcontour\"}], \"mesh3d\": [{\"colorbar\": {\"outlinewidth\": 0, \"ticks\": \"\"}, \"type\": \"mesh3d\"}], \"parcoords\": [{\"line\": {\"colorbar\": {\"outlinewidth\": 0, \"ticks\": \"\"}}, \"type\": \"parcoords\"}], \"pie\": [{\"automargin\": true, \"type\": \"pie\"}], \"scatter\": [{\"marker\": {\"line\": {\"color\": \"#283442\"}}, \"type\": \"scatter\"}], \"scatter3d\": [{\"line\": {\"colorbar\": {\"outlinewidth\": 0, \"ticks\": \"\"}}, \"marker\": {\"colorbar\": {\"outlinewidth\": 0, \"ticks\": \"\"}}, \"type\": \"scatter3d\"}], \"scattercarpet\": [{\"marker\": {\"colorbar\": {\"outlinewidth\": 0, \"ticks\": \"\"}}, \"type\": \"scattercarpet\"}], \"scattergeo\": [{\"marker\": {\"colorbar\": {\"outlinewidth\": 0, \"ticks\": \"\"}}, \"type\": \"scattergeo\"}], \"scattergl\": [{\"marker\": {\"line\": {\"color\": \"#283442\"}}, \"type\": \"scattergl\"}], \"scattermapbox\": [{\"marker\": {\"colorbar\": {\"outlinewidth\": 0, \"ticks\": \"\"}}, \"type\": \"scattermapbox\"}], \"scatterpolar\": [{\"marker\": {\"colorbar\": {\"outlinewidth\": 0, \"ticks\": \"\"}}, \"type\": \"scatterpolar\"}], \"scatterpolargl\": [{\"marker\": {\"colorbar\": {\"outlinewidth\": 0, \"ticks\": \"\"}}, \"type\": \"scatterpolargl\"}], \"scatterternary\": [{\"marker\": {\"colorbar\": {\"outlinewidth\": 0, \"ticks\": \"\"}}, \"type\": \"scatterternary\"}], \"surface\": [{\"colorbar\": {\"outlinewidth\": 0, \"ticks\": \"\"}, \"colorscale\": [[0.0, \"#0d0887\"], [0.1111111111111111, \"#46039f\"], [0.2222222222222222, \"#7201a8\"], [0.3333333333333333, \"#9c179e\"], [0.4444444444444444, \"#bd3786\"], [0.5555555555555556, \"#d8576b\"], [0.6666666666666666, \"#ed7953\"], [0.7777777777777778, \"#fb9f3a\"], [0.8888888888888888, \"#fdca26\"], [1.0, \"#f0f921\"]], \"type\": \"surface\"}], \"table\": [{\"cells\": {\"fill\": {\"color\": \"#506784\"}, \"line\": {\"color\": \"rgb(17,17,17)\"}}, \"header\": {\"fill\": {\"color\": \"#2a3f5f\"}, \"line\": {\"color\": \"rgb(17,17,17)\"}}, \"type\": \"table\"}]}, \"layout\": {\"annotationdefaults\": {\"arrowcolor\": \"#f2f5fa\", \"arrowhead\": 0, \"arrowwidth\": 1}, \"coloraxis\": {\"colorbar\": {\"outlinewidth\": 0, \"ticks\": \"\"}}, \"colorscale\": {\"diverging\": [[0, \"#8e0152\"], [0.1, \"#c51b7d\"], [0.2, \"#de77ae\"], [0.3, \"#f1b6da\"], [0.4, \"#fde0ef\"], [0.5, \"#f7f7f7\"], [0.6, \"#e6f5d0\"], [0.7, \"#b8e186\"], [0.8, \"#7fbc41\"], [0.9, \"#4d9221\"], [1, \"#276419\"]], \"sequential\": [[0.0, \"#0d0887\"], [0.1111111111111111, \"#46039f\"], [0.2222222222222222, \"#7201a8\"], [0.3333333333333333, \"#9c179e\"], [0.4444444444444444, \"#bd3786\"], [0.5555555555555556, \"#d8576b\"], [0.6666666666666666, \"#ed7953\"], [0.7777777777777778, \"#fb9f3a\"], [0.8888888888888888, \"#fdca26\"], [1.0, \"#f0f921\"]], \"sequentialminus\": [[0.0, \"#0d0887\"], [0.1111111111111111, \"#46039f\"], [0.2222222222222222, \"#7201a8\"], [0.3333333333333333, \"#9c179e\"], [0.4444444444444444, \"#bd3786\"], [0.5555555555555556, \"#d8576b\"], [0.6666666666666666, \"#ed7953\"], [0.7777777777777778, \"#fb9f3a\"], [0.8888888888888888, \"#fdca26\"], [1.0, \"#f0f921\"]]}, \"colorway\": [\"#636efa\", \"#EF553B\", \"#00cc96\", \"#ab63fa\", \"#FFA15A\", \"#19d3f3\", \"#FF6692\", \"#B6E880\", \"#FF97FF\", \"#FECB52\"], \"font\": {\"color\": \"#f2f5fa\"}, \"geo\": {\"bgcolor\": \"rgb(17,17,17)\", \"lakecolor\": \"rgb(17,17,17)\", \"landcolor\": \"rgb(17,17,17)\", \"showlakes\": true, \"showland\": true, \"subunitcolor\": \"#506784\"}, \"hoverlabel\": {\"align\": \"left\"}, \"hovermode\": \"closest\", \"mapbox\": {\"style\": \"dark\"}, \"paper_bgcolor\": \"rgb(17,17,17)\", \"plot_bgcolor\": \"rgb(17,17,17)\", \"polar\": {\"angularaxis\": {\"gridcolor\": \"#506784\", \"linecolor\": \"#506784\", \"ticks\": \"\"}, \"bgcolor\": \"rgb(17,17,17)\", \"radialaxis\": {\"gridcolor\": \"#506784\", \"linecolor\": \"#506784\", \"ticks\": \"\"}}, \"scene\": {\"xaxis\": {\"backgroundcolor\": \"rgb(17,17,17)\", \"gridcolor\": \"#506784\", \"gridwidth\": 2, \"linecolor\": \"#506784\", \"showbackground\": true, \"ticks\": \"\", \"zerolinecolor\": \"#C8D4E3\"}, \"yaxis\": {\"backgroundcolor\": \"rgb(17,17,17)\", \"gridcolor\": \"#506784\", \"gridwidth\": 2, \"linecolor\": \"#506784\", \"showbackground\": true, \"ticks\": \"\", \"zerolinecolor\": \"#C8D4E3\"}, \"zaxis\": {\"backgroundcolor\": \"rgb(17,17,17)\", \"gridcolor\": \"#506784\", \"gridwidth\": 2, \"linecolor\": \"#506784\", \"showbackground\": true, \"ticks\": \"\", \"zerolinecolor\": \"#C8D4E3\"}}, \"shapedefaults\": {\"line\": {\"color\": \"#f2f5fa\"}}, \"sliderdefaults\": {\"bgcolor\": \"#C8D4E3\", \"bordercolor\": \"rgb(17,17,17)\", \"borderwidth\": 1, \"tickwidth\": 0}, \"ternary\": {\"aaxis\": {\"gridcolor\": \"#506784\", \"linecolor\": \"#506784\", \"ticks\": \"\"}, \"baxis\": {\"gridcolor\": \"#506784\", \"linecolor\": \"#506784\", \"ticks\": \"\"}, \"bgcolor\": \"rgb(17,17,17)\", \"caxis\": {\"gridcolor\": \"#506784\", \"linecolor\": \"#506784\", \"ticks\": \"\"}}, \"title\": {\"x\": 0.05}, \"updatemenudefaults\": {\"bgcolor\": \"#506784\", \"borderwidth\": 0}, \"xaxis\": {\"automargin\": true, \"gridcolor\": \"#283442\", \"linecolor\": \"#506784\", \"ticks\": \"\", \"title\": {\"standoff\": 15}, \"zerolinecolor\": \"#283442\", \"zerolinewidth\": 2}, \"yaxis\": {\"automargin\": true, \"gridcolor\": \"#283442\", \"linecolor\": \"#506784\", \"ticks\": \"\", \"title\": {\"standoff\": 15}, \"zerolinecolor\": \"#283442\", \"zerolinewidth\": 2}}}, \"xaxis\": {\"anchor\": \"y\", \"domain\": [0.0, 1.0]}, \"yaxis\": {\"anchor\": \"x\", \"domain\": [0.0, 1.0]}},\n",
              "                        {\"responsive\": true}\n",
              "                    ).then(function(){\n",
              "                            \n",
              "var gd = document.getElementById('8be40cf5-d1c2-4068-8a18-c788f781d39b');\n",
              "var x = new MutationObserver(function (mutations, observer) {{\n",
              "        var display = window.getComputedStyle(gd).display;\n",
              "        if (!display || display === 'none') {{\n",
              "            console.log([gd, 'removed!']);\n",
              "            Plotly.purge(gd);\n",
              "            observer.disconnect();\n",
              "        }}\n",
              "}});\n",
              "\n",
              "// Listen for the removal of the full notebook cells\n",
              "var notebookContainer = gd.closest('#notebook-container');\n",
              "if (notebookContainer) {{\n",
              "    x.observe(notebookContainer, {childList: true});\n",
              "}}\n",
              "\n",
              "// Listen for the clearing of the current output cell\n",
              "var outputEl = gd.closest('.output');\n",
              "if (outputEl) {{\n",
              "    x.observe(outputEl, {childList: true});\n",
              "}}\n",
              "\n",
              "                        })\n",
              "                };\n",
              "                \n",
              "            </script>\n",
              "        </div>\n",
              "</body>\n",
              "</html>"
            ]
          },
          "metadata": {
            "tags": []
          }
        }
      ]
    },
    {
      "cell_type": "code",
      "metadata": {
        "id": "jVnq5bPlHnt5"
      },
      "source": [
        ""
      ],
      "execution_count": null,
      "outputs": []
    }
  ]
}