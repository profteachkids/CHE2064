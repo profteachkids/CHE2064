{
  "nbformat": 4,
  "nbformat_minor": 0,
  "metadata": {
    "colab": {
      "name": "CHE2064Syllabus.ipynb",
      "provenance": [],
      "authorship_tag": "ABX9TyNg0DM33E3216o6XYF47rKA",
      "include_colab_link": true
    },
    "kernelspec": {
      "name": "python3",
      "display_name": "Python 3"
    },
    "language_info": {
      "name": "python"
    }
  },
  "cells": [
    {
      "cell_type": "markdown",
      "metadata": {
        "id": "view-in-github",
        "colab_type": "text"
      },
      "source": [
        "<a href=\"https://colab.research.google.com/github/profteachkids/CHE2064/blob/master/CHE2064Syllabus.ipynb\" target=\"_parent\"><img src=\"https://colab.research.google.com/assets/colab-badge.svg\" alt=\"Open In Colab\"/></a>"
      ]
    },
    {
      "cell_type": "markdown",
      "metadata": {
        "id": "PiBxWvul6EEV"
      },
      "source": [
        "**CHE 2064 - Material and Energy Balances**\n",
        "\n",
        "Instructor: Carlos Co<br>\n",
        "email: carloscomail@gmail.com"
      ]
    },
    {
      "cell_type": "markdown",
      "metadata": {
        "id": "dQGhiM_o6477"
      },
      "source": [
        "##Topics\n",
        "\n",
        "This is a rigorous first course in Chemical Engineering that prepares you for a first coop job with knowledge of:<br>\n",
        "1. Data analysis - linear/non-linear regression<br>\n",
        "2. Material balances<br>\n",
        "3. Energy balances - open/closed systems<br>\n",
        "4. Thermodynamics<br>\n",
        "   a. Clausius Clapeyron/Antoine models for vapor pressure<br>\n",
        "   b. PVT Phase Diagrams<br>\n",
        "   c. 1st/2nd Law - Derivation of Carnot Cycle and Entropy<br>\n",
        "   d. Phase Equilibrium - Chemical Potential / Raoult's Law<br>\n",
        "   e. Gibbs Phase Rule<br>\n",
        "5. Reactions<br>\n",
        "   a.  Arrhenius Equation<br>\n",
        "   b.  Extent of Reaction / Sequential Reactions<br>\n",
        "   c.  Continuous Stirred Tank Reactors<br>\n",
        "   d.  Adiabatic Flame Temperature<br>\n"
      ]
    },
    {
      "cell_type": "markdown",
      "metadata": {
        "id": "AMk2GUql-iaR"
      },
      "source": [
        "##Computational Emphasis\n",
        "\n",
        "WHAT IF?  Is a question an engineer should never stop asking.  Any calculation worth doing once in a real engineering situation, is inevitably repeated over and over again for different conditions.  Coding to automate calculations is therefore one of the most valuable engineering skills.  We will use Python intensively in this class using Google's Colaboratory Jupyter Notebook environment.  It is highly recommended for you to go through the following free online texts to brush up on your Python skills BEFORE our first class:\n",
        "\n",
        "https://jakevdp.github.io/WhirlwindTourOfPython/\n",
        "\n",
        "https://jakevdp.github.io/PythonDataScienceHandbook/\n",
        "\n",
        "https://colab.research.google.com/notebooks/intro.ipynb\n",
        "\n",
        "https://plotly.com/python/plotly-fundamentals/\n",
        "\n",
        "https://numpy.org/doc/stable/user/quickstart.html"
      ]
    },
    {
      "cell_type": "markdown",
      "metadata": {
        "id": "uCG99BF0_DOB"
      },
      "source": [
        "##Grading\n",
        "\n",
        "In the real world, there are no 2 hour exams.  While there are deadlines, no boss will prevent you from working extra at night or weekends on a project.  Success as an engineer comes from persistent attention to detail, hard work, desire to learn, and communication skills.\n",
        "\n",
        "Grading in this course will try to reflect this reality as closely as possible.  There will be 5 homework problems that will involve submission of Youtube videos where you present (without looking at notes) solution to problems and write Python code (live) to complete the calculations.<br>\n",
        "\n",
        "  HW1: Data/Model Regression - VLE Antoine Equation<br>\n",
        "  HW2: Water/Air Closed System<br>\n",
        "  HW3: 1st & 2nd Law of Thermodynamics - Carnot Cycle<br>\n",
        "  HW4: Raoult's Law - Bubble & Dew Temperatures/Pressures<br>\n",
        "  HW5: Adiabatic Flame Temperature<br>\n",
        "\n",
        "You will have approximately 2 weeks to complete each of these multipart videos submitted as YouTube playlists that would average between 30 to 45 minutes long.  Do note that because you are presenting on camera and not allowed to look at notes while you present and write the code, it will take many attempts to make a video worthy of submission.  Make your first recording attempt no later than the 3rd day after the HW is assigned.  It will be much harder than you think - do not procrastinate.\n"
      ]
    },
    {
      "cell_type": "code",
      "metadata": {
        "id": "TB_LPbVeCNyF"
      },
      "source": [
        ""
      ],
      "execution_count": null,
      "outputs": []
    }
  ]
}