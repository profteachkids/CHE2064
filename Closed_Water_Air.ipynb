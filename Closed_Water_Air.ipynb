{
  "nbformat": 4,
  "nbformat_minor": 0,
  "metadata": {
    "kernelspec": {
      "display_name": "Python 3",
      "language": "python",
      "name": "python3"
    },
    "language_info": {
      "codemirror_mode": {
        "name": "ipython",
        "version": 2
      },
      "file_extension": ".py",
      "mimetype": "text/x-python",
      "name": "python",
      "nbconvert_exporter": "python",
      "pygments_lexer": "ipython2",
      "version": "2.7.6"
    },
    "colab": {
      "name": "Closed_Water_Air.ipynb",
      "provenance": [],
      "include_colab_link": true
    }
  },
  "cells": [
    {
      "cell_type": "markdown",
      "metadata": {
        "id": "view-in-github",
        "colab_type": "text"
      },
      "source": [
        "<a href=\"https://colab.research.google.com/github/profteachkids/CHE2064/blob/master/Closed_Water_Air.ipynb\" target=\"_parent\"><img src=\"https://colab.research.google.com/assets/colab-badge.svg\" alt=\"Open In Colab\"/></a>"
      ]
    },
    {
      "cell_type": "code",
      "metadata": {
        "id": "uYKuicDOlK0d",
        "colab_type": "code",
        "colab": {}
      },
      "source": [
        "!git clone --depth 1 https://github.com/profteachkids/CHE2064.git &> /dev/null\n",
        "!pip install DotMap &> /dev/null\n",
        "import sys\n",
        "sys.path.insert(1, \"/content/CHE2064\") #Path to CHE module imports"
      ],
      "execution_count": 34,
      "outputs": []
    },
    {
      "cell_type": "code",
      "metadata": {
        "pycharm": {
          "name": "#%%\n"
        },
        "id": "T-o9JMyd0K2V",
        "colab_type": "code",
        "colab": {}
      },
      "source": [
        "from dotmap import DotMap\n",
        "import pandas as pd\n",
        "import jax\n",
        "from jax.lax import stop_gradient\n",
        "import jax.numpy as jnp\n",
        "from jax.config import config\n",
        "config.update(\"jax_enable_x64\", True) #JAX default is 32bit single precision\n",
        "from tools.tree_array_transform import VSC, Comp, Range\n",
        "import tools.che as che\n",
        "R=8.314 # J/(mol K)"
      ],
      "execution_count": 35,
      "outputs": []
    },
    {
      "cell_type": "code",
      "metadata": {
        "pycharm": {
          "name": "#%%\n"
        },
        "id": "YWnv7703g00z",
        "colab_type": "code",
        "colab": {}
      },
      "source": [
        "p = che.Props(['Nitrogen','Oxygen', 'Argon', 'Water'])"
      ],
      "execution_count": 36,
      "outputs": []
    },
    {
      "cell_type": "code",
      "metadata": {
        "pycharm": {
          "name": "#%%\n"
        },
        "id": "Wjacie-aul0U",
        "colab_type": "code",
        "colab": {}
      },
      "source": [
        "def model(c,r):\n",
        "    # c: combination of adjustable variables and static state parameters\n",
        "    # r: DotMap - store intermediate results for reporting\n",
        "    r.Pw = p.Pvap(c.T)[3]\n",
        "    r.P = c.air_n * R * c.T / c.V_vap + r.Pw\n",
        "    return (c.P_f, r.P)\n",
        "\n",
        "c=DotMap()\n",
        "c.W_tot = 1. # 1 kg\n",
        "c.V_tot = 0.01 # 10 Liters\n",
        "c.P_i = 1e5 # Pa air pressure\n",
        "c.P_f = 2e5 # Pa final pressure\n",
        "c.T_i = 298.\n",
        "\n",
        "c.Vw_i = c.W_tot/p.rhol(c.T_i)[3]\n",
        "c.V_vap = c.V_tot - c.Vw_i # Approximation - water in the vapor phase is negligible\n",
        "c.air_n = c.P_i * c.V_vap / (R * c.T_i)\n",
        "\n",
        "c.T = Range(360,300,600)"
      ],
      "execution_count": 37,
      "outputs": []
    },
    {
      "cell_type": "code",
      "metadata": {
        "pycharm": {
          "name": "#%%\n"
        },
        "id": "HigobUA-0K2h",
        "colab_type": "code",
        "colab": {
          "base_uri": "https://localhost:8080/",
          "height": 286
        },
        "outputId": "abad261e-2e19-4689-b52d-7d9e23d37d81"
      },
      "source": [
        "# transform our model into one that takes a single array of adjustable variables\n",
        "# for minimization.  Unnecessary for this simple model with just 1 variable, \n",
        "# but very helpful for more complex problems later.\n",
        "vsc=VSC(c,model)\n",
        "vsc.solve()"
      ],
      "execution_count": 38,
      "outputs": [
        {
          "output_type": "stream",
          "text": [
            "0.001973574785335787\n",
            "0.0006606517658790154\n",
            "0.0006606517658790154\n",
            "1.5272366214780464e-05\n",
            "1.5272366214780464e-05\n",
            "1.5272366214780464e-05\n",
            "1.213645372823828e-08\n",
            "1.213645372823828e-08\n",
            "1.213645372823828e-08\n",
            "6.020159869574761e-14\n",
            "6.020159869574761e-14\n",
            "6.020159869574761e-14\n",
            "6.020159869574761e-14\n",
            "6.020159869574761e-14\n",
            "6.409037068602645e-20\n"
          ],
          "name": "stdout"
        }
      ]
    },
    {
      "cell_type": "code",
      "metadata": {
        "pycharm": {
          "name": "#%%\n"
        },
        "id": "IGnN0h9Vo-ZF",
        "colab_type": "code",
        "colab": {
          "base_uri": "https://localhost:8080/",
          "height": 130
        },
        "outputId": "a91aaff7-5b09-4b2d-ec76-565b98d2bc9f"
      },
      "source": [
        "# Dataframe of adjustable variables\n",
        "vsc.vdf"
      ],
      "execution_count": 39,
      "outputs": [
        {
          "output_type": "execute_result",
          "data": {
            "text/html": [
              "<div>\n",
              "<style scoped>\n",
              "    .dataframe tbody tr th:only-of-type {\n",
              "        vertical-align: middle;\n",
              "    }\n",
              "\n",
              "    .dataframe tbody tr th {\n",
              "        vertical-align: top;\n",
              "    }\n",
              "\n",
              "    .dataframe thead tr th {\n",
              "        text-align: left;\n",
              "    }\n",
              "</style>\n",
              "<table border=\"1\" class=\"dataframe\">\n",
              "  <thead>\n",
              "    <tr>\n",
              "      <th></th>\n",
              "      <th>vector1</th>\n",
              "    </tr>\n",
              "    <tr>\n",
              "      <th></th>\n",
              "      <th>1</th>\n",
              "    </tr>\n",
              "  </thead>\n",
              "  <tbody>\n",
              "    <tr>\n",
              "      <th>T</th>\n",
              "      <td>365.719235</td>\n",
              "    </tr>\n",
              "  </tbody>\n",
              "</table>\n",
              "</div>"
            ],
            "text/plain": [
              "      vector1\n",
              "            1\n",
              "T  365.719235"
            ]
          },
          "metadata": {
            "tags": []
          },
          "execution_count": 39
        }
      ]
    },
    {
      "cell_type": "code",
      "metadata": {
        "pycharm": {
          "name": "#%%\n"
        },
        "id": "2b9tj5txo-ZI",
        "colab_type": "code",
        "colab": {
          "base_uri": "https://localhost:8080/",
          "height": 160
        },
        "outputId": "dae75170-9ce4-40a8-9232-26fdc299c554"
      },
      "source": [
        "# Dataframe of intermediate results\n",
        "vsc.rdf"
      ],
      "execution_count": 40,
      "outputs": [
        {
          "output_type": "execute_result",
          "data": {
            "text/html": [
              "<div>\n",
              "<style scoped>\n",
              "    .dataframe tbody tr th:only-of-type {\n",
              "        vertical-align: middle;\n",
              "    }\n",
              "\n",
              "    .dataframe tbody tr th {\n",
              "        vertical-align: top;\n",
              "    }\n",
              "\n",
              "    .dataframe thead tr th {\n",
              "        text-align: left;\n",
              "    }\n",
              "</style>\n",
              "<table border=\"1\" class=\"dataframe\">\n",
              "  <thead>\n",
              "    <tr>\n",
              "      <th></th>\n",
              "      <th>vector1</th>\n",
              "    </tr>\n",
              "    <tr>\n",
              "      <th></th>\n",
              "      <th>1</th>\n",
              "    </tr>\n",
              "  </thead>\n",
              "  <tbody>\n",
              "    <tr>\n",
              "      <th>Pw</th>\n",
              "      <td>77275.424480</td>\n",
              "    </tr>\n",
              "    <tr>\n",
              "      <th>P</th>\n",
              "      <td>200000.000101</td>\n",
              "    </tr>\n",
              "  </tbody>\n",
              "</table>\n",
              "</div>"
            ],
            "text/plain": [
              "          vector1\n",
              "                1\n",
              "Pw   77275.424480\n",
              "P   200000.000101"
            ]
          },
          "metadata": {
            "tags": []
          },
          "execution_count": 40
        }
      ]
    },
    {
      "cell_type": "code",
      "metadata": {
        "pycharm": {
          "name": "#%%\n"
        },
        "id": "eiRaI1-Lo-ZO",
        "colab_type": "code",
        "colab": {
          "base_uri": "https://localhost:8080/",
          "height": 343
        },
        "outputId": "569b5a00-94f4-4be6-9a28-131c41de8cbb"
      },
      "source": [
        "# Dataframe of static state parameters\n",
        "vsc.sdf"
      ],
      "execution_count": 41,
      "outputs": [
        {
          "output_type": "execute_result",
          "data": {
            "text/html": [
              "<div>\n",
              "<style scoped>\n",
              "    .dataframe tbody tr th:only-of-type {\n",
              "        vertical-align: middle;\n",
              "    }\n",
              "\n",
              "    .dataframe tbody tr th {\n",
              "        vertical-align: top;\n",
              "    }\n",
              "\n",
              "    .dataframe thead tr th {\n",
              "        text-align: left;\n",
              "    }\n",
              "</style>\n",
              "<table border=\"1\" class=\"dataframe\">\n",
              "  <thead>\n",
              "    <tr>\n",
              "      <th></th>\n",
              "      <th>vector1</th>\n",
              "    </tr>\n",
              "    <tr>\n",
              "      <th></th>\n",
              "      <th>1</th>\n",
              "    </tr>\n",
              "  </thead>\n",
              "  <tbody>\n",
              "    <tr>\n",
              "      <th>T_i</th>\n",
              "      <td>298.000000</td>\n",
              "    </tr>\n",
              "    <tr>\n",
              "      <th>P_f</th>\n",
              "      <td>200000.000000</td>\n",
              "    </tr>\n",
              "    <tr>\n",
              "      <th>V_vap</th>\n",
              "      <td>0.008995</td>\n",
              "    </tr>\n",
              "    <tr>\n",
              "      <th>V_tot</th>\n",
              "      <td>0.010000</td>\n",
              "    </tr>\n",
              "    <tr>\n",
              "      <th>W_tot</th>\n",
              "      <td>1.000000</td>\n",
              "    </tr>\n",
              "    <tr>\n",
              "      <th>air_n</th>\n",
              "      <td>0.363057</td>\n",
              "    </tr>\n",
              "    <tr>\n",
              "      <th>Vw_i</th>\n",
              "      <td>0.001005</td>\n",
              "    </tr>\n",
              "    <tr>\n",
              "      <th>P_i</th>\n",
              "      <td>100000.000000</td>\n",
              "    </tr>\n",
              "  </tbody>\n",
              "</table>\n",
              "</div>"
            ],
            "text/plain": [
              "             vector1\n",
              "                   1\n",
              "T_i       298.000000\n",
              "P_f    200000.000000\n",
              "V_vap       0.008995\n",
              "V_tot       0.010000\n",
              "W_tot       1.000000\n",
              "air_n       0.363057\n",
              "Vw_i        0.001005\n",
              "P_i    100000.000000"
            ]
          },
          "metadata": {
            "tags": []
          },
          "execution_count": 41
        }
      ]
    },
    {
      "cell_type": "code",
      "metadata": {
        "id": "eNOiONqXr698",
        "colab_type": "code",
        "colab": {
          "base_uri": "https://localhost:8080/",
          "height": 120
        },
        "outputId": "023df4c6-d4f0-46ee-b0e2-a12881099a5d"
      },
      "source": [
        "# Raw values available as DotMaps\n",
        "print(vsc.r) # intermediate results\n",
        "print(vsc.v) # solution\n",
        "\n",
        "#specific values\n",
        "print(f'Temperature to achieve desired pressure: {vsc.v.T}')\n",
        "print(f'Vapor pressure of water: {vsc.r.Pw}')\n",
        "print(f'Volume of vapor phase: {vsc.r.V_vap}')"
      ],
      "execution_count": 42,
      "outputs": [
        {
          "output_type": "stream",
          "text": [
            "DotMap(Pw=DeviceArray(77275.42448034, dtype=float64), P=DeviceArray([200000.00010126], dtype=float64))\n",
            "DotMap(T=DeviceArray([365.71923535], dtype=float64))\n",
            "Temperature to achieve desired pressure: [365.71923535]\n",
            "Vapor pressure of water: 77275.4244803356\n",
            "Volume of vapor phase: DotMap()\n"
          ],
          "name": "stdout"
        }
      ]
    },
    {
      "cell_type": "code",
      "metadata": {
        "pycharm": {
          "name": "#%%\n"
        },
        "id": "MaAySxSg0K2o",
        "colab_type": "code",
        "colab": {}
      },
      "source": [
        "# Set desired final pressure and moves of water in vapor phase\n",
        "# Adjustable variables: final temperature and total container volume\n",
        "def model2(c,r):\n",
        "    r.Pw = p.Pvap(c.T)[3]\n",
        "    r.V_vap = c.V_tot - c.Vw_i # Approximation - water in the vapor phase is negligible\n",
        "    r.air_n = c.P_i * r.V_vap / (R * c.T_i)\n",
        "\n",
        "    r.W_n_vap = r.Pw * r.V_vap / (R * c.T) \n",
        "    r.P = r.air_n  * R * c.T / r.V_vap + r.Pw\n",
        "\n",
        "    # tuples from left and right side of equations\n",
        "    P_constraint = (c.P_f, r.P)\n",
        "    W_n_constraint = (r.W_n_vap, c.W_n_vap_desired)\n",
        "    return (P_constraint, W_n_constraint)"
      ],
      "execution_count": 47,
      "outputs": []
    },
    {
      "cell_type": "code",
      "metadata": {
        "pycharm": {
          "name": "#%%\n"
        },
        "id": "Zfm8jxfY0K2s",
        "colab_type": "code",
        "colab": {}
      },
      "source": [
        "c=DotMap()\n",
        "c.W_tot = 1. # 1 kg\n",
        "c.V_tot = 0.01 # 10 Liters\n",
        "c.P_i = 1e5 # Pa air pressure\n",
        "c.P_f = 2e5 # Pa final pressure\n",
        "c.T_i = 298.\n",
        "c.W_n_vap_desired = 0.3\n",
        "\n",
        "c.Vw_i = c.W_tot/p.rhol(c.T_i)[3]\n",
        "c.T = Range(350, 300, 400) #final temperature\n",
        "c.V_tot = Range(0.015, 0., 0.03) # total container volume\n",
        "\n",
        "vsc=VSC(c,model2)\n",
        "vsc.solve(verbosity=0)"
      ],
      "execution_count": 48,
      "outputs": []
    },
    {
      "cell_type": "code",
      "metadata": {
        "pycharm": {
          "name": "#%%\n"
        },
        "id": "8wqWHVc30K2v",
        "colab_type": "code",
        "colab": {
          "base_uri": "https://localhost:8080/",
          "height": 160
        },
        "outputId": "20571a23-bacc-4d22-9ca3-e729de5fc001"
      },
      "source": [
        "vsc.vdf"
      ],
      "execution_count": 49,
      "outputs": [
        {
          "output_type": "execute_result",
          "data": {
            "text/html": [
              "<div>\n",
              "<style scoped>\n",
              "    .dataframe tbody tr th:only-of-type {\n",
              "        vertical-align: middle;\n",
              "    }\n",
              "\n",
              "    .dataframe tbody tr th {\n",
              "        vertical-align: top;\n",
              "    }\n",
              "\n",
              "    .dataframe thead tr th {\n",
              "        text-align: left;\n",
              "    }\n",
              "</style>\n",
              "<table border=\"1\" class=\"dataframe\">\n",
              "  <thead>\n",
              "    <tr>\n",
              "      <th></th>\n",
              "      <th>vector1</th>\n",
              "    </tr>\n",
              "    <tr>\n",
              "      <th></th>\n",
              "      <th>1</th>\n",
              "    </tr>\n",
              "  </thead>\n",
              "  <tbody>\n",
              "    <tr>\n",
              "      <th>T</th>\n",
              "      <td>365.719235</td>\n",
              "    </tr>\n",
              "    <tr>\n",
              "      <th>V_tot</th>\n",
              "      <td>0.012809</td>\n",
              "    </tr>\n",
              "  </tbody>\n",
              "</table>\n",
              "</div>"
            ],
            "text/plain": [
              "          vector1\n",
              "                1\n",
              "T      365.719235\n",
              "V_tot    0.012809"
            ]
          },
          "metadata": {
            "tags": []
          },
          "execution_count": 49
        }
      ]
    },
    {
      "cell_type": "code",
      "metadata": {
        "pycharm": {
          "name": "#%%\n"
        },
        "id": "YvmCAQtPo-Zb",
        "colab_type": "code",
        "colab": {
          "base_uri": "https://localhost:8080/",
          "height": 252
        },
        "outputId": "980718df-290f-49d4-b084-9cb7216000cd"
      },
      "source": [
        "vsc.rdf\n"
      ],
      "execution_count": 50,
      "outputs": [
        {
          "output_type": "execute_result",
          "data": {
            "text/html": [
              "<div>\n",
              "<style scoped>\n",
              "    .dataframe tbody tr th:only-of-type {\n",
              "        vertical-align: middle;\n",
              "    }\n",
              "\n",
              "    .dataframe tbody tr th {\n",
              "        vertical-align: top;\n",
              "    }\n",
              "\n",
              "    .dataframe thead tr th {\n",
              "        text-align: left;\n",
              "    }\n",
              "</style>\n",
              "<table border=\"1\" class=\"dataframe\">\n",
              "  <thead>\n",
              "    <tr>\n",
              "      <th></th>\n",
              "      <th>vector1</th>\n",
              "    </tr>\n",
              "    <tr>\n",
              "      <th></th>\n",
              "      <th>1</th>\n",
              "    </tr>\n",
              "  </thead>\n",
              "  <tbody>\n",
              "    <tr>\n",
              "      <th>Pw</th>\n",
              "      <td>77275.424383</td>\n",
              "    </tr>\n",
              "    <tr>\n",
              "      <th>V_vap</th>\n",
              "      <td>0.011804</td>\n",
              "    </tr>\n",
              "    <tr>\n",
              "      <th>air_n</th>\n",
              "      <td>0.476443</td>\n",
              "    </tr>\n",
              "    <tr>\n",
              "      <th>W_n_vap</th>\n",
              "      <td>0.300000</td>\n",
              "    </tr>\n",
              "    <tr>\n",
              "      <th>P</th>\n",
              "      <td>199999.999993</td>\n",
              "    </tr>\n",
              "  </tbody>\n",
              "</table>\n",
              "</div>"
            ],
            "text/plain": [
              "               vector1\n",
              "                     1\n",
              "Pw        77275.424383\n",
              "V_vap         0.011804\n",
              "air_n         0.476443\n",
              "W_n_vap       0.300000\n",
              "P        199999.999993"
            ]
          },
          "metadata": {
            "tags": []
          },
          "execution_count": 50
        }
      ]
    },
    {
      "cell_type": "code",
      "metadata": {
        "pycharm": {
          "name": "#%%\n"
        },
        "id": "Ifo8H6SskFhC",
        "colab_type": "code",
        "colab": {}
      },
      "source": [
        "# The reduction in liquid volume of water due to evaporation is negligibly small\n",
        "# usually.  Moles of water lost in vapor phase is set as an adjustable variable\n",
        "# then constrained to be equal to that calculated from its vapor pressure and \n",
        "# volume of the vapor phase.\n",
        "\n",
        "def model3(c, r):\n",
        "    Pw = p.Pvap(c.T)[3]\n",
        "    # volume of liquid water lost as water vapor ignored in model1\n",
        "    # evaluate the density of water at T, but do not propagate gradients through.\n",
        "    r.v_w_vap = c.W_n_vap*p.Mw[3]/1000/p.rhol(stop_gradient(c.T))[3]\n",
        "    r.V_vap = c.V_tot - (c.Vw_i - r.v_w_vap)\n",
        "    r.air_n = c.P_i * r.V_vap / (R * c.T_i)\n",
        "    r.W_n_vap = Pw * r.V_vap / (R * c.T)\n",
        "    P = (r.air_n + r.W_n_vap) * R * c.T / r.V_vap\n",
        "    P_constraint = (c.P_f, P)\n",
        "    W_constraint = (c.W_n_vap, r.W_n_vap)\n",
        "    return (P_constraint,W_constraint)"
      ],
      "execution_count": 53,
      "outputs": []
    },
    {
      "cell_type": "code",
      "metadata": {
        "pycharm": {
          "name": "#%%\n"
        },
        "id": "mrZwRd50kFhF",
        "colab_type": "code",
        "colab": {}
      },
      "source": [
        "c=DotMap()\n",
        "c.W_tot = 1. # 1 kg\n",
        "c.V_tot = 0.01 # 10 Liters\n",
        "c.P_i = 1e5 # Pa air pressure\n",
        "c.P_f = 2e5 # Pa final pressure\n",
        "c.T_i = 298.\n",
        "c.Vw_i = c.W_tot/p.rhol(c.T_i)[3]\n",
        "\n",
        "c.T = Range(350., 300., 400.)\n",
        "c.W_n_vap = Range(1., 0., 2.) # moles of water vapor\n",
        "\n",
        "vsc=VSC(c,model3)\n",
        "vsc.solve(verbosity=0)"
      ],
      "execution_count": 54,
      "outputs": []
    },
    {
      "cell_type": "code",
      "metadata": {
        "id": "e4WxV4C0o4Nx",
        "colab_type": "code",
        "colab": {
          "base_uri": "https://localhost:8080/",
          "height": 221
        },
        "outputId": "9b4b494b-d384-4829-b5cb-7b03e1a32c7f"
      },
      "source": [
        "vsc.rdf"
      ],
      "execution_count": 55,
      "outputs": [
        {
          "output_type": "execute_result",
          "data": {
            "text/html": [
              "<div>\n",
              "<style scoped>\n",
              "    .dataframe tbody tr th:only-of-type {\n",
              "        vertical-align: middle;\n",
              "    }\n",
              "\n",
              "    .dataframe tbody tr th {\n",
              "        vertical-align: top;\n",
              "    }\n",
              "\n",
              "    .dataframe thead tr th {\n",
              "        text-align: left;\n",
              "    }\n",
              "</style>\n",
              "<table border=\"1\" class=\"dataframe\">\n",
              "  <thead>\n",
              "    <tr>\n",
              "      <th></th>\n",
              "      <th>vector1</th>\n",
              "    </tr>\n",
              "    <tr>\n",
              "      <th></th>\n",
              "      <th>1</th>\n",
              "    </tr>\n",
              "  </thead>\n",
              "  <tbody>\n",
              "    <tr>\n",
              "      <th>v_w_vap</th>\n",
              "      <td>0.000004</td>\n",
              "    </tr>\n",
              "    <tr>\n",
              "      <th>V_vap</th>\n",
              "      <td>0.008999</td>\n",
              "    </tr>\n",
              "    <tr>\n",
              "      <th>air_n</th>\n",
              "      <td>0.363228</td>\n",
              "    </tr>\n",
              "    <tr>\n",
              "      <th>W_n_vap</th>\n",
              "      <td>0.228712</td>\n",
              "    </tr>\n",
              "  </tbody>\n",
              "</table>\n",
              "</div>"
            ],
            "text/plain": [
              "          vector1\n",
              "                1\n",
              "v_w_vap  0.000004\n",
              "V_vap    0.008999\n",
              "air_n    0.363228\n",
              "W_n_vap  0.228712"
            ]
          },
          "metadata": {
            "tags": []
          },
          "execution_count": 55
        }
      ]
    },
    {
      "cell_type": "code",
      "metadata": {
        "pycharm": {
          "name": "#%%\n"
        },
        "id": "0GzogvxfkFhQ",
        "colab_type": "code",
        "colab": {
          "base_uri": "https://localhost:8080/",
          "height": 160
        },
        "outputId": "70137ce8-a6a9-4ab0-edc2-8ee1a70cb334"
      },
      "source": [
        "vsc.vdf"
      ],
      "execution_count": 56,
      "outputs": [
        {
          "output_type": "execute_result",
          "data": {
            "text/html": [
              "<div>\n",
              "<style scoped>\n",
              "    .dataframe tbody tr th:only-of-type {\n",
              "        vertical-align: middle;\n",
              "    }\n",
              "\n",
              "    .dataframe tbody tr th {\n",
              "        vertical-align: top;\n",
              "    }\n",
              "\n",
              "    .dataframe thead tr th {\n",
              "        text-align: left;\n",
              "    }\n",
              "</style>\n",
              "<table border=\"1\" class=\"dataframe\">\n",
              "  <thead>\n",
              "    <tr>\n",
              "      <th></th>\n",
              "      <th>vector1</th>\n",
              "    </tr>\n",
              "    <tr>\n",
              "      <th></th>\n",
              "      <th>1</th>\n",
              "    </tr>\n",
              "  </thead>\n",
              "  <tbody>\n",
              "    <tr>\n",
              "      <th>T</th>\n",
              "      <td>365.719235</td>\n",
              "    </tr>\n",
              "    <tr>\n",
              "      <th>W_n_vap</th>\n",
              "      <td>0.228712</td>\n",
              "    </tr>\n",
              "  </tbody>\n",
              "</table>\n",
              "</div>"
            ],
            "text/plain": [
              "            vector1\n",
              "                  1\n",
              "T        365.719235\n",
              "W_n_vap    0.228712"
            ]
          },
          "metadata": {
            "tags": []
          },
          "execution_count": 56
        }
      ]
    },
    {
      "cell_type": "code",
      "metadata": {
        "id": "JPDbY1r_uw46",
        "colab_type": "code",
        "colab": {
          "base_uri": "https://localhost:8080/",
          "height": 71
        },
        "outputId": "4d9ee87b-5f7e-475a-d84e-ad47646d082a"
      },
      "source": [
        "# How does this affect the average molecular weight of the vapor phase?\n",
        "print(f'MW of pure air: {jnp.sum(p.Mw[:3] * jnp.array([0.78, 0.21, 0.01]))}')\n",
        "\n",
        "mass_air = jnp.sum(p.Mw[:3] * jnp.array([0.78, 0.21, 0.01]) * vsc.r.air_n)\n",
        "mass_water_vapor = p.Mw[3] * vsc.r.W_n_vap\n",
        "avg_MW = (mass_air+ mass_water_vapor)/(vsc.r.air_n + vsc.r.W_n_vap)\n",
        "print(f'MW of air/water vapor phase: {avg_MW}')\n",
        "# water vapor is lighter than air!"
      ],
      "execution_count": 60,
      "outputs": [
        {
          "output_type": "stream",
          "text": [
            "MW of pure air: 28.97019\n",
            "MW of air/water vapor phase: [24.73735522]\n"
          ],
          "name": "stdout"
        }
      ]
    },
    {
      "cell_type": "code",
      "metadata": {
        "id": "WSux5U76wZsd",
        "colab_type": "code",
        "colab": {}
      },
      "source": [
        ""
      ],
      "execution_count": null,
      "outputs": []
    }
  ]
}