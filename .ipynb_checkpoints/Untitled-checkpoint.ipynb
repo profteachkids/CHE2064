{
 "cells": [
  {
   "cell_type": "code",
   "execution_count": 1,
   "metadata": {},
   "outputs": [],
   "source": [
    "from selenium import webdriver\n",
    "from selenium.webdriver.common.keys import Keys\n",
    "from lxml import html"
   ]
  },
  {
   "cell_type": "code",
   "execution_count": 78,
   "metadata": {},
   "outputs": [],
   "source": [
    "options = webdriver.ChromeOptions()\n",
    "options.headless=True\n",
    "driver = webdriver.Chrome(options=options)\n",
    "root = 'https://www.nasa.gov'"
   ]
  },
  {
   "cell_type": "code",
   "execution_count": 82,
   "metadata": {},
   "outputs": [],
   "source": [
    "leaves = set()\n",
    "node = set()\n",
    "num_links=10"
   ]
  },
  {
   "cell_type": "code",
   "execution_count": 83,
   "metadata": {},
   "outputs": [],
   "source": [
    "def is_leaf(url='/'):\n",
    "    global num_links\n",
    "    print(f'{num_links} {url})\n",
    "    num_links-=1\n",
    "    if num_links==0:\n",
    "        return True\n",
    "    driver.get(root + url)\n",
    "    tree = html.fromstring(driver.page_source)\n",
    "    links=tree.xpath('//a[starts-with(@href,\"/\") and string-length(@href)>1]/@href')\n",
    "    if len(links)==0:\n",
    "        leaves.add(url)\n",
    "        return True\n",
    "    else:\n",
    "        for link in links:\n",
    "            is_leaf(link)\n",
    "\n"
   ]
  },
  {
   "cell_type": "code",
   "execution_count": null,
   "metadata": {},
   "outputs": [],
   "source": []
  }
 ],
 "metadata": {
  "kernelspec": {
   "display_name": "Python 3",
   "language": "python",
   "name": "python3"
  },
  "language_info": {
   "codemirror_mode": {
    "name": "ipython",
    "version": 3
   },
   "file_extension": ".py",
   "mimetype": "text/x-python",
   "name": "python",
   "nbconvert_exporter": "python",
   "pygments_lexer": "ipython3",
   "version": "3.8.5"
  }
 },
 "nbformat": 4,
 "nbformat_minor": 4
}
