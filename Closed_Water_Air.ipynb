{
 "nbformat": 4,
 "nbformat_minor": 0,
 "metadata": {
  "kernelspec": {
   "display_name": "Python 3",
   "language": "python",
   "name": "python3"
  },
  "language_info": {
   "codemirror_mode": {
    "name": "ipython",
    "version": 2
   },
   "file_extension": ".py",
   "mimetype": "text/x-python",
   "name": "python",
   "nbconvert_exporter": "python",
   "pygments_lexer": "ipython2",
   "version": "2.7.6"
  },
  "colab": {
   "name": "Closed_Water_Air.ipynb",
   "provenance": [],
   "include_colab_link": true
  }
 },
 "cells": [
  {
   "cell_type": "markdown",
   "metadata": {
    "id": "view-in-github",
    "colab_type": "text"
   },
   "source": [
    "<a href=\"https://colab.research.google.com/github/profteachkids/CHE2064/blob/master/Closed_Water_Air.ipynb\" target=\"_parent\"><img src=\"https://colab.research.google.com/assets/colab-badge.svg\" alt=\"Open In Colab\"/></a>"
   ]
  },
  {
   "cell_type": "code",
   "metadata": {
    "id": "cqoR7kaA0RMm",
    "colab_type": "code",
    "colab": {}
   },
   "source": [
    "!git clone --depth 1 https://github.com/profteachkids/CHE2064.git &> /dev/null\n",
    "!pip install DotMap &> /dev/null\n",
    "import sys\n",
    "sys.path.insert(1, \"/content/CHE2064\") #Path to CHE module imports"
   ],
   "execution_count": 1,
   "outputs": []
  },
  {
   "cell_type": "code",
   "metadata": {
    "pycharm": {
     "name": "#%%\n"
    },
    "id": "T-o9JMyd0K2V",
    "colab_type": "code",
    "colab": {}
   },
   "source": [
    "from dotmap import DotMap\n",
    "import pandas as pd\n",
    "import jax\n",
    "import jax.numpy as jnp\n",
    "from jax.config import config\n",
    "config.update(\"jax_enable_x64\", True) #JAX default is 32bit single precision\n",
    "\n",
    "from tools.tree_array_transform import VSC, Comp, Range, todf, report\n",
    "from tools.trust_ncg import minimize\n",
    "import tools.che as che"
   ],
   "execution_count": 2,
   "outputs": []
  },
  {
   "cell_type": "code",
   "metadata": {
    "pycharm": {
     "name": "#%%\n"
    },
    "id": "Wjacie-aul0U",
    "colab_type": "code",
    "colab": {
     "base_uri": "https://localhost:8080/",
     "height": 89
    },
    "outputId": "21e46195-99c2-4445-c95f-6aa1c1dd3e9b"
   },
   "source": [
    "R=8.314 # J/(mol K)\n",
    "p = che.Props(['Nitrogen','Oxygen', 'Argon', 'Water'])\n",
    "\n",
    "def model(c):\n",
    "    Pw = p.Pvap(c.T)[3]\n",
    "    V_vap = c.V_tot - c.Vw_i\n",
    "    W_n_vap = Pw * V_vap / (R * c.T)\n",
    "    P = (c.air_n + W_n_vap) * R * c.T / V_vap\n",
    "    return (s.P_f - P)**2\n",
    "\n",
    "s=DotMap()\n",
    "s.air_y = jnp.array([0.78, 0.21, 0.01])\n",
    "s.W_tot = 1. # 1 kg\n",
    "s.V_tot = 0.01 # 10 Liters\n",
    "s.P_i = 1e5 # Pa air pressure\n",
    "s.P_f = 2e5 # Pa final pressure\n",
    "s.q = 2000. # watts\n",
    "s.T_i = 298.\n",
    "\n",
    "s.Vw_i = s.W_tot/p.rhol(s.T_i)[3]\n",
    "s.Vair_i = s.V_tot - s.Vw_i\n",
    "s.air_n = s.P_i * s.Vair_i / (R * s.T_i)\n",
    "\n",
    "v=DotMap()\n",
    "v.T = 360\n",
    "\n",
    "\n",
    "vsc=VSC(v,s)\n",
    "model_f = vsc.transform(model)\n",
    "model_f(vsc.x)"
   ],
   "execution_count": 3,
   "outputs": [
    {
     "output_type": "stream",
     "text": [
      "/usr/local/lib/python3.6/dist-packages/jax/lib/xla_bridge.py:130: UserWarning: No GPU/TPU found, falling back to CPU.\n",
      "  warnings.warn('No GPU/TPU found, falling back to CPU.')\n"
     ],
     "name": "stderr"
    },
    {
     "output_type": "execute_result",
     "data": {
      "text/plain": [
       "289480362.3657249"
      ]
     },
     "metadata": {
      "tags": []
     },
     "execution_count": 3
    }
   ]
  },
  {
   "cell_type": "code",
   "metadata": {
    "pycharm": {
     "name": "#%%\n"
    },
    "id": "HigobUA-0K2h",
    "colab_type": "code",
    "colab": {
     "base_uri": "https://localhost:8080/",
     "height": 173
    },
    "outputId": "eb4c0d2a-d2dd-4468-a261-de69c63d406f"
   },
   "source": [
    "modelf = jax.jit(vsc.transform(model))\n",
    "x_min, f = minimize(modelf, vsc.x, verbosity=1)"
   ],
   "execution_count": 4,
   "outputs": [
    {
     "output_type": "stream",
     "text": [
      "0:0, f: 289480362.365714\n",
      "1:0, f: 202592002.86275265\n",
      "2:0, f: 71078468.74842988\n",
      "3:0, f: 1282241.4617060316\n",
      "4:0, f: 263.1243293157101\n",
      "5:0, f: 1.1634839085239364e-05\n",
      "Final results:\n",
      "f: 1.1634839085239364e-05\n",
      "x: [365.71923532]\n"
     ],
     "name": "stdout"
    }
   ]
  },
  {
   "cell_type": "code",
   "metadata": {
    "pycharm": {
     "name": "#%%\n"
    },
    "id": "q2SDOFrQ0K2l",
    "colab_type": "code",
    "colab": {
     "base_uri": "https://localhost:8080/",
     "height": 35
    },
    "outputId": "8515fc72-c655-489c-b361-3faec69d7d7c"
   },
   "source": [
    "v_sol = vsc.xtov(x_min)\n",
    "v_sol.pprint()\n"
   ],
   "execution_count": 5,
   "outputs": [
    {
     "output_type": "stream",
     "text": [
      "{'T': DeviceArray([365.71923532], dtype=float64)}\n"
     ],
     "name": "stdout"
    }
   ]
  },
  {
   "cell_type": "code",
   "metadata": {
    "pycharm": {
     "name": "#%%\n"
    },
    "id": "MaAySxSg0K2o",
    "colab_type": "code",
    "colab": {}
   },
   "source": [
    "def model2(c):\n",
    "    r=DotMap()\n",
    "    Pw = p.Pvap(c.T)[3]\n",
    "    V_vap = c.V_tot - c.Vw_i\n",
    "    r.W_n_vap = Pw * V_vap / (R * c.T)\n",
    "    P = (s.air_n + r.W_n_vap) * R * c.T / V_vap\n",
    "    return ((s.P_f - P)/s.P_f)**2 + (r.W_n_vap - 0.3)**2, r"
   ],
   "execution_count": 6,
   "outputs": []
  },
  {
   "cell_type": "code",
   "metadata": {
    "pycharm": {
     "name": "#%%\n"
    },
    "id": "Zfm8jxfY0K2s",
    "colab_type": "code",
    "colab": {}
   },
   "source": [
    "s=DotMap()\n",
    "s.air_y = jnp.array([0.78, 0.21, 0.01])\n",
    "s.W_tot = 1. # 1 kg\n",
    "s.V_tot = 0.01 # 10 Liters\n",
    "s.P_i = 1e5 # Pa air pressure\n",
    "s.P_f = 2e5 # Pa final pressure\n",
    "s.q = 2000. # watts\n",
    "s.T_i = 298.\n",
    "\n",
    "s.Vw_i = s.W_tot/p.rhol(s.T_i)[3]\n",
    "s.Vair_i = s.V_tot - s.Vw_i\n",
    "s.air_n = s.P_i * s.Vair_i / (R * s.T_i)\n",
    "\n",
    "v=DotMap()\n",
    "v.T = Range(350, 300, 400)\n",
    "v.V_tot = Range(0.015, 0., 0.03)\n",
    "\n",
    "vsc=VSC(v,s)"
   ],
   "execution_count": 7,
   "outputs": []
  },
  {
   "cell_type": "code",
   "metadata": {
    "pycharm": {
     "name": "#%%\n"
    },
    "id": "8wqWHVc30K2v",
    "colab_type": "code",
    "colab": {
     "base_uri": "https://localhost:8080/",
     "height": 121
    },
    "outputId": "e637c233-34bd-4402-d550-1cc1022ef84d"
   },
   "source": [
    "modelf = jax.jit(vsc.transform(model2))\n",
    "x_min, f = minimize(modelf, vsc.x, verbosity=1)"
   ],
   "execution_count": 8,
   "outputs": [
    {
     "output_type": "stream",
     "text": [
      "0:0, f: 0.18134390814615023\n",
      "1:1, f: 1.4140975873725058e-05\n",
      "2:1, f: 6.079588663545894e-10\n",
      "Final results:\n",
      "f: 2.671039550386582e-18\n",
      "x: [ 0.84756637 -0.517435  ]\n"
     ],
     "name": "stdout"
    }
   ]
  },
  {
   "cell_type": "code",
   "metadata": {
    "pycharm": {
     "name": "#%%\n"
    },
    "id": "m1u1Uny_0K20",
    "colab_type": "code",
    "colab": {
     "base_uri": "https://localhost:8080/",
     "height": 52
    },
    "outputId": "b834ff08-7514-4a80-b34e-241d1d5fa8d3"
   },
   "source": [
    "v_sol = vsc.xtov(x_min)\n",
    "v_sol.pprint()\n"
   ],
   "execution_count": 9,
   "outputs": [
    {
     "output_type": "stream",
     "text": [
      "{'T': DeviceArray([370.00563837], dtype=float64),\n",
      " 'V_tot': DeviceArray([0.01120357], dtype=float64)}\n"
     ],
     "name": "stdout"
    }
   ]
  },
  {
   "cell_type": "code",
   "metadata": {
    "pycharm": {
     "name": "#%%\n"
    },
    "id": "_41LfC9m0K23",
    "colab_type": "code",
    "colab": {
     "base_uri": "https://localhost:8080/",
     "height": 110
    },
    "outputId": "f1798b39-78e1-449c-ad04-b42c8eb9c3f8"
   },
   "source": [
    "report(model2, vsc.xtoc(x_min))"
   ],
   "execution_count": 10,
   "outputs": [
    {
     "output_type": "execute_result",
     "data": {
      "text/html": [
       "<div>\n",
       "<style scoped>\n",
       "    .dataframe tbody tr th:only-of-type {\n",
       "        vertical-align: middle;\n",
       "    }\n",
       "\n",
       "    .dataframe tbody tr th {\n",
       "        vertical-align: top;\n",
       "    }\n",
       "\n",
       "    .dataframe thead tr th {\n",
       "        text-align: left;\n",
       "    }\n",
       "</style>\n",
       "<table border=\"1\" class=\"dataframe\">\n",
       "  <thead>\n",
       "    <tr>\n",
       "      <th></th>\n",
       "      <th></th>\n",
       "      <th>vector1</th>\n",
       "    </tr>\n",
       "    <tr>\n",
       "      <th></th>\n",
       "      <th></th>\n",
       "      <th>1</th>\n",
       "    </tr>\n",
       "  </thead>\n",
       "  <tbody>\n",
       "    <tr>\n",
       "      <th>0</th>\n",
       "      <th>W_n_vap</th>\n",
       "      <td>0.3</td>\n",
       "    </tr>\n",
       "  </tbody>\n",
       "</table>\n",
       "</div>"
      ],
      "text/plain": [
       "          vector1\n",
       "                1\n",
       "0 W_n_vap     0.3"
      ]
     },
     "metadata": {
      "tags": []
     },
     "execution_count": 10
    }
   ]
  },
  {
   "cell_type": "code",
   "metadata": {
    "pycharm": {
     "name": "#%%\n"
    },
    "id": "eiRatjj30K26",
    "colab_type": "code",
    "colab": {
     "base_uri": "https://localhost:8080/",
     "height": 405
    },
    "outputId": "ec5940d2-9d7a-4b4f-e4fb-88dd083bfd83"
   },
   "source": [
    "todf(s)"
   ],
   "execution_count": null,
   "outputs": [
    {
     "output_type": "execute_result",
     "data": {
      "text/html": [
       "<div>\n",
       "<style scoped>\n",
       "    .dataframe tbody tr th:only-of-type {\n",
       "        vertical-align: middle;\n",
       "    }\n",
       "\n",
       "    .dataframe tbody tr th {\n",
       "        vertical-align: top;\n",
       "    }\n",
       "\n",
       "    .dataframe thead tr th {\n",
       "        text-align: left;\n",
       "    }\n",
       "</style>\n",
       "<table border=\"1\" class=\"dataframe\">\n",
       "  <thead>\n",
       "    <tr>\n",
       "      <th></th>\n",
       "      <th colspan=\"3\" halign=\"left\">vector3</th>\n",
       "      <th>vector1</th>\n",
       "    </tr>\n",
       "    <tr>\n",
       "      <th></th>\n",
       "      <th>1</th>\n",
       "      <th>2</th>\n",
       "      <th>3</th>\n",
       "      <th>1</th>\n",
       "    </tr>\n",
       "  </thead>\n",
       "  <tbody>\n",
       "    <tr>\n",
       "      <th>air_y</th>\n",
       "      <td>0.78</td>\n",
       "      <td>0.21</td>\n",
       "      <td>0.01</td>\n",
       "      <td></td>\n",
       "    </tr>\n",
       "    <tr>\n",
       "      <th>W_tot</th>\n",
       "      <td></td>\n",
       "      <td></td>\n",
       "      <td></td>\n",
       "      <td>1</td>\n",
       "    </tr>\n",
       "    <tr>\n",
       "      <th>V_tot</th>\n",
       "      <td></td>\n",
       "      <td></td>\n",
       "      <td></td>\n",
       "      <td>0.01</td>\n",
       "    </tr>\n",
       "    <tr>\n",
       "      <th>P_i</th>\n",
       "      <td></td>\n",
       "      <td></td>\n",
       "      <td></td>\n",
       "      <td>100000</td>\n",
       "    </tr>\n",
       "    <tr>\n",
       "      <th>P_f</th>\n",
       "      <td></td>\n",
       "      <td></td>\n",
       "      <td></td>\n",
       "      <td>200000</td>\n",
       "    </tr>\n",
       "    <tr>\n",
       "      <th>q</th>\n",
       "      <td></td>\n",
       "      <td></td>\n",
       "      <td></td>\n",
       "      <td>2000</td>\n",
       "    </tr>\n",
       "    <tr>\n",
       "      <th>T_i</th>\n",
       "      <td></td>\n",
       "      <td></td>\n",
       "      <td></td>\n",
       "      <td>298</td>\n",
       "    </tr>\n",
       "    <tr>\n",
       "      <th>Vw_i</th>\n",
       "      <td></td>\n",
       "      <td></td>\n",
       "      <td></td>\n",
       "      <td>0.00100499</td>\n",
       "    </tr>\n",
       "    <tr>\n",
       "      <th>Vair_i</th>\n",
       "      <td></td>\n",
       "      <td></td>\n",
       "      <td></td>\n",
       "      <td>0.00899501</td>\n",
       "    </tr>\n",
       "    <tr>\n",
       "      <th>air_n</th>\n",
       "      <td>0.283185</td>\n",
       "      <td>0.0762421</td>\n",
       "      <td>0.00363057</td>\n",
       "      <td></td>\n",
       "    </tr>\n",
       "  </tbody>\n",
       "</table>\n",
       "</div>"
      ],
      "text/plain": [
       "         vector3                            vector1\n",
       "               1          2           3           1\n",
       "air_y       0.78       0.21        0.01            \n",
       "W_tot                                             1\n",
       "V_tot                                          0.01\n",
       "P_i                                          100000\n",
       "P_f                                          200000\n",
       "q                                              2000\n",
       "T_i                                             298\n",
       "Vw_i                                     0.00100499\n",
       "Vair_i                                   0.00899501\n",
       "air_n   0.283185  0.0762421  0.00363057            "
      ]
     },
     "metadata": {
      "tags": []
     },
     "execution_count": 11
    }
   ]
  }
 ]
}