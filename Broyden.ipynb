{
  "nbformat": 4,
  "nbformat_minor": 0,
  "metadata": {
    "colab": {
      "name": "Broyden.ipynb",
      "provenance": [],
      "collapsed_sections": [],
      "include_colab_link": true
    },
    "kernelspec": {
      "name": "python3",
      "language": "python",
      "display_name": "Python 3"
    }
  },
  "cells": [
    {
      "cell_type": "markdown",
      "metadata": {
        "id": "view-in-github",
        "colab_type": "text"
      },
      "source": [
        "<a href=\"https://colab.research.google.com/github/profteachkids/CHE2064/blob/master/Broyden.ipynb\" target=\"_parent\"><img src=\"https://colab.research.google.com/assets/colab-badge.svg\" alt=\"Open In Colab\"/></a>"
      ]
    },
    {
      "cell_type": "code",
      "metadata": {
        "id": "HcD9HS7wIBx3"
      },
      "source": [
        "import jax\n",
        "import jax.numpy as jnp\n",
        "from jax.config import config\n",
        "config.update(\"jax_enable_x64\", True)\n",
        "from scipy.optimize import root, minimize, NonlinearConstraint\n",
        "eps=1e-12"
      ],
      "execution_count": 1,
      "outputs": []
    },
    {
      "cell_type": "code",
      "metadata": {
        "id": "Jxxs0w1uIEuo"
      },
      "source": [
        "def func(x):\n",
        "    return jnp.array([jnp.sin(x[0])  + 0.5 * (x[0] - x[1])**3 - 1.0,\n",
        "            0.5 * (x[1] - x[0])**3 + x[1]])"
      ],
      "execution_count": 2,
      "outputs": []
    },
    {
      "cell_type": "code",
      "metadata": {
        "id": "nrbhifr7IUPG",
        "outputId": "ef536fec-4ec6-4609-9bda-e6620d653f46",
        "colab": {
          "base_uri": "https://localhost:8080/"
        }
      },
      "source": [
        "# Broyden update with no Sherman-Morrison\n",
        "x = jnp.zeros(2)\n",
        "J = jax.jacobian(func)(x)\n",
        "\n",
        "f = func(x)\n",
        "\n",
        "for i in range(20):\n",
        "  xp = jnp.linalg.solve(J, -f) + x\n",
        "  dx = xp - x\n",
        "  fp = func(xp)\n",
        "  f= fp\n",
        "  x= xp\n",
        "  print(x,fp)\n",
        "  if jnp.linalg.norm(fp) < 1e-12:\n",
        "    break\n",
        "\n",
        "  J = J + jnp.outer(fp,dx)/jnp.linalg.norm(dx)**2"
      ],
      "execution_count": 3,
      "outputs": [
        {
          "output_type": "stream",
          "text": [
            "WARNING:absl:No GPU/TPU found, falling back to CPU. (Set TF_CPP_MIN_LOG_LEVEL=0 and rerun for more info.)\n"
          ],
          "name": "stderr"
        },
        {
          "output_type": "stream",
          "text": [
            "[1. 0.] [ 0.34147098 -0.5       ]\n",
            "[0.74545034 0.37272517] [-0.29580697  0.34683492]\n",
            "[0.87452582 0.23424262] [-0.10151446  0.10299655]\n",
            "[0.94426608 0.18266999] [ 0.03094058 -0.03820376]\n",
            "[0.92886637 0.19874589] [-0.00445347  0.00414106]\n",
            "[0.931058   0.19761267] [-0.00047246  0.00033713]\n",
            "[0.93134054 0.1975642 ] [-3.66025399e-05  2.14376618e-05]\n",
            "[0.93136529 0.19756394] [-1.63573041e-06  9.88074612e-07]\n",
            "[0.93136644 0.19756391] [ 9.80559234e-09 -5.98158895e-09]\n",
            "[0.93136643 0.19756391] [-1.81729076e-11  1.10534082e-11]\n",
            "[0.93136643 0.19756391] [-1.01030295e-14  6.16173779e-15]\n"
          ],
          "name": "stdout"
        }
      ]
    },
    {
      "cell_type": "code",
      "metadata": {
        "id": "KFpoN_J8Ig-n",
        "outputId": "b524c323-af69-4496-8572-199666c50e5e",
        "colab": {
          "base_uri": "https://localhost:8080/"
        }
      },
      "source": [
        "def broyden(func, x, J=None, max_iter=100, verbose=0):\n",
        "  J = jax.jacobian(func)(x) if J is None else J(x)\n",
        "  Jinv = jnp.linalg.inv(J)\n",
        "  f = func(x)\n",
        "\n",
        "  for i in range(max_iter):\n",
        "    xp = x - Jinv @ f\n",
        "    dx = xp - x\n",
        "    fp = func(xp)\n",
        "    f= fp\n",
        "    x= xp\n",
        "    if verbose>0:\n",
        "      print(x, f)\n",
        "    if jnp.linalg.norm(fp) < 1e-12:\n",
        "      break\n",
        "\n",
        "    u = jnp.expand_dims(fp,1)\n",
        "    v = jnp.expand_dims(dx,1)/jnp.linalg.norm(dx)**2\n",
        "    Jinv = Jinv - Jinv @ u @ v.T @ Jinv / (1 + v.T @ Jinv @ u)  #Sherman-Morrison\n",
        "  return x, f\n",
        "\n",
        "broyden(func, jnp.zeros(2))"
      ],
      "execution_count": 4,
      "outputs": [
        {
          "output_type": "execute_result",
          "data": {
            "text/plain": [
              "(DeviceArray([0.93136643, 0.19756391], dtype=float64),\n",
              " DeviceArray([-1.01030295e-14,  6.16173779e-15], dtype=float64))"
            ]
          },
          "metadata": {
            "tags": []
          },
          "execution_count": 4
        }
      ]
    },
    {
      "cell_type": "code",
      "metadata": {
        "id": "9Swkr2k8d6QQ",
        "outputId": "e8918bb4-460f-4610-b0ca-a7b440341263",
        "colab": {
          "base_uri": "https://localhost:8080/"
        }
      },
      "source": [
        "prng = jax.random.PRNGKey(1234)\n",
        "J = jax.random.uniform(prng, (3,3))\n",
        "f = jax.random.uniform(prng, (3,1))\n",
        "fp = jax.random.uniform(prng, (3,1))\n",
        "dx = jnp.linalg.solve(J,-f)\n",
        "\n",
        "def constraint(x):\n",
        "    Jp = x.reshape((3,3))\n",
        "    return jnp.squeeze(Jp @ dx)\n",
        "\n",
        "nlc = NonlinearConstraint(constraint,jnp.squeeze(fp-f),jnp.squeeze(fp-f), jac=jax.jacobian(constraint))\n",
        "\n",
        "def func(x):\n",
        "  Jp = x.reshape((3,3))\n",
        "  return jnp.linalg.norm(Jp-J)\n",
        "\n",
        "res = minimize(func, jnp.zeros(9), method='SLSQP', jac=jax.jacobian(func), constraints=(nlc))\n",
        "print(res.x.reshape((3,3))) #via constrained minimization\n",
        "print(J + fp@dx.T/jnp.linalg.norm(dx)**2) #via Broyden update"
      ],
      "execution_count": 5,
      "outputs": [
        {
          "output_type": "stream",
          "text": [
            "[[0.81624494 0.71880643 0.15777668]\n",
            " [0.22143383 0.01955389 0.22160245]\n",
            " [0.7486602  0.24306155 0.56889726]]\n",
            "[[0.8163133  0.71886663 0.15778989]\n",
            " [0.22145238 0.01955553 0.221621  ]\n",
            " [0.7487229  0.24308191 0.56894491]]\n"
          ],
          "name": "stdout"
        }
      ]
    },
    {
      "cell_type": "code",
      "metadata": {
        "id": "1VODH9UX1Rkr"
      },
      "source": [
        "# Accomodate box bounds on variables\n",
        "\n",
        "def broyden2(func, x, J=None, max_iter=100, verbose=0, xmax=jnp.inf, xmin=-jnp.inf):\n",
        "  Jf = jax.jacobian(func) if J is None else J\n",
        "  J = Jf(x)\n",
        "  Jinv = jnp.linalg.inv(J)\n",
        "  f = func(x)\n",
        "\n",
        "  for i in range(max_iter):\n",
        "    dx = - Jinv @ f\n",
        "\n",
        "    alpha_max_limits = jnp.min(jnp.where(x + dx > xmax, (xmax - x) / (dx), 1))\n",
        "    alpha_min_limits = jnp.min(jnp.where(x + dx < xmin, (xmin - x) / (dx), 1))\n",
        "    alpha = min(alpha_max_limits, alpha_min_limits)\n",
        "\n",
        "    print(alpha)\n",
        "    dx = alpha*dx\n",
        "    xp = x + dx\n",
        "    fp = func(xp)\n",
        "    f= fp\n",
        "    x= xp\n",
        "    if verbose>0:\n",
        "      print(x, f)\n",
        "    if jnp.linalg.norm(fp) < 1e-12:\n",
        "      break\n",
        "\n",
        "    u = jnp.expand_dims(fp,1)\n",
        "    v = jnp.expand_dims(dx,1)/jnp.linalg.norm(dx)**2\n",
        "    Jinv = Jinv - Jinv @ u @ v.T @ Jinv / (1 + v.T @ Jinv @ u)  #Sherman-Morrison\n",
        "  return x, f"
      ],
      "execution_count": 6,
      "outputs": []
    },
    {
      "cell_type": "code",
      "metadata": {
        "id": "MIcH8XjKuXaX"
      },
      "source": [
        "def func2(x):\n",
        "    return jnp.array([jnp.sin(x[0])  + 0.5 * (x[0] - x[1])**3 - 0.01*jnp.sqrt(x[1]-0.1) - 1.0,\n",
        "            0.5 * (x[1] - x[0])**3 + x[1] + 0.001*jnp.sqrt(1.-x[0])])"
      ],
      "execution_count": 7,
      "outputs": []
    },
    {
      "cell_type": "code",
      "metadata": {
        "id": "utXrAQcI6oK3",
        "outputId": "17a8dade-d4da-4fb3-81e8-4c8f217cb2f4",
        "colab": {
          "base_uri": "https://localhost:8080/"
        }
      },
      "source": [
        "broyden(func2, 0.95*jnp.ones(2),verbose=1, max_iter=20)"
      ],
      "execution_count": 8,
      "outputs": [
        {
          "output_type": "stream",
          "text": [
            "[1.27776387e+00 5.09295507e-04] [nan nan]\n",
            "[nan nan] [nan nan]\n",
            "[nan nan] [nan nan]\n",
            "[nan nan] [nan nan]\n",
            "[nan nan] [nan nan]\n",
            "[nan nan] [nan nan]\n",
            "[nan nan] [nan nan]\n",
            "[nan nan] [nan nan]\n",
            "[nan nan] [nan nan]\n",
            "[nan nan] [nan nan]\n",
            "[nan nan] [nan nan]\n",
            "[nan nan] [nan nan]\n",
            "[nan nan] [nan nan]\n",
            "[nan nan] [nan nan]\n",
            "[nan nan] [nan nan]\n",
            "[nan nan] [nan nan]\n",
            "[nan nan] [nan nan]\n",
            "[nan nan] [nan nan]\n",
            "[nan nan] [nan nan]\n",
            "[nan nan] [nan nan]\n"
          ],
          "name": "stdout"
        },
        {
          "output_type": "execute_result",
          "data": {
            "text/plain": [
              "(DeviceArray([nan, nan], dtype=float64),\n",
              " DeviceArray([nan, nan], dtype=float64))"
            ]
          },
          "metadata": {
            "tags": []
          },
          "execution_count": 8
        }
      ]
    },
    {
      "cell_type": "code",
      "metadata": {
        "id": "O1oONzVI0M1S",
        "outputId": "ec596d73-3298-4358-ddc8-4082a304c752",
        "colab": {
          "base_uri": "https://localhost:8080/"
        }
      },
      "source": [
        "broyden2(func2, 0.95*jnp.ones(2), verbose=1, max_iter=20, xmin=jnp.array([-jnp.inf, 0.1]), xmax = jnp.array([1., jnp.inf]))"
      ],
      "execution_count": 9,
      "outputs": [
        {
          "output_type": "stream",
          "text": [
            "0.1525488433491314\n",
            "[1.         0.80515629] [-0.16322784  0.80145776]\n",
            "1.0\n",
            "[0.93959614 0.98225636] [-0.20211182  0.98254095]\n",
            "0.19327261837160434\n",
            "[1.         0.79656208] [-0.1626652   0.79235224]\n",
            "1.0\n",
            "[0.92070903 1.0408568 ] [-0.21453601  1.04200559]\n",
            "0.24205077931482566\n",
            "[1.         0.79406184] [-0.16249308  0.78969486]\n",
            "1.0\n",
            "[0.88356639 1.15670184] [-0.24746165  1.16723142]\n",
            "0.3484361198064109\n",
            "[1.         0.76610502] [-0.16029271  0.75970719]\n",
            "1.0\n",
            "[0.75065498 1.6076198 ] [-0.6448333   1.92279178]\n",
            "1.0\n",
            "[0.9274454  0.20208157] [-0.01227885  0.01152487]\n",
            "1.0\n",
            "[0.94127706 0.19437996] [ 0.01356875 -0.01370796]\n",
            "1.0\n",
            "[0.93420749 0.19877441] [-0.00013078  0.00014708]\n",
            "1.0\n",
            "[0.93426884 0.1987212 ] [-5.09566974e-07  7.82997886e-07]\n",
            "1.0\n",
            "[0.93426899 0.19872083] [ 1.0061536e-08 -8.9609632e-09]\n",
            "1.0\n",
            "[0.93426899 0.19872083] [ 2.1699087e-10 -1.9291255e-10]\n",
            "1.0\n",
            "[0.93426899 0.19872083] [ 1.08801856e-14 -9.52585450e-15]\n"
          ],
          "name": "stdout"
        },
        {
          "output_type": "execute_result",
          "data": {
            "text/plain": [
              "(DeviceArray([0.93426899, 0.19872083], dtype=float64),\n",
              " DeviceArray([ 1.08801856e-14, -9.52585450e-15], dtype=float64))"
            ]
          },
          "metadata": {
            "tags": []
          },
          "execution_count": 9
        }
      ]
    },
    {
      "cell_type": "code",
      "metadata": {
        "id": "QEBSGQ5d0tr-"
      },
      "source": [
        "# Limit step size to ensure a decrease in norm\n",
        "\n",
        "def broyden3(func, x, J=None, max_iter=100, verbose=0, xmax=jnp.inf, xmin=-jnp.inf):\n",
        "    Jf = jax.jacobian(func) if J is None else J\n",
        "    J = Jf(x)\n",
        "    Jinv = jnp.linalg.inv(J)\n",
        "    f = func(x)\n",
        "    print(Jinv)\n",
        "\n",
        "    for i in range(max_iter):\n",
        "\n",
        "        dx = - Jinv @ f\n",
        "        if verbose>0:\n",
        "            print(f\"\\nIter: {i}  dx: {dx}\")\n",
        "        alpha_max_limits = jnp.min(jnp.where(x + dx > xmax, (xmax - x) / (dx), 1))\n",
        "        alpha_min_limits = jnp.min(jnp.where(x + dx < xmin, (xmin - x) / (dx), 1))\n",
        "        alpha = min(alpha_max_limits, alpha_min_limits)\n",
        "\n",
        "        while alpha > 0.01:\n",
        "            dx_try = alpha*dx\n",
        "            xp = x + dx_try\n",
        "            fp = func(xp)\n",
        "            dnorm = jnp.linalg.norm(fp)-jnp.linalg.norm(f)\n",
        "            if verbose>1:\n",
        "                print(f\"Alpha {alpha}   dnorm {dnorm}  dx_try {dx_try}   f {f}    fp {fp}\")\n",
        "            if dnorm > 0:\n",
        "                alpha *= 0.5\n",
        "            else:\n",
        "                break\n",
        "        if alpha <= 0.01:\n",
        "            if verbose>0:\n",
        "                print(\"reevaluate J\")\n",
        "            Jinv = jnp.linalg.inv(Jf(x))\n",
        "            continue\n",
        "\n",
        "        dx=dx_try\n",
        "        f= fp\n",
        "        x= xp\n",
        "        if verbose>0:\n",
        "          print(x, f)\n",
        "        if jnp.linalg.norm(fp) < 1e-12:\n",
        "          break\n",
        "\n",
        "        u = jnp.expand_dims(fp,1)\n",
        "        v = jnp.expand_dims(dx,1)/jnp.linalg.norm(dx)**2\n",
        "        Jinv = Jinv - Jinv @ u @ v.T @ Jinv / (1 + v.T @ Jinv @ u)  #Sherman-Morrison\n",
        "    return x, f"
      ],
      "execution_count": 32,
      "outputs": []
    },
    {
      "cell_type": "code",
      "metadata": {
        "id": "_vUcERTqOM3f"
      },
      "source": [
        "broyden3(func2, 0.95*jnp.ones(2), verbose=1, max_iter=20, xmin=jnp.array([-jnp.inf, 0.1+eps]), xmax = jnp.array([1.-eps, jnp.inf]))"
      ],
      "execution_count": null,
      "outputs": []
    },
    {
      "cell_type": "code",
      "metadata": {
        "id": "JpA7Z_WnONyO",
        "outputId": "edc24b5b-fda4-45be-a3fa-47ee1405953a",
        "colab": {
          "base_uri": "https://localhost:8080/"
        }
      },
      "source": [
        "# One equality constraint\n",
        "\n",
        "def rosen(x):\n",
        "    return 100*(x[1]-x[0]**2)**2 + (1-x[0])**2\n",
        "\n",
        "def constr(x):\n",
        "    return 2*x[0] + x[1] - 1\n",
        "\n",
        "def grads(x):\n",
        "    return jax.grad(rosen)(x[:2]) + x[2]*jax.grad(constr)(x[:2])\n",
        "\n",
        "@jax.jit\n",
        "def eqs(x):\n",
        "    return jnp.concatenate([grads(x), jnp.atleast_1d(constr(x))])\n",
        "\n",
        "x0 = jnp.array([0.,0., 1.])\n",
        "broyden3(eqs, x0)"
      ],
      "execution_count": 77,
      "outputs": [
        {
          "output_type": "stream",
          "text": [
            "[[ 0.00124688 -0.00249377  0.49875312]\n",
            " [-0.00249377  0.00498753  0.00249377]\n",
            " [ 0.49875312  0.00249377 -0.49875312]]\n"
          ],
          "name": "stdout"
        },
        {
          "output_type": "execute_result",
          "data": {
            "text/plain": [
              "(DeviceArray([0.41494432, 0.17011137, 0.41348319], dtype=float64),\n",
              " DeviceArray([ 1.03250741e-14, -5.82173199e-15,  0.00000000e+00], dtype=float64))"
            ]
          },
          "metadata": {
            "tags": []
          },
          "execution_count": 77
        }
      ]
    },
    {
      "cell_type": "code",
      "metadata": {
        "id": "KK6bn9r29ZBY",
        "outputId": "ac7bd6e2-6916-4e10-e004-e666305f319d",
        "colab": {
          "base_uri": "https://localhost:8080/"
        }
      },
      "source": [
        "def L(x):\n",
        "  return rosen(x)-x[2]*constr(x)\n",
        "\n",
        "dL = jax.jit(jax.grad(L))\n",
        "x0 = jnp.array([0.,0., 1.])\n",
        "broyden3(dL, x0)\n"
      ],
      "execution_count": 78,
      "outputs": [
        {
          "output_type": "stream",
          "text": [
            "[[ 0.00124688 -0.00249377 -0.49875312]\n",
            " [-0.00249377  0.00498753 -0.00249377]\n",
            " [-0.49875312 -0.00249377 -0.49875312]]\n"
          ],
          "name": "stdout"
        },
        {
          "output_type": "execute_result",
          "data": {
            "text/plain": [
              "(DeviceArray([ 0.41494432,  0.17011137, -0.41348319], dtype=float64),\n",
              " DeviceArray([ 1.21760241e-14, -4.87804241e-15,  0.00000000e+00], dtype=float64))"
            ]
          },
          "metadata": {
            "tags": []
          },
          "execution_count": 78
        }
      ]
    },
    {
      "cell_type": "code",
      "metadata": {
        "pycharm": {
          "name": "#%%\n"
        },
        "id": "y1irLmvI8rPK",
        "outputId": "9b610974-0dd6-4f14-ce29-17ae6a3916ae",
        "colab": {
          "base_uri": "https://localhost:8080/"
        }
      },
      "source": [
        "# One inequality constraint\n",
        "\n",
        "def rosen(x):\n",
        "    return 100*(x[1]-x[0]**2)**2 + (1-x[0])**2\n",
        "\n",
        "def constr(x):\n",
        "    return x[0]**2 + x[1] + x[2]**2 - 1\n",
        "\n",
        "def grads(x):\n",
        "    return jax.jacobian(rosen)(x[:3]) + x[3]*jax.jacobian(constr)(x[:3])\n",
        "\n",
        "@jax.jit\n",
        "def eqs(x):\n",
        "    return jnp.concatenate([grads(x), jnp.atleast_1d(constr(x))])\n",
        "\n",
        "x0 = jnp.array([0.1,0.1, 10., 1.])\n",
        "x, f= broyden3(eqs, x0, max_iter=500, verbose=0)\n",
        "print(x)\n",
        "print(rosen(x[:3]))"
      ],
      "execution_count": 74,
      "outputs": [
        {
          "output_type": "stream",
          "text": [
            "[[-3.12507812e-02 -6.24984375e-03  6.25000000e-04 -6.25000000e-05]\n",
            " [-6.24984375e-03  3.74996875e-03 -1.25000000e-04  1.25000000e-05]\n",
            " [ 6.25000000e-04 -1.25000000e-04  0.00000000e+00  5.00000000e-02]\n",
            " [-6.25000000e-05  1.25000000e-05  5.00000000e-02 -5.00000000e-03]]\n",
            "[ 7.07472158e-01  4.99483146e-01 -3.44769115e-16  2.06741593e-01]\n",
            "0.08567939371082826\n"
          ],
          "name": "stdout"
        }
      ]
    },
    {
      "cell_type": "code",
      "metadata": {
        "pycharm": {
          "name": "#%%\n"
        },
        "id": "mAf9LbUX8rPQ"
      },
      "source": [
        "def L(x):\n",
        "  return rosen(x)-x[3]*constr(x)\n",
        "\n",
        "dL = jax.jit(jax.grad(L)) \n",
        "x0 = jnp.array([0.1,0.1, 10., 1.])\n",
        "x,f=broyden3(dL, x0, max_iter=500, verbose=1)\n",
        "print(x)\n",
        "print(rosen(x[:3]))"
      ],
      "execution_count": null,
      "outputs": []
    },
    {
      "cell_type": "code",
      "metadata": {
        "id": "oSmmauQ8E36x"
      },
      "source": [
        ""
      ],
      "execution_count": null,
      "outputs": []
    }
  ]
}