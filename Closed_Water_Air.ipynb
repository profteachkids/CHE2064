{
 "nbformat": 4,
 "nbformat_minor": 0,
 "metadata": {
  "kernelspec": {
   "display_name": "Python 3",
   "language": "python",
   "name": "python3"
  },
  "language_info": {
   "codemirror_mode": {
    "name": "ipython",
    "version": 2
   },
   "file_extension": ".py",
   "mimetype": "text/x-python",
   "name": "python",
   "nbconvert_exporter": "python",
   "pygments_lexer": "ipython2",
   "version": "2.7.6"
  },
  "colab": {
   "name": "Closed_Water_Air.ipynb",
   "provenance": [],
   "include_colab_link": true
  }
 },
 "cells": [
  {
   "cell_type": "code",
   "metadata": {
    "id": "cqoR7kaA0RMm",
    "colab_type": "code",
    "colab": {}
   },
   "source": [
    "!git clone --depth 1 https://github.com/profteachkids/CHE2064.git &> /dev/null\n",
    "!pip install DotMap &> /dev/null\n",
    "import sys\n",
    "sys.path.insert(1, \"/content/CHE2064\") #Path to CHE module imports"
   ],
   "execution_count": 1,
   "outputs": []
  },
  {
   "cell_type": "code",
   "metadata": {
    "pycharm": {
     "name": "#%%\n"
    },
    "id": "T-o9JMyd0K2V",
    "colab_type": "code",
    "colab": {}
   },
   "source": [
    "from dotmap import DotMap\n",
    "import pandas as pd\n",
    "import jax\n",
    "import jax.numpy as jnp\n",
    "from jax.config import config\n",
    "config.update(\"jax_enable_x64\", True) #JAX default is 32bit single precision\n",
    "from tools.tree_array_transform import VSC, Comp, Range, todf\n",
    "import tools.che as che\n",
    "R=8.314 # J/(mol K)"
   ],
   "execution_count": 1,
   "outputs": []
  },
  {
   "cell_type": "code",
   "metadata": {
    "pycharm": {
     "name": "#%%\n"
    },
    "id": "Wjacie-aul0U",
    "colab_type": "code",
    "colab": {}
   },
   "source": [
    "\n",
    "p = che.Props(['Nitrogen','Oxygen', 'Argon', 'Water'])\n",
    "\n",
    "def model(c,r):\n",
    "    # c: combination of adjustable variables and static state parameters\n",
    "    # r: DotMap - store intermediate results for reporting\n",
    "    r.Pw = p.Pvap(c.T)[3]\n",
    "    r.V_vap = c.V_tot - c.Vw_i # Approximation - water in the vapor phase is negligible\n",
    "    W_n_vap = r.Pw * r.V_vap / (R * c.T)\n",
    "    P = (c.air_n + W_n_vap) * R * c.T / r.V_vap\n",
    "    return (s.P_f - P)**2\n",
    "\n",
    "s=DotMap()\n",
    "s.W_tot = 1. # 1 kg\n",
    "s.V_tot = 0.01 # 10 Liters\n",
    "s.P_i = 1e5 # Pa air pressure\n",
    "s.P_f = 2e5 # Pa final pressure\n",
    "s.T_i = 298.\n",
    "\n",
    "s.Vw_i = s.W_tot/p.rhol(s.T_i)[3]\n",
    "s.Vair_i = s.V_tot - s.Vw_i\n",
    "s.air_n = s.P_i * s.Vair_i / (R * s.T_i)\n",
    "\n",
    "v=DotMap()\n",
    "v.T = Range(360,300,600)"
   ],
   "execution_count": 10,
   "outputs": []
  },
  {
   "cell_type": "code",
   "metadata": {
    "pycharm": {
     "name": "#%%\n"
    },
    "id": "HigobUA-0K2h",
    "colab_type": "code",
    "colab": {
     "base_uri": "https://localhost:8080/",
     "height": 130
    },
    "outputId": "5876b577-cf92-4ab2-ed06-a8034806d936"
   },
   "source": [
    "# transform our model into one that takes a single array of adjustable variables\n",
    "# for minimization.  Unnecessary for this simple model with just 1 variable, \n",
    "# but very helpful for more complex problems later.\n",
    "vsc=VSC(v,s, model)\n",
    "vsc.minimize()"
   ],
   "execution_count": 11,
   "outputs": [
    {
     "name": "stdout",
     "output_type": "stream",
     "text": [
      "289480362.3657249\n",
      "103433911.09745482\n",
      "2080606.3037862258\n",
      "1302.2965753097449\n",
      "0.0005525641487007121\n",
      "1.1911400820763599e-16\n",
      "1.1911400820763599e-16\n",
      "1.1911400820763599e-16\n",
      "1.1911400820763599e-16\n",
      "3.7354152973914645e-19\n",
      "3.7354152973914645e-19\n",
      "3.7354152973914645e-19\n",
      "3.7354152973914645e-19\n",
      "3.7354152973914645e-19\n",
      "3.7354152973914645e-19\n",
      "3.7354152973914645e-19\n",
      "3.7354152973914645e-19\n",
      "3.7354152973914645e-19\n",
      "3.7354152973914645e-19\n",
      "3.7354152973914645e-19\n",
      "3.7354152973914645e-19\n",
      "3.7354152973914645e-19\n",
      "3.7354152973914645e-19\n",
      "3.7354152973914645e-19\n",
      "3.7354152973914645e-19\n",
      "3.7354152973914645e-19\n",
      "3.7354152973914645e-19\n",
      "3.7354152973914645e-19\n",
      "3.7354152973914645e-19\n",
      "3.7354152973914645e-19\n",
      "3.7354152973914645e-19\n",
      "3.7354152973914645e-19\n",
      "3.7354152973914645e-19\n",
      "3.7354152973914645e-19\n",
      "3.7354152973914645e-19\n",
      "3.7354152973914645e-19\n",
      "3.7354152973914645e-19\n",
      "3.7354152973914645e-19\n",
      "3.7354152973914645e-19\n",
      "3.7354152973914645e-19\n",
      "3.7354152973914645e-19\n",
      "3.7354152973914645e-19\n",
      "3.7354152973914645e-19\n",
      "3.7354152973914645e-19\n",
      "3.7354152973914645e-19\n",
      "3.7354152973914645e-19\n",
      "3.7354152973914645e-19\n",
      "3.7354152973914645e-19\n",
      "3.7354152973914645e-19\n",
      "3.7354152973914645e-19\n",
      "3.7354152973914645e-19\n",
      "3.7354152973914645e-19\n",
      "3.7354152973914645e-19\n",
      "3.7354152973914645e-19\n",
      "3.7354152973914645e-19\n",
      "3.7354152973914645e-19\n",
      "3.7354152973914645e-19\n",
      "3.7354152973914645e-19\n",
      "3.7354152973914645e-19\n",
      "3.7354152973914645e-19\n",
      "3.7354152973914645e-19\n",
      "3.7354152973914645e-19\n",
      "3.7354152973914645e-19\n",
      "3.7354152973914645e-19\n",
      "3.7354152973914645e-19\n",
      "3.7354152973914645e-19\n",
      "3.7354152973914645e-19\n",
      "3.7354152973914645e-19\n",
      "3.7354152973914645e-19\n",
      "3.7354152973914645e-19\n",
      "3.7354152973914645e-19\n",
      "3.7354152973914645e-19\n",
      "3.7354152973914645e-19\n",
      "3.7354152973914645e-19\n",
      "3.7354152973914645e-19\n",
      "3.7354152973914645e-19\n",
      "3.7354152973914645e-19\n",
      "3.7354152973914645e-19\n",
      "3.7354152973914645e-19\n",
      "3.7354152973914645e-19\n",
      "3.7354152973914645e-19\n",
      "3.7354152973914645e-19\n",
      "3.7354152973914645e-19\n",
      "3.7354152973914645e-19\n",
      "3.7354152973914645e-19\n",
      "3.7354152973914645e-19\n",
      "3.7354152973914645e-19\n",
      "3.7354152973914645e-19\n",
      "3.7354152973914645e-19\n",
      "3.7354152973914645e-19\n",
      "3.7354152973914645e-19\n",
      "3.7354152973914645e-19\n"
     ]
    }
   ]
  },
  {
   "cell_type": "code",
   "execution_count": 12,
   "outputs": [
    {
     "data": {
      "text/plain": "      vector1\n            1\nT  365.719235",
      "text/html": "<div>\n<style scoped>\n    .dataframe tbody tr th:only-of-type {\n        vertical-align: middle;\n    }\n\n    .dataframe tbody tr th {\n        vertical-align: top;\n    }\n\n    .dataframe thead tr th {\n        text-align: left;\n    }\n</style>\n<table border=\"1\" class=\"dataframe\">\n  <thead>\n    <tr>\n      <th></th>\n      <th>vector1</th>\n    </tr>\n    <tr>\n      <th></th>\n      <th>1</th>\n    </tr>\n  </thead>\n  <tbody>\n    <tr>\n      <th>T</th>\n      <td>365.719235</td>\n    </tr>\n  </tbody>\n</table>\n</div>"
     },
     "execution_count": 12,
     "metadata": {},
     "output_type": "execute_result"
    }
   ],
   "source": [
    "# Dataframe of adjustable variables\n",
    "vsc.vdf"
   ],
   "metadata": {
    "collapsed": false,
    "pycharm": {
     "name": "#%%\n"
    }
   }
  },
  {
   "cell_type": "code",
   "execution_count": 13,
   "outputs": [
    {
     "data": {
      "text/plain": "            vector1\n                  1\nPw     77275.424390\nV_vap      0.008995",
      "text/html": "<div>\n<style scoped>\n    .dataframe tbody tr th:only-of-type {\n        vertical-align: middle;\n    }\n\n    .dataframe tbody tr th {\n        vertical-align: top;\n    }\n\n    .dataframe thead tr th {\n        text-align: left;\n    }\n</style>\n<table border=\"1\" class=\"dataframe\">\n  <thead>\n    <tr>\n      <th></th>\n      <th>vector1</th>\n    </tr>\n    <tr>\n      <th></th>\n      <th>1</th>\n    </tr>\n  </thead>\n  <tbody>\n    <tr>\n      <th>Pw</th>\n      <td>77275.424390</td>\n    </tr>\n    <tr>\n      <th>V_vap</th>\n      <td>0.008995</td>\n    </tr>\n  </tbody>\n</table>\n</div>"
     },
     "execution_count": 13,
     "metadata": {},
     "output_type": "execute_result"
    }
   ],
   "source": [
    "# Dataframe of intermediate results\n",
    "vsc.rdf"
   ],
   "metadata": {
    "collapsed": false,
    "pycharm": {
     "name": "#%%\n"
    }
   }
  },
  {
   "cell_type": "code",
   "execution_count": 18,
   "outputs": [
    {
     "data": {
      "text/plain": "                       vector1\n                             1\nW_tot                 1.000000\nV_tot                 0.010000\nP_i              100000.000000\nP_f              200000.000000\nT_i                 298.000000\nW_n_vap_desired       0.300000\nVw_i                  0.001005\nVair_i                0.008995\nair_n                 0.363057",
      "text/html": "<div>\n<style scoped>\n    .dataframe tbody tr th:only-of-type {\n        vertical-align: middle;\n    }\n\n    .dataframe tbody tr th {\n        vertical-align: top;\n    }\n\n    .dataframe thead tr th {\n        text-align: left;\n    }\n</style>\n<table border=\"1\" class=\"dataframe\">\n  <thead>\n    <tr>\n      <th></th>\n      <th>vector1</th>\n    </tr>\n    <tr>\n      <th></th>\n      <th>1</th>\n    </tr>\n  </thead>\n  <tbody>\n    <tr>\n      <th>W_tot</th>\n      <td>1.000000</td>\n    </tr>\n    <tr>\n      <th>V_tot</th>\n      <td>0.010000</td>\n    </tr>\n    <tr>\n      <th>P_i</th>\n      <td>100000.000000</td>\n    </tr>\n    <tr>\n      <th>P_f</th>\n      <td>200000.000000</td>\n    </tr>\n    <tr>\n      <th>T_i</th>\n      <td>298.000000</td>\n    </tr>\n    <tr>\n      <th>W_n_vap_desired</th>\n      <td>0.300000</td>\n    </tr>\n    <tr>\n      <th>Vw_i</th>\n      <td>0.001005</td>\n    </tr>\n    <tr>\n      <th>Vair_i</th>\n      <td>0.008995</td>\n    </tr>\n    <tr>\n      <th>air_n</th>\n      <td>0.363057</td>\n    </tr>\n  </tbody>\n</table>\n</div>"
     },
     "execution_count": 18,
     "metadata": {},
     "output_type": "execute_result"
    }
   ],
   "source": [
    "# Dataframe of static state parameters\n",
    "vsc.sdf"
   ],
   "metadata": {
    "collapsed": false,
    "pycharm": {
     "name": "#%%\n"
    }
   }
  },
  {
   "cell_type": "code",
   "metadata": {
    "pycharm": {
     "name": "#%%\n"
    },
    "id": "MaAySxSg0K2o",
    "colab_type": "code",
    "colab": {}
   },
   "source": [
    "def model2(c,r):\n",
    "    Pw = p.Pvap(c.T)[3]\n",
    "    r.V_vap = c.V_tot - c.Vw_i \n",
    "    r.W_n_vap = Pw * r.V_vap / (R * c.T) \n",
    "    P = (s.air_n + r.W_n_vap) * R * c.T / r.V_vap\n",
    "\n",
    "    # Pressures and number of moles have vastly different order of magnitude\n",
    "    # Scale each to order 1 before combining sum square deviations\n",
    "    # Return r - store for intermediate results for reporting\n",
    "    return ((s.P_f - P)/(s.P_f+P))**2 + ((r.W_n_vap - c.W_n_vap_desired)/(r.W_n_vap + 0.3))**2"
   ],
   "execution_count": 14,
   "outputs": []
  },
  {
   "cell_type": "code",
   "metadata": {
    "pycharm": {
     "name": "#%%\n"
    },
    "id": "Zfm8jxfY0K2s",
    "colab_type": "code",
    "colab": {}
   },
   "source": [
    "s=DotMap()\n",
    "s.W_tot = 1. # 1 kg\n",
    "s.V_tot = 0.01 # 10 Liters\n",
    "s.P_i = 1e5 # Pa air pressure\n",
    "s.P_f = 2e5 # Pa final pressure\n",
    "s.T_i = 298.\n",
    "s.W_n_vap_desired = 0.3\n",
    "\n",
    "s.Vw_i = s.W_tot/p.rhol(s.T_i)[3]\n",
    "s.Vair_i = s.V_tot - s.Vw_i\n",
    "s.air_n = s.P_i * s.Vair_i / (R * s.T_i)\n",
    "\n",
    "v=DotMap()\n",
    "v.T = Range(350, 300, 400)\n",
    "v.V_tot = Range(0.015, 0., 0.03)\n",
    "\n",
    "vsc=VSC(v,s, model2)\n",
    "vsc.minimize()"
   ],
   "execution_count": 15,
   "outputs": [
    {
     "name": "stdout",
     "output_type": "stream",
     "text": [
      "0.10764694306583505\n",
      "0.006849384312309694\n",
      "0.006849384312309694\n",
      "0.0006041999365723974\n",
      "0.0006041999365723974\n",
      "0.00011308656369463022\n",
      "6.282090781480474e-08\n",
      "6.282090781480474e-08\n",
      "6.282090781480474e-08\n",
      "7.75855702106228e-09\n",
      "7.75855702106228e-09\n",
      "3.43337627588837e-14\n",
      "3.43337627588837e-14\n",
      "3.43337627588837e-14\n",
      "3.43337627588837e-14\n",
      "3.43337627588837e-14\n",
      "8.930292146420031e-20\n"
     ]
    }
   ]
  },
  {
   "cell_type": "code",
   "metadata": {
    "pycharm": {
     "name": "#%%\n"
    },
    "id": "8wqWHVc30K2v",
    "colab_type": "code",
    "colab": {
     "base_uri": "https://localhost:8080/",
     "height": 319
    },
    "outputId": "8695ab90-7e25-4b4b-f61d-c95b58a458a4"
   },
   "source": [
    "vsc.vdf"
   ],
   "execution_count": 16,
   "outputs": [
    {
     "data": {
      "text/plain": "          vector1\n                1\nT      370.005638\nV_tot    0.011204",
      "text/html": "<div>\n<style scoped>\n    .dataframe tbody tr th:only-of-type {\n        vertical-align: middle;\n    }\n\n    .dataframe tbody tr th {\n        vertical-align: top;\n    }\n\n    .dataframe thead tr th {\n        text-align: left;\n    }\n</style>\n<table border=\"1\" class=\"dataframe\">\n  <thead>\n    <tr>\n      <th></th>\n      <th>vector1</th>\n    </tr>\n    <tr>\n      <th></th>\n      <th>1</th>\n    </tr>\n  </thead>\n  <tbody>\n    <tr>\n      <th>T</th>\n      <td>370.005638</td>\n    </tr>\n    <tr>\n      <th>V_tot</th>\n      <td>0.011204</td>\n    </tr>\n  </tbody>\n</table>\n</div>"
     },
     "execution_count": 16,
     "metadata": {},
     "output_type": "execute_result"
    }
   ]
  },
  {
   "cell_type": "code",
   "execution_count": 17,
   "outputs": [
    {
     "data": {
      "text/plain": "          vector1\n                1\nV_vap    0.010199\nW_n_vap  0.300000",
      "text/html": "<div>\n<style scoped>\n    .dataframe tbody tr th:only-of-type {\n        vertical-align: middle;\n    }\n\n    .dataframe tbody tr th {\n        vertical-align: top;\n    }\n\n    .dataframe thead tr th {\n        text-align: left;\n    }\n</style>\n<table border=\"1\" class=\"dataframe\">\n  <thead>\n    <tr>\n      <th></th>\n      <th>vector1</th>\n    </tr>\n    <tr>\n      <th></th>\n      <th>1</th>\n    </tr>\n  </thead>\n  <tbody>\n    <tr>\n      <th>V_vap</th>\n      <td>0.010199</td>\n    </tr>\n    <tr>\n      <th>W_n_vap</th>\n      <td>0.300000</td>\n    </tr>\n  </tbody>\n</table>\n</div>"
     },
     "execution_count": 17,
     "metadata": {},
     "output_type": "execute_result"
    }
   ],
   "source": [
    "vsc.rdf\n"
   ],
   "metadata": {
    "collapsed": false,
    "pycharm": {
     "name": "#%%\n"
    }
   }
  },
  {
   "cell_type": "code",
   "metadata": {
    "pycharm": {
     "name": "#%%\n"
    },
    "id": "Ifo8H6SskFhC",
    "colab_type": "code",
    "colab": {}
   },
   "source": [
    "def model3(c, r):\n",
    "    Pw = p.Pvap(c.T)[3]\n",
    "    # volume of liquid water lost as water vapor ignored in model1\n",
    "    r.v_w_vap = c.W_n_vap*18e-3/1e3\n",
    "    V_vap = c.V_tot - (c.Vw_i - r.v_w_vap)\n",
    "    r.W_n_vap = Pw * V_vap / (R * c.T)\n",
    "    P = (s.air_n + r.W_n_vap) * R * c.T / V_vap\n",
    "\n",
    "    # add consistency constraint for moles of water vapor\n",
    "    return ((s.P_f - P)/(s.P_f + P))**2 + ((c.W_n_vap - r.W_n_vap)/(c.W_n_vap + r.W_n_vap))**2, r"
   ],
   "execution_count": 19,
   "outputs": []
  },
  {
   "cell_type": "code",
   "metadata": {
    "pycharm": {
     "name": "#%%\n"
    },
    "id": "mrZwRd50kFhF",
    "colab_type": "code",
    "colab": {}
   },
   "source": [
    "s=DotMap()\n",
    "s.W_tot = 1. # 1 kg\n",
    "s.V_tot = 0.01 # 10 Liters\n",
    "s.P_i = 1e5 # Pa air pressure\n",
    "s.P_f = 2e5 # Pa final pressure\n",
    "s.T_i = 298.\n",
    "\n",
    "s.Vw_i = s.W_tot/p.rhol(s.T_i)[3]\n",
    "s.Vair_i = s.V_tot - s.Vw_i\n",
    "s.air_n = s.P_i * s.Vair_i / (R * s.T_i)\n",
    "\n",
    "v=DotMap()\n",
    "v.T = Range(350., 300., 400.)\n",
    "v.W_n_vap = Range(1., 0., 2.) # moles of water vapor\n",
    "\n",
    "vsc=VSC(v,s, model3)\n",
    "vsc.minimize(verbosity=0)"
   ],
   "execution_count": 20,
   "outputs": []
  },
  {
   "cell_type": "code",
   "metadata": {
    "pycharm": {
     "name": "#%%\n"
    },
    "id": "tcdb6iPakFhJ",
    "colab_type": "code",
    "colab": {
     "base_uri": "https://localhost:8080/",
     "height": 385
    },
    "outputId": "85b9d0c6-5fbe-4e83-c165-dce2a59a7c85"
   },
   "source": [
    "vsc.rdf"
   ],
   "execution_count": 21,
   "outputs": [
    {
     "data": {
      "text/plain": "          vector1\n                1\nv_w_vap  0.000004\nW_n_vap  0.228847",
      "text/html": "<div>\n<style scoped>\n    .dataframe tbody tr th:only-of-type {\n        vertical-align: middle;\n    }\n\n    .dataframe tbody tr th {\n        vertical-align: top;\n    }\n\n    .dataframe thead tr th {\n        text-align: left;\n    }\n</style>\n<table border=\"1\" class=\"dataframe\">\n  <thead>\n    <tr>\n      <th></th>\n      <th>vector1</th>\n    </tr>\n    <tr>\n      <th></th>\n      <th>1</th>\n    </tr>\n  </thead>\n  <tbody>\n    <tr>\n      <th>v_w_vap</th>\n      <td>0.000004</td>\n    </tr>\n    <tr>\n      <th>W_n_vap</th>\n      <td>0.228847</td>\n    </tr>\n  </tbody>\n</table>\n</div>"
     },
     "execution_count": 21,
     "metadata": {},
     "output_type": "execute_result"
    }
   ]
  },
  {
   "cell_type": "code",
   "metadata": {
    "id": "e4WxV4C0o4Nx",
    "colab_type": "code",
    "colab": {
     "base_uri": "https://localhost:8080/",
     "height": 71
    },
    "outputId": "38452317-0e64-423b-e618-def0852a856d"
   },
   "source": [
    "vsc.rdf.values # raw numbers\n",
    "# only 4e-6 m3 of liquid water is lost to the vapor phase compared to the initial\n",
    "# 1e-3 m3 of liquid water."
   ],
   "execution_count": 22,
   "outputs": [
    {
     "data": {
      "text/plain": "array([[4.11925524e-06],\n       [2.28847490e-01]])"
     },
     "execution_count": 22,
     "metadata": {},
     "output_type": "execute_result"
    }
   ]
  },
  {
   "cell_type": "code",
   "metadata": {
    "pycharm": {
     "name": "#%%\n"
    },
    "id": "0GzogvxfkFhQ",
    "colab_type": "code",
    "colab": {
     "base_uri": "https://localhost:8080/",
     "height": 160
    },
    "outputId": "647d0792-8682-4b73-e31b-17589d7ee5b9"
   },
   "source": [
    "vsc.vdf"
   ],
   "execution_count": 23,
   "outputs": [
    {
     "data": {
      "text/plain": "            vector1\n                  1\nT        365.736688\nW_n_vap    0.228848",
      "text/html": "<div>\n<style scoped>\n    .dataframe tbody tr th:only-of-type {\n        vertical-align: middle;\n    }\n\n    .dataframe tbody tr th {\n        vertical-align: top;\n    }\n\n    .dataframe thead tr th {\n        text-align: left;\n    }\n</style>\n<table border=\"1\" class=\"dataframe\">\n  <thead>\n    <tr>\n      <th></th>\n      <th>vector1</th>\n    </tr>\n    <tr>\n      <th></th>\n      <th>1</th>\n    </tr>\n  </thead>\n  <tbody>\n    <tr>\n      <th>T</th>\n      <td>365.736688</td>\n    </tr>\n    <tr>\n      <th>W_n_vap</th>\n      <td>0.228848</td>\n    </tr>\n  </tbody>\n</table>\n</div>"
     },
     "execution_count": 23,
     "metadata": {},
     "output_type": "execute_result"
    }
   ]
  }
 ]
}