{
  "nbformat": 4,
  "nbformat_minor": 0,
  "metadata": {
    "kernelspec": {
      "display_name": "Python 3",
      "language": "python",
      "name": "python3"
    },
    "language_info": {
      "codemirror_mode": {
        "name": "ipython",
        "version": 2
      },
      "file_extension": ".py",
      "mimetype": "text/x-python",
      "name": "python",
      "nbconvert_exporter": "python",
      "pygments_lexer": "ipython2",
      "version": "2.7.6"
    },
    "colab": {
      "name": "Closed_Water_Air.ipynb",
      "provenance": [],
      "include_colab_link": true
    }
  },
  "cells": [
    {
      "cell_type": "markdown",
      "metadata": {
        "id": "view-in-github",
        "colab_type": "text"
      },
      "source": [
        "<a href=\"https://colab.research.google.com/github/profteachkids/CHE2064/blob/master/Closed_Water_Air.ipynb\" target=\"_parent\"><img src=\"https://colab.research.google.com/assets/colab-badge.svg\" alt=\"Open In Colab\"/></a>"
      ]
    },
    {
      "cell_type": "code",
      "metadata": {
        "id": "cqoR7kaA0RMm",
        "colab_type": "code",
        "colab": {}
      },
      "source": [
        "!git clone --depth 1 https://github.com/profteachkids/CHE2064.git &> /dev/null\n",
        "!pip install DotMap &> /dev/null\n",
        "import sys\n",
        "sys.path.insert(1, \"/content/CHE2064\") #Path to CHE module imports"
      ],
      "execution_count": 1,
      "outputs": []
    },
    {
      "cell_type": "code",
      "metadata": {
        "pycharm": {
          "name": "#%%\n"
        },
        "id": "T-o9JMyd0K2V",
        "colab_type": "code",
        "colab": {}
      },
      "source": [
        "from dotmap import DotMap\n",
        "import pandas as pd\n",
        "\n",
        "import jax\n",
        "import jax.numpy as jnp\n",
        "from jax.config import config\n",
        "config.update(\"jax_enable_x64\", True) #JAX default is 32bit single precision\n",
        "from tools.tree_array_transform import VSC, Comp, Range, todf\n",
        "from tools.trust_ncg import minimize\n",
        "import tools.che as che\n",
        "R=8.314 # J/(mol K)"
      ],
      "execution_count": 3,
      "outputs": []
    },
    {
      "cell_type": "code",
      "metadata": {
        "pycharm": {
          "name": "#%%\n"
        },
        "id": "Wjacie-aul0U",
        "colab_type": "code",
        "colab": {
          "base_uri": "https://localhost:8080/",
          "height": 87
        },
        "outputId": "335c24bd-260b-414f-84fa-d6989ac1f146"
      },
      "source": [
        "\n",
        "p = che.Props(['Nitrogen','Oxygen', 'Argon', 'Water'])\n",
        "\n",
        "def model(c):\n",
        "    Pw = p.Pvap(c.T)[3]\n",
        "    V_vap = c.V_tot - c.Vw_i\n",
        "    W_n_vap = Pw * V_vap / (R * c.T)\n",
        "    P = (c.air_n + W_n_vap) * R * c.T / V_vap\n",
        "    return (s.P_f - P)**2\n",
        "\n",
        "s=DotMap()\n",
        "s.air_y = jnp.array([0.78, 0.21, 0.01])\n",
        "s.W_tot = 1. # 1 kg\n",
        "s.V_tot = 0.01 # 10 Liters\n",
        "s.P_i = 1e5 # Pa air pressure\n",
        "s.P_f = 2e5 # Pa final pressure\n",
        "s.q = 2000. # watts\n",
        "s.T_i = 298.\n",
        "\n",
        "s.Vw_i = s.W_tot/p.rhol(s.T_i)[3]\n",
        "s.Vair_i = s.V_tot - s.Vw_i\n",
        "s.air_n = s.P_i * s.Vair_i / (R * s.T_i)\n",
        "\n",
        "v=DotMap()\n",
        "v.T = Range(360,300,600)\n",
        "\n",
        "\n",
        "vsc=VSC(v,s)\n",
        "model_f = vsc.transform(model)\n",
        "model_f(vsc.x)"
      ],
      "execution_count": 4,
      "outputs": [
        {
          "output_type": "stream",
          "text": [
            "/usr/local/lib/python3.6/dist-packages/jax/lib/xla_bridge.py:130: UserWarning: No GPU/TPU found, falling back to CPU.\n",
            "  warnings.warn('No GPU/TPU found, falling back to CPU.')\n"
          ],
          "name": "stderr"
        },
        {
          "output_type": "execute_result",
          "data": {
            "text/plain": [
              "DeviceArray(2.89480362e+08, dtype=float64)"
            ]
          },
          "metadata": {
            "tags": []
          },
          "execution_count": 4
        }
      ]
    },
    {
      "cell_type": "code",
      "metadata": {
        "pycharm": {
          "name": "#%%\n"
        },
        "id": "HigobUA-0K2h",
        "colab_type": "code",
        "colab": {}
      },
      "source": [
        "modelf = jax.jit(vsc.transform(model))\n",
        "x_min, f = minimize(modelf, vsc.x, verbosity=0)"
      ],
      "execution_count": 5,
      "outputs": []
    },
    {
      "cell_type": "code",
      "metadata": {
        "pycharm": {
          "name": "#%%\n"
        },
        "id": "MaAySxSg0K2o",
        "colab_type": "code",
        "colab": {}
      },
      "source": [
        "def model2(c):\n",
        "    r=DotMap()\n",
        "    Pw = p.Pvap(c.T)[3]\n",
        "    V_vap = c.V_tot - c.Vw_i\n",
        "    r.W_n_vap = Pw * V_vap / (R * c.T)\n",
        "    P = (s.air_n + r.W_n_vap) * R * c.T / V_vap\n",
        "    return ((s.P_f - P)/s.P_f)**2 + (r.W_n_vap - 0.3)**2, r"
      ],
      "execution_count": 6,
      "outputs": []
    },
    {
      "cell_type": "code",
      "metadata": {
        "pycharm": {
          "name": "#%%\n"
        },
        "id": "Zfm8jxfY0K2s",
        "colab_type": "code",
        "colab": {}
      },
      "source": [
        "s=DotMap()\n",
        "s.air_y = jnp.array([0.78, 0.21, 0.01])\n",
        "s.W_tot = 1. # 1 kg\n",
        "s.V_tot = 0.01 # 10 Liters\n",
        "s.P_i = 1e5 # Pa air pressure\n",
        "s.P_f = 2e5 # Pa final pressure\n",
        "s.q = 2000. # watts\n",
        "s.T_i = 298.\n",
        "\n",
        "s.Vw_i = s.W_tot/p.rhol(s.T_i)[3]\n",
        "s.Vair_i = s.V_tot - s.Vw_i\n",
        "s.air_n = s.P_i * s.Vair_i / (R * s.T_i)\n",
        "\n",
        "v=DotMap()\n",
        "v.T = Range(350, 300, 400)\n",
        "v.V_tot = Range(0.015, 0., 0.03)\n",
        "\n",
        "vsc=VSC(v,s)"
      ],
      "execution_count": 7,
      "outputs": []
    },
    {
      "cell_type": "code",
      "metadata": {
        "pycharm": {
          "name": "#%%\n"
        },
        "id": "8wqWHVc30K2v",
        "colab_type": "code",
        "colab": {
          "base_uri": "https://localhost:8080/",
          "height": 236
        },
        "outputId": "ccb45d24-cb48-44e8-fe56-076f80598ce2"
      },
      "source": [
        "modelf = jax.jit(vsc.transform(model2))\n",
        "x_min, f = minimize(modelf, vsc.x, verbosity=1)"
      ],
      "execution_count": 8,
      "outputs": [
        {
          "output_type": "stream",
          "text": [
            "0.18134390814615023\n",
            "0.015435531886651324\n",
            "0.015435531886651324\n",
            "0.0006605095790480441\n",
            "1.1954861545456219e-05\n",
            "1.1954861545456219e-05\n",
            "1.1954861545456219e-05\n",
            "1.2919686113340432e-09\n",
            "1.2919686113340432e-09\n",
            "1.2919686113340432e-09\n",
            "1.2919686113340432e-09\n",
            "1.671341554847893e-16\n"
          ],
          "name": "stdout"
        }
      ]
    },
    {
      "cell_type": "code",
      "metadata": {
        "pycharm": {
          "name": "#%%\n"
        },
        "id": "_41LfC9m0K23",
        "colab_type": "code",
        "colab": {}
      },
      "source": [
        "vsc.generate_reports(model2, x_min)"
      ],
      "execution_count": 9,
      "outputs": []
    },
    {
      "cell_type": "code",
      "metadata": {
        "pycharm": {
          "name": "#%%\n"
        },
        "id": "eiRatjj30K26",
        "colab_type": "code",
        "colab": {
          "base_uri": "https://localhost:8080/",
          "height": 130
        },
        "outputId": "2012414c-138d-47d2-f63f-30f1da38b04e"
      },
      "source": [
        "vsc.rdf"
      ],
      "execution_count": 10,
      "outputs": [
        {
          "output_type": "execute_result",
          "data": {
            "text/html": [
              "<div>\n",
              "<style scoped>\n",
              "    .dataframe tbody tr th:only-of-type {\n",
              "        vertical-align: middle;\n",
              "    }\n",
              "\n",
              "    .dataframe tbody tr th {\n",
              "        vertical-align: top;\n",
              "    }\n",
              "\n",
              "    .dataframe thead tr th {\n",
              "        text-align: left;\n",
              "    }\n",
              "</style>\n",
              "<table border=\"1\" class=\"dataframe\">\n",
              "  <thead>\n",
              "    <tr>\n",
              "      <th></th>\n",
              "      <th>vector1</th>\n",
              "    </tr>\n",
              "    <tr>\n",
              "      <th></th>\n",
              "      <th>1</th>\n",
              "    </tr>\n",
              "  </thead>\n",
              "  <tbody>\n",
              "    <tr>\n",
              "      <th>W_n_vap</th>\n",
              "      <td>0.3</td>\n",
              "    </tr>\n",
              "  </tbody>\n",
              "</table>\n",
              "</div>"
            ],
            "text/plain": [
              "        vector1\n",
              "              1\n",
              "W_n_vap     0.3"
            ]
          },
          "metadata": {
            "tags": []
          },
          "execution_count": 10
        }
      ]
    },
    {
      "cell_type": "code",
      "metadata": {
        "id": "dMK5tfd3cz7z",
        "colab_type": "code",
        "colab": {
          "base_uri": "https://localhost:8080/",
          "height": 405
        },
        "outputId": "39db7694-435c-4242-fb1a-f405ed56c74e"
      },
      "source": [
        "vsc.sdf"
      ],
      "execution_count": 11,
      "outputs": [
        {
          "output_type": "execute_result",
          "data": {
            "text/html": [
              "<div>\n",
              "<style scoped>\n",
              "    .dataframe tbody tr th:only-of-type {\n",
              "        vertical-align: middle;\n",
              "    }\n",
              "\n",
              "    .dataframe tbody tr th {\n",
              "        vertical-align: top;\n",
              "    }\n",
              "\n",
              "    .dataframe thead tr th {\n",
              "        text-align: left;\n",
              "    }\n",
              "</style>\n",
              "<table border=\"1\" class=\"dataframe\">\n",
              "  <thead>\n",
              "    <tr>\n",
              "      <th></th>\n",
              "      <th colspan=\"3\" halign=\"left\">vector3</th>\n",
              "      <th>vector1</th>\n",
              "    </tr>\n",
              "    <tr>\n",
              "      <th></th>\n",
              "      <th>1</th>\n",
              "      <th>2</th>\n",
              "      <th>3</th>\n",
              "      <th>1</th>\n",
              "    </tr>\n",
              "  </thead>\n",
              "  <tbody>\n",
              "    <tr>\n",
              "      <th>air_y</th>\n",
              "      <td>0.78</td>\n",
              "      <td>0.21</td>\n",
              "      <td>0.01</td>\n",
              "      <td></td>\n",
              "    </tr>\n",
              "    <tr>\n",
              "      <th>W_tot</th>\n",
              "      <td></td>\n",
              "      <td></td>\n",
              "      <td></td>\n",
              "      <td>1</td>\n",
              "    </tr>\n",
              "    <tr>\n",
              "      <th>V_tot</th>\n",
              "      <td></td>\n",
              "      <td></td>\n",
              "      <td></td>\n",
              "      <td>0.01</td>\n",
              "    </tr>\n",
              "    <tr>\n",
              "      <th>P_i</th>\n",
              "      <td></td>\n",
              "      <td></td>\n",
              "      <td></td>\n",
              "      <td>100000</td>\n",
              "    </tr>\n",
              "    <tr>\n",
              "      <th>P_f</th>\n",
              "      <td></td>\n",
              "      <td></td>\n",
              "      <td></td>\n",
              "      <td>200000</td>\n",
              "    </tr>\n",
              "    <tr>\n",
              "      <th>q</th>\n",
              "      <td></td>\n",
              "      <td></td>\n",
              "      <td></td>\n",
              "      <td>2000</td>\n",
              "    </tr>\n",
              "    <tr>\n",
              "      <th>T_i</th>\n",
              "      <td></td>\n",
              "      <td></td>\n",
              "      <td></td>\n",
              "      <td>298</td>\n",
              "    </tr>\n",
              "    <tr>\n",
              "      <th>Vw_i</th>\n",
              "      <td></td>\n",
              "      <td></td>\n",
              "      <td></td>\n",
              "      <td>0.00100499</td>\n",
              "    </tr>\n",
              "    <tr>\n",
              "      <th>Vair_i</th>\n",
              "      <td></td>\n",
              "      <td></td>\n",
              "      <td></td>\n",
              "      <td>0.00899501</td>\n",
              "    </tr>\n",
              "    <tr>\n",
              "      <th>air_n</th>\n",
              "      <td></td>\n",
              "      <td></td>\n",
              "      <td></td>\n",
              "      <td>0.363057</td>\n",
              "    </tr>\n",
              "  </tbody>\n",
              "</table>\n",
              "</div>"
            ],
            "text/plain": [
              "       vector3                 vector1\n",
              "             1     2     3           1\n",
              "air_y     0.78  0.21  0.01            \n",
              "W_tot                                1\n",
              "V_tot                             0.01\n",
              "P_i                             100000\n",
              "P_f                             200000\n",
              "q                                 2000\n",
              "T_i                                298\n",
              "Vw_i                        0.00100499\n",
              "Vair_i                      0.00899501\n",
              "air_n                         0.363057"
            ]
          },
          "metadata": {
            "tags": []
          },
          "execution_count": 11
        }
      ]
    },
    {
      "cell_type": "code",
      "metadata": {
        "id": "V8QM2kG6CLIO",
        "colab_type": "code",
        "colab": {
          "base_uri": "https://localhost:8080/",
          "height": 160
        },
        "outputId": "d1859f72-bcc9-4786-b0d6-e6e52287b9a5"
      },
      "source": [
        "vsc.vdf"
      ],
      "execution_count": 13,
      "outputs": [
        {
          "output_type": "execute_result",
          "data": {
            "text/html": [
              "<div>\n",
              "<style scoped>\n",
              "    .dataframe tbody tr th:only-of-type {\n",
              "        vertical-align: middle;\n",
              "    }\n",
              "\n",
              "    .dataframe tbody tr th {\n",
              "        vertical-align: top;\n",
              "    }\n",
              "\n",
              "    .dataframe thead tr th {\n",
              "        text-align: left;\n",
              "    }\n",
              "</style>\n",
              "<table border=\"1\" class=\"dataframe\">\n",
              "  <thead>\n",
              "    <tr>\n",
              "      <th></th>\n",
              "      <th>vector1</th>\n",
              "    </tr>\n",
              "    <tr>\n",
              "      <th></th>\n",
              "      <th>1</th>\n",
              "    </tr>\n",
              "  </thead>\n",
              "  <tbody>\n",
              "    <tr>\n",
              "      <th>T</th>\n",
              "      <td>370.005638</td>\n",
              "    </tr>\n",
              "    <tr>\n",
              "      <th>V_tot</th>\n",
              "      <td>0.011204</td>\n",
              "    </tr>\n",
              "  </tbody>\n",
              "</table>\n",
              "</div>"
            ],
            "text/plain": [
              "          vector1\n",
              "                1\n",
              "T      370.005638\n",
              "V_tot    0.011204"
            ]
          },
          "metadata": {
            "tags": []
          },
          "execution_count": 13
        }
      ]
    },
    {
      "cell_type": "code",
      "metadata": {
        "id": "CehvQ1fSCk1E",
        "colab_type": "code",
        "colab": {}
      },
      "source": [
        ""
      ],
      "execution_count": null,
      "outputs": []
    }
  ]
}