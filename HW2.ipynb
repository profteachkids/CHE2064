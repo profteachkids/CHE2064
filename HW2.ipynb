{
  "nbformat": 4,
  "nbformat_minor": 0,
  "metadata": {
    "colab": {
      "name": "HW2CHE3023.ipynb",
      "provenance": [],
      "collapsed_sections": [],
      "authorship_tag": "ABX9TyOw62P+8AwAosOzQOjWWF8i",
      "include_colab_link": true
    },
    "kernelspec": {
      "name": "python3",
      "display_name": "Python 3"
    }
  },
  "cells": [
    {
      "cell_type": "markdown",
      "metadata": {
        "id": "view-in-github",
        "colab_type": "text"
      },
      "source": [
        "<a href=\"https://colab.research.google.com/github/profteachkids/CHE2064/blob/master/HW2.ipynb\" target=\"_parent\"><img src=\"https://colab.research.google.com/assets/colab-badge.svg\" alt=\"Open In Colab\"/></a>"
      ]
    },
    {
      "cell_type": "markdown",
      "metadata": {
        "id": "UyEw85Lxu_a6"
      },
      "source": [
        "A 10 cm long uniform cross-section capillary initially contains pure liquid  $H_2O$\n",
        "  and  $D_2O$\n",
        "  on its left (0 to 5 cm) and right halves (5 to 10 cm) respectively. At t = 0.1 sec, the maximum molar diffusion flux was  2.78 $\\frac{mol}{m^2 s}$\n",
        " . Pure deuterated water ($D_2O$\n",
        " ) MW and density are 20 g/mol and 1110 $\\frac{kg}{m^3}$, respectively.\n",
        " \n",
        "1. What is the overall mass flux (n) corresponding to the maximum molar diffusion flux? Hint: Consider where the maximum diffusion flux occurs and calculate the concentration of  $H_2O$\n",
        "  at this location.\n",
        "2. Make an order of magnitude estimate for the maximum driving force for diffusion at t=0.1 sec.\n",
        "3. Carefully sketch the initial (t = 0.1 sec), intermediate (t = 60 sec), and final (t =  ∞\n",
        "  sec) mass transport profiles below following the textbook nomenclature. Add in y-axis tick labels (Numbers on the y-axis). Hint: Drawing the initial and final profiles first will help you sketch sensible intermediate profiles."
      ]
    },
    {
      "cell_type": "code",
      "metadata": {
        "id": "9rqqR20t_67J",
        "colab": {
          "base_uri": "https://localhost:8080/",
          "height": 717
        },
        "outputId": "a39dff94-23eb-4b1d-907d-d91bc0b860f7"
      },
      "source": [
        "from plotly.subplots import make_subplots\n",
        "import plotly.io as pio\n",
        "import numpy as np\n",
        "\n",
        "fig = make_subplots(rows=4, cols=3, column_titles=['Initial', 'Intermediate', 'Final'],\n",
        "                    vertical_spacing=0.03, horizontal_spacing=0.04)\n",
        "for i in range(4*3):\n",
        "  fig.add_scatter(x=None, y=None, row = i//3 +1 , col= i % 3+1)\n",
        "\n",
        "layout={}\n",
        "\n",
        "for i in fig['layout']['annotations']:\n",
        "    i['font'] = dict(size=10)\n",
        "    i['y']= 1.02\n",
        "\n",
        "layout['xaxis']=dict(range=(0,10), dtick=1, showticklabels=False, tickfont_size=8, showgrid=True,\n",
        "  mirror=True, ticks='outside', ticklen=2, showline=True)\n",
        "for i in range(2,4*3+1):\n",
        "  layout[f'xaxis{i}']=layout['xaxis']\n",
        "\n",
        "for i in range(10,13):\n",
        "  layout[f'xaxis{i}_title']='position (cm)'\n",
        "  layout[f'xaxis{i}_title_font_size']=9\n",
        "  layout[f'xaxis{i}_showticklabels']=True\n",
        "\n",
        "layout['yaxis']=dict(range=(0,1200), dtick=200, tickfont_size=8, showgrid=True,\n",
        "                       mirror=True, ticks='outside', ticklen=2, showline=True)\n",
        "for i in range(2,13):\n",
        "  layout[f'yaxis{i}']=layout['yaxis']\n",
        "  layout[f'yaxis{i}_showticklabels']=False\n",
        "\n",
        "layout['yaxis_title']=r'$\\rho_{H_2O}, \\, \\rho_{D_2O} \\, (kg/m^3)$'\n",
        "layout['yaxis_title_font_size']=9\n",
        "\n",
        "layout['yaxis4_title']=r'$c_{H_2O}, \\, c_{D_2O} \\, (mol/L)$'\n",
        "layout['yaxis7_title']=r'$J_{H_2O}, \\, J_{D_2O} \\, \\left( \\frac{mol}{m^2 s} \\right)$'\n",
        "layout['yaxis10_title']=r'$n \\, \\left( \\frac{kg}{m^2 s} \\right)$' \n",
        "for i in range(4,13,3):\n",
        "  layout[f'yaxis{i}_title_font_size']=8\n",
        "  layout[f'yaxis{i}_title_standoff']=34\n",
        "\n",
        "fig.update_layout(layout)\n",
        "\n",
        "fig.update_layout(width= 600, height=700, template=pio.templates['simple_white'])\n",
        "\n",
        "fig.show()"
      ],
      "execution_count": null,
      "outputs": [
        {
          "output_type": "display_data",
          "data": {
            "text/html": [
              "<html>\n",
              "<head><meta charset=\"utf-8\" /></head>\n",
              "<body>\n",
              "    <div>\n",
              "            <script src=\"https://cdnjs.cloudflare.com/ajax/libs/mathjax/2.7.5/MathJax.js?config=TeX-AMS-MML_SVG\"></script><script type=\"text/javascript\">if (window.MathJax) {MathJax.Hub.Config({SVG: {font: \"STIX-Web\"}});}</script>\n",
              "                <script type=\"text/javascript\">window.PlotlyConfig = {MathJaxConfig: 'local'};</script>\n",
              "        <script src=\"https://cdn.plot.ly/plotly-latest.min.js\"></script>    \n",
              "            <div id=\"87e9a780-36d2-41ba-b8cd-db035c1d18e5\" class=\"plotly-graph-div\" style=\"height:700px; width:600px;\"></div>\n",
              "            <script type=\"text/javascript\">\n",
              "                \n",
              "                    window.PLOTLYENV=window.PLOTLYENV || {};\n",
              "                    \n",
              "                if (document.getElementById(\"87e9a780-36d2-41ba-b8cd-db035c1d18e5\")) {\n",
              "                    Plotly.newPlot(\n",
              "                        '87e9a780-36d2-41ba-b8cd-db035c1d18e5',\n",
              "                        [{\"type\": \"scatter\", \"xaxis\": \"x\", \"yaxis\": \"y\"}, {\"type\": \"scatter\", \"xaxis\": \"x2\", \"yaxis\": \"y2\"}, {\"type\": \"scatter\", \"xaxis\": \"x3\", \"yaxis\": \"y3\"}, {\"type\": \"scatter\", \"xaxis\": \"x4\", \"yaxis\": \"y4\"}, {\"type\": \"scatter\", \"xaxis\": \"x5\", \"yaxis\": \"y5\"}, {\"type\": \"scatter\", \"xaxis\": \"x6\", \"yaxis\": \"y6\"}, {\"type\": \"scatter\", \"xaxis\": \"x7\", \"yaxis\": \"y7\"}, {\"type\": \"scatter\", \"xaxis\": \"x8\", \"yaxis\": \"y8\"}, {\"type\": \"scatter\", \"xaxis\": \"x9\", \"yaxis\": \"y9\"}, {\"type\": \"scatter\", \"xaxis\": \"x10\", \"yaxis\": \"y10\"}, {\"type\": \"scatter\", \"xaxis\": \"x11\", \"yaxis\": \"y11\"}, {\"type\": \"scatter\", \"xaxis\": \"x12\", \"yaxis\": \"y12\"}],\n",
              "                        {\"annotations\": [{\"font\": {\"size\": 10}, \"showarrow\": false, \"text\": \"Initial\", \"x\": 0.15333333333333335, \"xanchor\": \"center\", \"xref\": \"paper\", \"y\": 1.02, \"yanchor\": \"bottom\", \"yref\": \"paper\"}, {\"font\": {\"size\": 10}, \"showarrow\": false, \"text\": \"Intermediate\", \"x\": 0.5, \"xanchor\": \"center\", \"xref\": \"paper\", \"y\": 1.02, \"yanchor\": \"bottom\", \"yref\": \"paper\"}, {\"font\": {\"size\": 10}, \"showarrow\": false, \"text\": \"Final\", \"x\": 0.8466666666666667, \"xanchor\": \"center\", \"xref\": \"paper\", \"y\": 1.02, \"yanchor\": \"bottom\", \"yref\": \"paper\"}], \"height\": 700, \"template\": {\"data\": {\"bar\": [{\"error_x\": {\"color\": \"rgb(36,36,36)\"}, \"error_y\": {\"color\": \"rgb(36,36,36)\"}, \"marker\": {\"line\": {\"color\": \"white\", \"width\": 0.5}}, \"type\": \"bar\"}], \"barpolar\": [{\"marker\": {\"line\": {\"color\": \"white\", \"width\": 0.5}}, \"type\": \"barpolar\"}], \"carpet\": [{\"aaxis\": {\"endlinecolor\": \"rgb(36,36,36)\", \"gridcolor\": \"white\", \"linecolor\": \"white\", \"minorgridcolor\": \"white\", \"startlinecolor\": \"rgb(36,36,36)\"}, \"baxis\": {\"endlinecolor\": \"rgb(36,36,36)\", \"gridcolor\": \"white\", \"linecolor\": \"white\", \"minorgridcolor\": \"white\", \"startlinecolor\": \"rgb(36,36,36)\"}, \"type\": \"carpet\"}], \"choropleth\": [{\"colorbar\": {\"outlinewidth\": 10, \"tickcolor\": \"rgb(36,36,36)\", \"ticklen\": 8, \"ticks\": \"outside\", \"tickwidth\": 2}, \"type\": \"choropleth\"}], \"contour\": [{\"colorbar\": {\"outlinewidth\": 10, \"tickcolor\": \"rgb(36,36,36)\", \"ticklen\": 8, \"ticks\": \"outside\", \"tickwidth\": 2}, \"colorscale\": [[0.0, \"#440154\"], [0.1111111111111111, \"#482878\"], [0.2222222222222222, \"#3e4989\"], [0.3333333333333333, \"#31688e\"], [0.4444444444444444, \"#26828e\"], [0.5555555555555556, \"#1f9e89\"], [0.6666666666666666, \"#35b779\"], [0.7777777777777778, \"#6ece58\"], [0.8888888888888888, \"#b5de2b\"], [1.0, \"#fde725\"]], \"type\": \"contour\"}], \"contourcarpet\": [{\"colorbar\": {\"outlinewidth\": 10, \"tickcolor\": \"rgb(36,36,36)\", \"ticklen\": 8, \"ticks\": \"outside\", \"tickwidth\": 2}, \"type\": \"contourcarpet\"}], \"heatmap\": [{\"colorbar\": {\"outlinewidth\": 10, \"tickcolor\": \"rgb(36,36,36)\", \"ticklen\": 8, \"ticks\": \"outside\", \"tickwidth\": 2}, \"colorscale\": [[0.0, \"#440154\"], [0.1111111111111111, \"#482878\"], [0.2222222222222222, \"#3e4989\"], [0.3333333333333333, \"#31688e\"], [0.4444444444444444, \"#26828e\"], [0.5555555555555556, \"#1f9e89\"], [0.6666666666666666, \"#35b779\"], [0.7777777777777778, \"#6ece58\"], [0.8888888888888888, \"#b5de2b\"], [1.0, \"#fde725\"]], \"type\": \"heatmap\"}], \"heatmapgl\": [{\"colorbar\": {\"outlinewidth\": 10, \"tickcolor\": \"rgb(36,36,36)\", \"ticklen\": 8, \"ticks\": \"outside\", \"tickwidth\": 2}, \"colorscale\": [[0.0, \"#440154\"], [0.1111111111111111, \"#482878\"], [0.2222222222222222, \"#3e4989\"], [0.3333333333333333, \"#31688e\"], [0.4444444444444444, \"#26828e\"], [0.5555555555555556, \"#1f9e89\"], [0.6666666666666666, \"#35b779\"], [0.7777777777777778, \"#6ece58\"], [0.8888888888888888, \"#b5de2b\"], [1.0, \"#fde725\"]], \"type\": \"heatmapgl\"}], \"histogram\": [{\"marker\": {\"line\": {\"color\": \"white\", \"width\": 0.6}}, \"type\": \"histogram\"}], \"histogram2d\": [{\"colorbar\": {\"outlinewidth\": 10, \"tickcolor\": \"rgb(36,36,36)\", \"ticklen\": 8, \"ticks\": \"outside\", \"tickwidth\": 2}, \"colorscale\": [[0.0, \"#440154\"], [0.1111111111111111, \"#482878\"], [0.2222222222222222, \"#3e4989\"], [0.3333333333333333, \"#31688e\"], [0.4444444444444444, \"#26828e\"], [0.5555555555555556, \"#1f9e89\"], [0.6666666666666666, \"#35b779\"], [0.7777777777777778, \"#6ece58\"], [0.8888888888888888, \"#b5de2b\"], [1.0, \"#fde725\"]], \"type\": \"histogram2d\"}], \"histogram2dcontour\": [{\"colorbar\": {\"outlinewidth\": 10, \"tickcolor\": \"rgb(36,36,36)\", \"ticklen\": 8, \"ticks\": \"outside\", \"tickwidth\": 2}, \"colorscale\": [[0.0, \"#440154\"], [0.1111111111111111, \"#482878\"], [0.2222222222222222, \"#3e4989\"], [0.3333333333333333, \"#31688e\"], [0.4444444444444444, \"#26828e\"], [0.5555555555555556, \"#1f9e89\"], [0.6666666666666666, \"#35b779\"], [0.7777777777777778, \"#6ece58\"], [0.8888888888888888, \"#b5de2b\"], [1.0, \"#fde725\"]], \"type\": \"histogram2dcontour\"}], \"mesh3d\": [{\"colorbar\": {\"outlinewidth\": 10, \"tickcolor\": \"rgb(36,36,36)\", \"ticklen\": 8, \"ticks\": \"outside\", \"tickwidth\": 2}, \"type\": \"mesh3d\"}], \"parcoords\": [{\"line\": {\"colorbar\": {\"outlinewidth\": 10, \"tickcolor\": \"rgb(36,36,36)\", \"ticklen\": 8, \"ticks\": \"outside\", \"tickwidth\": 2}}, \"type\": \"parcoords\"}], \"pie\": [{\"automargin\": true, \"type\": \"pie\"}], \"scatter\": [{\"marker\": {\"colorbar\": {\"outlinewidth\": 10, \"tickcolor\": \"rgb(36,36,36)\", \"ticklen\": 8, \"ticks\": \"outside\", \"tickwidth\": 2}}, \"type\": \"scatter\"}], \"scatter3d\": [{\"line\": {\"colorbar\": {\"outlinewidth\": 10, \"tickcolor\": \"rgb(36,36,36)\", \"ticklen\": 8, \"ticks\": \"outside\", \"tickwidth\": 2}}, \"marker\": {\"colorbar\": {\"outlinewidth\": 10, \"tickcolor\": \"rgb(36,36,36)\", \"ticklen\": 8, \"ticks\": \"outside\", \"tickwidth\": 2}}, \"type\": \"scatter3d\"}], \"scattercarpet\": [{\"marker\": {\"colorbar\": {\"outlinewidth\": 10, \"tickcolor\": \"rgb(36,36,36)\", \"ticklen\": 8, \"ticks\": \"outside\", \"tickwidth\": 2}}, \"type\": \"scattercarpet\"}], \"scattergeo\": [{\"marker\": {\"colorbar\": {\"outlinewidth\": 10, \"tickcolor\": \"rgb(36,36,36)\", \"ticklen\": 8, \"ticks\": \"outside\", \"tickwidth\": 2}}, \"type\": \"scattergeo\"}], \"scattergl\": [{\"marker\": {\"colorbar\": {\"outlinewidth\": 10, \"tickcolor\": \"rgb(36,36,36)\", \"ticklen\": 8, \"ticks\": \"outside\", \"tickwidth\": 2}}, \"type\": \"scattergl\"}], \"scattermapbox\": [{\"marker\": {\"colorbar\": {\"outlinewidth\": 10, \"tickcolor\": \"rgb(36,36,36)\", \"ticklen\": 8, \"ticks\": \"outside\", \"tickwidth\": 2}}, \"type\": \"scattermapbox\"}], \"scatterpolar\": [{\"marker\": {\"colorbar\": {\"outlinewidth\": 10, \"tickcolor\": \"rgb(36,36,36)\", \"ticklen\": 8, \"ticks\": \"outside\", \"tickwidth\": 2}}, \"type\": \"scatterpolar\"}], \"scatterpolargl\": [{\"marker\": {\"colorbar\": {\"outlinewidth\": 10, \"tickcolor\": \"rgb(36,36,36)\", \"ticklen\": 8, \"ticks\": \"outside\", \"tickwidth\": 2}}, \"type\": \"scatterpolargl\"}], \"scatterternary\": [{\"marker\": {\"colorbar\": {\"outlinewidth\": 10, \"tickcolor\": \"rgb(36,36,36)\", \"ticklen\": 8, \"ticks\": \"outside\", \"tickwidth\": 2}}, \"type\": \"scatterternary\"}], \"surface\": [{\"colorbar\": {\"outlinewidth\": 10, \"tickcolor\": \"rgb(36,36,36)\", \"ticklen\": 8, \"ticks\": \"outside\", \"tickwidth\": 2}, \"colorscale\": [[0.0, \"#440154\"], [0.1111111111111111, \"#482878\"], [0.2222222222222222, \"#3e4989\"], [0.3333333333333333, \"#31688e\"], [0.4444444444444444, \"#26828e\"], [0.5555555555555556, \"#1f9e89\"], [0.6666666666666666, \"#35b779\"], [0.7777777777777778, \"#6ece58\"], [0.8888888888888888, \"#b5de2b\"], [1.0, \"#fde725\"]], \"type\": \"surface\"}], \"table\": [{\"cells\": {\"fill\": {\"color\": \"rgb(237,237,237)\"}, \"line\": {\"color\": \"white\"}}, \"header\": {\"fill\": {\"color\": \"rgb(217,217,217)\"}, \"line\": {\"color\": \"white\"}}, \"type\": \"table\"}]}, \"layout\": {\"annotationdefaults\": {\"arrowhead\": 0, \"arrowwidth\": 1}, \"coloraxis\": {\"colorbar\": {\"outlinewidth\": 10, \"tickcolor\": \"rgb(36,36,36)\", \"ticklen\": 8, \"ticks\": \"outside\", \"tickwidth\": 2}}, \"colorscale\": {\"diverging\": [[0.0, \"rgb(103,0,31)\"], [0.1, \"rgb(178,24,43)\"], [0.2, \"rgb(214,96,77)\"], [0.3, \"rgb(244,165,130)\"], [0.4, \"rgb(253,219,199)\"], [0.5, \"rgb(247,247,247)\"], [0.6, \"rgb(209,229,240)\"], [0.7, \"rgb(146,197,222)\"], [0.8, \"rgb(67,147,195)\"], [0.9, \"rgb(33,102,172)\"], [1.0, \"rgb(5,48,97)\"]], \"sequential\": [[0.0, \"#440154\"], [0.1111111111111111, \"#482878\"], [0.2222222222222222, \"#3e4989\"], [0.3333333333333333, \"#31688e\"], [0.4444444444444444, \"#26828e\"], [0.5555555555555556, \"#1f9e89\"], [0.6666666666666666, \"#35b779\"], [0.7777777777777778, \"#6ece58\"], [0.8888888888888888, \"#b5de2b\"], [1.0, \"#fde725\"]], \"sequentialminus\": [[0.0, \"#440154\"], [0.1111111111111111, \"#482878\"], [0.2222222222222222, \"#3e4989\"], [0.3333333333333333, \"#31688e\"], [0.4444444444444444, \"#26828e\"], [0.5555555555555556, \"#1f9e89\"], [0.6666666666666666, \"#35b779\"], [0.7777777777777778, \"#6ece58\"], [0.8888888888888888, \"#b5de2b\"], [1.0, \"#fde725\"]]}, \"colorway\": [\"#1F77B4\", \"#FF7F0E\", \"#2CA02C\", \"#D62728\", \"#9467BD\", \"#8C564B\", \"#E377C2\", \"#7F7F7F\", \"#BCBD22\", \"#17BECF\"], \"font\": {\"color\": \"rgb(36,36,36)\"}, \"geo\": {\"bgcolor\": \"white\", \"lakecolor\": \"white\", \"landcolor\": \"white\", \"showlakes\": true, \"showland\": true, \"subunitcolor\": \"white\"}, \"hoverlabel\": {\"align\": \"left\"}, \"hovermode\": \"closest\", \"mapbox\": {\"style\": \"light\"}, \"paper_bgcolor\": \"white\", \"plot_bgcolor\": \"white\", \"polar\": {\"angularaxis\": {\"gridcolor\": \"rgb(232,232,232)\", \"linecolor\": \"rgb(36,36,36)\", \"showgrid\": false, \"showline\": true, \"ticks\": \"outside\"}, \"bgcolor\": \"white\", \"radialaxis\": {\"gridcolor\": \"rgb(232,232,232)\", \"linecolor\": \"rgb(36,36,36)\", \"showgrid\": false, \"showline\": true, \"ticks\": \"outside\"}}, \"scene\": {\"xaxis\": {\"backgroundcolor\": \"white\", \"gridcolor\": \"rgb(232,232,232)\", \"gridwidth\": 2, \"linecolor\": \"rgb(36,36,36)\", \"showbackground\": true, \"showgrid\": false, \"showline\": true, \"ticks\": \"outside\", \"zeroline\": false, \"zerolinecolor\": \"rgb(36,36,36)\"}, \"yaxis\": {\"backgroundcolor\": \"white\", \"gridcolor\": \"rgb(232,232,232)\", \"gridwidth\": 2, \"linecolor\": \"rgb(36,36,36)\", \"showbackground\": true, \"showgrid\": false, \"showline\": true, \"ticks\": \"outside\", \"zeroline\": false, \"zerolinecolor\": \"rgb(36,36,36)\"}, \"zaxis\": {\"backgroundcolor\": \"white\", \"gridcolor\": \"rgb(232,232,232)\", \"gridwidth\": 2, \"linecolor\": \"rgb(36,36,36)\", \"showbackground\": true, \"showgrid\": false, \"showline\": true, \"ticks\": \"outside\", \"zeroline\": false, \"zerolinecolor\": \"rgb(36,36,36)\"}}, \"shapedefaults\": {\"fillcolor\": \"black\", \"line\": {\"width\": 0}, \"opacity\": 0.3}, \"ternary\": {\"aaxis\": {\"gridcolor\": \"rgb(232,232,232)\", \"linecolor\": \"rgb(36,36,36)\", \"showgrid\": false, \"showline\": true, \"ticks\": \"outside\"}, \"baxis\": {\"gridcolor\": \"rgb(232,232,232)\", \"linecolor\": \"rgb(36,36,36)\", \"showgrid\": false, \"showline\": true, \"ticks\": \"outside\"}, \"bgcolor\": \"white\", \"caxis\": {\"gridcolor\": \"rgb(232,232,232)\", \"linecolor\": \"rgb(36,36,36)\", \"showgrid\": false, \"showline\": true, \"ticks\": \"outside\"}}, \"title\": {\"x\": 0.05}, \"xaxis\": {\"automargin\": true, \"gridcolor\": \"rgb(232,232,232)\", \"linecolor\": \"rgb(36,36,36)\", \"showgrid\": false, \"showline\": true, \"ticks\": \"outside\", \"title\": {\"standoff\": 15}, \"zeroline\": false, \"zerolinecolor\": \"rgb(36,36,36)\"}, \"yaxis\": {\"automargin\": true, \"gridcolor\": \"rgb(232,232,232)\", \"linecolor\": \"rgb(36,36,36)\", \"showgrid\": false, \"showline\": true, \"ticks\": \"outside\", \"title\": {\"standoff\": 15}, \"zeroline\": false, \"zerolinecolor\": \"rgb(36,36,36)\"}}}, \"width\": 600, \"xaxis\": {\"anchor\": \"y\", \"domain\": [0.0, 0.3066666666666667], \"dtick\": 1, \"mirror\": true, \"range\": [0, 10], \"showgrid\": true, \"showline\": true, \"showticklabels\": false, \"tickfont\": {\"size\": 8}, \"ticklen\": 2, \"ticks\": \"outside\"}, \"xaxis10\": {\"anchor\": \"y10\", \"domain\": [0.0, 0.3066666666666667], \"dtick\": 1, \"mirror\": true, \"range\": [0, 10], \"showgrid\": true, \"showline\": true, \"showticklabels\": true, \"tickfont\": {\"size\": 8}, \"ticklen\": 2, \"ticks\": \"outside\", \"title\": {\"font\": {\"size\": 9}, \"text\": \"position (cm)\"}}, \"xaxis11\": {\"anchor\": \"y11\", \"domain\": [0.3466666666666667, 0.6533333333333333], \"dtick\": 1, \"mirror\": true, \"range\": [0, 10], \"showgrid\": true, \"showline\": true, \"showticklabels\": true, \"tickfont\": {\"size\": 8}, \"ticklen\": 2, \"ticks\": \"outside\", \"title\": {\"font\": {\"size\": 9}, \"text\": \"position (cm)\"}}, \"xaxis12\": {\"anchor\": \"y12\", \"domain\": [0.6933333333333334, 1.0], \"dtick\": 1, \"mirror\": true, \"range\": [0, 10], \"showgrid\": true, \"showline\": true, \"showticklabels\": true, \"tickfont\": {\"size\": 8}, \"ticklen\": 2, \"ticks\": \"outside\", \"title\": {\"font\": {\"size\": 9}, \"text\": \"position (cm)\"}}, \"xaxis2\": {\"anchor\": \"y2\", \"domain\": [0.3466666666666667, 0.6533333333333333], \"dtick\": 1, \"mirror\": true, \"range\": [0, 10], \"showgrid\": true, \"showline\": true, \"showticklabels\": false, \"tickfont\": {\"size\": 8}, \"ticklen\": 2, \"ticks\": \"outside\"}, \"xaxis3\": {\"anchor\": \"y3\", \"domain\": [0.6933333333333334, 1.0], \"dtick\": 1, \"mirror\": true, \"range\": [0, 10], \"showgrid\": true, \"showline\": true, \"showticklabels\": false, \"tickfont\": {\"size\": 8}, \"ticklen\": 2, \"ticks\": \"outside\"}, \"xaxis4\": {\"anchor\": \"y4\", \"domain\": [0.0, 0.3066666666666667], \"dtick\": 1, \"mirror\": true, \"range\": [0, 10], \"showgrid\": true, \"showline\": true, \"showticklabels\": false, \"tickfont\": {\"size\": 8}, \"ticklen\": 2, \"ticks\": \"outside\"}, \"xaxis5\": {\"anchor\": \"y5\", \"domain\": [0.3466666666666667, 0.6533333333333333], \"dtick\": 1, \"mirror\": true, \"range\": [0, 10], \"showgrid\": true, \"showline\": true, \"showticklabels\": false, \"tickfont\": {\"size\": 8}, \"ticklen\": 2, \"ticks\": \"outside\"}, \"xaxis6\": {\"anchor\": \"y6\", \"domain\": [0.6933333333333334, 1.0], \"dtick\": 1, \"mirror\": true, \"range\": [0, 10], \"showgrid\": true, \"showline\": true, \"showticklabels\": false, \"tickfont\": {\"size\": 8}, \"ticklen\": 2, \"ticks\": \"outside\"}, \"xaxis7\": {\"anchor\": \"y7\", \"domain\": [0.0, 0.3066666666666667], \"dtick\": 1, \"mirror\": true, \"range\": [0, 10], \"showgrid\": true, \"showline\": true, \"showticklabels\": false, \"tickfont\": {\"size\": 8}, \"ticklen\": 2, \"ticks\": \"outside\"}, \"xaxis8\": {\"anchor\": \"y8\", \"domain\": [0.3466666666666667, 0.6533333333333333], \"dtick\": 1, \"mirror\": true, \"range\": [0, 10], \"showgrid\": true, \"showline\": true, \"showticklabels\": false, \"tickfont\": {\"size\": 8}, \"ticklen\": 2, \"ticks\": \"outside\"}, \"xaxis9\": {\"anchor\": \"y9\", \"domain\": [0.6933333333333334, 1.0], \"dtick\": 1, \"mirror\": true, \"range\": [0, 10], \"showgrid\": true, \"showline\": true, \"showticklabels\": false, \"tickfont\": {\"size\": 8}, \"ticklen\": 2, \"ticks\": \"outside\"}, \"yaxis\": {\"anchor\": \"x\", \"domain\": [0.7725, 1.0], \"dtick\": 200, \"mirror\": true, \"range\": [0, 1200], \"showgrid\": true, \"showline\": true, \"tickfont\": {\"size\": 8}, \"ticklen\": 2, \"ticks\": \"outside\", \"title\": {\"font\": {\"size\": 9}, \"text\": \"$\\\\rho_{H_2O}, \\\\, \\\\rho_{D_2O} \\\\, (kg/m^3)$\"}}, \"yaxis10\": {\"anchor\": \"x10\", \"domain\": [0.0, 0.2275], \"dtick\": 200, \"mirror\": true, \"range\": [0, 1200], \"showgrid\": true, \"showline\": true, \"showticklabels\": false, \"tickfont\": {\"size\": 8}, \"ticklen\": 2, \"ticks\": \"outside\", \"title\": {\"font\": {\"size\": 8}, \"standoff\": 34, \"text\": \"$n \\\\, \\\\left( \\\\frac{kg}{m^2 s} \\\\right)$\"}}, \"yaxis11\": {\"anchor\": \"x11\", \"domain\": [0.0, 0.2275], \"dtick\": 200, \"mirror\": true, \"range\": [0, 1200], \"showgrid\": true, \"showline\": true, \"showticklabels\": false, \"tickfont\": {\"size\": 8}, \"ticklen\": 2, \"ticks\": \"outside\"}, \"yaxis12\": {\"anchor\": \"x12\", \"domain\": [0.0, 0.2275], \"dtick\": 200, \"mirror\": true, \"range\": [0, 1200], \"showgrid\": true, \"showline\": true, \"showticklabels\": false, \"tickfont\": {\"size\": 8}, \"ticklen\": 2, \"ticks\": \"outside\"}, \"yaxis2\": {\"anchor\": \"x2\", \"domain\": [0.7725, 1.0], \"dtick\": 200, \"mirror\": true, \"range\": [0, 1200], \"showgrid\": true, \"showline\": true, \"showticklabels\": false, \"tickfont\": {\"size\": 8}, \"ticklen\": 2, \"ticks\": \"outside\"}, \"yaxis3\": {\"anchor\": \"x3\", \"domain\": [0.7725, 1.0], \"dtick\": 200, \"mirror\": true, \"range\": [0, 1200], \"showgrid\": true, \"showline\": true, \"showticklabels\": false, \"tickfont\": {\"size\": 8}, \"ticklen\": 2, \"ticks\": \"outside\"}, \"yaxis4\": {\"anchor\": \"x4\", \"domain\": [0.515, 0.7425], \"dtick\": 200, \"mirror\": true, \"range\": [0, 1200], \"showgrid\": true, \"showline\": true, \"showticklabels\": false, \"tickfont\": {\"size\": 8}, \"ticklen\": 2, \"ticks\": \"outside\", \"title\": {\"font\": {\"size\": 8}, \"standoff\": 34, \"text\": \"$c_{H_2O}, \\\\, c_{D_2O} \\\\, (mol/L)$\"}}, \"yaxis5\": {\"anchor\": \"x5\", \"domain\": [0.515, 0.7425], \"dtick\": 200, \"mirror\": true, \"range\": [0, 1200], \"showgrid\": true, \"showline\": true, \"showticklabels\": false, \"tickfont\": {\"size\": 8}, \"ticklen\": 2, \"ticks\": \"outside\"}, \"yaxis6\": {\"anchor\": \"x6\", \"domain\": [0.515, 0.7425], \"dtick\": 200, \"mirror\": true, \"range\": [0, 1200], \"showgrid\": true, \"showline\": true, \"showticklabels\": false, \"tickfont\": {\"size\": 8}, \"ticklen\": 2, \"ticks\": \"outside\"}, \"yaxis7\": {\"anchor\": \"x7\", \"domain\": [0.2575, 0.485], \"dtick\": 200, \"mirror\": true, \"range\": [0, 1200], \"showgrid\": true, \"showline\": true, \"showticklabels\": false, \"tickfont\": {\"size\": 8}, \"ticklen\": 2, \"ticks\": \"outside\", \"title\": {\"font\": {\"size\": 8}, \"standoff\": 34, \"text\": \"$J_{H_2O}, \\\\, J_{D_2O} \\\\, \\\\left( \\\\frac{mol}{m^2 s} \\\\right)$\"}}, \"yaxis8\": {\"anchor\": \"x8\", \"domain\": [0.2575, 0.485], \"dtick\": 200, \"mirror\": true, \"range\": [0, 1200], \"showgrid\": true, \"showline\": true, \"showticklabels\": false, \"tickfont\": {\"size\": 8}, \"ticklen\": 2, \"ticks\": \"outside\"}, \"yaxis9\": {\"anchor\": \"x9\", \"domain\": [0.2575, 0.485], \"dtick\": 200, \"mirror\": true, \"range\": [0, 1200], \"showgrid\": true, \"showline\": true, \"showticklabels\": false, \"tickfont\": {\"size\": 8}, \"ticklen\": 2, \"ticks\": \"outside\"}},\n",
              "                        {\"responsive\": true}\n",
              "                    ).then(function(){\n",
              "                            \n",
              "var gd = document.getElementById('87e9a780-36d2-41ba-b8cd-db035c1d18e5');\n",
              "var x = new MutationObserver(function (mutations, observer) {{\n",
              "        var display = window.getComputedStyle(gd).display;\n",
              "        if (!display || display === 'none') {{\n",
              "            console.log([gd, 'removed!']);\n",
              "            Plotly.purge(gd);\n",
              "            observer.disconnect();\n",
              "        }}\n",
              "}});\n",
              "\n",
              "// Listen for the removal of the full notebook cells\n",
              "var notebookContainer = gd.closest('#notebook-container');\n",
              "if (notebookContainer) {{\n",
              "    x.observe(notebookContainer, {childList: true});\n",
              "}}\n",
              "\n",
              "// Listen for the clearing of the current output cell\n",
              "var outputEl = gd.closest('.output');\n",
              "if (outputEl) {{\n",
              "    x.observe(outputEl, {childList: true});\n",
              "}}\n",
              "\n",
              "                        })\n",
              "                };\n",
              "                \n",
              "            </script>\n",
              "        </div>\n",
              "</body>\n",
              "</html>"
            ]
          },
          "metadata": {
            "tags": []
          }
        }
      ]
    }
  ]
}