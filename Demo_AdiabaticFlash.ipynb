{
 "nbformat": 4,
 "nbformat_minor": 0,
 "metadata": {
  "kernelspec": {
   "display_name": "Python 3",
   "language": "python",
   "name": "python3"
  },
  "language_info": {
   "codemirror_mode": {
    "name": "ipython",
    "version": 2
   },
   "file_extension": ".py",
   "mimetype": "text/x-python",
   "name": "python",
   "nbconvert_exporter": "python",
   "pygments_lexer": "ipython2",
   "version": "2.7.6"
  },
  "colab": {
   "name": "Demo_AdiabaticFlash.ipynb",
   "provenance": [],
   "include_colab_link": true
  }
 },
 "cells": [
  {
   "cell_type": "markdown",
   "metadata": {
    "id": "view-in-github",
    "colab_type": "text",
    "pycharm": {
     "name": "#%% md\n"
    }
   },
   "source": [
    "<a href=\"https://colab.research.google.com/github/profteachkids/CHE2064/blob/master/Demo_AdiabaticFlash.ipynb\" target=\"_parent\"><img src=\"https://colab.research.google.com/assets/colab-badge.svg\" alt=\"Open In Colab\"/></a>"
   ]
  },
  {
   "cell_type": "code",
   "metadata": {
    "pycharm": {
     "name": "#%%\n"
    },
    "id": "CiXlQcV0ul0G",
    "colab_type": "code",
    "colab": {
     "base_uri": "https://localhost:8080/",
     "height": 649
    },
    "outputId": "378d118e-7e08-48ff-b62b-7761c830c198"
   },
   "source": [
    "!wget https://raw.githubusercontent.com/profteachkids/CHE2064/master/vsc.py\n",
    "!wget https://raw.githubusercontent.com/profteachkids/CHE2064/master/trust_ncg.py\n",
    "!wget https://raw.githubusercontent.com/profteachkids/CHE2064/master/che_tools.py\n",
    "!pip install DotMap"
   ],
   "execution_count": 1,
   "outputs": [
    {
     "output_type": "stream",
     "text": [
      "--2020-09-08 12:20:11--  https://raw.githubusercontent.com/profteachkids/CHE2064/master/vsc.py\n",
      "Resolving raw.githubusercontent.com (raw.githubusercontent.com)... 151.101.0.133, 151.101.64.133, 151.101.128.133, ...\n",
      "Connecting to raw.githubusercontent.com (raw.githubusercontent.com)|151.101.0.133|:443... connected.\n",
      "HTTP request sent, awaiting response... 200 OK\n",
      "Length: 3247 (3.2K) [text/plain]\n",
      "Saving to: ‘vsc.py’\n",
      "\n",
      "vsc.py              100%[===================>]   3.17K  --.-KB/s    in 0s      \n",
      "\n",
      "2020-09-08 12:20:11 (49.1 MB/s) - ‘vsc.py’ saved [3247/3247]\n",
      "\n",
      "--2020-09-08 12:20:11--  https://raw.githubusercontent.com/profteachkids/CHE2064/master/trust_ncg.py\n",
      "Resolving raw.githubusercontent.com (raw.githubusercontent.com)... 151.101.0.133, 151.101.64.133, 151.101.128.133, ...\n",
      "Connecting to raw.githubusercontent.com (raw.githubusercontent.com)|151.101.0.133|:443... connected.\n",
      "HTTP request sent, awaiting response... 200 OK\n",
      "Length: 2871 (2.8K) [text/plain]\n",
      "Saving to: ‘trust_ncg.py’\n",
      "\n",
      "trust_ncg.py        100%[===================>]   2.80K  --.-KB/s    in 0s      \n",
      "\n",
      "2020-09-08 12:20:11 (41.0 MB/s) - ‘trust_ncg.py’ saved [2871/2871]\n",
      "\n",
      "--2020-09-08 12:20:11--  https://raw.githubusercontent.com/profteachkids/CHE2064/master/che_tools.py\n",
      "Resolving raw.githubusercontent.com (raw.githubusercontent.com)... 151.101.0.133, 151.101.64.133, 151.101.128.133, ...\n",
      "Connecting to raw.githubusercontent.com (raw.githubusercontent.com)|151.101.0.133|:443... connected.\n",
      "HTTP request sent, awaiting response... 200 OK\n",
      "Length: 6401 (6.3K) [text/plain]\n",
      "Saving to: ‘che_tools.py’\n",
      "\n",
      "che_tools.py        100%[===================>]   6.25K  --.-KB/s    in 0s      \n",
      "\n",
      "2020-09-08 12:20:12 (61.5 MB/s) - ‘che_tools.py’ saved [6401/6401]\n",
      "\n",
      "Collecting DotMap\n",
      "  Downloading https://files.pythonhosted.org/packages/52/47/9ca39d01b872c1bf2da0f0031cb3c4e3a016170c181e34d889253e404d59/dotmap-1.3.17-py3-none-any.whl\n",
      "Installing collected packages: DotMap\n",
      "Successfully installed DotMap-1.3.17\n"
     ],
     "name": "stdout"
    }
   ]
  },
  {
   "cell_type": "code",
   "metadata": {
    "id": "DLGVgv4Pul0O",
    "colab_type": "code",
    "colab": {}
   },
   "source": [
    "from dotmap import DotMap\n",
    "import jax.numpy as jnp\n",
    "import jax\n",
    "import vsc\n",
    "import trust_ncg as tncg\n",
    "import che_tools as che"
   ],
   "execution_count": 22,
   "outputs": []
  },
  {
   "cell_type": "code",
   "metadata": {
    "pycharm": {
     "name": "#%%\n"
    },
    "id": "Wjacie-aul0U",
    "colab_type": "code",
    "colab": {}
   },
   "source": [
    "p = che.Props(['Ethanol', 'Isopropanol', 'Water'])"
   ],
   "execution_count": 23,
   "outputs": []
  },
  {
   "cell_type": "code",
   "metadata": {
    "pycharm": {
     "name": "#%%\n"
    },
    "id": "DzvIFEmsqJ87",
    "colab_type": "code",
    "colab": {}
   },
   "source": [
    "def model(c):\n",
    "    c=DotMap(c)\n",
    "    V = c.Vy * c.Vtot\n",
    "    L = c.Lx * c.Ltot\n",
    "    F = c.Fz * c.Ftot\n",
    "    mass_balance = (F - V - L)\n",
    "    mass_balance = (mass_balance/jnp.sum(F))**2\n",
    "\n",
    "    FH = p.Hmix(0., F, c.FT)\n",
    "    VH = p.Hmix(V, 0., c.flashT)\n",
    "    LH = p.Hmix(0., L, c.flashT)\n",
    "    energy_balance = (FH - VH - LH)\n",
    "    energy_balance = (energy_balance/jnp.sum(FH))**2\n",
    "\n",
    "    fugacity = (c.Lx*p.Pvap(c.flashT) - c.Vy*c.flashP)\n",
    "    fugacity = (fugacity/jnp.sum(c.Vy*c.flashP))**2\n",
    "\n",
    "    return jnp.sum(mass_balance + energy_balance + fugacity)"
   ],
   "execution_count": 24,
   "outputs": []
  },
  {
   "cell_type": "code",
   "metadata": {
    "pycharm": {
     "name": "#%%\n"
    },
    "id": "s1Krs9e2qJ8_",
    "colab_type": "code",
    "colab": {
     "base_uri": "https://localhost:8080/",
     "height": 87
    },
    "outputId": "d0a95781-f001-4f99-eae0-57aa3c05d112"
   },
   "source": [
    "s=DotMap()\n",
    "s.Ftot=10\n",
    "s.Fz = jnp.array([1/3, 1/3, 1/3])\n",
    "s.FT = 380\n",
    "s.flashP= 101325\n",
    "\n",
    "v=DotMap()\n",
    "v.Vy = vsc.Comp([0.4, 0.35, 0.25])\n",
    "v.Lx = vsc.Comp([0.25, 0.35, 0.4])\n",
    "v.flashT = vsc.Range(350, 300, 380)\n",
    "v.Vtot = s.Ftot/2\n",
    "v.Ltot = s.Ftot/2"
   ],
   "execution_count": 25,
   "outputs": []
  },
  {
   "cell_type": "code",
   "metadata": {
    "pycharm": {
     "name": "#%%\n"
    },
    "id": "B_qzKOKtul0a",
    "colab_type": "code",
    "colab": {
     "base_uri": "https://localhost:8080/",
     "height": 368
    },
    "outputId": "4f8e6394-4dd0-463a-e796-a5bc4376b699"
   },
   "source": [
    "c=vsc.VSC(v,s)\n",
    "model(c.xtoc(c.x))"
   ],
   "execution_count": 26,
   "outputs": [
    {
     "name": "stdout",
     "output_type": "stream",
     "text": [
      "[\"<class 'int'>, 380\\n\", \"<class 'int'>, 10\\n\", \"<class 'jax.interpreters.xla.DeviceArray'>, [0.33333333 0.33333333 0.33333333]\\n\", \"<class 'float'>, 5.0\\n\", \"<class 'numpy.float64'>, -0.47000362924573547\\n\", \"<class 'numpy.float64'>, -0.13353139262452274\\n\", \"<class 'float'>, 5.0\\n\", \"<class 'numpy.float64'>, 0.4700036292457356\\n\", \"<class 'numpy.float64'>, 0.33647223662121273\\n\", \"<class 'int'>, 101325\\n\", \"<class 'float'>, 0.625\\n\"]\n",
      "[\"<class 'float'>, nan\\n\", \"<class 'float'>, nan\\n\", \"<class 'jax.interpreters.xla.DeviceArray'>, [nan nan nan]\\n\", \"<class 'float'>, 5.0\\n\", \"<class 'numpy.float64'>, -0.47000362924573547\\n\", \"<class 'numpy.float64'>, -0.13353139262452274\\n\", \"<class 'float'>, 5.0\\n\", \"<class 'numpy.float64'>, 0.4700036292457356\\n\", \"<class 'numpy.float64'>, 0.33647223662121273\\n\", \"<class 'float'>, nan\\n\", \"<class 'float'>, 0.625\\n\"]\n"
     ]
    },
    {
     "data": {
      "text/plain": "DeviceArray(0.0721327, dtype=float64)"
     },
     "execution_count": 26,
     "metadata": {},
     "output_type": "execute_result"
    }
   ]
  },
  {
   "cell_type": "code",
   "execution_count": 27,
   "outputs": [
    {
     "name": "stdout",
     "output_type": "stream",
     "text": [
      "0:2, f: 0.0721327005499455\n",
      "1:1, f: 0.0721327005499455\n",
      "2:0, f: 0.0721327005499455\n",
      "3:1, f: 0.0495429252974428\n",
      "4:1, f: 0.03640191500521994\n",
      "5:2, f: 0.026654456423456013\n",
      "6:4, f: 0.014158431599687736\n",
      "7:4, f: 0.008162012342045732\n",
      "8:7, f: 0.0032456943639230665\n",
      "9:7, f: 0.0001357743225833637\n",
      "10:7, f: 1.588911353409773e-07\n",
      "Final results:\n",
      "f: 1.158868877130111e-13\n",
      "x: [ 9.19945904 -0.05913598 -0.04393861  0.80054178  0.75797847  0.61460816\n",
      "  0.73290355]\n"
     ]
    }
   ],
   "source": [
    "modelf = jax.jit(c.transform(model))\n",
    "x_min, f = tncg.minimize(modelf,c.x, verbosity=1)"
   ],
   "metadata": {
    "collapsed": false,
    "pycharm": {
     "name": "#%%\n"
    }
   }
  },
  {
   "cell_type": "code",
   "execution_count": 28,
   "outputs": [
    {
     "data": {
      "text/plain": "                 (vector3, 1) (vector3, 2) (vector3, 3)\nFT           380                                       \nFtot          10                                       \nFz                   0.333333     0.333333     0.333333\nLtot     9.19946                                       \nLx                   0.325073     0.330051     0.344876\nVtot    0.800542                                       \nVy                   0.428257     0.371056     0.200687\nflashP    101325                                       \nflashT   358.632                                       ",
      "text/html": "<div>\n<style scoped>\n    .dataframe tbody tr th:only-of-type {\n        vertical-align: middle;\n    }\n\n    .dataframe tbody tr th {\n        vertical-align: top;\n    }\n\n    .dataframe thead th {\n        text-align: right;\n    }\n</style>\n<table border=\"1\" class=\"dataframe\">\n  <thead>\n    <tr style=\"text-align: right;\">\n      <th></th>\n      <th></th>\n      <th>(vector3, 1)</th>\n      <th>(vector3, 2)</th>\n      <th>(vector3, 3)</th>\n    </tr>\n  </thead>\n  <tbody>\n    <tr>\n      <th>FT</th>\n      <td>380</td>\n      <td></td>\n      <td></td>\n      <td></td>\n    </tr>\n    <tr>\n      <th>Ftot</th>\n      <td>10</td>\n      <td></td>\n      <td></td>\n      <td></td>\n    </tr>\n    <tr>\n      <th>Fz</th>\n      <td></td>\n      <td>0.333333</td>\n      <td>0.333333</td>\n      <td>0.333333</td>\n    </tr>\n    <tr>\n      <th>Ltot</th>\n      <td>9.19946</td>\n      <td></td>\n      <td></td>\n      <td></td>\n    </tr>\n    <tr>\n      <th>Lx</th>\n      <td></td>\n      <td>0.325073</td>\n      <td>0.330051</td>\n      <td>0.344876</td>\n    </tr>\n    <tr>\n      <th>Vtot</th>\n      <td>0.800542</td>\n      <td></td>\n      <td></td>\n      <td></td>\n    </tr>\n    <tr>\n      <th>Vy</th>\n      <td></td>\n      <td>0.428257</td>\n      <td>0.371056</td>\n      <td>0.200687</td>\n    </tr>\n    <tr>\n      <th>flashP</th>\n      <td>101325</td>\n      <td></td>\n      <td></td>\n      <td></td>\n    </tr>\n    <tr>\n      <th>flashT</th>\n      <td>358.632</td>\n      <td></td>\n      <td></td>\n      <td></td>\n    </tr>\n  </tbody>\n</table>\n</div>"
     },
     "execution_count": 28,
     "metadata": {},
     "output_type": "execute_result"
    }
   ],
   "source": [
    "v_sol = c.xtoc(x_min)\n",
    "df=vsc.todf(v_sol)\n",
    "df"
   ],
   "metadata": {
    "collapsed": false,
    "pycharm": {
     "name": "#%%\n"
    }
   }
  }
 ]
}