{
  "nbformat": 4,
  "nbformat_minor": 0,
  "metadata": {
    "kernelspec": {
      "display_name": "Python 3",
      "language": "python",
      "name": "python3"
    },
    "language_info": {
      "codemirror_mode": {
        "name": "ipython",
        "version": 2
      },
      "file_extension": ".py",
      "mimetype": "text/x-python",
      "name": "python",
      "nbconvert_exporter": "python",
      "pygments_lexer": "ipython2",
      "version": "2.7.6"
    },
    "colab": {
      "name": "Demo_AdiabaticFlash.ipynb",
      "provenance": [],
      "include_colab_link": true
    }
  },
  "cells": [
    {
      "cell_type": "markdown",
      "metadata": {
        "id": "view-in-github",
        "colab_type": "text"
      },
      "source": [
        "<a href=\"https://colab.research.google.com/github/profteachkids/CHE2064/blob/master/Demo_AdiabaticFlash.ipynb\" target=\"_parent\"><img src=\"https://colab.research.google.com/assets/colab-badge.svg\" alt=\"Open In Colab\"/></a>"
      ]
    },
    {
      "cell_type": "code",
      "metadata": {
        "pycharm": {
          "name": "#%%\n"
        },
        "id": "CiXlQcV0ul0G",
        "colab_type": "code",
        "colab": {
          "base_uri": "https://localhost:8080/",
          "height": 649
        },
        "outputId": "3bee5898-5dd6-4478-a670-1e617ec170ef"
      },
      "source": [
        "!wget https://raw.githubusercontent.com/profteachkids/CHE2064/master/vsc.py\n",
        "!wget https://raw.githubusercontent.com/profteachkids/CHE2064/master/trust_ncg.py\n",
        "!wget https://raw.githubusercontent.com/profteachkids/CHE2064/master/che_tools.py\n",
        "!pip install DotMap"
      ],
      "execution_count": 1,
      "outputs": [
        {
          "output_type": "stream",
          "text": [
            "--2020-09-09 13:22:03--  https://raw.githubusercontent.com/profteachkids/CHE2064/master/vsc.py\n",
            "Resolving raw.githubusercontent.com (raw.githubusercontent.com)... 151.101.0.133, 151.101.64.133, 151.101.128.133, ...\n",
            "Connecting to raw.githubusercontent.com (raw.githubusercontent.com)|151.101.0.133|:443... connected.\n",
            "HTTP request sent, awaiting response... 200 OK\n",
            "Length: 4511 (4.4K) [text/plain]\n",
            "Saving to: ‘vsc.py’\n",
            "\n",
            "vsc.py              100%[===================>]   4.41K  --.-KB/s    in 0s      \n",
            "\n",
            "2020-09-09 13:22:03 (58.2 MB/s) - ‘vsc.py’ saved [4511/4511]\n",
            "\n",
            "--2020-09-09 13:22:03--  https://raw.githubusercontent.com/profteachkids/CHE2064/master/trust_ncg.py\n",
            "Resolving raw.githubusercontent.com (raw.githubusercontent.com)... 151.101.0.133, 151.101.64.133, 151.101.128.133, ...\n",
            "Connecting to raw.githubusercontent.com (raw.githubusercontent.com)|151.101.0.133|:443... connected.\n",
            "HTTP request sent, awaiting response... 200 OK\n",
            "Length: 2871 (2.8K) [text/plain]\n",
            "Saving to: ‘trust_ncg.py’\n",
            "\n",
            "trust_ncg.py        100%[===================>]   2.80K  --.-KB/s    in 0s      \n",
            "\n",
            "2020-09-09 13:22:03 (45.1 MB/s) - ‘trust_ncg.py’ saved [2871/2871]\n",
            "\n",
            "--2020-09-09 13:22:03--  https://raw.githubusercontent.com/profteachkids/CHE2064/master/che_tools.py\n",
            "Resolving raw.githubusercontent.com (raw.githubusercontent.com)... 151.101.0.133, 151.101.64.133, 151.101.128.133, ...\n",
            "Connecting to raw.githubusercontent.com (raw.githubusercontent.com)|151.101.0.133|:443... connected.\n",
            "HTTP request sent, awaiting response... 200 OK\n",
            "Length: 6389 (6.2K) [text/plain]\n",
            "Saving to: ‘che_tools.py’\n",
            "\n",
            "che_tools.py        100%[===================>]   6.24K  --.-KB/s    in 0s      \n",
            "\n",
            "2020-09-09 13:22:03 (31.6 MB/s) - ‘che_tools.py’ saved [6389/6389]\n",
            "\n",
            "Collecting DotMap\n",
            "  Downloading https://files.pythonhosted.org/packages/52/47/9ca39d01b872c1bf2da0f0031cb3c4e3a016170c181e34d889253e404d59/dotmap-1.3.17-py3-none-any.whl\n",
            "Installing collected packages: DotMap\n",
            "Successfully installed DotMap-1.3.17\n"
          ],
          "name": "stdout"
        }
      ]
    },
    {
      "cell_type": "code",
      "metadata": {
        "id": "DLGVgv4Pul0O",
        "colab_type": "code",
        "colab": {}
      },
      "source": [
        "from dotmap import DotMap\n",
        "import jax.numpy as jnp\n",
        "import jax\n",
        "import vsc\n",
        "import trust_ncg as tncg\n",
        "import che_tools as che"
      ],
      "execution_count": 2,
      "outputs": []
    },
    {
      "cell_type": "code",
      "metadata": {
        "pycharm": {
          "name": "#%%\n"
        },
        "id": "Wjacie-aul0U",
        "colab_type": "code",
        "colab": {}
      },
      "source": [
        "p = che.Props(['Ethanol', 'Isopropanol', 'Water'])"
      ],
      "execution_count": 3,
      "outputs": []
    },
    {
      "cell_type": "code",
      "metadata": {
        "pycharm": {
          "name": "#%%\n"
        },
        "id": "DzvIFEmsqJ87",
        "colab_type": "code",
        "colab": {}
      },
      "source": [
        "def model(c):\n",
        "    c=DotMap(c)\n",
        "    V = c.Vy * c.Vtot\n",
        "    L = c.Lx * c.Ltot\n",
        "    F = c.Fz * c.Ftot\n",
        "    mass_balance = (F - V - L)\n",
        "    mass_balance = (mass_balance/jnp.sum(F))**2\n",
        "\n",
        "    FH = p.Hmix(0., F, c.FT)\n",
        "    VH = p.Hmix(V, 0., c.flashT)\n",
        "    LH = p.Hmix(0., L, c.flashT)\n",
        "    energy_balance = (FH - VH - LH)\n",
        "    energy_balance = (energy_balance/jnp.sum(FH))**2\n",
        "\n",
        "    fugacity = (c.Lx*p.Pvap(c.flashT) - c.Vy*c.flashP)\n",
        "    fugacity = (fugacity/jnp.sum(c.Vy*c.flashP))**2\n",
        "\n",
        "    return jnp.sum(mass_balance + energy_balance + fugacity)"
      ],
      "execution_count": 4,
      "outputs": []
    },
    {
      "cell_type": "code",
      "metadata": {
        "pycharm": {
          "name": "#%%\n"
        },
        "id": "s1Krs9e2qJ8_",
        "colab_type": "code",
        "colab": {
          "base_uri": "https://localhost:8080/",
          "height": 71
        },
        "outputId": "7ab33c7c-315e-4748-da1b-755881333cc0"
      },
      "source": [
        "s=DotMap()\n",
        "s.Ftot=10\n",
        "s.Fz = jnp.array([1/3, 1/3, 1/3])\n",
        "s.FT = 380\n",
        "s.flashP= 101325\n",
        "\n",
        "v=DotMap()\n",
        "v.Vy = vsc.Comp([0.4, 0.35, 0.25])\n",
        "v.Lx = vsc.Comp([0.25, 0.35, 0.4])\n",
        "v.flashT = vsc.Range(350, 300, 380)\n",
        "v.Vtot = s.Ftot/2\n",
        "v.Ltot = s.Ftot/2"
      ],
      "execution_count": 5,
      "outputs": [
        {
          "output_type": "stream",
          "text": [
            "/usr/local/lib/python3.6/dist-packages/jax/lib/xla_bridge.py:130: UserWarning: No GPU/TPU found, falling back to CPU.\n",
            "  warnings.warn('No GPU/TPU found, falling back to CPU.')\n"
          ],
          "name": "stderr"
        }
      ]
    },
    {
      "cell_type": "code",
      "metadata": {
        "pycharm": {
          "name": "#%%\n"
        },
        "id": "B_qzKOKtul0a",
        "colab_type": "code",
        "colab": {
          "base_uri": "https://localhost:8080/",
          "height": 54
        },
        "outputId": "9df603eb-f0ca-4ae8-be67-4b2b977e78a6"
      },
      "source": [
        "c=vsc.VSC(v,s)\n",
        "model(c.xtoc(c.x))"
      ],
      "execution_count": 6,
      "outputs": [
        {
          "output_type": "execute_result",
          "data": {
            "text/plain": [
              "DeviceArray(0.0721327, dtype=float64)"
            ]
          },
          "metadata": {
            "tags": []
          },
          "execution_count": 6
        }
      ]
    },
    {
      "cell_type": "code",
      "metadata": {
        "pycharm": {
          "name": "#%%\n"
        },
        "id": "WL1QqHINB5of",
        "colab_type": "code",
        "colab": {
          "base_uri": "https://localhost:8080/",
          "height": 286
        },
        "outputId": "0d4aa885-69d6-47ef-c2f2-c40878d3f40f"
      },
      "source": [
        "modelf = jax.jit(c.transform(model))\n",
        "x_min, f = tncg.minimize(modelf,c.x, verbosity=1)"
      ],
      "execution_count": 7,
      "outputs": [
        {
          "output_type": "stream",
          "text": [
            "0:2, f: 0.0721327005499455\n",
            "1:1, f: 0.0721327005499455\n",
            "2:0, f: 0.0721327005499455\n",
            "3:1, f: 0.0495429252974428\n",
            "4:1, f: 0.03640191500521994\n",
            "5:2, f: 0.026654456423456013\n",
            "6:4, f: 0.014158431599687736\n",
            "7:4, f: 0.008162012342045732\n",
            "8:7, f: 0.0032456943639230665\n",
            "9:7, f: 0.0001357743225833637\n",
            "10:7, f: 1.588911353409773e-07\n",
            "Final results:\n",
            "f: 1.158868877130111e-13\n",
            "x: [ 9.19945904 -0.05913598 -0.04393861  0.80054178  0.75797847  0.61460816\n",
            "  0.73290355]\n"
          ],
          "name": "stdout"
        }
      ]
    },
    {
      "cell_type": "code",
      "metadata": {
        "pycharm": {
          "name": "#%%\n"
        },
        "id": "gqmxzstMB5oj",
        "colab_type": "code",
        "colab": {
          "base_uri": "https://localhost:8080/",
          "height": 343
        },
        "outputId": "cba42ef4-44a9-4614-abe1-5ccfb3ee8ef7"
      },
      "source": [
        "v_sol = c.xtoc(x_min)\n",
        "df=vsc.todf(v_sol)\n",
        "df"
      ],
      "execution_count": 8,
      "outputs": [
        {
          "output_type": "execute_result",
          "data": {
            "text/html": [
              "<div>\n",
              "<style scoped>\n",
              "    .dataframe tbody tr th:only-of-type {\n",
              "        vertical-align: middle;\n",
              "    }\n",
              "\n",
              "    .dataframe tbody tr th {\n",
              "        vertical-align: top;\n",
              "    }\n",
              "\n",
              "    .dataframe thead th {\n",
              "        text-align: right;\n",
              "    }\n",
              "</style>\n",
              "<table border=\"1\" class=\"dataframe\">\n",
              "  <thead>\n",
              "    <tr style=\"text-align: right;\">\n",
              "      <th></th>\n",
              "      <th></th>\n",
              "      <th>(vector3, 1)</th>\n",
              "      <th>(vector3, 2)</th>\n",
              "      <th>(vector3, 3)</th>\n",
              "    </tr>\n",
              "  </thead>\n",
              "  <tbody>\n",
              "    <tr>\n",
              "      <th>FT</th>\n",
              "      <td>380</td>\n",
              "      <td></td>\n",
              "      <td></td>\n",
              "      <td></td>\n",
              "    </tr>\n",
              "    <tr>\n",
              "      <th>Ftot</th>\n",
              "      <td>10</td>\n",
              "      <td></td>\n",
              "      <td></td>\n",
              "      <td></td>\n",
              "    </tr>\n",
              "    <tr>\n",
              "      <th>Fz</th>\n",
              "      <td></td>\n",
              "      <td>0.333333</td>\n",
              "      <td>0.333333</td>\n",
              "      <td>0.333333</td>\n",
              "    </tr>\n",
              "    <tr>\n",
              "      <th>Ltot</th>\n",
              "      <td>9.19946</td>\n",
              "      <td></td>\n",
              "      <td></td>\n",
              "      <td></td>\n",
              "    </tr>\n",
              "    <tr>\n",
              "      <th>Lx</th>\n",
              "      <td></td>\n",
              "      <td>0.325073</td>\n",
              "      <td>0.330051</td>\n",
              "      <td>0.344876</td>\n",
              "    </tr>\n",
              "    <tr>\n",
              "      <th>Vtot</th>\n",
              "      <td>0.800542</td>\n",
              "      <td></td>\n",
              "      <td></td>\n",
              "      <td></td>\n",
              "    </tr>\n",
              "    <tr>\n",
              "      <th>Vy</th>\n",
              "      <td></td>\n",
              "      <td>0.428257</td>\n",
              "      <td>0.371056</td>\n",
              "      <td>0.200687</td>\n",
              "    </tr>\n",
              "    <tr>\n",
              "      <th>flashP</th>\n",
              "      <td>101325</td>\n",
              "      <td></td>\n",
              "      <td></td>\n",
              "      <td></td>\n",
              "    </tr>\n",
              "    <tr>\n",
              "      <th>flashT</th>\n",
              "      <td>358.632</td>\n",
              "      <td></td>\n",
              "      <td></td>\n",
              "      <td></td>\n",
              "    </tr>\n",
              "  </tbody>\n",
              "</table>\n",
              "</div>"
            ],
            "text/plain": [
              "                 (vector3, 1) (vector3, 2) (vector3, 3)\n",
              "FT           380                                       \n",
              "Ftot          10                                       \n",
              "Fz                   0.333333     0.333333     0.333333\n",
              "Ltot     9.19946                                       \n",
              "Lx                   0.325073     0.330051     0.344876\n",
              "Vtot    0.800542                                       \n",
              "Vy                   0.428257     0.371056     0.200687\n",
              "flashP    101325                                       \n",
              "flashT   358.632                                       "
            ]
          },
          "metadata": {
            "tags": []
          },
          "execution_count": 8
        }
      ]
    },
    {
      "cell_type": "code",
      "metadata": {
        "id": "yDHc9HcQCCLl",
        "colab_type": "code",
        "colab": {}
      },
      "source": [
        ""
      ],
      "execution_count": null,
      "outputs": []
    }
  ]
}