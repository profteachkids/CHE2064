{
 "nbformat": 4,
 "nbformat_minor": 0,
 "metadata": {
  "kernelspec": {
   "display_name": "Python 3",
   "language": "python",
   "name": "python3"
  },
  "language_info": {
   "codemirror_mode": {
    "name": "ipython",
    "version": 2
   },
   "file_extension": ".py",
   "mimetype": "text/x-python",
   "name": "python",
   "nbconvert_exporter": "python",
   "pygments_lexer": "ipython2",
   "version": "2.7.6"
  },
  "colab": {
   "name": "Closed_Water_Air.ipynb",
   "provenance": [],
   "include_colab_link": true
  }
 },
 "cells": [
  {
   "cell_type": "markdown",
   "metadata": {
    "id": "view-in-github",
    "colab_type": "text"
   },
   "source": [
    "<a href=\"https://colab.research.google.com/github/profteachkids/CHE2064/blob/master/Closed_Water_Air.ipynb\" target=\"_parent\"><img src=\"https://colab.research.google.com/assets/colab-badge.svg\" alt=\"Open In Colab\"/></a>"
   ]
  },
  {
   "cell_type": "code",
   "metadata": {
    "id": "cqoR7kaA0RMm",
    "colab_type": "code",
    "colab": {}
   },
   "source": [
    "!git clone --depth 1 https://github.com/profteachkids/CHE2064.git &> /dev/null\n",
    "!pip install DotMap &> /dev/null\n",
    "import sys\n",
    "sys.path.insert(1, \"/content/CHE2064\") #Path to CHE module imports"
   ],
   "execution_count": null,
   "outputs": []
  },
  {
   "cell_type": "code",
   "metadata": {
    "pycharm": {
     "name": "#%%\n"
    },
    "id": "T-o9JMyd0K2V",
    "colab_type": "code",
    "colab": {}
   },
   "source": [
    "from dotmap import DotMap\n",
    "import pandas as pd\n",
    "\n",
    "import jax\n",
    "import jax.numpy as jnp\n",
    "from jax.config import config\n",
    "config.update(\"jax_enable_x64\", True) #JAX default is 32bit single precision\n",
    "from tools.tree_array_transform import VSC, Comp, Range, todf\n",
    "from tools.trust_ncg import minimize\n",
    "import tools.che as che"
   ],
   "execution_count": 1,
   "outputs": []
  },
  {
   "cell_type": "code",
   "metadata": {
    "pycharm": {
     "name": "#%%\n"
    },
    "id": "Wjacie-aul0U",
    "colab_type": "code",
    "colab": {
     "base_uri": "https://localhost:8080/",
     "height": 87
    },
    "outputId": "ca07f64e-d2a2-4c91-b5f6-6bfbdfbe2b97"
   },
   "source": [
    "R=8.314 # J/(mol K)\n",
    "p = che.Props(['Nitrogen','Oxygen', 'Argon', 'Water'])\n",
    "\n",
    "def model(c):\n",
    "    Pw = p.Pvap(c.T)[3]\n",
    "    V_vap = c.V_tot - c.Vw_i\n",
    "    W_n_vap = Pw * V_vap / (R * c.T)\n",
    "    P = (c.air_n + W_n_vap) * R * c.T / V_vap\n",
    "    return (s.P_f - P)**2\n",
    "\n",
    "s=DotMap()\n",
    "s.air_y = jnp.array([0.78, 0.21, 0.01])\n",
    "s.W_tot = 1. # 1 kg\n",
    "s.V_tot = 0.01 # 10 Liters\n",
    "s.P_i = 1e5 # Pa air pressure\n",
    "s.P_f = 2e5 # Pa final pressure\n",
    "s.q = 2000. # watts\n",
    "s.T_i = 298.\n",
    "\n",
    "s.Vw_i = s.W_tot/p.rhol(s.T_i)[3]\n",
    "s.Vair_i = s.V_tot - s.Vw_i\n",
    "s.air_n = s.P_i * s.Vair_i / (R * s.T_i)\n",
    "\n",
    "v=DotMap()\n",
    "v.T = Range(360,300,600)\n",
    "\n",
    "\n",
    "vsc=VSC(v,s)\n",
    "model_f = vsc.transform(model)\n",
    "model_f(vsc.x)"
   ],
   "execution_count": 2,
   "outputs": [
    {
     "name": "stderr",
     "output_type": "stream",
     "text": [
      "/Users/carlosco/opt/anaconda3/envs/pytorch/lib/python3.8/site-packages/jax/lib/xla_bridge.py:130: UserWarning: No GPU/TPU found, falling back to CPU.\n",
      "  warnings.warn('No GPU/TPU found, falling back to CPU.')\n"
     ]
    },
    {
     "data": {
      "text/plain": "DeviceArray(2.89480362e+08, dtype=float64)"
     },
     "execution_count": 2,
     "metadata": {},
     "output_type": "execute_result"
    }
   ]
  },
  {
   "cell_type": "code",
   "metadata": {
    "pycharm": {
     "name": "#%%\n"
    },
    "id": "HigobUA-0K2h",
    "colab_type": "code",
    "colab": {
     "base_uri": "https://localhost:8080/",
     "height": 186
    },
    "outputId": "20dc6727-3d9d-44f5-bfa0-c86429fca241"
   },
   "source": [
    "modelf = jax.jit(vsc.transform(model))\n",
    "x_min, f = minimize(modelf, vsc.x, verbosity=1)"
   ],
   "execution_count": 3,
   "outputs": [
    {
     "name": "stdout",
     "output_type": "stream",
     "text": [
      "289480362.365714\n",
      "103475350.84797531\n",
      "2082044.4158440402\n",
      "1304.0337137931747\n",
      "0.0005540264316586775\n",
      "1.275157280114514e-16\n",
      "1.275157280114514e-16\n",
      "1.275157280114514e-16\n",
      "1.275157280114514e-16\n",
      "0.0\n",
      "0.0\n",
      "0.0\n",
      "0.0\n",
      "0.0\n",
      "0.0\n",
      "0.0\n",
      "0.0\n",
      "0.0\n",
      "0.0\n",
      "0.0\n",
      "0.0\n",
      "0.0\n",
      "0.0\n",
      "0.0\n",
      "0.0\n",
      "0.0\n",
      "0.0\n",
      "0.0\n",
      "0.0\n",
      "0.0\n",
      "0.0\n",
      "0.0\n",
      "0.0\n",
      "0.0\n",
      "0.0\n",
      "0.0\n",
      "0.0\n",
      "0.0\n",
      "0.0\n",
      "0.0\n",
      "0.0\n",
      "0.0\n",
      "0.0\n",
      "0.0\n",
      "0.0\n",
      "0.0\n",
      "0.0\n",
      "0.0\n",
      "0.0\n",
      "0.0\n",
      "0.0\n",
      "0.0\n",
      "0.0\n",
      "0.0\n",
      "0.0\n",
      "0.0\n",
      "0.0\n",
      "0.0\n",
      "0.0\n",
      "0.0\n",
      "0.0\n",
      "0.0\n",
      "0.0\n",
      "0.0\n",
      "0.0\n",
      "0.0\n",
      "0.0\n",
      "0.0\n",
      "0.0\n",
      "0.0\n",
      "0.0\n",
      "0.0\n",
      "0.0\n",
      "0.0\n",
      "0.0\n",
      "0.0\n"
     ]
    }
   ]
  },
  {
   "cell_type": "code",
   "metadata": {
    "pycharm": {
     "name": "#%%\n"
    },
    "id": "q2SDOFrQ0K2l",
    "colab_type": "code",
    "colab": {
     "base_uri": "https://localhost:8080/",
     "height": 54
    },
    "outputId": "c12511e6-0a8f-4f71-c8d8-405292917a84"
   },
   "source": [
    "v_sol = vsc.xtov(x_min)\n",
    "v_sol.pprint()\n"
   ],
   "execution_count": 4,
   "outputs": [
    {
     "name": "stdout",
     "output_type": "stream",
     "text": [
      "{'T': DeviceArray([365.71923532], dtype=float64)}\n"
     ]
    }
   ]
  },
  {
   "cell_type": "code",
   "metadata": {
    "pycharm": {
     "name": "#%%\n"
    },
    "id": "MaAySxSg0K2o",
    "colab_type": "code",
    "colab": {}
   },
   "source": [
    "def model2(c):\n",
    "    r=DotMap()\n",
    "    Pw = p.Pvap(c.T)[3]\n",
    "    V_vap = c.V_tot - c.Vw_i\n",
    "    r.W_n_vap = Pw * V_vap / (R * c.T)\n",
    "    P = (s.air_n + r.W_n_vap) * R * c.T / V_vap\n",
    "    return ((s.P_f - P)/s.P_f)**2 + (r.W_n_vap - 0.3)**2, r"
   ],
   "execution_count": 5,
   "outputs": []
  },
  {
   "cell_type": "code",
   "metadata": {
    "pycharm": {
     "name": "#%%\n"
    },
    "id": "Zfm8jxfY0K2s",
    "colab_type": "code",
    "colab": {}
   },
   "source": [
    "s=DotMap()\n",
    "s.air_y = jnp.array([0.78, 0.21, 0.01])\n",
    "s.W_tot = 1. # 1 kg\n",
    "s.V_tot = 0.01 # 10 Liters\n",
    "s.P_i = 1e5 # Pa air pressure\n",
    "s.P_f = 2e5 # Pa final pressure\n",
    "s.q = 2000. # watts\n",
    "s.T_i = 298.\n",
    "\n",
    "s.Vw_i = s.W_tot/p.rhol(s.T_i)[3]\n",
    "s.Vair_i = s.V_tot - s.Vw_i\n",
    "s.air_n = s.P_i * s.Vair_i / (R * s.T_i)\n",
    "\n",
    "v=DotMap()\n",
    "v.T = Range(350, 300, 400)\n",
    "v.V_tot = Range(0.015, 0., 0.03)\n",
    "\n",
    "vsc=VSC(v,s)"
   ],
   "execution_count": 6,
   "outputs": []
  },
  {
   "cell_type": "code",
   "metadata": {
    "pycharm": {
     "name": "#%%\n"
    },
    "id": "8wqWHVc30K2v",
    "colab_type": "code",
    "colab": {
     "base_uri": "https://localhost:8080/",
     "height": 137
    },
    "outputId": "9f691f63-4292-4e76-d623-0d427eae8e80"
   },
   "source": [
    "modelf = jax.jit(vsc.transform(model2))\n",
    "x_min, f = minimize(modelf, vsc.x, verbosity=1)"
   ],
   "execution_count": 7,
   "outputs": [
    {
     "name": "stdout",
     "output_type": "stream",
     "text": [
      "0.18134390814615023\n",
      "0.015435531886651324\n",
      "0.015435531886651324\n",
      "0.0006605095790480441\n",
      "1.1954861545456219e-05\n",
      "1.1954861545456219e-05\n",
      "1.1954861545456219e-05\n",
      "1.2919686113340432e-09\n",
      "1.2919686113340432e-09\n",
      "1.2919686113340432e-09\n",
      "1.2919686113340432e-09\n",
      "1.671341554847893e-16\n"
     ]
    }
   ]
  },
  {
   "cell_type": "code",
   "metadata": {
    "pycharm": {
     "name": "#%%\n"
    },
    "id": "m1u1Uny_0K20",
    "colab_type": "code",
    "colab": {
     "base_uri": "https://localhost:8080/",
     "height": 71
    },
    "outputId": "64151c8c-5759-4f61-b0b9-20845970a853"
   },
   "source": [
    "v_sol = vsc.xtov(x_min)\n",
    "v_sol.pprint()\n"
   ],
   "execution_count": 8,
   "outputs": [
    {
     "name": "stdout",
     "output_type": "stream",
     "text": [
      "{'T': DeviceArray([370.00563789], dtype=float64),\n",
      " 'V_tot': DeviceArray([0.01120357], dtype=float64)}\n"
     ]
    }
   ]
  },
  {
   "cell_type": "code",
   "metadata": {
    "pycharm": {
     "name": "#%%\n"
    },
    "id": "_41LfC9m0K23",
    "colab_type": "code",
    "colab": {
     "base_uri": "https://localhost:8080/",
     "height": 130
    },
    "outputId": "d5ae61c9-dd48-4941-97be-fba8cfda2ff4"
   },
   "source": [
    "vsc.report(model2, x_min)"
   ],
   "execution_count": 9,
   "outputs": [
    {
     "data": {
      "text/plain": "            vector1 vector3            \n                  1       1     2     3\nW_n_vap         0.3                    \nP_f          200000                    \nP_i          100000                    \nT           370.006                    \nT_i             298                    \nV_tot     0.0112036                    \nVair_i   0.00899501                    \nVw_i     0.00100499                    \nW_tot             1                    \nair_n      0.363057                    \nair_y                  0.78  0.21  0.01\nq              2000                    ",
      "text/html": "<div>\n<style scoped>\n    .dataframe tbody tr th:only-of-type {\n        vertical-align: middle;\n    }\n\n    .dataframe tbody tr th {\n        vertical-align: top;\n    }\n\n    .dataframe thead tr th {\n        text-align: left;\n    }\n</style>\n<table border=\"1\" class=\"dataframe\">\n  <thead>\n    <tr>\n      <th></th>\n      <th>vector1</th>\n      <th colspan=\"3\" halign=\"left\">vector3</th>\n    </tr>\n    <tr>\n      <th></th>\n      <th>1</th>\n      <th>1</th>\n      <th>2</th>\n      <th>3</th>\n    </tr>\n  </thead>\n  <tbody>\n    <tr>\n      <th>W_n_vap</th>\n      <td>0.3</td>\n      <td></td>\n      <td></td>\n      <td></td>\n    </tr>\n    <tr>\n      <th>P_f</th>\n      <td>200000</td>\n      <td></td>\n      <td></td>\n      <td></td>\n    </tr>\n    <tr>\n      <th>P_i</th>\n      <td>100000</td>\n      <td></td>\n      <td></td>\n      <td></td>\n    </tr>\n    <tr>\n      <th>T</th>\n      <td>370.006</td>\n      <td></td>\n      <td></td>\n      <td></td>\n    </tr>\n    <tr>\n      <th>T_i</th>\n      <td>298</td>\n      <td></td>\n      <td></td>\n      <td></td>\n    </tr>\n    <tr>\n      <th>V_tot</th>\n      <td>0.0112036</td>\n      <td></td>\n      <td></td>\n      <td></td>\n    </tr>\n    <tr>\n      <th>Vair_i</th>\n      <td>0.00899501</td>\n      <td></td>\n      <td></td>\n      <td></td>\n    </tr>\n    <tr>\n      <th>Vw_i</th>\n      <td>0.00100499</td>\n      <td></td>\n      <td></td>\n      <td></td>\n    </tr>\n    <tr>\n      <th>W_tot</th>\n      <td>1</td>\n      <td></td>\n      <td></td>\n      <td></td>\n    </tr>\n    <tr>\n      <th>air_n</th>\n      <td>0.363057</td>\n      <td></td>\n      <td></td>\n      <td></td>\n    </tr>\n    <tr>\n      <th>air_y</th>\n      <td></td>\n      <td>0.78</td>\n      <td>0.21</td>\n      <td>0.01</td>\n    </tr>\n    <tr>\n      <th>q</th>\n      <td>2000</td>\n      <td></td>\n      <td></td>\n      <td></td>\n    </tr>\n  </tbody>\n</table>\n</div>"
     },
     "execution_count": 9,
     "metadata": {},
     "output_type": "execute_result"
    }
   ]
  },
  {
   "cell_type": "code",
   "metadata": {
    "pycharm": {
     "name": "#%%\n"
    },
    "id": "eiRatjj30K26",
    "colab_type": "code",
    "colab": {
     "base_uri": "https://localhost:8080/",
     "height": 405
    },
    "outputId": "d75e9037-f606-4b69-daf5-9561e7a95208"
   },
   "source": [],
   "execution_count": 10,
   "outputs": [
    {
     "data": {
      "text/plain": "       vector3                 vector1\n             1     2     3           1\nair_y     0.78  0.21  0.01            \nW_tot                                1\nV_tot                             0.01\nP_i                             100000\nP_f                             200000\nq                                 2000\nT_i                                298\nVw_i                        0.00100499\nVair_i                      0.00899501\nair_n                         0.363057",
      "text/html": "<div>\n<style scoped>\n    .dataframe tbody tr th:only-of-type {\n        vertical-align: middle;\n    }\n\n    .dataframe tbody tr th {\n        vertical-align: top;\n    }\n\n    .dataframe thead tr th {\n        text-align: left;\n    }\n</style>\n<table border=\"1\" class=\"dataframe\">\n  <thead>\n    <tr>\n      <th></th>\n      <th colspan=\"3\" halign=\"left\">vector3</th>\n      <th>vector1</th>\n    </tr>\n    <tr>\n      <th></th>\n      <th>1</th>\n      <th>2</th>\n      <th>3</th>\n      <th>1</th>\n    </tr>\n  </thead>\n  <tbody>\n    <tr>\n      <th>air_y</th>\n      <td>0.78</td>\n      <td>0.21</td>\n      <td>0.01</td>\n      <td></td>\n    </tr>\n    <tr>\n      <th>W_tot</th>\n      <td></td>\n      <td></td>\n      <td></td>\n      <td>1</td>\n    </tr>\n    <tr>\n      <th>V_tot</th>\n      <td></td>\n      <td></td>\n      <td></td>\n      <td>0.01</td>\n    </tr>\n    <tr>\n      <th>P_i</th>\n      <td></td>\n      <td></td>\n      <td></td>\n      <td>100000</td>\n    </tr>\n    <tr>\n      <th>P_f</th>\n      <td></td>\n      <td></td>\n      <td></td>\n      <td>200000</td>\n    </tr>\n    <tr>\n      <th>q</th>\n      <td></td>\n      <td></td>\n      <td></td>\n      <td>2000</td>\n    </tr>\n    <tr>\n      <th>T_i</th>\n      <td></td>\n      <td></td>\n      <td></td>\n      <td>298</td>\n    </tr>\n    <tr>\n      <th>Vw_i</th>\n      <td></td>\n      <td></td>\n      <td></td>\n      <td>0.00100499</td>\n    </tr>\n    <tr>\n      <th>Vair_i</th>\n      <td></td>\n      <td></td>\n      <td></td>\n      <td>0.00899501</td>\n    </tr>\n    <tr>\n      <th>air_n</th>\n      <td></td>\n      <td></td>\n      <td></td>\n      <td>0.363057</td>\n    </tr>\n  </tbody>\n</table>\n</div>"
     },
     "execution_count": 10,
     "metadata": {},
     "output_type": "execute_result"
    }
   ]
  },
  {
   "cell_type": "code",
   "metadata": {
    "id": "dMK5tfd3cz7z",
    "colab_type": "code",
    "colab": {}
   },
   "source": [],
   "execution_count": 10,
   "outputs": []
  },
  {
   "cell_type": "code",
   "execution_count": 10,
   "outputs": [],
   "source": [],
   "metadata": {
    "collapsed": false,
    "pycharm": {
     "name": "#%%\n"
    }
   }
  },
  {
   "cell_type": "code",
   "execution_count": null,
   "outputs": [],
   "source": [],
   "metadata": {
    "collapsed": false,
    "pycharm": {
     "name": "#%%\n"
    }
   }
  }
 ]
}