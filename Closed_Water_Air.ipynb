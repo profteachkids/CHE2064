{
 "nbformat": 4,
 "nbformat_minor": 0,
 "metadata": {
  "kernelspec": {
   "display_name": "Python 3",
   "language": "python",
   "name": "python3"
  },
  "language_info": {
   "codemirror_mode": {
    "name": "ipython",
    "version": 2
   },
   "file_extension": ".py",
   "mimetype": "text/x-python",
   "name": "python",
   "nbconvert_exporter": "python",
   "pygments_lexer": "ipython2",
   "version": "2.7.6"
  },
  "colab": {
   "name": "Closed_Water_Air.ipynb",
   "provenance": [],
   "include_colab_link": true
  }
 },
 "cells": [
  {
   "cell_type": "markdown",
   "source": [
    "<a href=\"https://colab.research.google.com/github/profteachkids/CHE2064/blob/master/Closed_Water_Air.ipynb\" target=\"_parent\"><img src=\"https://colab.research.google.com/assets/colab-badge.svg\" alt=\"Open In Colab\"/></a>"
   ],
   "metadata": {
    "collapsed": false
   }
  },
  {
   "cell_type": "markdown",
   "metadata": {
    "id": "view-in-github",
    "colab_type": "text"
   },
   "source": [
    "!git clone --depth 1 https://github.com/profteachkids/CHE2064.git &> /dev/null\n",
    "!pip install DotMap &> /dev/null\n",
    "import sys\n",
    "sys.path.insert(1, \"/content/CHE2064\") #Path to CHE module imports"
   ]
  },
  {
   "cell_type": "code",
   "metadata": {
    "pycharm": {
     "name": "#%%\n"
    },
    "id": "T-o9JMyd0K2V",
    "colab_type": "code",
    "colab": {}
   },
   "source": [
    "from dotmap import DotMap\n",
    "import pandas as pd\n",
    "import jax\n",
    "from jax.lax import stop_gradient\n",
    "import jax.numpy as jnp\n",
    "from jax.config import config\n",
    "config.update(\"jax_enable_x64\", True) #JAX default is 32bit single precision\n",
    "from tools.tree_array_transform import VSC, Comp, Range\n",
    "import tools.che as che\n",
    "R=8.314 # J/(mol K)"
   ],
   "execution_count": 1,
   "outputs": []
  },
  {
   "cell_type": "code",
   "execution_count": 2,
   "outputs": [],
   "source": [
    "p = che.Props(['Nitrogen','Oxygen', 'Argon', 'Water'])"
   ],
   "metadata": {
    "collapsed": false,
    "pycharm": {
     "name": "#%%\n"
    }
   }
  },
  {
   "cell_type": "code",
   "metadata": {
    "pycharm": {
     "name": "#%%\n"
    },
    "id": "Wjacie-aul0U",
    "colab_type": "code",
    "colab": {
     "base_uri": "https://localhost:8080/",
     "height": 71
    },
    "outputId": "2b48b4be-f007-49ac-afc2-e6d3b2fef500"
   },
   "source": [
    "def model(c,r):\n",
    "    # c: combination of adjustable variables and static state parameters\n",
    "    # r: DotMap - store intermediate results for reporting\n",
    "    r.Pw = p.Pvap(c.T)[3]\n",
    "    r.V_vap = c.V_tot - c.Vw_i # Approximation - water in the vapor phase is negligible\n",
    "    W_n_vap = r.Pw * r.V_vap / (R * c.T)\n",
    "    P = (c.air_n + W_n_vap) * R * c.T / r.V_vap\n",
    "    # VSC is intended for solving models with multiple equations and expects\n",
    "    # an iterable of (left,right) tuples\n",
    "    return ( (c.P_f, P), )\n",
    "\n",
    "c=DotMap()\n",
    "c.W_tot = 1. # 1 kg\n",
    "c.V_tot = 0.01 # 10 Liters\n",
    "c.P_i = 1e5 # Pa air pressure\n",
    "c.P_f = 2e5 # Pa final pressure\n",
    "c.T_i = 298.\n",
    "\n",
    "c.Vw_i = c.W_tot/p.rhol(c.T_i)[3]\n",
    "c.Vair_i = c.V_tot - c.Vw_i\n",
    "c.air_n = c.P_i * c.Vair_i / (R * c.T_i)\n",
    "\n",
    "c.T = Range(360,300,600)"
   ],
   "execution_count": 5,
   "outputs": []
  },
  {
   "cell_type": "code",
   "metadata": {
    "pycharm": {
     "name": "#%%\n"
    },
    "id": "HigobUA-0K2h",
    "colab_type": "code",
    "colab": {
     "base_uri": "https://localhost:8080/",
     "height": 286
    },
    "outputId": "44ec968a-921b-4af9-d8eb-1b837a9b02f0"
   },
   "source": [
    "# transform our model into one that takes a single array of adjustable variables\n",
    "# for minimization.  Unnecessary for this simple model with just 1 variable, \n",
    "# but very helpful for more complex problems later.\n",
    "vsc=VSC(c,model)\n",
    "vsc.solve()"
   ],
   "execution_count": 6,
   "outputs": [
    {
     "name": "stdout",
     "output_type": "stream",
     "text": [
      "0.001973574785335787\n",
      "0.0006606517658790154\n",
      "0.0006606517658790154\n",
      "1.5272366214779895e-05\n",
      "1.5272366214779895e-05\n",
      "1.5272366214779895e-05\n",
      "1.213645372822225e-08\n",
      "1.213645372822225e-08\n",
      "1.213645372822225e-08\n",
      "6.02015987314522e-14\n",
      "6.02015987314522e-14\n",
      "6.02015987314522e-14\n",
      "6.02015987314522e-14\n",
      "6.02015987314522e-14\n",
      "6.409037068602645e-20\n"
     ]
    }
   ]
  },
  {
   "cell_type": "code",
   "metadata": {
    "pycharm": {
     "name": "#%%\n"
    },
    "id": "IGnN0h9Vo-ZF",
    "colab_type": "code",
    "colab": {
     "base_uri": "https://localhost:8080/",
     "height": 130
    },
    "outputId": "c0253bbf-7d44-40c5-c009-e56b61e2248c"
   },
   "source": [
    "# Dataframe of adjustable variables\n",
    "vsc.vdf"
   ],
   "execution_count": 7,
   "outputs": [
    {
     "data": {
      "text/plain": "      vector1\n            1\nT  365.719235",
      "text/html": "<div>\n<style scoped>\n    .dataframe tbody tr th:only-of-type {\n        vertical-align: middle;\n    }\n\n    .dataframe tbody tr th {\n        vertical-align: top;\n    }\n\n    .dataframe thead tr th {\n        text-align: left;\n    }\n</style>\n<table border=\"1\" class=\"dataframe\">\n  <thead>\n    <tr>\n      <th></th>\n      <th>vector1</th>\n    </tr>\n    <tr>\n      <th></th>\n      <th>1</th>\n    </tr>\n  </thead>\n  <tbody>\n    <tr>\n      <th>T</th>\n      <td>365.719235</td>\n    </tr>\n  </tbody>\n</table>\n</div>"
     },
     "execution_count": 7,
     "metadata": {},
     "output_type": "execute_result"
    }
   ]
  },
  {
   "cell_type": "code",
   "metadata": {
    "pycharm": {
     "name": "#%%\n"
    },
    "id": "2b9tj5txo-ZI",
    "colab_type": "code",
    "colab": {
     "base_uri": "https://localhost:8080/",
     "height": 160
    },
    "outputId": "a501ed53-35f1-47cd-d8f3-1df5aaa71ff8"
   },
   "source": [
    "# Dataframe of intermediate results\n",
    "vsc.rdf"
   ],
   "execution_count": 8,
   "outputs": [
    {
     "data": {
      "text/plain": "            vector1\n                  1\nPw     77275.424480\nV_vap      0.008995",
      "text/html": "<div>\n<style scoped>\n    .dataframe tbody tr th:only-of-type {\n        vertical-align: middle;\n    }\n\n    .dataframe tbody tr th {\n        vertical-align: top;\n    }\n\n    .dataframe thead tr th {\n        text-align: left;\n    }\n</style>\n<table border=\"1\" class=\"dataframe\">\n  <thead>\n    <tr>\n      <th></th>\n      <th>vector1</th>\n    </tr>\n    <tr>\n      <th></th>\n      <th>1</th>\n    </tr>\n  </thead>\n  <tbody>\n    <tr>\n      <th>Pw</th>\n      <td>77275.424480</td>\n    </tr>\n    <tr>\n      <th>V_vap</th>\n      <td>0.008995</td>\n    </tr>\n  </tbody>\n</table>\n</div>"
     },
     "execution_count": 8,
     "metadata": {},
     "output_type": "execute_result"
    }
   ]
  },
  {
   "cell_type": "code",
   "metadata": {
    "pycharm": {
     "name": "#%%\n"
    },
    "id": "eiRaI1-Lo-ZO",
    "colab_type": "code",
    "colab": {
     "base_uri": "https://localhost:8080/",
     "height": 343
    },
    "outputId": "37ad9268-34a3-4e65-8112-d96a677884df"
   },
   "source": [
    "# Dataframe of static state parameters\n",
    "vsc.sdf"
   ],
   "execution_count": 9,
   "outputs": [
    {
     "data": {
      "text/plain": "              vector1\n                    1\nV_tot        0.010000\nP_i     100000.000000\nVair_i       0.008995\nP_f     200000.000000\nW_tot        1.000000\nT_i        298.000000\nair_n        0.363057\nVw_i         0.001005",
      "text/html": "<div>\n<style scoped>\n    .dataframe tbody tr th:only-of-type {\n        vertical-align: middle;\n    }\n\n    .dataframe tbody tr th {\n        vertical-align: top;\n    }\n\n    .dataframe thead tr th {\n        text-align: left;\n    }\n</style>\n<table border=\"1\" class=\"dataframe\">\n  <thead>\n    <tr>\n      <th></th>\n      <th>vector1</th>\n    </tr>\n    <tr>\n      <th></th>\n      <th>1</th>\n    </tr>\n  </thead>\n  <tbody>\n    <tr>\n      <th>V_tot</th>\n      <td>0.010000</td>\n    </tr>\n    <tr>\n      <th>P_i</th>\n      <td>100000.000000</td>\n    </tr>\n    <tr>\n      <th>Vair_i</th>\n      <td>0.008995</td>\n    </tr>\n    <tr>\n      <th>P_f</th>\n      <td>200000.000000</td>\n    </tr>\n    <tr>\n      <th>W_tot</th>\n      <td>1.000000</td>\n    </tr>\n    <tr>\n      <th>T_i</th>\n      <td>298.000000</td>\n    </tr>\n    <tr>\n      <th>air_n</th>\n      <td>0.363057</td>\n    </tr>\n    <tr>\n      <th>Vw_i</th>\n      <td>0.001005</td>\n    </tr>\n  </tbody>\n</table>\n</div>"
     },
     "execution_count": 9,
     "metadata": {},
     "output_type": "execute_result"
    }
   ]
  },
  {
   "cell_type": "code",
   "metadata": {
    "pycharm": {
     "name": "#%%\n"
    },
    "id": "MaAySxSg0K2o",
    "colab_type": "code",
    "colab": {}
   },
   "source": [
    "def model2(c,r):\n",
    "    Pw = p.Pvap(c.T)[3]\n",
    "    r.V_vap = c.V_tot - c.Vw_i \n",
    "    r.W_n_vap = Pw * r.V_vap / (R * c.T) \n",
    "    P = (c.air_n + r.W_n_vap) * R * c.T / r.V_vap\n",
    "\n",
    "    # tuples from left and right side of equations\n",
    "    P_constraint = (c.P_f, P)\n",
    "    W_n_constraint = (r.W_n_vap, c.W_n_vap_desired)\n",
    "    return (P_constraint, W_n_constraint)"
   ],
   "execution_count": 13,
   "outputs": []
  },
  {
   "cell_type": "code",
   "metadata": {
    "pycharm": {
     "name": "#%%\n"
    },
    "id": "Zfm8jxfY0K2s",
    "colab_type": "code",
    "colab": {
     "base_uri": "https://localhost:8080/",
     "height": 319
    },
    "outputId": "a689cd15-41c2-4347-8d0d-462d3e9619e8"
   },
   "source": [
    "c=DotMap()\n",
    "c.W_tot = 1. # 1 kg\n",
    "c.V_tot = 0.01 # 10 Liters\n",
    "c.P_i = 1e5 # Pa air pressure\n",
    "c.P_f = 2e5 # Pa final pressure\n",
    "c.T_i = 298.\n",
    "c.W_n_vap_desired = 0.3\n",
    "\n",
    "c.Vw_i = c.W_tot/p.rhol(c.T_i)[3]\n",
    "c.Vair_i = c.V_tot - c.Vw_i\n",
    "c.air_n = c.P_i * c.Vair_i / (R * c.T_i)\n",
    "\n",
    "c.T = Range(350, 300, 400)\n",
    "c.V_tot = Range(0.015, 0., 0.03)\n",
    "\n",
    "vsc=VSC(c,model2)\n",
    "vsc.solve()"
   ],
   "execution_count": 14,
   "outputs": [
    {
     "name": "stdout",
     "output_type": "stream",
     "text": [
      "0.10764694306583505\n",
      "0.030440692345800494\n",
      "0.030440692345800494\n",
      "0.0012712658793009844\n",
      "0.0012712658793009844\n",
      "1.553728074595461e-05\n",
      "1.553728074595461e-05\n",
      "1.553728074595461e-05\n",
      "2.9016926539896234e-09\n",
      "2.9016926539896234e-09\n",
      "2.9016926539896234e-09\n",
      "3.105225229281413e-14\n",
      "3.105225229281413e-14\n",
      "3.105225229281413e-14\n",
      "3.105225229281413e-14\n",
      "3.105225229281413e-14\n",
      "8.924222365022703e-20\n"
     ]
    }
   ]
  },
  {
   "cell_type": "code",
   "metadata": {
    "pycharm": {
     "name": "#%%\n"
    },
    "id": "8wqWHVc30K2v",
    "colab_type": "code",
    "colab": {
     "base_uri": "https://localhost:8080/",
     "height": 160
    },
    "outputId": "d44bdb15-238f-4011-cfaf-622bcb118929"
   },
   "source": [
    "vsc.vdf"
   ],
   "execution_count": 15,
   "outputs": [
    {
     "data": {
      "text/plain": "          vector1\n                1\nT      370.005638\nV_tot    0.011204",
      "text/html": "<div>\n<style scoped>\n    .dataframe tbody tr th:only-of-type {\n        vertical-align: middle;\n    }\n\n    .dataframe tbody tr th {\n        vertical-align: top;\n    }\n\n    .dataframe thead tr th {\n        text-align: left;\n    }\n</style>\n<table border=\"1\" class=\"dataframe\">\n  <thead>\n    <tr>\n      <th></th>\n      <th>vector1</th>\n    </tr>\n    <tr>\n      <th></th>\n      <th>1</th>\n    </tr>\n  </thead>\n  <tbody>\n    <tr>\n      <th>T</th>\n      <td>370.005638</td>\n    </tr>\n    <tr>\n      <th>V_tot</th>\n      <td>0.011204</td>\n    </tr>\n  </tbody>\n</table>\n</div>"
     },
     "execution_count": 15,
     "metadata": {},
     "output_type": "execute_result"
    }
   ]
  },
  {
   "cell_type": "code",
   "metadata": {
    "pycharm": {
     "name": "#%%\n"
    },
    "id": "YvmCAQtPo-Zb",
    "colab_type": "code",
    "colab": {
     "base_uri": "https://localhost:8080/",
     "height": 160
    },
    "outputId": "f7ecb8f3-5d06-4ff3-f9ea-b5094ee89a5f"
   },
   "source": [
    "vsc.rdf\n"
   ],
   "execution_count": 16,
   "outputs": [
    {
     "data": {
      "text/plain": "          vector1\n                1\nV_vap    0.010199\nW_n_vap  0.300000",
      "text/html": "<div>\n<style scoped>\n    .dataframe tbody tr th:only-of-type {\n        vertical-align: middle;\n    }\n\n    .dataframe tbody tr th {\n        vertical-align: top;\n    }\n\n    .dataframe thead tr th {\n        text-align: left;\n    }\n</style>\n<table border=\"1\" class=\"dataframe\">\n  <thead>\n    <tr>\n      <th></th>\n      <th>vector1</th>\n    </tr>\n    <tr>\n      <th></th>\n      <th>1</th>\n    </tr>\n  </thead>\n  <tbody>\n    <tr>\n      <th>V_vap</th>\n      <td>0.010199</td>\n    </tr>\n    <tr>\n      <th>W_n_vap</th>\n      <td>0.300000</td>\n    </tr>\n  </tbody>\n</table>\n</div>"
     },
     "execution_count": 16,
     "metadata": {},
     "output_type": "execute_result"
    }
   ]
  },
  {
   "cell_type": "code",
   "metadata": {
    "pycharm": {
     "name": "#%%\n"
    },
    "id": "Ifo8H6SskFhC",
    "colab_type": "code",
    "colab": {}
   },
   "source": [
    "def model3(c, r):\n",
    "    Pw = p.Pvap(c.T)[3]\n",
    "    # volume of liquid water lost as water vapor ignored in model1\n",
    "    # evaluate the density of water at T, but do not propagate gradients through.\n",
    "    r.v_w_vap = c.W_n_vap*p.Mw[3]/1000/p.rhol(stop_gradient(c.T))[3]\n",
    "    V_vap = c.V_tot - (c.Vw_i - r.v_w_vap)\n",
    "    r.W_n_vap = Pw * V_vap / (R * c.T)\n",
    "    P = (c.air_n + r.W_n_vap) * R * c.T / V_vap\n",
    "    P_constraint = (c.P_f, P)\n",
    "    W_constraint = (c.W_n_vap, r.W_n_vap)\n",
    "    return (P_constraint,W_constraint)"
   ],
   "execution_count": 21,
   "outputs": []
  },
  {
   "cell_type": "code",
   "metadata": {
    "pycharm": {
     "name": "#%%\n"
    },
    "id": "mrZwRd50kFhF",
    "colab_type": "code",
    "colab": {
     "base_uri": "https://localhost:8080/",
     "height": 682
    },
    "outputId": "3e4f67b1-7746-4d22-d748-d2eb937dd89d"
   },
   "source": [
    "c=DotMap()\n",
    "c.W_tot = 1. # 1 kg\n",
    "c.V_tot = 0.01 # 10 Liters\n",
    "c.P_i = 1e5 # Pa air pressure\n",
    "c.P_f = 2e5 # Pa final pressure\n",
    "c.T_i = 298.\n",
    "c.Vw_i = c.W_tot/p.rhol(c.T_i)[3]\n",
    "c.Vair_i = c.V_tot - c.Vw_i\n",
    "c.air_n = c.P_i * c.Vair_i / (R * c.T_i)\n",
    "c.T = Range(350., 300., 400.)\n",
    "c.W_n_vap = Range(1., 0., 2.) # moles of water vapor\n",
    "\n",
    "vsc=VSC(c,model3)\n",
    "vsc.solve(verbosity=1)"
   ],
   "execution_count": 22,
   "outputs": [
    {
     "name": "stdout",
     "output_type": "stream",
     "text": [
      "0.6079035669169227\n",
      "0.38267727987803424\n",
      "0.12068145433502979\n",
      "0.12068145433502979\n",
      "0.09566348468144975\n",
      "0.09566348468144975\n",
      "0.0954432158444961\n",
      "0.0954432158444961\n",
      "0.0954432158444961\n",
      "0.0954432158444961\n",
      "0.0954432158444961\n",
      "0.0954432158444961\n",
      "0.0954432158444961\n",
      "0.09488835758089913\n",
      "0.09034001876457592\n",
      "0.09034001876457592\n",
      "0.09034001876457592\n",
      "0.077859932311968\n",
      "0.077859932311968\n",
      "0.06998075159133216\n",
      "0.06998075159133216\n",
      "0.025061259616434288\n",
      "0.006596757073373889\n",
      "0.0025185389699037175\n",
      "9.762275165273431e-05\n",
      "4.4128965794412945e-05\n",
      "4.038416547024041e-08\n",
      "4.038416547024041e-08\n",
      "2.4609258425528205e-08\n",
      "2.669105787540159e-13\n",
      "2.669105787540159e-13\n",
      "2.669105787540159e-13\n",
      "2.669105787540159e-13\n",
      "1.0558646880910466e-17\n",
      "1.0558646880910466e-17\n",
      "1.0558646880910466e-17\n",
      "1.0558646880910466e-17\n",
      "1.0558646880910466e-17\n",
      "2.7211155009691965e-23\n"
     ]
    }
   ]
  },
  {
   "cell_type": "code",
   "metadata": {
    "pycharm": {
     "name": "#%%\n"
    },
    "id": "tcdb6iPakFhJ",
    "colab_type": "code",
    "colab": {
     "base_uri": "https://localhost:8080/",
     "height": 160
    },
    "outputId": "fab5507e-073e-49e0-ad62-4b21a9df72d4"
   },
   "source": [
    "vsc.rdf"
   ],
   "execution_count": 23,
   "outputs": [
    {
     "data": {
      "text/plain": "          vector1\n                1\nv_w_vap  0.000004\nW_n_vap  0.228854",
      "text/html": "<div>\n<style scoped>\n    .dataframe tbody tr th:only-of-type {\n        vertical-align: middle;\n    }\n\n    .dataframe tbody tr th {\n        vertical-align: top;\n    }\n\n    .dataframe thead tr th {\n        text-align: left;\n    }\n</style>\n<table border=\"1\" class=\"dataframe\">\n  <thead>\n    <tr>\n      <th></th>\n      <th>vector1</th>\n    </tr>\n    <tr>\n      <th></th>\n      <th>1</th>\n    </tr>\n  </thead>\n  <tbody>\n    <tr>\n      <th>v_w_vap</th>\n      <td>0.000004</td>\n    </tr>\n    <tr>\n      <th>W_n_vap</th>\n      <td>0.228854</td>\n    </tr>\n  </tbody>\n</table>\n</div>"
     },
     "execution_count": 23,
     "metadata": {},
     "output_type": "execute_result"
    }
   ]
  },
  {
   "cell_type": "code",
   "metadata": {
    "id": "e4WxV4C0o4Nx",
    "colab_type": "code",
    "colab": {
     "base_uri": "https://localhost:8080/",
     "height": 71
    },
    "outputId": "c9810d25-b446-4e94-f448-250d371d084c"
   },
   "source": [
    "vsc.rdf.values # raw numbers\n",
    "# only 4e-6 m3 of liquid water is lost to the vapor phase compared to the initial\n",
    "# 1e-3 m3 of liquid water."
   ],
   "execution_count": 24,
   "outputs": [
    {
     "data": {
      "text/plain": "array([[4.22513566e-06],\n       [2.28853665e-01]])"
     },
     "execution_count": 24,
     "metadata": {},
     "output_type": "execute_result"
    }
   ]
  },
  {
   "cell_type": "code",
   "metadata": {
    "pycharm": {
     "name": "#%%\n"
    },
    "id": "0GzogvxfkFhQ",
    "colab_type": "code",
    "colab": {
     "base_uri": "https://localhost:8080/",
     "height": 160
    },
    "outputId": "500492c5-4ef0-4055-989a-0a6abb48b12e"
   },
   "source": [
    "vsc.vdf"
   ],
   "execution_count": 25,
   "outputs": [
    {
     "data": {
      "text/plain": "            vector1\n                  1\nT        365.737128\nW_n_vap    0.228854",
      "text/html": "<div>\n<style scoped>\n    .dataframe tbody tr th:only-of-type {\n        vertical-align: middle;\n    }\n\n    .dataframe tbody tr th {\n        vertical-align: top;\n    }\n\n    .dataframe thead tr th {\n        text-align: left;\n    }\n</style>\n<table border=\"1\" class=\"dataframe\">\n  <thead>\n    <tr>\n      <th></th>\n      <th>vector1</th>\n    </tr>\n    <tr>\n      <th></th>\n      <th>1</th>\n    </tr>\n  </thead>\n  <tbody>\n    <tr>\n      <th>T</th>\n      <td>365.737128</td>\n    </tr>\n    <tr>\n      <th>W_n_vap</th>\n      <td>0.228854</td>\n    </tr>\n  </tbody>\n</table>\n</div>"
     },
     "execution_count": 25,
     "metadata": {},
     "output_type": "execute_result"
    }
   ]
  },
  {
   "cell_type": "code",
   "metadata": {
    "pycharm": {
     "name": "#%%\n"
    },
    "id": "EQ4rfkPCo-Zq",
    "colab_type": "code",
    "colab": {}
   },
   "source": [
    ""
   ],
   "execution_count": 16,
   "outputs": []
  }
 ]
}