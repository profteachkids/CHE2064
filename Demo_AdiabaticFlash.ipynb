{
  "nbformat": 4,
  "nbformat_minor": 0,
  "metadata": {
    "kernelspec": {
      "display_name": "Python 3",
      "language": "python",
      "name": "python3"
    },
    "language_info": {
      "codemirror_mode": {
        "name": "ipython",
        "version": 2
      },
      "file_extension": ".py",
      "mimetype": "text/x-python",
      "name": "python",
      "nbconvert_exporter": "python",
      "pygments_lexer": "ipython2",
      "version": "2.7.6"
    },
    "colab": {
      "name": "Demo_AdiabaticFlash.ipynb",
      "provenance": [],
      "include_colab_link": true
    }
  },
  "cells": [
    {
      "cell_type": "markdown",
      "metadata": {
        "id": "view-in-github",
        "colab_type": "text"
      },
      "source": [
        "<a href=\"https://colab.research.google.com/github/profteachkids/CHE2064/blob/master/Demo_AdiabaticFlash.ipynb\" target=\"_parent\"><img src=\"https://colab.research.google.com/assets/colab-badge.svg\" alt=\"Open In Colab\"/></a>"
      ]
    },
    {
      "cell_type": "code",
      "metadata": {
        "pycharm": {
          "name": "#%%\n"
        },
        "id": "CiXlQcV0ul0G",
        "colab_type": "code",
        "colab": {
          "base_uri": "https://localhost:8080/",
          "height": 649
        },
        "outputId": "378d118e-7e08-48ff-b62b-7761c830c198"
      },
      "source": [
        "!wget https://raw.githubusercontent.com/profteachkids/CHE2064/master/vsc.py\n",
        "!wget https://raw.githubusercontent.com/profteachkids/CHE2064/master/trust_ncg.py\n",
        "!wget https://raw.githubusercontent.com/profteachkids/CHE2064/master/che_tools.py\n",
        "!pip install DotMap"
      ],
      "execution_count": 1,
      "outputs": [
        {
          "output_type": "stream",
          "text": [
            "--2020-09-08 12:20:11--  https://raw.githubusercontent.com/profteachkids/CHE2064/master/vsc.py\n",
            "Resolving raw.githubusercontent.com (raw.githubusercontent.com)... 151.101.0.133, 151.101.64.133, 151.101.128.133, ...\n",
            "Connecting to raw.githubusercontent.com (raw.githubusercontent.com)|151.101.0.133|:443... connected.\n",
            "HTTP request sent, awaiting response... 200 OK\n",
            "Length: 3247 (3.2K) [text/plain]\n",
            "Saving to: ‘vsc.py’\n",
            "\n",
            "vsc.py              100%[===================>]   3.17K  --.-KB/s    in 0s      \n",
            "\n",
            "2020-09-08 12:20:11 (49.1 MB/s) - ‘vsc.py’ saved [3247/3247]\n",
            "\n",
            "--2020-09-08 12:20:11--  https://raw.githubusercontent.com/profteachkids/CHE2064/master/trust_ncg.py\n",
            "Resolving raw.githubusercontent.com (raw.githubusercontent.com)... 151.101.0.133, 151.101.64.133, 151.101.128.133, ...\n",
            "Connecting to raw.githubusercontent.com (raw.githubusercontent.com)|151.101.0.133|:443... connected.\n",
            "HTTP request sent, awaiting response... 200 OK\n",
            "Length: 2871 (2.8K) [text/plain]\n",
            "Saving to: ‘trust_ncg.py’\n",
            "\n",
            "trust_ncg.py        100%[===================>]   2.80K  --.-KB/s    in 0s      \n",
            "\n",
            "2020-09-08 12:20:11 (41.0 MB/s) - ‘trust_ncg.py’ saved [2871/2871]\n",
            "\n",
            "--2020-09-08 12:20:11--  https://raw.githubusercontent.com/profteachkids/CHE2064/master/che_tools.py\n",
            "Resolving raw.githubusercontent.com (raw.githubusercontent.com)... 151.101.0.133, 151.101.64.133, 151.101.128.133, ...\n",
            "Connecting to raw.githubusercontent.com (raw.githubusercontent.com)|151.101.0.133|:443... connected.\n",
            "HTTP request sent, awaiting response... 200 OK\n",
            "Length: 6401 (6.3K) [text/plain]\n",
            "Saving to: ‘che_tools.py’\n",
            "\n",
            "che_tools.py        100%[===================>]   6.25K  --.-KB/s    in 0s      \n",
            "\n",
            "2020-09-08 12:20:12 (61.5 MB/s) - ‘che_tools.py’ saved [6401/6401]\n",
            "\n",
            "Collecting DotMap\n",
            "  Downloading https://files.pythonhosted.org/packages/52/47/9ca39d01b872c1bf2da0f0031cb3c4e3a016170c181e34d889253e404d59/dotmap-1.3.17-py3-none-any.whl\n",
            "Installing collected packages: DotMap\n",
            "Successfully installed DotMap-1.3.17\n"
          ],
          "name": "stdout"
        }
      ]
    },
    {
      "cell_type": "code",
      "metadata": {
        "id": "DLGVgv4Pul0O",
        "colab_type": "code",
        "colab": {}
      },
      "source": [
        "from dotmap import DotMap\n",
        "import jax.numpy as jnp\n",
        "import jax\n",
        "import vsc\n",
        "import trust_ncg as tncg\n",
        "import che_tools as che"
      ],
      "execution_count": 2,
      "outputs": []
    },
    {
      "cell_type": "code",
      "metadata": {
        "pycharm": {
          "name": "#%%\n"
        },
        "id": "Wjacie-aul0U",
        "colab_type": "code",
        "colab": {}
      },
      "source": [
        "p = che.Props(['Ethanol', 'Isopropanol', 'Water'])"
      ],
      "execution_count": 3,
      "outputs": []
    },
    {
      "cell_type": "code",
      "metadata": {
        "pycharm": {
          "name": "#%%\n"
        },
        "id": "DzvIFEmsqJ87",
        "colab_type": "code",
        "colab": {}
      },
      "source": [
        "def model(c):\n",
        "    c=DotMap(c)\n",
        "    x=che.qtox(c.Vq)\n",
        "    y=che.qtox(c.Lq)\n",
        "    z=che.qtox(c.Fq)\n",
        "    V = x * c.Vtot\n",
        "    L = y * c.Ltot\n",
        "    F = z * c.Ftot\n",
        "    mass_balance = (F - V - L)\n",
        "    mass_balance = (mass_balance/jnp.sum(F))**2\n",
        "\n",
        "    FH = p.Hmix( (1.-c.q)*F, c.q*F, c.FT)\n",
        "    VH = p.Hmix(V, 0, c.flashT)\n",
        "    LH = p.Hmix(0, L, c.flashT)\n",
        "    energy_balance = (FH - VH - LH)\n",
        "    energy_balance = (energy_balance/jnp.sum(FH))**2\n",
        "\n",
        "    fugacity = (x*p.Pvap(c.flashT) - y*c.flashP)\n",
        "    fugacity = (fugacity/jnp.sum(y*c.flashP))**2\n",
        "\n",
        "    return jnp.sum(mass_balance + energy_balance + fugacity)"
      ],
      "execution_count": 4,
      "outputs": []
    },
    {
      "cell_type": "code",
      "metadata": {
        "pycharm": {
          "name": "#%%\n"
        },
        "id": "s1Krs9e2qJ8_",
        "colab_type": "code",
        "colab": {
          "base_uri": "https://localhost:8080/",
          "height": 87
        },
        "outputId": "d0a95781-f001-4f99-eae0-57aa3c05d112"
      },
      "source": [
        "s=DotMap()\n",
        "s.Ftot=10\n",
        "s.Fq = che.xtoq([1/3, 1/3, 1/3])\n",
        "s.FT = 350\n",
        "s.flashP= 101325\n",
        "s.q = 0.5 #fraction liquid\n",
        "\n",
        "v=DotMap()\n",
        "v.Vq = che.xtoq([0.4, 0.35, 0.25])\n",
        "v.Lq = che.xtoq([0.25, 0.35, 0.4])\n",
        "v.flashT = 300\n",
        "v.Vtot = s.Ftot/2\n",
        "v.Ltot = s.Ftot/2"
      ],
      "execution_count": 5,
      "outputs": [
        {
          "output_type": "stream",
          "text": [
            "[Traced<ShapedArray(float64[], weak_type=True):JaxprTrace(level=-1/1)>, Traced<ShapedArray(float64[], weak_type=True):JaxprTrace(level=-1/1)>, Traced<ShapedArray(float64[], weak_type=True):JaxprTrace(level=-1/1)>]\n"
          ],
          "name": "stdout"
        },
        {
          "output_type": "stream",
          "text": [
            "/usr/local/lib/python3.6/dist-packages/jax/lib/xla_bridge.py:130: UserWarning: No GPU/TPU found, falling back to CPU.\n",
            "  warnings.warn('No GPU/TPU found, falling back to CPU.')\n"
          ],
          "name": "stderr"
        }
      ]
    },
    {
      "cell_type": "code",
      "metadata": {
        "pycharm": {
          "name": "#%%\n"
        },
        "id": "B_qzKOKtul0a",
        "colab_type": "code",
        "colab": {
          "base_uri": "https://localhost:8080/",
          "height": 368
        },
        "outputId": "4f8e6394-4dd0-463a-e796-a5bc4376b699"
      },
      "source": [
        "c=vsc.VSC(v,s)\n",
        "modelf = jax.jit(c.transform(model))\n",
        "x_min, f = tncg.minimize(modelf,c.x, verbosity=1)"
      ],
      "execution_count": 6,
      "outputs": [
        {
          "output_type": "stream",
          "text": [
            "0:4, f: 0.3182956617493208\n",
            "1:3, f: 0.2951542974058736\n",
            "2:5, f: 0.2895570764862791\n",
            "3:4, f: 0.2805715753193567\n",
            "4:5, f: 0.25219124942674875\n",
            "5:4, f: 0.1934232645111691\n",
            "6:2, f: 0.1934232645111691\n",
            "7:2, f: 0.1934232645111691\n",
            "8:4, f: 0.17067381117819186\n",
            "9:4, f: 0.15238815883140183\n",
            "10:4, f: 0.13187458640068903\n",
            "11:5, f: 0.08792602805737397\n",
            "12:6, f: 0.012659903933506063\n",
            "13:6, f: 0.0005386452972950885\n",
            "14:6, f: 3.525986138217572e-06\n",
            "15:6, f: 4.6408293175236376e-10\n",
            "Final results:\n",
            "f: 8.83358843701275e-18\n",
            "x: [ 4.01011698e-01  3.36410535e-01  5.28612421e+00 -4.14090787e-01\n",
            " -3.21380334e-01  4.71387582e+00  3.59966484e+02]\n"
          ],
          "name": "stdout"
        }
      ]
    },
    {
      "cell_type": "code",
      "metadata": {
        "pycharm": {
          "name": "#%%\n"
        },
        "id": "mGaxrV7zqJ9H",
        "colab_type": "code",
        "colab": {
          "base_uri": "https://localhost:8080/",
          "height": 374
        },
        "outputId": "e680c8b4-b3be-467a-fd3a-f48ee03d6e3f"
      },
      "source": [
        "v_sol = c.xtoc(x_min)\n",
        "df=vsc.todf(v_sol)\n",
        "df\n"
      ],
      "execution_count": 7,
      "outputs": [
        {
          "output_type": "execute_result",
          "data": {
            "text/html": [
              "<div>\n",
              "<style scoped>\n",
              "    .dataframe tbody tr th:only-of-type {\n",
              "        vertical-align: middle;\n",
              "    }\n",
              "\n",
              "    .dataframe tbody tr th {\n",
              "        vertical-align: top;\n",
              "    }\n",
              "\n",
              "    .dataframe thead th {\n",
              "        text-align: right;\n",
              "    }\n",
              "</style>\n",
              "<table border=\"1\" class=\"dataframe\">\n",
              "  <thead>\n",
              "    <tr style=\"text-align: right;\">\n",
              "      <th></th>\n",
              "      <th></th>\n",
              "      <th>(vector2, 1)</th>\n",
              "      <th>(vector2, 2)</th>\n",
              "    </tr>\n",
              "  </thead>\n",
              "  <tbody>\n",
              "    <tr>\n",
              "      <th>FT</th>\n",
              "      <td>350</td>\n",
              "      <td></td>\n",
              "      <td></td>\n",
              "    </tr>\n",
              "    <tr>\n",
              "      <th>Fq</th>\n",
              "      <td></td>\n",
              "      <td>0</td>\n",
              "      <td>0</td>\n",
              "    </tr>\n",
              "    <tr>\n",
              "      <th>Ftot</th>\n",
              "      <td>10</td>\n",
              "      <td></td>\n",
              "      <td></td>\n",
              "    </tr>\n",
              "    <tr>\n",
              "      <th>Lq</th>\n",
              "      <td></td>\n",
              "      <td>0.401012</td>\n",
              "      <td>0.336411</td>\n",
              "    </tr>\n",
              "    <tr>\n",
              "      <th>Ltot</th>\n",
              "      <td>5.28612</td>\n",
              "      <td></td>\n",
              "      <td></td>\n",
              "    </tr>\n",
              "    <tr>\n",
              "      <th>Vq</th>\n",
              "      <td></td>\n",
              "      <td>-0.414091</td>\n",
              "      <td>-0.32138</td>\n",
              "    </tr>\n",
              "    <tr>\n",
              "      <th>Vtot</th>\n",
              "      <td>4.71388</td>\n",
              "      <td></td>\n",
              "      <td></td>\n",
              "    </tr>\n",
              "    <tr>\n",
              "      <th>flashP</th>\n",
              "      <td>101325</td>\n",
              "      <td></td>\n",
              "      <td></td>\n",
              "    </tr>\n",
              "    <tr>\n",
              "      <th>flashT</th>\n",
              "      <td>359.966</td>\n",
              "      <td></td>\n",
              "      <td></td>\n",
              "    </tr>\n",
              "    <tr>\n",
              "      <th>q</th>\n",
              "      <td>0.5</td>\n",
              "      <td></td>\n",
              "      <td></td>\n",
              "    </tr>\n",
              "  </tbody>\n",
              "</table>\n",
              "</div>"
            ],
            "text/plain": [
              "                (vector2, 1) (vector2, 2)\n",
              "FT          350                          \n",
              "Fq                         0            0\n",
              "Ftot         10                          \n",
              "Lq                  0.401012     0.336411\n",
              "Ltot    5.28612                          \n",
              "Vq                 -0.414091     -0.32138\n",
              "Vtot    4.71388                          \n",
              "flashP   101325                          \n",
              "flashT  359.966                          \n",
              "q           0.5                          "
            ]
          },
          "metadata": {
            "tags": []
          },
          "execution_count": 7
        }
      ]
    },
    {
      "cell_type": "code",
      "metadata": {
        "pycharm": {
          "name": "#%%\n"
        },
        "id": "uSyi5RStqJ9J",
        "colab_type": "code",
        "colab": {}
      },
      "source": [
        ""
      ],
      "execution_count": null,
      "outputs": []
    }
  ]
}