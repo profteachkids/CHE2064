{
  "nbformat": 4,
  "nbformat_minor": 0,
  "metadata": {
    "colab": {
      "name": "trust_constr.ipynb",
      "provenance": [],
      "collapsed_sections": [],
      "authorship_tag": "ABX9TyMrP2nDF2MZYlGShjL5RqZe",
      "include_colab_link": true
    },
    "kernelspec": {
      "name": "python3",
      "display_name": "Python 3"
    }
  },
  "cells": [
    {
      "cell_type": "markdown",
      "metadata": {
        "id": "view-in-github",
        "colab_type": "text"
      },
      "source": [
        "<a href=\"https://colab.research.google.com/github/profteachkids/CHE2064/blob/master/trust_constr.ipynb\" target=\"_parent\"><img src=\"https://colab.research.google.com/assets/colab-badge.svg\" alt=\"Open In Colab\"/></a>"
      ]
    },
    {
      "cell_type": "code",
      "metadata": {
        "id": "qb5nN4J_KAid"
      },
      "source": [
        "import numpy as np\n",
        "import jax \n",
        "import jax.numpy as jnp\n",
        "from scipy.optimize import minimize, Bounds, NonlinearConstraint\n",
        "from jax.config import config\n",
        "config.update(\"jax_enable_x64\", True)\n"
      ],
      "execution_count": 1,
      "outputs": []
    },
    {
      "cell_type": "code",
      "metadata": {
        "id": "5g-g8QnPKFWT"
      },
      "source": [
        "def rosen(x):\n",
        "  return 100*(x[1]-x[0]**2)**2 + (1-x[0])**2"
      ],
      "execution_count": 2,
      "outputs": []
    },
    {
      "cell_type": "code",
      "metadata": {
        "id": "nhPw3jS_KYfu",
        "outputId": "59e4bae8-04d0-4ebd-d491-66c73b6e1b04",
        "colab": {
          "base_uri": "https://localhost:8080/",
          "height": 52
        }
      },
      "source": [
        "x_init = jnp.array([2.,0.6])"
      ],
      "execution_count": 3,
      "outputs": [
        {
          "output_type": "stream",
          "text": [
            "/usr/local/lib/python3.6/dist-packages/jax/lib/xla_bridge.py:130: UserWarning: No GPU/TPU found, falling back to CPU.\n",
            "  warnings.warn('No GPU/TPU found, falling back to CPU.')\n"
          ],
          "name": "stderr"
        }
      ]
    },
    {
      "cell_type": "code",
      "metadata": {
        "id": "hZLAcNCAgEeA"
      },
      "source": [
        "bounds = Bounds([0, -0.5], [1.0, 2.0])"
      ],
      "execution_count": 4,
      "outputs": []
    },
    {
      "cell_type": "code",
      "metadata": {
        "id": "sNSchq6JqZUH"
      },
      "source": [
        "def cons_f(x):\n",
        "  return jnp.array([x[0]**2 + x[1], x[0]**2 - x[1]])"
      ],
      "execution_count": 7,
      "outputs": []
    },
    {
      "cell_type": "code",
      "metadata": {
        "id": "FVTEGNVQqmlR"
      },
      "source": [
        "non_linear = NonlinearConstraint(cons_f,-np.inf, 1., jac=jax.jacobian(cons_f),\n",
        "                                 hess=jax.hessian(lambda x,v: jnp.dot(cons_f(x),v)))"
      ],
      "execution_count": 8,
      "outputs": []
    },
    {
      "cell_type": "code",
      "metadata": {
        "id": "1hBSm1aMYSWQ",
        "outputId": "3c59d9e0-10e6-4edd-f07e-54501f83eee4",
        "colab": {
          "base_uri": "https://localhost:8080/",
          "height": 72
        }
      },
      "source": [
        "res=minimize(rosen, x_init, method='trust-constr', jac=jax.grad(rosen),\n",
        "         hess=jax.hessian(rosen), tol=1e-12, options={'verbose': 1}, \n",
        "         constraints=(non_linear,), bounds=bounds)"
      ],
      "execution_count": 9,
      "outputs": [
        {
          "output_type": "stream",
          "text": [
            "`gtol` termination condition is satisfied.\n",
            "Number of iterations: 27, function evaluations: 17, CG iterations: 27, optimality: 1.40e-13, constraint violation: 0.00e+00, execution time:  2.1 s.\n"
          ],
          "name": "stdout"
        }
      ]
    },
    {
      "cell_type": "code",
      "metadata": {
        "id": "pf0X0CRnKrLz",
        "outputId": "393b71fb-102b-45db-d988-bb5f4194c23b",
        "colab": {
          "base_uri": "https://localhost:8080/",
          "height": 542
        }
      },
      "source": [
        "res"
      ],
      "execution_count": 10,
      "outputs": [
        {
          "output_type": "execute_result",
          "data": {
            "text/plain": [
              " barrier_parameter: 1.0240000000000006e-08\n",
              " barrier_tolerance: 1.0240000000000006e-08\n",
              "          cg_niter: 27\n",
              "      cg_stop_cond: 1\n",
              "            constr: [array([0.99999995, 0.00103371]), array([0.70747214, 0.49948312])]\n",
              "       constr_nfev: [17, 0]\n",
              "       constr_nhev: [28, 0]\n",
              "       constr_njev: [17, 0]\n",
              "    constr_penalty: 1.0\n",
              "  constr_violation: 0.0\n",
              "    execution_time: 2.0696663856506348\n",
              "               fun: 0.08567940395083566\n",
              "              grad: array([-0.29252789, -0.20674159])\n",
              "               jac: [array([[ 1.41494428,  1.        ],\n",
              "       [ 1.41494428, -1.        ]]), array([[1., 0.],\n",
              "       [0., 1.]])]\n",
              "   lagrangian_grad: array([ 9.88734307e-14, -1.39755962e-13])\n",
              "           message: '`gtol` termination condition is satisfied.'\n",
              "            method: 'tr_interior_point'\n",
              "              nfev: 17\n",
              "              nhev: 17\n",
              "               nit: 27\n",
              "             niter: 27\n",
              "              njev: 17\n",
              "        optimality: 1.397559616659175e-13\n",
              "            status: 1\n",
              "           success: True\n",
              "         tr_radius: 87308095.47248492\n",
              "                 v: [array([2.06741605e-01, 1.02503159e-08]), array([ 2.05297927e-08, -3.42077847e-09])]\n",
              "                 x: array([0.70747214, 0.49948312])"
            ]
          },
          "metadata": {
            "tags": []
          },
          "execution_count": 10
        }
      ]
    }
  ]
}