{
 "nbformat": 4,
 "nbformat_minor": 0,
 "metadata": {
  "kernelspec": {
   "display_name": "Python 3",
   "language": "python",
   "name": "python3"
  },
  "language_info": {
   "codemirror_mode": {
    "name": "ipython",
    "version": 2
   },
   "file_extension": ".py",
   "mimetype": "text/x-python",
   "name": "python",
   "nbconvert_exporter": "python",
   "pygments_lexer": "ipython2",
   "version": "2.7.6"
  },
  "colab": {
   "name": "Demo_AdiabaticFlash.ipynb",
   "provenance": [],
   "include_colab_link": true
  }
 },
 "cells": [
  {
   "cell_type": "code",
   "execution_count": 1,
   "outputs": [],
   "source": [
    "from dotmap import DotMap\n",
    "import pandas as pd\n",
    "import jax\n",
    "import jax.numpy as jnp\n",
    "from jax.config import config\n",
    "config.update(\"jax_enable_x64\", True) #JAX default is 32bit single precision\n",
    "\n",
    "from tools.tree_array_transform import VSC, Comp, Range, todf, report\n",
    "from tools.trust_ncg import minimize\n",
    "import tools.che as che"
   ],
   "metadata": {
    "collapsed": false,
    "pycharm": {
     "name": "#%%\n"
    }
   }
  },
  {
   "cell_type": "code",
   "metadata": {
    "pycharm": {
     "name": "#%%\n"
    },
    "id": "Wjacie-aul0U",
    "colab_type": "code",
    "colab": {}
   },
   "source": [
    "R=8.314 # J/(mol K)\n",
    "p = che.Props(['Nitrogen','Oxygen', 'Argon', 'Water'])\n",
    "\n",
    "def model(c):\n",
    "    Pw = p.Pvap(c.T)[3]\n",
    "    V_vap = c.V_tot - c.Vw_i\n",
    "    W_n_vap = Pw * V_vap / (R * c.T)\n",
    "    n_vap = jnp.concatenate((c.air_n, W_n_vap))\n",
    "    P = jnp.sum(n_vap) * R * c.T / V_vap\n",
    "    return (s.P_f - P)**2\n",
    "\n",
    "s=DotMap()\n",
    "s.air_y = jnp.array([0.78, 0.21, 0.01])\n",
    "s.W_tot = 1. # 1 kg\n",
    "s.V_tot = 0.01 # 10 Liters\n",
    "s.P_i = 1e5 # Pa air pressure\n",
    "s.P_f = 2e5 # Pa final pressure\n",
    "s.q = 2000. # watts\n",
    "s.T_i = 298.\n",
    "\n",
    "s.Vw_i = s.W_tot/p.rhol(s.T_i)[3]\n",
    "s.Vair_i = s.V_tot - s.Vw_i\n",
    "s.air_n = s.air_y * s.P_i * s.Vair_i / (R * s.T_i)\n",
    "\n",
    "v=DotMap()\n",
    "v.T = 360\n",
    "\n",
    "\n",
    "vsc=VSC(v,s)\n",
    "model_f = vsc.transform(model)\n",
    "model_f(vsc.x)"
   ],
   "execution_count": 2,
   "outputs": [
    {
     "name": "stderr",
     "output_type": "stream",
     "text": [
      "/Users/carlosco/opt/anaconda3/envs/pytorch/lib/python3.8/site-packages/jax/lib/xla_bridge.py:130: UserWarning: No GPU/TPU found, falling back to CPU.\n",
      "  warnings.warn('No GPU/TPU found, falling back to CPU.')\n"
     ]
    },
    {
     "data": {
      "text/plain": "289480362.3657249"
     },
     "execution_count": 2,
     "metadata": {},
     "output_type": "execute_result"
    }
   ]
  },
  {
   "cell_type": "code",
   "execution_count": 3,
   "outputs": [
    {
     "name": "stdout",
     "output_type": "stream",
     "text": [
      "0:0, f: 289480362.365714\n",
      "1:0, f: 202592002.86275265\n",
      "2:0, f: 71078468.74842988\n",
      "3:0, f: 1282241.4617060316\n",
      "4:0, f: 263.1243293157101\n",
      "5:0, f: 1.1634839085239364e-05\n",
      "Final results:\n",
      "f: 1.1634839085239364e-05\n",
      "x: [365.71923532]\n"
     ]
    }
   ],
   "source": [
    "modelf = jax.jit(vsc.transform(model))\n",
    "x_min, f = minimize(modelf, vsc.x, verbosity=1)"
   ],
   "metadata": {
    "collapsed": false,
    "pycharm": {
     "name": "#%%\n"
    }
   }
  },
  {
   "cell_type": "code",
   "execution_count": 4,
   "outputs": [
    {
     "name": "stdout",
     "output_type": "stream",
     "text": [
      "{'T': DeviceArray([365.71923532], dtype=float64)}\n"
     ]
    }
   ],
   "source": [
    "v_sol = vsc.xtov(x_min)\n",
    "v_sol.pprint()\n"
   ],
   "metadata": {
    "collapsed": false,
    "pycharm": {
     "name": "#%%\n"
    }
   }
  },
  {
   "cell_type": "code",
   "execution_count": 27,
   "outputs": [],
   "source": [
    "def model2(c):\n",
    "    r=DotMap()\n",
    "    Pw = p.Pvap(c.T)[3]\n",
    "    V_vap = c.V_tot - c.Vw_i\n",
    "    r.W_n_vap = Pw * V_vap / (R * c.T)\n",
    "    r.n_vap = jnp.concatenate((c.air_n, r.W_n_vap))\n",
    "    P = jnp.sum(r.n_vap) * R * c.T / V_vap\n",
    "    return ((s.P_f - P)/s.P_f)**2 + (r.W_n_vap - 0.3)**2, r"
   ],
   "metadata": {
    "collapsed": false,
    "pycharm": {
     "name": "#%%\n"
    }
   }
  },
  {
   "cell_type": "code",
   "execution_count": 33,
   "outputs": [],
   "source": [
    "s=DotMap()\n",
    "s.air_y = jnp.array([0.78, 0.21, 0.01])\n",
    "s.W_tot = 1. # 1 kg\n",
    "s.V_tot = 0.01 # 10 Liters\n",
    "s.P_i = 1e5 # Pa air pressure\n",
    "s.P_f = 2e5 # Pa final pressure\n",
    "s.q = 2000. # watts\n",
    "s.T_i = 298.\n",
    "\n",
    "s.Vw_i = s.W_tot/p.rhol(s.T_i)[3]\n",
    "s.Vair_i = s.V_tot - s.Vw_i\n",
    "s.air_n = s.air_y * s.P_i * s.Vair_i / (R * s.T_i)\n",
    "\n",
    "v=DotMap()\n",
    "v.T = Range(350, 300, 400)\n",
    "v.V_tot = Range(0.015, 0., 0.03)\n",
    "\n",
    "vsc=VSC(v,s)"
   ],
   "metadata": {
    "collapsed": false,
    "pycharm": {
     "name": "#%%\n"
    }
   }
  },
  {
   "cell_type": "code",
   "execution_count": 34,
   "outputs": [
    {
     "name": "stdout",
     "output_type": "stream",
     "text": [
      "0:0, f: 0.18134390814615023\n",
      "1:1, f: 1.4140975873723391e-05\n",
      "2:1, f: 6.079588663545894e-10\n",
      "Final results:\n",
      "f: 2.67104026669521e-18\n",
      "x: [ 0.84756637 -0.517435  ]\n"
     ]
    }
   ],
   "source": [
    "modelf = jax.jit(vsc.transform(model2))\n",
    "x_min, f = minimize(modelf, vsc.x, verbosity=1)"
   ],
   "metadata": {
    "collapsed": false,
    "pycharm": {
     "name": "#%%\n"
    }
   }
  },
  {
   "cell_type": "code",
   "execution_count": 35,
   "outputs": [
    {
     "name": "stdout",
     "output_type": "stream",
     "text": [
      "{'T': DeviceArray([370.00563837], dtype=float64),\n",
      " 'V_tot': DeviceArray([0.01120357], dtype=float64)}\n"
     ]
    }
   ],
   "source": [
    "v_sol = vsc.xtov(x_min)\n",
    "v_sol.pprint()\n"
   ],
   "metadata": {
    "collapsed": false,
    "pycharm": {
     "name": "#%%\n"
    }
   }
  },
  {
   "cell_type": "code",
   "execution_count": 36,
   "outputs": [
    {
     "data": {
      "text/plain": "          vector1   vector4                            \n                1         1          2           3    4\n0 W_n_vap     0.3                                      \n  n_vap            0.283185  0.0762421  0.00363057  0.3",
      "text/html": "<div>\n<style scoped>\n    .dataframe tbody tr th:only-of-type {\n        vertical-align: middle;\n    }\n\n    .dataframe tbody tr th {\n        vertical-align: top;\n    }\n\n    .dataframe thead tr th {\n        text-align: left;\n    }\n</style>\n<table border=\"1\" class=\"dataframe\">\n  <thead>\n    <tr>\n      <th></th>\n      <th></th>\n      <th>vector1</th>\n      <th colspan=\"4\" halign=\"left\">vector4</th>\n    </tr>\n    <tr>\n      <th></th>\n      <th></th>\n      <th>1</th>\n      <th>1</th>\n      <th>2</th>\n      <th>3</th>\n      <th>4</th>\n    </tr>\n  </thead>\n  <tbody>\n    <tr>\n      <th rowspan=\"2\" valign=\"top\">0</th>\n      <th>W_n_vap</th>\n      <td>0.3</td>\n      <td></td>\n      <td></td>\n      <td></td>\n      <td></td>\n    </tr>\n    <tr>\n      <th>n_vap</th>\n      <td></td>\n      <td>0.283185</td>\n      <td>0.0762421</td>\n      <td>0.00363057</td>\n      <td>0.3</td>\n    </tr>\n  </tbody>\n</table>\n</div>"
     },
     "execution_count": 36,
     "metadata": {},
     "output_type": "execute_result"
    }
   ],
   "source": [
    "report(model2, vsc.xtoc(x_min))"
   ],
   "metadata": {
    "collapsed": false,
    "pycharm": {
     "name": "#%%\n"
    }
   }
  },
  {
   "cell_type": "code",
   "execution_count": 37,
   "outputs": [
    {
     "data": {
      "text/plain": "         vector3                            vector1\n               1          2           3           1\nair_y       0.78       0.21        0.01            \nW_tot                                             1\nV_tot                                          0.01\nP_i                                          100000\nP_f                                          200000\nq                                              2000\nT_i                                             298\nVw_i                                     0.00100499\nVair_i                                   0.00899501\nair_n   0.283185  0.0762421  0.00363057            ",
      "text/html": "<div>\n<style scoped>\n    .dataframe tbody tr th:only-of-type {\n        vertical-align: middle;\n    }\n\n    .dataframe tbody tr th {\n        vertical-align: top;\n    }\n\n    .dataframe thead tr th {\n        text-align: left;\n    }\n</style>\n<table border=\"1\" class=\"dataframe\">\n  <thead>\n    <tr>\n      <th></th>\n      <th colspan=\"3\" halign=\"left\">vector3</th>\n      <th>vector1</th>\n    </tr>\n    <tr>\n      <th></th>\n      <th>1</th>\n      <th>2</th>\n      <th>3</th>\n      <th>1</th>\n    </tr>\n  </thead>\n  <tbody>\n    <tr>\n      <th>air_y</th>\n      <td>0.78</td>\n      <td>0.21</td>\n      <td>0.01</td>\n      <td></td>\n    </tr>\n    <tr>\n      <th>W_tot</th>\n      <td></td>\n      <td></td>\n      <td></td>\n      <td>1</td>\n    </tr>\n    <tr>\n      <th>V_tot</th>\n      <td></td>\n      <td></td>\n      <td></td>\n      <td>0.01</td>\n    </tr>\n    <tr>\n      <th>P_i</th>\n      <td></td>\n      <td></td>\n      <td></td>\n      <td>100000</td>\n    </tr>\n    <tr>\n      <th>P_f</th>\n      <td></td>\n      <td></td>\n      <td></td>\n      <td>200000</td>\n    </tr>\n    <tr>\n      <th>q</th>\n      <td></td>\n      <td></td>\n      <td></td>\n      <td>2000</td>\n    </tr>\n    <tr>\n      <th>T_i</th>\n      <td></td>\n      <td></td>\n      <td></td>\n      <td>298</td>\n    </tr>\n    <tr>\n      <th>Vw_i</th>\n      <td></td>\n      <td></td>\n      <td></td>\n      <td>0.00100499</td>\n    </tr>\n    <tr>\n      <th>Vair_i</th>\n      <td></td>\n      <td></td>\n      <td></td>\n      <td>0.00899501</td>\n    </tr>\n    <tr>\n      <th>air_n</th>\n      <td>0.283185</td>\n      <td>0.0762421</td>\n      <td>0.00363057</td>\n      <td></td>\n    </tr>\n  </tbody>\n</table>\n</div>"
     },
     "execution_count": 37,
     "metadata": {},
     "output_type": "execute_result"
    }
   ],
   "source": [
    "todf(s)"
   ],
   "metadata": {
    "collapsed": false,
    "pycharm": {
     "name": "#%%\n"
    }
   }
  },
  {
   "cell_type": "code",
   "execution_count": null,
   "outputs": [],
   "source": [],
   "metadata": {
    "collapsed": false,
    "pycharm": {
     "name": "#%%\n"
    }
   }
  }
 ]
}