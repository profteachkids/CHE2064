{
  "nbformat": 4,
  "nbformat_minor": 0,
  "metadata": {
    "colab": {
      "name": "Selenium_NASA_Scraping.ipynb",
      "provenance": [],
      "authorship_tag": "ABX9TyP31J0d3efajvurSwbFv0Kr",
      "include_colab_link": true
    },
    "kernelspec": {
      "name": "python3",
      "display_name": "Python 3"
    }
  },
  "cells": [
    {
      "cell_type": "markdown",
      "metadata": {
        "id": "view-in-github",
        "colab_type": "text"
      },
      "source": [
        "<a href=\"https://colab.research.google.com/github/profteachkids/CHE2064/blob/master/Selenium_NASA_Scraping.ipynb\" target=\"_parent\"><img src=\"https://colab.research.google.com/assets/colab-badge.svg\" alt=\"Open In Colab\"/></a>"
      ]
    },
    {
      "cell_type": "code",
      "metadata": {
        "colab": {
          "base_uri": "https://localhost:8080/"
        },
        "id": "qvT88VkiV8fE",
        "outputId": "57806a83-621a-4150-916a-060a017381cd"
      },
      "source": [
        "!pip install selenium\r\n",
        "!apt-get update # to update ubuntu to correctly run apt install\r\n",
        "!apt install chromium-chromedriver\r\n",
        "!cp /usr/lib/chromium-browser/chromedriver /usr/bin\r\n",
        "import sys\r\n",
        "sys.path.insert(0,'/usr/lib/chromium-browser/chromedriver')\r\n",
        "from selenium import webdriver\r\n",
        "from lxml import html\r\n",
        "\r\n",
        "options = webdriver.ChromeOptions()\r\n",
        "options.add_argument('--headless')\r\n",
        "options.add_argument('--no-sandbox')\r\n",
        "options.add_argument('--disable-dev-shm-usage')\r\n",
        "driver = webdriver.Chrome(options=options)"
      ],
      "execution_count": 10,
      "outputs": [
        {
          "output_type": "stream",
          "text": [
            "Requirement already satisfied: selenium in /usr/local/lib/python3.6/dist-packages (3.141.0)\n",
            "Requirement already satisfied: urllib3 in /usr/local/lib/python3.6/dist-packages (from selenium) (1.24.3)\n",
            "Ign:1 https://developer.download.nvidia.com/compute/cuda/repos/ubuntu1804/x86_64  InRelease\n",
            "Ign:2 https://developer.download.nvidia.com/compute/machine-learning/repos/ubuntu1804/x86_64  InRelease\n",
            "Hit:3 http://security.ubuntu.com/ubuntu bionic-security InRelease\n",
            "Hit:4 http://archive.ubuntu.com/ubuntu bionic InRelease\n",
            "Hit:5 https://cloud.r-project.org/bin/linux/ubuntu bionic-cran40/ InRelease\n",
            "Hit:6 https://developer.download.nvidia.com/compute/cuda/repos/ubuntu1804/x86_64  Release\n",
            "Hit:7 http://ppa.launchpad.net/c2d4u.team/c2d4u4.0+/ubuntu bionic InRelease\n",
            "Hit:8 https://developer.download.nvidia.com/compute/machine-learning/repos/ubuntu1804/x86_64  Release\n",
            "Hit:9 http://archive.ubuntu.com/ubuntu bionic-updates InRelease\n",
            "Hit:10 http://archive.ubuntu.com/ubuntu bionic-backports InRelease\n",
            "Hit:11 http://ppa.launchpad.net/graphics-drivers/ppa/ubuntu bionic InRelease\n",
            "Reading package lists... Done\n",
            "Reading package lists... Done\n",
            "Building dependency tree       \n",
            "Reading state information... Done\n",
            "chromium-chromedriver is already the newest version (87.0.4280.66-0ubuntu0.18.04.1).\n",
            "0 upgraded, 0 newly installed, 0 to remove and 36 not upgraded.\n",
            "cp: '/usr/lib/chromium-browser/chromedriver' and '/usr/bin/chromedriver' are the same file\n"
          ],
          "name": "stdout"
        }
      ]
    },
    {
      "cell_type": "code",
      "metadata": {
        "colab": {
          "base_uri": "https://localhost:8080/"
        },
        "id": "lMhsEVwoV-eE",
        "outputId": "b6af2de6-4d2a-4bb9-dfa1-76b08d563688"
      },
      "source": [
        "def crawl(url):\r\n",
        "    global num_links, processed\r\n",
        "    if url in processed:\r\n",
        "        return\r\n",
        "    processed.add(url)\r\n",
        "    num_links+=1\r\n",
        "    print(f'{num_links} {url}')\r\n",
        "    driver.get(root + url)\r\n",
        "    tree = html.fromstring(driver.page_source)\r\n",
        "    links=tree.xpath('//a[starts-with(@href,\"/\") and string-length(@href)>1]/@href')\r\n",
        "    for link in links:\r\n",
        "      crawl(link)\r\n",
        "\r\n",
        "root = 'https://www.nasa.gov'\r\n",
        "processed=set()\r\n",
        "num_links=0\r\n",
        "crawl(url='')\r\n",
        "processed=list(processed)\r\n",
        "print(processed)"
      ],
      "execution_count": null,
      "outputs": [
        {
          "output_type": "stream",
          "text": [
            "1 \n",
            "2 /topics/humans-in-space\n",
            "3 /topics/moon-to-mars/\n",
            "4 /topics/earth/index.html\n",
            "5 /topics/technology/index.html\n",
            "6 /topics/aeronautics/index.html\n",
            "7 /topics/solarsystem/index.html\n",
            "8 /stem\n",
            "9 /topics/history/index.html\n",
            "10 /topics/benefits/index.html\n",
            "11 /tags\n",
            "12 /artemis\n",
            "13 /exploration/commercial/crew/index.html\n",
            "14 /mission_pages/msl/index.html\n",
            "15 /mission_pages/hubble/main/index.html\n",
            "16 /mission_pages/webb/main/index.html\n",
            "17 /mission_pages/juno/main/index.html\n",
            "18 /mission_pages/station/main/index.html\n",
            "19 /mission_pages/insight/main/index.html\n",
            "20 /perseverance\n",
            "21 /mission_pages/newhorizons/main/index.html\n",
            "22 /osiris-rex\n",
            "23 /content/goddard/parker-solar-probe\n",
            "24 /launchschedule\n",
            "25 /missions/\n",
            "26 /multimedia/imagegallery/iotd.html\n",
            "27 /multimedia/imagegallery/index.html\n",
            "28 /multimedia/videogallery/index.html\n",
            "29 /content/ultra-high-definition-video-gallery/index.html\n",
            "30 /audience/formedia/features/MP_Photo_Guidelines.html\n",
            "31 /multimedia/nasatv/index.html\n",
            "32 /socialmedia\n",
            "33 /connect/social/index.html\n",
            "34 /nasalive\n",
            "35 /solve\n",
            "36 /feature/third-rock-radio\n",
            "37 /connect/apps.html\n",
            "38 /podcasts\n",
            "39 /connect/ebooks/index.html\n",
            "40 /connect/sounds/index.html\n",
            "41 /about/index.html\n",
            "42 /nasa-leadership\n",
            "43 /about/org_index.html\n",
            "44 /about/sites/index.html\n",
            "45 /about/exhibits/index.html\n",
            "46 /astronauts\n",
            "47 /about/people\n",
            "48 /about/career/index.html\n",
            "49 /news/media/info/index.html\n",
            "50 /stem/foreducators\n",
            "51 /stem/forstudents\n"
          ],
          "name": "stdout"
        }
      ]
    },
    {
      "cell_type": "code",
      "metadata": {
        "id": "qg_HvKUvWp6t"
      },
      "source": [
        ""
      ],
      "execution_count": null,
      "outputs": []
    }
  ]
}