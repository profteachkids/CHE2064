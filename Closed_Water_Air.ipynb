{
 "nbformat": 4,
 "nbformat_minor": 0,
 "metadata": {
  "kernelspec": {
   "display_name": "Python 3",
   "language": "python",
   "name": "python3"
  },
  "language_info": {
   "codemirror_mode": {
    "name": "ipython",
    "version": 2
   },
   "file_extension": ".py",
   "mimetype": "text/x-python",
   "name": "python",
   "nbconvert_exporter": "python",
   "pygments_lexer": "ipython2",
   "version": "2.7.6"
  },
  "colab": {
   "name": "Closed_Water_Air.ipynb",
   "provenance": [],
   "include_colab_link": true
  }
 },
 "cells": [
  {
   "cell_type": "markdown",
   "metadata": {
    "id": "view-in-github",
    "colab_type": "text"
   },
   "source": [
    "<a href=\"https://colab.research.google.com/github/profteachkids/CHE2064/blob/master/Closed_Water_Air.ipynb\" target=\"_parent\"><img src=\"https://colab.research.google.com/assets/colab-badge.svg\" alt=\"Open In Colab\"/></a>"
   ]
  },
  {
   "cell_type": "code",
   "metadata": {
    "id": "uYKuicDOlK0d"
   },
   "source": [
    "!git clone --depth 1 https://github.com/profteachkids/CHE2064.git &> /dev/null\n",
    "!pip install DotMap &> /dev/null\n",
    "!pip install jax==0.1.77 &> /dev/null\n",
    "!pip install jaxlib==0.1.55 &> /dev/null\n",
    "import sys\n",
    "sys.path.insert(1, \"/content/CHE2064\") #Path to CHE module imports"
   ],
   "execution_count": 1,
   "outputs": []
  },
  {
   "cell_type": "code",
   "metadata": {
    "pycharm": {
     "name": "#%%\n"
    },
    "id": "T-o9JMyd0K2V"
   },
   "source": [
    "from dotmap import DotMap\n",
    "import pandas as pd\n",
    "import jax\n",
    "from jax.lax import stop_gradient\n",
    "import jax.numpy as jnp\n",
    "from jax.config import config\n",
    "config.update(\"jax_enable_x64\", True) #JAX default is 32bit single precision\n",
    "from tools.tree_array_transform import VSC, Comp, Range\n",
    "import tools.che as che\n",
    "R=8.314 # J/(mol K)"
   ],
   "execution_count": 2,
   "outputs": []
  },
  {
   "cell_type": "code",
   "metadata": {
    "pycharm": {
     "name": "#%%\n"
    },
    "id": "YWnv7703g00z"
   },
   "source": [
    "p = che.Props(['Nitrogen','Oxygen', 'Argon', 'Water'])"
   ],
   "execution_count": 3,
   "outputs": []
  },
  {
   "cell_type": "code",
   "metadata": {
    "pycharm": {
     "name": "#%%\n"
    },
    "id": "Wjacie-aul0U",
    "outputId": "738180fd-403e-4402-80ae-245709d10462",
    "colab": {
     "base_uri": "https://localhost:8080/",
     "height": 72
    }
   },
   "source": [
    "def model(c,r):\n",
    "    # c: combination of adjustable variables and static state parameters\n",
    "    # r: DotMap - store intermediate results for reporting\n",
    "    r.Pw = p.Pvap(c.T)[3]\n",
    "    r.P = c.air_n * R * c.T / c.V_vap + r.Pw\n",
    "    return (c.P_f, r.P)\n",
    "\n",
    "c=DotMap()\n",
    "c.W_tot = 1. # 1 kg\n",
    "c.V_tot = 0.01 # 10 Liters\n",
    "c.P_i = 1e5 # Pa air pressure\n",
    "c.P_f = 2e5 # Pa final pressure\n",
    "c.T_i = 298.\n",
    "\n",
    "c.Vw_i = c.W_tot/p.rhol(c.T_i)[3]\n",
    "c.V_vap = c.V_tot - c.Vw_i # Approximation - water in the vapor phase is negligible\n",
    "c.air_n = c.P_i * c.V_vap / (R * c.T_i)\n",
    "\n",
    "c.T = Range(360,300,600)"
   ],
   "execution_count": 4,
   "outputs": [
    {
     "output_type": "stream",
     "text": [
      "/usr/local/lib/python3.6/dist-packages/jax/lib/xla_bridge.py:130: UserWarning: No GPU/TPU found, falling back to CPU.\n",
      "  warnings.warn('No GPU/TPU found, falling back to CPU.')\n"
     ],
     "name": "stderr"
    }
   ]
  },
  {
   "cell_type": "code",
   "metadata": {
    "pycharm": {
     "name": "#%%\n"
    },
    "id": "HigobUA-0K2h",
    "outputId": "227d1ae1-41c5-4958-efe7-474022e9ed11",
    "colab": {
     "base_uri": "https://localhost:8080/",
     "height": 298
    }
   },
   "source": [
    "# transform our model into one that takes a single array of adjustable variables\n",
    "# for minimization.  Unnecessary for this simple model with just 1 variable, \n",
    "# but very helpful for more complex problems later.\n",
    "vsc=VSC(c,model)\n",
    "vsc.solve()"
   ],
   "execution_count": 5,
   "outputs": [
    {
     "output_type": "stream",
     "text": [
      "0.001973574785335787\n",
      "0.0006606517658790154\n",
      "0.0006606517658790154\n",
      "1.5272366214780464e-05\n",
      "1.5272366214780464e-05\n",
      "1.5272366214780464e-05\n",
      "1.213645372823828e-08\n",
      "1.213645372823828e-08\n",
      "1.213645372823828e-08\n",
      "6.020159869574761e-14\n",
      "6.020159869574761e-14\n",
      "6.020159869574761e-14\n",
      "6.020159869574761e-14\n",
      "6.020159869574761e-14\n",
      "6.409037068602645e-20\n"
     ],
     "name": "stdout"
    }
   ]
  },
  {
   "cell_type": "code",
   "metadata": {
    "pycharm": {
     "name": "#%%\n"
    },
    "id": "IGnN0h9Vo-ZF",
    "outputId": "76e350c1-e63b-49f6-ba53-07ba94422963",
    "colab": {
     "base_uri": "https://localhost:8080/"
    }
   },
   "source": [
    "# Dataframe of adjustable variables\n",
    "vsc.vdf"
   ],
   "execution_count": 6,
   "outputs": [
    {
     "output_type": "execute_result",
     "data": {
      "text/html": [
       "<div>\n",
       "<style scoped>\n",
       "    .dataframe tbody tr th:only-of-type {\n",
       "        vertical-align: middle;\n",
       "    }\n",
       "\n",
       "    .dataframe tbody tr th {\n",
       "        vertical-align: top;\n",
       "    }\n",
       "\n",
       "    .dataframe thead tr th {\n",
       "        text-align: left;\n",
       "    }\n",
       "</style>\n",
       "<table border=\"1\" class=\"dataframe\">\n",
       "  <thead>\n",
       "    <tr>\n",
       "      <th></th>\n",
       "      <th>vector1</th>\n",
       "    </tr>\n",
       "    <tr>\n",
       "      <th></th>\n",
       "      <th>1</th>\n",
       "    </tr>\n",
       "  </thead>\n",
       "  <tbody>\n",
       "    <tr>\n",
       "      <th>T</th>\n",
       "      <td>365.719235</td>\n",
       "    </tr>\n",
       "  </tbody>\n",
       "</table>\n",
       "</div>"
      ],
      "text/plain": [
       "      vector1\n",
       "            1\n",
       "T  365.719235"
      ]
     },
     "metadata": {
      "tags": []
     },
     "execution_count": 6
    }
   ]
  },
  {
   "cell_type": "code",
   "metadata": {
    "pycharm": {
     "name": "#%%\n"
    },
    "id": "2b9tj5txo-ZI",
    "outputId": "460bcb52-a079-4705-dbfc-b8d0f9b9f892",
    "colab": {
     "base_uri": "https://localhost:8080/",
     "height": 164
    }
   },
   "source": [
    "# Dataframe of intermediate results\n",
    "vsc.rdf"
   ],
   "execution_count": 7,
   "outputs": [
    {
     "output_type": "execute_result",
     "data": {
      "text/html": [
       "<div>\n",
       "<style scoped>\n",
       "    .dataframe tbody tr th:only-of-type {\n",
       "        vertical-align: middle;\n",
       "    }\n",
       "\n",
       "    .dataframe tbody tr th {\n",
       "        vertical-align: top;\n",
       "    }\n",
       "\n",
       "    .dataframe thead tr th {\n",
       "        text-align: left;\n",
       "    }\n",
       "</style>\n",
       "<table border=\"1\" class=\"dataframe\">\n",
       "  <thead>\n",
       "    <tr>\n",
       "      <th></th>\n",
       "      <th>vector1</th>\n",
       "    </tr>\n",
       "    <tr>\n",
       "      <th></th>\n",
       "      <th>1</th>\n",
       "    </tr>\n",
       "  </thead>\n",
       "  <tbody>\n",
       "    <tr>\n",
       "      <th>Pw</th>\n",
       "      <td>77275.424480</td>\n",
       "    </tr>\n",
       "    <tr>\n",
       "      <th>P</th>\n",
       "      <td>200000.000101</td>\n",
       "    </tr>\n",
       "  </tbody>\n",
       "</table>\n",
       "</div>"
      ],
      "text/plain": [
       "          vector1\n",
       "                1\n",
       "Pw   77275.424480\n",
       "P   200000.000101"
      ]
     },
     "metadata": {
      "tags": []
     },
     "execution_count": 7
    }
   ]
  },
  {
   "cell_type": "code",
   "metadata": {
    "pycharm": {
     "name": "#%%\n"
    },
    "id": "eiRaI1-Lo-ZO",
    "outputId": "bea3c984-d400-4178-89fd-96b53afb8c44",
    "colab": {
     "base_uri": "https://localhost:8080/",
     "height": 352
    }
   },
   "source": [
    "# Dataframe of static state parameters\n",
    "vsc.sdf"
   ],
   "execution_count": 8,
   "outputs": [
    {
     "output_type": "execute_result",
     "data": {
      "text/html": [
       "<div>\n",
       "<style scoped>\n",
       "    .dataframe tbody tr th:only-of-type {\n",
       "        vertical-align: middle;\n",
       "    }\n",
       "\n",
       "    .dataframe tbody tr th {\n",
       "        vertical-align: top;\n",
       "    }\n",
       "\n",
       "    .dataframe thead tr th {\n",
       "        text-align: left;\n",
       "    }\n",
       "</style>\n",
       "<table border=\"1\" class=\"dataframe\">\n",
       "  <thead>\n",
       "    <tr>\n",
       "      <th></th>\n",
       "      <th>vector1</th>\n",
       "    </tr>\n",
       "    <tr>\n",
       "      <th></th>\n",
       "      <th>1</th>\n",
       "    </tr>\n",
       "  </thead>\n",
       "  <tbody>\n",
       "    <tr>\n",
       "      <th>P_i</th>\n",
       "      <td>100000.000000</td>\n",
       "    </tr>\n",
       "    <tr>\n",
       "      <th>T_i</th>\n",
       "      <td>298.000000</td>\n",
       "    </tr>\n",
       "    <tr>\n",
       "      <th>W_tot</th>\n",
       "      <td>1.000000</td>\n",
       "    </tr>\n",
       "    <tr>\n",
       "      <th>V_vap</th>\n",
       "      <td>0.008995</td>\n",
       "    </tr>\n",
       "    <tr>\n",
       "      <th>P_f</th>\n",
       "      <td>200000.000000</td>\n",
       "    </tr>\n",
       "    <tr>\n",
       "      <th>Vw_i</th>\n",
       "      <td>0.001005</td>\n",
       "    </tr>\n",
       "    <tr>\n",
       "      <th>air_n</th>\n",
       "      <td>0.363057</td>\n",
       "    </tr>\n",
       "    <tr>\n",
       "      <th>V_tot</th>\n",
       "      <td>0.010000</td>\n",
       "    </tr>\n",
       "  </tbody>\n",
       "</table>\n",
       "</div>"
      ],
      "text/plain": [
       "             vector1\n",
       "                   1\n",
       "P_i    100000.000000\n",
       "T_i       298.000000\n",
       "W_tot       1.000000\n",
       "V_vap       0.008995\n",
       "P_f    200000.000000\n",
       "Vw_i        0.001005\n",
       "air_n       0.363057\n",
       "V_tot       0.010000"
      ]
     },
     "metadata": {
      "tags": []
     },
     "execution_count": 8
    }
   ]
  },
  {
   "cell_type": "code",
   "metadata": {
    "id": "eNOiONqXr698",
    "outputId": "34e7915f-be3f-4cb2-a9ae-722359539aa6",
    "colab": {
     "base_uri": "https://localhost:8080/",
     "height": 124
    }
   },
   "source": [
    "# Raw values available as DotMaps\n",
    "print(vsc.r) # intermediate results\n",
    "print(vsc.v) # solution\n",
    "\n",
    "#specific values\n",
    "print(f'Temperature to achieve desired pressure: {vsc.v.T}')\n",
    "print(f'Vapor pressure of water: {vsc.r.Pw}')\n",
    "print(f'Volume of vapor phase: {vsc.r.V_vap}')"
   ],
   "execution_count": 9,
   "outputs": [
    {
     "output_type": "stream",
     "text": [
      "DotMap(Pw=DeviceArray(77275.42448034, dtype=float64), P=DeviceArray([200000.00010126], dtype=float64))\n",
      "DotMap(T=DeviceArray([365.71923535], dtype=float64))\n",
      "Temperature to achieve desired pressure: [365.71923535]\n",
      "Vapor pressure of water: 77275.4244803356\n",
      "Volume of vapor phase: DotMap()\n"
     ],
     "name": "stdout"
    }
   ]
  },
  {
   "cell_type": "code",
   "metadata": {
    "pycharm": {
     "name": "#%%\n"
    },
    "id": "MaAySxSg0K2o"
   },
   "source": [
    "# Set desired final pressure and moves of water in vapor phase\n",
    "# Adjustable variables: final temperature and total container volume\n",
    "def model2(c,r):\n",
    "    r.Pw = p.Pvap(c.T)[3]\n",
    "    r.V_vap = c.V_tot - c.Vw_i # Approximation - water in the vapor phase is negligible\n",
    "    r.air_n = c.P_i * r.V_vap / (R * c.T_i)\n",
    "\n",
    "    r.W_n_vap = r.Pw * r.V_vap / (R * c.T) \n",
    "    r.P = r.air_n  * R * c.T / r.V_vap + r.Pw\n",
    "\n",
    "    # tuples from left and right side of equations\n",
    "    P_constraint = (c.P_f, r.P)\n",
    "    W_n_constraint = (r.W_n_vap, c.W_n_vap_desired)\n",
    "    return (P_constraint, W_n_constraint)"
   ],
   "execution_count": 10,
   "outputs": []
  },
  {
   "cell_type": "code",
   "metadata": {
    "pycharm": {
     "name": "#%%\n"
    },
    "id": "Zfm8jxfY0K2s"
   },
   "source": [
    "c=DotMap()\n",
    "c.W_tot = 1. # 1 kg\n",
    "c.V_tot = 0.01 # 10 Liters\n",
    "c.P_i = 1e5 # Pa air pressure\n",
    "c.P_f = 2e5 # Pa final pressure\n",
    "c.T_i = 298.\n",
    "c.W_n_vap_desired = 0.3\n",
    "\n",
    "c.Vw_i = c.W_tot/p.rhol(c.T_i)[3]\n",
    "c.T = Range(350, 300, 400) #final temperature\n",
    "c.V_tot = Range(0.015, 0., 0.03) # total container volume\n",
    "\n",
    "vsc=VSC(c,model2)\n",
    "vsc.solve(verbosity=0)"
   ],
   "execution_count": 11,
   "outputs": []
  },
  {
   "cell_type": "code",
   "metadata": {
    "pycharm": {
     "name": "#%%\n"
    },
    "id": "8wqWHVc30K2v",
    "outputId": "2f084d11-06f2-443b-8bcc-a0d91980b984",
    "colab": {
     "base_uri": "https://localhost:8080/",
     "height": 164
    }
   },
   "source": [
    "vsc.vdf"
   ],
   "execution_count": 12,
   "outputs": [
    {
     "output_type": "execute_result",
     "data": {
      "text/html": [
       "<div>\n",
       "<style scoped>\n",
       "    .dataframe tbody tr th:only-of-type {\n",
       "        vertical-align: middle;\n",
       "    }\n",
       "\n",
       "    .dataframe tbody tr th {\n",
       "        vertical-align: top;\n",
       "    }\n",
       "\n",
       "    .dataframe thead tr th {\n",
       "        text-align: left;\n",
       "    }\n",
       "</style>\n",
       "<table border=\"1\" class=\"dataframe\">\n",
       "  <thead>\n",
       "    <tr>\n",
       "      <th></th>\n",
       "      <th>vector1</th>\n",
       "    </tr>\n",
       "    <tr>\n",
       "      <th></th>\n",
       "      <th>1</th>\n",
       "    </tr>\n",
       "  </thead>\n",
       "  <tbody>\n",
       "    <tr>\n",
       "      <th>T</th>\n",
       "      <td>365.719235</td>\n",
       "    </tr>\n",
       "    <tr>\n",
       "      <th>V_tot</th>\n",
       "      <td>0.012809</td>\n",
       "    </tr>\n",
       "  </tbody>\n",
       "</table>\n",
       "</div>"
      ],
      "text/plain": [
       "          vector1\n",
       "                1\n",
       "T      365.719235\n",
       "V_tot    0.012809"
      ]
     },
     "metadata": {
      "tags": []
     },
     "execution_count": 12
    }
   ]
  },
  {
   "cell_type": "code",
   "metadata": {
    "pycharm": {
     "name": "#%%\n"
    },
    "id": "YvmCAQtPo-Zb",
    "outputId": "068c8847-ebf1-4b70-b0eb-60725df3c1c7",
    "colab": {
     "base_uri": "https://localhost:8080/",
     "height": 258
    }
   },
   "source": [
    "vsc.rdf\n"
   ],
   "execution_count": 13,
   "outputs": [
    {
     "output_type": "execute_result",
     "data": {
      "text/html": [
       "<div>\n",
       "<style scoped>\n",
       "    .dataframe tbody tr th:only-of-type {\n",
       "        vertical-align: middle;\n",
       "    }\n",
       "\n",
       "    .dataframe tbody tr th {\n",
       "        vertical-align: top;\n",
       "    }\n",
       "\n",
       "    .dataframe thead tr th {\n",
       "        text-align: left;\n",
       "    }\n",
       "</style>\n",
       "<table border=\"1\" class=\"dataframe\">\n",
       "  <thead>\n",
       "    <tr>\n",
       "      <th></th>\n",
       "      <th>vector1</th>\n",
       "    </tr>\n",
       "    <tr>\n",
       "      <th></th>\n",
       "      <th>1</th>\n",
       "    </tr>\n",
       "  </thead>\n",
       "  <tbody>\n",
       "    <tr>\n",
       "      <th>Pw</th>\n",
       "      <td>77275.424383</td>\n",
       "    </tr>\n",
       "    <tr>\n",
       "      <th>V_vap</th>\n",
       "      <td>0.011804</td>\n",
       "    </tr>\n",
       "    <tr>\n",
       "      <th>air_n</th>\n",
       "      <td>0.476443</td>\n",
       "    </tr>\n",
       "    <tr>\n",
       "      <th>W_n_vap</th>\n",
       "      <td>0.300000</td>\n",
       "    </tr>\n",
       "    <tr>\n",
       "      <th>P</th>\n",
       "      <td>199999.999993</td>\n",
       "    </tr>\n",
       "  </tbody>\n",
       "</table>\n",
       "</div>"
      ],
      "text/plain": [
       "               vector1\n",
       "                     1\n",
       "Pw        77275.424383\n",
       "V_vap         0.011804\n",
       "air_n         0.476443\n",
       "W_n_vap       0.300000\n",
       "P        199999.999993"
      ]
     },
     "metadata": {
      "tags": []
     },
     "execution_count": 13
    }
   ]
  },
  {
   "cell_type": "code",
   "metadata": {
    "pycharm": {
     "name": "#%%\n"
    },
    "id": "Ifo8H6SskFhC"
   },
   "source": [
    "# The reduction in liquid volume of water due to evaporation is negligibly small\n",
    "# usually.  Moles of water lost in vapor phase is set as an adjustable variable\n",
    "# then constrained to be equal to that calculated from its vapor pressure and \n",
    "# volume of the vapor phase.\n",
    "\n",
    "def model3(c, r):\n",
    "    Pw = p.Pvap(c.T)[3]\n",
    "    # volume of liquid water lost as water vapor ignored in model1\n",
    "    # evaluate the density of water at T, but do not propagate gradients through.\n",
    "    r.v_w_vap = c.W_n_vap*p.Mw[3]/1000/p.rhol(stop_gradient(c.T))[3]\n",
    "    r.V_vap = c.V_tot - (c.Vw_i - r.v_w_vap)\n",
    "    r.air_n = c.P_i * r.V_vap / (R * c.T_i)\n",
    "    r.W_n_vap = Pw * r.V_vap / (R * c.T)\n",
    "    P = (r.air_n + r.W_n_vap) * R * c.T / r.V_vap\n",
    "    P_constraint = (c.P_f, P)\n",
    "    W_constraint = (c.W_n_vap, r.W_n_vap)\n",
    "    return (P_constraint,W_constraint)"
   ],
   "execution_count": 14,
   "outputs": []
  },
  {
   "cell_type": "code",
   "metadata": {
    "pycharm": {
     "name": "#%%\n"
    },
    "id": "mrZwRd50kFhF"
   },
   "source": [
    "c=DotMap()\n",
    "c.W_tot = 1. # 1 kg\n",
    "c.V_tot = 0.01 # 10 Liters\n",
    "c.P_i = 1e5 # Pa air pressure\n",
    "c.P_f = 2e5 # Pa final pressure\n",
    "c.T_i = 298.\n",
    "c.Vw_i = c.W_tot/p.rhol(c.T_i)[3]\n",
    "\n",
    "c.T = Range(350., 300., 400.)\n",
    "c.W_n_vap = Range(1., 0., 2.) # moles of water vapor\n",
    "\n",
    "vsc=VSC(c,model3)\n",
    "vsc.solve(verbosity=0)"
   ],
   "execution_count": 15,
   "outputs": []
  },
  {
   "cell_type": "code",
   "metadata": {
    "id": "e4WxV4C0o4Nx",
    "outputId": "67487ef3-6d03-414f-e9b5-cca05a88afb5",
    "colab": {
     "base_uri": "https://localhost:8080/",
     "height": 226
    }
   },
   "source": [
    "vsc.rdf"
   ],
   "execution_count": 16,
   "outputs": [
    {
     "output_type": "execute_result",
     "data": {
      "text/html": [
       "<div>\n",
       "<style scoped>\n",
       "    .dataframe tbody tr th:only-of-type {\n",
       "        vertical-align: middle;\n",
       "    }\n",
       "\n",
       "    .dataframe tbody tr th {\n",
       "        vertical-align: top;\n",
       "    }\n",
       "\n",
       "    .dataframe thead tr th {\n",
       "        text-align: left;\n",
       "    }\n",
       "</style>\n",
       "<table border=\"1\" class=\"dataframe\">\n",
       "  <thead>\n",
       "    <tr>\n",
       "      <th></th>\n",
       "      <th>vector1</th>\n",
       "    </tr>\n",
       "    <tr>\n",
       "      <th></th>\n",
       "      <th>1</th>\n",
       "    </tr>\n",
       "  </thead>\n",
       "  <tbody>\n",
       "    <tr>\n",
       "      <th>v_w_vap</th>\n",
       "      <td>0.000004</td>\n",
       "    </tr>\n",
       "    <tr>\n",
       "      <th>V_vap</th>\n",
       "      <td>0.008999</td>\n",
       "    </tr>\n",
       "    <tr>\n",
       "      <th>air_n</th>\n",
       "      <td>0.363228</td>\n",
       "    </tr>\n",
       "    <tr>\n",
       "      <th>W_n_vap</th>\n",
       "      <td>0.228712</td>\n",
       "    </tr>\n",
       "  </tbody>\n",
       "</table>\n",
       "</div>"
      ],
      "text/plain": [
       "          vector1\n",
       "                1\n",
       "v_w_vap  0.000004\n",
       "V_vap    0.008999\n",
       "air_n    0.363228\n",
       "W_n_vap  0.228712"
      ]
     },
     "metadata": {
      "tags": []
     },
     "execution_count": 16
    }
   ]
  },
  {
   "cell_type": "code",
   "metadata": {
    "pycharm": {
     "name": "#%%\n"
    },
    "id": "0GzogvxfkFhQ",
    "outputId": "d431ef99-ea79-406d-dad4-083dfd8ac1b4",
    "colab": {
     "base_uri": "https://localhost:8080/",
     "height": 164
    }
   },
   "source": [
    "vsc.vdf"
   ],
   "execution_count": 17,
   "outputs": [
    {
     "output_type": "execute_result",
     "data": {
      "text/html": [
       "<div>\n",
       "<style scoped>\n",
       "    .dataframe tbody tr th:only-of-type {\n",
       "        vertical-align: middle;\n",
       "    }\n",
       "\n",
       "    .dataframe tbody tr th {\n",
       "        vertical-align: top;\n",
       "    }\n",
       "\n",
       "    .dataframe thead tr th {\n",
       "        text-align: left;\n",
       "    }\n",
       "</style>\n",
       "<table border=\"1\" class=\"dataframe\">\n",
       "  <thead>\n",
       "    <tr>\n",
       "      <th></th>\n",
       "      <th>vector1</th>\n",
       "    </tr>\n",
       "    <tr>\n",
       "      <th></th>\n",
       "      <th>1</th>\n",
       "    </tr>\n",
       "  </thead>\n",
       "  <tbody>\n",
       "    <tr>\n",
       "      <th>T</th>\n",
       "      <td>365.719235</td>\n",
       "    </tr>\n",
       "    <tr>\n",
       "      <th>W_n_vap</th>\n",
       "      <td>0.228712</td>\n",
       "    </tr>\n",
       "  </tbody>\n",
       "</table>\n",
       "</div>"
      ],
      "text/plain": [
       "            vector1\n",
       "                  1\n",
       "T        365.719235\n",
       "W_n_vap    0.228712"
      ]
     },
     "metadata": {
      "tags": []
     },
     "execution_count": 17
    }
   ]
  },
  {
   "cell_type": "code",
   "metadata": {
    "id": "JPDbY1r_uw46",
    "outputId": "2f43a0c6-cdbd-43b0-cfd6-c07e897f6edf",
    "colab": {
     "base_uri": "https://localhost:8080/",
     "height": 72
    }
   },
   "source": [
    "# How does this affect the average molecular weight of the vapor phase?\n",
    "print(f'MW of pure air: {jnp.sum(p.Mw[:3] * jnp.array([0.78, 0.21, 0.01]))}')\n",
    "\n",
    "mass_air = jnp.sum(p.Mw[:3] * jnp.array([0.78, 0.21, 0.01]) * vsc.r.air_n)\n",
    "mass_water_vapor = p.Mw[3] * vsc.r.W_n_vap\n",
    "avg_MW = (mass_air+ mass_water_vapor)/(vsc.r.air_n + vsc.r.W_n_vap)\n",
    "print(f'MW of air/water vapor phase: {avg_MW}')\n",
    "# water vapor is lighter than air!"
   ],
   "execution_count": 18,
   "outputs": [
    {
     "output_type": "stream",
     "text": [
      "MW of pure air: 28.97019\n",
      "MW of air/water vapor phase: [24.73735522]\n"
     ],
     "name": "stdout"
    }
   ]
  },
  {
   "cell_type": "code",
   "metadata": {
    "id": "X92lm26nl_ZV"
   },
   "source": [
    ""
   ],
   "execution_count": null,
   "outputs": []
  }
 ]
}