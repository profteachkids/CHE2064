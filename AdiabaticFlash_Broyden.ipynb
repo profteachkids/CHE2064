{
  "nbformat": 4,
  "nbformat_minor": 0,
  "metadata": {
    "colab": {
      "name": "AdiabaticFlash_Broyden.ipynb",
      "provenance": [],
      "collapsed_sections": [],
      "authorship_tag": "ABX9TyOtn5xLARjq/l2oO9po80yJ",
      "include_colab_link": true
    },
    "kernelspec": {
      "name": "python3",
      "display_name": "Python 3"
    }
  },
  "cells": [
    {
      "cell_type": "markdown",
      "metadata": {
        "id": "view-in-github",
        "colab_type": "text"
      },
      "source": [
        "<a href=\"https://colab.research.google.com/github/profteachkids/CHE2064/blob/master/AdiabaticFlash_Broyden.ipynb\" target=\"_parent\"><img src=\"https://colab.research.google.com/assets/colab-badge.svg\" alt=\"Open In Colab\"/></a>"
      ]
    },
    {
      "cell_type": "code",
      "metadata": {
        "id": "lXRC_zAwWeBV"
      },
      "source": [
        "!git clone --depth 1 https://github.com/profteachkids/CHE2064.git &> /dev/null\n",
        "!pip install DotMap &> /dev/null\n",
        "import sys\n",
        "sys.path.insert(1, \"/content/CHE2064\") #Path to CHE module imports"
      ],
      "execution_count": 1,
      "outputs": []
    },
    {
      "cell_type": "code",
      "metadata": {
        "id": "smbHjyXAWQwE"
      },
      "source": [
        "import jax\n",
        "import jax.numpy as jnp\n",
        "from jax.config import config\n",
        "config.update(\"jax_enable_x64\", True)\n",
        "from scipy.optimize import root, minimize, NonlinearConstraint\n",
        "import tools.che as che\n",
        "R=8.314 # J/(mol K)\n",
        "eps=1e-12"
      ],
      "execution_count": 2,
      "outputs": []
    },
    {
      "cell_type": "code",
      "metadata": {
        "id": "refAFhyyWiP2",
        "outputId": "b17f605f-aae7-422c-e2f3-74e09dc6a9fa",
        "colab": {
          "base_uri": "https://localhost:8080/",
          "height": 34
        }
      },
      "source": [
        "p = che.Props(['Ethanol','Isopropanol', 'Water'])"
      ],
      "execution_count": 3,
      "outputs": [
        {
          "output_type": "stream",
          "text": [
            "WARNING:absl:No GPU/TPU found, falling back to CPU. (Set TF_CPP_MIN_LOG_LEVEL=0 and rerun for more info.)\n"
          ],
          "name": "stderr"
        }
      ]
    },
    {
      "cell_type": "code",
      "metadata": {
        "id": "pc86-4JNWtOc"
      },
      "source": [
        "Ftot=10 # Total Feed moles\n",
        "Fz = jnp.array([1/3, 1/3, 1/3]) # Equimolar feed composition\n",
        "FT = 450 # Feed temperature\n",
        "flashP= 101325 # Flash drum pressure\n",
        "\n",
        "Vy = Fz # Guess vapor/liquid composition equal to feed\n",
        "Lx = Fz # Comp - constrains mole fractions to behave like mole fractions!\n",
        "flashT = jnp.array([360.])  # Guess and bounds for flash temperature\n",
        "Vtot = jnp.array([Ftot/2])  # Guess half of feed in vapor\n",
        "Ltot = jnp.array([Ftot/2])\n",
        "\n",
        "x_guess = jnp.concatenate([Vy, Lx, flashT, Vtot, Ltot])"
      ],
      "execution_count": 10,
      "outputs": []
    },
    {
      "cell_type": "code",
      "metadata": {
        "id": "iPMq_E_wWoQG"
      },
      "source": [
        "def model(x):\n",
        "  Vy = x[0:3]\n",
        "  Lx = x[3:6]\n",
        "  flashT = x[6]\n",
        "  Vtot = x[7]\n",
        "  Ltot = x[8]\n",
        "\n",
        "  sum_frac = jnp.array([jnp.sum(Vy)-1., jnp.sum(Lx)-1.])\n",
        "\n",
        "  V = Vy * Vtot\n",
        "  L = Lx * Ltot\n",
        "  F = Fz * Ftot\n",
        "  mass_balance = F-V-L\n",
        "\n",
        "  FH = p.Hl(nL=F, T=FT)\n",
        "  VH = p.Hv(nV=V, T=flashT)\n",
        "  LH = p.Hl(nL=L, T=flashT)\n",
        "  energy_balance = jnp.array([FH - VH - LH])\n",
        "\n",
        "  fugL = Lx  * p.NRTL_gamma(Lx,flashT)* p.Pvap(flashT)\n",
        "  fugV = Vy*flashP\n",
        "  VLE = fugL - fugV\n",
        "  return jnp.concatenate([sum_frac, mass_balance, energy_balance, VLE])"
      ],
      "execution_count": 16,
      "outputs": []
    },
    {
      "cell_type": "code",
      "metadata": {
        "id": "NVsco17vYvJH",
        "outputId": "7ccca783-542e-43ef-d2c7-8240b1246cb0",
        "colab": {
          "base_uri": "https://localhost:8080/",
          "height": 68
        }
      },
      "source": [
        "model(x_guess)"
      ],
      "execution_count": 17,
      "outputs": [
        {
          "output_type": "execute_result",
          "data": {
            "text/plain": [
              "DeviceArray([     0.        ,      0.        ,      0.        ,\n",
              "                  0.        ,      0.        , -48834.08861275,\n",
              "              17774.2642706 ,  11514.40996588,   3103.78604499],            dtype=float64)"
            ]
          },
          "metadata": {
            "tags": []
          },
          "execution_count": 17
        }
      ]
    },
    {
      "cell_type": "code",
      "metadata": {
        "id": "0teROLD_YwSy"
      },
      "source": [
        "def broyden3(func, x, J=None, max_iter=100, tol=1e-6, verbose=0, xmax=jnp.inf, xmin=-jnp.inf):\n",
        "  Jf = jax.jacobian(func) if J is None else J\n",
        "  J = Jf(x)\n",
        "  Jinv = jnp.linalg.inv(J)\n",
        "  f = func(x)\n",
        "\n",
        "  for i in range(max_iter):\n",
        "    print(f\"\\nIter: {i}\")\n",
        "    dx = - Jinv @ f\n",
        "\n",
        "    alpha_max_limits = jnp.min(jnp.where(x + dx > xmax, (xmax - x) / (dx), 1))\n",
        "    alpha_min_limits = jnp.min(jnp.where(x + dx < xmin, (xmin - x) / (dx), 1))\n",
        "    alpha = min(alpha_max_limits, alpha_min_limits)\n",
        "\n",
        "    while alpha > 0.01:\n",
        "      dx_try = alpha*dx\n",
        "      xp = x + dx_try\n",
        "      fp = func(xp)\n",
        "      dnorm = jnp.linalg.norm(fp)-jnp.linalg.norm(f)\n",
        "      if verbose>1:\n",
        "        print(f\"Alpha {alpha}   dnorm {dnorm}  dx_try {dx_try}   f {f}    fp {fp}\")\n",
        "      if dnorm > 0:\n",
        "        alpha *= 0.5\n",
        "      else:\n",
        "        break\n",
        "    if alpha <= 0.01:\n",
        "      if verbose>1:\n",
        "        print(\"reevaluate J\")\n",
        "      Jinv = jnp.linalg.inv(Jf(x))\n",
        "      continue\n",
        "\n",
        "    dx=dx_try\n",
        "    f= fp\n",
        "    x= xp\n",
        "    if verbose>0:\n",
        "      print(i, x, f)\n",
        "      print()\n",
        "    if jnp.linalg.norm(fp) < tol:\n",
        "      break\n",
        "\n",
        "    u = jnp.expand_dims(fp,1)\n",
        "    v = jnp.expand_dims(dx,1)/jnp.linalg.norm(dx)**2\n",
        "    Jinv = Jinv - Jinv @ u @ v.T @ Jinv / (1 + v.T @ Jinv @ u)  #Sherman-Morrison\n",
        "  return x, f"
      ],
      "execution_count": 25,
      "outputs": []
    },
    {
      "cell_type": "code",
      "metadata": {
        "id": "K2cnuE3hY_1l"
      },
      "source": [
        "broyden3(model, x_guess, verbose=2, max_iter=100,\n",
        "         xmin=jnp.array([0., 0., 0., 0., 0., 0., 300., 0., 0.]),\n",
        "         xmax=jnp.array([1., 1., 1., 1., 1., 1., FT, Ftot, Ftot]))"
      ],
      "execution_count": null,
      "outputs": []
    }
  ]
}