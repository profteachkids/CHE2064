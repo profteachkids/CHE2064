{
 "nbformat": 4,
 "nbformat_minor": 0,
 "metadata": {
  "kernelspec": {
   "display_name": "Python 3",
   "language": "python",
   "name": "python3"
  },
  "language_info": {
   "codemirror_mode": {
    "name": "ipython",
    "version": 2
   },
   "file_extension": ".py",
   "mimetype": "text/x-python",
   "name": "python",
   "nbconvert_exporter": "python",
   "pygments_lexer": "ipython2",
   "version": "2.7.6"
  },
  "colab": {
   "name": "Demo_AdiabaticFlash.ipynb",
   "provenance": []
  }
 },
 "cells": [
  {
   "cell_type": "code",
   "metadata": {
    "pycharm": {
     "name": "#%%\n"
    },
    "id": "CiXlQcV0ul0G",
    "colab_type": "code",
    "colab": {
     "base_uri": "https://localhost:8080/",
     "height": 467
    },
    "outputId": "7e8e45de-73ed-436e-901c-81e05dedfd55"
   },
   "source": [
    "!wget https://raw.githubusercontent.com/profteachkids/CHE2064/master/vsc.py\n",
    "!wget https://raw.githubusercontent.com/profteachkids/CHE2064/master/trust_ncg.py\n",
    "!wget https://raw.githubusercontent.com/profteachkids/CHE2064/master/che_tools.py\n",
    "!pip install DotMap"
   ],
   "execution_count": null,
   "outputs": []
  },
  {
   "cell_type": "code",
   "metadata": {
    "id": "DLGVgv4Pul0O",
    "colab_type": "code",
    "colab": {}
   },
   "source": [
    "from dotmap import DotMap\n",
    "import jax.numpy as jnp\n",
    "import jax\n",
    "import vsc\n",
    "import trust_ncg as tncg\n",
    "import che_tools as che"
   ],
   "execution_count": 1,
   "outputs": []
  },
  {
   "cell_type": "code",
   "metadata": {
    "pycharm": {
     "name": "#%%\n"
    },
    "id": "Wjacie-aul0U",
    "colab_type": "code",
    "colab": {
     "base_uri": "https://localhost:8080/",
     "height": 87
    },
    "outputId": "66bff6e5-f8e7-4d6e-a378-942e51619d47"
   },
   "source": [
    "p = che.Props(['Ethanol', 'Isopropanol', 'Water'])"
   ],
   "execution_count": 2,
   "outputs": []
  },
  {
   "cell_type": "code",
   "execution_count": 3,
   "outputs": [],
   "source": [
    "def model(c):\n",
    "    c=DotMap(c)\n",
    "    x=che.qtox(c.Vq)\n",
    "    y=che.qtox(c.Lq)\n",
    "    z=che.qtox(c.Fq)\n",
    "    V = x * c.Vtot\n",
    "    L = y * c.Ltot\n",
    "    F = z * c.Ftot\n",
    "    mass_balance = (F - V - L)\n",
    "    mass_balance = (mass_balance/jnp.sum(F))**2\n",
    "\n",
    "    FH = p.Hmix( (1.-c.q)*F, c.q*F, c.FT)\n",
    "    VH = p.Hmix(V, 0, c.flashT)\n",
    "    LH = p.Hmix(0, L, c.flashT)\n",
    "    energy_balance = (FH - VH - LH)\n",
    "    energy_balance = (energy_balance/jnp.sum(FH))**2\n",
    "\n",
    "    fugacity = (x*p.Pvap(c.flashT) - y*c.flashP)\n",
    "    fugacity = (fugacity/jnp.sum(y*c.flashP))**2\n",
    "\n",
    "    return jnp.sum(mass_balance + energy_balance + fugacity)"
   ],
   "metadata": {
    "collapsed": false,
    "pycharm": {
     "name": "#%%\n"
    }
   }
  },
  {
   "cell_type": "code",
   "execution_count": 4,
   "outputs": [
    {
     "name": "stdout",
     "output_type": "stream",
     "text": [
      "[Traced<ShapedArray(float64[], weak_type=True):JaxprTrace(level=-1/1)>, Traced<ShapedArray(float64[], weak_type=True):JaxprTrace(level=-1/1)>, Traced<ShapedArray(float64[], weak_type=True):JaxprTrace(level=-1/1)>]\n"
     ]
    },
    {
     "name": "stderr",
     "output_type": "stream",
     "text": [
      "/Users/carlosco/opt/anaconda3/envs/pytorch/lib/python3.8/site-packages/jax/lib/xla_bridge.py:130: UserWarning: No GPU/TPU found, falling back to CPU.\n",
      "  warnings.warn('No GPU/TPU found, falling back to CPU.')\n"
     ]
    }
   ],
   "source": [
    "s=DotMap()\n",
    "s.Ftot=10\n",
    "s.Fq = che.xtoq([1/3, 1/3, 1/3])\n",
    "s.FT = 350\n",
    "s.flashP= 101325\n",
    "s.q = 0.5 #fraction liquid\n",
    "\n",
    "v=DotMap()\n",
    "v.Vq = che.xtoq([0.4, 0.35, 0.25])\n",
    "v.Lq = che.xtoq([0.25, 0.35, 0.4])\n",
    "v.flashT = 300\n",
    "v.Vtot = s.Ftot/2\n",
    "v.Ltot = s.Ftot/2"
   ],
   "metadata": {
    "collapsed": false,
    "pycharm": {
     "name": "#%%\n"
    }
   }
  },
  {
   "cell_type": "code",
   "metadata": {
    "pycharm": {
     "name": "#%%\n"
    },
    "id": "B_qzKOKtul0a",
    "colab_type": "code",
    "colab": {}
   },
   "source": [
    "c=vsc.VSC(v,s)\n",
    "modelf = jax.jit(c.transform(model))\n",
    "x_min, f = tncg.minimize(modelf,c.x, verbosity=1)"
   ],
   "execution_count": 5,
   "outputs": [
    {
     "name": "stdout",
     "output_type": "stream",
     "text": [
      "0:4, f: 0.3182956617493208\n",
      "1:3, f: 0.2951542974058736\n",
      "2:5, f: 0.2895570764862791\n",
      "3:4, f: 0.2805715753193567\n",
      "4:5, f: 0.25219124942674875\n",
      "5:4, f: 0.1934232645111691\n",
      "6:2, f: 0.1934232645111691\n",
      "7:2, f: 0.1934232645111691\n",
      "8:4, f: 0.17067381117819186\n",
      "9:4, f: 0.15238815883140183\n",
      "10:4, f: 0.13187458640068903\n",
      "11:5, f: 0.08792602805737397\n",
      "12:6, f: 0.012659903933506063\n",
      "13:6, f: 0.0005386452972950885\n",
      "14:6, f: 3.525986138217572e-06\n",
      "15:6, f: 4.6408293175236376e-10\n",
      "Final results:\n",
      "f: 8.83358843701275e-18\n",
      "x: [ 4.01011698e-01  3.36410535e-01  5.28612421e+00 -4.14090787e-01\n",
      " -3.21380334e-01  4.71387582e+00  3.59966484e+02]\n"
     ]
    }
   ]
  },
  {
   "cell_type": "code",
   "execution_count": 6,
   "outputs": [],
   "source": [
    "v_sol = c.xtoc(x_min)\n",
    "df=vsc.todf(v_sol)\n",
    "\n"
   ],
   "metadata": {
    "collapsed": false,
    "pycharm": {
     "name": "#%%\n"
    }
   }
  },
  {
   "cell_type": "code",
   "execution_count": null,
   "outputs": [],
   "source": [],
   "metadata": {
    "collapsed": false,
    "pycharm": {
     "name": "#%%\n"
    }
   }
  }
 ]
}