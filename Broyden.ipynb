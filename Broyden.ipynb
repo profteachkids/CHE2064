{
  "nbformat": 4,
  "nbformat_minor": 0,
  "metadata": {
    "colab": {
      "name": "Broyden.ipynb",
      "provenance": [],
      "collapsed_sections": [],
      "authorship_tag": "ABX9TyMxIM6rmyWvph5cZQq+bmjv",
      "include_colab_link": true
    },
    "kernelspec": {
      "name": "python3",
      "display_name": "Python 3"
    }
  },
  "cells": [
    {
      "cell_type": "markdown",
      "metadata": {
        "id": "view-in-github",
        "colab_type": "text"
      },
      "source": [
        "<a href=\"https://colab.research.google.com/github/profteachkids/CHE2064/blob/master/Broyden.ipynb\" target=\"_parent\"><img src=\"https://colab.research.google.com/assets/colab-badge.svg\" alt=\"Open In Colab\"/></a>"
      ]
    },
    {
      "cell_type": "code",
      "metadata": {
        "id": "HcD9HS7wIBx3"
      },
      "source": [
        "import jax\n",
        "import jax.numpy as jnp\n",
        "from jax.config import config\n",
        "config.update(\"jax_enable_x64\", True)\n",
        "from scipy.optimize import root, minimize, NonlinearConstraint"
      ],
      "execution_count": null,
      "outputs": []
    },
    {
      "cell_type": "code",
      "metadata": {
        "id": "Jxxs0w1uIEuo"
      },
      "source": [
        "def func(x):\n",
        "    return jnp.array([jnp.sin(x[0])  + 0.5 * (x[0] - x[1])**3 + 0.1*sqrt(x[0])- 1.0,\n",
        "            0.5 * (x[1] - x[0])**3 + x[1]])"
      ],
      "execution_count": null,
      "outputs": []
    },
    {
      "cell_type": "code",
      "metadata": {
        "id": "nrbhifr7IUPG",
        "outputId": "4b9389c7-939f-4b9f-d6d5-51260af44dee",
        "colab": {
          "base_uri": "https://localhost:8080/",
          "height": 228
        }
      },
      "source": [
        "x = jnp.zeros(2)\n",
        "J = jax.jacobian(func)(x)\n",
        "\n",
        "f = func(x)\n",
        "\n",
        "for i in range(20):\n",
        "  xp = jnp.linalg.solve(J, -f) + x\n",
        "  dx = xp - x\n",
        "  fp = func(xp)\n",
        "  f= fp\n",
        "  x= xp\n",
        "  print(x,fp)\n",
        "  if jnp.linalg.norm(fp) < 1e-12:\n",
        "    break\n",
        "\n",
        "  J = J + jnp.outer(fp,dx)/jnp.linalg.norm(dx)**2\n",
        "\n",
        "\n",
        "\n",
        "\n"
      ],
      "execution_count": null,
      "outputs": [
        {
          "output_type": "stream",
          "text": [
            "[1. 0.] [ 0.34147098 -0.5       ]\n",
            "[0.74545034 0.37272517] [-0.29580697  0.34683492]\n",
            "[0.87452582 0.23424262] [-0.10151446  0.10299655]\n",
            "[0.94426608 0.18266999] [ 0.03094058 -0.03820376]\n",
            "[0.92886637 0.19874589] [-0.00445347  0.00414106]\n",
            "[0.931058   0.19761267] [-0.00047246  0.00033713]\n",
            "[0.93134054 0.1975642 ] [-3.66025399e-05  2.14376618e-05]\n",
            "[0.93136529 0.19756394] [-1.63573041e-06  9.88074612e-07]\n",
            "[0.93136644 0.19756391] [ 9.80559234e-09 -5.98158895e-09]\n",
            "[0.93136643 0.19756391] [-1.81729076e-11  1.10534082e-11]\n",
            "[0.93136643 0.19756391] [-1.01030295e-14  6.16173779e-15]\n"
          ],
          "name": "stdout"
        }
      ]
    },
    {
      "cell_type": "code",
      "metadata": {
        "id": "KFpoN_J8Ig-n",
        "outputId": "92c879bb-4685-4d75-cfb1-ebbde251bec9",
        "colab": {
          "base_uri": "https://localhost:8080/",
          "height": 228
        }
      },
      "source": [
        "x = jnp.zeros(2)\n",
        "J = jax.jacobian(func)(x)\n",
        "Jinv = jnp.linalg.inv(J)\n",
        "\n",
        "f = func(x)\n",
        "\n",
        "for i in range(20):\n",
        "  xp = x - Jinv @ f\n",
        "  dx = xp - x\n",
        "  fp = func(xp)\n",
        "  f= fp\n",
        "  x= xp\n",
        "  print(x,f)\n",
        "  if jnp.linalg.norm(fp) < 1e-12:\n",
        "    break\n",
        "\n",
        "  u = jnp.expand_dims(fp,1)\n",
        "  v = jnp.expand_dims(dx,1)/jnp.linalg.norm(dx)**2\n",
        "  Jinv = Jinv - Jinv @ u @ v.T @ Jinv / (1 + v.T @ Jinv @ u)"
      ],
      "execution_count": null,
      "outputs": [
        {
          "output_type": "stream",
          "text": [
            "[1. 0.] [ 0.34147098 -0.5       ]\n",
            "[0.74545034 0.37272517] [-0.29580697  0.34683492]\n",
            "[0.87452582 0.23424262] [-0.10151446  0.10299655]\n",
            "[0.94426608 0.18266999] [ 0.03094058 -0.03820376]\n",
            "[0.92886637 0.19874589] [-0.00445347  0.00414106]\n",
            "[0.931058   0.19761267] [-0.00047246  0.00033713]\n",
            "[0.93134054 0.1975642 ] [-3.66025399e-05  2.14376618e-05]\n",
            "[0.93136529 0.19756394] [-1.63573041e-06  9.88074612e-07]\n",
            "[0.93136644 0.19756391] [ 9.80559234e-09 -5.98158895e-09]\n",
            "[0.93136643 0.19756391] [-1.81729076e-11  1.10534082e-11]\n",
            "[0.93136643 0.19756391] [-1.01030295e-14  6.16173779e-15]\n"
          ],
          "name": "stdout"
        }
      ]
    },
    {
      "cell_type": "code",
      "metadata": {
        "id": "9Swkr2k8d6QQ"
      },
      "source": [
        "prng = jax.random.PRNGKey(1234)\n",
        "J = jax.random.uniform(prng, (3,3))\n",
        "dx = jax.random.uniform(prng, (3,1))\n",
        "fp = jax.random.uniform(prng, (3,1))\n",
        "f = -J @ dx"
      ],
      "execution_count": null,
      "outputs": []
    },
    {
      "cell_type": "code",
      "metadata": {
        "id": "K9njH5rGuRls"
      },
      "source": [
        "def constraint(x):\n",
        "    Jp = x.reshape((3,3))\n",
        "    return jnp.squeeze(Jp @ dx)\n",
        "\n",
        "nlc = NonlinearConstraint(constraint,jnp.squeeze(fp-f),jnp.squeeze(fp-f), jac=jax.jacobian(constraint))\n",
        "\n",
        "def func(x):\n",
        "  Jp = x.reshape((3,3))\n",
        "  return jnp.linalg.norm(Jp-J)"
      ],
      "execution_count": null,
      "outputs": []
    },
    {
      "cell_type": "code",
      "metadata": {
        "id": "2-0MXLTJfA6q"
      },
      "source": [
        "res = minimize(func, jnp.zeros(9), method='SLSQP', jac=jax.jacobian(func), constraints=(nlc))"
      ],
      "execution_count": null,
      "outputs": []
    },
    {
      "cell_type": "code",
      "metadata": {
        "id": "2rW1c3qCg-tu",
        "outputId": "76ecc872-56ad-44e6-d285-64b97284ab08",
        "colab": {
          "base_uri": "https://localhost:8080/",
          "height": 228
        }
      },
      "source": [
        "res"
      ],
      "execution_count": null,
      "outputs": [
        {
          "output_type": "execute_result",
          "data": {
            "text/plain": [
              "     fun: 1.0000000367506372\n",
              "     jac: array([0.88233216, 0.18608908, 0.26313258, 0.18584955, 0.03914606,\n",
              "       0.05548666, 0.26309337, 0.05546026, 0.07859303])\n",
              " message: 'Optimization terminated successfully.'\n",
              "    nfev: 3\n",
              "     nit: 3\n",
              "    njev: 3\n",
              "  status: 0\n",
              " success: True\n",
              "       x: array([1.60609461, 0.99142794, 0.50577275, 0.38780682, 0.0769163 ,\n",
              "       0.29498072, 0.98421639, 0.32432932, 0.6728414 ])"
            ]
          },
          "metadata": {
            "tags": []
          },
          "execution_count": 55
        }
      ]
    },
    {
      "cell_type": "code",
      "metadata": {
        "id": "zHXaGVimh3cP",
        "outputId": "52982095-d491-43ce-9230-dc9ef50a5505",
        "colab": {
          "base_uri": "https://localhost:8080/",
          "height": 90
        }
      },
      "source": [
        "J + fp@dx.T/jnp.linalg.norm(dx)**2"
      ],
      "execution_count": null,
      "outputs": [
        {
          "output_type": "execute_result",
          "data": {
            "text/plain": [
              "DeviceArray([[1.60614037, 0.99120491, 0.50577685],\n",
              "             [0.38782331, 0.07692147, 0.29492175],\n",
              "             [0.98425969, 0.32429676, 0.67271918]], dtype=float64)"
            ]
          },
          "metadata": {
            "tags": []
          },
          "execution_count": 56
        }
      ]
    },
    {
      "cell_type": "code",
      "metadata": {
        "id": "MIcH8XjKuXaX"
      },
      "source": [
        ""
      ],
      "execution_count": null,
      "outputs": []
    }
  ]
}