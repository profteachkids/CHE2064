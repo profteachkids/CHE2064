{
 "nbformat": 4,
 "nbformat_minor": 0,
 "metadata": {
  "kernelspec": {
   "display_name": "Python 3",
   "language": "python",
   "name": "python3"
  },
  "language_info": {
   "codemirror_mode": {
    "name": "ipython",
    "version": 2
   },
   "file_extension": ".py",
   "mimetype": "text/x-python",
   "name": "python",
   "nbconvert_exporter": "python",
   "pygments_lexer": "ipython2",
   "version": "2.7.6"
  },
  "colab": {
   "name": "bubble_point.ipynb",
   "provenance": []
  }
 },
 "cells": [
  {
   "cell_type": "code",
   "metadata": {
    "id": "9UA-wZDIWTpi",
    "colab_type": "code",
    "colab": {
     "base_uri": "https://localhost:8080/",
     "height": 633
    },
    "outputId": "45b8a37b-7b00-4a34-92e5-26b0d6a0056b"
   },
   "source": [
    "!wget https://raw.githubusercontent.com/profteachkids/CHE2064/master/trust_ncg.py\n",
    "!wget https://raw.githubusercontent.com/profteachkids/CHE2064/master/che_tools.py\n",
    "!pip install git+https://github.com/deepmind/dm-haiku\n",
    "!pip install DotMap"
   ],
   "execution_count": 4,
   "outputs": [
    {
     "output_type": "stream",
     "text": [
      "--2020-09-05 13:02:04--  https://raw.githubusercontent.com/profteachkids/CHE2064/master/trust_ncg.py\n",
      "Resolving raw.githubusercontent.com (raw.githubusercontent.com)... 151.101.0.133, 151.101.64.133, 151.101.128.133, ...\n",
      "Connecting to raw.githubusercontent.com (raw.githubusercontent.com)|151.101.0.133|:443... connected.\n",
      "HTTP request sent, awaiting response... 200 OK\n",
      "Length: 3956 (3.9K) [text/plain]\n",
      "Saving to: ‘trust_ncg.py’\n",
      "\n",
      "\rtrust_ncg.py          0%[                    ]       0  --.-KB/s               \rtrust_ncg.py        100%[===================>]   3.86K  --.-KB/s    in 0s      \n",
      "\n",
      "2020-09-05 13:02:04 (50.6 MB/s) - ‘trust_ncg.py’ saved [3956/3956]\n",
      "\n",
      "--2020-09-05 13:02:04--  https://raw.githubusercontent.com/profteachkids/CHE2064/master/che_tools.py\n",
      "Resolving raw.githubusercontent.com (raw.githubusercontent.com)... 151.101.0.133, 151.101.64.133, 151.101.128.133, ...\n",
      "Connecting to raw.githubusercontent.com (raw.githubusercontent.com)|151.101.0.133|:443... connected.\n",
      "HTTP request sent, awaiting response... 200 OK\n",
      "Length: 5789 (5.7K) [text/plain]\n",
      "Saving to: ‘che_tools.py’\n",
      "\n",
      "che_tools.py        100%[===================>]   5.65K  --.-KB/s    in 0s      \n",
      "\n",
      "2020-09-05 13:02:04 (29.8 MB/s) - ‘che_tools.py’ saved [5789/5789]\n",
      "\n",
      "Collecting git+https://github.com/deepmind/dm-haiku\n",
      "  Cloning https://github.com/deepmind/dm-haiku to /tmp/pip-req-build-4cn9obf7\n",
      "  Running command git clone -q https://github.com/deepmind/dm-haiku /tmp/pip-req-build-4cn9obf7\n",
      "Requirement already satisfied: absl-py>=0.7.1 in /usr/local/lib/python3.6/dist-packages (from dm-haiku==0.0.2) (0.8.1)\n",
      "Requirement already satisfied: numpy>=1.18.0 in /usr/local/lib/python3.6/dist-packages (from dm-haiku==0.0.2) (1.18.5)\n",
      "Requirement already satisfied: six in /usr/local/lib/python3.6/dist-packages (from absl-py>=0.7.1->dm-haiku==0.0.2) (1.15.0)\n",
      "Building wheels for collected packages: dm-haiku\n",
      "  Building wheel for dm-haiku (setup.py) ... \u001B[?25l\u001B[?25hdone\n",
      "  Created wheel for dm-haiku: filename=dm_haiku-0.0.2-cp36-none-any.whl size=291016 sha256=ad68b0b168d20e21b4f7c80dd7d97572a822947bc3ed8b787f292dc1ba6d79cd\n",
      "  Stored in directory: /tmp/pip-ephem-wheel-cache-l0uslmq0/wheels/97/0f/e9/17f34e377f8d4060fa88a7e82bee5d8afbf7972384768a5499\n",
      "Successfully built dm-haiku\n",
      "Installing collected packages: dm-haiku\n",
      "Successfully installed dm-haiku-0.0.2\n",
      "Requirement already satisfied: DotMap in /usr/local/lib/python3.6/dist-packages (1.3.17)\n"
     ],
     "name": "stdout"
    }
   ]
  },
  {
   "cell_type": "code",
   "metadata": {
    "id": "s0HMoT80WQYB",
    "colab_type": "code",
    "colab": {}
   },
   "source": [
    "import jax.numpy as jnp\n",
    "import jax\n",
    "import che_tools as che\n",
    "import haiku as hk\n",
    "from dotmap import DotMap\n",
    "from trust_ncg import minimize, minimize_hk"
   ],
   "execution_count": 5,
   "outputs": []
  },
  {
   "cell_type": "code",
   "metadata": {
    "pycharm": {
     "name": "#%%\n"
    },
    "id": "_gDUpk_4WQYO",
    "colab_type": "code",
    "colab": {}
   },
   "source": [
    "p=che.Props(['Isopropanol', 'Water'])\n"
   ],
   "execution_count": 6,
   "outputs": []
  },
  {
   "cell_type": "code",
   "metadata": {
    "pycharm": {
     "name": "#%%\n"
    },
    "id": "nyJ491VwWQYX",
    "colab_type": "code",
    "colab": {}
   },
   "source": [
    "\n",
    "class Comp(hk.Module):\n",
    "    def __init__(self, name=None):\n",
    "        super().__init__(name=name)\n",
    "\n",
    "    def x(self):\n",
    "        q = hk.get_parameter('q', shape=[p.N_comps-1],init=jnp.zeros)\n",
    "        return p.qtox(q)\n",
    "\n",
    "    def AvgMw(self):\n",
    "        return jnp.vdot(self.x(), p.Mw)\n",
    "\n",
    "class LiquidPhase(Comp):\n",
    "    def __init__(self, name=None):\n",
    "        super().__init__(name=name)\n",
    "\n",
    "    def bubbleP(self):\n",
    "        T = hk.get_parameter('T', shape=(1,), init=jnp.zeros)\n",
    "        return jnp.vdot(self.x(), p.Pvap(T))\n",
    "\n",
    "def bubbleT_f():\n",
    "    liquid = LiquidPhase(name='liquid')\n",
    "    return (liquid.bubbleP()-101325)**2"
   ],
   "execution_count": 11,
   "outputs": []
  },
  {
   "cell_type": "code",
   "metadata": {
    "pycharm": {
     "name": "#%%\n"
    },
    "id": "FcFxokuSWQYc",
    "colab_type": "code",
    "colab": {}
   },
   "source": [
    "\n",
    "model = hk.transform(bubbleT_f)"
   ],
   "execution_count": 12,
   "outputs": []
  },
  {
   "cell_type": "code",
   "metadata": {
    "pycharm": {
     "name": "#%%\n"
    },
    "id": "T0O_znOvWQYh",
    "colab_type": "code",
    "colab": {}
   },
   "source": [
    "c = DotMap()\n",
    "c.liquid.q=p.xtoq(jnp.array([0.4,0.6]))\n",
    "v = DotMap()\n",
    "v.liquid.T = jnp.array([300])"
   ],
   "execution_count": 13,
   "outputs": []
  },
  {
   "cell_type": "code",
   "metadata": {
    "pycharm": {
     "name": "#%%\n"
    },
    "id": "7_lnq5_7WQYn",
    "colab_type": "code",
    "colab": {
     "base_uri": "https://localhost:8080/",
     "height": 963
    },
    "outputId": "a716909b-2ca6-4300-c110-135786412e52"
   },
   "source": [
    "min_v, min_f = minimize_hk(model, v, c, verbose=True)"
   ],
   "execution_count": 14,
   "outputs": [
    {
     "output_type": "stream",
     "text": [
      "0:0, f: 9307906198.914825\n",
      "x: [301.]\n",
      "grad: [-55494607.42191157]\n",
      "dx: [1.]\n",
      "\n",
      "1:0, f: 9251050985.632477\n",
      "x: [303.]\n",
      "grad: [-58232012.33119455]\n",
      "dx: [2.]\n",
      "\n",
      "2:0, f: 9128883848.753511\n",
      "x: [307.]\n",
      "grad: [-64000905.03172091]\n",
      "dx: [4.]\n",
      "\n",
      "3:0, f: 8847947274.855974\n",
      "x: [315.]\n",
      "grad: [-76734512.2650342]\n",
      "dx: [8.]\n",
      "\n",
      "4:0, f: 8117434091.349681\n",
      "x: [331.]\n",
      "grad: [-1.0690178e+08]\n",
      "dx: [16.]\n",
      "\n",
      "5:0, f: 5838926798.228783\n",
      "x: [363.]\n",
      "grad: [-1.78707684e+08]\n",
      "dx: [32.]\n",
      "\n",
      "6:0, f: 32525889.423041478\n",
      "x: [364.66795424]\n",
      "grad: [-41015635.4610771]\n",
      "dx: [1.66795424]\n",
      "\n",
      "7:1, f: 203907.86150768708\n",
      "x: [364.54909445]\n",
      "grad: [3418591.590076]\n",
      "dx: [-0.11885979]\n",
      "\n",
      "8:0, f: 6.0457246971041725\n",
      "x: [364.54844253]\n",
      "grad: [18547.0482558]\n",
      "dx: [-0.00065192]\n",
      "\n",
      "9:0, f: 5.418302098580751e-09\n",
      "x: [364.54844251]\n",
      "grad: [0.55523081]\n",
      "dx: [-1.95172962e-08]\n",
      "\n",
      "Final results:\n",
      "f: 5.418302098580751e-09\n",
      "x: [364.54844251]\n",
      "grad: [0.55523081]\n",
      "dx: [-1.95172962e-08]\n",
      "\n"
     ],
     "name": "stdout"
    }
   ]
  },
  {
   "cell_type": "code",
   "metadata": {
    "pycharm": {
     "name": "#%%\n"
    },
    "id": "WIdYJDG5WQYr",
    "colab_type": "code",
    "colab": {
     "base_uri": "https://localhost:8080/",
     "height": 54
    },
    "outputId": "a7aecb75-dbb0-4d64-f452-6103503fa448"
   },
   "source": [
    "DotMap(min_v).liquid.T"
   ],
   "execution_count": 15,
   "outputs": [
    {
     "output_type": "execute_result",
     "data": {
      "text/plain": [
       "DeviceArray([364.54844251], dtype=float64)"
      ]
     },
     "metadata": {
      "tags": []
     },
     "execution_count": 15
    }
   ]
  }
 ]
}