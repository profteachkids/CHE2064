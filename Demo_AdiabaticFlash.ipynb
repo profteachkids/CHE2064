{
 "nbformat": 4,
 "nbformat_minor": 0,
 "metadata": {
  "kernelspec": {
   "display_name": "Python 3",
   "language": "python",
   "name": "python3"
  },
  "language_info": {
   "codemirror_mode": {
    "name": "ipython",
    "version": 2
   },
   "file_extension": ".py",
   "mimetype": "text/x-python",
   "name": "python",
   "nbconvert_exporter": "python",
   "pygments_lexer": "ipython2",
   "version": "2.7.6"
  },
  "colab": {
   "name": "Demo_AdiabaticFlash.ipynb",
   "provenance": [],
   "include_colab_link": true
  }
 },
 "cells": [
  {
   "cell_type": "markdown",
   "metadata": {
    "id": "view-in-github",
    "colab_type": "text"
   },
   "source": [
    "<a href=\"https://colab.research.google.com/github/profteachkids/CHE2064/blob/master/Demo_AdiabaticFlash.ipynb\" target=\"_parent\"><img src=\"https://colab.research.google.com/assets/colab-badge.svg\" alt=\"Open In Colab\"/></a>"
   ]
  },
  {
   "cell_type": "code",
   "metadata": {
    "pycharm": {
     "name": "#%%\n"
    },
    "id": "CiXlQcV0ul0G",
    "colab_type": "code",
    "colab": {
     "base_uri": "https://localhost:8080/",
     "height": 203
    },
    "outputId": "673a993e-092d-42ce-d221-9943e519b74d"
   },
   "source": [
    "!git clone --depth 1 https://github.com/profteachkids/CHE2064.git\n",
    "!pip install DotMap\n",
    "import sys\n",
    "sys.path.insert(1, \"/content/CHE2064\")"
   ],
   "execution_count": 1,
   "outputs": [
    {
     "output_type": "stream",
     "text": [
      "Cloning into 'CHE2064'...\n",
      "remote: Enumerating objects: 79, done.\u001B[K\n",
      "remote: Counting objects: 100% (79/79), done.\u001B[K\n",
      "remote: Compressing objects: 100% (34/34), done.\u001B[K\n",
      "remote: Total 79 (delta 47), reused 58 (delta 43), pack-reused 0\u001B[K\n",
      "Unpacking objects: 100% (79/79), done.\n",
      "Collecting DotMap\n",
      "  Downloading https://files.pythonhosted.org/packages/52/47/9ca39d01b872c1bf2da0f0031cb3c4e3a016170c181e34d889253e404d59/dotmap-1.3.17-py3-none-any.whl\n",
      "Installing collected packages: DotMap\n",
      "Successfully installed DotMap-1.3.17\n"
     ],
     "name": "stdout"
    }
   ]
  },
  {
   "cell_type": "code",
   "metadata": {
    "id": "DLGVgv4Pul0O",
    "colab_type": "code",
    "colab": {}
   },
   "source": [
    "from dotmap import DotMap\n",
    "import jax.numpy as jnp\n",
    "import jax\n",
    "from jax.config import config\n",
    "config.update(\"jax_enable_x64\", True)\n",
    "import tools.tree_array_transform as tat\n",
    "import tools.trust_ncg as tncg\n",
    "import tools.che as che"
   ],
   "execution_count": 2,
   "outputs": []
  },
  {
   "cell_type": "code",
   "metadata": {
    "pycharm": {
     "name": "#%%\n"
    },
    "id": "Wjacie-aul0U",
    "colab_type": "code",
    "colab": {}
   },
   "source": [
    "p = che.Props(['Ethanol','Isopropanol', 'Water'])"
   ],
   "execution_count": 3,
   "outputs": []
  },
  {
   "cell_type": "code",
   "metadata": {
    "pycharm": {
     "name": "#%%\n"
    },
    "id": "DzvIFEmsqJ87",
    "colab_type": "code",
    "colab": {}
   },
   "source": [
    "def model(c):\n",
    "    c=DotMap(c)\n",
    "    Ltot = c.Ftot - c.Vtot\n",
    "    V = c.Vy * c.Vtot\n",
    "    L = c.Lx * Ltot\n",
    "    F = c.Fz * c.Ftot\n",
    "    mass_balance = (F - V - L)\n",
    "    mass_balance = (mass_balance/jnp.sum(F))**2\n",
    "\n",
    "    FH = p.Hmix(0., F, c.FT)\n",
    "    VH = p.Hmix(V, 0., c.flashT)\n",
    "    LH = p.Hmix(0., L, c.flashT)\n",
    "    energy_balance = (FH - VH - LH)\n",
    "    energy_balance = (energy_balance/jnp.sum(FH))**2\n",
    "\n",
    "    fugacity = (c.Lx  * p.NRTL_gamma(c.Lx,c.flashT)* p.Pvap(c.flashT)\n",
    "                - c.Vy*c.flashP)\n",
    "    fugacity = (fugacity/jnp.sum(c.Vy*c.flashP))**2\n",
    "\n",
    "    return jnp.sum(mass_balance + energy_balance + fugacity)"
   ],
   "execution_count": 4,
   "outputs": []
  },
  {
   "cell_type": "code",
   "metadata": {
    "pycharm": {
     "name": "#%%\n"
    },
    "id": "s1Krs9e2qJ8_",
    "colab_type": "code",
    "colab": {
     "base_uri": "https://localhost:8080/",
     "height": 71
    },
    "outputId": "17a971e3-f7d8-41a3-8724-7af85829565d"
   },
   "source": [
    "s=DotMap()\n",
    "s.Ftot=10\n",
    "s.Fz = jnp.array([1/3, 1/3, 1/3])\n",
    "s.FT = 450\n",
    "\n",
    "s.flashP= 101325\n",
    "v=DotMap()\n",
    "v.Vy = tat.Comp(s.Fz)\n",
    "v.Lx = tat.Comp(s.Fz)\n",
    "v.flashT = tat.Range(360, 300, s.FT)\n",
    "v.Vtot = tat.Range(s.Ftot/2, 0., s.Ftot)"
   ],
   "execution_count": 5,
   "outputs": [
    {
     "output_type": "stream",
     "text": [
      "/usr/local/lib/python3.6/dist-packages/jax/lib/xla_bridge.py:130: UserWarning: No GPU/TPU found, falling back to CPU.\n",
      "  warnings.warn('No GPU/TPU found, falling back to CPU.')\n"
     ],
     "name": "stderr"
    }
   ]
  },
  {
   "cell_type": "code",
   "metadata": {
    "pycharm": {
     "name": "#%%\n"
    },
    "id": "B_qzKOKtul0a",
    "colab_type": "code",
    "colab": {}
   },
   "source": [
    "c=tat.VSC(v,s)\n",
    "modelf = jax.jit(c.transform(model))"
   ],
   "execution_count": 9,
   "outputs": []
  },
  {
   "cell_type": "code",
   "metadata": {
    "pycharm": {
     "name": "#%%\n"
    },
    "id": "AiYK9QoaycDZ",
    "colab_type": "code",
    "colab": {
     "base_uri": "https://localhost:8080/",
     "height": 153
    },
    "outputId": "30b6a14e-ad78-4c7d-8023-337d9da04d3c"
   },
   "source": [
    "x_min, f = tncg.minimize(modelf,c.x, verbosity=1)"
   ],
   "execution_count": 10,
   "outputs": [
    {
     "output_type": "stream",
     "text": [
      "0:6, f: 0.046582062928938066\n",
      "1:5, f: 0.0030325209129333807\n",
      "2:5, f: 3.8263760766167256e-05\n",
      "3:5, f: 9.734012881667384e-09\n",
      "Final results:\n",
      "f: 7.292860925998015e-16\n",
      "x: [-0.14989821 -0.10167514 -0.41635314  0.23361766  0.16785475 -0.60540527]\n"
     ],
     "name": "stdout"
    }
   ]
  },
  {
   "cell_type": "code",
   "metadata": {
    "pycharm": {
     "name": "#%%\n"
    },
    "id": "jsdj96iYycDc",
    "colab_type": "code",
    "colab": {
     "base_uri": "https://localhost:8080/",
     "height": 343
    },
    "outputId": "6759bb50-33b7-4e00-b427-3d27f887fbd4"
   },
   "source": [
    "v_sol = c.xtoc(x_min)\n",
    "df=tat.todf(v_sol)\n",
    "df"
   ],
   "execution_count": 11,
   "outputs": [
    {
     "output_type": "execute_result",
     "data": {
      "text/html": [
       "<div>\n",
       "<style scoped>\n",
       "    .dataframe tbody tr th:only-of-type {\n",
       "        vertical-align: middle;\n",
       "    }\n",
       "\n",
       "    .dataframe tbody tr th {\n",
       "        vertical-align: top;\n",
       "    }\n",
       "\n",
       "    .dataframe thead tr th {\n",
       "        text-align: left;\n",
       "    }\n",
       "</style>\n",
       "<table border=\"1\" class=\"dataframe\">\n",
       "  <thead>\n",
       "    <tr>\n",
       "      <th></th>\n",
       "      <th>vector1</th>\n",
       "      <th colspan=\"3\" halign=\"left\">vector3</th>\n",
       "    </tr>\n",
       "    <tr>\n",
       "      <th></th>\n",
       "      <th>1</th>\n",
       "      <th>1</th>\n",
       "      <th>2</th>\n",
       "      <th>3</th>\n",
       "    </tr>\n",
       "  </thead>\n",
       "  <tbody>\n",
       "    <tr>\n",
       "      <th>FT</th>\n",
       "      <td>450</td>\n",
       "      <td></td>\n",
       "      <td></td>\n",
       "      <td></td>\n",
       "    </tr>\n",
       "    <tr>\n",
       "      <th>Ftot</th>\n",
       "      <td>10</td>\n",
       "      <td></td>\n",
       "      <td></td>\n",
       "      <td></td>\n",
       "    </tr>\n",
       "    <tr>\n",
       "      <th>Fz</th>\n",
       "      <td></td>\n",
       "      <td>0.333333</td>\n",
       "      <td>0.333333</td>\n",
       "      <td>0.333333</td>\n",
       "    </tr>\n",
       "    <tr>\n",
       "      <th>Lx</th>\n",
       "      <td></td>\n",
       "      <td>0.311418</td>\n",
       "      <td>0.326803</td>\n",
       "      <td>0.361779</td>\n",
       "    </tr>\n",
       "    <tr>\n",
       "      <th>Vtot</th>\n",
       "      <td>3.9739</td>\n",
       "      <td></td>\n",
       "      <td></td>\n",
       "      <td></td>\n",
       "    </tr>\n",
       "    <tr>\n",
       "      <th>Vy</th>\n",
       "      <td></td>\n",
       "      <td>0.366567</td>\n",
       "      <td>0.343236</td>\n",
       "      <td>0.290198</td>\n",
       "    </tr>\n",
       "    <tr>\n",
       "      <th>flashP</th>\n",
       "      <td>101325</td>\n",
       "      <td></td>\n",
       "      <td></td>\n",
       "      <td></td>\n",
       "    </tr>\n",
       "    <tr>\n",
       "      <th>flashT</th>\n",
       "      <td>352.966</td>\n",
       "      <td></td>\n",
       "      <td></td>\n",
       "      <td></td>\n",
       "    </tr>\n",
       "  </tbody>\n",
       "</table>\n",
       "</div>"
      ],
      "text/plain": [
       "        vector1   vector3                    \n",
       "              1         1         2         3\n",
       "FT          450                              \n",
       "Ftot         10                              \n",
       "Fz               0.333333  0.333333  0.333333\n",
       "Lx               0.311418  0.326803  0.361779\n",
       "Vtot     3.9739                              \n",
       "Vy               0.366567  0.343236  0.290198\n",
       "flashP   101325                              \n",
       "flashT  352.966                              "
      ]
     },
     "metadata": {
      "tags": []
     },
     "execution_count": 11
    }
   ]
  },
  {
   "cell_type": "code",
   "metadata": {
    "pycharm": {
     "name": "#%%\n"
    },
    "id": "230qX7kOycDf",
    "colab_type": "code",
    "colab": {}
   },
   "source": [
    ""
   ],
   "execution_count": null,
   "outputs": []
  },
  {
   "cell_type": "code",
   "metadata": {
    "pycharm": {
     "name": "#%%\n"
    },
    "id": "QT2MDwwWycDh",
    "colab_type": "code",
    "colab": {}
   },
   "source": [
    ""
   ],
   "execution_count": null,
   "outputs": []
  }
 ]
}