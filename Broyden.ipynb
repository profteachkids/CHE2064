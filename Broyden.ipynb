{
  "nbformat": 4,
  "nbformat_minor": 0,
  "metadata": {
    "colab": {
      "name": "Broyden.ipynb",
      "provenance": [],
      "collapsed_sections": [],
      "authorship_tag": "ABX9TyMjl6V+CZzD19+ugLZI65zc",
      "include_colab_link": true
    },
    "kernelspec": {
      "name": "python3",
      "display_name": "Python 3"
    }
  },
  "cells": [
    {
      "cell_type": "markdown",
      "metadata": {
        "id": "view-in-github",
        "colab_type": "text"
      },
      "source": [
        "<a href=\"https://colab.research.google.com/github/profteachkids/CHE2064/blob/master/Broyden.ipynb\" target=\"_parent\"><img src=\"https://colab.research.google.com/assets/colab-badge.svg\" alt=\"Open In Colab\"/></a>"
      ]
    },
    {
      "cell_type": "code",
      "metadata": {
        "id": "HcD9HS7wIBx3"
      },
      "source": [
        "import jax\n",
        "import jax.numpy as jnp\n",
        "from jax.config import config\n",
        "config.update(\"jax_enable_x64\", True)\n",
        "from scipy.optimize import root, minimize, NonlinearConstraint\n",
        "eps=1e-12"
      ],
      "execution_count": 64,
      "outputs": []
    },
    {
      "cell_type": "code",
      "metadata": {
        "id": "Jxxs0w1uIEuo"
      },
      "source": [
        "def func(x):\n",
        "    return jnp.array([jnp.sin(x[0])  + 0.5 * (x[0] - x[1])**3 - 1.0,\n",
        "            0.5 * (x[1] - x[0])**3 + x[1]])"
      ],
      "execution_count": 25,
      "outputs": []
    },
    {
      "cell_type": "code",
      "metadata": {
        "id": "nrbhifr7IUPG",
        "outputId": "cdb81d53-87a3-4ec2-f57f-d28755943fdb",
        "colab": {
          "base_uri": "https://localhost:8080/",
          "height": 211
        }
      },
      "source": [
        "# Broyden update with no Sherman-Morrison\n",
        "x = jnp.zeros(2)\n",
        "J = jax.jacobian(func)(x)\n",
        "\n",
        "f = func(x)\n",
        "\n",
        "for i in range(20):\n",
        "  xp = jnp.linalg.solve(J, -f) + x\n",
        "  dx = xp - x\n",
        "  fp = func(xp)\n",
        "  f= fp\n",
        "  x= xp\n",
        "  print(x,fp)\n",
        "  if jnp.linalg.norm(fp) < 1e-12:\n",
        "    break\n",
        "\n",
        "  J = J + jnp.outer(fp,dx)/jnp.linalg.norm(dx)**2"
      ],
      "execution_count": 26,
      "outputs": [
        {
          "output_type": "stream",
          "text": [
            "[1. 0.] [ 0.34147098 -0.5       ]\n",
            "[0.74545034 0.37272517] [-0.29580697  0.34683492]\n",
            "[0.87452582 0.23424262] [-0.10151446  0.10299655]\n",
            "[0.94426608 0.18266999] [ 0.03094058 -0.03820376]\n",
            "[0.92886637 0.19874589] [-0.00445347  0.00414106]\n",
            "[0.931058   0.19761267] [-0.00047246  0.00033713]\n",
            "[0.93134054 0.1975642 ] [-3.66025399e-05  2.14376618e-05]\n",
            "[0.93136529 0.19756394] [-1.63573041e-06  9.88074612e-07]\n",
            "[0.93136644 0.19756391] [ 9.80559234e-09 -5.98158895e-09]\n",
            "[0.93136643 0.19756391] [-1.81729076e-11  1.10534082e-11]\n",
            "[0.93136643 0.19756391] [-1.01030295e-14  6.16173779e-15]\n"
          ],
          "name": "stdout"
        }
      ]
    },
    {
      "cell_type": "code",
      "metadata": {
        "id": "KFpoN_J8Ig-n",
        "outputId": "5801766b-c0fd-45b3-9966-f72b3c59a46d",
        "colab": {
          "base_uri": "https://localhost:8080/",
          "height": 132
        }
      },
      "source": [
        "def broyden(func, x, J=None, max_iter=100, verbose=0):\n",
        "  J = jax.jacobian(func)(x) if J is None else J(x)\n",
        "  Jinv = jnp.linalg.inv(J)\n",
        "  f = func(x)\n",
        "\n",
        "  for i in range(max_iter):\n",
        "    xp = x - Jinv @ f\n",
        "    dx = xp - x\n",
        "    fp = func(xp)\n",
        "    f= fp\n",
        "    x= xp\n",
        "    if verbose>0\n",
        "      print(x, f)\n",
        "    if jnp.linalg.norm(fp) < 1e-12:\n",
        "      break\n",
        "\n",
        "    u = jnp.expand_dims(fp,1)\n",
        "    v = jnp.expand_dims(dx,1)/jnp.linalg.norm(dx)**2\n",
        "    Jinv = Jinv - Jinv @ u @ v.T @ Jinv / (1 + v.T @ Jinv @ u)  #Sherman-Morrison\n",
        "  return x, f\n",
        "\n",
        "broyden(func, jnp.zeros(2))"
      ],
      "execution_count": 33,
      "outputs": [
        {
          "output_type": "error",
          "ename": "SyntaxError",
          "evalue": "ignored",
          "traceback": [
            "\u001b[0;36m  File \u001b[0;32m\"<ipython-input-33-6bd9e32832ef>\"\u001b[0;36m, line \u001b[0;32m12\u001b[0m\n\u001b[0;31m    if verbose>0\u001b[0m\n\u001b[0m                ^\u001b[0m\n\u001b[0;31mSyntaxError\u001b[0m\u001b[0;31m:\u001b[0m invalid syntax\n"
          ]
        }
      ]
    },
    {
      "cell_type": "code",
      "metadata": {
        "id": "9Swkr2k8d6QQ",
        "outputId": "7d54e8e0-56f0-4853-fd6c-23c8c319d6f4",
        "colab": {
          "base_uri": "https://localhost:8080/",
          "height": 123
        }
      },
      "source": [
        "prng = jax.random.PRNGKey(1234)\n",
        "J = jax.random.uniform(prng, (3,3))\n",
        "f = jax.random.uniform(prng, (3,1))\n",
        "fp = jax.random.uniform(prng, (3,1))\n",
        "dx = jnp.linalg.solve(J,-f)\n",
        "\n",
        "def constraint(x):\n",
        "    Jp = x.reshape((3,3))\n",
        "    return jnp.squeeze(Jp @ dx)\n",
        "\n",
        "nlc = NonlinearConstraint(constraint,jnp.squeeze(fp-f),jnp.squeeze(fp-f), jac=jax.jacobian(constraint))\n",
        "\n",
        "def func(x):\n",
        "  Jp = x.reshape((3,3))\n",
        "  return jnp.linalg.norm(Jp-J)\n",
        "\n",
        "res = minimize(func, jnp.zeros(9), method='SLSQP', jac=jax.jacobian(func), constraints=(nlc))\n",
        "print(res.x.reshape((3,3))) #via constrained minimization\n",
        "print(J + fp@dx.T/jnp.linalg.norm(dx)**2) #via Broyden update"
      ],
      "execution_count": 34,
      "outputs": [
        {
          "output_type": "stream",
          "text": [
            "[[0.81624494 0.71880643 0.15777668]\n",
            " [0.22143383 0.01955389 0.22160245]\n",
            " [0.7486602  0.24306155 0.56889726]]\n",
            "[[0.8163133  0.71886663 0.15778989]\n",
            " [0.22145238 0.01955553 0.221621  ]\n",
            " [0.7487229  0.24308191 0.56894491]]\n"
          ],
          "name": "stdout"
        }
      ]
    },
    {
      "cell_type": "code",
      "metadata": {
        "id": "1VODH9UX1Rkr"
      },
      "source": [
        "# Accomodate box bounds on variables\n",
        "\n",
        "def broyden2(func, x, J=None, max_iter=100, verbose=0, xmax=jnp.inf, xmin=-jnp.inf):\n",
        "  J = jax.jacobian(func)(x) if J is None else J(x)\n",
        "  Jinv = jnp.linalg.inv(J)\n",
        "  f = func(x)\n",
        "\n",
        "  for i in range(max_iter):\n",
        "    dx = - Jinv @ f\n",
        "\n",
        "    alpha_max_limits = jnp.min(jnp.where(x + dx > xmax, (xmax - x) / (dx), 1))\n",
        "    alpha_min_limits = jnp.min(jnp.where(x + dx < xmin, (xmin - x) / (dx), 1))\n",
        "    alpha = min(alpha_max_limits, alpha_min_limits)\n",
        "\n",
        "    print(alpha)\n",
        "    dx = alpha*dx\n",
        "    xp = x + dx\n",
        "    fp = func(xp)\n",
        "    f= fp\n",
        "    x= xp\n",
        "    if verbose>0:\n",
        "      print(x, f)\n",
        "    if jnp.linalg.norm(fp) < 1e-12:\n",
        "      break\n",
        "\n",
        "    u = jnp.expand_dims(fp,1)\n",
        "    v = jnp.expand_dims(dx,1)/jnp.linalg.norm(dx)**2\n",
        "    Jinv = Jinv - Jinv @ u @ v.T @ Jinv / (1 + v.T @ Jinv @ u)  #Sherman-Morrison\n",
        "  return x, f"
      ],
      "execution_count": 85,
      "outputs": []
    },
    {
      "cell_type": "code",
      "metadata": {
        "id": "MIcH8XjKuXaX"
      },
      "source": [
        "def func2(x):\n",
        "    return jnp.array([jnp.sin(x[0])  + 0.5 * (x[0] - x[1])**3 - 0.01*jnp.sqrt(x[1]-0.1) - 1.0,\n",
        "            0.5 * (x[1] - x[0])**3 + x[1] + 0.001*jnp.sqrt(1.-x[0])])"
      ],
      "execution_count": 90,
      "outputs": []
    },
    {
      "cell_type": "markdown",
      "metadata": {
        "id": "7sHtvM9d4zbm"
      },
      "source": [
        ""
      ]
    },
    {
      "cell_type": "code",
      "metadata": {
        "id": "utXrAQcI6oK3",
        "outputId": "9231968f-d53d-4976-ab02-410df1ec6a6e",
        "colab": {
          "base_uri": "https://localhost:8080/",
          "height": 404
        }
      },
      "source": [
        "broyden(func2, 0.95*jnp.ones(2),verbose=1, max_iter=20)"
      ],
      "execution_count": 94,
      "outputs": [
        {
          "output_type": "stream",
          "text": [
            "[1.27776387e+00 5.09295507e-04] [nan nan]\n",
            "[nan nan] [nan nan]\n",
            "[nan nan] [nan nan]\n",
            "[nan nan] [nan nan]\n",
            "[nan nan] [nan nan]\n",
            "[nan nan] [nan nan]\n",
            "[nan nan] [nan nan]\n",
            "[nan nan] [nan nan]\n",
            "[nan nan] [nan nan]\n",
            "[nan nan] [nan nan]\n",
            "[nan nan] [nan nan]\n",
            "[nan nan] [nan nan]\n",
            "[nan nan] [nan nan]\n",
            "[nan nan] [nan nan]\n",
            "[nan nan] [nan nan]\n",
            "[nan nan] [nan nan]\n",
            "[nan nan] [nan nan]\n",
            "[nan nan] [nan nan]\n",
            "[nan nan] [nan nan]\n",
            "[nan nan] [nan nan]\n"
          ],
          "name": "stdout"
        },
        {
          "output_type": "execute_result",
          "data": {
            "text/plain": [
              "(DeviceArray([nan, nan], dtype=float64),\n",
              " DeviceArray([nan, nan], dtype=float64))"
            ]
          },
          "metadata": {
            "tags": []
          },
          "execution_count": 94
        }
      ]
    },
    {
      "cell_type": "code",
      "metadata": {
        "id": "O1oONzVI0M1S",
        "outputId": "0f6d4731-3461-44f9-d927-c25cd47fcc1e",
        "colab": {
          "base_uri": "https://localhost:8080/",
          "height": 580
        }
      },
      "source": [
        "broyden2(func2, 0.95*jnp.ones(2), verbose=1, max_iter=20, xmin=jnp.array([-jnp.inf, 0.1]), xmax = jnp.array([1., jnp.inf]))"
      ],
      "execution_count": 93,
      "outputs": [
        {
          "output_type": "stream",
          "text": [
            "0.1525488433491314\n",
            "[1.         0.80515629] [-0.16322784  0.80145776]\n",
            "1.0\n",
            "[0.93959614 0.98225636] [-0.20211182  0.98254095]\n",
            "0.19327261837160434\n",
            "[1.         0.79656208] [-0.1626652   0.79235224]\n",
            "1.0\n",
            "[0.92070903 1.0408568 ] [-0.21453601  1.04200559]\n",
            "0.24205077931482566\n",
            "[1.         0.79406184] [-0.16249308  0.78969486]\n",
            "1.0\n",
            "[0.88356639 1.15670184] [-0.24746165  1.16723142]\n",
            "0.3484361198064109\n",
            "[1.         0.76610502] [-0.16029271  0.75970719]\n",
            "1.0\n",
            "[0.75065498 1.6076198 ] [-0.6448333   1.92279178]\n",
            "1.0\n",
            "[0.9274454  0.20208157] [-0.01227885  0.01152487]\n",
            "1.0\n",
            "[0.94127706 0.19437996] [ 0.01356875 -0.01370796]\n",
            "1.0\n",
            "[0.93420749 0.19877441] [-0.00013078  0.00014708]\n",
            "1.0\n",
            "[0.93426884 0.1987212 ] [-5.09566974e-07  7.82997886e-07]\n",
            "1.0\n",
            "[0.93426899 0.19872083] [ 1.0061536e-08 -8.9609632e-09]\n",
            "1.0\n",
            "[0.93426899 0.19872083] [ 2.1699087e-10 -1.9291255e-10]\n",
            "1.0\n",
            "[0.93426899 0.19872083] [ 1.08801856e-14 -9.52585450e-15]\n"
          ],
          "name": "stdout"
        },
        {
          "output_type": "execute_result",
          "data": {
            "text/plain": [
              "(DeviceArray([0.93426899, 0.19872083], dtype=float64),\n",
              " DeviceArray([ 1.08801856e-14, -9.52585450e-15], dtype=float64))"
            ]
          },
          "metadata": {
            "tags": []
          },
          "execution_count": 93
        }
      ]
    },
    {
      "cell_type": "code",
      "metadata": {
        "id": "QEBSGQ5d0tr-"
      },
      "source": [
        ""
      ],
      "execution_count": null,
      "outputs": []
    }
  ]
}