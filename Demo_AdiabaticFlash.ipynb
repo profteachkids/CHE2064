{
  "nbformat": 4,
  "nbformat_minor": 0,
  "metadata": {
    "kernelspec": {
      "display_name": "Python 3",
      "language": "python",
      "name": "python3"
    },
    "language_info": {
      "codemirror_mode": {
        "name": "ipython",
        "version": 2
      },
      "file_extension": ".py",
      "mimetype": "text/x-python",
      "name": "python",
      "nbconvert_exporter": "python",
      "pygments_lexer": "ipython2",
      "version": "2.7.6"
    },
    "colab": {
      "name": "Demo_AdiabaticFlash.ipynb",
      "provenance": [],
      "include_colab_link": true
    }
  },
  "cells": [
    {
      "cell_type": "markdown",
      "metadata": {
        "id": "view-in-github",
        "colab_type": "text"
      },
      "source": [
        "<a href=\"https://colab.research.google.com/github/profteachkids/CHE2064/blob/master/Demo_AdiabaticFlash.ipynb\" target=\"_parent\"><img src=\"https://colab.research.google.com/assets/colab-badge.svg\" alt=\"Open In Colab\"/></a>"
      ]
    },
    {
      "cell_type": "markdown",
      "metadata": {
        "id": "o6cpMVAA9pfN",
        "colab_type": "text"
      },
      "source": [
        "## Import libraries\n",
        "This section is somewhat intimidating to new users, but modifications are necessary only to access advanced features."
      ]
    },
    {
      "cell_type": "code",
      "metadata": {
        "pycharm": {
          "name": "#%%\n"
        },
        "id": "CiXlQcV0ul0G",
        "colab_type": "code",
        "colab": {}
      },
      "source": [
        "!git clone --depth 1 https://github.com/profteachkids/CHE2064.git &> /dev/null\n",
        "!pip install DotMap &> /dev/null\n",
        "import sys\n",
        "sys.path.insert(1, \"/content/CHE2064\") #Path to CHE module imports"
      ],
      "execution_count": 1,
      "outputs": []
    },
    {
      "cell_type": "code",
      "metadata": {
        "pycharm": {
          "name": "#%%\n"
        },
        "id": "3Xcv-3GycYZc",
        "colab_type": "code",
        "colab": {}
      },
      "source": [
        "from dotmap import DotMap\n",
        "import pandas as pd\n",
        "import jax\n",
        "import jax.numpy as jnp\n",
        "from jax.config import config\n",
        "config.update(\"jax_enable_x64\", True) #JAX default is 32bit single precision\n",
        "\n",
        "from tools.tree_array_transform import VSC, Comp, Range, todf\n",
        "from tools.trust_ncg import minimize\n",
        "import tools.che as che"
      ],
      "execution_count": 2,
      "outputs": []
    },
    {
      "cell_type": "markdown",
      "metadata": {
        "id": "W9jA7D-b-WcP",
        "colab_type": "text",
        "pycharm": {
          "name": "#%% md\n"
        }
      },
      "source": [
        "## Dot-access to chemical properties and calculations\n",
        "ChemCAD data properties and binary interaction parameters can be exported as text files.  A few common chemicals are stored in a Github repository.  Users with ChemCad access can export and access their own data files.  The *che.Props* class parses these files for convenient dot-access and implementations of common calculations."
      ]
    },
    {
      "cell_type": "code",
      "metadata": {
        "pycharm": {
          "name": "#%%\n"
        },
        "id": "Wjacie-aul0U",
        "colab_type": "code",
        "colab": {}
      },
      "source": [
        "p = che.Props(['Ethanol','Isopropanol', 'Water'])"
      ],
      "execution_count": 3,
      "outputs": []
    },
    {
      "cell_type": "code",
      "metadata": {
        "id": "I-R-T5ALAEIH",
        "colab_type": "code",
        "colab": {
          "base_uri": "https://localhost:8080/",
          "height": 137
        },
        "outputId": "9917bc40-b6bc-404c-818f-5ee656849204"
      },
      "source": [
        "print(f'Tc: {p.Tc}')\n",
        "print(f'Pc: {p.Tc}')\n",
        "print(f'Vapor Pressure at 432.1 K {p.Pvap(432.1)} Pa')\n",
        "print(f'NRTL activity coefficients for equimolar mixture {p.NRTL_gamma([1/3,1/3,1/3], 300)} ')"
      ],
      "execution_count": 4,
      "outputs": [
        {
          "output_type": "stream",
          "text": [
            "Tc: [513.92 508.31 647.35]\n",
            "Pc: [513.92 508.31 647.35]\n"
          ],
          "name": "stdout"
        },
        {
          "output_type": "stream",
          "text": [
            "/usr/local/lib/python3.6/dist-packages/jax/lib/xla_bridge.py:130: UserWarning: No GPU/TPU found, falling back to CPU.\n",
            "  warnings.warn('No GPU/TPU found, falling back to CPU.')\n"
          ],
          "name": "stderr"
        },
        {
          "output_type": "stream",
          "text": [
            "Vapor Pressure at 432.1 K [1220670.06610508 1069634.05615236  600793.6517417 ] Pa\n",
            "NRTL activity coefficients for equimolar mixture [1.11669551 1.12519412 1.85757473] \n"
          ],
          "name": "stdout"
        }
      ]
    },
    {
      "cell_type": "markdown",
      "metadata": {
        "id": "vMg5Zj-dCPmz",
        "colab_type": "text",
        "pycharm": {
          "name": "#%% md\n"
        }
      },
      "source": [
        "## Adiabatic Flash Calculation\n",
        "Model mass/energy balance and VLE - all variables (knowns and unknowns) are in a convenient DotMap structure (c).  The model is written once.\n",
        "\n",
        "Sum up weighted square deviations for minimization.\n",
        " "
      ]
    },
    {
      "cell_type": "code",
      "metadata": {
        "pycharm": {
          "name": "#%%\n"
        },
        "id": "DzvIFEmsqJ87",
        "colab_type": "code",
        "colab": {}
      },
      "source": [
        "def model(c):\n",
        "    Ltot = c.Ftot - c.Vtot  # What's not in the vapor is in the liquid\n",
        "    V = c.Vy * c.Vtot # Moles of each component = mole fractions * total moles\n",
        "    L = c.Lx * Ltot\n",
        "    F = c.Fz * c.Ftot\n",
        "    mass_balance = (F - V - L) # Mass balance for each component (vectors!)\n",
        "    mass_balance = (mass_balance/jnp.sum(F))**2\n",
        "\n",
        "    # Hmix calculates the enthalpy given the temperature and moles of each\n",
        "    # component in the vapor and liquid phases\n",
        "    FH = p.Hl(nL=F, T=c.FT)\n",
        "    VH = p.Hv(nV=V, T=c.flashT)\n",
        "    LH = p.Hl(nL=L, T=c.flashT)\n",
        "    energy_balance = (FH - VH - LH)\n",
        "    energy_balance = (energy_balance/jnp.sum(FH))**2\n",
        "\n",
        "    # Raoults with NRTL activity coefficient correction.  One-liner!\n",
        "    VLE = (c.Lx  * p.NRTL_gamma(c.Lx,c.flashT)* p.Pvap(c.flashT)\n",
        "                - c.Vy*c.flashP)\n",
        "    VLE = (VLE/jnp.sum(c.Vy*c.flashP))**2\n",
        "\n",
        "    # Square deviations are weighted by their approx. magnitudes and\n",
        "    # summed for minimization\n",
        "    return jnp.sum(mass_balance + energy_balance + VLE)"
      ],
      "execution_count": 5,
      "outputs": []
    },
    {
      "cell_type": "markdown",
      "metadata": {
        "id": "-mgmDN7IF3Cx",
        "colab_type": "text",
        "pycharm": {
          "name": "#%% md\n"
        }
      },
      "source": [
        "## What's known (static) and unknown (variable) - automatically combined and tracked.\n",
        "\n",
        "What's known and unknown can be easily swapped around without having to modify the model.  The DotMap structures can have nested lists of DotMaps with nested lists of arrays, and so forth."
      ]
    },
    {
      "cell_type": "code",
      "metadata": {
        "pycharm": {
          "name": "#%%\n"
        },
        "id": "s1Krs9e2qJ8_",
        "colab_type": "code",
        "colab": {}
      },
      "source": [
        "# Static parameters (Total feed, feed mole fractions, feed temperature and )\n",
        "s=DotMap()\n",
        "s.Ftot=10 # Total Feed moes\n",
        "s.Fz = jnp.array([1/3, 1/3, 1/3]) # Equimolar feed composition\n",
        "s.FT = 450 # Feed temperature\n",
        "s.flashP= 101325 # Flash drum pressure\n",
        "\n",
        "# Variables (to be solved for with initial guesses and bounds)\n",
        "v=DotMap()\n",
        "v.Vy = Comp(s.Fz) # Guess vapor/liquid composition equal to feed\n",
        "v.Lx = Comp(s.Fz) # Comp - constrains mole fractions to behave like mole fractions!\n",
        "v.flashT = Range(360, 273.15, s.FT)  # Guess and bounds for flash temperature \n",
        "v.Vtot = Range(s.Ftot/2, 0., s.Ftot)  # Guess half of feed in vapor"
      ],
      "execution_count": 6,
      "outputs": []
    },
    {
      "cell_type": "markdown",
      "metadata": {
        "id": "IuEzfh8PIA9b",
        "colab_type": "text",
        "pycharm": {
          "name": "#%% md\n"
        }
      },
      "source": [
        "## Magic happens here\n",
        "The VSC class combines unknown variables and static parameters into a convenient DotMap structure.  Transformations between known/unknown DotMaps and the flat arrays required by the minimization routine is automated.\n",
        "\n",
        "The minimization algorithm is a robust Trust-Newton Conjugate Gradient coded to take advantage of JAX automatic Jacobian vector products.  \n",
        "\n",
        "The initial JAX model compilation is a bit slow, but subsequent repeat calculations are fast."
      ]
    },
    {
      "cell_type": "code",
      "metadata": {
        "pycharm": {
          "name": "#%%\n"
        },
        "id": "B_qzKOKtul0a",
        "colab_type": "code",
        "colab": {
          "base_uri": "https://localhost:8080/",
          "height": 153
        },
        "outputId": "b09c73a0-631b-4f9a-e0f8-e2b01946cd92"
      },
      "source": [
        "c=VSC(v,s)\n",
        "modelf = c.transform(model)\n",
        "x_min, f = minimize(modelf,c.x, verbosity=1)"
      ],
      "execution_count": 7,
      "outputs": [
        {
          "output_type": "stream",
          "text": [
            "0:6, f: 0.06224976735089524\n",
            "1:5, f: 0.0024304726818986685\n",
            "2:5, f: 2.226347898210919e-05\n",
            "3:5, f: 2.944426198412097e-09\n",
            "Final results:\n",
            "f: 6.034919165393991e-17\n",
            "x: [-0.14989822 -0.10167514 -0.41635312  0.23361766  0.16785474 -0.1953328 ]\n"
          ],
          "name": "stdout"
        }
      ]
    },
    {
      "cell_type": "code",
      "metadata": {
        "pycharm": {
          "name": "#%%\n"
        },
        "id": "230qX7kOycDf",
        "colab_type": "code",
        "colab": {
          "base_uri": "https://localhost:8080/",
          "height": 343
        },
        "outputId": "84eda51e-19cd-44cd-9c7f-df4859e62abf"
      },
      "source": [
        "v_sol = c.xtoc(x_min)\n",
        "df=todf(v_sol)   # Pandas dataframe to tabulate results\n",
        "col=list(df.columns)\n",
        "col[0]=('','value')\n",
        "df.columns=pd.MultiIndex.from_tuples(col)\n",
        "df.rename(columns={'vector3':'mole fractions'})"
      ],
      "execution_count": 8,
      "outputs": [
        {
          "output_type": "execute_result",
          "data": {
            "text/html": [
              "<div>\n",
              "<style scoped>\n",
              "    .dataframe tbody tr th:only-of-type {\n",
              "        vertical-align: middle;\n",
              "    }\n",
              "\n",
              "    .dataframe tbody tr th {\n",
              "        vertical-align: top;\n",
              "    }\n",
              "\n",
              "    .dataframe thead tr th {\n",
              "        text-align: left;\n",
              "    }\n",
              "</style>\n",
              "<table border=\"1\" class=\"dataframe\">\n",
              "  <thead>\n",
              "    <tr>\n",
              "      <th></th>\n",
              "      <th></th>\n",
              "      <th colspan=\"3\" halign=\"left\">mole fractions</th>\n",
              "    </tr>\n",
              "    <tr>\n",
              "      <th></th>\n",
              "      <th>value</th>\n",
              "      <th>1</th>\n",
              "      <th>2</th>\n",
              "      <th>3</th>\n",
              "    </tr>\n",
              "  </thead>\n",
              "  <tbody>\n",
              "    <tr>\n",
              "      <th>FT</th>\n",
              "      <td>450</td>\n",
              "      <td></td>\n",
              "      <td></td>\n",
              "      <td></td>\n",
              "    </tr>\n",
              "    <tr>\n",
              "      <th>Ftot</th>\n",
              "      <td>10</td>\n",
              "      <td></td>\n",
              "      <td></td>\n",
              "      <td></td>\n",
              "    </tr>\n",
              "    <tr>\n",
              "      <th>Fz</th>\n",
              "      <td></td>\n",
              "      <td>0.333333</td>\n",
              "      <td>0.333333</td>\n",
              "      <td>0.333333</td>\n",
              "    </tr>\n",
              "    <tr>\n",
              "      <th>Lx</th>\n",
              "      <td></td>\n",
              "      <td>0.311418</td>\n",
              "      <td>0.326803</td>\n",
              "      <td>0.361779</td>\n",
              "    </tr>\n",
              "    <tr>\n",
              "      <th>Vtot</th>\n",
              "      <td>3.9739</td>\n",
              "      <td></td>\n",
              "      <td></td>\n",
              "      <td></td>\n",
              "    </tr>\n",
              "    <tr>\n",
              "      <th>Vy</th>\n",
              "      <td></td>\n",
              "      <td>0.366567</td>\n",
              "      <td>0.343236</td>\n",
              "      <td>0.290198</td>\n",
              "    </tr>\n",
              "    <tr>\n",
              "      <th>flashP</th>\n",
              "      <td>101325</td>\n",
              "      <td></td>\n",
              "      <td></td>\n",
              "      <td></td>\n",
              "    </tr>\n",
              "    <tr>\n",
              "      <th>flashT</th>\n",
              "      <td>352.966</td>\n",
              "      <td></td>\n",
              "      <td></td>\n",
              "      <td></td>\n",
              "    </tr>\n",
              "  </tbody>\n",
              "</table>\n",
              "</div>"
            ],
            "text/plain": [
              "                mole fractions                    \n",
              "          value              1         2         3\n",
              "FT          450                                   \n",
              "Ftot         10                                   \n",
              "Fz                    0.333333  0.333333  0.333333\n",
              "Lx                    0.311418  0.326803  0.361779\n",
              "Vtot     3.9739                                   \n",
              "Vy                    0.366567  0.343236  0.290198\n",
              "flashP   101325                                   \n",
              "flashT  352.966                                   "
            ]
          },
          "metadata": {
            "tags": []
          },
          "execution_count": 8
        }
      ]
    },
    {
      "cell_type": "code",
      "metadata": {
        "pycharm": {
          "name": "#%%\n"
        },
        "id": "I8vapkwXcYZ5",
        "colab_type": "code",
        "colab": {}
      },
      "source": [
        ""
      ],
      "execution_count": null,
      "outputs": []
    }
  ]
}