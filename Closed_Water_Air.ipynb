{
  "nbformat": 4,
  "nbformat_minor": 0,
  "metadata": {
    "kernelspec": {
      "display_name": "Python 3",
      "language": "python",
      "name": "python3"
    },
    "language_info": {
      "codemirror_mode": {
        "name": "ipython",
        "version": 2
      },
      "file_extension": ".py",
      "mimetype": "text/x-python",
      "name": "python",
      "nbconvert_exporter": "python",
      "pygments_lexer": "ipython2",
      "version": "2.7.6"
    },
    "colab": {
      "name": "Closed_Water_Air.ipynb",
      "provenance": [],
      "include_colab_link": true
    }
  },
  "cells": [
    {
      "cell_type": "markdown",
      "metadata": {
        "id": "view-in-github",
        "colab_type": "text"
      },
      "source": [
        "<a href=\"https://colab.research.google.com/github/profteachkids/CHE2064/blob/master/Closed_Water_Air.ipynb\" target=\"_parent\"><img src=\"https://colab.research.google.com/assets/colab-badge.svg\" alt=\"Open In Colab\"/></a>"
      ]
    },
    {
      "cell_type": "code",
      "metadata": {
        "id": "cqoR7kaA0RMm",
        "colab_type": "code",
        "colab": {}
      },
      "source": [
        "!git clone --depth 1 https://github.com/profteachkids/CHE2064.git &> /dev/null\n",
        "!pip install DotMap &> /dev/null\n",
        "import sys\n",
        "sys.path.insert(1, \"/content/CHE2064\") #Path to CHE module imports"
      ],
      "execution_count": 1,
      "outputs": []
    },
    {
      "cell_type": "code",
      "metadata": {
        "pycharm": {
          "name": "#%%\n"
        },
        "id": "T-o9JMyd0K2V",
        "colab_type": "code",
        "colab": {}
      },
      "source": [
        "from dotmap import DotMap\n",
        "import pandas as pd\n",
        "import jax\n",
        "from jax.lax import stop_gradient\n",
        "import jax.numpy as jnp\n",
        "from jax.config import config\n",
        "config.update(\"jax_enable_x64\", True) #JAX default is 32bit single precision\n",
        "from tools.tree_array_transform import VSC, Comp, Range\n",
        "import tools.che as che\n",
        "R=8.314 # J/(mol K)"
      ],
      "execution_count": 2,
      "outputs": []
    },
    {
      "cell_type": "code",
      "metadata": {
        "pycharm": {
          "name": "#%%\n"
        },
        "id": "Wjacie-aul0U",
        "colab_type": "code",
        "colab": {
          "base_uri": "https://localhost:8080/",
          "height": 71
        },
        "outputId": "2b48b4be-f007-49ac-afc2-e6d3b2fef500"
      },
      "source": [
        "\n",
        "p = che.Props(['Nitrogen','Oxygen', 'Argon', 'Water'])\n",
        "\n",
        "def model(c,r):\n",
        "    # c: combination of adjustable variables and static state parameters\n",
        "    # r: DotMap - store intermediate results for reporting\n",
        "    r.Pw = p.Pvap(c.T)[3]\n",
        "    r.V_vap = c.V_tot - c.Vw_i # Approximation - water in the vapor phase is negligible\n",
        "    W_n_vap = r.Pw * r.V_vap / (R * c.T)\n",
        "    P = (c.air_n + W_n_vap) * R * c.T / r.V_vap\n",
        "    # VSC is intended for solving models with multiple equations and expects\n",
        "    # an iterable of (left,right) tuples\n",
        "    return ( (s.P_f, P), )\n",
        "\n",
        "s=DotMap()\n",
        "s.W_tot = 1. # 1 kg\n",
        "s.V_tot = 0.01 # 10 Liters\n",
        "s.P_i = 1e5 # Pa air pressure\n",
        "s.P_f = 2e5 # Pa final pressure\n",
        "s.T_i = 298.\n",
        "\n",
        "s.Vw_i = s.W_tot/p.rhol(s.T_i)[3]\n",
        "s.Vair_i = s.V_tot - s.Vw_i\n",
        "s.air_n = s.P_i * s.Vair_i / (R * s.T_i)\n",
        "\n",
        "v=DotMap()\n",
        "v.T = Range(360,300,600)"
      ],
      "execution_count": 3,
      "outputs": [
        {
          "output_type": "stream",
          "text": [
            "/usr/local/lib/python3.6/dist-packages/jax/lib/xla_bridge.py:130: UserWarning: No GPU/TPU found, falling back to CPU.\n",
            "  warnings.warn('No GPU/TPU found, falling back to CPU.')\n"
          ],
          "name": "stderr"
        }
      ]
    },
    {
      "cell_type": "code",
      "metadata": {
        "pycharm": {
          "name": "#%%\n"
        },
        "id": "HigobUA-0K2h",
        "colab_type": "code",
        "colab": {
          "base_uri": "https://localhost:8080/",
          "height": 286
        },
        "outputId": "44ec968a-921b-4af9-d8eb-1b837a9b02f0"
      },
      "source": [
        "# transform our model into one that takes a single array of adjustable variables\n",
        "# for minimization.  Unnecessary for this simple model with just 1 variable, \n",
        "# but very helpful for more complex problems later.\n",
        "vsc=VSC(v,s, model)\n",
        "vsc.solve()"
      ],
      "execution_count": 4,
      "outputs": [
        {
          "output_type": "stream",
          "text": [
            "0.001973574785335787\n",
            "0.0006606517658790154\n",
            "0.0006606517658790154\n",
            "1.5272366214779895e-05\n",
            "1.5272366214779895e-05\n",
            "1.5272366214779895e-05\n",
            "1.213645372822225e-08\n",
            "1.213645372822225e-08\n",
            "1.213645372822225e-08\n",
            "6.02015987314522e-14\n",
            "6.02015987314522e-14\n",
            "6.02015987314522e-14\n",
            "6.02015987314522e-14\n",
            "6.02015987314522e-14\n",
            "6.409037068602645e-20\n"
          ],
          "name": "stdout"
        }
      ]
    },
    {
      "cell_type": "code",
      "metadata": {
        "pycharm": {
          "name": "#%%\n"
        },
        "id": "IGnN0h9Vo-ZF",
        "colab_type": "code",
        "colab": {
          "base_uri": "https://localhost:8080/",
          "height": 130
        },
        "outputId": "c0253bbf-7d44-40c5-c009-e56b61e2248c"
      },
      "source": [
        "# Dataframe of adjustable variables\n",
        "vsc.vdf"
      ],
      "execution_count": 5,
      "outputs": [
        {
          "output_type": "execute_result",
          "data": {
            "text/html": [
              "<div>\n",
              "<style scoped>\n",
              "    .dataframe tbody tr th:only-of-type {\n",
              "        vertical-align: middle;\n",
              "    }\n",
              "\n",
              "    .dataframe tbody tr th {\n",
              "        vertical-align: top;\n",
              "    }\n",
              "\n",
              "    .dataframe thead tr th {\n",
              "        text-align: left;\n",
              "    }\n",
              "</style>\n",
              "<table border=\"1\" class=\"dataframe\">\n",
              "  <thead>\n",
              "    <tr>\n",
              "      <th></th>\n",
              "      <th>vector1</th>\n",
              "    </tr>\n",
              "    <tr>\n",
              "      <th></th>\n",
              "      <th>1</th>\n",
              "    </tr>\n",
              "  </thead>\n",
              "  <tbody>\n",
              "    <tr>\n",
              "      <th>T</th>\n",
              "      <td>365.719235</td>\n",
              "    </tr>\n",
              "  </tbody>\n",
              "</table>\n",
              "</div>"
            ],
            "text/plain": [
              "      vector1\n",
              "            1\n",
              "T  365.719235"
            ]
          },
          "metadata": {
            "tags": []
          },
          "execution_count": 5
        }
      ]
    },
    {
      "cell_type": "code",
      "metadata": {
        "pycharm": {
          "name": "#%%\n"
        },
        "id": "2b9tj5txo-ZI",
        "colab_type": "code",
        "colab": {
          "base_uri": "https://localhost:8080/",
          "height": 160
        },
        "outputId": "a501ed53-35f1-47cd-d8f3-1df5aaa71ff8"
      },
      "source": [
        "# Dataframe of intermediate results\n",
        "vsc.rdf"
      ],
      "execution_count": 6,
      "outputs": [
        {
          "output_type": "execute_result",
          "data": {
            "text/html": [
              "<div>\n",
              "<style scoped>\n",
              "    .dataframe tbody tr th:only-of-type {\n",
              "        vertical-align: middle;\n",
              "    }\n",
              "\n",
              "    .dataframe tbody tr th {\n",
              "        vertical-align: top;\n",
              "    }\n",
              "\n",
              "    .dataframe thead tr th {\n",
              "        text-align: left;\n",
              "    }\n",
              "</style>\n",
              "<table border=\"1\" class=\"dataframe\">\n",
              "  <thead>\n",
              "    <tr>\n",
              "      <th></th>\n",
              "      <th>vector1</th>\n",
              "    </tr>\n",
              "    <tr>\n",
              "      <th></th>\n",
              "      <th>1</th>\n",
              "    </tr>\n",
              "  </thead>\n",
              "  <tbody>\n",
              "    <tr>\n",
              "      <th>Pw</th>\n",
              "      <td>77275.424480</td>\n",
              "    </tr>\n",
              "    <tr>\n",
              "      <th>V_vap</th>\n",
              "      <td>0.008995</td>\n",
              "    </tr>\n",
              "  </tbody>\n",
              "</table>\n",
              "</div>"
            ],
            "text/plain": [
              "            vector1\n",
              "                  1\n",
              "Pw     77275.424480\n",
              "V_vap      0.008995"
            ]
          },
          "metadata": {
            "tags": []
          },
          "execution_count": 6
        }
      ]
    },
    {
      "cell_type": "code",
      "metadata": {
        "pycharm": {
          "name": "#%%\n"
        },
        "id": "eiRaI1-Lo-ZO",
        "colab_type": "code",
        "colab": {
          "base_uri": "https://localhost:8080/",
          "height": 343
        },
        "outputId": "37ad9268-34a3-4e65-8112-d96a677884df"
      },
      "source": [
        "# Dataframe of static state parameters\n",
        "vsc.sdf"
      ],
      "execution_count": 7,
      "outputs": [
        {
          "output_type": "execute_result",
          "data": {
            "text/html": [
              "<div>\n",
              "<style scoped>\n",
              "    .dataframe tbody tr th:only-of-type {\n",
              "        vertical-align: middle;\n",
              "    }\n",
              "\n",
              "    .dataframe tbody tr th {\n",
              "        vertical-align: top;\n",
              "    }\n",
              "\n",
              "    .dataframe thead tr th {\n",
              "        text-align: left;\n",
              "    }\n",
              "</style>\n",
              "<table border=\"1\" class=\"dataframe\">\n",
              "  <thead>\n",
              "    <tr>\n",
              "      <th></th>\n",
              "      <th>vector1</th>\n",
              "    </tr>\n",
              "    <tr>\n",
              "      <th></th>\n",
              "      <th>1</th>\n",
              "    </tr>\n",
              "  </thead>\n",
              "  <tbody>\n",
              "    <tr>\n",
              "      <th>W_tot</th>\n",
              "      <td>1.000000</td>\n",
              "    </tr>\n",
              "    <tr>\n",
              "      <th>V_tot</th>\n",
              "      <td>0.010000</td>\n",
              "    </tr>\n",
              "    <tr>\n",
              "      <th>P_i</th>\n",
              "      <td>100000.000000</td>\n",
              "    </tr>\n",
              "    <tr>\n",
              "      <th>P_f</th>\n",
              "      <td>200000.000000</td>\n",
              "    </tr>\n",
              "    <tr>\n",
              "      <th>T_i</th>\n",
              "      <td>298.000000</td>\n",
              "    </tr>\n",
              "    <tr>\n",
              "      <th>Vw_i</th>\n",
              "      <td>0.001005</td>\n",
              "    </tr>\n",
              "    <tr>\n",
              "      <th>Vair_i</th>\n",
              "      <td>0.008995</td>\n",
              "    </tr>\n",
              "    <tr>\n",
              "      <th>air_n</th>\n",
              "      <td>0.363057</td>\n",
              "    </tr>\n",
              "  </tbody>\n",
              "</table>\n",
              "</div>"
            ],
            "text/plain": [
              "              vector1\n",
              "                    1\n",
              "W_tot        1.000000\n",
              "V_tot        0.010000\n",
              "P_i     100000.000000\n",
              "P_f     200000.000000\n",
              "T_i        298.000000\n",
              "Vw_i         0.001005\n",
              "Vair_i       0.008995\n",
              "air_n        0.363057"
            ]
          },
          "metadata": {
            "tags": []
          },
          "execution_count": 7
        }
      ]
    },
    {
      "cell_type": "code",
      "metadata": {
        "pycharm": {
          "name": "#%%\n"
        },
        "id": "MaAySxSg0K2o",
        "colab_type": "code",
        "colab": {}
      },
      "source": [
        "def model2(c,r):\n",
        "    Pw = p.Pvap(c.T)[3]\n",
        "    r.V_vap = c.V_tot - c.Vw_i \n",
        "    r.W_n_vap = Pw * r.V_vap / (R * c.T) \n",
        "    P = (s.air_n + r.W_n_vap) * R * c.T / r.V_vap\n",
        "\n",
        "    # tuples from left and right side of equations\n",
        "    P_constraint = (s.P_f, P)\n",
        "    W_n_constraint = (r.W_n_vap, c.W_n_vap_desired)\n",
        "    return (P_constraint, W_n_constraint)"
      ],
      "execution_count": 8,
      "outputs": []
    },
    {
      "cell_type": "code",
      "metadata": {
        "pycharm": {
          "name": "#%%\n"
        },
        "id": "Zfm8jxfY0K2s",
        "colab_type": "code",
        "colab": {
          "base_uri": "https://localhost:8080/",
          "height": 319
        },
        "outputId": "a689cd15-41c2-4347-8d0d-462d3e9619e8"
      },
      "source": [
        "s=DotMap()\n",
        "s.W_tot = 1. # 1 kg\n",
        "s.V_tot = 0.01 # 10 Liters\n",
        "s.P_i = 1e5 # Pa air pressure\n",
        "s.P_f = 2e5 # Pa final pressure\n",
        "s.T_i = 298.\n",
        "s.W_n_vap_desired = 0.3\n",
        "\n",
        "s.Vw_i = s.W_tot/p.rhol(s.T_i)[3]\n",
        "s.Vair_i = s.V_tot - s.Vw_i\n",
        "s.air_n = s.P_i * s.Vair_i / (R * s.T_i)\n",
        "\n",
        "v=DotMap()\n",
        "v.T = Range(350, 300, 400)\n",
        "v.V_tot = Range(0.015, 0., 0.03)\n",
        "\n",
        "vsc=VSC(v,s, model2)\n",
        "vsc.solve()"
      ],
      "execution_count": 9,
      "outputs": [
        {
          "output_type": "stream",
          "text": [
            "0.10764694306583505\n",
            "0.030440692345800494\n",
            "0.030440692345800494\n",
            "0.0012712658793009844\n",
            "0.0012712658793009844\n",
            "1.553728074595461e-05\n",
            "1.553728074595461e-05\n",
            "1.553728074595461e-05\n",
            "2.9016926539896234e-09\n",
            "2.9016926539896234e-09\n",
            "2.9016926539896234e-09\n",
            "3.1052252302777553e-14\n",
            "3.1052252302777553e-14\n",
            "3.1052252302777553e-14\n",
            "3.1052252302777553e-14\n",
            "3.1052252302777553e-14\n",
            "8.924222365022703e-20\n"
          ],
          "name": "stdout"
        }
      ]
    },
    {
      "cell_type": "code",
      "metadata": {
        "pycharm": {
          "name": "#%%\n"
        },
        "id": "8wqWHVc30K2v",
        "colab_type": "code",
        "colab": {
          "base_uri": "https://localhost:8080/",
          "height": 160
        },
        "outputId": "d44bdb15-238f-4011-cfaf-622bcb118929"
      },
      "source": [
        "vsc.vdf"
      ],
      "execution_count": 10,
      "outputs": [
        {
          "output_type": "execute_result",
          "data": {
            "text/html": [
              "<div>\n",
              "<style scoped>\n",
              "    .dataframe tbody tr th:only-of-type {\n",
              "        vertical-align: middle;\n",
              "    }\n",
              "\n",
              "    .dataframe tbody tr th {\n",
              "        vertical-align: top;\n",
              "    }\n",
              "\n",
              "    .dataframe thead tr th {\n",
              "        text-align: left;\n",
              "    }\n",
              "</style>\n",
              "<table border=\"1\" class=\"dataframe\">\n",
              "  <thead>\n",
              "    <tr>\n",
              "      <th></th>\n",
              "      <th>vector1</th>\n",
              "    </tr>\n",
              "    <tr>\n",
              "      <th></th>\n",
              "      <th>1</th>\n",
              "    </tr>\n",
              "  </thead>\n",
              "  <tbody>\n",
              "    <tr>\n",
              "      <th>T</th>\n",
              "      <td>370.005638</td>\n",
              "    </tr>\n",
              "    <tr>\n",
              "      <th>V_tot</th>\n",
              "      <td>0.011204</td>\n",
              "    </tr>\n",
              "  </tbody>\n",
              "</table>\n",
              "</div>"
            ],
            "text/plain": [
              "          vector1\n",
              "                1\n",
              "T      370.005638\n",
              "V_tot    0.011204"
            ]
          },
          "metadata": {
            "tags": []
          },
          "execution_count": 10
        }
      ]
    },
    {
      "cell_type": "code",
      "metadata": {
        "pycharm": {
          "name": "#%%\n"
        },
        "id": "YvmCAQtPo-Zb",
        "colab_type": "code",
        "colab": {
          "base_uri": "https://localhost:8080/",
          "height": 160
        },
        "outputId": "f7ecb8f3-5d06-4ff3-f9ea-b5094ee89a5f"
      },
      "source": [
        "vsc.rdf\n"
      ],
      "execution_count": 11,
      "outputs": [
        {
          "output_type": "execute_result",
          "data": {
            "text/html": [
              "<div>\n",
              "<style scoped>\n",
              "    .dataframe tbody tr th:only-of-type {\n",
              "        vertical-align: middle;\n",
              "    }\n",
              "\n",
              "    .dataframe tbody tr th {\n",
              "        vertical-align: top;\n",
              "    }\n",
              "\n",
              "    .dataframe thead tr th {\n",
              "        text-align: left;\n",
              "    }\n",
              "</style>\n",
              "<table border=\"1\" class=\"dataframe\">\n",
              "  <thead>\n",
              "    <tr>\n",
              "      <th></th>\n",
              "      <th>vector1</th>\n",
              "    </tr>\n",
              "    <tr>\n",
              "      <th></th>\n",
              "      <th>1</th>\n",
              "    </tr>\n",
              "  </thead>\n",
              "  <tbody>\n",
              "    <tr>\n",
              "      <th>V_vap</th>\n",
              "      <td>0.010199</td>\n",
              "    </tr>\n",
              "    <tr>\n",
              "      <th>W_n_vap</th>\n",
              "      <td>0.300000</td>\n",
              "    </tr>\n",
              "  </tbody>\n",
              "</table>\n",
              "</div>"
            ],
            "text/plain": [
              "          vector1\n",
              "                1\n",
              "V_vap    0.010199\n",
              "W_n_vap  0.300000"
            ]
          },
          "metadata": {
            "tags": []
          },
          "execution_count": 11
        }
      ]
    },
    {
      "cell_type": "code",
      "metadata": {
        "pycharm": {
          "name": "#%%\n"
        },
        "id": "Ifo8H6SskFhC",
        "colab_type": "code",
        "colab": {}
      },
      "source": [
        "def model3(c, r):\n",
        "    Pw = p.Pvap(c.T)[3]\n",
        "    # volume of liquid water lost as water vapor ignored in model1\n",
        "    # evaluate the density of water at T, but do not propagate gradients through.\n",
        "    r.v_w_vap = c.W_n_vap*p.Mw[3]/1000/p.rhol(stop_gradient(c.T))[3]\n",
        "    V_vap = c.V_tot - (c.Vw_i - r.v_w_vap)\n",
        "    r.W_n_vap = Pw * V_vap / (R * c.T)\n",
        "    P = (s.air_n + r.W_n_vap) * R * c.T / V_vap\n",
        "    P_constraint = (s.P_f, P)\n",
        "    W_constraint = (c.W_n_vap, r.W_n_vap)\n",
        "    return (P_constraint,W_constraint)"
      ],
      "execution_count": 12,
      "outputs": []
    },
    {
      "cell_type": "code",
      "metadata": {
        "pycharm": {
          "name": "#%%\n"
        },
        "id": "mrZwRd50kFhF",
        "colab_type": "code",
        "colab": {
          "base_uri": "https://localhost:8080/",
          "height": 682
        },
        "outputId": "3e4f67b1-7746-4d22-d748-d2eb937dd89d"
      },
      "source": [
        "s=DotMap()\n",
        "s.W_tot = 1. # 1 kg\n",
        "s.V_tot = 0.01 # 10 Liters\n",
        "s.P_i = 1e5 # Pa air pressure\n",
        "s.P_f = 2e5 # Pa final pressure\n",
        "s.T_i = 298.\n",
        "\n",
        "s.Vw_i = s.W_tot/p.rhol(s.T_i)[3]\n",
        "s.Vair_i = s.V_tot - s.Vw_i\n",
        "s.air_n = s.P_i * s.Vair_i / (R * s.T_i)\n",
        "\n",
        "v=DotMap()\n",
        "v.T = Range(350., 300., 400.)\n",
        "v.W_n_vap = Range(1., 0., 2.) # moles of water vapor\n",
        "\n",
        "vsc=VSC(v,s, model3)\n",
        "vsc.solve(verbosity=1)"
      ],
      "execution_count": 13,
      "outputs": [
        {
          "output_type": "stream",
          "text": [
            "0.6079035669169227\n",
            "0.38267727987803424\n",
            "0.12068145433502972\n",
            "0.12068145433502972\n",
            "0.09566348468144975\n",
            "0.09566348468144975\n",
            "0.0954432158444961\n",
            "0.0954432158444961\n",
            "0.0954432158444961\n",
            "0.0954432158444961\n",
            "0.0954432158444961\n",
            "0.0954432158444961\n",
            "0.0954432158444961\n",
            "0.09488835758089913\n",
            "0.09034001876457592\n",
            "0.09034001876457592\n",
            "0.09034001876457592\n",
            "0.07785993231196807\n",
            "0.07785993231196807\n",
            "0.06998075159133198\n",
            "0.06998075159133198\n",
            "0.02506125961643391\n",
            "0.006596757073373121\n",
            "0.0025185389699044223\n",
            "9.762275165274876e-05\n",
            "4.4128965794413866e-05\n",
            "4.038416547024041e-08\n",
            "4.038416547024041e-08\n",
            "2.4609258425528205e-08\n",
            "2.669105787540159e-13\n",
            "2.669105787540159e-13\n",
            "2.669105787540159e-13\n",
            "2.669105787540159e-13\n",
            "1.0558646880910466e-17\n",
            "1.0558646880910466e-17\n",
            "1.0558646880910466e-17\n",
            "1.0558646880910466e-17\n",
            "1.0558646880910466e-17\n",
            "2.7211155009691965e-23\n"
          ],
          "name": "stdout"
        }
      ]
    },
    {
      "cell_type": "code",
      "metadata": {
        "pycharm": {
          "name": "#%%\n"
        },
        "id": "tcdb6iPakFhJ",
        "colab_type": "code",
        "colab": {
          "base_uri": "https://localhost:8080/",
          "height": 160
        },
        "outputId": "fab5507e-073e-49e0-ad62-4b21a9df72d4"
      },
      "source": [
        "vsc.rdf"
      ],
      "execution_count": 14,
      "outputs": [
        {
          "output_type": "execute_result",
          "data": {
            "text/html": [
              "<div>\n",
              "<style scoped>\n",
              "    .dataframe tbody tr th:only-of-type {\n",
              "        vertical-align: middle;\n",
              "    }\n",
              "\n",
              "    .dataframe tbody tr th {\n",
              "        vertical-align: top;\n",
              "    }\n",
              "\n",
              "    .dataframe thead tr th {\n",
              "        text-align: left;\n",
              "    }\n",
              "</style>\n",
              "<table border=\"1\" class=\"dataframe\">\n",
              "  <thead>\n",
              "    <tr>\n",
              "      <th></th>\n",
              "      <th>vector1</th>\n",
              "    </tr>\n",
              "    <tr>\n",
              "      <th></th>\n",
              "      <th>1</th>\n",
              "    </tr>\n",
              "  </thead>\n",
              "  <tbody>\n",
              "    <tr>\n",
              "      <th>v_w_vap</th>\n",
              "      <td>0.000004</td>\n",
              "    </tr>\n",
              "    <tr>\n",
              "      <th>W_n_vap</th>\n",
              "      <td>0.228854</td>\n",
              "    </tr>\n",
              "  </tbody>\n",
              "</table>\n",
              "</div>"
            ],
            "text/plain": [
              "          vector1\n",
              "                1\n",
              "v_w_vap  0.000004\n",
              "W_n_vap  0.228854"
            ]
          },
          "metadata": {
            "tags": []
          },
          "execution_count": 14
        }
      ]
    },
    {
      "cell_type": "code",
      "metadata": {
        "id": "e4WxV4C0o4Nx",
        "colab_type": "code",
        "colab": {
          "base_uri": "https://localhost:8080/",
          "height": 71
        },
        "outputId": "c9810d25-b446-4e94-f448-250d371d084c"
      },
      "source": [
        "vsc.rdf.values # raw numbers\n",
        "# only 4e-6 m3 of liquid water is lost to the vapor phase compared to the initial\n",
        "# 1e-3 m3 of liquid water."
      ],
      "execution_count": 15,
      "outputs": [
        {
          "output_type": "execute_result",
          "data": {
            "text/plain": [
              "array([[4.22513566e-06],\n",
              "       [2.28853665e-01]])"
            ]
          },
          "metadata": {
            "tags": []
          },
          "execution_count": 15
        }
      ]
    },
    {
      "cell_type": "code",
      "metadata": {
        "pycharm": {
          "name": "#%%\n"
        },
        "id": "0GzogvxfkFhQ",
        "colab_type": "code",
        "colab": {
          "base_uri": "https://localhost:8080/",
          "height": 160
        },
        "outputId": "500492c5-4ef0-4055-989a-0a6abb48b12e"
      },
      "source": [
        "vsc.vdf"
      ],
      "execution_count": 16,
      "outputs": [
        {
          "output_type": "execute_result",
          "data": {
            "text/html": [
              "<div>\n",
              "<style scoped>\n",
              "    .dataframe tbody tr th:only-of-type {\n",
              "        vertical-align: middle;\n",
              "    }\n",
              "\n",
              "    .dataframe tbody tr th {\n",
              "        vertical-align: top;\n",
              "    }\n",
              "\n",
              "    .dataframe thead tr th {\n",
              "        text-align: left;\n",
              "    }\n",
              "</style>\n",
              "<table border=\"1\" class=\"dataframe\">\n",
              "  <thead>\n",
              "    <tr>\n",
              "      <th></th>\n",
              "      <th>vector1</th>\n",
              "    </tr>\n",
              "    <tr>\n",
              "      <th></th>\n",
              "      <th>1</th>\n",
              "    </tr>\n",
              "  </thead>\n",
              "  <tbody>\n",
              "    <tr>\n",
              "      <th>T</th>\n",
              "      <td>365.737128</td>\n",
              "    </tr>\n",
              "    <tr>\n",
              "      <th>W_n_vap</th>\n",
              "      <td>0.228854</td>\n",
              "    </tr>\n",
              "  </tbody>\n",
              "</table>\n",
              "</div>"
            ],
            "text/plain": [
              "            vector1\n",
              "                  1\n",
              "T        365.737128\n",
              "W_n_vap    0.228854"
            ]
          },
          "metadata": {
            "tags": []
          },
          "execution_count": 16
        }
      ]
    },
    {
      "cell_type": "code",
      "metadata": {
        "pycharm": {
          "name": "#%%\n"
        },
        "id": "EQ4rfkPCo-Zq",
        "colab_type": "code",
        "colab": {}
      },
      "source": [
        ""
      ],
      "execution_count": 16,
      "outputs": []
    }
  ]
}