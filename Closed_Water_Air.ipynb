{
 "nbformat": 4,
 "nbformat_minor": 0,
 "metadata": {
  "kernelspec": {
   "display_name": "Python 3",
   "language": "python",
   "name": "python3"
  },
  "language_info": {
   "codemirror_mode": {
    "name": "ipython",
    "version": 2
   },
   "file_extension": ".py",
   "mimetype": "text/x-python",
   "name": "python",
   "nbconvert_exporter": "python",
   "pygments_lexer": "ipython2",
   "version": "2.7.6"
  },
  "colab": {
   "name": "Closed_Water_Air.ipynb",
   "provenance": [],
   "include_colab_link": true
  }
 },
 "cells": [
  {
   "cell_type": "markdown",
   "metadata": {
    "id": "view-in-github",
    "colab_type": "text"
   },
   "source": [
    "<a href=\"https://colab.research.google.com/github/profteachkids/CHE2064/blob/master/Closed_Water_Air.ipynb\" target=\"_parent\"><img src=\"https://colab.research.google.com/assets/colab-badge.svg\" alt=\"Open In Colab\"/></a>"
   ]
  },
  {
   "cell_type": "code",
   "metadata": {
    "pycharm": {
     "name": "#%%\n"
    },
    "id": "T-o9JMyd0K2V",
    "colab_type": "code",
    "colab": {}
   },
   "source": [
    "from dotmap import DotMap\n",
    "import pandas as pd\n",
    "import jax\n",
    "from jax.lax import stop_gradient\n",
    "import jax.numpy as jnp\n",
    "from jax.config import config\n",
    "config.update(\"jax_enable_x64\", True) #JAX default is 32bit single precision\n",
    "from tools.tree_array_transform import VSC, Comp, Range\n",
    "import tools.che as che\n",
    "R=8.314 # J/(mol K)"
   ],
   "execution_count": 1,
   "outputs": []
  },
  {
   "cell_type": "code",
   "metadata": {
    "pycharm": {
     "name": "#%%\n"
    },
    "id": "YWnv7703g00z",
    "colab_type": "code",
    "colab": {}
   },
   "source": [
    "p = che.Props(['Nitrogen','Oxygen', 'Argon', 'Water'])"
   ],
   "execution_count": 2,
   "outputs": []
  },
  {
   "cell_type": "code",
   "metadata": {
    "pycharm": {
     "name": "#%%\n"
    },
    "id": "Wjacie-aul0U",
    "colab_type": "code",
    "colab": {
     "base_uri": "https://localhost:8080/",
     "height": 71
    },
    "outputId": "fc6d16de-18c3-4470-8c69-856c6950d807"
   },
   "source": [
    "def model(c,r):\n",
    "    # c: combination of adjustable variables and static state parameters\n",
    "    # r: DotMap - store intermediate results for reporting\n",
    "    r.Pw = p.Pvap(c.T)[3]\n",
    "    r.V_vap = c.V_tot - c.Vw_i # Approximation - water in the vapor phase is negligible\n",
    "    W_n_vap = r.Pw * r.V_vap / (R * c.T)\n",
    "    P = (c.air_n + W_n_vap) * R * c.T / r.V_vap\n",
    "    return (c.P_f, P)\n",
    "\n",
    "c=DotMap()\n",
    "c.W_tot = 1. # 1 kg\n",
    "c.V_tot = 0.01 # 10 Liters\n",
    "c.P_i = 1e5 # Pa air pressure\n",
    "c.P_f = 2e5 # Pa final pressure\n",
    "c.T_i = 298.\n",
    "\n",
    "c.Vw_i = c.W_tot/p.rhol(c.T_i)[3]\n",
    "c.Vair_i = c.V_tot - c.Vw_i\n",
    "c.air_n = c.P_i * c.Vair_i / (R * c.T_i)\n",
    "\n",
    "c.T = Range(360,300,600)"
   ],
   "execution_count": 3,
   "outputs": [
    {
     "name": "stderr",
     "output_type": "stream",
     "text": [
      "/Users/carlosco/opt/anaconda3/envs/pytorch/lib/python3.8/site-packages/jax/lib/xla_bridge.py:130: UserWarning: No GPU/TPU found, falling back to CPU.\n",
      "  warnings.warn('No GPU/TPU found, falling back to CPU.')\n"
     ]
    }
   ]
  },
  {
   "cell_type": "code",
   "metadata": {
    "pycharm": {
     "name": "#%%\n"
    },
    "id": "HigobUA-0K2h",
    "colab_type": "code",
    "colab": {
     "base_uri": "https://localhost:8080/",
     "height": 286
    },
    "outputId": "e04ec88d-f3a8-445e-df62-97788d2e4682"
   },
   "source": [
    "# transform our model into one that takes a single array of adjustable variables\n",
    "# for minimization.  Unnecessary for this simple model with just 1 variable, \n",
    "# but very helpful for more complex problems later.\n",
    "vsc=VSC(c,model)\n",
    "vsc.solve()"
   ],
   "execution_count": 4,
   "outputs": [
    {
     "name": "stdout",
     "output_type": "stream",
     "text": [
      "0.001973574785335787\n",
      "0.0006606517658790154\n",
      "0.0006606517658790154\n",
      "1.5272366214779895e-05\n",
      "1.5272366214779895e-05\n",
      "1.5272366214779895e-05\n",
      "1.213645372822225e-08\n",
      "1.213645372822225e-08\n",
      "1.213645372822225e-08\n",
      "6.02015987314522e-14\n",
      "6.02015987314522e-14\n",
      "6.02015987314522e-14\n",
      "6.02015987314522e-14\n",
      "6.02015987314522e-14\n",
      "6.409037068602645e-20\n"
     ]
    }
   ]
  },
  {
   "cell_type": "code",
   "metadata": {
    "pycharm": {
     "name": "#%%\n"
    },
    "id": "IGnN0h9Vo-ZF",
    "colab_type": "code",
    "colab": {
     "base_uri": "https://localhost:8080/",
     "height": 130
    },
    "outputId": "17b3f97a-61db-4f79-c9f5-f4b4fbad42e2"
   },
   "source": [
    "# Dataframe of adjustable variables\n",
    "vsc.vdf"
   ],
   "execution_count": 5,
   "outputs": [
    {
     "data": {
      "text/plain": "      vector1\n            1\nT  365.719235",
      "text/html": "<div>\n<style scoped>\n    .dataframe tbody tr th:only-of-type {\n        vertical-align: middle;\n    }\n\n    .dataframe tbody tr th {\n        vertical-align: top;\n    }\n\n    .dataframe thead tr th {\n        text-align: left;\n    }\n</style>\n<table border=\"1\" class=\"dataframe\">\n  <thead>\n    <tr>\n      <th></th>\n      <th>vector1</th>\n    </tr>\n    <tr>\n      <th></th>\n      <th>1</th>\n    </tr>\n  </thead>\n  <tbody>\n    <tr>\n      <th>T</th>\n      <td>365.719235</td>\n    </tr>\n  </tbody>\n</table>\n</div>"
     },
     "execution_count": 5,
     "metadata": {},
     "output_type": "execute_result"
    }
   ]
  },
  {
   "cell_type": "code",
   "metadata": {
    "pycharm": {
     "name": "#%%\n"
    },
    "id": "2b9tj5txo-ZI",
    "colab_type": "code",
    "colab": {
     "base_uri": "https://localhost:8080/",
     "height": 160
    },
    "outputId": "163d6c47-be4d-43ad-81db-2c13ca0dae8e"
   },
   "source": [
    "# Dataframe of intermediate results\n",
    "vsc.rdf"
   ],
   "execution_count": 6,
   "outputs": [
    {
     "data": {
      "text/plain": "            vector1\n                  1\nPw     77275.424480\nV_vap      0.008995",
      "text/html": "<div>\n<style scoped>\n    .dataframe tbody tr th:only-of-type {\n        vertical-align: middle;\n    }\n\n    .dataframe tbody tr th {\n        vertical-align: top;\n    }\n\n    .dataframe thead tr th {\n        text-align: left;\n    }\n</style>\n<table border=\"1\" class=\"dataframe\">\n  <thead>\n    <tr>\n      <th></th>\n      <th>vector1</th>\n    </tr>\n    <tr>\n      <th></th>\n      <th>1</th>\n    </tr>\n  </thead>\n  <tbody>\n    <tr>\n      <th>Pw</th>\n      <td>77275.424480</td>\n    </tr>\n    <tr>\n      <th>V_vap</th>\n      <td>0.008995</td>\n    </tr>\n  </tbody>\n</table>\n</div>"
     },
     "execution_count": 6,
     "metadata": {},
     "output_type": "execute_result"
    }
   ]
  },
  {
   "cell_type": "code",
   "metadata": {
    "pycharm": {
     "name": "#%%\n"
    },
    "id": "eiRaI1-Lo-ZO",
    "colab_type": "code",
    "colab": {
     "base_uri": "https://localhost:8080/",
     "height": 343
    },
    "outputId": "117583f2-1a64-4df5-ea17-4ab55be5333f"
   },
   "source": [
    "# Dataframe of static state parameters\n",
    "vsc.sdf"
   ],
   "execution_count": 7,
   "outputs": [
    {
     "data": {
      "text/plain": "              vector1\n                    1\nVair_i       0.008995\nT_i        298.000000\nP_i     100000.000000\nV_tot        0.010000\nVw_i         0.001005\nP_f     200000.000000\nair_n        0.363057\nW_tot        1.000000",
      "text/html": "<div>\n<style scoped>\n    .dataframe tbody tr th:only-of-type {\n        vertical-align: middle;\n    }\n\n    .dataframe tbody tr th {\n        vertical-align: top;\n    }\n\n    .dataframe thead tr th {\n        text-align: left;\n    }\n</style>\n<table border=\"1\" class=\"dataframe\">\n  <thead>\n    <tr>\n      <th></th>\n      <th>vector1</th>\n    </tr>\n    <tr>\n      <th></th>\n      <th>1</th>\n    </tr>\n  </thead>\n  <tbody>\n    <tr>\n      <th>Vair_i</th>\n      <td>0.008995</td>\n    </tr>\n    <tr>\n      <th>T_i</th>\n      <td>298.000000</td>\n    </tr>\n    <tr>\n      <th>P_i</th>\n      <td>100000.000000</td>\n    </tr>\n    <tr>\n      <th>V_tot</th>\n      <td>0.010000</td>\n    </tr>\n    <tr>\n      <th>Vw_i</th>\n      <td>0.001005</td>\n    </tr>\n    <tr>\n      <th>P_f</th>\n      <td>200000.000000</td>\n    </tr>\n    <tr>\n      <th>air_n</th>\n      <td>0.363057</td>\n    </tr>\n    <tr>\n      <th>W_tot</th>\n      <td>1.000000</td>\n    </tr>\n  </tbody>\n</table>\n</div>"
     },
     "execution_count": 7,
     "metadata": {},
     "output_type": "execute_result"
    }
   ]
  },
  {
   "cell_type": "code",
   "metadata": {
    "pycharm": {
     "name": "#%%\n"
    },
    "id": "MaAySxSg0K2o",
    "colab_type": "code",
    "colab": {}
   },
   "source": [
    "def model2(c,r):\n",
    "    Pw = p.Pvap(c.T)[3]\n",
    "    r.V_vap = c.V_tot - c.Vw_i \n",
    "    r.W_n_vap = Pw * r.V_vap / (R * c.T) \n",
    "    P = (c.air_n + r.W_n_vap) * R * c.T / r.V_vap\n",
    "\n",
    "    # tuples from left and right side of equations\n",
    "    P_constraint = (c.P_f, P)\n",
    "    W_n_constraint = (r.W_n_vap, c.W_n_vap_desired)\n",
    "    return (P_constraint, W_n_constraint)"
   ],
   "execution_count": 8,
   "outputs": []
  },
  {
   "cell_type": "code",
   "metadata": {
    "pycharm": {
     "name": "#%%\n"
    },
    "id": "Zfm8jxfY0K2s",
    "colab_type": "code",
    "colab": {}
   },
   "source": [
    "c=DotMap()\n",
    "c.W_tot = 1. # 1 kg\n",
    "c.V_tot = 0.01 # 10 Liters\n",
    "c.P_i = 1e5 # Pa air pressure\n",
    "c.P_f = 2e5 # Pa final pressure\n",
    "c.T_i = 298.\n",
    "c.W_n_vap_desired = 0.3\n",
    "\n",
    "c.Vw_i = c.W_tot/p.rhol(c.T_i)[3]\n",
    "c.Vair_i = c.V_tot - c.Vw_i\n",
    "c.air_n = c.P_i * c.Vair_i / (R * c.T_i)\n",
    "\n",
    "c.T = Range(350, 300, 400)\n",
    "c.V_tot = Range(0.015, 0., 0.03)\n",
    "\n",
    "vsc=VSC(c,model2)\n",
    "vsc.solve(verbosity=0)"
   ],
   "execution_count": 9,
   "outputs": []
  },
  {
   "cell_type": "code",
   "metadata": {
    "pycharm": {
     "name": "#%%\n"
    },
    "id": "8wqWHVc30K2v",
    "colab_type": "code",
    "colab": {
     "base_uri": "https://localhost:8080/",
     "height": 160
    },
    "outputId": "d60c55d0-62dd-482f-9842-59dc2666e3f8"
   },
   "source": [
    "vsc.vdf"
   ],
   "execution_count": 10,
   "outputs": [
    {
     "data": {
      "text/plain": "          vector1\n                1\nT      370.005638\nV_tot    0.011204",
      "text/html": "<div>\n<style scoped>\n    .dataframe tbody tr th:only-of-type {\n        vertical-align: middle;\n    }\n\n    .dataframe tbody tr th {\n        vertical-align: top;\n    }\n\n    .dataframe thead tr th {\n        text-align: left;\n    }\n</style>\n<table border=\"1\" class=\"dataframe\">\n  <thead>\n    <tr>\n      <th></th>\n      <th>vector1</th>\n    </tr>\n    <tr>\n      <th></th>\n      <th>1</th>\n    </tr>\n  </thead>\n  <tbody>\n    <tr>\n      <th>T</th>\n      <td>370.005638</td>\n    </tr>\n    <tr>\n      <th>V_tot</th>\n      <td>0.011204</td>\n    </tr>\n  </tbody>\n</table>\n</div>"
     },
     "execution_count": 10,
     "metadata": {},
     "output_type": "execute_result"
    }
   ]
  },
  {
   "cell_type": "code",
   "metadata": {
    "pycharm": {
     "name": "#%%\n"
    },
    "id": "YvmCAQtPo-Zb",
    "colab_type": "code",
    "colab": {
     "base_uri": "https://localhost:8080/",
     "height": 160
    },
    "outputId": "df26a79b-d576-448a-a6a7-58e03e42e72a"
   },
   "source": [
    "vsc.rdf\n"
   ],
   "execution_count": 11,
   "outputs": [
    {
     "data": {
      "text/plain": "          vector1\n                1\nV_vap    0.010199\nW_n_vap  0.300000",
      "text/html": "<div>\n<style scoped>\n    .dataframe tbody tr th:only-of-type {\n        vertical-align: middle;\n    }\n\n    .dataframe tbody tr th {\n        vertical-align: top;\n    }\n\n    .dataframe thead tr th {\n        text-align: left;\n    }\n</style>\n<table border=\"1\" class=\"dataframe\">\n  <thead>\n    <tr>\n      <th></th>\n      <th>vector1</th>\n    </tr>\n    <tr>\n      <th></th>\n      <th>1</th>\n    </tr>\n  </thead>\n  <tbody>\n    <tr>\n      <th>V_vap</th>\n      <td>0.010199</td>\n    </tr>\n    <tr>\n      <th>W_n_vap</th>\n      <td>0.300000</td>\n    </tr>\n  </tbody>\n</table>\n</div>"
     },
     "execution_count": 11,
     "metadata": {},
     "output_type": "execute_result"
    }
   ]
  },
  {
   "cell_type": "code",
   "metadata": {
    "pycharm": {
     "name": "#%%\n"
    },
    "id": "Ifo8H6SskFhC",
    "colab_type": "code",
    "colab": {}
   },
   "source": [
    "def model3(c, r):\n",
    "    Pw = p.Pvap(c.T)[3]\n",
    "    # volume of liquid water lost as water vapor ignored in model1\n",
    "    # evaluate the density of water at T, but do not propagate gradients through.\n",
    "    r.v_w_vap = c.W_n_vap*p.Mw[3]/1000/p.rhol(stop_gradient(c.T))[3]\n",
    "    V_vap = c.V_tot - (c.Vw_i - r.v_w_vap)\n",
    "    r.W_n_vap = Pw * V_vap / (R * c.T)\n",
    "    P = (c.air_n + r.W_n_vap) * R * c.T / V_vap\n",
    "    P_constraint = (c.P_f, P)\n",
    "    W_constraint = (c.W_n_vap, r.W_n_vap)\n",
    "    return (P_constraint,W_constraint)"
   ],
   "execution_count": 12,
   "outputs": []
  },
  {
   "cell_type": "code",
   "metadata": {
    "pycharm": {
     "name": "#%%\n"
    },
    "id": "mrZwRd50kFhF",
    "colab_type": "code",
    "colab": {}
   },
   "source": [
    "c=DotMap()\n",
    "c.W_tot = 1. # 1 kg\n",
    "c.V_tot = 0.01 # 10 Liters\n",
    "c.P_i = 1e5 # Pa air pressure\n",
    "c.P_f = 2e5 # Pa final pressure\n",
    "c.T_i = 298.\n",
    "c.Vw_i = c.W_tot/p.rhol(c.T_i)[3]\n",
    "c.Vair_i = c.V_tot - c.Vw_i\n",
    "c.air_n = c.P_i * c.Vair_i / (R * c.T_i)\n",
    "c.T = Range(350., 300., 400.)\n",
    "c.W_n_vap = Range(1., 0., 2.) # moles of water vapor\n",
    "\n",
    "vsc=VSC(c,model3)\n",
    "vsc.solve(verbosity=0)"
   ],
   "execution_count": 13,
   "outputs": []
  },
  {
   "cell_type": "code",
   "metadata": {
    "id": "e4WxV4C0o4Nx",
    "colab_type": "code",
    "colab": {
     "base_uri": "https://localhost:8080/",
     "height": 71
    },
    "outputId": "2e287aad-96be-487c-d0c0-85b4b1a3e164"
   },
   "source": [
    "vsc.rdf"
   ],
   "execution_count": 14,
   "outputs": [
    {
     "data": {
      "text/plain": "          vector1\n                1\nv_w_vap  0.000004\nW_n_vap  0.228854",
      "text/html": "<div>\n<style scoped>\n    .dataframe tbody tr th:only-of-type {\n        vertical-align: middle;\n    }\n\n    .dataframe tbody tr th {\n        vertical-align: top;\n    }\n\n    .dataframe thead tr th {\n        text-align: left;\n    }\n</style>\n<table border=\"1\" class=\"dataframe\">\n  <thead>\n    <tr>\n      <th></th>\n      <th>vector1</th>\n    </tr>\n    <tr>\n      <th></th>\n      <th>1</th>\n    </tr>\n  </thead>\n  <tbody>\n    <tr>\n      <th>v_w_vap</th>\n      <td>0.000004</td>\n    </tr>\n    <tr>\n      <th>W_n_vap</th>\n      <td>0.228854</td>\n    </tr>\n  </tbody>\n</table>\n</div>"
     },
     "execution_count": 14,
     "metadata": {},
     "output_type": "execute_result"
    }
   ]
  },
  {
   "cell_type": "code",
   "metadata": {
    "pycharm": {
     "name": "#%%\n"
    },
    "id": "0GzogvxfkFhQ",
    "colab_type": "code",
    "colab": {
     "base_uri": "https://localhost:8080/",
     "height": 160
    },
    "outputId": "a691c36b-8b82-4677-c0c1-2037f1172639"
   },
   "source": [
    "vsc.vdf"
   ],
   "execution_count": 15,
   "outputs": [
    {
     "data": {
      "text/plain": "array([[4.22513566e-06],\n       [2.28853665e-01]])"
     },
     "execution_count": 15,
     "metadata": {},
     "output_type": "execute_result"
    }
   ]
  },
  {
   "cell_type": "code",
   "metadata": {
    "pycharm": {
     "name": "#%%\n"
    },
    "id": "EQ4rfkPCo-Zq",
    "colab_type": "code",
    "colab": {}
   },
   "source": [
    ""
   ],
   "execution_count": 16,
   "outputs": [
    {
     "data": {
      "text/plain": "            vector1\n                  1\nT        365.737128\nW_n_vap    0.228854",
      "text/html": "<div>\n<style scoped>\n    .dataframe tbody tr th:only-of-type {\n        vertical-align: middle;\n    }\n\n    .dataframe tbody tr th {\n        vertical-align: top;\n    }\n\n    .dataframe thead tr th {\n        text-align: left;\n    }\n</style>\n<table border=\"1\" class=\"dataframe\">\n  <thead>\n    <tr>\n      <th></th>\n      <th>vector1</th>\n    </tr>\n    <tr>\n      <th></th>\n      <th>1</th>\n    </tr>\n  </thead>\n  <tbody>\n    <tr>\n      <th>T</th>\n      <td>365.737128</td>\n    </tr>\n    <tr>\n      <th>W_n_vap</th>\n      <td>0.228854</td>\n    </tr>\n  </tbody>\n</table>\n</div>"
     },
     "execution_count": 16,
     "metadata": {},
     "output_type": "execute_result"
    }
   ]
  }
 ]
}