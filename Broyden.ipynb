{
  "nbformat": 4,
  "nbformat_minor": 0,
  "metadata": {
    "colab": {
      "name": "Broyden.ipynb",
      "provenance": [],
      "collapsed_sections": [],
      "authorship_tag": "ABX9TyOeNM0chsYk6sWaj2yNSqu2",
      "include_colab_link": true
    },
    "kernelspec": {
      "name": "python3",
      "display_name": "Python 3"
    }
  },
  "cells": [
    {
      "cell_type": "markdown",
      "metadata": {
        "id": "view-in-github",
        "colab_type": "text"
      },
      "source": [
        "<a href=\"https://colab.research.google.com/github/profteachkids/CHE2064/blob/master/Broyden.ipynb\" target=\"_parent\"><img src=\"https://colab.research.google.com/assets/colab-badge.svg\" alt=\"Open In Colab\"/></a>"
      ]
    },
    {
      "cell_type": "code",
      "metadata": {
        "id": "HcD9HS7wIBx3"
      },
      "source": [
        "import jax\n",
        "import jax.numpy as jnp\n",
        "from jax.config import config\n",
        "config.update(\"jax_enable_x64\", True)\n",
        "from scipy.optimize import root, minimize, NonlinearConstraint\n",
        "eps=1e-12"
      ],
      "execution_count": 1,
      "outputs": []
    },
    {
      "cell_type": "code",
      "metadata": {
        "id": "Jxxs0w1uIEuo"
      },
      "source": [
        "def func(x):\n",
        "    return jnp.array([jnp.sin(x[0])  + 0.5 * (x[0] - x[1])**3 - 1.0,\n",
        "            0.5 * (x[1] - x[0])**3 + x[1]])"
      ],
      "execution_count": 2,
      "outputs": []
    },
    {
      "cell_type": "code",
      "metadata": {
        "id": "nrbhifr7IUPG",
        "outputId": "4de05419-3443-4f9e-c918-5ebfb8deed67",
        "colab": {
          "base_uri": "https://localhost:8080/",
          "height": 246
        }
      },
      "source": [
        "# Broyden update with no Sherman-Morrison\n",
        "x = jnp.zeros(2)\n",
        "J = jax.jacobian(func)(x)\n",
        "\n",
        "f = func(x)\n",
        "\n",
        "for i in range(20):\n",
        "  xp = jnp.linalg.solve(J, -f) + x\n",
        "  dx = xp - x\n",
        "  fp = func(xp)\n",
        "  f= fp\n",
        "  x= xp\n",
        "  print(x,fp)\n",
        "  if jnp.linalg.norm(fp) < 1e-12:\n",
        "    break\n",
        "\n",
        "  J = J + jnp.outer(fp,dx)/jnp.linalg.norm(dx)**2"
      ],
      "execution_count": 3,
      "outputs": [
        {
          "output_type": "stream",
          "text": [
            "/usr/local/lib/python3.6/dist-packages/jax/lib/xla_bridge.py:130: UserWarning: No GPU/TPU found, falling back to CPU.\n",
            "  warnings.warn('No GPU/TPU found, falling back to CPU.')\n"
          ],
          "name": "stderr"
        },
        {
          "output_type": "stream",
          "text": [
            "[1. 0.] [ 0.34147098 -0.5       ]\n",
            "[0.74545034 0.37272517] [-0.29580697  0.34683492]\n",
            "[0.87452582 0.23424262] [-0.10151446  0.10299655]\n",
            "[0.94426608 0.18266999] [ 0.03094058 -0.03820376]\n",
            "[0.92886637 0.19874589] [-0.00445347  0.00414106]\n",
            "[0.931058   0.19761267] [-0.00047246  0.00033713]\n",
            "[0.93134054 0.1975642 ] [-3.66025399e-05  2.14376618e-05]\n",
            "[0.93136529 0.19756394] [-1.63573041e-06  9.88074612e-07]\n",
            "[0.93136644 0.19756391] [ 9.80559234e-09 -5.98158895e-09]\n",
            "[0.93136643 0.19756391] [-1.81729076e-11  1.10534082e-11]\n",
            "[0.93136643 0.19756391] [-1.01030295e-14  6.16173779e-15]\n"
          ],
          "name": "stdout"
        }
      ]
    },
    {
      "cell_type": "code",
      "metadata": {
        "id": "KFpoN_J8Ig-n",
        "outputId": "d6daf8a5-c46a-4ea7-e006-5a6bb7374637",
        "colab": {
          "base_uri": "https://localhost:8080/",
          "height": 52
        }
      },
      "source": [
        "def broyden(func, x, J=None, max_iter=100, verbose=0):\n",
        "  J = jax.jacobian(func)(x) if J is None else J(x)\n",
        "  Jinv = jnp.linalg.inv(J)\n",
        "  f = func(x)\n",
        "\n",
        "  for i in range(max_iter):\n",
        "    xp = x - Jinv @ f\n",
        "    dx = xp - x\n",
        "    fp = func(xp)\n",
        "    f= fp\n",
        "    x= xp\n",
        "    if verbose>0:\n",
        "      print(x, f)\n",
        "    if jnp.linalg.norm(fp) < 1e-12:\n",
        "      break\n",
        "\n",
        "    u = jnp.expand_dims(fp,1)\n",
        "    v = jnp.expand_dims(dx,1)/jnp.linalg.norm(dx)**2\n",
        "    Jinv = Jinv - Jinv @ u @ v.T @ Jinv / (1 + v.T @ Jinv @ u)  #Sherman-Morrison\n",
        "  return x, f\n",
        "\n",
        "broyden(func, jnp.zeros(2))"
      ],
      "execution_count": 5,
      "outputs": [
        {
          "output_type": "execute_result",
          "data": {
            "text/plain": [
              "(DeviceArray([0.93136643, 0.19756391], dtype=float64),\n",
              " DeviceArray([-1.01030295e-14,  6.16173779e-15], dtype=float64))"
            ]
          },
          "metadata": {
            "tags": []
          },
          "execution_count": 5
        }
      ]
    },
    {
      "cell_type": "code",
      "metadata": {
        "id": "9Swkr2k8d6QQ",
        "outputId": "5ad32a9d-09f2-4370-8f4d-22f785cf03a5",
        "colab": {
          "base_uri": "https://localhost:8080/",
          "height": 123
        }
      },
      "source": [
        "prng = jax.random.PRNGKey(1234)\n",
        "J = jax.random.uniform(prng, (3,3))\n",
        "f = jax.random.uniform(prng, (3,1))\n",
        "fp = jax.random.uniform(prng, (3,1))\n",
        "dx = jnp.linalg.solve(J,-f)\n",
        "\n",
        "def constraint(x):\n",
        "    Jp = x.reshape((3,3))\n",
        "    return jnp.squeeze(Jp @ dx)\n",
        "\n",
        "nlc = NonlinearConstraint(constraint,jnp.squeeze(fp-f),jnp.squeeze(fp-f), jac=jax.jacobian(constraint))\n",
        "\n",
        "def func(x):\n",
        "  Jp = x.reshape((3,3))\n",
        "  return jnp.linalg.norm(Jp-J)\n",
        "\n",
        "res = minimize(func, jnp.zeros(9), method='SLSQP', jac=jax.jacobian(func), constraints=(nlc))\n",
        "print(res.x.reshape((3,3))) #via constrained minimization\n",
        "print(J + fp@dx.T/jnp.linalg.norm(dx)**2) #via Broyden update"
      ],
      "execution_count": 6,
      "outputs": [
        {
          "output_type": "stream",
          "text": [
            "[[0.81624494 0.71880643 0.15777668]\n",
            " [0.22143383 0.01955389 0.22160245]\n",
            " [0.7486602  0.24306155 0.56889726]]\n",
            "[[0.8163133  0.71886663 0.15778989]\n",
            " [0.22145238 0.01955553 0.221621  ]\n",
            " [0.7487229  0.24308191 0.56894491]]\n"
          ],
          "name": "stdout"
        }
      ]
    },
    {
      "cell_type": "code",
      "metadata": {
        "id": "1VODH9UX1Rkr"
      },
      "source": [
        "# Accomodate box bounds on variables\n",
        "\n",
        "def broyden2(func, x, J=None, max_iter=100, verbose=0, xmax=jnp.inf, xmin=-jnp.inf):\n",
        "  Jf = jax.jacobian(func) if J is None else J\n",
        "  J = Jf(x)\n",
        "  Jinv = jnp.linalg.inv(J)\n",
        "  f = func(x)\n",
        "\n",
        "  for i in range(max_iter):\n",
        "    dx = - Jinv @ f\n",
        "\n",
        "    alpha_max_limits = jnp.min(jnp.where(x + dx > xmax, (xmax - x) / (dx), 1))\n",
        "    alpha_min_limits = jnp.min(jnp.where(x + dx < xmin, (xmin - x) / (dx), 1))\n",
        "    alpha = min(alpha_max_limits, alpha_min_limits)\n",
        "\n",
        "    print(alpha)\n",
        "    dx = alpha*dx\n",
        "    xp = x + dx\n",
        "    fp = func(xp)\n",
        "    f= fp\n",
        "    x= xp\n",
        "    if verbose>0:\n",
        "      print(x, f)\n",
        "    if jnp.linalg.norm(fp) < 1e-12:\n",
        "      break\n",
        "\n",
        "    u = jnp.expand_dims(fp,1)\n",
        "    v = jnp.expand_dims(dx,1)/jnp.linalg.norm(dx)**2\n",
        "    Jinv = Jinv - Jinv @ u @ v.T @ Jinv / (1 + v.T @ Jinv @ u)  #Sherman-Morrison\n",
        "  return x, f"
      ],
      "execution_count": 7,
      "outputs": []
    },
    {
      "cell_type": "code",
      "metadata": {
        "id": "MIcH8XjKuXaX"
      },
      "source": [
        "def func2(x):\n",
        "    return jnp.array([jnp.sin(x[0])  + 0.5 * (x[0] - x[1])**3 - 0.01*jnp.sqrt(x[1]-0.1) - 1.0,\n",
        "            0.5 * (x[1] - x[0])**3 + x[1] + 0.001*jnp.sqrt(1.-x[0])])"
      ],
      "execution_count": 8,
      "outputs": []
    },
    {
      "cell_type": "code",
      "metadata": {
        "id": "utXrAQcI6oK3",
        "outputId": "92db4461-2aa5-4e09-e999-260e1c82506d",
        "colab": {
          "base_uri": "https://localhost:8080/",
          "height": 404
        }
      },
      "source": [
        "broyden(func2, 0.95*jnp.ones(2),verbose=1, max_iter=20)"
      ],
      "execution_count": 9,
      "outputs": [
        {
          "output_type": "stream",
          "text": [
            "[1.27776387e+00 5.09295507e-04] [nan nan]\n",
            "[nan nan] [nan nan]\n",
            "[nan nan] [nan nan]\n",
            "[nan nan] [nan nan]\n",
            "[nan nan] [nan nan]\n",
            "[nan nan] [nan nan]\n",
            "[nan nan] [nan nan]\n",
            "[nan nan] [nan nan]\n",
            "[nan nan] [nan nan]\n",
            "[nan nan] [nan nan]\n",
            "[nan nan] [nan nan]\n",
            "[nan nan] [nan nan]\n",
            "[nan nan] [nan nan]\n",
            "[nan nan] [nan nan]\n",
            "[nan nan] [nan nan]\n",
            "[nan nan] [nan nan]\n",
            "[nan nan] [nan nan]\n",
            "[nan nan] [nan nan]\n",
            "[nan nan] [nan nan]\n",
            "[nan nan] [nan nan]\n"
          ],
          "name": "stdout"
        },
        {
          "output_type": "execute_result",
          "data": {
            "text/plain": [
              "(DeviceArray([nan, nan], dtype=float64),\n",
              " DeviceArray([nan, nan], dtype=float64))"
            ]
          },
          "metadata": {
            "tags": []
          },
          "execution_count": 9
        }
      ]
    },
    {
      "cell_type": "code",
      "metadata": {
        "id": "O1oONzVI0M1S",
        "outputId": "b73c2a4b-628a-429b-f882-27d8a181d648",
        "colab": {
          "base_uri": "https://localhost:8080/",
          "height": 580
        }
      },
      "source": [
        "broyden2(func2, 0.95*jnp.ones(2), verbose=1, max_iter=20, xmin=jnp.array([-jnp.inf, 0.1]), xmax = jnp.array([1., jnp.inf]))"
      ],
      "execution_count": 10,
      "outputs": [
        {
          "output_type": "stream",
          "text": [
            "0.1525488433491314\n",
            "[1.         0.80515629] [-0.16322784  0.80145776]\n",
            "1.0\n",
            "[0.93959614 0.98225636] [-0.20211182  0.98254095]\n",
            "0.19327261837160434\n",
            "[1.         0.79656208] [-0.1626652   0.79235224]\n",
            "1.0\n",
            "[0.92070903 1.0408568 ] [-0.21453601  1.04200559]\n",
            "0.24205077931482566\n",
            "[1.         0.79406184] [-0.16249308  0.78969486]\n",
            "1.0\n",
            "[0.88356639 1.15670184] [-0.24746165  1.16723142]\n",
            "0.3484361198064109\n",
            "[1.         0.76610502] [-0.16029271  0.75970719]\n",
            "1.0\n",
            "[0.75065498 1.6076198 ] [-0.6448333   1.92279178]\n",
            "1.0\n",
            "[0.9274454  0.20208157] [-0.01227885  0.01152487]\n",
            "1.0\n",
            "[0.94127706 0.19437996] [ 0.01356875 -0.01370796]\n",
            "1.0\n",
            "[0.93420749 0.19877441] [-0.00013078  0.00014708]\n",
            "1.0\n",
            "[0.93426884 0.1987212 ] [-5.09566974e-07  7.82997886e-07]\n",
            "1.0\n",
            "[0.93426899 0.19872083] [ 1.0061536e-08 -8.9609632e-09]\n",
            "1.0\n",
            "[0.93426899 0.19872083] [ 2.1699087e-10 -1.9291255e-10]\n",
            "1.0\n",
            "[0.93426899 0.19872083] [ 1.08801856e-14 -9.52585450e-15]\n"
          ],
          "name": "stdout"
        },
        {
          "output_type": "execute_result",
          "data": {
            "text/plain": [
              "(DeviceArray([0.93426899, 0.19872083], dtype=float64),\n",
              " DeviceArray([ 1.08801856e-14, -9.52585450e-15], dtype=float64))"
            ]
          },
          "metadata": {
            "tags": []
          },
          "execution_count": 10
        }
      ]
    },
    {
      "cell_type": "code",
      "metadata": {
        "id": "QEBSGQ5d0tr-"
      },
      "source": [
        "# Limit step size to ensure a decrease in norm\n",
        "\n",
        "def broyden3(func, x, J=None, max_iter=100, verbose=0, xmax=jnp.inf, xmin=-jnp.inf):\n",
        "  Jf = jax.jacobian(func) if J is None else J\n",
        "  J = Jf(x)\n",
        "  Jinv = jnp.linalg.inv(J)\n",
        "  f = func(x)\n",
        "\n",
        "  for i in range(max_iter):\n",
        "    print(f\"\\nIter: {i}\")\n",
        "    dx = - Jinv @ f\n",
        "\n",
        "    alpha_max_limits = jnp.min(jnp.where(x + dx > xmax, (xmax - x) / (dx), 1))\n",
        "    alpha_min_limits = jnp.min(jnp.where(x + dx < xmin, (xmin - x) / (dx), 1))\n",
        "    alpha = min(alpha_max_limits, alpha_min_limits)\n",
        "\n",
        "    while alpha > 0.01:\n",
        "      dx_try = alpha*dx\n",
        "      xp = x + dx_try\n",
        "      fp = func(xp)\n",
        "      dnorm = jnp.linalg.norm(fp)-jnp.linalg.norm(f)\n",
        "      print(f\"Alpha {alpha}   dnorm {dnorm}  dx_try {dx_try}   f {f}    fp {fp}\")\n",
        "      if dnorm > 0:\n",
        "        alpha *= 0.5\n",
        "      else:\n",
        "        break\n",
        "    if alpha <= 0.01:\n",
        "      print(\"reevaluate J\")\n",
        "      Jinv = jnp.linalg.inv(Jf(x))\n",
        "      continue\n",
        "\n",
        "    dx=dx_try\n",
        "    f= fp\n",
        "    x= xp\n",
        "    if verbose>0:\n",
        "      print(x, f)\n",
        "    if jnp.linalg.norm(fp) < 1e-12:\n",
        "      break\n",
        "\n",
        "    u = jnp.expand_dims(fp,1)\n",
        "    v = jnp.expand_dims(dx,1)/jnp.linalg.norm(dx)**2\n",
        "    Jinv = Jinv - Jinv @ u @ v.T @ Jinv / (1 + v.T @ Jinv @ u)  #Sherman-Morrison\n",
        "  return x, f"
      ],
      "execution_count": 38,
      "outputs": []
    },
    {
      "cell_type": "code",
      "metadata": {
        "id": "_vUcERTqOM3f",
        "outputId": "491b5b0e-8aa8-4d2c-bede-219cf018d977",
        "colab": {
          "base_uri": "https://localhost:8080/",
          "height": 1000
        }
      },
      "source": [
        "broyden3(func2, 0.95*jnp.ones(2), verbose=1, max_iter=20, xmin=jnp.array([-jnp.inf, 0.1+eps]), xmax = jnp.array([1.-eps, jnp.inf]))"
      ],
      "execution_count": 39,
      "outputs": [
        {
          "output_type": "stream",
          "text": [
            "\n",
            "Iter: 0\n",
            "Alpha 0.1525488433460805   dnorm -0.1522769994586285  dx_try [ 0.05       -0.14484371]   f [-0.19580404  0.95022361]    fp [-0.16322784  0.80145776]\n",
            "[1.         0.80515629] [-0.16322784  0.80145776]\n",
            "\n",
            "Iter: 1\n",
            "Alpha 1.0   dnorm 0.18520243065511433  dx_try [-0.06040385  0.17710007]   f [-0.16322784  0.80145776]    fp [-0.20211182  0.98254095]\n",
            "Alpha 0.5   dnorm 0.09447817784862322  dx_try [-0.03020193  0.08855003]   f [-0.16322784  0.80145776]    fp [-0.18391719  0.89365983]\n",
            "Alpha 0.25   dnorm 0.04810126644389001  dx_try [-0.01510096  0.04427502]   f [-0.16322784  0.80145776]    fp [-0.17419768  0.84831118]\n",
            "Alpha 0.125   dnorm 0.024328390472125316  dx_try [-0.00755048  0.02213751]   f [-0.16322784  0.80145776]    fp [-0.16890823  0.82512827]\n",
            "Alpha 0.0625   dnorm 0.012250770451923909  dx_try [-0.00377524  0.01106875]   f [-0.16322784  0.80145776]    fp [-0.1661218  0.8133705]\n",
            "Alpha 0.03125   dnorm 0.006155804409375354  dx_try [-0.00188762  0.00553438]   f [-0.16322784  0.80145776]    fp [-0.16468887  0.80744234]\n",
            "Alpha 0.015625   dnorm 0.003091295713340325  dx_try [-0.00094381  0.00276719]   f [-0.16322784  0.80145776]    fp [-0.16396195  0.804463  ]\n",
            "reevaluate J\n",
            "\n",
            "Iter: 2\n",
            "Alpha 0.2678514529251927   dnorm -0.48485787460742846  dx_try [-0.00106115 -0.70515629]   f [-0.16322784  0.80145776]    fp [ 0.20410938 -0.26317965]\n",
            "[0.99893885 0.1       ] [ 0.20410938 -0.26317965]\n",
            "\n",
            "Iter: 3\n",
            "Alpha 0.9341696363611651   dnorm 0.3034292271174981  dx_try [0.00106115 0.54293968]   f [ 0.20410938 -0.26317965]    fp [-0.14313628  0.6201785 ]\n",
            "Alpha 0.46708481818058256   dnorm -0.08215644652638576  dx_try [0.00053057 0.27146984]   f [ 0.20410938 -0.26317965]    fp [-0.04018975  0.24765655]\n",
            "[0.99946943 0.37146984] [-0.04018975  0.24765655]\n",
            "\n",
            "Iter: 4\n",
            "Alpha 1.0   dnorm -0.1363200275813029  dx_try [ 0.0001197  -0.08017307]   f [-0.04018975  0.24765655]    fp [0.01454253 0.11364968]\n",
            "[0.99958912 0.29129677] [0.01454253 0.11364968]\n",
            "\n",
            "Iter: 5\n",
            "Alpha 1.0   dnorm 0.036182149075393674  dx_try [0.00026716 0.02156392]   f [0.01454253 0.11364968]    fp [-0.00110213  0.15075445]\n",
            "Alpha 0.5   dnorm 0.017909410593678274  dx_try [0.00013358 0.01078196]   f [0.01454253 0.11364968]    fp [0.00659995 0.13232124]\n",
            "Alpha 0.25   dnorm 0.008889902225109603  dx_try [6.67892421e-05 5.39097913e-03]   f [0.01454253 0.11364968]    fp [0.01054094 0.12301544]\n",
            "Alpha 0.125   dnorm 0.004425684338954572  dx_try [3.33946211e-05 2.69548956e-03]   f [0.01454253 0.11364968]    fp [0.01253413 0.11834008]\n",
            "Alpha 0.0625   dnorm 0.002207591504634815  dx_try [1.66973105e-05 1.34774478e-03]   f [0.01454253 0.11364968]    fp [0.01353642 0.11599676]\n",
            "Alpha 0.03125   dnorm 0.0011024252631503528  dx_try [8.34865527e-06 6.73872391e-04]   f [0.01454253 0.11364968]    fp [0.014039   0.11482369]\n",
            "Alpha 0.015625   dnorm 0.0005508625437436465  dx_try [4.17432763e-06 3.36936196e-04]   f [0.01454253 0.11364968]    fp [0.01429065 0.1142368 ]\n",
            "reevaluate J\n",
            "\n",
            "Iter: 6\n",
            "Alpha 1.0   dnorm -0.11218214643932015  dx_try [-0.06714751 -0.09462712]   f [0.01454253 0.11364968]    fp [-0.00087305 -0.00222932]\n",
            "[0.93244161 0.19666965] [-0.00087305 -0.00222932]\n",
            "\n",
            "Iter: 7\n",
            "Alpha 1.0   dnorm -0.0023332284020675977  dx_try [0.00188661 0.00207817]   f [-0.00087305 -0.00222932]    fp [6.09479982e-05 7.03584954e-07]\n",
            "[0.93432822 0.19874782] [6.09479982e-05 7.03584954e-07]\n",
            "\n",
            "Iter: 8\n",
            "Alpha 1.0   dnorm -5.705589345473752e-05  dx_try [-6.18078282e-05 -2.71673602e-05]   f [6.09479982e-05 7.03584954e-07]    fp [-3.47076267e-06  1.77028626e-06]\n",
            "[0.93426642 0.19872065] [-3.47076267e-06  1.77028626e-06]\n",
            "\n",
            "Iter: 9\n",
            "Alpha 1.0   dnorm -3.7792383541759247e-06  dx_try [2.65136889e-06 1.84337427e-07]   f [-3.47076267e-06  1.77028626e-06]    fp [ 1.04402039e-07 -5.26518030e-08]\n",
            "[0.93426907 0.19872084] [ 1.04402039e-07 -5.26518030e-08]\n",
            "\n",
            "Iter: 10\n",
            "Alpha 1.0   dnorm -1.1687635081632806e-07  dx_try [-7.76482293e-08 -5.81693889e-09]   f [ 1.04402039e-07 -5.26518030e-08]    fp [ 4.55533389e-11 -2.28623176e-11]\n",
            "[0.93426899 0.19872083] [ 4.55533389e-11 -2.28623176e-11]\n",
            "\n",
            "Iter: 11\n",
            "Alpha 1.0   dnorm -5.095879421867847e-11  dx_try [-3.39373319e-11 -2.62206145e-12]   f [ 4.55533389e-11 -2.28623176e-11]    fp [ 8.65973959e-15 -4.47477342e-15]\n",
            "[0.93426899 0.19872083] [ 8.65973959e-15 -4.47477342e-15]\n"
          ],
          "name": "stdout"
        },
        {
          "output_type": "execute_result",
          "data": {
            "text/plain": [
              "(DeviceArray([0.93426899, 0.19872083], dtype=float64),\n",
              " DeviceArray([ 8.65973959e-15, -4.47477342e-15], dtype=float64))"
            ]
          },
          "metadata": {
            "tags": []
          },
          "execution_count": 39
        }
      ]
    },
    {
      "cell_type": "code",
      "metadata": {
        "id": "JpA7Z_WnONyO"
      },
      "source": [
        "# "
      ],
      "execution_count": null,
      "outputs": []
    }
  ]
}