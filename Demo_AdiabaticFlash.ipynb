{
  "nbformat": 4,
  "nbformat_minor": 0,
  "metadata": {
    "kernelspec": {
      "display_name": "Python 3",
      "language": "python",
      "name": "python3"
    },
    "language_info": {
      "codemirror_mode": {
        "name": "ipython",
        "version": 2
      },
      "file_extension": ".py",
      "mimetype": "text/x-python",
      "name": "python",
      "nbconvert_exporter": "python",
      "pygments_lexer": "ipython2",
      "version": "2.7.6"
    },
    "colab": {
      "name": "Demo_AdiabaticFlash.ipynb",
      "provenance": [],
      "include_colab_link": true
    }
  },
  "cells": [
    {
      "cell_type": "markdown",
      "metadata": {
        "id": "view-in-github",
        "colab_type": "text"
      },
      "source": [
        "<a href=\"https://colab.research.google.com/github/profteachkids/CHE2064/blob/master/Demo_AdiabaticFlash.ipynb\" target=\"_parent\"><img src=\"https://colab.research.google.com/assets/colab-badge.svg\" alt=\"Open In Colab\"/></a>"
      ]
    },
    {
      "cell_type": "markdown",
      "metadata": {
        "id": "o6cpMVAA9pfN"
      },
      "source": [
        "## Import libraries\n",
        "This section is somewhat intimidating to new users, but modifications are necessary only to access advanced features."
      ]
    },
    {
      "cell_type": "code",
      "metadata": {
        "pycharm": {
          "name": "#%%\n"
        },
        "id": "CiXlQcV0ul0G"
      },
      "source": [
        "!git clone --depth 1 https://github.com/profteachkids/CHE2064.git &> /dev/null\n",
        "!pip install DotMap &> /dev/null\n",
        "import sys\n",
        "sys.path.insert(1, \"/content/CHE2064\") #Path to CHE module imports"
      ],
      "execution_count": 1,
      "outputs": []
    },
    {
      "cell_type": "code",
      "metadata": {
        "pycharm": {
          "name": "#%%\n"
        },
        "id": "3Xcv-3GycYZc"
      },
      "source": [
        "from dotmap import DotMap\n",
        "import pandas as pd\n",
        "import jax\n",
        "import jax.numpy as jnp\n",
        "from jax.config import config\n",
        "from jax.experimental.host_callback import id_print\n",
        "config.update(\"jax_enable_x64\", True) #JAX default is 32bit single precision\n",
        "\n",
        "from tools.tree_array_transform2 import VSC, Comp, Range\n",
        "import tools.che as che"
      ],
      "execution_count": 18,
      "outputs": []
    },
    {
      "cell_type": "markdown",
      "metadata": {
        "id": "W9jA7D-b-WcP",
        "pycharm": {
          "name": "#%% md\n"
        }
      },
      "source": [
        "## Dot-access to chemical properties and calculations\n",
        "ChemCAD data properties and binary interaction parameters can be exported as text files.  A few common chemicals are stored in a Github repository.  Users with ChemCad access can export and access their own data files.  The *che.Props* class parses these files for convenient dot-access and implementations of common calculations."
      ]
    },
    {
      "cell_type": "code",
      "metadata": {
        "pycharm": {
          "name": "#%%\n"
        },
        "id": "Wjacie-aul0U",
        "outputId": "b4d69675-5e06-4174-fb7e-febe5bb32786",
        "colab": {
          "base_uri": "https://localhost:8080/",
          "height": 35
        }
      },
      "source": [
        "p = che.Props(['Ethanol','Isopropanol', 'Water'])"
      ],
      "execution_count": 3,
      "outputs": [
        {
          "output_type": "stream",
          "text": [
            "WARNING:absl:No GPU/TPU found, falling back to CPU. (Set TF_CPP_MIN_LOG_LEVEL=0 and rerun for more info.)\n"
          ],
          "name": "stderr"
        }
      ]
    },
    {
      "cell_type": "code",
      "metadata": {
        "id": "I-R-T5ALAEIH",
        "outputId": "5a40f198-b2bf-493d-abd3-e099fc4a2f57",
        "colab": {
          "base_uri": "https://localhost:8080/",
          "height": 88
        }
      },
      "source": [
        "print(f'Tc: {p.Tc}')\n",
        "print(f'Pc: {p.Tc}')\n",
        "print(f'Vapor Pressure at 432.1 K {p.Pvap(432.1)} Pa')\n",
        "print(f'NRTL activity coefficients for equimolar mixture {p.NRTL_gamma([1/3,1/3,1/3], 300)} ')"
      ],
      "execution_count": 4,
      "outputs": [
        {
          "output_type": "stream",
          "text": [
            "Tc: [513.92 508.31 647.35]\n",
            "Pc: [513.92 508.31 647.35]\n",
            "Vapor Pressure at 432.1 K [1220670.06610508 1069634.05615236  600793.6517417 ] Pa\n",
            "NRTL activity coefficients for equimolar mixture [1.11669551 1.12519412 1.85757473] \n"
          ],
          "name": "stdout"
        }
      ]
    },
    {
      "cell_type": "markdown",
      "metadata": {
        "id": "vMg5Zj-dCPmz",
        "pycharm": {
          "name": "#%% md\n"
        }
      },
      "source": [
        "## Adiabatic Flash Calculation\n",
        "Model mass/energy balance and VLE - all variables (knowns and unknowns) are in a convenient DotMap structure (c).  The model is written once.\n",
        "\n",
        "Sum up weighted square deviations for minimization.\n",
        " "
      ]
    },
    {
      "cell_type": "code",
      "metadata": {
        "pycharm": {
          "name": "#%%\n"
        },
        "id": "DzvIFEmsqJ87"
      },
      "source": [
        "def model(c):\n",
        "    # c: combination of adjustable variables and static state parameters\n",
        "    # r: DotMap - store intermediate results for reporting\n",
        "    r=DotMap()\n",
        "    r.V = c.Vy * c.Vtot # Moles of each component = mole fractions * total moles\n",
        "    r.L = c.Lx * c.Ltot\n",
        "    r.F = c.Fz * c.Ftot\n",
        "    mass_balance = r.F - r.V - r.L # Mass balance for each component (vectors!)\n",
        "\n",
        "    # Hmix calculates the enthalpy given the temperature and moles of each\n",
        "    # component in the vapor and liquid phases\n",
        "    r.FH = p.Hl(nL=r.F, T=c.FT)\n",
        "    r.VH = p.Hv(nV=r.V, T=c.flashT)\n",
        "    r.LH = p.Hl(nL=r.L, T=c.flashT)\n",
        "    energy_balance = (r.FH - r.VH - r.LH)\n",
        "\n",
        "    # Raoults with NRTL activity coefficient correction.  One-liner!\n",
        "    r.fugL = c.Lx  * p.NRTL_gamma(c.Lx,c.flashT)* p.Pvap(c.flashT)\n",
        "    r.fugV = c.Vy*c.flashP\n",
        "    VLE = r.fugL - r.fugV\n",
        "    id_print([mass_balance, energy_balance, VLE])\n",
        "    return [mass_balance, energy_balance, VLE], r"
      ],
      "execution_count": 37,
      "outputs": []
    },
    {
      "cell_type": "markdown",
      "metadata": {
        "id": "-mgmDN7IF3Cx",
        "pycharm": {
          "name": "#%% md\n"
        }
      },
      "source": [
        "## What's known (static) and unknown (variable) - automatically combined and tracked.\n",
        "\n",
        "What's known and unknown can be easily swapped around without having to modify the model.  The DotMap structures can have nested lists of DotMaps with nested lists of arrays, and so forth."
      ]
    },
    {
      "cell_type": "code",
      "metadata": {
        "pycharm": {
          "name": "#%%\n"
        },
        "id": "s1Krs9e2qJ8_"
      },
      "source": [
        "# Static parameters (Total feed, feed mole fractions, feed temperature and )\n",
        "c=DotMap()\n",
        "c.Ftot=10 # Total Feed moles\n",
        "c.Fz = jnp.array([1/3, 1/3, 1/3]) # Equimolar feed composition\n",
        "c.FT = 450 # Feed temperature\n",
        "c.flashP= 101325 # Flash drum pressure\n",
        "\n",
        "c.Vy = Comp(c.Fz) # Guess vapor/liquid composition equal to feed\n",
        "c.Lx = Comp(c.Fz) # Comp - constrains mole fractions to behave like mole fractions!\n",
        "c.flashT = Range(360, 273.15, c.FT)  # Guess and bounds for flash temperature\n",
        "c.Vtot = Range(c.Ftot/2, 0., c.Ftot)  # Guess half of feed in vapor\n",
        "c.Ltot = Range(c.Ftot/2, 0., c.Ftot)"
      ],
      "execution_count": 38,
      "outputs": []
    },
    {
      "cell_type": "markdown",
      "metadata": {
        "id": "IuEzfh8PIA9b",
        "pycharm": {
          "name": "#%% md\n"
        }
      },
      "source": [
        "## Magic happens here\n",
        "The VSC class combines unknown variables and static parameters into a convenient DotMap structure.  Transformations between known/unknown DotMaps and the flat arrays required by the minimization routine is automated.\n",
        "\n",
        "The minimization algorithm is a robust Trust-Newton Conjugate Gradient coded to take advantage of JAX automatic Jacobian vector products.  \n",
        "\n",
        "The initial JAX model compilation is a bit slow, but subsequent repeat calculations are fast."
      ]
    },
    {
      "cell_type": "code",
      "metadata": {
        "pycharm": {
          "name": "#%%\n"
        },
        "id": "B_qzKOKtul0a",
        "outputId": "96976848-024a-4e3d-8d9c-4d8aeea997ef",
        "colab": {
          "base_uri": "https://localhost:8080/",
          "height": 704
        }
      },
      "source": [
        "vsc=VSC(c, model)\n",
        "vsc.solve(jit=True, verbosity=0)"
      ],
      "execution_count": 39,
      "outputs": [
        {
          "output_type": "stream",
          "text": [
            "[ [ 0.0000000e+00  0.0000000e+00 -8.8817842e-16]\n",
            "  -48834.08861275\n",
            "  [17774.2642706  11514.40996588  3103.78604499] ]\n",
            "[ [ 1.11022302e-16  1.11022302e-16 -7.77156117e-16]\n",
            "  -48834.08861275\n",
            "  [17774.2642706  11514.40996588  3103.78604499] ]\n",
            "[ [ 0.0000000e+00  0.0000000e+00 -8.8817842e-16]\n",
            "  -48834.08861275\n",
            "  [17774.2642706  11514.40996588  3103.78604499] ]\n",
            "[ [ 0.0000000e+00  0.0000000e+00 -8.8817842e-16]\n",
            "  -48834.08861275\n",
            "  [17774.2642706  11514.40996588  3103.78604499] ]\n",
            "[ [ 1.11022302e-16  1.11022302e-16 -7.77156117e-16]\n",
            "  -48834.08861275\n",
            "  [17774.2642706  11514.40996588  3103.78604499] ]\n",
            "[ [ 0.05170464  0.02811635 -0.07982099]\n",
            "  -509.25522526\n",
            "  [1794.96583178 1067.1330319   247.94350251] ]\n",
            "[ [ 0.05170464  0.02811635 -0.07982099]\n",
            "  -509.25522526\n",
            "  [1794.96583178 1067.1330319   247.94350251] ]\n",
            "[ [-2.09536091e-05  4.40752856e-04 -4.19799247e-04]\n",
            "  -10.69974963\n",
            "  [ 5.76406407 20.28184402 11.89291816] ]\n",
            "[ [-2.09536091e-05  4.40752856e-04 -4.19799247e-04]\n",
            "  -10.69974963\n",
            "  [ 5.76406407 20.28184402 11.89291816] ]\n",
            "[ [ 2.89740512e-08 -1.98521795e-08 -9.12187126e-09]\n",
            "  0.00063999\n",
            "  [0.00125677 0.00179309 0.00306713] ]\n",
            "[ [ 2.89740513e-08 -1.98521793e-08 -9.12187115e-09]\n",
            "  0.00063999\n",
            "  [0.00125677 0.00179309 0.00306713] ]\n",
            "[ [ 4.44089210e-16  1.33226763e-15 -1.77635684e-15]\n",
            "  -4.65661287e-10\n",
            "  [3.48282228e-10 6.47592855e-12 9.85614775e-11] ]\n",
            "[ [ 4.44089210e-16  1.33226763e-15 -1.77635684e-15]\n",
            "  -4.65661287e-10\n",
            "  [3.49245965e-10 7.27595761e-12 9.82254278e-11] ]\n"
          ],
          "name": "stdout"
        }
      ]
    },
    {
      "cell_type": "code",
      "metadata": {
        "pycharm": {
          "name": "#%%\n"
        },
        "id": "V_b2kMtcpRTA",
        "outputId": "3e2faa4f-569f-467b-c0f5-9b781ec74786",
        "colab": {
          "base_uri": "https://localhost:8080/",
          "height": 208
        }
      },
      "source": [
        "# State parameters\n",
        "vsc.sdf"
      ],
      "execution_count": 40,
      "outputs": [
        {
          "output_type": "execute_result",
          "data": {
            "text/html": [
              "<div>\n",
              "<style scoped>\n",
              "    .dataframe tbody tr th:only-of-type {\n",
              "        vertical-align: middle;\n",
              "    }\n",
              "\n",
              "    .dataframe tbody tr th {\n",
              "        vertical-align: top;\n",
              "    }\n",
              "\n",
              "    .dataframe thead tr th {\n",
              "        text-align: left;\n",
              "    }\n",
              "</style>\n",
              "<table border=\"1\" class=\"dataframe\">\n",
              "  <thead>\n",
              "    <tr>\n",
              "      <th></th>\n",
              "      <th>vector1</th>\n",
              "      <th colspan=\"3\" halign=\"left\">vector3</th>\n",
              "    </tr>\n",
              "    <tr>\n",
              "      <th></th>\n",
              "      <th>1</th>\n",
              "      <th>1</th>\n",
              "      <th>2</th>\n",
              "      <th>3</th>\n",
              "    </tr>\n",
              "  </thead>\n",
              "  <tbody>\n",
              "    <tr>\n",
              "      <th>flashP</th>\n",
              "      <td>101325</td>\n",
              "      <td></td>\n",
              "      <td></td>\n",
              "      <td></td>\n",
              "    </tr>\n",
              "    <tr>\n",
              "      <th>Ftot</th>\n",
              "      <td>10</td>\n",
              "      <td></td>\n",
              "      <td></td>\n",
              "      <td></td>\n",
              "    </tr>\n",
              "    <tr>\n",
              "      <th>FT</th>\n",
              "      <td>450</td>\n",
              "      <td></td>\n",
              "      <td></td>\n",
              "      <td></td>\n",
              "    </tr>\n",
              "    <tr>\n",
              "      <th>Fz</th>\n",
              "      <td></td>\n",
              "      <td>0.333333</td>\n",
              "      <td>0.333333</td>\n",
              "      <td>0.333333</td>\n",
              "    </tr>\n",
              "  </tbody>\n",
              "</table>\n",
              "</div>"
            ],
            "text/plain": [
              "       vector1   vector3                    \n",
              "             1         1         2         3\n",
              "flashP  101325                              \n",
              "Ftot        10                              \n",
              "FT         450                              \n",
              "Fz              0.333333  0.333333  0.333333"
            ]
          },
          "metadata": {
            "tags": []
          },
          "execution_count": 40
        }
      ]
    },
    {
      "cell_type": "code",
      "metadata": {
        "pycharm": {
          "name": "#%%\n"
        },
        "id": "QtAKhphJpRTD",
        "outputId": "e0cf93f7-79ec-4eb7-e756-d6b618da1ced",
        "colab": {
          "base_uri": "https://localhost:8080/",
          "height": 240
        }
      },
      "source": [
        "# Adjustable Variables\n",
        "vsc.vdf"
      ],
      "execution_count": 41,
      "outputs": [
        {
          "output_type": "execute_result",
          "data": {
            "text/html": [
              "<div>\n",
              "<style scoped>\n",
              "    .dataframe tbody tr th:only-of-type {\n",
              "        vertical-align: middle;\n",
              "    }\n",
              "\n",
              "    .dataframe tbody tr th {\n",
              "        vertical-align: top;\n",
              "    }\n",
              "\n",
              "    .dataframe thead tr th {\n",
              "        text-align: left;\n",
              "    }\n",
              "</style>\n",
              "<table border=\"1\" class=\"dataframe\">\n",
              "  <thead>\n",
              "    <tr>\n",
              "      <th></th>\n",
              "      <th>vector1</th>\n",
              "      <th colspan=\"3\" halign=\"left\">vector3</th>\n",
              "    </tr>\n",
              "    <tr>\n",
              "      <th></th>\n",
              "      <th>1</th>\n",
              "      <th>1</th>\n",
              "      <th>2</th>\n",
              "      <th>3</th>\n",
              "    </tr>\n",
              "  </thead>\n",
              "  <tbody>\n",
              "    <tr>\n",
              "      <th>Ltot</th>\n",
              "      <td>6.0261</td>\n",
              "      <td></td>\n",
              "      <td></td>\n",
              "      <td></td>\n",
              "    </tr>\n",
              "    <tr>\n",
              "      <th>Lx</th>\n",
              "      <td></td>\n",
              "      <td>0.311418</td>\n",
              "      <td>0.326803</td>\n",
              "      <td>0.361779</td>\n",
              "    </tr>\n",
              "    <tr>\n",
              "      <th>Vtot</th>\n",
              "      <td>3.9739</td>\n",
              "      <td></td>\n",
              "      <td></td>\n",
              "      <td></td>\n",
              "    </tr>\n",
              "    <tr>\n",
              "      <th>Vy</th>\n",
              "      <td></td>\n",
              "      <td>0.366567</td>\n",
              "      <td>0.343236</td>\n",
              "      <td>0.290198</td>\n",
              "    </tr>\n",
              "    <tr>\n",
              "      <th>flashT</th>\n",
              "      <td>352.966</td>\n",
              "      <td></td>\n",
              "      <td></td>\n",
              "      <td></td>\n",
              "    </tr>\n",
              "  </tbody>\n",
              "</table>\n",
              "</div>"
            ],
            "text/plain": [
              "        vector1   vector3                    \n",
              "              1         1         2         3\n",
              "Ltot     6.0261                              \n",
              "Lx               0.311418  0.326803  0.361779\n",
              "Vtot     3.9739                              \n",
              "Vy               0.366567  0.343236  0.290198\n",
              "flashT  352.966                              "
            ]
          },
          "metadata": {
            "tags": []
          },
          "execution_count": 41
        }
      ]
    },
    {
      "cell_type": "code",
      "metadata": {
        "id": "3JjpMqYzDf_m",
        "outputId": "b9ebb97e-a9d0-4c59-e3aa-0b7a6d589eef",
        "colab": {
          "base_uri": "https://localhost:8080/",
          "height": 334
        }
      },
      "source": [
        "# Intermediate results\n",
        "vsc.rdf\n",
        "\n"
      ],
      "execution_count": 42,
      "outputs": [
        {
          "output_type": "execute_result",
          "data": {
            "text/html": [
              "<div>\n",
              "<style scoped>\n",
              "    .dataframe tbody tr th:only-of-type {\n",
              "        vertical-align: middle;\n",
              "    }\n",
              "\n",
              "    .dataframe tbody tr th {\n",
              "        vertical-align: top;\n",
              "    }\n",
              "\n",
              "    .dataframe thead tr th {\n",
              "        text-align: left;\n",
              "    }\n",
              "</style>\n",
              "<table border=\"1\" class=\"dataframe\">\n",
              "  <thead>\n",
              "    <tr>\n",
              "      <th></th>\n",
              "      <th colspan=\"3\" halign=\"left\">vector3</th>\n",
              "      <th>vector1</th>\n",
              "    </tr>\n",
              "    <tr>\n",
              "      <th></th>\n",
              "      <th>1</th>\n",
              "      <th>2</th>\n",
              "      <th>3</th>\n",
              "      <th>1</th>\n",
              "    </tr>\n",
              "  </thead>\n",
              "  <tbody>\n",
              "    <tr>\n",
              "      <th>V</th>\n",
              "      <td>1.4567</td>\n",
              "      <td>1.36398</td>\n",
              "      <td>1.15322</td>\n",
              "      <td></td>\n",
              "    </tr>\n",
              "    <tr>\n",
              "      <th>L</th>\n",
              "      <td>1.87664</td>\n",
              "      <td>1.96935</td>\n",
              "      <td>2.18012</td>\n",
              "      <td></td>\n",
              "    </tr>\n",
              "    <tr>\n",
              "      <th>F</th>\n",
              "      <td>3.33333</td>\n",
              "      <td>3.33333</td>\n",
              "      <td>3.33333</td>\n",
              "      <td></td>\n",
              "    </tr>\n",
              "    <tr>\n",
              "      <th>FH</th>\n",
              "      <td></td>\n",
              "      <td></td>\n",
              "      <td></td>\n",
              "      <td>-2.70752e+06</td>\n",
              "    </tr>\n",
              "    <tr>\n",
              "      <th>VH</th>\n",
              "      <td></td>\n",
              "      <td></td>\n",
              "      <td></td>\n",
              "      <td>-979739</td>\n",
              "    </tr>\n",
              "    <tr>\n",
              "      <th>LH</th>\n",
              "      <td></td>\n",
              "      <td></td>\n",
              "      <td></td>\n",
              "      <td>-1.72779e+06</td>\n",
              "    </tr>\n",
              "    <tr>\n",
              "      <th>fugL</th>\n",
              "      <td>37142.4</td>\n",
              "      <td>34778.4</td>\n",
              "      <td>29404.3</td>\n",
              "      <td></td>\n",
              "    </tr>\n",
              "    <tr>\n",
              "      <th>fugV</th>\n",
              "      <td>37142.4</td>\n",
              "      <td>34778.4</td>\n",
              "      <td>29404.3</td>\n",
              "      <td></td>\n",
              "    </tr>\n",
              "  </tbody>\n",
              "</table>\n",
              "</div>"
            ],
            "text/plain": [
              "      vector3                        vector1\n",
              "            1        2        3            1\n",
              "V      1.4567  1.36398  1.15322             \n",
              "L     1.87664  1.96935  2.18012             \n",
              "F     3.33333  3.33333  3.33333             \n",
              "FH                              -2.70752e+06\n",
              "VH                                   -979739\n",
              "LH                              -1.72779e+06\n",
              "fugL  37142.4  34778.4  29404.3             \n",
              "fugV  37142.4  34778.4  29404.3             "
            ]
          },
          "metadata": {
            "tags": []
          },
          "execution_count": 42
        }
      ]
    },
    {
      "cell_type": "code",
      "metadata": {
        "pycharm": {
          "name": "#%%\n"
        },
        "id": "oSX0NJT1pRTI",
        "outputId": "0f10d6ef-2778-4d20-e985-963835f91f8b",
        "colab": {
          "base_uri": "https://localhost:8080/",
          "height": 366
        }
      },
      "source": [
        "vsc.cdf\n"
      ],
      "execution_count": 43,
      "outputs": [
        {
          "output_type": "execute_result",
          "data": {
            "text/html": [
              "<div>\n",
              "<style scoped>\n",
              "    .dataframe tbody tr th:only-of-type {\n",
              "        vertical-align: middle;\n",
              "    }\n",
              "\n",
              "    .dataframe tbody tr th {\n",
              "        vertical-align: top;\n",
              "    }\n",
              "\n",
              "    .dataframe thead tr th {\n",
              "        text-align: left;\n",
              "    }\n",
              "</style>\n",
              "<table border=\"1\" class=\"dataframe\">\n",
              "  <thead>\n",
              "    <tr>\n",
              "      <th></th>\n",
              "      <th>vector1</th>\n",
              "      <th colspan=\"3\" halign=\"left\">vector3</th>\n",
              "    </tr>\n",
              "    <tr>\n",
              "      <th></th>\n",
              "      <th>1</th>\n",
              "      <th>1</th>\n",
              "      <th>2</th>\n",
              "      <th>3</th>\n",
              "    </tr>\n",
              "  </thead>\n",
              "  <tbody>\n",
              "    <tr>\n",
              "      <th>FT</th>\n",
              "      <td>450</td>\n",
              "      <td></td>\n",
              "      <td></td>\n",
              "      <td></td>\n",
              "    </tr>\n",
              "    <tr>\n",
              "      <th>Ftot</th>\n",
              "      <td>10</td>\n",
              "      <td></td>\n",
              "      <td></td>\n",
              "      <td></td>\n",
              "    </tr>\n",
              "    <tr>\n",
              "      <th>Fz</th>\n",
              "      <td></td>\n",
              "      <td>0.333333</td>\n",
              "      <td>0.333333</td>\n",
              "      <td>0.333333</td>\n",
              "    </tr>\n",
              "    <tr>\n",
              "      <th>Ltot</th>\n",
              "      <td>6.0261</td>\n",
              "      <td></td>\n",
              "      <td></td>\n",
              "      <td></td>\n",
              "    </tr>\n",
              "    <tr>\n",
              "      <th>Lx</th>\n",
              "      <td></td>\n",
              "      <td>0.311418</td>\n",
              "      <td>0.326803</td>\n",
              "      <td>0.361779</td>\n",
              "    </tr>\n",
              "    <tr>\n",
              "      <th>Vtot</th>\n",
              "      <td>3.9739</td>\n",
              "      <td></td>\n",
              "      <td></td>\n",
              "      <td></td>\n",
              "    </tr>\n",
              "    <tr>\n",
              "      <th>Vy</th>\n",
              "      <td></td>\n",
              "      <td>0.366567</td>\n",
              "      <td>0.343236</td>\n",
              "      <td>0.290198</td>\n",
              "    </tr>\n",
              "    <tr>\n",
              "      <th>flashP</th>\n",
              "      <td>101325</td>\n",
              "      <td></td>\n",
              "      <td></td>\n",
              "      <td></td>\n",
              "    </tr>\n",
              "    <tr>\n",
              "      <th>flashT</th>\n",
              "      <td>352.966</td>\n",
              "      <td></td>\n",
              "      <td></td>\n",
              "      <td></td>\n",
              "    </tr>\n",
              "  </tbody>\n",
              "</table>\n",
              "</div>"
            ],
            "text/plain": [
              "        vector1   vector3                    \n",
              "              1         1         2         3\n",
              "FT          450                              \n",
              "Ftot         10                              \n",
              "Fz               0.333333  0.333333  0.333333\n",
              "Ltot     6.0261                              \n",
              "Lx               0.311418  0.326803  0.361779\n",
              "Vtot     3.9739                              \n",
              "Vy               0.366567  0.343236  0.290198\n",
              "flashP   101325                              \n",
              "flashT  352.966                              "
            ]
          },
          "metadata": {
            "tags": []
          },
          "execution_count": 43
        }
      ]
    },
    {
      "cell_type": "code",
      "metadata": {
        "pycharm": {
          "name": "#%%\n"
        },
        "id": "1dQXIQTNhzYc",
        "outputId": "38cbec03-1a13-4f6f-8f01-dbfff1182091",
        "colab": {
          "base_uri": "https://localhost:8080/",
          "height": 35
        }
      },
      "source": [
        "vsc.r.FH - vsc.r.VH - vsc.r.LH"
      ],
      "execution_count": 44,
      "outputs": [
        {
          "output_type": "execute_result",
          "data": {
            "text/plain": [
              "DeviceArray(-4.65661287e-10, dtype=float64)"
            ]
          },
          "metadata": {
            "tags": []
          },
          "execution_count": 44
        }
      ]
    },
    {
      "cell_type": "code",
      "metadata": {
        "pycharm": {
          "name": "#%%\n"
        },
        "id": "6KiFPgGCGLWj",
        "outputId": "fb1abf6c-4251-48c3-8ce4-b2d8c0a0b4f6",
        "colab": {
          "base_uri": "https://localhost:8080/",
          "height": 35
        }
      },
      "source": [
        "vsc.r.fugL - vsc.r.fugV"
      ],
      "execution_count": 46,
      "outputs": [
        {
          "output_type": "execute_result",
          "data": {
            "text/plain": [
              "DeviceArray([3.49245965e-10, 7.27595761e-12, 9.82254278e-11], dtype=float64)"
            ]
          },
          "metadata": {
            "tags": []
          },
          "execution_count": 46
        }
      ]
    },
    {
      "cell_type": "code",
      "metadata": {
        "id": "g2rK16hJGZVA"
      },
      "source": [
        ""
      ],
      "execution_count": 45,
      "outputs": []
    }
  ]
}