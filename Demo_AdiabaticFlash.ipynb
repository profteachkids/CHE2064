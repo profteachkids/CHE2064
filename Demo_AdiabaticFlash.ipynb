{
 "nbformat": 4,
 "nbformat_minor": 0,
 "metadata": {
  "kernelspec": {
   "display_name": "Python 3",
   "language": "python",
   "name": "python3"
  },
  "language_info": {
   "codemirror_mode": {
    "name": "ipython",
    "version": 2
   },
   "file_extension": ".py",
   "mimetype": "text/x-python",
   "name": "python",
   "nbconvert_exporter": "python",
   "pygments_lexer": "ipython2",
   "version": "2.7.6"
  },
  "colab": {
   "name": "Demo_AdiabaticFlash.ipynb",
   "provenance": [],
   "include_colab_link": true
  }
 },
 "cells": [
  {
   "cell_type": "markdown",
   "metadata": {
    "id": "view-in-github",
    "colab_type": "text"
   },
   "source": [
    "<a href=\"https://colab.research.google.com/github/profteachkids/CHE2064/blob/master/Demo_AdiabaticFlash.ipynb\" target=\"_parent\"><img src=\"https://colab.research.google.com/assets/colab-badge.svg\" alt=\"Open In Colab\"/></a>"
   ]
  },
  {
   "cell_type": "markdown",
   "metadata": {
    "id": "o6cpMVAA9pfN",
    "colab_type": "text",
    "pycharm": {
     "name": "#%% md\n"
    }
   },
   "source": [
    "## Import libraries\n",
    "This section is somewhat intimidating to new users, but modifications are necessary only to access advanced features."
   ]
  },
  {
   "cell_type": "code",
   "metadata": {
    "pycharm": {
     "name": "#%%\n"
    },
    "id": "CiXlQcV0ul0G",
    "colab_type": "code",
    "colab": {}
   },
   "source": [
    "!git clone --depth 1 https://github.com/profteachkids/CHE2064.git &> /dev/null\n",
    "!pip install DotMap &> /dev/null\n",
    "import sys\n",
    "sys.path.insert(1, \"/content/CHE2064\") #Path to CHE module imports\n",
    "\n",
    "from dotmap import DotMap\n",
    "import jax\n",
    "import jax.numpy as jnp\n",
    "from jax.config import config\n",
    "config.update(\"jax_enable_x64\", True) #JAX default is 32bit single precision\n",
    "\n",
    "from tools.tree_array_transform import VSC \n",
    "from tools.trust_ncg import minimize\n",
    "import tools.che as che"
   ],
   "execution_count": 1,
   "outputs": []
  },
  {
   "cell_type": "markdown",
   "metadata": {
    "id": "W9jA7D-b-WcP",
    "colab_type": "text",
    "pycharm": {
     "name": "#%% md\n"
    }
   },
   "source": [
    "## Dot-access to chemical properties and calculations\n",
    "ChemCAD data properties and binary interaction parameters can be exported as text files.  A few common chemicals are stored in a Github repository.  Users with ChemCad access can export and access their own data files.  The *che.Props* class parses these files for convenient dot-access in Python calculations."
   ]
  },
  {
   "cell_type": "code",
   "metadata": {
    "pycharm": {
     "name": "#%%\n"
    },
    "id": "Wjacie-aul0U",
    "colab_type": "code",
    "colab": {}
   },
   "source": [
    "p = che.Props(['Ethanol','Isopropanol', 'Water'])"
   ],
   "execution_count": 2,
   "outputs": []
  },
  {
   "cell_type": "code",
   "metadata": {
    "id": "I-R-T5ALAEIH",
    "colab_type": "code",
    "colab": {
     "base_uri": "https://localhost:8080/",
     "height": 137
    },
    "outputId": "daf8bb17-b957-43af-de93-baa94472db39"
   },
   "source": [
    "print(f'Tc: {p.Tc}')\n",
    "print(f'Pc: {p.Tc}')\n",
    "print(f'Vapor Pressure at 432.1 K {p.Pvap(432.1)} Pa')\n",
    "print(f'NRTL activity coefficients for equimolar mixture {p.NRTL_gamma([1/3,1/3,1/3], 300)} ')"
   ],
   "execution_count": 3,
   "outputs": [
    {
     "output_type": "stream",
     "text": [
      "Tc: [513.92 508.31 647.35]\n",
      "Pc: [513.92 508.31 647.35]\n"
     ],
     "name": "stdout"
    },
    {
     "output_type": "stream",
     "text": [
      "/usr/local/lib/python3.6/dist-packages/jax/lib/xla_bridge.py:130: UserWarning: No GPU/TPU found, falling back to CPU.\n",
      "  warnings.warn('No GPU/TPU found, falling back to CPU.')\n"
     ],
     "name": "stderr"
    },
    {
     "output_type": "stream",
     "text": [
      "Vapor Pressure at 432.1 K [1220670.06610508 1069634.05615236  600793.6517417 ] Pa\n",
      "NRTL activity coefficients for equimolar mixture [1.11669551 1.12519412 1.85757473] \n"
     ],
     "name": "stdout"
    }
   ]
  },
  {
   "cell_type": "markdown",
   "metadata": {
    "id": "vMg5Zj-dCPmz",
    "colab_type": "text",
    "pycharm": {
     "name": "#%% md\n"
    }
   },
   "source": [
    "## Adiabatic Flash Calculation\n",
    "Model mass/energy balance and VLE.  All variables (knowns and unknowns) are in a convenient DotMap structure (c).  The model is written once.\n",
    "\n",
    "Sum up weighted square deviations for minimization.\n",
    " "
   ]
  },
  {
   "cell_type": "code",
   "execution_count": null,
   "outputs": [],
   "source": [
    "def model(c):\n",
    "    Ltot = c.Ftot - c.Vtot  # What's not in the vapor is in the liquid\n",
    "    V = c.Vy * c.Vtot # Moles of each component = mole fractions * total moles\n",
    "    L = c.Lx * Ltot\n",
    "    F = c.Fz * c.Ftot\n",
    "    mass_balance = (F - V - L) # Mass balance for each component (vectors!)\n",
    "    mass_balance = (mass_balance/jnp.sum(F))**2\n",
    "\n",
    "    # Hmix calculates the enthalpy given the temperature and moles of each\n",
    "    # component in the vapor and liquid phases\n",
    "    FH = p.Hmix(nV=0.0, nL=F,   T=c.FT)\n",
    "    VH = p.Hmix(nV=V,   nL=0.0, T=c.flashT)\n",
    "    LH = p.Hmix(nV=0.0, nL=L,   T=c.flashT)\n",
    "    energy_balance = (FH - VH - LH)\n",
    "    energy_balance = (energy_balance/jnp.sum(FH))**2\n",
    "\n",
    "    # Raoults with NRTL activity coefficient correction.  One-liner!\n",
    "    VLE = (c.Lx  * p.NRTL_gamma(c.Lx,c.flashT)* p.Pvap(c.flashT)\n",
    "                - c.Vy*c.flashP)\n",
    "    VLE = (VLE/jnp.sum(c.Vy*c.flashP))**2\n",
    "\n",
    "    # Square deviations are weighted by their approx. magnitudes and\n",
    "    # summed for minimization\n",
    "    return jnp.sum(mass_balance + energy_balance + VLE)"
   ],
   "metadata": {
    "collapsed": false,
    "pycharm": {
     "name": "#%%\n"
    }
   }
  },
  {
   "cell_type": "code",
   "execution_count": null,
   "outputs": [],
   "source": [
    "s=DotMap()\n",
    "s.Ftot=10\n",
    "s.Fz = jnp.array([1/3, 1/3, 1/3])\n",
    "s.FT = 450\n",
    "\n",
    "s.flashP= 101325\n",
    "v=DotMap()\n",
    "v.Vy = tat.Comp(s.Fz)\n",
    "v.Lx = tat.Comp(s.Fz)\n",
    "v.flashT = tat.Range(360, 300, s.FT)\n",
    "v.Vtot = tat.Range(s.Ftot/2, 0., s.Ftot)"
   ],
   "metadata": {
    "collapsed": false,
    "pycharm": {
     "name": "#%%\n"
    }
   }
  },
  {
   "cell_type": "code",
   "execution_count": null,
   "outputs": [],
   "source": [
    "c=VSC(v,s)\n",
    "modelf = jax.jit(c.transform(model))"
   ],
   "metadata": {
    "collapsed": false,
    "pycharm": {
     "name": "#%%\n"
    }
   }
  },
  {
   "cell_type": "code",
   "metadata": {
    "pycharm": {
     "name": "#%%\n"
    },
    "id": "DzvIFEmsqJ87",
    "colab_type": "code",
    "colab": {}
   },
   "source": [
    "x_min, f = tncg.minimize(modelf,c.x, verbosity=1)"
   ],
   "execution_count": 4,
   "outputs": []
  },
  {
   "cell_type": "code",
   "metadata": {
    "pycharm": {
     "name": "#%%\n"
    },
    "id": "s1Krs9e2qJ8_",
    "colab_type": "code",
    "colab": {
     "base_uri": "https://localhost:8080/",
     "height": 71
    },
    "outputId": "17a971e3-f7d8-41a3-8724-7af85829565d"
   },
   "source": [
    "s=DotMap()\n",
    "s.Ftot=10\n",
    "s.Fz = jnp.array([1/3, 1/3, 1/3])\n",
    "s.FT = 450\n",
    "\n",
    "s.flashP= 101325\n",
    "v=DotMap()\n",
    "v.Vy = tat.Comp(s.Fz)\n",
    "v.Lx = tat.Comp(s.Fz)\n",
    "v.flashT = tat.Range(360, 300, s.FT)\n",
    "v.Vtot = tat.Range(s.Ftot/2, 0., s.Ftot)"
   ],
   "execution_count": null,
   "outputs": [
    {
     "output_type": "stream",
     "text": [
      "/usr/local/lib/python3.6/dist-packages/jax/lib/xla_bridge.py:130: UserWarning: No GPU/TPU found, falling back to CPU.\n",
      "  warnings.warn('No GPU/TPU found, falling back to CPU.')\n"
     ],
     "name": "stderr"
    }
   ]
  },
  {
   "cell_type": "code",
   "metadata": {
    "pycharm": {
     "name": "#%%\n"
    },
    "id": "B_qzKOKtul0a",
    "colab_type": "code",
    "colab": {}
   },
   "source": [
    "c=VSC(v,s)\n",
    "modelf = jax.jit(c.transform(model))"
   ],
   "execution_count": null,
   "outputs": []
  },
  {
   "cell_type": "code",
   "metadata": {
    "pycharm": {
     "name": "#%%\n"
    },
    "id": "AiYK9QoaycDZ",
    "colab_type": "code",
    "colab": {
     "base_uri": "https://localhost:8080/",
     "height": 153
    },
    "outputId": "30b6a14e-ad78-4c7d-8023-337d9da04d3c"
   },
   "source": [
    "x_min, f = tncg.minimize(modelf,c.x, verbosity=1)"
   ],
   "execution_count": null,
   "outputs": [
    {
     "output_type": "stream",
     "text": [
      "0:6, f: 0.046582062928938066\n",
      "1:5, f: 0.0030325209129333807\n",
      "2:5, f: 3.8263760766167256e-05\n",
      "3:5, f: 9.734012881667384e-09\n",
      "Final results:\n",
      "f: 7.292860925998015e-16\n",
      "x: [-0.14989821 -0.10167514 -0.41635314  0.23361766  0.16785475 -0.60540527]\n"
     ],
     "name": "stdout"
    }
   ]
  },
  {
   "cell_type": "code",
   "metadata": {
    "pycharm": {
     "name": "#%%\n"
    },
    "id": "jsdj96iYycDc",
    "colab_type": "code",
    "colab": {
     "base_uri": "https://localhost:8080/",
     "height": 343
    },
    "outputId": "6759bb50-33b7-4e00-b427-3d27f887fbd4"
   },
   "source": [
    "v_sol = c.xtoc(x_min)\n",
    "df=tat.todf(v_sol)\n",
    "df"
   ],
   "execution_count": null,
   "outputs": [
    {
     "output_type": "execute_result",
     "data": {
      "text/html": [
       "<div>\n",
       "<style scoped>\n",
       "    .dataframe tbody tr th:only-of-type {\n",
       "        vertical-align: middle;\n",
       "    }\n",
       "\n",
       "    .dataframe tbody tr th {\n",
       "        vertical-align: top;\n",
       "    }\n",
       "\n",
       "    .dataframe thead tr th {\n",
       "        text-align: left;\n",
       "    }\n",
       "</style>\n",
       "<table border=\"1\" class=\"dataframe\">\n",
       "  <thead>\n",
       "    <tr>\n",
       "      <th></th>\n",
       "      <th>vector1</th>\n",
       "      <th colspan=\"3\" halign=\"left\">vector3</th>\n",
       "    </tr>\n",
       "    <tr>\n",
       "      <th></th>\n",
       "      <th>1</th>\n",
       "      <th>1</th>\n",
       "      <th>2</th>\n",
       "      <th>3</th>\n",
       "    </tr>\n",
       "  </thead>\n",
       "  <tbody>\n",
       "    <tr>\n",
       "      <th>FT</th>\n",
       "      <td>450</td>\n",
       "      <td></td>\n",
       "      <td></td>\n",
       "      <td></td>\n",
       "    </tr>\n",
       "    <tr>\n",
       "      <th>Ftot</th>\n",
       "      <td>10</td>\n",
       "      <td></td>\n",
       "      <td></td>\n",
       "      <td></td>\n",
       "    </tr>\n",
       "    <tr>\n",
       "      <th>Fz</th>\n",
       "      <td></td>\n",
       "      <td>0.333333</td>\n",
       "      <td>0.333333</td>\n",
       "      <td>0.333333</td>\n",
       "    </tr>\n",
       "    <tr>\n",
       "      <th>Lx</th>\n",
       "      <td></td>\n",
       "      <td>0.311418</td>\n",
       "      <td>0.326803</td>\n",
       "      <td>0.361779</td>\n",
       "    </tr>\n",
       "    <tr>\n",
       "      <th>Vtot</th>\n",
       "      <td>3.9739</td>\n",
       "      <td></td>\n",
       "      <td></td>\n",
       "      <td></td>\n",
       "    </tr>\n",
       "    <tr>\n",
       "      <th>Vy</th>\n",
       "      <td></td>\n",
       "      <td>0.366567</td>\n",
       "      <td>0.343236</td>\n",
       "      <td>0.290198</td>\n",
       "    </tr>\n",
       "    <tr>\n",
       "      <th>flashP</th>\n",
       "      <td>101325</td>\n",
       "      <td></td>\n",
       "      <td></td>\n",
       "      <td></td>\n",
       "    </tr>\n",
       "    <tr>\n",
       "      <th>flashT</th>\n",
       "      <td>352.966</td>\n",
       "      <td></td>\n",
       "      <td></td>\n",
       "      <td></td>\n",
       "    </tr>\n",
       "  </tbody>\n",
       "</table>\n",
       "</div>"
      ],
      "text/plain": [
       "        vector1   vector3                    \n",
       "              1         1         2         3\n",
       "FT          450                              \n",
       "Ftot         10                              \n",
       "Fz               0.333333  0.333333  0.333333\n",
       "Lx               0.311418  0.326803  0.361779\n",
       "Vtot     3.9739                              \n",
       "Vy               0.366567  0.343236  0.290198\n",
       "flashP   101325                              \n",
       "flashT  352.966                              "
      ]
     },
     "metadata": {
      "tags": []
     },
     "execution_count": 11
    }
   ]
  },
  {
   "cell_type": "code",
   "metadata": {
    "pycharm": {
     "name": "#%%\n"
    },
    "id": "230qX7kOycDf",
    "colab_type": "code",
    "colab": {}
   },
   "source": [
    ""
   ],
   "execution_count": null,
   "outputs": []
  },
  {
   "cell_type": "code",
   "metadata": {
    "pycharm": {
     "name": "#%%\n"
    },
    "id": "QT2MDwwWycDh",
    "colab_type": "code",
    "colab": {}
   },
   "source": [
    ""
   ],
   "execution_count": null,
   "outputs": []
  }
 ]
}