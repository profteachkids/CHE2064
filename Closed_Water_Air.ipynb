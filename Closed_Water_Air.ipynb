{
  "nbformat": 4,
  "nbformat_minor": 0,
  "metadata": {
    "kernelspec": {
      "display_name": "Python 3",
      "language": "python",
      "name": "python3"
    },
    "language_info": {
      "codemirror_mode": {
        "name": "ipython",
        "version": 2
      },
      "file_extension": ".py",
      "mimetype": "text/x-python",
      "name": "python",
      "nbconvert_exporter": "python",
      "pygments_lexer": "ipython2",
      "version": "2.7.6"
    },
    "colab": {
      "name": "Closed_Water_Air.ipynb",
      "provenance": [],
      "include_colab_link": true
    }
  },
  "cells": [
    {
      "cell_type": "markdown",
      "metadata": {
        "id": "view-in-github",
        "colab_type": "text"
      },
      "source": [
        "<a href=\"https://colab.research.google.com/github/profteachkids/CHE2064/blob/master/Closed_Water_Air.ipynb\" target=\"_parent\"><img src=\"https://colab.research.google.com/assets/colab-badge.svg\" alt=\"Open In Colab\"/></a>"
      ]
    },
    {
      "cell_type": "code",
      "metadata": {
        "id": "cqoR7kaA0RMm",
        "colab_type": "code",
        "colab": {}
      },
      "source": [
        "!git clone --depth 1 https://github.com/profteachkids/CHE2064.git &> /dev/null\n",
        "!pip install DotMap &> /dev/null\n",
        "import sys\n",
        "sys.path.insert(1, \"/content/CHE2064\") #Path to CHE module imports"
      ],
      "execution_count": 2,
      "outputs": []
    },
    {
      "cell_type": "code",
      "metadata": {
        "pycharm": {
          "name": "#%%\n"
        },
        "id": "T-o9JMyd0K2V",
        "colab_type": "code",
        "colab": {}
      },
      "source": [
        "from dotmap import DotMap\n",
        "import pandas as pd\n",
        "import jax\n",
        "import jax.numpy as jnp\n",
        "from jax.config import config\n",
        "config.update(\"jax_enable_x64\", True) #JAX default is 32bit single precision\n",
        "from tools.tree_array_transform import VSC, Comp, Range, todf\n",
        "import tools.che as che\n",
        "R=8.314 # J/(mol K)"
      ],
      "execution_count": 3,
      "outputs": []
    },
    {
      "cell_type": "code",
      "metadata": {
        "id": "lJ-KYyzUBFqM",
        "colab_type": "code",
        "colab": {
          "base_uri": "https://localhost:8080/",
          "height": 71
        },
        "outputId": "5ee63568-5501-42cf-b3ba-b19657e51bc2"
      },
      "source": [
        "\n",
        "p = che.Props(['Nitrogen','Oxygen', 'Argon', 'Water'])\n",
        "\n",
        "def model(c,r):\n",
        "    # c: combination of adjustable variables and static state parameters\n",
        "    # r: DotMap - store intermediate results for reporting\n",
        "    r.Pw = p.Pvap(c.T)[3]\n",
        "    r.V_vap = c.V_tot - c.Vw_i # Approximation - water in the vapor phase is negligible\n",
        "    W_n_vap = r.Pw * r.V_vap / (R * c.T)\n",
        "    P = (c.air_n + W_n_vap) * R * c.T / r.V_vap\n",
        "    return (s.P_f - P)**2\n",
        "\n",
        "s=DotMap()\n",
        "s.W_tot = 1. # 1 kg\n",
        "s.V_tot = 0.01 # 10 Liters\n",
        "s.P_i = 1e5 # Pa air pressure\n",
        "s.P_f = 2e5 # Pa final pressure\n",
        "s.T_i = 298.\n",
        "\n",
        "s.Vw_i = s.W_tot/p.rhol(s.T_i)[3]\n",
        "s.Vair_i = s.V_tot - s.Vw_i\n",
        "s.air_n = s.P_i * s.Vair_i / (R * s.T_i)\n",
        "\n",
        "v=DotMap()\n",
        "v.T = Range(360,300,600)\n"
      ],
      "execution_count": 4,
      "outputs": [
        {
          "output_type": "stream",
          "text": [
            "/usr/local/lib/python3.6/dist-packages/jax/lib/xla_bridge.py:130: UserWarning: No GPU/TPU found, falling back to CPU.\n",
            "  warnings.warn('No GPU/TPU found, falling back to CPU.')\n"
          ],
          "name": "stderr"
        }
      ]
    },
    {
      "cell_type": "code",
      "metadata": {
        "id": "Xk_XnvhRBK3D",
        "colab_type": "code",
        "colab": {}
      },
      "source": [
        "# transform our model into one that takes a single array of adjustable variables\n",
        "# for minimization.  Unnecessary for this simple model with just 1 variable, \n",
        "# but very helpful for more complex problems later.\n",
        "vsc=VSC(v,s, model)\n",
        "vsc.minimize(verbosity=0)"
      ],
      "execution_count": 6,
      "outputs": []
    },
    {
      "cell_type": "code",
      "metadata": {
        "id": "Q80wls_EBUxZ",
        "colab_type": "code",
        "colab": {
          "base_uri": "https://localhost:8080/",
          "height": 130
        },
        "outputId": "7aad550a-9120-48ac-a155-080ca842d8ed"
      },
      "source": [
        "# Dataframe of adjustable variables\n",
        "vsc.vdf"
      ],
      "execution_count": 7,
      "outputs": [
        {
          "output_type": "execute_result",
          "data": {
            "text/html": [
              "<div>\n",
              "<style scoped>\n",
              "    .dataframe tbody tr th:only-of-type {\n",
              "        vertical-align: middle;\n",
              "    }\n",
              "\n",
              "    .dataframe tbody tr th {\n",
              "        vertical-align: top;\n",
              "    }\n",
              "\n",
              "    .dataframe thead tr th {\n",
              "        text-align: left;\n",
              "    }\n",
              "</style>\n",
              "<table border=\"1\" class=\"dataframe\">\n",
              "  <thead>\n",
              "    <tr>\n",
              "      <th></th>\n",
              "      <th>vector1</th>\n",
              "    </tr>\n",
              "    <tr>\n",
              "      <th></th>\n",
              "      <th>1</th>\n",
              "    </tr>\n",
              "  </thead>\n",
              "  <tbody>\n",
              "    <tr>\n",
              "      <th>T</th>\n",
              "      <td>365.719235</td>\n",
              "    </tr>\n",
              "  </tbody>\n",
              "</table>\n",
              "</div>"
            ],
            "text/plain": [
              "      vector1\n",
              "            1\n",
              "T  365.719235"
            ]
          },
          "metadata": {
            "tags": []
          },
          "execution_count": 7
        }
      ]
    },
    {
      "cell_type": "code",
      "metadata": {
        "id": "la6LKWnhBaxh",
        "colab_type": "code",
        "colab": {
          "base_uri": "https://localhost:8080/",
          "height": 160
        },
        "outputId": "73de83be-16f2-4a77-9175-7b76e7783c96"
      },
      "source": [
        "# Dataframe of intermediate results\n",
        "vsc.rdf"
      ],
      "execution_count": 8,
      "outputs": [
        {
          "output_type": "execute_result",
          "data": {
            "text/html": [
              "<div>\n",
              "<style scoped>\n",
              "    .dataframe tbody tr th:only-of-type {\n",
              "        vertical-align: middle;\n",
              "    }\n",
              "\n",
              "    .dataframe tbody tr th {\n",
              "        vertical-align: top;\n",
              "    }\n",
              "\n",
              "    .dataframe thead tr th {\n",
              "        text-align: left;\n",
              "    }\n",
              "</style>\n",
              "<table border=\"1\" class=\"dataframe\">\n",
              "  <thead>\n",
              "    <tr>\n",
              "      <th></th>\n",
              "      <th>vector1</th>\n",
              "    </tr>\n",
              "    <tr>\n",
              "      <th></th>\n",
              "      <th>1</th>\n",
              "    </tr>\n",
              "  </thead>\n",
              "  <tbody>\n",
              "    <tr>\n",
              "      <th>Pw</th>\n",
              "      <td>77275.424390</td>\n",
              "    </tr>\n",
              "    <tr>\n",
              "      <th>V_vap</th>\n",
              "      <td>0.008995</td>\n",
              "    </tr>\n",
              "  </tbody>\n",
              "</table>\n",
              "</div>"
            ],
            "text/plain": [
              "            vector1\n",
              "                  1\n",
              "Pw     77275.424390\n",
              "V_vap      0.008995"
            ]
          },
          "metadata": {
            "tags": []
          },
          "execution_count": 8
        }
      ]
    },
    {
      "cell_type": "code",
      "metadata": {
        "id": "OWIzSYZdBdBx",
        "colab_type": "code",
        "colab": {
          "base_uri": "https://localhost:8080/",
          "height": 343
        },
        "outputId": "ea7654d6-29c6-4222-e877-5113df3076ff"
      },
      "source": [
        "# Dataframe of static state parameters\n",
        "vsc.sdf"
      ],
      "execution_count": 9,
      "outputs": [
        {
          "output_type": "execute_result",
          "data": {
            "text/html": [
              "<div>\n",
              "<style scoped>\n",
              "    .dataframe tbody tr th:only-of-type {\n",
              "        vertical-align: middle;\n",
              "    }\n",
              "\n",
              "    .dataframe tbody tr th {\n",
              "        vertical-align: top;\n",
              "    }\n",
              "\n",
              "    .dataframe thead tr th {\n",
              "        text-align: left;\n",
              "    }\n",
              "</style>\n",
              "<table border=\"1\" class=\"dataframe\">\n",
              "  <thead>\n",
              "    <tr>\n",
              "      <th></th>\n",
              "      <th>vector1</th>\n",
              "    </tr>\n",
              "    <tr>\n",
              "      <th></th>\n",
              "      <th>1</th>\n",
              "    </tr>\n",
              "  </thead>\n",
              "  <tbody>\n",
              "    <tr>\n",
              "      <th>W_tot</th>\n",
              "      <td>1.000000</td>\n",
              "    </tr>\n",
              "    <tr>\n",
              "      <th>V_tot</th>\n",
              "      <td>0.010000</td>\n",
              "    </tr>\n",
              "    <tr>\n",
              "      <th>P_i</th>\n",
              "      <td>100000.000000</td>\n",
              "    </tr>\n",
              "    <tr>\n",
              "      <th>P_f</th>\n",
              "      <td>200000.000000</td>\n",
              "    </tr>\n",
              "    <tr>\n",
              "      <th>T_i</th>\n",
              "      <td>298.000000</td>\n",
              "    </tr>\n",
              "    <tr>\n",
              "      <th>Vw_i</th>\n",
              "      <td>0.001005</td>\n",
              "    </tr>\n",
              "    <tr>\n",
              "      <th>Vair_i</th>\n",
              "      <td>0.008995</td>\n",
              "    </tr>\n",
              "    <tr>\n",
              "      <th>air_n</th>\n",
              "      <td>0.363057</td>\n",
              "    </tr>\n",
              "  </tbody>\n",
              "</table>\n",
              "</div>"
            ],
            "text/plain": [
              "              vector1\n",
              "                    1\n",
              "W_tot        1.000000\n",
              "V_tot        0.010000\n",
              "P_i     100000.000000\n",
              "P_f     200000.000000\n",
              "T_i        298.000000\n",
              "Vw_i         0.001005\n",
              "Vair_i       0.008995\n",
              "air_n        0.363057"
            ]
          },
          "metadata": {
            "tags": []
          },
          "execution_count": 9
        }
      ]
    },
    {
      "cell_type": "code",
      "metadata": {
        "id": "OGTRBUuRBfLZ",
        "colab_type": "code",
        "colab": {}
      },
      "source": [
        "def model2(c,r):\n",
        "    Pw = p.Pvap(c.T)[3]\n",
        "    r.V_vap = c.V_tot - c.Vw_i \n",
        "    r.W_n_vap = Pw * r.V_vap / (R * c.T) \n",
        "    P = (s.air_n + r.W_n_vap) * R * c.T / r.V_vap\n",
        "\n",
        "    # Pressures and number of moles have vastly different order of magnitude\n",
        "    # Scale each to order 1 before combining sum square deviations\n",
        "    # Return r - store for intermediate results for reporting\n",
        "    return ((s.P_f - P)/(s.P_f+P))**2 + ((r.W_n_vap - c.W_n_vap_desired)/(r.W_n_vap + 0.3))**2"
      ],
      "execution_count": 10,
      "outputs": []
    },
    {
      "cell_type": "code",
      "metadata": {
        "id": "TpN7mjSsBmNB",
        "colab_type": "code",
        "colab": {}
      },
      "source": [
        "s=DotMap()\n",
        "s.W_tot = 1. # 1 kg\n",
        "s.V_tot = 0.01 # 10 Liters\n",
        "s.P_i = 1e5 # Pa air pressure\n",
        "s.P_f = 2e5 # Pa final pressure\n",
        "s.T_i = 298.\n",
        "s.W_n_vap_desired = 0.3\n",
        "\n",
        "s.Vw_i = s.W_tot/p.rhol(s.T_i)[3]\n",
        "s.Vair_i = s.V_tot - s.Vw_i\n",
        "s.air_n = s.P_i * s.Vair_i / (R * s.T_i)\n",
        "\n",
        "v=DotMap()\n",
        "v.T = Range(350, 300, 400)\n",
        "v.V_tot = Range(0.015, 0., 0.03)"
      ],
      "execution_count": 11,
      "outputs": []
    },
    {
      "cell_type": "code",
      "metadata": {
        "id": "uRtZ1POEBrGY",
        "colab_type": "code",
        "colab": {
          "base_uri": "https://localhost:8080/",
          "height": 319
        },
        "outputId": "41a46507-5932-4b5a-9c2a-ce1a48fad0c2"
      },
      "source": [
        "vsc=VSC(v,s, model2)\n",
        "vsc.minimize()"
      ],
      "execution_count": 12,
      "outputs": [
        {
          "output_type": "stream",
          "text": [
            "0.10764694306583505\n",
            "0.006849384312309694\n",
            "0.006849384312309694\n",
            "0.0006041999365723974\n",
            "0.0006041999365723974\n",
            "0.00011308656369463022\n",
            "6.282090781480474e-08\n",
            "6.282090781480474e-08\n",
            "6.282090781480474e-08\n",
            "7.758557021072123e-09\n",
            "7.758557021072123e-09\n",
            "3.4333762739728e-14\n",
            "3.4333762739728e-14\n",
            "3.4333762739728e-14\n",
            "3.4333762739728e-14\n",
            "3.4333762739728e-14\n",
            "8.930295735303504e-20\n"
          ],
          "name": "stdout"
        }
      ]
    },
    {
      "cell_type": "code",
      "metadata": {
        "id": "inFycq5pBsyh",
        "colab_type": "code",
        "colab": {
          "base_uri": "https://localhost:8080/",
          "height": 160
        },
        "outputId": "6f670c8f-e23b-4d33-e4c2-d466932aca79"
      },
      "source": [
        "vsc.vdf"
      ],
      "execution_count": 13,
      "outputs": [
        {
          "output_type": "execute_result",
          "data": {
            "text/html": [
              "<div>\n",
              "<style scoped>\n",
              "    .dataframe tbody tr th:only-of-type {\n",
              "        vertical-align: middle;\n",
              "    }\n",
              "\n",
              "    .dataframe tbody tr th {\n",
              "        vertical-align: top;\n",
              "    }\n",
              "\n",
              "    .dataframe thead tr th {\n",
              "        text-align: left;\n",
              "    }\n",
              "</style>\n",
              "<table border=\"1\" class=\"dataframe\">\n",
              "  <thead>\n",
              "    <tr>\n",
              "      <th></th>\n",
              "      <th>vector1</th>\n",
              "    </tr>\n",
              "    <tr>\n",
              "      <th></th>\n",
              "      <th>1</th>\n",
              "    </tr>\n",
              "  </thead>\n",
              "  <tbody>\n",
              "    <tr>\n",
              "      <th>T</th>\n",
              "      <td>370.005638</td>\n",
              "    </tr>\n",
              "    <tr>\n",
              "      <th>V_tot</th>\n",
              "      <td>0.011204</td>\n",
              "    </tr>\n",
              "  </tbody>\n",
              "</table>\n",
              "</div>"
            ],
            "text/plain": [
              "          vector1\n",
              "                1\n",
              "T      370.005638\n",
              "V_tot    0.011204"
            ]
          },
          "metadata": {
            "tags": []
          },
          "execution_count": 13
        }
      ]
    },
    {
      "cell_type": "code",
      "metadata": {
        "id": "Bx1xAru5BvLx",
        "colab_type": "code",
        "colab": {
          "base_uri": "https://localhost:8080/",
          "height": 160
        },
        "outputId": "748aabea-7865-449f-ca62-e0badaa92f52"
      },
      "source": [
        "vsc.rdf"
      ],
      "execution_count": 14,
      "outputs": [
        {
          "output_type": "execute_result",
          "data": {
            "text/html": [
              "<div>\n",
              "<style scoped>\n",
              "    .dataframe tbody tr th:only-of-type {\n",
              "        vertical-align: middle;\n",
              "    }\n",
              "\n",
              "    .dataframe tbody tr th {\n",
              "        vertical-align: top;\n",
              "    }\n",
              "\n",
              "    .dataframe thead tr th {\n",
              "        text-align: left;\n",
              "    }\n",
              "</style>\n",
              "<table border=\"1\" class=\"dataframe\">\n",
              "  <thead>\n",
              "    <tr>\n",
              "      <th></th>\n",
              "      <th>vector1</th>\n",
              "    </tr>\n",
              "    <tr>\n",
              "      <th></th>\n",
              "      <th>1</th>\n",
              "    </tr>\n",
              "  </thead>\n",
              "  <tbody>\n",
              "    <tr>\n",
              "      <th>V_vap</th>\n",
              "      <td>0.010199</td>\n",
              "    </tr>\n",
              "    <tr>\n",
              "      <th>W_n_vap</th>\n",
              "      <td>0.300000</td>\n",
              "    </tr>\n",
              "  </tbody>\n",
              "</table>\n",
              "</div>"
            ],
            "text/plain": [
              "          vector1\n",
              "                1\n",
              "V_vap    0.010199\n",
              "W_n_vap  0.300000"
            ]
          },
          "metadata": {
            "tags": []
          },
          "execution_count": 14
        }
      ]
    },
    {
      "cell_type": "code",
      "metadata": {
        "id": "uwkqXTaSBv8R",
        "colab_type": "code",
        "colab": {}
      },
      "source": [
        "def model3(c, r):\n",
        "    Pw = p.Pvap(c.T)[3]\n",
        "    # volume of liquid water lost as water vapor ignored in model1\n",
        "    r.v_w_vap = c.W_n_vap*18e-3/1e3\n",
        "    V_vap = c.V_tot - (c.Vw_i - r.v_w_vap)\n",
        "    r.W_n_vap = Pw * V_vap / (R * c.T)\n",
        "    P = (s.air_n + r.W_n_vap) * R * c.T / V_vap\n",
        "\n",
        "    # add consistency constraint for moles of water vapor\n",
        "    return ((s.P_f - P)/(s.P_f + P))**2 + ((c.W_n_vap - r.W_n_vap)/(c.W_n_vap + r.W_n_vap))**2"
      ],
      "execution_count": 17,
      "outputs": []
    },
    {
      "cell_type": "code",
      "metadata": {
        "id": "28s_r1OzByq6",
        "colab_type": "code",
        "colab": {}
      },
      "source": [
        "s=DotMap()\n",
        "s.W_tot = 1. # 1 kg\n",
        "s.V_tot = 0.01 # 10 Liters\n",
        "s.P_i = 1e5 # Pa air pressure\n",
        "s.P_f = 2e5 # Pa final pressure\n",
        "s.T_i = 298.\n",
        "\n",
        "s.Vw_i = s.W_tot/p.rhol(s.T_i)[3]\n",
        "s.Vair_i = s.V_tot - s.Vw_i\n",
        "s.air_n = s.P_i * s.Vair_i / (R * s.T_i)\n",
        "\n",
        "v=DotMap()\n",
        "v.T = Range(350., 300., 400.)\n",
        "v.W_n_vap = Range(1., 0., 2.) # moles of water vapor\n",
        "\n",
        "vsc=VSC(v,s, model3)\n",
        "vsc.minimize(verbosity=0)"
      ],
      "execution_count": 18,
      "outputs": []
    },
    {
      "cell_type": "code",
      "metadata": {
        "id": "wtrMW17OB3-r",
        "colab_type": "code",
        "colab": {
          "base_uri": "https://localhost:8080/",
          "height": 160
        },
        "outputId": "ba4e3976-8ac4-4df5-bf49-35ae22fbfaaa"
      },
      "source": [
        "vsc.rdf"
      ],
      "execution_count": 19,
      "outputs": [
        {
          "output_type": "execute_result",
          "data": {
            "text/html": [
              "<div>\n",
              "<style scoped>\n",
              "    .dataframe tbody tr th:only-of-type {\n",
              "        vertical-align: middle;\n",
              "    }\n",
              "\n",
              "    .dataframe tbody tr th {\n",
              "        vertical-align: top;\n",
              "    }\n",
              "\n",
              "    .dataframe thead tr th {\n",
              "        text-align: left;\n",
              "    }\n",
              "</style>\n",
              "<table border=\"1\" class=\"dataframe\">\n",
              "  <thead>\n",
              "    <tr>\n",
              "      <th></th>\n",
              "      <th>vector1</th>\n",
              "    </tr>\n",
              "    <tr>\n",
              "      <th></th>\n",
              "      <th>1</th>\n",
              "    </tr>\n",
              "  </thead>\n",
              "  <tbody>\n",
              "    <tr>\n",
              "      <th>v_w_vap</th>\n",
              "      <td>0.000004</td>\n",
              "    </tr>\n",
              "    <tr>\n",
              "      <th>W_n_vap</th>\n",
              "      <td>0.228847</td>\n",
              "    </tr>\n",
              "  </tbody>\n",
              "</table>\n",
              "</div>"
            ],
            "text/plain": [
              "          vector1\n",
              "                1\n",
              "v_w_vap  0.000004\n",
              "W_n_vap  0.228847"
            ]
          },
          "metadata": {
            "tags": []
          },
          "execution_count": 19
        }
      ]
    },
    {
      "cell_type": "code",
      "metadata": {
        "id": "qrouIqalB56R",
        "colab_type": "code",
        "colab": {
          "base_uri": "https://localhost:8080/",
          "height": 71
        },
        "outputId": "266e64ac-29c9-48d6-d154-a6919151f3a3"
      },
      "source": [
        "vsc.rdf.values # raw numbers\n",
        "# only 4e-6 m3 of liquid water is lost to the vapor phase compared to the initial\n",
        "# 1e-3 m3 of liquid water."
      ],
      "execution_count": 20,
      "outputs": [
        {
          "output_type": "execute_result",
          "data": {
            "text/plain": [
              "array([[4.11925524e-06],\n",
              "       [2.28847490e-01]])"
            ]
          },
          "metadata": {
            "tags": []
          },
          "execution_count": 20
        }
      ]
    },
    {
      "cell_type": "code",
      "metadata": {
        "id": "y_Dv_FRIB74T",
        "colab_type": "code",
        "colab": {
          "base_uri": "https://localhost:8080/",
          "height": 160
        },
        "outputId": "dceb395f-7198-487f-9f21-3a7d650ce89b"
      },
      "source": [
        "vsc.vdf"
      ],
      "execution_count": 21,
      "outputs": [
        {
          "output_type": "execute_result",
          "data": {
            "text/html": [
              "<div>\n",
              "<style scoped>\n",
              "    .dataframe tbody tr th:only-of-type {\n",
              "        vertical-align: middle;\n",
              "    }\n",
              "\n",
              "    .dataframe tbody tr th {\n",
              "        vertical-align: top;\n",
              "    }\n",
              "\n",
              "    .dataframe thead tr th {\n",
              "        text-align: left;\n",
              "    }\n",
              "</style>\n",
              "<table border=\"1\" class=\"dataframe\">\n",
              "  <thead>\n",
              "    <tr>\n",
              "      <th></th>\n",
              "      <th>vector1</th>\n",
              "    </tr>\n",
              "    <tr>\n",
              "      <th></th>\n",
              "      <th>1</th>\n",
              "    </tr>\n",
              "  </thead>\n",
              "  <tbody>\n",
              "    <tr>\n",
              "      <th>T</th>\n",
              "      <td>365.736688</td>\n",
              "    </tr>\n",
              "    <tr>\n",
              "      <th>W_n_vap</th>\n",
              "      <td>0.228848</td>\n",
              "    </tr>\n",
              "  </tbody>\n",
              "</table>\n",
              "</div>"
            ],
            "text/plain": [
              "            vector1\n",
              "                  1\n",
              "T        365.736688\n",
              "W_n_vap    0.228848"
            ]
          },
          "metadata": {
            "tags": []
          },
          "execution_count": 21
        }
      ]
    },
    {
      "cell_type": "code",
      "metadata": {
        "id": "B89ps44oB9Ra",
        "colab_type": "code",
        "colab": {}
      },
      "source": [
        ""
      ],
      "execution_count": null,
      "outputs": []
    }
  ]
}