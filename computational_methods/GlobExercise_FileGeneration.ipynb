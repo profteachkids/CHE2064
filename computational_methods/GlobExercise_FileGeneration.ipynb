{
  "nbformat": 4,
  "nbformat_minor": 0,
  "metadata": {
    "colab": {
      "name": "GlobExercise_FileGeneration.ipynb",
      "provenance": [],
      "collapsed_sections": [],
      "authorship_tag": "ABX9TyM6UQKJqJEj3BxLSG6vlSSu",
      "include_colab_link": true
    },
    "kernelspec": {
      "name": "python3",
      "display_name": "Python 3"
    }
  },
  "cells": [
    {
      "cell_type": "markdown",
      "metadata": {
        "id": "view-in-github",
        "colab_type": "text"
      },
      "source": [
        "<a href=\"https://colab.research.google.com/github/profteachkids/CHE2064/blob/master/GlobExercise_FileGeneration.ipynb\" target=\"_parent\"><img src=\"https://colab.research.google.com/assets/colab-badge.svg\" alt=\"Open In Colab\"/></a>"
      ]
    },
    {
      "cell_type": "code",
      "metadata": {
        "id": "8WhlNcOH3ars",
        "colab_type": "code",
        "colab": {}
      },
      "source": [
        "import numpy as np\n",
        "import datetime\n",
        "import time\n",
        "import os\n",
        "import shutil\n",
        "\n"
      ],
      "execution_count": 76,
      "outputs": []
    },
    {
      "cell_type": "code",
      "metadata": {
        "id": "vvxoWqbp9i91",
        "colab_type": "code",
        "colab": {}
      },
      "source": [
        "!cd /content\n",
        "!rm -rf SampleA"
      ],
      "execution_count": 46,
      "outputs": []
    },
    {
      "cell_type": "code",
      "metadata": {
        "id": "0uxhNNHc52Ze",
        "colab_type": "code",
        "colab": {}
      },
      "source": [
        "shutil.rmtree('/content/data')\n",
        "os.chdir('/content')\n",
        "\n",
        "os.mkdir('data')\n",
        "os.chdir('data')\n",
        "for name in ['SampleA', 'SampleB', 'SampleC', 'SampleD']:\n",
        "  os.mkdir(name)\n",
        "  os.chdir(name)\n",
        "  for month in ['Jan', 'Feb', 'Mar']:\n",
        "    os.mkdir(month)\n",
        "    os.chdir(month)\n",
        "    for day in range(1,28,3):\n",
        "      x=np.random.normal(loc=np.linspace(0,10,50), scale=0.5)\n",
        "      y=np.random.randint(-5,5)*x + np.random.randint(-5,5)\n",
        "      y=np.random.normal(loc=y,scale=np.abs(0.1*y))\n",
        "      data = np.stack((x,y),axis=-1)\n",
        "      np.savetxt(f'Day:{day}',data,delimiter=',',fmt='%10.4f')\n",
        "    os.chdir('..')\n",
        "  os.chdir('..')\n"
      ],
      "execution_count": 77,
      "outputs": []
    },
    {
      "cell_type": "code",
      "metadata": {
        "id": "bwCMHsts3oYk",
        "colab_type": "code",
        "colab": {
          "base_uri": "https://localhost:8080/",
          "height": 58
        },
        "outputId": "bef5dfba-55b0-419d-eb40-7be8c2344c65"
      },
      "source": [
        "shutil.make_archive('glob_data','zip',Path('/content/data'))"
      ],
      "execution_count": 87,
      "outputs": [
        {
          "output_type": "execute_result",
          "data": {
            "application/vnd.google.colaboratory.intrinsic+json": {
              "type": "string"
            },
            "text/plain": [
              "'/content/data/data.zip'"
            ]
          },
          "metadata": {
            "tags": []
          },
          "execution_count": 87
        }
      ]
    },
    {
      "cell_type": "code",
      "metadata": {
        "id": "hWfWaDkP3wG5",
        "colab_type": "code",
        "colab": {}
      },
      "source": [
        "os.chdir('/content/data')"
      ],
      "execution_count": 81,
      "outputs": []
    },
    {
      "cell_type": "code",
      "metadata": {
        "id": "y8Yig9N57Oqj",
        "colab_type": "code",
        "colab": {
          "base_uri": "https://localhost:8080/",
          "height": 54
        },
        "outputId": "d8c6b544-abcd-4006-c769-a3bed23e06dd"
      },
      "source": [
        "Path('/content/data')"
      ],
      "execution_count": 82,
      "outputs": [
        {
          "output_type": "execute_result",
          "data": {
            "text/plain": [
              "PosixPath('/content/data')"
            ]
          },
          "metadata": {
            "tags": []
          },
          "execution_count": 82
        }
      ]
    },
    {
      "cell_type": "code",
      "metadata": {
        "id": "5w284c3r8_iV",
        "colab_type": "code",
        "colab": {}
      },
      "source": [
        "!cd /content"
      ],
      "execution_count": 59,
      "outputs": []
    },
    {
      "cell_type": "code",
      "metadata": {
        "id": "0VL74HRq-ens",
        "colab_type": "code",
        "colab": {
          "base_uri": "https://localhost:8080/",
          "height": 54
        },
        "outputId": "4bdc2fd0-4d50-4734-b6e4-ade5e6fabc3c"
      },
      "source": [
        "cd /content"
      ],
      "execution_count": 70,
      "outputs": [
        {
          "output_type": "stream",
          "text": [
            "/content\n"
          ],
          "name": "stdout"
        }
      ]
    },
    {
      "cell_type": "code",
      "metadata": {
        "id": "IAMKCycC_DHy",
        "colab_type": "code",
        "colab": {
          "base_uri": "https://localhost:8080/",
          "height": 54
        },
        "outputId": "0d06ee11-4dfa-48b5-960a-9d8908141bf8"
      },
      "source": [
        "ls"
      ],
      "execution_count": 73,
      "outputs": [
        {
          "output_type": "stream",
          "text": [
            "\u001b[0m\u001b[01;34msample_data\u001b[0m/\n"
          ],
          "name": "stdout"
        }
      ]
    },
    {
      "cell_type": "code",
      "metadata": {
        "id": "cfr_DAJQ_b_Z",
        "colab_type": "code",
        "colab": {}
      },
      "source": [
        ""
      ],
      "execution_count": null,
      "outputs": []
    }
  ]
}