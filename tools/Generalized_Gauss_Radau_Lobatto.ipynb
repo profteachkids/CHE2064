{
  "nbformat": 4,
  "nbformat_minor": 0,
  "metadata": {
    "colab": {
      "name": "Generalized_Gauss_Radau_Lobatto.ipynb",
      "provenance": [],
      "collapsed_sections": []
    },
    "kernelspec": {
      "name": "python3",
      "display_name": "Python 3"
    }
  },
  "cells": [
    {
      "cell_type": "code",
      "metadata": {
        "id": "qAsDL2J36KJ3",
        "colab_type": "code",
        "colab": {}
      },
      "source": [
        "import numpy as np\n",
        "from scipy.special import gamma, poch, comb, roots_jacobi, jacobi\n",
        "import functools\n",
        "import math"
      ],
      "execution_count": 0,
      "outputs": []
    },
    {
      "cell_type": "code",
      "metadata": {
        "id": "RRLRUW268CZO",
        "colab_type": "code",
        "colab": {}
      },
      "source": [
        "@functools.lru_cache(1000)\n",
        "def I(m, alpha, beta, delta):\n",
        "  return ((2**(delta+beta+1)) * gamma(delta+1)*gamma(beta+1+m)*gamma(alpha-delta+m)\n",
        "  /(poch(alpha+1,m)*gamma(beta+delta+2+m)*gamma(alpha-delta) ))"
      ],
      "execution_count": 0,
      "outputs": []
    },
    {
      "cell_type": "code",
      "metadata": {
        "id": "G7vdYxoWa3wq",
        "colab_type": "code",
        "colab": {}
      },
      "source": [
        "@functools.lru_cache(1000)\n",
        "def Omega(m, alpha, beta, l):\n",
        "  if l==0:\n",
        "    return poch(alpha+1,m)\n",
        "  elif l>m:\n",
        "    return 0\n",
        "  else:\n",
        "    return poch(m-l+1,l)*poch(alpha+beta+m+1,l)*poch(alpha+l+1,m-l)/ (2**l)\n",
        "\n",
        "@functools.lru_cache(1000)\n",
        "def Psi(m, alpha, beta, l):\n",
        "  if l==0:\n",
        "    return poch(beta+1,m)\n",
        "  elif l>m:\n",
        "    return 0\n",
        "  else:\n",
        "    return (-1)**l* poch(m-l+1,l)*poch(alpha+beta+m+1,l)*poch(beta+l+1,m-l) / (2**l)\n",
        "\n",
        "@functools.lru_cache(1000)\n",
        "def Delta(m, alpha, beta):\n",
        "\n",
        "  return (2**(alpha+beta-1)*gamma(m+alpha+1)*gamma(m+beta+1)*((2*m+alpha+beta+2)**2)/\n",
        "                          (gamma(m+1)*gamma(m+alpha+beta+1)* ((m+1)**2) * ((m+alpha+beta+1)**2)))"
      ],
      "execution_count": 0,
      "outputs": []
    },
    {
      "cell_type": "code",
      "metadata": {
        "id": "Rsa6w6fXgWeJ",
        "colab_type": "code",
        "colab": {}
      },
      "source": [
        "@functools.lru_cache(1000)\n",
        "def type1(m, r, alpha, beta):\n",
        "  x, _ = roots_jacobi(m,alpha+r+1,beta)\n",
        "\n",
        "  @functools.lru_cache(1000)\n",
        "  def e(i):\n",
        "    if i==r:\n",
        "      return (-1)**r/math.factorial(r)*I(m, alpha+r+1,beta,alpha+r)\n",
        "    else:\n",
        "      sum_term = sum(map(lambda s: e(s)*comb(s,i)*Omega(m, alpha+r+1,beta, s-i), range(i+1,r+1)))\n",
        "      return (-1)**i/math.factorial(i)*I(m, alpha+r+1,beta,alpha+i)-sum_term/poch(alpha+r+2,m)\n",
        "\n",
        "  def d(j):\n",
        "    return (Delta(m, alpha+r+1,beta)*(1+x[j])/(1-x[j])**r/(jacobi(m+1,alpha+r+1,beta)(x[j]))**2)\n",
        "\n",
        "  return x, np.array(list(map(d, range(m)))), np.array(list(map(lambda i: e(i), range(r+1))))"
      ],
      "execution_count": 0,
      "outputs": []
    },
    {
      "cell_type": "code",
      "metadata": {
        "id": "7f62RXVXdLxQ",
        "colab_type": "code",
        "outputId": "2c7fbe31-6732-4974-fbc6-71221861a290",
        "colab": {
          "base_uri": "https://localhost:8080/",
          "height": 143
        }
      },
      "source": [
        "type1(m=7, r=4, alpha= -1/3 ,beta= 9/5)"
      ],
      "execution_count": 5,
      "outputs": [
        {
          "output_type": "execute_result",
          "data": {
            "text/plain": [
              "(array([-0.89314137, -0.71164856, -0.46606317, -0.1770745 ,  0.13098095,\n",
              "         0.4324918 ,  0.70399882]),\n",
              " array([0.00207763, 0.01930467, 0.07713412, 0.20191162, 0.40414103,\n",
              "        0.66884323, 0.98217162]),\n",
              " array([ 1.56104061e+00, -9.71652396e-02,  3.98143613e-03, -9.37262968e-05,\n",
              "         9.91762155e-07]))"
            ]
          },
          "metadata": {
            "tags": []
          },
          "execution_count": 5
        }
      ]
    },
    {
      "cell_type": "code",
      "metadata": {
        "id": "l696EEdLhMEa",
        "colab_type": "code",
        "colab": {}
      },
      "source": [
        "@functools.lru_cache(1000)\n",
        "def type2(m, k, alpha, beta):\n",
        "  y, _ = roots_jacobi(m,alpha,beta+k+1)\n",
        "\n",
        "  @functools.lru_cache(1000)\n",
        "  def c(i):\n",
        "    if i==k:\n",
        "      return I(m, beta+k+1,alpha, beta+k)/math.factorial(k)\n",
        "    else:\n",
        "      sum_term = sum(map(lambda s: c(s)*comb(s,i)*Psi(m, alpha, beta+k+1, s-i), range(i+1,k+1)))\n",
        "      return I(m, beta+k+1, alpha, beta+i)/math.factorial(i) - sum_term/poch(beta+k+2,m)\n",
        "\n",
        "  def b(j):\n",
        "    return (Delta(m, alpha, beta+k+1)*(1-y[j])/(1+y[j])**k/(jacobi(m+1,alpha,beta+k+1)(y[j]))**2)\n",
        "\n",
        "  return y, np.array(list(map(b, range(m)))), np.array(list(map(lambda i: c(i), range(k+1))))"
      ],
      "execution_count": 0,
      "outputs": []
    },
    {
      "cell_type": "code",
      "metadata": {
        "id": "5hD904xWO1Di",
        "colab_type": "code",
        "outputId": "446eb1d1-e7ae-4e9d-dd15-73d2cbda8e7c",
        "colab": {
          "base_uri": "https://localhost:8080/",
          "height": 143
        }
      },
      "source": [
        "type2(m=7, k=4, alpha = 3/5, beta= -1/8)"
      ],
      "execution_count": 7,
      "outputs": [
        {
          "output_type": "execute_result",
          "data": {
            "text/plain": [
              "(array([-0.65942958, -0.36080952, -0.0378913 ,  0.28182959,  0.56920852,\n",
              "         0.79767534,  0.94600231]),\n",
              " array([0.43354878, 0.40060633, 0.33520123, 0.24503505, 0.14940954,\n",
              "        0.0681831 , 0.01643965]),\n",
              " array([4.23341973e-01, 3.55565566e-02, 1.72489124e-03, 4.65678271e-05,\n",
              "        5.56896093e-07]))"
            ]
          },
          "metadata": {
            "tags": []
          },
          "execution_count": 7
        }
      ]
    },
    {
      "cell_type": "code",
      "metadata": {
        "id": "j81bNwkZZAdi",
        "colab_type": "code",
        "colab": {}
      },
      "source": [
        "\n",
        "def type3(m, k, r, alpha, beta):\n",
        "  z, _ = roots_jacobi(m,alpha+r+1,beta+k+1)\n",
        "\n",
        "  @functools.lru_cache(1000)\n",
        "  def Lambda(m, alpha, beta, l, p):\n",
        "    if l==0:\n",
        "      return (2**p)*Psi(m,alpha,beta,0)\n",
        "    elif l>0:\n",
        "      return sum(map(lambda j: comb(l,j)*(2**(p-j)) * ((-1)**j) * poch(p-j+1,j) *\n",
        "                                          Psi(m,alpha,beta,l-j), range(0,l+1)))\n",
        "  @functools.lru_cache(1000)\n",
        "  def lamb(i):\n",
        "    if i==k:\n",
        "      return I(m, beta+k+1,alpha+r+1, beta+k)/ (2**(r+1)) / math.factorial(k)\n",
        "    else:\n",
        "      sum_term = sum(map(lambda s: lamb(s)*comb(s,i)*Lambda(m, alpha+r+1, beta+k+1, s-i, r+1), range(i+1,k+1)))\n",
        "      return (I(m, beta+k+1, alpha+r+1, beta+i)/ (2**(r+1)) / math.factorial(i) -\n",
        "              sum_term /poch(beta+k+2,m) / 2**(r+1))\n",
        "\n",
        "  @functools.lru_cache(1000)\n",
        "  def Theta(m, alpha, beta, l, p):\n",
        "    if l==0:\n",
        "      return (2**p)*Omega(m,alpha,beta,0)\n",
        "    elif l>0:\n",
        "      return sum(map(lambda j: comb(l,j)*((2**(p-j))) * poch(p-j+1,j) *\n",
        "                                          Omega(m,alpha,beta,l-j), range(0,l+1)))\n",
        "\n",
        "  @functools.lru_cache(1000)\n",
        "  def mu(i):\n",
        "    if i==r:\n",
        "      return ((-1)**r)*I(m, alpha+r+1, beta+k+1, alpha+r)/ (2**(k+1)) / math.factorial(r)\n",
        "    else:\n",
        "      sum_term = sum(map(lambda s: mu(s)*comb(s,i)*Theta(m, alpha+r+1, beta+k+1, s-i, k+1), range(i+1,r+1)))\n",
        "      return (((-1)**i) * I(m, alpha+r+1, beta+k+1, alpha+i)/ (2**(k+1)) / math.factorial(i) - \n",
        "              sum_term /poch(alpha+r+2,m) / 2**(k+1))\n",
        "\n",
        "\n",
        "  def omega(j):\n",
        "    return (Delta(m, alpha+r+1, beta+k+1)/ (1+z[j])**k / (1-z[j])**r / (jacobi(m+1,alpha+r+1,beta+k+1)(z[j]))**2)\n",
        "\n",
        "  return (z, np.array(list(map(omega, range(m)))), \n",
        "          np.array(list(map(lambda i: lamb(i), range(k+1)))),\n",
        "          np.array(list(map(lambda i: mu(i), range(r+1))))\n",
        "          )"
      ],
      "execution_count": 0,
      "outputs": []
    },
    {
      "cell_type": "code",
      "metadata": {
        "id": "I8yc1WjSc-a6",
        "colab_type": "code",
        "outputId": "af882ffb-7275-4ea2-a7a2-b4cc170009f3",
        "colab": {
          "base_uri": "https://localhost:8080/",
          "height": 160
        }
      },
      "source": [
        "type3(m=7, k=3, r=4, alpha=-2/3, beta=7/8)"
      ],
      "execution_count": 9,
      "outputs": [
        {
          "output_type": "execute_result",
          "data": {
            "text/plain": [
              "(array([-0.74509545, -0.51298669, -0.2498966 ,  0.02854785,  0.30435584,\n",
              "         0.55963049,  0.77881979]),\n",
              " array([0.04448795, 0.10099557, 0.18339573, 0.29276344, 0.43138727,\n",
              "        0.61034153, 0.89418282]),\n",
              " array([8.88365387e-03, 6.28823495e-04, 1.83110361e-05, 2.07023974e-07]),\n",
              " array([ 2.76594219e+00, -8.19212241e-02,  2.30423325e-03, -3.88282593e-05,\n",
              "         2.96462575e-07]))"
            ]
          },
          "metadata": {
            "tags": []
          },
          "execution_count": 9
        }
      ]
    },
    {
      "cell_type": "code",
      "metadata": {
        "id": "SRtzV5gu5N4J",
        "colab_type": "code",
        "colab": {}
      },
      "source": [
        ""
      ],
      "execution_count": 0,
      "outputs": []
    }
  ]
}