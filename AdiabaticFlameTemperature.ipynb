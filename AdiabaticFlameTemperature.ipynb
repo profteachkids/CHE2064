{
  "nbformat": 4,
  "nbformat_minor": 0,
  "metadata": {
    "kernelspec": {
      "display_name": "Python 3",
      "language": "python",
      "name": "python3"
    },
    "language_info": {
      "codemirror_mode": {
        "name": "ipython",
        "version": 2
      },
      "file_extension": ".py",
      "mimetype": "text/x-python",
      "name": "python",
      "nbconvert_exporter": "python",
      "pygments_lexer": "ipython2",
      "version": "2.7.6"
    },
    "colab": {
      "name": "AdiabaticFlameTemperature.ipynb",
      "provenance": [],
      "include_colab_link": true
    }
  },
  "cells": [
    {
      "cell_type": "markdown",
      "metadata": {
        "id": "view-in-github",
        "colab_type": "text"
      },
      "source": [
        "<a href=\"https://colab.research.google.com/github/profteachkids/CHE2064/blob/master/AdiabaticFlameTemperature.ipynb\" target=\"_parent\"><img src=\"https://colab.research.google.com/assets/colab-badge.svg\" alt=\"Open In Colab\"/></a>"
      ]
    },
    {
      "cell_type": "code",
      "metadata": {
        "id": "uYKuicDOlK0d"
      },
      "source": [
        "!git clone --depth 1 https://github.com/profteachkids/CHE2064.git &> /dev/null\n",
        "!pip install DotMap &> /dev/null\n",
        "import sys\n",
        "sys.path.insert(1, \"/content/CHE2064\") #Path to CHE module imports"
      ],
      "execution_count": 1,
      "outputs": []
    },
    {
      "cell_type": "code",
      "metadata": {
        "pycharm": {
          "name": "#%%\n"
        },
        "id": "T-o9JMyd0K2V"
      },
      "source": [
        "from dotmap import DotMap\n",
        "import pandas as pd\n",
        "import jax\n",
        "from jax.lax import stop_gradient\n",
        "import jax.numpy as jnp\n",
        "from jax.config import config\n",
        "config.update(\"jax_enable_x64\", True) #JAX default is 32bit single precision\n",
        "from tools.tree_array_transform2 import VSC, Comp, Range\n",
        "import tools.che as che\n",
        "R=8.314 # J/(mol K)"
      ],
      "execution_count": 2,
      "outputs": []
    },
    {
      "cell_type": "code",
      "metadata": {
        "id": "v_A52CauwKQ9",
        "outputId": "07be3d57-ddd1-4263-f797-b5252949822c",
        "colab": {
          "base_uri": "https://localhost:8080/"
        }
      },
      "source": [
        "p = che.Props(['Oxygen', 'Nitrogen', 'CarbonDioxide', 'Methane', 'Water'])"
      ],
      "execution_count": 3,
      "outputs": [
        {
          "output_type": "stream",
          "text": [
            "WARNING:absl:No GPU/TPU found, falling back to CPU. (Set TF_CPP_MIN_LOG_LEVEL=0 and rerun for more info.)\n"
          ],
          "name": "stderr"
        }
      ]
    },
    {
      "cell_type": "code",
      "metadata": {
        "id": "flXU0lcDh-sH",
        "outputId": "085bd810-38d7-4065-9485-70bf10a9b0a6",
        "colab": {
          "base_uri": "https://localhost:8080/"
        }
      },
      "source": [
        "p.HfIG"
      ],
      "execution_count": 4,
      "outputs": [
        {
          "output_type": "execute_result",
          "data": {
            "text/plain": [
              "array([      0.        ,       0.        , -393720.98479714,\n",
              "        -74850.        , -241820.        ])"
            ]
          },
          "metadata": {
            "tags": []
          },
          "execution_count": 4
        }
      ]
    },
    {
      "cell_type": "code",
      "metadata": {
        "id": "GTChgIWaiCpO",
        "outputId": "1d4e8d4a-f979-4657-ec1a-2337c61a1bed",
        "colab": {
          "base_uri": "https://localhost:8080/"
        }
      },
      "source": [
        "p.HIG(jnp.array([1.,1., 2., 2., 3.,]), 400.)"
      ],
      "execution_count": 5,
      "outputs": [
        {
          "output_type": "execute_result",
          "data": {
            "text/plain": [
              "DeviceArray(-1630455.82244958, dtype=float64)"
            ]
          },
          "metadata": {
            "tags": []
          },
          "execution_count": 5
        }
      ]
    },
    {
      "cell_type": "code",
      "metadata": {
        "id": "7anVdMOtiCys"
      },
      "source": [
        "def deltaHsensIG(T):\n",
        "        return (p.CpIGA*T + p.CpIGB * p.CpIGC/jnp.tanh(p.CpIGC/T) - p.CpIGD * p.CpIGE * jnp.tanh(p.CpIGE/T))/1000\n"
      ],
      "execution_count": 6,
      "outputs": []
    },
    {
      "cell_type": "code",
      "metadata": {
        "id": "A8kaWMeFi0YP",
        "outputId": "d436914e-61c2-4d9a-fcb8-1e48d44d2494",
        "colab": {
          "base_uri": "https://localhost:8080/"
        }
      },
      "source": [
        "jnp.dot(jnp.array([1.,1., 2., 2., 3.,]), p.HfIG+ deltaHsensIG(400) - deltaHsensIG(298.15))"
      ],
      "execution_count": 7,
      "outputs": [
        {
          "output_type": "execute_result",
          "data": {
            "text/plain": [
              "DeviceArray(-1630455.82244958, dtype=float64)"
            ]
          },
          "metadata": {
            "tags": []
          },
          "execution_count": 7
        }
      ]
    },
    {
      "cell_type": "code",
      "metadata": {
        "id": "X-cvmQKXlTrL",
        "outputId": "2043180a-0ab7-485c-a277-1724fd792a75",
        "colab": {
          "base_uri": "https://localhost:8080/"
        }
      },
      "source": [
        "p.HfIG+ deltaHsensIG(400) - deltaHsensIG(298.15)"
      ],
      "execution_count": 8,
      "outputs": [
        {
          "output_type": "execute_result",
          "data": {
            "text/plain": [
              "DeviceArray([   3022.12507945,    2971.49034285, -389689.10167981,\n",
              "              -70980.61819642, -238369.99937314], dtype=float64)"
            ]
          },
          "metadata": {
            "tags": []
          },
          "execution_count": 8
        }
      ]
    },
    {
      "cell_type": "code",
      "metadata": {
        "id": "DfNF3jKnwSKV"
      },
      "source": [
        "def model(c):\n",
        "    r=DotMap()\n",
        "    r.o2_feed = 2*c.ch4 * (1+c.excess_o2)\n",
        "    r.n2 = r.o2_feed * 79/21\n",
        "    r.co2_prod = c.ch4\n",
        "    r.o2_prod = r.o2_feed - 2*c.ch4\n",
        "\n",
        "    r.nfeed = jnp.array([r.o2_feed, r.n2, 0., c.ch4, 0.])\n",
        "    r.nprod = jnp.array([r.o2_prod, r.n2, r.co2_prod, 0., 2*c.ch4])\n",
        "    r.hfeed = p.HIG(r.nfeed, c.feedT)\n",
        "    r.hprod = p.HIG(r.nprod, c.T)\n",
        "\n",
        "    return  [r.hfeed - r.hprod], r"
      ],
      "execution_count": 9,
      "outputs": []
    },
    {
      "cell_type": "code",
      "metadata": {
        "id": "ksWYw94bwVaL",
        "outputId": "4e17fd0b-1dd0-4bb0-a56f-bcd649f70ab8",
        "colab": {
          "base_uri": "https://localhost:8080/"
        }
      },
      "source": [
        "c=DotMap()\n",
        "c.ch4 = 1.\n",
        "c.excess_o2 = 0.\n",
        "c.feedT = 300\n",
        "c.T = Range(1000., 300., 5000.)\n",
        "\n",
        "vsc = VSC(c, model)\n",
        "vsc.solve()"
      ],
      "execution_count": 10,
      "outputs": [
        {
          "output_type": "stream",
          "text": [
            "[-497723.19380297]\n",
            "[39104.30333949]\n",
            "[-331.78617337]\n",
            "[-0.02030654]\n",
            "[-7.27595761e-11]\n"
          ],
          "name": "stdout"
        }
      ]
    },
    {
      "cell_type": "code",
      "metadata": {
        "id": "j5GDJakMwc80",
        "outputId": "67222adc-8a85-4433-88ec-22db40f6a189",
        "colab": {
          "base_uri": "https://localhost:8080/",
          "height": 204
        }
      },
      "source": [
        "vsc.cdf"
      ],
      "execution_count": 11,
      "outputs": [
        {
          "output_type": "execute_result",
          "data": {
            "text/html": [
              "<div>\n",
              "<style scoped>\n",
              "    .dataframe tbody tr th:only-of-type {\n",
              "        vertical-align: middle;\n",
              "    }\n",
              "\n",
              "    .dataframe tbody tr th {\n",
              "        vertical-align: top;\n",
              "    }\n",
              "\n",
              "    .dataframe thead tr th {\n",
              "        text-align: left;\n",
              "    }\n",
              "</style>\n",
              "<table border=\"1\" class=\"dataframe\">\n",
              "  <thead>\n",
              "    <tr>\n",
              "      <th></th>\n",
              "      <th>vector1</th>\n",
              "    </tr>\n",
              "    <tr>\n",
              "      <th></th>\n",
              "      <th>1</th>\n",
              "    </tr>\n",
              "  </thead>\n",
              "  <tbody>\n",
              "    <tr>\n",
              "      <th>T</th>\n",
              "      <td>2328.340692</td>\n",
              "    </tr>\n",
              "    <tr>\n",
              "      <th>ch4</th>\n",
              "      <td>1.000000</td>\n",
              "    </tr>\n",
              "    <tr>\n",
              "      <th>excess_o2</th>\n",
              "      <td>0.000000</td>\n",
              "    </tr>\n",
              "    <tr>\n",
              "      <th>feedT</th>\n",
              "      <td>300.000000</td>\n",
              "    </tr>\n",
              "  </tbody>\n",
              "</table>\n",
              "</div>"
            ],
            "text/plain": [
              "               vector1\n",
              "                     1\n",
              "T          2328.340692\n",
              "ch4           1.000000\n",
              "excess_o2     0.000000\n",
              "feedT       300.000000"
            ]
          },
          "metadata": {
            "tags": []
          },
          "execution_count": 11
        }
      ]
    },
    {
      "cell_type": "code",
      "metadata": {
        "id": "aC7ff7uKwe61",
        "outputId": "e8be6741-6fdc-4a77-8418-e382a0ec3d04",
        "colab": {
          "base_uri": "https://localhost:8080/",
          "height": 328
        }
      },
      "source": [
        "vsc.rdf"
      ],
      "execution_count": 12,
      "outputs": [
        {
          "output_type": "execute_result",
          "data": {
            "text/html": [
              "<div>\n",
              "<style scoped>\n",
              "    .dataframe tbody tr th:only-of-type {\n",
              "        vertical-align: middle;\n",
              "    }\n",
              "\n",
              "    .dataframe tbody tr th {\n",
              "        vertical-align: top;\n",
              "    }\n",
              "\n",
              "    .dataframe thead tr th {\n",
              "        text-align: left;\n",
              "    }\n",
              "</style>\n",
              "<table border=\"1\" class=\"dataframe\">\n",
              "  <thead>\n",
              "    <tr>\n",
              "      <th></th>\n",
              "      <th>vector1</th>\n",
              "      <th colspan=\"5\" halign=\"left\">vector5</th>\n",
              "    </tr>\n",
              "    <tr>\n",
              "      <th></th>\n",
              "      <th>1</th>\n",
              "      <th>1</th>\n",
              "      <th>2</th>\n",
              "      <th>3</th>\n",
              "      <th>4</th>\n",
              "      <th>5</th>\n",
              "    </tr>\n",
              "  </thead>\n",
              "  <tbody>\n",
              "    <tr>\n",
              "      <th>o2_feed</th>\n",
              "      <td>2</td>\n",
              "      <td></td>\n",
              "      <td></td>\n",
              "      <td></td>\n",
              "      <td></td>\n",
              "      <td></td>\n",
              "    </tr>\n",
              "    <tr>\n",
              "      <th>n2</th>\n",
              "      <td>7.52381</td>\n",
              "      <td></td>\n",
              "      <td></td>\n",
              "      <td></td>\n",
              "      <td></td>\n",
              "      <td></td>\n",
              "    </tr>\n",
              "    <tr>\n",
              "      <th>co2_prod</th>\n",
              "      <td>1</td>\n",
              "      <td></td>\n",
              "      <td></td>\n",
              "      <td></td>\n",
              "      <td></td>\n",
              "      <td></td>\n",
              "    </tr>\n",
              "    <tr>\n",
              "      <th>o2_prod</th>\n",
              "      <td>0</td>\n",
              "      <td></td>\n",
              "      <td></td>\n",
              "      <td></td>\n",
              "      <td></td>\n",
              "      <td></td>\n",
              "    </tr>\n",
              "    <tr>\n",
              "      <th>nfeed</th>\n",
              "      <td></td>\n",
              "      <td>2</td>\n",
              "      <td>7.52381</td>\n",
              "      <td>0</td>\n",
              "      <td>1</td>\n",
              "      <td>0</td>\n",
              "    </tr>\n",
              "    <tr>\n",
              "      <th>nprod</th>\n",
              "      <td></td>\n",
              "      <td>0</td>\n",
              "      <td>7.52381</td>\n",
              "      <td>1</td>\n",
              "      <td>0</td>\n",
              "      <td>2</td>\n",
              "    </tr>\n",
              "    <tr>\n",
              "      <th>hfeed</th>\n",
              "      <td>-74269.9</td>\n",
              "      <td></td>\n",
              "      <td></td>\n",
              "      <td></td>\n",
              "      <td></td>\n",
              "      <td></td>\n",
              "    </tr>\n",
              "    <tr>\n",
              "      <th>hprod</th>\n",
              "      <td>-74269.9</td>\n",
              "      <td></td>\n",
              "      <td></td>\n",
              "      <td></td>\n",
              "      <td></td>\n",
              "      <td></td>\n",
              "    </tr>\n",
              "  </tbody>\n",
              "</table>\n",
              "</div>"
            ],
            "text/plain": [
              "          vector1 vector5                  \n",
              "                1       1        2  3  4  5\n",
              "o2_feed         2                          \n",
              "n2        7.52381                          \n",
              "co2_prod        1                          \n",
              "o2_prod         0                          \n",
              "nfeed                   2  7.52381  0  1  0\n",
              "nprod                   0  7.52381  1  0  2\n",
              "hfeed    -74269.9                          \n",
              "hprod    -74269.9                          "
            ]
          },
          "metadata": {
            "tags": []
          },
          "execution_count": 12
        }
      ]
    },
    {
      "cell_type": "code",
      "metadata": {
        "id": "uagdAuRHwfvl",
        "outputId": "6eaed613-822d-4c5b-8f8c-6d2e76d97ed6",
        "colab": {
          "base_uri": "https://localhost:8080/"
        }
      },
      "source": [
        "vsc.v.T-298.15"
      ],
      "execution_count": 13,
      "outputs": [
        {
          "output_type": "execute_result",
          "data": {
            "text/plain": [
              "DeviceArray(2030.19069164, dtype=float64)"
            ]
          },
          "metadata": {
            "tags": []
          },
          "execution_count": 13
        }
      ]
    },
    {
      "cell_type": "code",
      "metadata": {
        "id": "U-bJ9-VJxd3h"
      },
      "source": [
        "def model2(c):\n",
        "    r=DotMap()\n",
        "    r.o2_feed = 2*c.ch4 * (1+c.excess_o2)\n",
        "    r.n2 = r.o2_feed * 79/21\n",
        "    r.co2_prod = c.ch4\n",
        "    r.o2_prod = r.o2_feed - 2*c.ch4\n",
        "\n",
        "    r.nfeed = jnp.array([r.o2_feed, r.n2, 0., c.ch4, 0.])\n",
        "    r.nprod = jnp.array([r.o2_prod, r.n2, r.co2_prod, 0., 2*c.ch4])\n",
        "    r.hfeed = p.HIG(r.nfeed, c.feedT)\n",
        "    r.hprod = p.HIG(r.nprod, c.T)\n",
        "\n",
        "    return  [r.hfeed - r.hprod], r"
      ],
      "execution_count": 14,
      "outputs": []
    },
    {
      "cell_type": "code",
      "metadata": {
        "id": "ReKLdw6vyH-y",
        "outputId": "120bef3a-7d06-479b-b99b-159e6f2c8a07",
        "colab": {
          "base_uri": "https://localhost:8080/"
        }
      },
      "source": [
        "c=DotMap()\n",
        "c.ch4 = 1.\n",
        "c.feedT = 300\n",
        "c.T = 2000.\n",
        "c.excess_o2 = Range(0.2, 0., 1.)\n",
        "\n",
        "vsc = VSC(c, model)\n",
        "vsc.solve()"
      ],
      "execution_count": 15,
      "outputs": [
        {
          "output_type": "stream",
          "text": [
            "[-4385.7877102]\n",
            "[-40.66902105]\n",
            "[-0.00366965]\n",
            "[4.36557457e-11]\n"
          ],
          "name": "stdout"
        }
      ]
    },
    {
      "cell_type": "code",
      "metadata": {
        "id": "RqQGKH5RybCY",
        "outputId": "ad60daeb-0b1f-4769-a4bc-37b430ad3b2e",
        "colab": {
          "base_uri": "https://localhost:8080/",
          "height": 111
        }
      },
      "source": [
        "vsc.vdf"
      ],
      "execution_count": 16,
      "outputs": [
        {
          "output_type": "execute_result",
          "data": {
            "text/html": [
              "<div>\n",
              "<style scoped>\n",
              "    .dataframe tbody tr th:only-of-type {\n",
              "        vertical-align: middle;\n",
              "    }\n",
              "\n",
              "    .dataframe tbody tr th {\n",
              "        vertical-align: top;\n",
              "    }\n",
              "\n",
              "    .dataframe thead tr th {\n",
              "        text-align: left;\n",
              "    }\n",
              "</style>\n",
              "<table border=\"1\" class=\"dataframe\">\n",
              "  <thead>\n",
              "    <tr>\n",
              "      <th></th>\n",
              "      <th>vector1</th>\n",
              "    </tr>\n",
              "    <tr>\n",
              "      <th></th>\n",
              "      <th>1</th>\n",
              "    </tr>\n",
              "  </thead>\n",
              "  <tbody>\n",
              "    <tr>\n",
              "      <th>excess_o2</th>\n",
              "      <td>0.265989</td>\n",
              "    </tr>\n",
              "  </tbody>\n",
              "</table>\n",
              "</div>"
            ],
            "text/plain": [
              "            vector1\n",
              "                  1\n",
              "excess_o2  0.265989"
            ]
          },
          "metadata": {
            "tags": []
          },
          "execution_count": 16
        }
      ]
    },
    {
      "cell_type": "code",
      "metadata": {
        "id": "gU_v6kBdyc0Q",
        "outputId": "8c1af6f2-b639-4556-8db3-ebcba42d45c2",
        "colab": {
          "base_uri": "https://localhost:8080/",
          "height": 204
        }
      },
      "source": [
        "vsc.cdf"
      ],
      "execution_count": 17,
      "outputs": [
        {
          "output_type": "execute_result",
          "data": {
            "text/html": [
              "<div>\n",
              "<style scoped>\n",
              "    .dataframe tbody tr th:only-of-type {\n",
              "        vertical-align: middle;\n",
              "    }\n",
              "\n",
              "    .dataframe tbody tr th {\n",
              "        vertical-align: top;\n",
              "    }\n",
              "\n",
              "    .dataframe thead tr th {\n",
              "        text-align: left;\n",
              "    }\n",
              "</style>\n",
              "<table border=\"1\" class=\"dataframe\">\n",
              "  <thead>\n",
              "    <tr>\n",
              "      <th></th>\n",
              "      <th>vector1</th>\n",
              "    </tr>\n",
              "    <tr>\n",
              "      <th></th>\n",
              "      <th>1</th>\n",
              "    </tr>\n",
              "  </thead>\n",
              "  <tbody>\n",
              "    <tr>\n",
              "      <th>T</th>\n",
              "      <td>2000.000000</td>\n",
              "    </tr>\n",
              "    <tr>\n",
              "      <th>ch4</th>\n",
              "      <td>1.000000</td>\n",
              "    </tr>\n",
              "    <tr>\n",
              "      <th>excess_o2</th>\n",
              "      <td>0.265989</td>\n",
              "    </tr>\n",
              "    <tr>\n",
              "      <th>feedT</th>\n",
              "      <td>300.000000</td>\n",
              "    </tr>\n",
              "  </tbody>\n",
              "</table>\n",
              "</div>"
            ],
            "text/plain": [
              "               vector1\n",
              "                     1\n",
              "T          2000.000000\n",
              "ch4           1.000000\n",
              "excess_o2     0.265989\n",
              "feedT       300.000000"
            ]
          },
          "metadata": {
            "tags": []
          },
          "execution_count": 17
        }
      ]
    },
    {
      "cell_type": "code",
      "metadata": {
        "id": "a-4adpI4yd6I",
        "outputId": "ec64f0df-d1da-4afe-9935-b5ef8449605a",
        "colab": {
          "base_uri": "https://localhost:8080/",
          "height": 328
        }
      },
      "source": [
        "vsc.rdf"
      ],
      "execution_count": 18,
      "outputs": [
        {
          "output_type": "execute_result",
          "data": {
            "text/html": [
              "<div>\n",
              "<style scoped>\n",
              "    .dataframe tbody tr th:only-of-type {\n",
              "        vertical-align: middle;\n",
              "    }\n",
              "\n",
              "    .dataframe tbody tr th {\n",
              "        vertical-align: top;\n",
              "    }\n",
              "\n",
              "    .dataframe thead tr th {\n",
              "        text-align: left;\n",
              "    }\n",
              "</style>\n",
              "<table border=\"1\" class=\"dataframe\">\n",
              "  <thead>\n",
              "    <tr>\n",
              "      <th></th>\n",
              "      <th>vector1</th>\n",
              "      <th colspan=\"5\" halign=\"left\">vector5</th>\n",
              "    </tr>\n",
              "    <tr>\n",
              "      <th></th>\n",
              "      <th>1</th>\n",
              "      <th>1</th>\n",
              "      <th>2</th>\n",
              "      <th>3</th>\n",
              "      <th>4</th>\n",
              "      <th>5</th>\n",
              "    </tr>\n",
              "  </thead>\n",
              "  <tbody>\n",
              "    <tr>\n",
              "      <th>o2_feed</th>\n",
              "      <td>2.53198</td>\n",
              "      <td></td>\n",
              "      <td></td>\n",
              "      <td></td>\n",
              "      <td></td>\n",
              "      <td></td>\n",
              "    </tr>\n",
              "    <tr>\n",
              "      <th>n2</th>\n",
              "      <td>9.52506</td>\n",
              "      <td></td>\n",
              "      <td></td>\n",
              "      <td></td>\n",
              "      <td></td>\n",
              "      <td></td>\n",
              "    </tr>\n",
              "    <tr>\n",
              "      <th>co2_prod</th>\n",
              "      <td>1</td>\n",
              "      <td></td>\n",
              "      <td></td>\n",
              "      <td></td>\n",
              "      <td></td>\n",
              "      <td></td>\n",
              "    </tr>\n",
              "    <tr>\n",
              "      <th>o2_prod</th>\n",
              "      <td>0.531978</td>\n",
              "      <td></td>\n",
              "      <td></td>\n",
              "      <td></td>\n",
              "      <td></td>\n",
              "      <td></td>\n",
              "    </tr>\n",
              "    <tr>\n",
              "      <th>nfeed</th>\n",
              "      <td></td>\n",
              "      <td>2.53198</td>\n",
              "      <td>9.52506</td>\n",
              "      <td>0</td>\n",
              "      <td>1</td>\n",
              "      <td>0</td>\n",
              "    </tr>\n",
              "    <tr>\n",
              "      <th>nprod</th>\n",
              "      <td></td>\n",
              "      <td>0.531978</td>\n",
              "      <td>9.52506</td>\n",
              "      <td>1</td>\n",
              "      <td>0</td>\n",
              "      <td>2</td>\n",
              "    </tr>\n",
              "    <tr>\n",
              "      <th>hfeed</th>\n",
              "      <td>-74133.2</td>\n",
              "      <td></td>\n",
              "      <td></td>\n",
              "      <td></td>\n",
              "      <td></td>\n",
              "      <td></td>\n",
              "    </tr>\n",
              "    <tr>\n",
              "      <th>hprod</th>\n",
              "      <td>-74133.2</td>\n",
              "      <td></td>\n",
              "      <td></td>\n",
              "      <td></td>\n",
              "      <td></td>\n",
              "      <td></td>\n",
              "    </tr>\n",
              "  </tbody>\n",
              "</table>\n",
              "</div>"
            ],
            "text/plain": [
              "           vector1   vector5                  \n",
              "                 1         1        2  3  4  5\n",
              "o2_feed    2.53198                            \n",
              "n2         9.52506                            \n",
              "co2_prod         1                            \n",
              "o2_prod   0.531978                            \n",
              "nfeed                2.53198  9.52506  0  1  0\n",
              "nprod               0.531978  9.52506  1  0  2\n",
              "hfeed     -74133.2                            \n",
              "hprod     -74133.2                            "
            ]
          },
          "metadata": {
            "tags": []
          },
          "execution_count": 18
        }
      ]
    },
    {
      "cell_type": "code",
      "metadata": {
        "id": "t8AxgDB8yfHA"
      },
      "source": [
        ""
      ],
      "execution_count": 18,
      "outputs": []
    }
  ]
}