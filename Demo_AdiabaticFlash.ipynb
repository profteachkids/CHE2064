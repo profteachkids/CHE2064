{
 "nbformat": 4,
 "nbformat_minor": 0,
 "metadata": {
  "kernelspec": {
   "display_name": "Python 3",
   "language": "python",
   "name": "python3"
  },
  "language_info": {
   "codemirror_mode": {
    "name": "ipython",
    "version": 2
   },
   "file_extension": ".py",
   "mimetype": "text/x-python",
   "name": "python",
   "nbconvert_exporter": "python",
   "pygments_lexer": "ipython2",
   "version": "2.7.6"
  },
  "colab": {
   "name": "Demo_AdiabaticFlash.ipynb",
   "provenance": [],
   "include_colab_link": true
  }
 },
 "cells": [
  {
   "cell_type": "markdown",
   "metadata": {
    "id": "view-in-github",
    "colab_type": "text"
   },
   "source": [
    "<a href=\"https://colab.research.google.com/github/profteachkids/CHE2064/blob/master/Demo_AdiabaticFlash.ipynb\" target=\"_parent\"><img src=\"https://colab.research.google.com/assets/colab-badge.svg\" alt=\"Open In Colab\"/></a>"
   ]
  },
  {
   "cell_type": "markdown",
   "metadata": {
    "id": "o6cpMVAA9pfN",
    "colab_type": "text"
   },
   "source": [
    "## Import libraries\n",
    "This section is somewhat intimidating to new users, but modifications are necessary only to access advanced features."
   ]
  },
  {
   "cell_type": "code",
   "metadata": {
    "pycharm": {
     "name": "#%%\n"
    },
    "id": "CiXlQcV0ul0G",
    "colab_type": "code",
    "colab": {}
   },
   "source": [
    "!git clone --depth 1 https://github.com/profteachkids/CHE2064.git &> /dev/null\n",
    "!pip install DotMap &> /dev/null\n",
    "import sys\n",
    "sys.path.insert(1, \"/content/CHE2064\") #Path to CHE module imports"
   ],
   "execution_count": 1,
   "outputs": []
  },
  {
   "cell_type": "code",
   "metadata": {
    "pycharm": {
     "name": "#%%\n"
    },
    "id": "3Xcv-3GycYZc",
    "colab_type": "code",
    "colab": {}
   },
   "source": [
    "from dotmap import DotMap\n",
    "import pandas as pd\n",
    "import jax\n",
    "import jax.numpy as jnp\n",
    "from jax.config import config\n",
    "config.update(\"jax_enable_x64\", True) #JAX default is 32bit single precision\n",
    "\n",
    "from tools.tree_array_transform import VSC, Comp, Range\n",
    "import tools.che as che"
   ],
   "execution_count": 1,
   "outputs": []
  },
  {
   "cell_type": "markdown",
   "metadata": {
    "id": "W9jA7D-b-WcP",
    "colab_type": "text",
    "pycharm": {
     "name": "#%% md\n"
    }
   },
   "source": [
    "## Dot-access to chemical properties and calculations\n",
    "ChemCAD data properties and binary interaction parameters can be exported as text files.  A few common chemicals are stored in a Github repository.  Users with ChemCad access can export and access their own data files.  The *che.Props* class parses these files for convenient dot-access and implementations of common calculations."
   ]
  },
  {
   "cell_type": "code",
   "metadata": {
    "pycharm": {
     "name": "#%%\n"
    },
    "id": "Wjacie-aul0U",
    "colab_type": "code",
    "colab": {}
   },
   "source": [
    "p = che.Props(['Ethanol','Isopropanol', 'Water'])"
   ],
   "execution_count": 2,
   "outputs": []
  },
  {
   "cell_type": "code",
   "metadata": {
    "id": "I-R-T5ALAEIH",
    "colab_type": "code",
    "colab": {
     "base_uri": "https://localhost:8080/",
     "height": 137
    },
    "outputId": "3bef67d3-a88f-49dd-8bce-80edc1e1f932"
   },
   "source": [
    "print(f'Tc: {p.Tc}')\n",
    "print(f'Pc: {p.Tc}')\n",
    "print(f'Vapor Pressure at 432.1 K {p.Pvap(432.1)} Pa')\n",
    "print(f'NRTL activity coefficients for equimolar mixture {p.NRTL_gamma([1/3,1/3,1/3], 300)} ')"
   ],
   "execution_count": 3,
   "outputs": [
    {
     "name": "stdout",
     "output_type": "stream",
     "text": [
      "Tc: [513.92 508.31 647.35]\n",
      "Pc: [513.92 508.31 647.35]\n",
      "Vapor Pressure at 432.1 K [1220670.06610508 1069634.05615236  600793.6517417 ] Pa\n",
      "NRTL activity coefficients for equimolar mixture [1.11669551 1.12519412 1.85757473] \n"
     ]
    },
    {
     "name": "stderr",
     "output_type": "stream",
     "text": [
      "/Users/carlosco/opt/anaconda3/envs/pytorch/lib/python3.8/site-packages/jax/lib/xla_bridge.py:130: UserWarning: No GPU/TPU found, falling back to CPU.\n",
      "  warnings.warn('No GPU/TPU found, falling back to CPU.')\n"
     ]
    }
   ]
  },
  {
   "cell_type": "markdown",
   "metadata": {
    "id": "vMg5Zj-dCPmz",
    "colab_type": "text",
    "pycharm": {
     "name": "#%% md\n"
    }
   },
   "source": [
    "## Adiabatic Flash Calculation\n",
    "Model mass/energy balance and VLE - all variables (knowns and unknowns) are in a convenient DotMap structure (c).  The model is written once.\n",
    "\n",
    "Sum up weighted square deviations for minimization.\n",
    " "
   ]
  },
  {
   "cell_type": "code",
   "metadata": {
    "pycharm": {
     "name": "#%%\n"
    },
    "id": "DzvIFEmsqJ87",
    "colab_type": "code",
    "colab": {}
   },
   "source": [
    "def model(c,r):\n",
    "    # c: combination of adjustable variables and static state parameters\n",
    "    # r: DotMap - store intermediate results for reporting\n",
    "    Ltot = c.Ftot - c.Vtot  # What's not in the vapor is in the liquid\n",
    "    r.V = c.Vy * c.Vtot # Moles of each component = mole fractions * total moles\n",
    "    r.L = c.Lx * Ltot\n",
    "    r.F = c.Fz * c.Ftot\n",
    "    mass_balance = (r.F - r.V - r.L) # Mass balance for each component (vectors!)\n",
    "    mass_balance = (mass_balance/jnp.sum(r.F))**2\n",
    "\n",
    "    # Hmix calculates the enthalpy given the temperature and moles of each\n",
    "    # component in the vapor and liquid phases\n",
    "    r.FH = p.Hl(nL=r.F, T=c.FT)\n",
    "    r.VH = p.Hv(nV=r.V, T=c.flashT)\n",
    "    r.LH = p.Hl(nL=r.L, T=c.flashT)\n",
    "    energy_balance = (r.FH - r.VH - r.LH)\n",
    "    energy_balance = (energy_balance/jnp.sum(r.FH))**2\n",
    "\n",
    "    # Raoults with NRTL activity coefficient correction.  One-liner!\n",
    "    VLE = (c.Lx  * p.NRTL_gamma(c.Lx,c.flashT)* p.Pvap(c.flashT)\n",
    "                - c.Vy*c.flashP)\n",
    "    VLE = (VLE/jnp.sum(c.Vy*c.flashP))**2\n",
    "\n",
    "    # Square deviations are weighted by their approx. magnitudes and\n",
    "    # summed for minimization\n",
    "    return jnp.sum(mass_balance + energy_balance + VLE)"
   ],
   "execution_count": 10,
   "outputs": []
  },
  {
   "cell_type": "markdown",
   "metadata": {
    "id": "-mgmDN7IF3Cx",
    "colab_type": "text",
    "pycharm": {
     "name": "#%% md\n"
    }
   },
   "source": [
    "## What's known (static) and unknown (variable) - automatically combined and tracked.\n",
    "\n",
    "What's known and unknown can be easily swapped around without having to modify the model.  The DotMap structures can have nested lists of DotMaps with nested lists of arrays, and so forth."
   ]
  },
  {
   "cell_type": "code",
   "metadata": {
    "pycharm": {
     "name": "#%%\n"
    },
    "id": "s1Krs9e2qJ8_",
    "colab_type": "code",
    "colab": {}
   },
   "source": [
    "# Static parameters (Total feed, feed mole fractions, feed temperature and )\n",
    "s=DotMap()\n",
    "s.Ftot=10 # Total Feed moes\n",
    "s.Fz = jnp.array([1/3, 1/3, 1/3]) # Equimolar feed composition\n",
    "s.FT = 450 # Feed temperature\n",
    "s.flashP= 101325 # Flash drum pressure\n",
    "\n",
    "# Variables (to be solved for with initial guesses and bounds)\n",
    "v=DotMap()\n",
    "v.Vy = Comp(s.Fz) # Guess vapor/liquid composition equal to feed\n",
    "v.Lx = Comp(s.Fz) # Comp - constrains mole fractions to behave like mole fractions!\n",
    "v.flashT = Range(360, 273.15, s.FT)  # Guess and bounds for flash temperature \n",
    "v.Vtot = Range(s.Ftot/2, 0., s.Ftot)  # Guess half of feed in vapor"
   ],
   "execution_count": 11,
   "outputs": []
  },
  {
   "cell_type": "markdown",
   "metadata": {
    "id": "IuEzfh8PIA9b",
    "colab_type": "text",
    "pycharm": {
     "name": "#%% md\n"
    }
   },
   "source": [
    "## Magic happens here\n",
    "The VSC class combines unknown variables and static parameters into a convenient DotMap structure.  Transformations between known/unknown DotMaps and the flat arrays required by the minimization routine is automated.\n",
    "\n",
    "The minimization algorithm is a robust Trust-Newton Conjugate Gradient coded to take advantage of JAX automatic Jacobian vector products.  \n",
    "\n",
    "The initial JAX model compilation is a bit slow, but subsequent repeat calculations are fast."
   ]
  },
  {
   "cell_type": "code",
   "metadata": {
    "pycharm": {
     "name": "#%%\n"
    },
    "id": "B_qzKOKtul0a",
    "colab_type": "code",
    "colab": {
     "base_uri": "https://localhost:8080/",
     "height": 401
    },
    "outputId": "f023932d-c78f-4082-a822-50b67357d11e"
   },
   "source": [
    "vsc=VSC(v,s, model)\n",
    "vsc.minimize(jit=False, verbosity=1)"
   ],
   "execution_count": 13,
   "outputs": [
    {
     "name": "stdout",
     "output_type": "stream",
     "text": [
      "0.06224976735089524\n",
      "0.006248548166419529\n",
      "0.0018775481930001286\n",
      "0.0018775481930001286\n",
      "0.0018775481930001286\n",
      "1.1689747101334969e-05\n",
      "1.1689747101334969e-05\n",
      "1.086438266234864e-06\n",
      "1.086438266234864e-06\n",
      "2.9661262250309602e-08\n",
      "2.9661262250309602e-08\n",
      "8.365011152459128e-10\n",
      "8.365011152459128e-10\n",
      "2.4159135162884922e-11\n",
      "2.4159135162884922e-11\n",
      "2.4159135162884922e-11\n",
      "7.846645257675808e-13\n",
      "7.846645257675808e-13\n",
      "2.6875660370326527e-14\n",
      "2.6875660370326527e-14\n",
      "1.0869792501504432e-15\n",
      "4.424887863842934e-17\n"
     ]
    },
    {
     "data": {
      "text/plain": "       vector1   vector3                    \n             1         1         2         3\nFtot        10                              \nFz              0.333333  0.333333  0.333333\nFT         450                              \nflashP  101325                              ",
      "text/html": "<div>\n<style scoped>\n    .dataframe tbody tr th:only-of-type {\n        vertical-align: middle;\n    }\n\n    .dataframe tbody tr th {\n        vertical-align: top;\n    }\n\n    .dataframe thead tr th {\n        text-align: left;\n    }\n</style>\n<table border=\"1\" class=\"dataframe\">\n  <thead>\n    <tr>\n      <th></th>\n      <th>vector1</th>\n      <th colspan=\"3\" halign=\"left\">vector3</th>\n    </tr>\n    <tr>\n      <th></th>\n      <th>1</th>\n      <th>1</th>\n      <th>2</th>\n      <th>3</th>\n    </tr>\n  </thead>\n  <tbody>\n    <tr>\n      <th>Ftot</th>\n      <td>10</td>\n      <td></td>\n      <td></td>\n      <td></td>\n    </tr>\n    <tr>\n      <th>Fz</th>\n      <td></td>\n      <td>0.333333</td>\n      <td>0.333333</td>\n      <td>0.333333</td>\n    </tr>\n    <tr>\n      <th>FT</th>\n      <td>450</td>\n      <td></td>\n      <td></td>\n      <td></td>\n    </tr>\n    <tr>\n      <th>flashP</th>\n      <td>101325</td>\n      <td></td>\n      <td></td>\n      <td></td>\n    </tr>\n  </tbody>\n</table>\n</div>"
     },
     "execution_count": 13,
     "metadata": {},
     "output_type": "execute_result"
    }
   ]
  },
  {
   "cell_type": "code",
   "execution_count": 15,
   "outputs": [
    {
     "data": {
      "text/plain": "       vector1   vector3                    \n             1         1         2         3\nFtot        10                              \nFz              0.333333  0.333333  0.333333\nFT         450                              \nflashP  101325                              ",
      "text/html": "<div>\n<style scoped>\n    .dataframe tbody tr th:only-of-type {\n        vertical-align: middle;\n    }\n\n    .dataframe tbody tr th {\n        vertical-align: top;\n    }\n\n    .dataframe thead tr th {\n        text-align: left;\n    }\n</style>\n<table border=\"1\" class=\"dataframe\">\n  <thead>\n    <tr>\n      <th></th>\n      <th>vector1</th>\n      <th colspan=\"3\" halign=\"left\">vector3</th>\n    </tr>\n    <tr>\n      <th></th>\n      <th>1</th>\n      <th>1</th>\n      <th>2</th>\n      <th>3</th>\n    </tr>\n  </thead>\n  <tbody>\n    <tr>\n      <th>Ftot</th>\n      <td>10</td>\n      <td></td>\n      <td></td>\n      <td></td>\n    </tr>\n    <tr>\n      <th>Fz</th>\n      <td></td>\n      <td>0.333333</td>\n      <td>0.333333</td>\n      <td>0.333333</td>\n    </tr>\n    <tr>\n      <th>FT</th>\n      <td>450</td>\n      <td></td>\n      <td></td>\n      <td></td>\n    </tr>\n    <tr>\n      <th>flashP</th>\n      <td>101325</td>\n      <td></td>\n      <td></td>\n      <td></td>\n    </tr>\n  </tbody>\n</table>\n</div>"
     },
     "execution_count": 15,
     "metadata": {},
     "output_type": "execute_result"
    }
   ],
   "source": [
    "# State parameters\n",
    "vsc.sdf"
   ],
   "metadata": {
    "collapsed": false,
    "pycharm": {
     "name": "#%%\n"
    }
   }
  },
  {
   "cell_type": "code",
   "execution_count": 16,
   "outputs": [
    {
     "data": {
      "text/plain": "         vector3                      vector1\n               1         2         3        1\nLx      0.311418  0.326803  0.361779         \nVtot                                   3.9739\nVy      0.366567  0.343236  0.290198         \nflashT                                352.966",
      "text/html": "<div>\n<style scoped>\n    .dataframe tbody tr th:only-of-type {\n        vertical-align: middle;\n    }\n\n    .dataframe tbody tr th {\n        vertical-align: top;\n    }\n\n    .dataframe thead tr th {\n        text-align: left;\n    }\n</style>\n<table border=\"1\" class=\"dataframe\">\n  <thead>\n    <tr>\n      <th></th>\n      <th colspan=\"3\" halign=\"left\">vector3</th>\n      <th>vector1</th>\n    </tr>\n    <tr>\n      <th></th>\n      <th>1</th>\n      <th>2</th>\n      <th>3</th>\n      <th>1</th>\n    </tr>\n  </thead>\n  <tbody>\n    <tr>\n      <th>Lx</th>\n      <td>0.311418</td>\n      <td>0.326803</td>\n      <td>0.361779</td>\n      <td></td>\n    </tr>\n    <tr>\n      <th>Vtot</th>\n      <td></td>\n      <td></td>\n      <td></td>\n      <td>3.9739</td>\n    </tr>\n    <tr>\n      <th>Vy</th>\n      <td>0.366567</td>\n      <td>0.343236</td>\n      <td>0.290198</td>\n      <td></td>\n    </tr>\n    <tr>\n      <th>flashT</th>\n      <td></td>\n      <td></td>\n      <td></td>\n      <td>352.966</td>\n    </tr>\n  </tbody>\n</table>\n</div>"
     },
     "execution_count": 16,
     "metadata": {},
     "output_type": "execute_result"
    }
   ],
   "source": [
    "# Adjustable Variables\n",
    "vsc.vdf"
   ],
   "metadata": {
    "collapsed": false,
    "pycharm": {
     "name": "#%%\n"
    }
   }
  },
  {
   "cell_type": "code",
   "metadata": {
    "id": "3JjpMqYzDf_m",
    "colab_type": "code",
    "colab": {}
   },
   "source": [
    "# Intermediate results\n",
    "vsc.rdf\n",
    "\n"
   ],
   "execution_count": 17,
   "outputs": [
    {
     "data": {
      "text/plain": "    vector3                        vector1\n          1        2        3            1\nV    1.4567  1.36398  1.15322             \nL   1.87664  1.96935  2.18012             \nF   3.33333  3.33333  3.33333             \nFH                             6.37096e+08\nVH                             3.49014e+08\nLH                             2.88082e+08",
      "text/html": "<div>\n<style scoped>\n    .dataframe tbody tr th:only-of-type {\n        vertical-align: middle;\n    }\n\n    .dataframe tbody tr th {\n        vertical-align: top;\n    }\n\n    .dataframe thead tr th {\n        text-align: left;\n    }\n</style>\n<table border=\"1\" class=\"dataframe\">\n  <thead>\n    <tr>\n      <th></th>\n      <th colspan=\"3\" halign=\"left\">vector3</th>\n      <th>vector1</th>\n    </tr>\n    <tr>\n      <th></th>\n      <th>1</th>\n      <th>2</th>\n      <th>3</th>\n      <th>1</th>\n    </tr>\n  </thead>\n  <tbody>\n    <tr>\n      <th>V</th>\n      <td>1.4567</td>\n      <td>1.36398</td>\n      <td>1.15322</td>\n      <td></td>\n    </tr>\n    <tr>\n      <th>L</th>\n      <td>1.87664</td>\n      <td>1.96935</td>\n      <td>2.18012</td>\n      <td></td>\n    </tr>\n    <tr>\n      <th>F</th>\n      <td>3.33333</td>\n      <td>3.33333</td>\n      <td>3.33333</td>\n      <td></td>\n    </tr>\n    <tr>\n      <th>FH</th>\n      <td></td>\n      <td></td>\n      <td></td>\n      <td>6.37096e+08</td>\n    </tr>\n    <tr>\n      <th>VH</th>\n      <td></td>\n      <td></td>\n      <td></td>\n      <td>3.49014e+08</td>\n    </tr>\n    <tr>\n      <th>LH</th>\n      <td></td>\n      <td></td>\n      <td></td>\n      <td>2.88082e+08</td>\n    </tr>\n  </tbody>\n</table>\n</div>"
     },
     "execution_count": 17,
     "metadata": {},
     "output_type": "execute_result"
    }
   ]
  },
  {
   "cell_type": "code",
   "execution_count": null,
   "outputs": [],
   "source": [],
   "metadata": {
    "collapsed": false,
    "pycharm": {
     "name": "#%%\n"
    }
   }
  }
 ]
}