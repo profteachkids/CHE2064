{
 "nbformat": 4,
 "nbformat_minor": 0,
 "metadata": {
  "kernelspec": {
   "display_name": "Python 3",
   "language": "python",
   "name": "python3"
  },
  "language_info": {
   "codemirror_mode": {
    "name": "ipython",
    "version": 2
   },
   "file_extension": ".py",
   "mimetype": "text/x-python",
   "name": "python",
   "nbconvert_exporter": "python",
   "pygments_lexer": "ipython2",
   "version": "2.7.6"
  },
  "colab": {
   "name": "Closed_Water_Air.ipynb",
   "provenance": [],
   "include_colab_link": true
  }
 },
 "cells": [
  {
   "cell_type": "markdown",
   "metadata": {
    "id": "view-in-github",
    "colab_type": "text"
   },
   "source": [
    "<a href=\"https://colab.research.google.com/github/profteachkids/CHE2064/blob/master/Closed_Water_Air.ipynb\" target=\"_parent\"><img src=\"https://colab.research.google.com/assets/colab-badge.svg\" alt=\"Open In Colab\"/></a>"
   ]
  },
  {
   "cell_type": "code",
   "metadata": {
    "id": "uYKuicDOlK0d",
    "colab_type": "code",
    "colab": {}
   },
   "source": [
    "!git clone --depth 1 https://github.com/profteachkids/CHE2064.git &> /dev/null\n",
    "!pip install DotMap &> /dev/null\n",
    "import sys\n",
    "sys.path.insert(1, \"/content/CHE2064\") #Path to CHE module imports"
   ],
   "execution_count": 34,
   "outputs": []
  },
  {
   "cell_type": "code",
   "metadata": {
    "pycharm": {
     "name": "#%%\n"
    },
    "id": "T-o9JMyd0K2V",
    "colab_type": "code",
    "colab": {}
   },
   "source": [
    "from dotmap import DotMap\n",
    "import pandas as pd\n",
    "import jax\n",
    "from jax.lax import stop_gradient\n",
    "import jax.numpy as jnp\n",
    "from jax.config import config\n",
    "config.update(\"jax_enable_x64\", True) #JAX default is 32bit single precision\n",
    "from tools.tree_array_transform import VSC, Comp, Range\n",
    "import tools.che as che\n",
    "R=8.314 # J/(mol K)"
   ],
   "execution_count": 1,
   "outputs": []
  },
  {
   "cell_type": "code",
   "metadata": {
    "pycharm": {
     "name": "#%%\n"
    },
    "id": "YWnv7703g00z",
    "colab_type": "code",
    "colab": {}
   },
   "source": [
    "p = che.Props(['Nitrogen','Oxygen', 'Argon', 'Water'])"
   ],
   "execution_count": 2,
   "outputs": []
  },
  {
   "cell_type": "code",
   "metadata": {
    "pycharm": {
     "name": "#%%\n"
    },
    "id": "Wjacie-aul0U",
    "colab_type": "code",
    "colab": {}
   },
   "source": [
    "def model(c,r):\n",
    "    # c: combination of adjustable variables and static state parameters\n",
    "    # r: DotMap - store intermediate results for reporting\n",
    "    r.Pw = p.Pvap(c.T)[3]\n",
    "    r.P = c.air_n * R * c.T / c.V_vap + r.Pw\n",
    "    return (c.P_f, r.P)\n",
    "\n",
    "c=DotMap()\n",
    "c.W_tot = 1. # 1 kg\n",
    "c.V_tot = 0.01 # 10 Liters\n",
    "c.P_i = 1e5 # Pa air pressure\n",
    "c.P_f = 2e5 # Pa final pressure\n",
    "c.T_i = 298.\n",
    "\n",
    "c.Vw_i = c.W_tot/p.rhol(c.T_i)[3]\n",
    "c.V_vap = c.V_tot - c.Vw_i # Approximation - water in the vapor phase is negligible\n",
    "c.air_n = c.P_i * c.V_vap / (R * c.T_i)\n",
    "\n",
    "c.T = Range(360,300,600)"
   ],
   "execution_count": 3,
   "outputs": [
    {
     "name": "stderr",
     "output_type": "stream",
     "text": [
      "/Users/carlosco/opt/anaconda3/envs/pytorch/lib/python3.8/site-packages/jax/lib/xla_bridge.py:130: UserWarning: No GPU/TPU found, falling back to CPU.\n",
      "  warnings.warn('No GPU/TPU found, falling back to CPU.')\n"
     ]
    }
   ]
  },
  {
   "cell_type": "code",
   "metadata": {
    "pycharm": {
     "name": "#%%\n"
    },
    "id": "HigobUA-0K2h",
    "colab_type": "code",
    "colab": {
     "base_uri": "https://localhost:8080/",
     "height": 286
    },
    "outputId": "abad261e-2e19-4689-b52d-7d9e23d37d81"
   },
   "source": [
    "# transform our model into one that takes a single array of adjustable variables\n",
    "# for minimization.  Unnecessary for this simple model with just 1 variable, \n",
    "# but very helpful for more complex problems later.\n",
    "vsc=VSC(c,model)\n",
    "vsc.solve()"
   ],
   "execution_count": 4,
   "outputs": [
    {
     "ename": "ConcretizationTypeError",
     "evalue": "Abstract tracer value encountered where concrete value is expected.\n\nin jax.numpy.split argument 1\n\nWhile tracing the function hvp at /Users/carlosco/Documents/GitHub/CHE2064/tools/tree_array_transform.py:84, this value became a tracer due to JAX operations on these lines:\n\n  operation cr:int32[1] = broadcast_in_dim[ broadcast_dimensions=(  )\n                                shape=(1,) ] cq:int32[]\n    from line /Users/carlosco/Documents/GitHub/CHE2064/tools/tree_array_transform.py:210 (unflatten)\n\n  operation ct:int32[1] = concatenate[ dimension=0 ] cs:int32[0] cr:int32[1]\n    from line /Users/carlosco/Documents/GitHub/CHE2064/tools/tree_array_transform.py:210 (unflatten)\n\n  operation cv:int64[8] = gather[ dimension_numbers=GatherDimensionNumbers(offset_dims=(0,), collapsed_slice_dims=(), start_index_map=(0,))\n                      slice_sizes=(8,) ] cu:int64[9] ct:int32[1]\n    from line /Users/carlosco/Documents/GitHub/CHE2064/tools/tree_array_transform.py:210 (unflatten)\n\nYou can use transformation parameters such as `static_argnums` for `jit` to avoid tracing particular arguments of transformed functions.\n\nSee https://jax.readthedocs.io/en/latest/faq.html#abstract-tracer-value-encountered-where-concrete-value-is-expected-error for more information.\n\nEncountered tracer value: Traced<ShapedArray(int64[8])>with<DynamicJaxprTrace(level=0/1)>",
     "output_type": "error",
     "traceback": [
      "\u001B[0;31m---------------------------------------------------------------------------\u001B[0m",
      "\u001B[0;31mFilteredStackTrace\u001B[0m                        Traceback (most recent call last)",
      "\u001B[0;32m<ipython-input-4-d9c9da4c99ef>\u001B[0m in \u001B[0;36m<module>\u001B[0;34m\u001B[0m\n\u001B[1;32m      4\u001B[0m \u001B[0mvsc\u001B[0m\u001B[0;34m=\u001B[0m\u001B[0mVSC\u001B[0m\u001B[0;34m(\u001B[0m\u001B[0mc\u001B[0m\u001B[0;34m,\u001B[0m\u001B[0mmodel\u001B[0m\u001B[0;34m)\u001B[0m\u001B[0;34m\u001B[0m\u001B[0;34m\u001B[0m\u001B[0m\n\u001B[0;32m----> 5\u001B[0;31m \u001B[0mvsc\u001B[0m\u001B[0;34m.\u001B[0m\u001B[0msolve\u001B[0m\u001B[0;34m(\u001B[0m\u001B[0;34m)\u001B[0m\u001B[0;34m\u001B[0m\u001B[0;34m\u001B[0m\u001B[0m\n\u001B[0m\u001B[1;32m      6\u001B[0m \u001B[0;34m\u001B[0m\u001B[0m\n",
      "\u001B[0;32m~/Documents/GitHub/CHE2064/tools/tree_array_transform.py\u001B[0m in \u001B[0;36msolve\u001B[0;34m(self, jit, verbosity)\u001B[0m\n\u001B[1;32m     96\u001B[0m         \u001B[0;31m# scale_factors = model_scaling(self.x)\u001B[0m\u001B[0;34m\u001B[0m\u001B[0;34m\u001B[0m\u001B[0;34m\u001B[0m\u001B[0m\n\u001B[0;32m---> 97\u001B[0;31m         res = scipy_minimize(model_f, self.x, method='trust-constr', bounds=bounds,jac=jax.grad(model_f), hessp=hvp,\n\u001B[0m\u001B[1;32m     98\u001B[0m                              callback=cb, tol=1e-12)\n",
      "\u001B[0;32m~/opt/anaconda3/envs/pytorch/lib/python3.8/site-packages/scipy/optimize/_minimize.py\u001B[0m in \u001B[0;36mminimize\u001B[0;34m(fun, x0, args, method, jac, hess, hessp, bounds, constraints, tol, callback, options)\u001B[0m\n\u001B[1;32m    619\u001B[0m     \u001B[0;32melif\u001B[0m \u001B[0mmeth\u001B[0m \u001B[0;34m==\u001B[0m \u001B[0;34m'trust-constr'\u001B[0m\u001B[0;34m:\u001B[0m\u001B[0;34m\u001B[0m\u001B[0;34m\u001B[0m\u001B[0m\n\u001B[0;32m--> 620\u001B[0;31m         return _minimize_trustregion_constr(fun, x0, args, jac, hess, hessp,\n\u001B[0m\u001B[1;32m    621\u001B[0m                                             \u001B[0mbounds\u001B[0m\u001B[0;34m,\u001B[0m \u001B[0mconstraints\u001B[0m\u001B[0;34m,\u001B[0m\u001B[0;34m\u001B[0m\u001B[0;34m\u001B[0m\u001B[0m\n",
      "\u001B[0;32m~/opt/anaconda3/envs/pytorch/lib/python3.8/site-packages/scipy/optimize/_trustregion_constr/minimize_trustregion_constr.py\u001B[0m in \u001B[0;36m_minimize_trustregion_constr\u001B[0;34m(fun, x0, args, grad, hess, hessp, bounds, constraints, xtol, gtol, barrier_tol, sparse_jacobian, callback, maxiter, verbose, finite_diff_rel_step, initial_constr_penalty, initial_tr_radius, initial_barrier_parameter, initial_barrier_tolerance, factorization_method, disp)\u001B[0m\n\u001B[1;32m    330\u001B[0m     \u001B[0;31m# Define Objective Function\u001B[0m\u001B[0;34m\u001B[0m\u001B[0;34m\u001B[0m\u001B[0;34m\u001B[0m\u001B[0m\n\u001B[0;32m--> 331\u001B[0;31m     objective = ScalarFunction(fun, x0, args, grad, hess,\n\u001B[0m\u001B[1;32m    332\u001B[0m                                finite_diff_rel_step, finite_diff_bounds)\n",
      "\u001B[0;32m~/opt/anaconda3/envs/pytorch/lib/python3.8/site-packages/scipy/optimize/_differentiable_functions.py\u001B[0m in \u001B[0;36m__init__\u001B[0;34m(self, fun, x0, args, grad, hess, finite_diff_rel_step, finite_diff_bounds)\u001B[0m\n\u001B[1;32m     96\u001B[0m         \u001B[0;32mif\u001B[0m \u001B[0mcallable\u001B[0m\u001B[0;34m(\u001B[0m\u001B[0mhess\u001B[0m\u001B[0;34m)\u001B[0m\u001B[0;34m:\u001B[0m\u001B[0;34m\u001B[0m\u001B[0;34m\u001B[0m\u001B[0m\n\u001B[0;32m---> 97\u001B[0;31m             \u001B[0mself\u001B[0m\u001B[0;34m.\u001B[0m\u001B[0mH\u001B[0m \u001B[0;34m=\u001B[0m \u001B[0mhess\u001B[0m\u001B[0;34m(\u001B[0m\u001B[0mx0\u001B[0m\u001B[0;34m,\u001B[0m \u001B[0;34m*\u001B[0m\u001B[0margs\u001B[0m\u001B[0;34m)\u001B[0m\u001B[0;34m\u001B[0m\u001B[0;34m\u001B[0m\u001B[0m\n\u001B[0m\u001B[1;32m     98\u001B[0m             \u001B[0mself\u001B[0m\u001B[0;34m.\u001B[0m\u001B[0mH_updated\u001B[0m \u001B[0;34m=\u001B[0m \u001B[0;32mTrue\u001B[0m\u001B[0;34m\u001B[0m\u001B[0;34m\u001B[0m\u001B[0m\n",
      "\u001B[0;32m~/opt/anaconda3/envs/pytorch/lib/python3.8/site-packages/scipy/optimize/_trustregion_constr/minimize_trustregion_constr.py\u001B[0m in \u001B[0;36m__call__\u001B[0;34m(self, x, *args)\u001B[0m\n\u001B[1;32m     35\u001B[0m \u001B[0;34m\u001B[0m\u001B[0m\n\u001B[0;32m---> 36\u001B[0;31m         \u001B[0;32mreturn\u001B[0m \u001B[0mLinearOperator\u001B[0m\u001B[0;34m(\u001B[0m\u001B[0;34m(\u001B[0m\u001B[0mself\u001B[0m\u001B[0;34m.\u001B[0m\u001B[0mn\u001B[0m\u001B[0;34m,\u001B[0m \u001B[0mself\u001B[0m\u001B[0;34m.\u001B[0m\u001B[0mn\u001B[0m\u001B[0;34m)\u001B[0m\u001B[0;34m,\u001B[0m \u001B[0mmatvec\u001B[0m\u001B[0;34m=\u001B[0m\u001B[0mmatvec\u001B[0m\u001B[0;34m)\u001B[0m\u001B[0;34m\u001B[0m\u001B[0;34m\u001B[0m\u001B[0m\n\u001B[0m\u001B[1;32m     37\u001B[0m \u001B[0;34m\u001B[0m\u001B[0m\n",
      "\u001B[0;32m~/opt/anaconda3/envs/pytorch/lib/python3.8/site-packages/scipy/sparse/linalg/interface.py\u001B[0m in \u001B[0;36m__init__\u001B[0;34m(self, shape, matvec, rmatvec, matmat, dtype, rmatmat)\u001B[0m\n\u001B[1;32m    517\u001B[0m \u001B[0;34m\u001B[0m\u001B[0m\n\u001B[0;32m--> 518\u001B[0;31m         \u001B[0mself\u001B[0m\u001B[0;34m.\u001B[0m\u001B[0m_init_dtype\u001B[0m\u001B[0;34m(\u001B[0m\u001B[0;34m)\u001B[0m\u001B[0;34m\u001B[0m\u001B[0;34m\u001B[0m\u001B[0m\n\u001B[0m\u001B[1;32m    519\u001B[0m \u001B[0;34m\u001B[0m\u001B[0m\n",
      "\u001B[0;32m~/opt/anaconda3/envs/pytorch/lib/python3.8/site-packages/scipy/sparse/linalg/interface.py\u001B[0m in \u001B[0;36m_init_dtype\u001B[0;34m(self)\u001B[0m\n\u001B[1;32m    174\u001B[0m             \u001B[0mv\u001B[0m \u001B[0;34m=\u001B[0m \u001B[0mnp\u001B[0m\u001B[0;34m.\u001B[0m\u001B[0mzeros\u001B[0m\u001B[0;34m(\u001B[0m\u001B[0mself\u001B[0m\u001B[0;34m.\u001B[0m\u001B[0mshape\u001B[0m\u001B[0;34m[\u001B[0m\u001B[0;34m-\u001B[0m\u001B[0;36m1\u001B[0m\u001B[0;34m]\u001B[0m\u001B[0;34m)\u001B[0m\u001B[0;34m\u001B[0m\u001B[0;34m\u001B[0m\u001B[0m\n\u001B[0;32m--> 175\u001B[0;31m             \u001B[0mself\u001B[0m\u001B[0;34m.\u001B[0m\u001B[0mdtype\u001B[0m \u001B[0;34m=\u001B[0m \u001B[0mnp\u001B[0m\u001B[0;34m.\u001B[0m\u001B[0masarray\u001B[0m\u001B[0;34m(\u001B[0m\u001B[0mself\u001B[0m\u001B[0;34m.\u001B[0m\u001B[0mmatvec\u001B[0m\u001B[0;34m(\u001B[0m\u001B[0mv\u001B[0m\u001B[0;34m)\u001B[0m\u001B[0;34m)\u001B[0m\u001B[0;34m.\u001B[0m\u001B[0mdtype\u001B[0m\u001B[0;34m\u001B[0m\u001B[0;34m\u001B[0m\u001B[0m\n\u001B[0m\u001B[1;32m    176\u001B[0m \u001B[0;34m\u001B[0m\u001B[0m\n",
      "\u001B[0;32m~/opt/anaconda3/envs/pytorch/lib/python3.8/site-packages/scipy/sparse/linalg/interface.py\u001B[0m in \u001B[0;36mmatvec\u001B[0;34m(self, x)\u001B[0m\n\u001B[1;32m    228\u001B[0m \u001B[0;34m\u001B[0m\u001B[0m\n\u001B[0;32m--> 229\u001B[0;31m         \u001B[0my\u001B[0m \u001B[0;34m=\u001B[0m \u001B[0mself\u001B[0m\u001B[0;34m.\u001B[0m\u001B[0m_matvec\u001B[0m\u001B[0;34m(\u001B[0m\u001B[0mx\u001B[0m\u001B[0;34m)\u001B[0m\u001B[0;34m\u001B[0m\u001B[0;34m\u001B[0m\u001B[0m\n\u001B[0m\u001B[1;32m    230\u001B[0m \u001B[0;34m\u001B[0m\u001B[0m\n",
      "\u001B[0;32m~/opt/anaconda3/envs/pytorch/lib/python3.8/site-packages/scipy/sparse/linalg/interface.py\u001B[0m in \u001B[0;36m_matvec\u001B[0;34m(self, x)\u001B[0m\n\u001B[1;32m    526\u001B[0m     \u001B[0;32mdef\u001B[0m \u001B[0m_matvec\u001B[0m\u001B[0;34m(\u001B[0m\u001B[0mself\u001B[0m\u001B[0;34m,\u001B[0m \u001B[0mx\u001B[0m\u001B[0;34m)\u001B[0m\u001B[0;34m:\u001B[0m\u001B[0;34m\u001B[0m\u001B[0;34m\u001B[0m\u001B[0m\n\u001B[0;32m--> 527\u001B[0;31m         \u001B[0;32mreturn\u001B[0m \u001B[0mself\u001B[0m\u001B[0;34m.\u001B[0m\u001B[0m__matvec_impl\u001B[0m\u001B[0;34m(\u001B[0m\u001B[0mx\u001B[0m\u001B[0;34m)\u001B[0m\u001B[0;34m\u001B[0m\u001B[0;34m\u001B[0m\u001B[0m\n\u001B[0m\u001B[1;32m    528\u001B[0m \u001B[0;34m\u001B[0m\u001B[0m\n",
      "\u001B[0;32m~/opt/anaconda3/envs/pytorch/lib/python3.8/site-packages/scipy/optimize/_trustregion_constr/minimize_trustregion_constr.py\u001B[0m in \u001B[0;36mmatvec\u001B[0;34m(p)\u001B[0m\n\u001B[1;32m     33\u001B[0m         \u001B[0;32mdef\u001B[0m \u001B[0mmatvec\u001B[0m\u001B[0;34m(\u001B[0m\u001B[0mp\u001B[0m\u001B[0;34m)\u001B[0m\u001B[0;34m:\u001B[0m\u001B[0;34m\u001B[0m\u001B[0;34m\u001B[0m\u001B[0m\n\u001B[0;32m---> 34\u001B[0;31m             \u001B[0;32mreturn\u001B[0m \u001B[0mself\u001B[0m\u001B[0;34m.\u001B[0m\u001B[0mhessp\u001B[0m\u001B[0;34m(\u001B[0m\u001B[0mx\u001B[0m\u001B[0;34m,\u001B[0m \u001B[0mp\u001B[0m\u001B[0;34m,\u001B[0m \u001B[0;34m*\u001B[0m\u001B[0margs\u001B[0m\u001B[0;34m)\u001B[0m\u001B[0;34m\u001B[0m\u001B[0;34m\u001B[0m\u001B[0m\n\u001B[0m\u001B[1;32m     35\u001B[0m \u001B[0;34m\u001B[0m\u001B[0m\n",
      "\u001B[0;32m~/Documents/GitHub/CHE2064/tools/tree_array_transform.py\u001B[0m in \u001B[0;36mhvp\u001B[0;34m(x, p)\u001B[0m\n\u001B[1;32m     85\u001B[0m         \u001B[0;32mdef\u001B[0m \u001B[0mhvp\u001B[0m\u001B[0;34m(\u001B[0m\u001B[0mx\u001B[0m\u001B[0;34m,\u001B[0m\u001B[0mp\u001B[0m\u001B[0;34m)\u001B[0m\u001B[0;34m:\u001B[0m\u001B[0;34m\u001B[0m\u001B[0;34m\u001B[0m\u001B[0m\n\u001B[0;32m---> 86\u001B[0;31m             \u001B[0;32mreturn\u001B[0m \u001B[0mjax\u001B[0m\u001B[0;34m.\u001B[0m\u001B[0mgrad\u001B[0m\u001B[0;34m(\u001B[0m\u001B[0;32mlambda\u001B[0m \u001B[0mx\u001B[0m\u001B[0;34m:\u001B[0m \u001B[0mjnp\u001B[0m\u001B[0;34m.\u001B[0m\u001B[0mvdot\u001B[0m\u001B[0;34m(\u001B[0m\u001B[0mjax\u001B[0m\u001B[0;34m.\u001B[0m\u001B[0mgrad\u001B[0m\u001B[0;34m(\u001B[0m\u001B[0mmodel_f\u001B[0m\u001B[0;34m)\u001B[0m\u001B[0;34m(\u001B[0m\u001B[0mx\u001B[0m\u001B[0;34m)\u001B[0m\u001B[0;34m,\u001B[0m\u001B[0mp\u001B[0m\u001B[0;34m)\u001B[0m\u001B[0;34m)\u001B[0m\u001B[0;34m(\u001B[0m\u001B[0mx\u001B[0m\u001B[0;34m)\u001B[0m\u001B[0;34m\u001B[0m\u001B[0;34m\u001B[0m\u001B[0m\n\u001B[0m\u001B[1;32m     87\u001B[0m \u001B[0;34m\u001B[0m\u001B[0m\n",
      "\u001B[0;32m~/Documents/GitHub/CHE2064/tools/tree_array_transform.py\u001B[0m in \u001B[0;36m<lambda>\u001B[0;34m(x)\u001B[0m\n\u001B[1;32m     85\u001B[0m         \u001B[0;32mdef\u001B[0m \u001B[0mhvp\u001B[0m\u001B[0;34m(\u001B[0m\u001B[0mx\u001B[0m\u001B[0;34m,\u001B[0m\u001B[0mp\u001B[0m\u001B[0;34m)\u001B[0m\u001B[0;34m:\u001B[0m\u001B[0;34m\u001B[0m\u001B[0;34m\u001B[0m\u001B[0m\n\u001B[0;32m---> 86\u001B[0;31m             \u001B[0;32mreturn\u001B[0m \u001B[0mjax\u001B[0m\u001B[0;34m.\u001B[0m\u001B[0mgrad\u001B[0m\u001B[0;34m(\u001B[0m\u001B[0;32mlambda\u001B[0m \u001B[0mx\u001B[0m\u001B[0;34m:\u001B[0m \u001B[0mjnp\u001B[0m\u001B[0;34m.\u001B[0m\u001B[0mvdot\u001B[0m\u001B[0;34m(\u001B[0m\u001B[0mjax\u001B[0m\u001B[0;34m.\u001B[0m\u001B[0mgrad\u001B[0m\u001B[0;34m(\u001B[0m\u001B[0mmodel_f\u001B[0m\u001B[0;34m)\u001B[0m\u001B[0;34m(\u001B[0m\u001B[0mx\u001B[0m\u001B[0;34m)\u001B[0m\u001B[0;34m,\u001B[0m\u001B[0mp\u001B[0m\u001B[0;34m)\u001B[0m\u001B[0;34m)\u001B[0m\u001B[0;34m(\u001B[0m\u001B[0mx\u001B[0m\u001B[0;34m)\u001B[0m\u001B[0;34m\u001B[0m\u001B[0;34m\u001B[0m\u001B[0m\n\u001B[0m\u001B[1;32m     87\u001B[0m \u001B[0;34m\u001B[0m\u001B[0m\n",
      "\u001B[0;32m~/Documents/GitHub/CHE2064/tools/tree_array_transform.py\u001B[0m in \u001B[0;36mmodel_f\u001B[0;34m(x)\u001B[0m\n\u001B[1;32m     69\u001B[0m         \u001B[0;32mdef\u001B[0m \u001B[0mmodel_f\u001B[0m\u001B[0;34m(\u001B[0m\u001B[0mx\u001B[0m\u001B[0;34m)\u001B[0m\u001B[0;34m:\u001B[0m\u001B[0;34m\u001B[0m\u001B[0;34m\u001B[0m\u001B[0m\n\u001B[0;32m---> 70\u001B[0;31m             \u001B[0mres\u001B[0m \u001B[0;34m=\u001B[0m \u001B[0mself\u001B[0m\u001B[0;34m.\u001B[0m\u001B[0mmodel\u001B[0m\u001B[0;34m(\u001B[0m\u001B[0mDotMap\u001B[0m\u001B[0;34m(\u001B[0m\u001B[0mself\u001B[0m\u001B[0;34m.\u001B[0m\u001B[0mxtoc\u001B[0m\u001B[0;34m(\u001B[0m\u001B[0mx\u001B[0m\u001B[0;34m)\u001B[0m\u001B[0;34m)\u001B[0m\u001B[0;34m,\u001B[0m \u001B[0mself\u001B[0m\u001B[0;34m.\u001B[0m\u001B[0mr\u001B[0m\u001B[0;34m)\u001B[0m\u001B[0;34m\u001B[0m\u001B[0;34m\u001B[0m\u001B[0m\n\u001B[0m\u001B[1;32m     71\u001B[0m             \u001B[0mleft\u001B[0m \u001B[0;34m=\u001B[0m \u001B[0mjnp\u001B[0m\u001B[0;34m.\u001B[0m\u001B[0marray\u001B[0m\u001B[0;34m(\u001B[0m\u001B[0;34m[\u001B[0m\u001B[0;34m]\u001B[0m\u001B[0;34m)\u001B[0m\u001B[0;34m\u001B[0m\u001B[0;34m\u001B[0m\u001B[0m\n",
      "\u001B[0;32m~/Documents/GitHub/CHE2064/tools/tree_array_transform.py\u001B[0m in \u001B[0;36mxtoc\u001B[0;34m(self, x)\u001B[0m\n\u001B[1;32m     30\u001B[0m         \u001B[0mc\u001B[0m \u001B[0;34m=\u001B[0m \u001B[0mself\u001B[0m\u001B[0;34m.\u001B[0m\u001B[0mc_flat\u001B[0m\u001B[0;34m.\u001B[0m\u001B[0mat\u001B[0m\u001B[0;34m[\u001B[0m\u001B[0mself\u001B[0m\u001B[0;34m.\u001B[0m\u001B[0mupdate_idx\u001B[0m\u001B[0;34m]\u001B[0m\u001B[0;34m.\u001B[0m\u001B[0mset\u001B[0m\u001B[0;34m(\u001B[0m\u001B[0mx\u001B[0m\u001B[0;34m)\u001B[0m\u001B[0;34m\u001B[0m\u001B[0;34m\u001B[0m\u001B[0m\n\u001B[0;32m---> 31\u001B[0;31m         \u001B[0;32mreturn\u001B[0m \u001B[0mDotMap\u001B[0m\u001B[0;34m(\u001B[0m\u001B[0munflatten\u001B[0m\u001B[0;34m(\u001B[0m\u001B[0mc\u001B[0m\u001B[0;34m,\u001B[0m \u001B[0mself\u001B[0m\u001B[0;34m.\u001B[0m\u001B[0midx\u001B[0m\u001B[0;34m,\u001B[0m \u001B[0mself\u001B[0m\u001B[0;34m.\u001B[0m\u001B[0mshapes\u001B[0m\u001B[0;34m,\u001B[0m \u001B[0mself\u001B[0m\u001B[0;34m.\u001B[0m\u001B[0mtree\u001B[0m\u001B[0;34m)\u001B[0m\u001B[0;34m)\u001B[0m\u001B[0;34m\u001B[0m\u001B[0;34m\u001B[0m\u001B[0m\n\u001B[0m\u001B[1;32m     32\u001B[0m \u001B[0;34m\u001B[0m\u001B[0m\n",
      "\u001B[0;32m~/Documents/GitHub/CHE2064/tools/tree_array_transform.py\u001B[0m in \u001B[0;36munflatten\u001B[0;34m(x, idx, shapes, tree)\u001B[0m\n\u001B[1;32m    209\u001B[0m \u001B[0;32mdef\u001B[0m \u001B[0munflatten\u001B[0m\u001B[0;34m(\u001B[0m\u001B[0mx\u001B[0m\u001B[0;34m,\u001B[0m \u001B[0midx\u001B[0m\u001B[0;34m,\u001B[0m \u001B[0mshapes\u001B[0m\u001B[0;34m,\u001B[0m \u001B[0mtree\u001B[0m\u001B[0;34m)\u001B[0m\u001B[0;34m:\u001B[0m\u001B[0;34m\u001B[0m\u001B[0;34m\u001B[0m\u001B[0m\n\u001B[0;32m--> 210\u001B[0;31m     \u001B[0;32mreturn\u001B[0m \u001B[0mjax\u001B[0m\u001B[0;34m.\u001B[0m\u001B[0mtree_unflatten\u001B[0m\u001B[0;34m(\u001B[0m\u001B[0mtree\u001B[0m\u001B[0;34m,\u001B[0m \u001B[0;34m[\u001B[0m\u001B[0mitem\u001B[0m\u001B[0;34m.\u001B[0m\u001B[0mreshape\u001B[0m\u001B[0;34m(\u001B[0m\u001B[0mshape\u001B[0m\u001B[0;34m)\u001B[0m \u001B[0;32mfor\u001B[0m \u001B[0mitem\u001B[0m\u001B[0;34m,\u001B[0m\u001B[0mshape\u001B[0m \u001B[0;32min\u001B[0m \u001B[0mzip\u001B[0m\u001B[0;34m(\u001B[0m\u001B[0mjnp\u001B[0m\u001B[0;34m.\u001B[0m\u001B[0msplit\u001B[0m\u001B[0;34m(\u001B[0m\u001B[0mx\u001B[0m\u001B[0;34m,\u001B[0m\u001B[0midx\u001B[0m\u001B[0;34m[\u001B[0m\u001B[0;34m:\u001B[0m\u001B[0;34m-\u001B[0m\u001B[0;36m1\u001B[0m\u001B[0;34m]\u001B[0m\u001B[0;34m)\u001B[0m\u001B[0;34m,\u001B[0m \u001B[0mshapes\u001B[0m\u001B[0;34m)\u001B[0m\u001B[0;34m]\u001B[0m\u001B[0;34m)\u001B[0m\u001B[0;34m\u001B[0m\u001B[0;34m\u001B[0m\u001B[0m\n\u001B[0m\u001B[1;32m    211\u001B[0m \u001B[0;34m\u001B[0m\u001B[0m\n",
      "\u001B[0;32m~/opt/anaconda3/envs/pytorch/lib/python3.8/site-packages/jax/numpy/lax_numpy.py\u001B[0m in \u001B[0;36msplit\u001B[0;34m(ary, indices_or_sections, axis)\u001B[0m\n\u001B[1;32m   1579\u001B[0m \u001B[0;32mdef\u001B[0m \u001B[0msplit\u001B[0m\u001B[0;34m(\u001B[0m\u001B[0mary\u001B[0m\u001B[0;34m,\u001B[0m \u001B[0mindices_or_sections\u001B[0m\u001B[0;34m,\u001B[0m \u001B[0maxis\u001B[0m\u001B[0;34m=\u001B[0m\u001B[0;36m0\u001B[0m\u001B[0;34m)\u001B[0m\u001B[0;34m:\u001B[0m\u001B[0;34m\u001B[0m\u001B[0;34m\u001B[0m\u001B[0m\n\u001B[0;32m-> 1580\u001B[0;31m   \u001B[0;32mreturn\u001B[0m \u001B[0m_split\u001B[0m\u001B[0;34m(\u001B[0m\u001B[0;34m\"split\"\u001B[0m\u001B[0;34m,\u001B[0m \u001B[0mary\u001B[0m\u001B[0;34m,\u001B[0m \u001B[0mindices_or_sections\u001B[0m\u001B[0;34m,\u001B[0m \u001B[0maxis\u001B[0m\u001B[0;34m=\u001B[0m\u001B[0maxis\u001B[0m\u001B[0;34m)\u001B[0m\u001B[0;34m\u001B[0m\u001B[0;34m\u001B[0m\u001B[0m\n\u001B[0m\u001B[1;32m   1581\u001B[0m \u001B[0;34m\u001B[0m\u001B[0m\n",
      "\u001B[0;32m~/opt/anaconda3/envs/pytorch/lib/python3.8/site-packages/jax/numpy/lax_numpy.py\u001B[0m in \u001B[0;36m_split\u001B[0;34m(op, ary, indices_or_sections, axis)\u001B[0m\n\u001B[1;32m   1561\u001B[0m   \u001B[0;32melse\u001B[0m\u001B[0;34m:\u001B[0m\u001B[0;34m\u001B[0m\u001B[0;34m\u001B[0m\u001B[0m\n\u001B[0;32m-> 1562\u001B[0;31m     indices_or_sections = core.concrete_or_error(int, indices_or_sections,\n\u001B[0m\u001B[1;32m   1563\u001B[0m                                                  f\"in jax.numpy.{op} argument 1\")\n",
      "\u001B[0;31mFilteredStackTrace\u001B[0m: jax.core.ConcretizationTypeError: Abstract tracer value encountered where concrete value is expected.\n\nin jax.numpy.split argument 1\n\nWhile tracing the function hvp at /Users/carlosco/Documents/GitHub/CHE2064/tools/tree_array_transform.py:84, this value became a tracer due to JAX operations on these lines:\n\n  operation cr:int32[1] = broadcast_in_dim[ broadcast_dimensions=(  )\n                                shape=(1,) ] cq:int32[]\n    from line /Users/carlosco/Documents/GitHub/CHE2064/tools/tree_array_transform.py:210 (unflatten)\n\n  operation ct:int32[1] = concatenate[ dimension=0 ] cs:int32[0] cr:int32[1]\n    from line /Users/carlosco/Documents/GitHub/CHE2064/tools/tree_array_transform.py:210 (unflatten)\n\n  operation cv:int64[8] = gather[ dimension_numbers=GatherDimensionNumbers(offset_dims=(0,), collapsed_slice_dims=(), start_index_map=(0,))\n                      slice_sizes=(8,) ] cu:int64[9] ct:int32[1]\n    from line /Users/carlosco/Documents/GitHub/CHE2064/tools/tree_array_transform.py:210 (unflatten)\n\nYou can use transformation parameters such as `static_argnums` for `jit` to avoid tracing particular arguments of transformed functions.\n\nSee https://jax.readthedocs.io/en/latest/faq.html#abstract-tracer-value-encountered-where-concrete-value-is-expected-error for more information.\n\nEncountered tracer value: Traced<ShapedArray(int64[8])>with<DynamicJaxprTrace(level=0/1)>\n\nThe stack trace above excludes JAX-internal frames.\nThe following is the original exception that occurred, unmodified.\n\n--------------------",
      "\nThe above exception was the direct cause of the following exception:\n",
      "\u001B[0;31mConcretizationTypeError\u001B[0m                   Traceback (most recent call last)",
      "\u001B[0;32m<ipython-input-4-d9c9da4c99ef>\u001B[0m in \u001B[0;36m<module>\u001B[0;34m\u001B[0m\n\u001B[1;32m      3\u001B[0m \u001B[0;31m# but very helpful for more complex problems later.\u001B[0m\u001B[0;34m\u001B[0m\u001B[0;34m\u001B[0m\u001B[0;34m\u001B[0m\u001B[0m\n\u001B[1;32m      4\u001B[0m \u001B[0mvsc\u001B[0m\u001B[0;34m=\u001B[0m\u001B[0mVSC\u001B[0m\u001B[0;34m(\u001B[0m\u001B[0mc\u001B[0m\u001B[0;34m,\u001B[0m\u001B[0mmodel\u001B[0m\u001B[0;34m)\u001B[0m\u001B[0;34m\u001B[0m\u001B[0;34m\u001B[0m\u001B[0m\n\u001B[0;32m----> 5\u001B[0;31m \u001B[0mvsc\u001B[0m\u001B[0;34m.\u001B[0m\u001B[0msolve\u001B[0m\u001B[0;34m(\u001B[0m\u001B[0;34m)\u001B[0m\u001B[0;34m\u001B[0m\u001B[0;34m\u001B[0m\u001B[0m\n\u001B[0m\u001B[1;32m      6\u001B[0m \u001B[0;34m\u001B[0m\u001B[0m\n",
      "\u001B[0;32m~/Documents/GitHub/CHE2064/tools/tree_array_transform.py\u001B[0m in \u001B[0;36msolve\u001B[0;34m(self, jit, verbosity)\u001B[0m\n\u001B[1;32m     95\u001B[0m             \u001B[0mmodel_f\u001B[0m \u001B[0;34m=\u001B[0m \u001B[0mjax\u001B[0m\u001B[0;34m.\u001B[0m\u001B[0mjit\u001B[0m\u001B[0;34m(\u001B[0m\u001B[0mmodel_f\u001B[0m\u001B[0;34m)\u001B[0m\u001B[0;34m\u001B[0m\u001B[0;34m\u001B[0m\u001B[0m\n\u001B[1;32m     96\u001B[0m         \u001B[0;31m# scale_factors = model_scaling(self.x)\u001B[0m\u001B[0;34m\u001B[0m\u001B[0;34m\u001B[0m\u001B[0;34m\u001B[0m\u001B[0m\n\u001B[0;32m---> 97\u001B[0;31m         res = scipy_minimize(model_f, self.x, method='trust-constr', bounds=bounds,jac=jax.grad(model_f), hessp=hvp,\n\u001B[0m\u001B[1;32m     98\u001B[0m                              callback=cb, tol=1e-12)\n\u001B[1;32m     99\u001B[0m         \u001B[0;32mif\u001B[0m \u001B[0mverbosity\u001B[0m \u001B[0;34m>\u001B[0m \u001B[0;36m1\u001B[0m\u001B[0;34m:\u001B[0m\u001B[0;34m\u001B[0m\u001B[0;34m\u001B[0m\u001B[0m\n",
      "\u001B[0;32m~/opt/anaconda3/envs/pytorch/lib/python3.8/site-packages/scipy/optimize/_minimize.py\u001B[0m in \u001B[0;36mminimize\u001B[0;34m(fun, x0, args, method, jac, hess, hessp, bounds, constraints, tol, callback, options)\u001B[0m\n\u001B[1;32m    618\u001B[0m                                constraints, callback=callback, **options)\n\u001B[1;32m    619\u001B[0m     \u001B[0;32melif\u001B[0m \u001B[0mmeth\u001B[0m \u001B[0;34m==\u001B[0m \u001B[0;34m'trust-constr'\u001B[0m\u001B[0;34m:\u001B[0m\u001B[0;34m\u001B[0m\u001B[0;34m\u001B[0m\u001B[0m\n\u001B[0;32m--> 620\u001B[0;31m         return _minimize_trustregion_constr(fun, x0, args, jac, hess, hessp,\n\u001B[0m\u001B[1;32m    621\u001B[0m                                             \u001B[0mbounds\u001B[0m\u001B[0;34m,\u001B[0m \u001B[0mconstraints\u001B[0m\u001B[0;34m,\u001B[0m\u001B[0;34m\u001B[0m\u001B[0;34m\u001B[0m\u001B[0m\n\u001B[1;32m    622\u001B[0m                                             callback=callback, **options)\n",
      "\u001B[0;32m~/opt/anaconda3/envs/pytorch/lib/python3.8/site-packages/scipy/optimize/_trustregion_constr/minimize_trustregion_constr.py\u001B[0m in \u001B[0;36m_minimize_trustregion_constr\u001B[0;34m(fun, x0, args, grad, hess, hessp, bounds, constraints, xtol, gtol, barrier_tol, sparse_jacobian, callback, maxiter, verbose, finite_diff_rel_step, initial_constr_penalty, initial_tr_radius, initial_barrier_parameter, initial_barrier_tolerance, factorization_method, disp)\u001B[0m\n\u001B[1;32m    329\u001B[0m \u001B[0;34m\u001B[0m\u001B[0m\n\u001B[1;32m    330\u001B[0m     \u001B[0;31m# Define Objective Function\u001B[0m\u001B[0;34m\u001B[0m\u001B[0;34m\u001B[0m\u001B[0;34m\u001B[0m\u001B[0m\n\u001B[0;32m--> 331\u001B[0;31m     objective = ScalarFunction(fun, x0, args, grad, hess,\n\u001B[0m\u001B[1;32m    332\u001B[0m                                finite_diff_rel_step, finite_diff_bounds)\n\u001B[1;32m    333\u001B[0m \u001B[0;34m\u001B[0m\u001B[0m\n",
      "\u001B[0;32m~/opt/anaconda3/envs/pytorch/lib/python3.8/site-packages/scipy/optimize/_differentiable_functions.py\u001B[0m in \u001B[0;36m__init__\u001B[0;34m(self, fun, x0, args, grad, hess, finite_diff_rel_step, finite_diff_bounds)\u001B[0m\n\u001B[1;32m     95\u001B[0m         \u001B[0;31m# Hessian Evaluation\u001B[0m\u001B[0;34m\u001B[0m\u001B[0;34m\u001B[0m\u001B[0;34m\u001B[0m\u001B[0m\n\u001B[1;32m     96\u001B[0m         \u001B[0;32mif\u001B[0m \u001B[0mcallable\u001B[0m\u001B[0;34m(\u001B[0m\u001B[0mhess\u001B[0m\u001B[0;34m)\u001B[0m\u001B[0;34m:\u001B[0m\u001B[0;34m\u001B[0m\u001B[0;34m\u001B[0m\u001B[0m\n\u001B[0;32m---> 97\u001B[0;31m             \u001B[0mself\u001B[0m\u001B[0;34m.\u001B[0m\u001B[0mH\u001B[0m \u001B[0;34m=\u001B[0m \u001B[0mhess\u001B[0m\u001B[0;34m(\u001B[0m\u001B[0mx0\u001B[0m\u001B[0;34m,\u001B[0m \u001B[0;34m*\u001B[0m\u001B[0margs\u001B[0m\u001B[0;34m)\u001B[0m\u001B[0;34m\u001B[0m\u001B[0;34m\u001B[0m\u001B[0m\n\u001B[0m\u001B[1;32m     98\u001B[0m             \u001B[0mself\u001B[0m\u001B[0;34m.\u001B[0m\u001B[0mH_updated\u001B[0m \u001B[0;34m=\u001B[0m \u001B[0;32mTrue\u001B[0m\u001B[0;34m\u001B[0m\u001B[0;34m\u001B[0m\u001B[0m\n\u001B[1;32m     99\u001B[0m             \u001B[0mself\u001B[0m\u001B[0;34m.\u001B[0m\u001B[0mnhev\u001B[0m \u001B[0;34m+=\u001B[0m \u001B[0;36m1\u001B[0m\u001B[0;34m\u001B[0m\u001B[0;34m\u001B[0m\u001B[0m\n",
      "\u001B[0;32m~/opt/anaconda3/envs/pytorch/lib/python3.8/site-packages/scipy/optimize/_trustregion_constr/minimize_trustregion_constr.py\u001B[0m in \u001B[0;36m__call__\u001B[0;34m(self, x, *args)\u001B[0m\n\u001B[1;32m     34\u001B[0m             \u001B[0;32mreturn\u001B[0m \u001B[0mself\u001B[0m\u001B[0;34m.\u001B[0m\u001B[0mhessp\u001B[0m\u001B[0;34m(\u001B[0m\u001B[0mx\u001B[0m\u001B[0;34m,\u001B[0m \u001B[0mp\u001B[0m\u001B[0;34m,\u001B[0m \u001B[0;34m*\u001B[0m\u001B[0margs\u001B[0m\u001B[0;34m)\u001B[0m\u001B[0;34m\u001B[0m\u001B[0;34m\u001B[0m\u001B[0m\n\u001B[1;32m     35\u001B[0m \u001B[0;34m\u001B[0m\u001B[0m\n\u001B[0;32m---> 36\u001B[0;31m         \u001B[0;32mreturn\u001B[0m \u001B[0mLinearOperator\u001B[0m\u001B[0;34m(\u001B[0m\u001B[0;34m(\u001B[0m\u001B[0mself\u001B[0m\u001B[0;34m.\u001B[0m\u001B[0mn\u001B[0m\u001B[0;34m,\u001B[0m \u001B[0mself\u001B[0m\u001B[0;34m.\u001B[0m\u001B[0mn\u001B[0m\u001B[0;34m)\u001B[0m\u001B[0;34m,\u001B[0m \u001B[0mmatvec\u001B[0m\u001B[0;34m=\u001B[0m\u001B[0mmatvec\u001B[0m\u001B[0;34m)\u001B[0m\u001B[0;34m\u001B[0m\u001B[0;34m\u001B[0m\u001B[0m\n\u001B[0m\u001B[1;32m     37\u001B[0m \u001B[0;34m\u001B[0m\u001B[0m\n\u001B[1;32m     38\u001B[0m \u001B[0;34m\u001B[0m\u001B[0m\n",
      "\u001B[0;32m~/opt/anaconda3/envs/pytorch/lib/python3.8/site-packages/scipy/sparse/linalg/interface.py\u001B[0m in \u001B[0;36m__init__\u001B[0;34m(self, shape, matvec, rmatvec, matmat, dtype, rmatmat)\u001B[0m\n\u001B[1;32m    516\u001B[0m         \u001B[0mself\u001B[0m\u001B[0;34m.\u001B[0m\u001B[0m__matmat_impl\u001B[0m \u001B[0;34m=\u001B[0m \u001B[0mmatmat\u001B[0m\u001B[0;34m\u001B[0m\u001B[0;34m\u001B[0m\u001B[0m\n\u001B[1;32m    517\u001B[0m \u001B[0;34m\u001B[0m\u001B[0m\n\u001B[0;32m--> 518\u001B[0;31m         \u001B[0mself\u001B[0m\u001B[0;34m.\u001B[0m\u001B[0m_init_dtype\u001B[0m\u001B[0;34m(\u001B[0m\u001B[0;34m)\u001B[0m\u001B[0;34m\u001B[0m\u001B[0;34m\u001B[0m\u001B[0m\n\u001B[0m\u001B[1;32m    519\u001B[0m \u001B[0;34m\u001B[0m\u001B[0m\n\u001B[1;32m    520\u001B[0m     \u001B[0;32mdef\u001B[0m \u001B[0m_matmat\u001B[0m\u001B[0;34m(\u001B[0m\u001B[0mself\u001B[0m\u001B[0;34m,\u001B[0m \u001B[0mX\u001B[0m\u001B[0;34m)\u001B[0m\u001B[0;34m:\u001B[0m\u001B[0;34m\u001B[0m\u001B[0;34m\u001B[0m\u001B[0m\n",
      "\u001B[0;32m~/opt/anaconda3/envs/pytorch/lib/python3.8/site-packages/scipy/sparse/linalg/interface.py\u001B[0m in \u001B[0;36m_init_dtype\u001B[0;34m(self)\u001B[0m\n\u001B[1;32m    173\u001B[0m         \u001B[0;32mif\u001B[0m \u001B[0mself\u001B[0m\u001B[0;34m.\u001B[0m\u001B[0mdtype\u001B[0m \u001B[0;32mis\u001B[0m \u001B[0;32mNone\u001B[0m\u001B[0;34m:\u001B[0m\u001B[0;34m\u001B[0m\u001B[0;34m\u001B[0m\u001B[0m\n\u001B[1;32m    174\u001B[0m             \u001B[0mv\u001B[0m \u001B[0;34m=\u001B[0m \u001B[0mnp\u001B[0m\u001B[0;34m.\u001B[0m\u001B[0mzeros\u001B[0m\u001B[0;34m(\u001B[0m\u001B[0mself\u001B[0m\u001B[0;34m.\u001B[0m\u001B[0mshape\u001B[0m\u001B[0;34m[\u001B[0m\u001B[0;34m-\u001B[0m\u001B[0;36m1\u001B[0m\u001B[0;34m]\u001B[0m\u001B[0;34m)\u001B[0m\u001B[0;34m\u001B[0m\u001B[0;34m\u001B[0m\u001B[0m\n\u001B[0;32m--> 175\u001B[0;31m             \u001B[0mself\u001B[0m\u001B[0;34m.\u001B[0m\u001B[0mdtype\u001B[0m \u001B[0;34m=\u001B[0m \u001B[0mnp\u001B[0m\u001B[0;34m.\u001B[0m\u001B[0masarray\u001B[0m\u001B[0;34m(\u001B[0m\u001B[0mself\u001B[0m\u001B[0;34m.\u001B[0m\u001B[0mmatvec\u001B[0m\u001B[0;34m(\u001B[0m\u001B[0mv\u001B[0m\u001B[0;34m)\u001B[0m\u001B[0;34m)\u001B[0m\u001B[0;34m.\u001B[0m\u001B[0mdtype\u001B[0m\u001B[0;34m\u001B[0m\u001B[0;34m\u001B[0m\u001B[0m\n\u001B[0m\u001B[1;32m    176\u001B[0m \u001B[0;34m\u001B[0m\u001B[0m\n\u001B[1;32m    177\u001B[0m     \u001B[0;32mdef\u001B[0m \u001B[0m_matmat\u001B[0m\u001B[0;34m(\u001B[0m\u001B[0mself\u001B[0m\u001B[0;34m,\u001B[0m \u001B[0mX\u001B[0m\u001B[0;34m)\u001B[0m\u001B[0;34m:\u001B[0m\u001B[0;34m\u001B[0m\u001B[0;34m\u001B[0m\u001B[0m\n",
      "\u001B[0;32m~/opt/anaconda3/envs/pytorch/lib/python3.8/site-packages/scipy/sparse/linalg/interface.py\u001B[0m in \u001B[0;36mmatvec\u001B[0;34m(self, x)\u001B[0m\n\u001B[1;32m    227\u001B[0m             \u001B[0;32mraise\u001B[0m \u001B[0mValueError\u001B[0m\u001B[0;34m(\u001B[0m\u001B[0;34m'dimension mismatch'\u001B[0m\u001B[0;34m)\u001B[0m\u001B[0;34m\u001B[0m\u001B[0;34m\u001B[0m\u001B[0m\n\u001B[1;32m    228\u001B[0m \u001B[0;34m\u001B[0m\u001B[0m\n\u001B[0;32m--> 229\u001B[0;31m         \u001B[0my\u001B[0m \u001B[0;34m=\u001B[0m \u001B[0mself\u001B[0m\u001B[0;34m.\u001B[0m\u001B[0m_matvec\u001B[0m\u001B[0;34m(\u001B[0m\u001B[0mx\u001B[0m\u001B[0;34m)\u001B[0m\u001B[0;34m\u001B[0m\u001B[0;34m\u001B[0m\u001B[0m\n\u001B[0m\u001B[1;32m    230\u001B[0m \u001B[0;34m\u001B[0m\u001B[0m\n\u001B[1;32m    231\u001B[0m         \u001B[0;32mif\u001B[0m \u001B[0misinstance\u001B[0m\u001B[0;34m(\u001B[0m\u001B[0mx\u001B[0m\u001B[0;34m,\u001B[0m \u001B[0mnp\u001B[0m\u001B[0;34m.\u001B[0m\u001B[0mmatrix\u001B[0m\u001B[0;34m)\u001B[0m\u001B[0;34m:\u001B[0m\u001B[0;34m\u001B[0m\u001B[0;34m\u001B[0m\u001B[0m\n",
      "\u001B[0;32m~/opt/anaconda3/envs/pytorch/lib/python3.8/site-packages/scipy/sparse/linalg/interface.py\u001B[0m in \u001B[0;36m_matvec\u001B[0;34m(self, x)\u001B[0m\n\u001B[1;32m    525\u001B[0m \u001B[0;34m\u001B[0m\u001B[0m\n\u001B[1;32m    526\u001B[0m     \u001B[0;32mdef\u001B[0m \u001B[0m_matvec\u001B[0m\u001B[0;34m(\u001B[0m\u001B[0mself\u001B[0m\u001B[0;34m,\u001B[0m \u001B[0mx\u001B[0m\u001B[0;34m)\u001B[0m\u001B[0;34m:\u001B[0m\u001B[0;34m\u001B[0m\u001B[0;34m\u001B[0m\u001B[0m\n\u001B[0;32m--> 527\u001B[0;31m         \u001B[0;32mreturn\u001B[0m \u001B[0mself\u001B[0m\u001B[0;34m.\u001B[0m\u001B[0m__matvec_impl\u001B[0m\u001B[0;34m(\u001B[0m\u001B[0mx\u001B[0m\u001B[0;34m)\u001B[0m\u001B[0;34m\u001B[0m\u001B[0;34m\u001B[0m\u001B[0m\n\u001B[0m\u001B[1;32m    528\u001B[0m \u001B[0;34m\u001B[0m\u001B[0m\n\u001B[1;32m    529\u001B[0m     \u001B[0;32mdef\u001B[0m \u001B[0m_rmatvec\u001B[0m\u001B[0;34m(\u001B[0m\u001B[0mself\u001B[0m\u001B[0;34m,\u001B[0m \u001B[0mx\u001B[0m\u001B[0;34m)\u001B[0m\u001B[0;34m:\u001B[0m\u001B[0;34m\u001B[0m\u001B[0;34m\u001B[0m\u001B[0m\n",
      "\u001B[0;32m~/opt/anaconda3/envs/pytorch/lib/python3.8/site-packages/scipy/optimize/_trustregion_constr/minimize_trustregion_constr.py\u001B[0m in \u001B[0;36mmatvec\u001B[0;34m(p)\u001B[0m\n\u001B[1;32m     32\u001B[0m     \u001B[0;32mdef\u001B[0m \u001B[0m__call__\u001B[0m\u001B[0;34m(\u001B[0m\u001B[0mself\u001B[0m\u001B[0;34m,\u001B[0m \u001B[0mx\u001B[0m\u001B[0;34m,\u001B[0m \u001B[0;34m*\u001B[0m\u001B[0margs\u001B[0m\u001B[0;34m)\u001B[0m\u001B[0;34m:\u001B[0m\u001B[0;34m\u001B[0m\u001B[0;34m\u001B[0m\u001B[0m\n\u001B[1;32m     33\u001B[0m         \u001B[0;32mdef\u001B[0m \u001B[0mmatvec\u001B[0m\u001B[0;34m(\u001B[0m\u001B[0mp\u001B[0m\u001B[0;34m)\u001B[0m\u001B[0;34m:\u001B[0m\u001B[0;34m\u001B[0m\u001B[0;34m\u001B[0m\u001B[0m\n\u001B[0;32m---> 34\u001B[0;31m             \u001B[0;32mreturn\u001B[0m \u001B[0mself\u001B[0m\u001B[0;34m.\u001B[0m\u001B[0mhessp\u001B[0m\u001B[0;34m(\u001B[0m\u001B[0mx\u001B[0m\u001B[0;34m,\u001B[0m \u001B[0mp\u001B[0m\u001B[0;34m,\u001B[0m \u001B[0;34m*\u001B[0m\u001B[0margs\u001B[0m\u001B[0;34m)\u001B[0m\u001B[0;34m\u001B[0m\u001B[0;34m\u001B[0m\u001B[0m\n\u001B[0m\u001B[1;32m     35\u001B[0m \u001B[0;34m\u001B[0m\u001B[0m\n\u001B[1;32m     36\u001B[0m         \u001B[0;32mreturn\u001B[0m \u001B[0mLinearOperator\u001B[0m\u001B[0;34m(\u001B[0m\u001B[0;34m(\u001B[0m\u001B[0mself\u001B[0m\u001B[0;34m.\u001B[0m\u001B[0mn\u001B[0m\u001B[0;34m,\u001B[0m \u001B[0mself\u001B[0m\u001B[0;34m.\u001B[0m\u001B[0mn\u001B[0m\u001B[0;34m)\u001B[0m\u001B[0;34m,\u001B[0m \u001B[0mmatvec\u001B[0m\u001B[0;34m=\u001B[0m\u001B[0mmatvec\u001B[0m\u001B[0;34m)\u001B[0m\u001B[0;34m\u001B[0m\u001B[0;34m\u001B[0m\u001B[0m\n",
      "\u001B[0;32m~/opt/anaconda3/envs/pytorch/lib/python3.8/site-packages/jax/traceback_util.py\u001B[0m in \u001B[0;36mreraise_with_filtered_traceback\u001B[0;34m(*args, **kwargs)\u001B[0m\n\u001B[1;32m    135\u001B[0m   \u001B[0;32mdef\u001B[0m \u001B[0mreraise_with_filtered_traceback\u001B[0m\u001B[0;34m(\u001B[0m\u001B[0;34m*\u001B[0m\u001B[0margs\u001B[0m\u001B[0;34m,\u001B[0m \u001B[0;34m**\u001B[0m\u001B[0mkwargs\u001B[0m\u001B[0;34m)\u001B[0m\u001B[0;34m:\u001B[0m\u001B[0;34m\u001B[0m\u001B[0;34m\u001B[0m\u001B[0m\n\u001B[1;32m    136\u001B[0m     \u001B[0;32mtry\u001B[0m\u001B[0;34m:\u001B[0m\u001B[0;34m\u001B[0m\u001B[0;34m\u001B[0m\u001B[0m\n\u001B[0;32m--> 137\u001B[0;31m       \u001B[0;32mreturn\u001B[0m \u001B[0mfun\u001B[0m\u001B[0;34m(\u001B[0m\u001B[0;34m*\u001B[0m\u001B[0margs\u001B[0m\u001B[0;34m,\u001B[0m \u001B[0;34m**\u001B[0m\u001B[0mkwargs\u001B[0m\u001B[0;34m)\u001B[0m\u001B[0;34m\u001B[0m\u001B[0;34m\u001B[0m\u001B[0m\n\u001B[0m\u001B[1;32m    138\u001B[0m     \u001B[0;32mexcept\u001B[0m \u001B[0mException\u001B[0m \u001B[0;32mas\u001B[0m \u001B[0me\u001B[0m\u001B[0;34m:\u001B[0m\u001B[0;34m\u001B[0m\u001B[0;34m\u001B[0m\u001B[0m\n\u001B[1;32m    139\u001B[0m       \u001B[0;32mif\u001B[0m \u001B[0;32mnot\u001B[0m \u001B[0mis_under_reraiser\u001B[0m\u001B[0;34m(\u001B[0m\u001B[0me\u001B[0m\u001B[0;34m)\u001B[0m\u001B[0;34m:\u001B[0m\u001B[0;34m\u001B[0m\u001B[0;34m\u001B[0m\u001B[0m\n",
      "\u001B[0;32m~/opt/anaconda3/envs/pytorch/lib/python3.8/site-packages/jax/api.py\u001B[0m in \u001B[0;36mf_jitted\u001B[0;34m(*args, **kwargs)\u001B[0m\n\u001B[1;32m    207\u001B[0m       \u001B[0m_check_arg\u001B[0m\u001B[0;34m(\u001B[0m\u001B[0marg\u001B[0m\u001B[0;34m)\u001B[0m\u001B[0;34m\u001B[0m\u001B[0;34m\u001B[0m\u001B[0m\n\u001B[1;32m    208\u001B[0m     \u001B[0mflat_fun\u001B[0m\u001B[0;34m,\u001B[0m \u001B[0mout_tree\u001B[0m \u001B[0;34m=\u001B[0m \u001B[0mflatten_fun\u001B[0m\u001B[0;34m(\u001B[0m\u001B[0mf\u001B[0m\u001B[0;34m,\u001B[0m \u001B[0min_tree\u001B[0m\u001B[0;34m)\u001B[0m\u001B[0;34m\u001B[0m\u001B[0;34m\u001B[0m\u001B[0m\n\u001B[0;32m--> 209\u001B[0;31m     out = xla.xla_call(\n\u001B[0m\u001B[1;32m    210\u001B[0m         \u001B[0mflat_fun\u001B[0m\u001B[0;34m,\u001B[0m\u001B[0;34m\u001B[0m\u001B[0;34m\u001B[0m\u001B[0m\n\u001B[1;32m    211\u001B[0m         \u001B[0;34m*\u001B[0m\u001B[0margs_flat\u001B[0m\u001B[0;34m,\u001B[0m\u001B[0;34m\u001B[0m\u001B[0;34m\u001B[0m\u001B[0m\n",
      "\u001B[0;32m~/opt/anaconda3/envs/pytorch/lib/python3.8/site-packages/jax/core.py\u001B[0m in \u001B[0;36mbind\u001B[0;34m(self, fun, *args, **params)\u001B[0m\n\u001B[1;32m   1142\u001B[0m \u001B[0;34m\u001B[0m\u001B[0m\n\u001B[1;32m   1143\u001B[0m   \u001B[0;32mdef\u001B[0m \u001B[0mbind\u001B[0m\u001B[0;34m(\u001B[0m\u001B[0mself\u001B[0m\u001B[0;34m,\u001B[0m \u001B[0mfun\u001B[0m\u001B[0;34m,\u001B[0m \u001B[0;34m*\u001B[0m\u001B[0margs\u001B[0m\u001B[0;34m,\u001B[0m \u001B[0;34m**\u001B[0m\u001B[0mparams\u001B[0m\u001B[0;34m)\u001B[0m\u001B[0;34m:\u001B[0m\u001B[0;34m\u001B[0m\u001B[0;34m\u001B[0m\u001B[0m\n\u001B[0;32m-> 1144\u001B[0;31m     \u001B[0;32mreturn\u001B[0m \u001B[0mcall_bind\u001B[0m\u001B[0;34m(\u001B[0m\u001B[0mself\u001B[0m\u001B[0;34m,\u001B[0m \u001B[0mfun\u001B[0m\u001B[0;34m,\u001B[0m \u001B[0;34m*\u001B[0m\u001B[0margs\u001B[0m\u001B[0;34m,\u001B[0m \u001B[0;34m**\u001B[0m\u001B[0mparams\u001B[0m\u001B[0;34m)\u001B[0m\u001B[0;34m\u001B[0m\u001B[0;34m\u001B[0m\u001B[0m\n\u001B[0m\u001B[1;32m   1145\u001B[0m \u001B[0;34m\u001B[0m\u001B[0m\n\u001B[1;32m   1146\u001B[0m   \u001B[0;32mdef\u001B[0m \u001B[0mprocess\u001B[0m\u001B[0;34m(\u001B[0m\u001B[0mself\u001B[0m\u001B[0;34m,\u001B[0m \u001B[0mtrace\u001B[0m\u001B[0;34m,\u001B[0m \u001B[0mfun\u001B[0m\u001B[0;34m,\u001B[0m \u001B[0mtracers\u001B[0m\u001B[0;34m,\u001B[0m \u001B[0mparams\u001B[0m\u001B[0;34m)\u001B[0m\u001B[0;34m:\u001B[0m\u001B[0;34m\u001B[0m\u001B[0;34m\u001B[0m\u001B[0m\n",
      "\u001B[0;32m~/opt/anaconda3/envs/pytorch/lib/python3.8/site-packages/jax/core.py\u001B[0m in \u001B[0;36mcall_bind\u001B[0;34m(primitive, fun, *args, **params)\u001B[0m\n\u001B[1;32m   1133\u001B[0m   \u001B[0mtracers\u001B[0m \u001B[0;34m=\u001B[0m \u001B[0mmap\u001B[0m\u001B[0;34m(\u001B[0m\u001B[0mtop_trace\u001B[0m\u001B[0;34m.\u001B[0m\u001B[0mfull_raise\u001B[0m\u001B[0;34m,\u001B[0m \u001B[0margs\u001B[0m\u001B[0;34m)\u001B[0m\u001B[0;34m\u001B[0m\u001B[0;34m\u001B[0m\u001B[0m\n\u001B[1;32m   1134\u001B[0m   \u001B[0;32mwith\u001B[0m \u001B[0mmaybe_new_sublevel\u001B[0m\u001B[0;34m(\u001B[0m\u001B[0mtop_trace\u001B[0m\u001B[0;34m)\u001B[0m\u001B[0;34m:\u001B[0m\u001B[0;34m\u001B[0m\u001B[0;34m\u001B[0m\u001B[0m\n\u001B[0;32m-> 1135\u001B[0;31m     \u001B[0mouts\u001B[0m \u001B[0;34m=\u001B[0m \u001B[0mprimitive\u001B[0m\u001B[0;34m.\u001B[0m\u001B[0mprocess\u001B[0m\u001B[0;34m(\u001B[0m\u001B[0mtop_trace\u001B[0m\u001B[0;34m,\u001B[0m \u001B[0mfun\u001B[0m\u001B[0;34m,\u001B[0m \u001B[0mtracers\u001B[0m\u001B[0;34m,\u001B[0m \u001B[0mparams\u001B[0m\u001B[0;34m)\u001B[0m\u001B[0;34m\u001B[0m\u001B[0;34m\u001B[0m\u001B[0m\n\u001B[0m\u001B[1;32m   1136\u001B[0m   \u001B[0;32mreturn\u001B[0m \u001B[0mmap\u001B[0m\u001B[0;34m(\u001B[0m\u001B[0mfull_lower\u001B[0m\u001B[0;34m,\u001B[0m \u001B[0mapply_todos\u001B[0m\u001B[0;34m(\u001B[0m\u001B[0menv_trace_todo\u001B[0m\u001B[0;34m(\u001B[0m\u001B[0;34m)\u001B[0m\u001B[0;34m,\u001B[0m \u001B[0mouts\u001B[0m\u001B[0;34m)\u001B[0m\u001B[0;34m)\u001B[0m\u001B[0;34m\u001B[0m\u001B[0;34m\u001B[0m\u001B[0m\n\u001B[1;32m   1137\u001B[0m \u001B[0;34m\u001B[0m\u001B[0m\n",
      "\u001B[0;32m~/opt/anaconda3/envs/pytorch/lib/python3.8/site-packages/jax/core.py\u001B[0m in \u001B[0;36mprocess\u001B[0;34m(self, trace, fun, tracers, params)\u001B[0m\n\u001B[1;32m   1145\u001B[0m \u001B[0;34m\u001B[0m\u001B[0m\n\u001B[1;32m   1146\u001B[0m   \u001B[0;32mdef\u001B[0m \u001B[0mprocess\u001B[0m\u001B[0;34m(\u001B[0m\u001B[0mself\u001B[0m\u001B[0;34m,\u001B[0m \u001B[0mtrace\u001B[0m\u001B[0;34m,\u001B[0m \u001B[0mfun\u001B[0m\u001B[0;34m,\u001B[0m \u001B[0mtracers\u001B[0m\u001B[0;34m,\u001B[0m \u001B[0mparams\u001B[0m\u001B[0;34m)\u001B[0m\u001B[0;34m:\u001B[0m\u001B[0;34m\u001B[0m\u001B[0;34m\u001B[0m\u001B[0m\n\u001B[0;32m-> 1147\u001B[0;31m     \u001B[0;32mreturn\u001B[0m \u001B[0mtrace\u001B[0m\u001B[0;34m.\u001B[0m\u001B[0mprocess_call\u001B[0m\u001B[0;34m(\u001B[0m\u001B[0mself\u001B[0m\u001B[0;34m,\u001B[0m \u001B[0mfun\u001B[0m\u001B[0;34m,\u001B[0m \u001B[0mtracers\u001B[0m\u001B[0;34m,\u001B[0m \u001B[0mparams\u001B[0m\u001B[0;34m)\u001B[0m\u001B[0;34m\u001B[0m\u001B[0;34m\u001B[0m\u001B[0m\n\u001B[0m\u001B[1;32m   1148\u001B[0m \u001B[0;34m\u001B[0m\u001B[0m\n\u001B[1;32m   1149\u001B[0m   \u001B[0;32mdef\u001B[0m \u001B[0mpost_process\u001B[0m\u001B[0;34m(\u001B[0m\u001B[0mself\u001B[0m\u001B[0;34m,\u001B[0m \u001B[0mtrace\u001B[0m\u001B[0;34m,\u001B[0m \u001B[0mout_tracers\u001B[0m\u001B[0;34m,\u001B[0m \u001B[0mparams\u001B[0m\u001B[0;34m)\u001B[0m\u001B[0;34m:\u001B[0m\u001B[0;34m\u001B[0m\u001B[0;34m\u001B[0m\u001B[0m\n",
      "\u001B[0;32m~/opt/anaconda3/envs/pytorch/lib/python3.8/site-packages/jax/core.py\u001B[0m in \u001B[0;36mprocess_call\u001B[0;34m(self, primitive, f, tracers, params)\u001B[0m\n\u001B[1;32m    575\u001B[0m \u001B[0;34m\u001B[0m\u001B[0m\n\u001B[1;32m    576\u001B[0m   \u001B[0;32mdef\u001B[0m \u001B[0mprocess_call\u001B[0m\u001B[0;34m(\u001B[0m\u001B[0mself\u001B[0m\u001B[0;34m,\u001B[0m \u001B[0mprimitive\u001B[0m\u001B[0;34m,\u001B[0m \u001B[0mf\u001B[0m\u001B[0;34m,\u001B[0m \u001B[0mtracers\u001B[0m\u001B[0;34m,\u001B[0m \u001B[0mparams\u001B[0m\u001B[0;34m)\u001B[0m\u001B[0;34m:\u001B[0m\u001B[0;34m\u001B[0m\u001B[0;34m\u001B[0m\u001B[0m\n\u001B[0;32m--> 577\u001B[0;31m     \u001B[0;32mreturn\u001B[0m \u001B[0mprimitive\u001B[0m\u001B[0;34m.\u001B[0m\u001B[0mimpl\u001B[0m\u001B[0;34m(\u001B[0m\u001B[0mf\u001B[0m\u001B[0;34m,\u001B[0m \u001B[0;34m*\u001B[0m\u001B[0mtracers\u001B[0m\u001B[0;34m,\u001B[0m \u001B[0;34m**\u001B[0m\u001B[0mparams\u001B[0m\u001B[0;34m)\u001B[0m\u001B[0;34m\u001B[0m\u001B[0;34m\u001B[0m\u001B[0m\n\u001B[0m\u001B[1;32m    578\u001B[0m   \u001B[0mprocess_map\u001B[0m \u001B[0;34m=\u001B[0m \u001B[0mprocess_call\u001B[0m\u001B[0;34m\u001B[0m\u001B[0;34m\u001B[0m\u001B[0m\n\u001B[1;32m    579\u001B[0m \u001B[0;34m\u001B[0m\u001B[0m\n",
      "\u001B[0;32m~/opt/anaconda3/envs/pytorch/lib/python3.8/site-packages/jax/interpreters/xla.py\u001B[0m in \u001B[0;36m_xla_call_impl\u001B[0;34m(fun, device, backend, name, donated_invars, *args)\u001B[0m\n\u001B[1;32m    527\u001B[0m \u001B[0;34m\u001B[0m\u001B[0m\n\u001B[1;32m    528\u001B[0m \u001B[0;32mdef\u001B[0m \u001B[0m_xla_call_impl\u001B[0m\u001B[0;34m(\u001B[0m\u001B[0mfun\u001B[0m\u001B[0;34m:\u001B[0m \u001B[0mlu\u001B[0m\u001B[0;34m.\u001B[0m\u001B[0mWrappedFun\u001B[0m\u001B[0;34m,\u001B[0m \u001B[0;34m*\u001B[0m\u001B[0margs\u001B[0m\u001B[0;34m,\u001B[0m \u001B[0mdevice\u001B[0m\u001B[0;34m,\u001B[0m \u001B[0mbackend\u001B[0m\u001B[0;34m,\u001B[0m \u001B[0mname\u001B[0m\u001B[0;34m,\u001B[0m \u001B[0mdonated_invars\u001B[0m\u001B[0;34m)\u001B[0m\u001B[0;34m:\u001B[0m\u001B[0;34m\u001B[0m\u001B[0;34m\u001B[0m\u001B[0m\n\u001B[0;32m--> 529\u001B[0;31m   compiled_fun = _xla_callable(fun, device, backend, name, donated_invars,\n\u001B[0m\u001B[1;32m    530\u001B[0m                                *unsafe_map(arg_spec, args))\n\u001B[1;32m    531\u001B[0m   \u001B[0;32mtry\u001B[0m\u001B[0;34m:\u001B[0m\u001B[0;34m\u001B[0m\u001B[0;34m\u001B[0m\u001B[0m\n",
      "\u001B[0;32m~/opt/anaconda3/envs/pytorch/lib/python3.8/site-packages/jax/linear_util.py\u001B[0m in \u001B[0;36mmemoized_fun\u001B[0;34m(fun, *args)\u001B[0m\n\u001B[1;32m    232\u001B[0m       \u001B[0mfun\u001B[0m\u001B[0;34m.\u001B[0m\u001B[0mpopulate_stores\u001B[0m\u001B[0;34m(\u001B[0m\u001B[0mstores\u001B[0m\u001B[0;34m)\u001B[0m\u001B[0;34m\u001B[0m\u001B[0;34m\u001B[0m\u001B[0m\n\u001B[1;32m    233\u001B[0m     \u001B[0;32melse\u001B[0m\u001B[0;34m:\u001B[0m\u001B[0;34m\u001B[0m\u001B[0;34m\u001B[0m\u001B[0m\n\u001B[0;32m--> 234\u001B[0;31m       \u001B[0mans\u001B[0m \u001B[0;34m=\u001B[0m \u001B[0mcall\u001B[0m\u001B[0;34m(\u001B[0m\u001B[0mfun\u001B[0m\u001B[0;34m,\u001B[0m \u001B[0;34m*\u001B[0m\u001B[0margs\u001B[0m\u001B[0;34m)\u001B[0m\u001B[0;34m\u001B[0m\u001B[0;34m\u001B[0m\u001B[0m\n\u001B[0m\u001B[1;32m    235\u001B[0m       \u001B[0mcache\u001B[0m\u001B[0;34m[\u001B[0m\u001B[0mkey\u001B[0m\u001B[0;34m]\u001B[0m \u001B[0;34m=\u001B[0m \u001B[0;34m(\u001B[0m\u001B[0mans\u001B[0m\u001B[0;34m,\u001B[0m \u001B[0mfun\u001B[0m\u001B[0;34m.\u001B[0m\u001B[0mstores\u001B[0m\u001B[0;34m)\u001B[0m\u001B[0;34m\u001B[0m\u001B[0;34m\u001B[0m\u001B[0m\n\u001B[1;32m    236\u001B[0m     \u001B[0;32mreturn\u001B[0m \u001B[0mans\u001B[0m\u001B[0;34m\u001B[0m\u001B[0;34m\u001B[0m\u001B[0m\n",
      "\u001B[0;32m~/opt/anaconda3/envs/pytorch/lib/python3.8/site-packages/jax/interpreters/xla.py\u001B[0m in \u001B[0;36m_xla_callable\u001B[0;34m(fun, device, backend, name, donated_invars, *arg_specs)\u001B[0m\n\u001B[1;32m    593\u001B[0m   \u001B[0mabstract_args\u001B[0m\u001B[0;34m,\u001B[0m \u001B[0marg_devices\u001B[0m \u001B[0;34m=\u001B[0m \u001B[0munzip2\u001B[0m\u001B[0;34m(\u001B[0m\u001B[0marg_specs\u001B[0m\u001B[0;34m)\u001B[0m\u001B[0;34m\u001B[0m\u001B[0;34m\u001B[0m\u001B[0m\n\u001B[1;32m    594\u001B[0m   \u001B[0;32mif\u001B[0m \u001B[0mconfig\u001B[0m\u001B[0;34m.\u001B[0m\u001B[0momnistaging_enabled\u001B[0m\u001B[0;34m:\u001B[0m\u001B[0;34m\u001B[0m\u001B[0;34m\u001B[0m\u001B[0m\n\u001B[0;32m--> 595\u001B[0;31m     \u001B[0mjaxpr\u001B[0m\u001B[0;34m,\u001B[0m \u001B[0mout_avals\u001B[0m\u001B[0;34m,\u001B[0m \u001B[0mconsts\u001B[0m \u001B[0;34m=\u001B[0m \u001B[0mpe\u001B[0m\u001B[0;34m.\u001B[0m\u001B[0mtrace_to_jaxpr_final\u001B[0m\u001B[0;34m(\u001B[0m\u001B[0mfun\u001B[0m\u001B[0;34m,\u001B[0m \u001B[0mabstract_args\u001B[0m\u001B[0;34m)\u001B[0m\u001B[0;34m\u001B[0m\u001B[0;34m\u001B[0m\u001B[0m\n\u001B[0m\u001B[1;32m    596\u001B[0m     \u001B[0;32mif\u001B[0m \u001B[0many\u001B[0m\u001B[0;34m(\u001B[0m\u001B[0misinstance\u001B[0m\u001B[0;34m(\u001B[0m\u001B[0mc\u001B[0m\u001B[0;34m,\u001B[0m \u001B[0mcore\u001B[0m\u001B[0;34m.\u001B[0m\u001B[0mTracer\u001B[0m\u001B[0;34m)\u001B[0m \u001B[0;32mfor\u001B[0m \u001B[0mc\u001B[0m \u001B[0;32min\u001B[0m \u001B[0mconsts\u001B[0m\u001B[0;34m)\u001B[0m\u001B[0;34m:\u001B[0m\u001B[0;34m\u001B[0m\u001B[0;34m\u001B[0m\u001B[0m\n\u001B[1;32m    597\u001B[0m       \u001B[0;32mraise\u001B[0m \u001B[0mcore\u001B[0m\u001B[0;34m.\u001B[0m\u001B[0mUnexpectedTracerError\u001B[0m\u001B[0;34m(\u001B[0m\u001B[0;34m\"Encountered an unexpected tracer.\"\u001B[0m\u001B[0;34m)\u001B[0m\u001B[0;34m\u001B[0m\u001B[0;34m\u001B[0m\u001B[0m\n",
      "\u001B[0;32m~/opt/anaconda3/envs/pytorch/lib/python3.8/site-packages/jax/interpreters/partial_eval.py\u001B[0m in \u001B[0;36mtrace_to_jaxpr_final\u001B[0;34m(fun, in_avals)\u001B[0m\n\u001B[1;32m   1021\u001B[0m     \u001B[0mmain\u001B[0m\u001B[0;34m.\u001B[0m\u001B[0msource_info\u001B[0m \u001B[0;34m=\u001B[0m \u001B[0mfun_sourceinfo\u001B[0m\u001B[0;34m(\u001B[0m\u001B[0mfun\u001B[0m\u001B[0;34m.\u001B[0m\u001B[0mf\u001B[0m\u001B[0;34m)\u001B[0m  \u001B[0;31m# type: ignore\u001B[0m\u001B[0;34m\u001B[0m\u001B[0;34m\u001B[0m\u001B[0m\n\u001B[1;32m   1022\u001B[0m     \u001B[0mmain\u001B[0m\u001B[0;34m.\u001B[0m\u001B[0mjaxpr_stack\u001B[0m \u001B[0;34m=\u001B[0m \u001B[0;34m(\u001B[0m\u001B[0;34m)\u001B[0m  \u001B[0;31m# type: ignore\u001B[0m\u001B[0;34m\u001B[0m\u001B[0;34m\u001B[0m\u001B[0m\n\u001B[0;32m-> 1023\u001B[0;31m     \u001B[0mjaxpr\u001B[0m\u001B[0;34m,\u001B[0m \u001B[0mout_avals\u001B[0m\u001B[0;34m,\u001B[0m \u001B[0mconsts\u001B[0m \u001B[0;34m=\u001B[0m \u001B[0mtrace_to_subjaxpr_dynamic\u001B[0m\u001B[0;34m(\u001B[0m\u001B[0mfun\u001B[0m\u001B[0;34m,\u001B[0m \u001B[0mmain\u001B[0m\u001B[0;34m,\u001B[0m \u001B[0min_avals\u001B[0m\u001B[0;34m)\u001B[0m\u001B[0;34m\u001B[0m\u001B[0;34m\u001B[0m\u001B[0m\n\u001B[0m\u001B[1;32m   1024\u001B[0m     \u001B[0;32mdel\u001B[0m \u001B[0mmain\u001B[0m\u001B[0;34m\u001B[0m\u001B[0;34m\u001B[0m\u001B[0m\n\u001B[1;32m   1025\u001B[0m   \u001B[0;32mreturn\u001B[0m \u001B[0mjaxpr\u001B[0m\u001B[0;34m,\u001B[0m \u001B[0mout_avals\u001B[0m\u001B[0;34m,\u001B[0m \u001B[0mconsts\u001B[0m\u001B[0;34m\u001B[0m\u001B[0;34m\u001B[0m\u001B[0m\n",
      "\u001B[0;32m~/opt/anaconda3/envs/pytorch/lib/python3.8/site-packages/jax/interpreters/partial_eval.py\u001B[0m in \u001B[0;36mtrace_to_subjaxpr_dynamic\u001B[0;34m(fun, main, in_avals)\u001B[0m\n\u001B[1;32m   1002\u001B[0m     \u001B[0mtrace\u001B[0m \u001B[0;34m=\u001B[0m \u001B[0mDynamicJaxprTrace\u001B[0m\u001B[0;34m(\u001B[0m\u001B[0mmain\u001B[0m\u001B[0;34m,\u001B[0m \u001B[0mcore\u001B[0m\u001B[0;34m.\u001B[0m\u001B[0mcur_sublevel\u001B[0m\u001B[0;34m(\u001B[0m\u001B[0;34m)\u001B[0m\u001B[0;34m)\u001B[0m\u001B[0;34m\u001B[0m\u001B[0;34m\u001B[0m\u001B[0m\n\u001B[1;32m   1003\u001B[0m     \u001B[0min_tracers\u001B[0m \u001B[0;34m=\u001B[0m \u001B[0mmap\u001B[0m\u001B[0;34m(\u001B[0m\u001B[0mtrace\u001B[0m\u001B[0;34m.\u001B[0m\u001B[0mnew_arg\u001B[0m\u001B[0;34m,\u001B[0m \u001B[0min_avals\u001B[0m\u001B[0;34m)\u001B[0m\u001B[0;34m\u001B[0m\u001B[0;34m\u001B[0m\u001B[0m\n\u001B[0;32m-> 1004\u001B[0;31m     \u001B[0mans\u001B[0m \u001B[0;34m=\u001B[0m \u001B[0mfun\u001B[0m\u001B[0;34m.\u001B[0m\u001B[0mcall_wrapped\u001B[0m\u001B[0;34m(\u001B[0m\u001B[0;34m*\u001B[0m\u001B[0min_tracers\u001B[0m\u001B[0;34m)\u001B[0m\u001B[0;34m\u001B[0m\u001B[0;34m\u001B[0m\u001B[0m\n\u001B[0m\u001B[1;32m   1005\u001B[0m     \u001B[0mout_tracers\u001B[0m \u001B[0;34m=\u001B[0m \u001B[0mmap\u001B[0m\u001B[0;34m(\u001B[0m\u001B[0mtrace\u001B[0m\u001B[0;34m.\u001B[0m\u001B[0mfull_raise\u001B[0m\u001B[0;34m,\u001B[0m \u001B[0mans\u001B[0m\u001B[0;34m)\u001B[0m\u001B[0;34m\u001B[0m\u001B[0;34m\u001B[0m\u001B[0m\n\u001B[1;32m   1006\u001B[0m   \u001B[0mjaxpr\u001B[0m\u001B[0;34m,\u001B[0m \u001B[0mout_avals\u001B[0m\u001B[0;34m,\u001B[0m \u001B[0mconsts\u001B[0m \u001B[0;34m=\u001B[0m \u001B[0mframe\u001B[0m\u001B[0;34m.\u001B[0m\u001B[0mto_jaxpr\u001B[0m\u001B[0;34m(\u001B[0m\u001B[0min_tracers\u001B[0m\u001B[0;34m,\u001B[0m \u001B[0mout_tracers\u001B[0m\u001B[0;34m)\u001B[0m\u001B[0;34m\u001B[0m\u001B[0;34m\u001B[0m\u001B[0m\n",
      "\u001B[0;32m~/opt/anaconda3/envs/pytorch/lib/python3.8/site-packages/jax/linear_util.py\u001B[0m in \u001B[0;36mcall_wrapped\u001B[0;34m(self, *args, **kwargs)\u001B[0m\n\u001B[1;32m    149\u001B[0m \u001B[0;34m\u001B[0m\u001B[0m\n\u001B[1;32m    150\u001B[0m     \u001B[0;32mtry\u001B[0m\u001B[0;34m:\u001B[0m\u001B[0;34m\u001B[0m\u001B[0;34m\u001B[0m\u001B[0m\n\u001B[0;32m--> 151\u001B[0;31m       \u001B[0mans\u001B[0m \u001B[0;34m=\u001B[0m \u001B[0mself\u001B[0m\u001B[0;34m.\u001B[0m\u001B[0mf\u001B[0m\u001B[0;34m(\u001B[0m\u001B[0;34m*\u001B[0m\u001B[0margs\u001B[0m\u001B[0;34m,\u001B[0m \u001B[0;34m**\u001B[0m\u001B[0mdict\u001B[0m\u001B[0;34m(\u001B[0m\u001B[0mself\u001B[0m\u001B[0;34m.\u001B[0m\u001B[0mparams\u001B[0m\u001B[0;34m,\u001B[0m \u001B[0;34m**\u001B[0m\u001B[0mkwargs\u001B[0m\u001B[0;34m)\u001B[0m\u001B[0;34m)\u001B[0m\u001B[0;34m\u001B[0m\u001B[0;34m\u001B[0m\u001B[0m\n\u001B[0m\u001B[1;32m    152\u001B[0m     \u001B[0;32mexcept\u001B[0m\u001B[0;34m:\u001B[0m\u001B[0;34m\u001B[0m\u001B[0;34m\u001B[0m\u001B[0m\n\u001B[1;32m    153\u001B[0m       \u001B[0;31m# Some transformations yield from inside context managers, so we have to\u001B[0m\u001B[0;34m\u001B[0m\u001B[0;34m\u001B[0m\u001B[0;34m\u001B[0m\u001B[0m\n",
      "\u001B[0;32m~/Documents/GitHub/CHE2064/tools/tree_array_transform.py\u001B[0m in \u001B[0;36mhvp\u001B[0;34m(x, p)\u001B[0m\n\u001B[1;32m     84\u001B[0m         \u001B[0;34m@\u001B[0m\u001B[0mjax\u001B[0m\u001B[0;34m.\u001B[0m\u001B[0mjit\u001B[0m\u001B[0;34m\u001B[0m\u001B[0;34m\u001B[0m\u001B[0m\n\u001B[1;32m     85\u001B[0m         \u001B[0;32mdef\u001B[0m \u001B[0mhvp\u001B[0m\u001B[0;34m(\u001B[0m\u001B[0mx\u001B[0m\u001B[0;34m,\u001B[0m\u001B[0mp\u001B[0m\u001B[0;34m)\u001B[0m\u001B[0;34m:\u001B[0m\u001B[0;34m\u001B[0m\u001B[0;34m\u001B[0m\u001B[0m\n\u001B[0;32m---> 86\u001B[0;31m             \u001B[0;32mreturn\u001B[0m \u001B[0mjax\u001B[0m\u001B[0;34m.\u001B[0m\u001B[0mgrad\u001B[0m\u001B[0;34m(\u001B[0m\u001B[0;32mlambda\u001B[0m \u001B[0mx\u001B[0m\u001B[0;34m:\u001B[0m \u001B[0mjnp\u001B[0m\u001B[0;34m.\u001B[0m\u001B[0mvdot\u001B[0m\u001B[0;34m(\u001B[0m\u001B[0mjax\u001B[0m\u001B[0;34m.\u001B[0m\u001B[0mgrad\u001B[0m\u001B[0;34m(\u001B[0m\u001B[0mmodel_f\u001B[0m\u001B[0;34m)\u001B[0m\u001B[0;34m(\u001B[0m\u001B[0mx\u001B[0m\u001B[0;34m)\u001B[0m\u001B[0;34m,\u001B[0m\u001B[0mp\u001B[0m\u001B[0;34m)\u001B[0m\u001B[0;34m)\u001B[0m\u001B[0;34m(\u001B[0m\u001B[0mx\u001B[0m\u001B[0;34m)\u001B[0m\u001B[0;34m\u001B[0m\u001B[0;34m\u001B[0m\u001B[0m\n\u001B[0m\u001B[1;32m     87\u001B[0m \u001B[0;34m\u001B[0m\u001B[0m\n\u001B[1;32m     88\u001B[0m         \u001B[0;32mdef\u001B[0m \u001B[0mcb\u001B[0m\u001B[0;34m(\u001B[0m\u001B[0mxk\u001B[0m\u001B[0;34m,\u001B[0m \u001B[0mstate\u001B[0m\u001B[0;34m)\u001B[0m\u001B[0;34m:\u001B[0m\u001B[0;34m\u001B[0m\u001B[0;34m\u001B[0m\u001B[0m\n",
      "\u001B[0;32m~/opt/anaconda3/envs/pytorch/lib/python3.8/site-packages/jax/traceback_util.py\u001B[0m in \u001B[0;36mreraise_with_filtered_traceback\u001B[0;34m(*args, **kwargs)\u001B[0m\n\u001B[1;32m    135\u001B[0m   \u001B[0;32mdef\u001B[0m \u001B[0mreraise_with_filtered_traceback\u001B[0m\u001B[0;34m(\u001B[0m\u001B[0;34m*\u001B[0m\u001B[0margs\u001B[0m\u001B[0;34m,\u001B[0m \u001B[0;34m**\u001B[0m\u001B[0mkwargs\u001B[0m\u001B[0;34m)\u001B[0m\u001B[0;34m:\u001B[0m\u001B[0;34m\u001B[0m\u001B[0;34m\u001B[0m\u001B[0m\n\u001B[1;32m    136\u001B[0m     \u001B[0;32mtry\u001B[0m\u001B[0;34m:\u001B[0m\u001B[0;34m\u001B[0m\u001B[0;34m\u001B[0m\u001B[0m\n\u001B[0;32m--> 137\u001B[0;31m       \u001B[0;32mreturn\u001B[0m \u001B[0mfun\u001B[0m\u001B[0;34m(\u001B[0m\u001B[0;34m*\u001B[0m\u001B[0margs\u001B[0m\u001B[0;34m,\u001B[0m \u001B[0;34m**\u001B[0m\u001B[0mkwargs\u001B[0m\u001B[0;34m)\u001B[0m\u001B[0;34m\u001B[0m\u001B[0;34m\u001B[0m\u001B[0m\n\u001B[0m\u001B[1;32m    138\u001B[0m     \u001B[0;32mexcept\u001B[0m \u001B[0mException\u001B[0m \u001B[0;32mas\u001B[0m \u001B[0me\u001B[0m\u001B[0;34m:\u001B[0m\u001B[0;34m\u001B[0m\u001B[0;34m\u001B[0m\u001B[0m\n\u001B[1;32m    139\u001B[0m       \u001B[0;32mif\u001B[0m \u001B[0;32mnot\u001B[0m \u001B[0mis_under_reraiser\u001B[0m\u001B[0;34m(\u001B[0m\u001B[0me\u001B[0m\u001B[0;34m)\u001B[0m\u001B[0;34m:\u001B[0m\u001B[0;34m\u001B[0m\u001B[0;34m\u001B[0m\u001B[0m\n",
      "\u001B[0;32m~/opt/anaconda3/envs/pytorch/lib/python3.8/site-packages/jax/api.py\u001B[0m in \u001B[0;36mgrad_f\u001B[0;34m(*args, **kwargs)\u001B[0m\n\u001B[1;32m    742\u001B[0m   \u001B[0;34m@\u001B[0m\u001B[0mapi_boundary\u001B[0m\u001B[0;34m\u001B[0m\u001B[0;34m\u001B[0m\u001B[0m\n\u001B[1;32m    743\u001B[0m   \u001B[0;32mdef\u001B[0m \u001B[0mgrad_f\u001B[0m\u001B[0;34m(\u001B[0m\u001B[0;34m*\u001B[0m\u001B[0margs\u001B[0m\u001B[0;34m,\u001B[0m \u001B[0;34m**\u001B[0m\u001B[0mkwargs\u001B[0m\u001B[0;34m)\u001B[0m\u001B[0;34m:\u001B[0m\u001B[0;34m\u001B[0m\u001B[0;34m\u001B[0m\u001B[0m\n\u001B[0;32m--> 744\u001B[0;31m     \u001B[0m_\u001B[0m\u001B[0;34m,\u001B[0m \u001B[0mg\u001B[0m \u001B[0;34m=\u001B[0m \u001B[0mvalue_and_grad_f\u001B[0m\u001B[0;34m(\u001B[0m\u001B[0;34m*\u001B[0m\u001B[0margs\u001B[0m\u001B[0;34m,\u001B[0m \u001B[0;34m**\u001B[0m\u001B[0mkwargs\u001B[0m\u001B[0;34m)\u001B[0m\u001B[0;34m\u001B[0m\u001B[0;34m\u001B[0m\u001B[0m\n\u001B[0m\u001B[1;32m    745\u001B[0m     \u001B[0;32mreturn\u001B[0m \u001B[0mg\u001B[0m\u001B[0;34m\u001B[0m\u001B[0;34m\u001B[0m\u001B[0m\n\u001B[1;32m    746\u001B[0m \u001B[0;34m\u001B[0m\u001B[0m\n",
      "\u001B[0;32m~/opt/anaconda3/envs/pytorch/lib/python3.8/site-packages/jax/traceback_util.py\u001B[0m in \u001B[0;36mreraise_with_filtered_traceback\u001B[0;34m(*args, **kwargs)\u001B[0m\n\u001B[1;32m    135\u001B[0m   \u001B[0;32mdef\u001B[0m \u001B[0mreraise_with_filtered_traceback\u001B[0m\u001B[0;34m(\u001B[0m\u001B[0;34m*\u001B[0m\u001B[0margs\u001B[0m\u001B[0;34m,\u001B[0m \u001B[0;34m**\u001B[0m\u001B[0mkwargs\u001B[0m\u001B[0;34m)\u001B[0m\u001B[0;34m:\u001B[0m\u001B[0;34m\u001B[0m\u001B[0;34m\u001B[0m\u001B[0m\n\u001B[1;32m    136\u001B[0m     \u001B[0;32mtry\u001B[0m\u001B[0;34m:\u001B[0m\u001B[0;34m\u001B[0m\u001B[0;34m\u001B[0m\u001B[0m\n\u001B[0;32m--> 137\u001B[0;31m       \u001B[0;32mreturn\u001B[0m \u001B[0mfun\u001B[0m\u001B[0;34m(\u001B[0m\u001B[0;34m*\u001B[0m\u001B[0margs\u001B[0m\u001B[0;34m,\u001B[0m \u001B[0;34m**\u001B[0m\u001B[0mkwargs\u001B[0m\u001B[0;34m)\u001B[0m\u001B[0;34m\u001B[0m\u001B[0;34m\u001B[0m\u001B[0m\n\u001B[0m\u001B[1;32m    138\u001B[0m     \u001B[0;32mexcept\u001B[0m \u001B[0mException\u001B[0m \u001B[0;32mas\u001B[0m \u001B[0me\u001B[0m\u001B[0;34m:\u001B[0m\u001B[0;34m\u001B[0m\u001B[0;34m\u001B[0m\u001B[0m\n\u001B[1;32m    139\u001B[0m       \u001B[0;32mif\u001B[0m \u001B[0;32mnot\u001B[0m \u001B[0mis_under_reraiser\u001B[0m\u001B[0;34m(\u001B[0m\u001B[0me\u001B[0m\u001B[0;34m)\u001B[0m\u001B[0;34m:\u001B[0m\u001B[0;34m\u001B[0m\u001B[0;34m\u001B[0m\u001B[0m\n",
      "\u001B[0;32m~/opt/anaconda3/envs/pytorch/lib/python3.8/site-packages/jax/api.py\u001B[0m in \u001B[0;36mvalue_and_grad_f\u001B[0;34m(*args, **kwargs)\u001B[0m\n\u001B[1;32m    802\u001B[0m     \u001B[0mtree_map\u001B[0m\u001B[0;34m(\u001B[0m\u001B[0mpartial\u001B[0m\u001B[0;34m(\u001B[0m\u001B[0m_check_input_dtype_grad\u001B[0m\u001B[0;34m,\u001B[0m \u001B[0mholomorphic\u001B[0m\u001B[0;34m)\u001B[0m\u001B[0;34m,\u001B[0m \u001B[0mdyn_args\u001B[0m\u001B[0;34m)\u001B[0m\u001B[0;34m\u001B[0m\u001B[0;34m\u001B[0m\u001B[0m\n\u001B[1;32m    803\u001B[0m     \u001B[0;32mif\u001B[0m \u001B[0;32mnot\u001B[0m \u001B[0mhas_aux\u001B[0m\u001B[0;34m:\u001B[0m\u001B[0;34m\u001B[0m\u001B[0;34m\u001B[0m\u001B[0m\n\u001B[0;32m--> 804\u001B[0;31m       \u001B[0mans\u001B[0m\u001B[0;34m,\u001B[0m \u001B[0mvjp_py\u001B[0m \u001B[0;34m=\u001B[0m \u001B[0m_vjp\u001B[0m\u001B[0;34m(\u001B[0m\u001B[0mf_partial\u001B[0m\u001B[0;34m,\u001B[0m \u001B[0;34m*\u001B[0m\u001B[0mdyn_args\u001B[0m\u001B[0;34m)\u001B[0m\u001B[0;34m\u001B[0m\u001B[0;34m\u001B[0m\u001B[0m\n\u001B[0m\u001B[1;32m    805\u001B[0m     \u001B[0;32melse\u001B[0m\u001B[0;34m:\u001B[0m\u001B[0;34m\u001B[0m\u001B[0;34m\u001B[0m\u001B[0m\n\u001B[1;32m    806\u001B[0m       \u001B[0mans\u001B[0m\u001B[0;34m,\u001B[0m \u001B[0mvjp_py\u001B[0m\u001B[0;34m,\u001B[0m \u001B[0maux\u001B[0m \u001B[0;34m=\u001B[0m \u001B[0m_vjp\u001B[0m\u001B[0;34m(\u001B[0m\u001B[0mf_partial\u001B[0m\u001B[0;34m,\u001B[0m \u001B[0;34m*\u001B[0m\u001B[0mdyn_args\u001B[0m\u001B[0;34m,\u001B[0m \u001B[0mhas_aux\u001B[0m\u001B[0;34m=\u001B[0m\u001B[0;32mTrue\u001B[0m\u001B[0;34m)\u001B[0m\u001B[0;34m\u001B[0m\u001B[0;34m\u001B[0m\u001B[0m\n",
      "\u001B[0;32m~/opt/anaconda3/envs/pytorch/lib/python3.8/site-packages/jax/api.py\u001B[0m in \u001B[0;36m_vjp\u001B[0;34m(fun, has_aux, *primals)\u001B[0m\n\u001B[1;32m   1846\u001B[0m   \u001B[0;32mif\u001B[0m \u001B[0;32mnot\u001B[0m \u001B[0mhas_aux\u001B[0m\u001B[0;34m:\u001B[0m\u001B[0;34m\u001B[0m\u001B[0;34m\u001B[0m\u001B[0m\n\u001B[1;32m   1847\u001B[0m     \u001B[0mflat_fun\u001B[0m\u001B[0;34m,\u001B[0m \u001B[0mout_tree\u001B[0m \u001B[0;34m=\u001B[0m \u001B[0mflatten_fun_nokwargs\u001B[0m\u001B[0;34m(\u001B[0m\u001B[0mfun\u001B[0m\u001B[0;34m,\u001B[0m \u001B[0min_tree\u001B[0m\u001B[0;34m)\u001B[0m\u001B[0;34m\u001B[0m\u001B[0;34m\u001B[0m\u001B[0m\n\u001B[0;32m-> 1848\u001B[0;31m     \u001B[0mout_primal\u001B[0m\u001B[0;34m,\u001B[0m \u001B[0mout_vjp\u001B[0m \u001B[0;34m=\u001B[0m \u001B[0mad\u001B[0m\u001B[0;34m.\u001B[0m\u001B[0mvjp\u001B[0m\u001B[0;34m(\u001B[0m\u001B[0mflat_fun\u001B[0m\u001B[0;34m,\u001B[0m \u001B[0mprimals_flat\u001B[0m\u001B[0;34m)\u001B[0m\u001B[0;34m\u001B[0m\u001B[0;34m\u001B[0m\u001B[0m\n\u001B[0m\u001B[1;32m   1849\u001B[0m     \u001B[0mout_tree\u001B[0m \u001B[0;34m=\u001B[0m \u001B[0mout_tree\u001B[0m\u001B[0;34m(\u001B[0m\u001B[0;34m)\u001B[0m\u001B[0;34m\u001B[0m\u001B[0;34m\u001B[0m\u001B[0m\n\u001B[1;32m   1850\u001B[0m   \u001B[0;32melse\u001B[0m\u001B[0;34m:\u001B[0m\u001B[0;34m\u001B[0m\u001B[0;34m\u001B[0m\u001B[0m\n",
      "\u001B[0;32m~/opt/anaconda3/envs/pytorch/lib/python3.8/site-packages/jax/interpreters/ad.py\u001B[0m in \u001B[0;36mvjp\u001B[0;34m(traceable, primals, has_aux)\u001B[0m\n\u001B[1;32m    108\u001B[0m \u001B[0;32mdef\u001B[0m \u001B[0mvjp\u001B[0m\u001B[0;34m(\u001B[0m\u001B[0mtraceable\u001B[0m\u001B[0;34m,\u001B[0m \u001B[0mprimals\u001B[0m\u001B[0;34m,\u001B[0m \u001B[0mhas_aux\u001B[0m\u001B[0;34m=\u001B[0m\u001B[0;32mFalse\u001B[0m\u001B[0;34m)\u001B[0m\u001B[0;34m:\u001B[0m\u001B[0;34m\u001B[0m\u001B[0;34m\u001B[0m\u001B[0m\n\u001B[1;32m    109\u001B[0m   \u001B[0;32mif\u001B[0m \u001B[0;32mnot\u001B[0m \u001B[0mhas_aux\u001B[0m\u001B[0;34m:\u001B[0m\u001B[0;34m\u001B[0m\u001B[0;34m\u001B[0m\u001B[0m\n\u001B[0;32m--> 110\u001B[0;31m     \u001B[0mout_primals\u001B[0m\u001B[0;34m,\u001B[0m \u001B[0mpvals\u001B[0m\u001B[0;34m,\u001B[0m \u001B[0mjaxpr\u001B[0m\u001B[0;34m,\u001B[0m \u001B[0mconsts\u001B[0m \u001B[0;34m=\u001B[0m \u001B[0mlinearize\u001B[0m\u001B[0;34m(\u001B[0m\u001B[0mtraceable\u001B[0m\u001B[0;34m,\u001B[0m \u001B[0;34m*\u001B[0m\u001B[0mprimals\u001B[0m\u001B[0;34m)\u001B[0m\u001B[0;34m\u001B[0m\u001B[0;34m\u001B[0m\u001B[0m\n\u001B[0m\u001B[1;32m    111\u001B[0m   \u001B[0;32melse\u001B[0m\u001B[0;34m:\u001B[0m\u001B[0;34m\u001B[0m\u001B[0;34m\u001B[0m\u001B[0m\n\u001B[1;32m    112\u001B[0m     \u001B[0mout_primals\u001B[0m\u001B[0;34m,\u001B[0m \u001B[0mpvals\u001B[0m\u001B[0;34m,\u001B[0m \u001B[0mjaxpr\u001B[0m\u001B[0;34m,\u001B[0m \u001B[0mconsts\u001B[0m\u001B[0;34m,\u001B[0m \u001B[0maux\u001B[0m \u001B[0;34m=\u001B[0m \u001B[0mlinearize\u001B[0m\u001B[0;34m(\u001B[0m\u001B[0mtraceable\u001B[0m\u001B[0;34m,\u001B[0m \u001B[0;34m*\u001B[0m\u001B[0mprimals\u001B[0m\u001B[0;34m,\u001B[0m \u001B[0mhas_aux\u001B[0m\u001B[0;34m=\u001B[0m\u001B[0;32mTrue\u001B[0m\u001B[0;34m)\u001B[0m\u001B[0;34m\u001B[0m\u001B[0;34m\u001B[0m\u001B[0m\n",
      "\u001B[0;32m~/opt/anaconda3/envs/pytorch/lib/python3.8/site-packages/jax/interpreters/ad.py\u001B[0m in \u001B[0;36mlinearize\u001B[0;34m(traceable, *primals, **kwargs)\u001B[0m\n\u001B[1;32m     95\u001B[0m   \u001B[0m_\u001B[0m\u001B[0;34m,\u001B[0m \u001B[0min_tree\u001B[0m \u001B[0;34m=\u001B[0m \u001B[0mtree_flatten\u001B[0m\u001B[0;34m(\u001B[0m\u001B[0;34m(\u001B[0m\u001B[0;34m(\u001B[0m\u001B[0mprimals\u001B[0m\u001B[0;34m,\u001B[0m \u001B[0mprimals\u001B[0m\u001B[0;34m)\u001B[0m\u001B[0;34m,\u001B[0m \u001B[0;34m{\u001B[0m\u001B[0;34m}\u001B[0m\u001B[0;34m)\u001B[0m\u001B[0;34m)\u001B[0m\u001B[0;34m\u001B[0m\u001B[0;34m\u001B[0m\u001B[0m\n\u001B[1;32m     96\u001B[0m   \u001B[0mjvpfun_flat\u001B[0m\u001B[0;34m,\u001B[0m \u001B[0mout_tree\u001B[0m \u001B[0;34m=\u001B[0m \u001B[0mflatten_fun\u001B[0m\u001B[0;34m(\u001B[0m\u001B[0mjvpfun\u001B[0m\u001B[0;34m,\u001B[0m \u001B[0min_tree\u001B[0m\u001B[0;34m)\u001B[0m\u001B[0;34m\u001B[0m\u001B[0;34m\u001B[0m\u001B[0m\n\u001B[0;32m---> 97\u001B[0;31m   \u001B[0mjaxpr\u001B[0m\u001B[0;34m,\u001B[0m \u001B[0mout_pvals\u001B[0m\u001B[0;34m,\u001B[0m \u001B[0mconsts\u001B[0m \u001B[0;34m=\u001B[0m \u001B[0mpe\u001B[0m\u001B[0;34m.\u001B[0m\u001B[0mtrace_to_jaxpr\u001B[0m\u001B[0;34m(\u001B[0m\u001B[0mjvpfun_flat\u001B[0m\u001B[0;34m,\u001B[0m \u001B[0min_pvals\u001B[0m\u001B[0;34m)\u001B[0m\u001B[0;34m\u001B[0m\u001B[0;34m\u001B[0m\u001B[0m\n\u001B[0m\u001B[1;32m     98\u001B[0m   \u001B[0mout_primals_pvals\u001B[0m\u001B[0;34m,\u001B[0m \u001B[0mout_tangents_pvals\u001B[0m \u001B[0;34m=\u001B[0m \u001B[0mtree_unflatten\u001B[0m\u001B[0;34m(\u001B[0m\u001B[0mout_tree\u001B[0m\u001B[0;34m(\u001B[0m\u001B[0;34m)\u001B[0m\u001B[0;34m,\u001B[0m \u001B[0mout_pvals\u001B[0m\u001B[0;34m)\u001B[0m\u001B[0;34m\u001B[0m\u001B[0;34m\u001B[0m\u001B[0m\n\u001B[1;32m     99\u001B[0m   \u001B[0;32massert\u001B[0m \u001B[0mall\u001B[0m\u001B[0;34m(\u001B[0m\u001B[0mout_primal_pval\u001B[0m\u001B[0;34m.\u001B[0m\u001B[0mis_known\u001B[0m\u001B[0;34m(\u001B[0m\u001B[0;34m)\u001B[0m \u001B[0;32mfor\u001B[0m \u001B[0mout_primal_pval\u001B[0m \u001B[0;32min\u001B[0m \u001B[0mout_primals_pvals\u001B[0m\u001B[0;34m)\u001B[0m\u001B[0;34m\u001B[0m\u001B[0;34m\u001B[0m\u001B[0m\n",
      "\u001B[0;32m~/opt/anaconda3/envs/pytorch/lib/python3.8/site-packages/jax/interpreters/partial_eval.py\u001B[0m in \u001B[0;36mtrace_to_jaxpr\u001B[0;34m(fun, pvals, instantiate)\u001B[0m\n\u001B[1;32m    402\u001B[0m   \u001B[0;32mwith\u001B[0m \u001B[0mcore\u001B[0m\u001B[0;34m.\u001B[0m\u001B[0mnew_main\u001B[0m\u001B[0;34m(\u001B[0m\u001B[0mJaxprTrace\u001B[0m\u001B[0;34m)\u001B[0m \u001B[0;32mas\u001B[0m \u001B[0mmain\u001B[0m\u001B[0;34m:\u001B[0m\u001B[0;34m\u001B[0m\u001B[0;34m\u001B[0m\u001B[0m\n\u001B[1;32m    403\u001B[0m     \u001B[0mfun\u001B[0m \u001B[0;34m=\u001B[0m \u001B[0mtrace_to_subjaxpr\u001B[0m\u001B[0;34m(\u001B[0m\u001B[0mfun\u001B[0m\u001B[0;34m,\u001B[0m \u001B[0mmain\u001B[0m\u001B[0;34m,\u001B[0m \u001B[0minstantiate\u001B[0m\u001B[0;34m)\u001B[0m\u001B[0;34m\u001B[0m\u001B[0;34m\u001B[0m\u001B[0m\n\u001B[0;32m--> 404\u001B[0;31m     \u001B[0mjaxpr\u001B[0m\u001B[0;34m,\u001B[0m \u001B[0;34m(\u001B[0m\u001B[0mout_pvals\u001B[0m\u001B[0;34m,\u001B[0m \u001B[0mconsts\u001B[0m\u001B[0;34m,\u001B[0m \u001B[0menv\u001B[0m\u001B[0;34m)\u001B[0m \u001B[0;34m=\u001B[0m \u001B[0mfun\u001B[0m\u001B[0;34m.\u001B[0m\u001B[0mcall_wrapped\u001B[0m\u001B[0;34m(\u001B[0m\u001B[0mpvals\u001B[0m\u001B[0;34m)\u001B[0m\u001B[0;34m\u001B[0m\u001B[0;34m\u001B[0m\u001B[0m\n\u001B[0m\u001B[1;32m    405\u001B[0m     \u001B[0;32massert\u001B[0m \u001B[0;32mnot\u001B[0m \u001B[0menv\u001B[0m\u001B[0;34m\u001B[0m\u001B[0;34m\u001B[0m\u001B[0m\n\u001B[1;32m    406\u001B[0m     \u001B[0;32mdel\u001B[0m \u001B[0mmain\u001B[0m\u001B[0;34m\u001B[0m\u001B[0;34m\u001B[0m\u001B[0m\n",
      "\u001B[0;32m~/opt/anaconda3/envs/pytorch/lib/python3.8/site-packages/jax/linear_util.py\u001B[0m in \u001B[0;36mcall_wrapped\u001B[0;34m(self, *args, **kwargs)\u001B[0m\n\u001B[1;32m    149\u001B[0m \u001B[0;34m\u001B[0m\u001B[0m\n\u001B[1;32m    150\u001B[0m     \u001B[0;32mtry\u001B[0m\u001B[0;34m:\u001B[0m\u001B[0;34m\u001B[0m\u001B[0;34m\u001B[0m\u001B[0m\n\u001B[0;32m--> 151\u001B[0;31m       \u001B[0mans\u001B[0m \u001B[0;34m=\u001B[0m \u001B[0mself\u001B[0m\u001B[0;34m.\u001B[0m\u001B[0mf\u001B[0m\u001B[0;34m(\u001B[0m\u001B[0;34m*\u001B[0m\u001B[0margs\u001B[0m\u001B[0;34m,\u001B[0m \u001B[0;34m**\u001B[0m\u001B[0mdict\u001B[0m\u001B[0;34m(\u001B[0m\u001B[0mself\u001B[0m\u001B[0;34m.\u001B[0m\u001B[0mparams\u001B[0m\u001B[0;34m,\u001B[0m \u001B[0;34m**\u001B[0m\u001B[0mkwargs\u001B[0m\u001B[0;34m)\u001B[0m\u001B[0;34m)\u001B[0m\u001B[0;34m\u001B[0m\u001B[0;34m\u001B[0m\u001B[0m\n\u001B[0m\u001B[1;32m    152\u001B[0m     \u001B[0;32mexcept\u001B[0m\u001B[0;34m:\u001B[0m\u001B[0;34m\u001B[0m\u001B[0;34m\u001B[0m\u001B[0m\n\u001B[1;32m    153\u001B[0m       \u001B[0;31m# Some transformations yield from inside context managers, so we have to\u001B[0m\u001B[0;34m\u001B[0m\u001B[0;34m\u001B[0m\u001B[0;34m\u001B[0m\u001B[0m\n",
      "\u001B[0;32m~/Documents/GitHub/CHE2064/tools/tree_array_transform.py\u001B[0m in \u001B[0;36m<lambda>\u001B[0;34m(x)\u001B[0m\n\u001B[1;32m     84\u001B[0m         \u001B[0;34m@\u001B[0m\u001B[0mjax\u001B[0m\u001B[0;34m.\u001B[0m\u001B[0mjit\u001B[0m\u001B[0;34m\u001B[0m\u001B[0;34m\u001B[0m\u001B[0m\n\u001B[1;32m     85\u001B[0m         \u001B[0;32mdef\u001B[0m \u001B[0mhvp\u001B[0m\u001B[0;34m(\u001B[0m\u001B[0mx\u001B[0m\u001B[0;34m,\u001B[0m\u001B[0mp\u001B[0m\u001B[0;34m)\u001B[0m\u001B[0;34m:\u001B[0m\u001B[0;34m\u001B[0m\u001B[0;34m\u001B[0m\u001B[0m\n\u001B[0;32m---> 86\u001B[0;31m             \u001B[0;32mreturn\u001B[0m \u001B[0mjax\u001B[0m\u001B[0;34m.\u001B[0m\u001B[0mgrad\u001B[0m\u001B[0;34m(\u001B[0m\u001B[0;32mlambda\u001B[0m \u001B[0mx\u001B[0m\u001B[0;34m:\u001B[0m \u001B[0mjnp\u001B[0m\u001B[0;34m.\u001B[0m\u001B[0mvdot\u001B[0m\u001B[0;34m(\u001B[0m\u001B[0mjax\u001B[0m\u001B[0;34m.\u001B[0m\u001B[0mgrad\u001B[0m\u001B[0;34m(\u001B[0m\u001B[0mmodel_f\u001B[0m\u001B[0;34m)\u001B[0m\u001B[0;34m(\u001B[0m\u001B[0mx\u001B[0m\u001B[0;34m)\u001B[0m\u001B[0;34m,\u001B[0m\u001B[0mp\u001B[0m\u001B[0;34m)\u001B[0m\u001B[0;34m)\u001B[0m\u001B[0;34m(\u001B[0m\u001B[0mx\u001B[0m\u001B[0;34m)\u001B[0m\u001B[0;34m\u001B[0m\u001B[0;34m\u001B[0m\u001B[0m\n\u001B[0m\u001B[1;32m     87\u001B[0m \u001B[0;34m\u001B[0m\u001B[0m\n\u001B[1;32m     88\u001B[0m         \u001B[0;32mdef\u001B[0m \u001B[0mcb\u001B[0m\u001B[0;34m(\u001B[0m\u001B[0mxk\u001B[0m\u001B[0;34m,\u001B[0m \u001B[0mstate\u001B[0m\u001B[0;34m)\u001B[0m\u001B[0;34m:\u001B[0m\u001B[0;34m\u001B[0m\u001B[0;34m\u001B[0m\u001B[0m\n",
      "\u001B[0;32m~/opt/anaconda3/envs/pytorch/lib/python3.8/site-packages/jax/traceback_util.py\u001B[0m in \u001B[0;36mreraise_with_filtered_traceback\u001B[0;34m(*args, **kwargs)\u001B[0m\n\u001B[1;32m    135\u001B[0m   \u001B[0;32mdef\u001B[0m \u001B[0mreraise_with_filtered_traceback\u001B[0m\u001B[0;34m(\u001B[0m\u001B[0;34m*\u001B[0m\u001B[0margs\u001B[0m\u001B[0;34m,\u001B[0m \u001B[0;34m**\u001B[0m\u001B[0mkwargs\u001B[0m\u001B[0;34m)\u001B[0m\u001B[0;34m:\u001B[0m\u001B[0;34m\u001B[0m\u001B[0;34m\u001B[0m\u001B[0m\n\u001B[1;32m    136\u001B[0m     \u001B[0;32mtry\u001B[0m\u001B[0;34m:\u001B[0m\u001B[0;34m\u001B[0m\u001B[0;34m\u001B[0m\u001B[0m\n\u001B[0;32m--> 137\u001B[0;31m       \u001B[0;32mreturn\u001B[0m \u001B[0mfun\u001B[0m\u001B[0;34m(\u001B[0m\u001B[0;34m*\u001B[0m\u001B[0margs\u001B[0m\u001B[0;34m,\u001B[0m \u001B[0;34m**\u001B[0m\u001B[0mkwargs\u001B[0m\u001B[0;34m)\u001B[0m\u001B[0;34m\u001B[0m\u001B[0;34m\u001B[0m\u001B[0m\n\u001B[0m\u001B[1;32m    138\u001B[0m     \u001B[0;32mexcept\u001B[0m \u001B[0mException\u001B[0m \u001B[0;32mas\u001B[0m \u001B[0me\u001B[0m\u001B[0;34m:\u001B[0m\u001B[0;34m\u001B[0m\u001B[0;34m\u001B[0m\u001B[0m\n\u001B[1;32m    139\u001B[0m       \u001B[0;32mif\u001B[0m \u001B[0;32mnot\u001B[0m \u001B[0mis_under_reraiser\u001B[0m\u001B[0;34m(\u001B[0m\u001B[0me\u001B[0m\u001B[0;34m)\u001B[0m\u001B[0;34m:\u001B[0m\u001B[0;34m\u001B[0m\u001B[0;34m\u001B[0m\u001B[0m\n",
      "\u001B[0;32m~/opt/anaconda3/envs/pytorch/lib/python3.8/site-packages/jax/api.py\u001B[0m in \u001B[0;36mgrad_f\u001B[0;34m(*args, **kwargs)\u001B[0m\n\u001B[1;32m    742\u001B[0m   \u001B[0;34m@\u001B[0m\u001B[0mapi_boundary\u001B[0m\u001B[0;34m\u001B[0m\u001B[0;34m\u001B[0m\u001B[0m\n\u001B[1;32m    743\u001B[0m   \u001B[0;32mdef\u001B[0m \u001B[0mgrad_f\u001B[0m\u001B[0;34m(\u001B[0m\u001B[0;34m*\u001B[0m\u001B[0margs\u001B[0m\u001B[0;34m,\u001B[0m \u001B[0;34m**\u001B[0m\u001B[0mkwargs\u001B[0m\u001B[0;34m)\u001B[0m\u001B[0;34m:\u001B[0m\u001B[0;34m\u001B[0m\u001B[0;34m\u001B[0m\u001B[0m\n\u001B[0;32m--> 744\u001B[0;31m     \u001B[0m_\u001B[0m\u001B[0;34m,\u001B[0m \u001B[0mg\u001B[0m \u001B[0;34m=\u001B[0m \u001B[0mvalue_and_grad_f\u001B[0m\u001B[0;34m(\u001B[0m\u001B[0;34m*\u001B[0m\u001B[0margs\u001B[0m\u001B[0;34m,\u001B[0m \u001B[0;34m**\u001B[0m\u001B[0mkwargs\u001B[0m\u001B[0;34m)\u001B[0m\u001B[0;34m\u001B[0m\u001B[0;34m\u001B[0m\u001B[0m\n\u001B[0m\u001B[1;32m    745\u001B[0m     \u001B[0;32mreturn\u001B[0m \u001B[0mg\u001B[0m\u001B[0;34m\u001B[0m\u001B[0;34m\u001B[0m\u001B[0m\n\u001B[1;32m    746\u001B[0m \u001B[0;34m\u001B[0m\u001B[0m\n",
      "\u001B[0;32m~/opt/anaconda3/envs/pytorch/lib/python3.8/site-packages/jax/traceback_util.py\u001B[0m in \u001B[0;36mreraise_with_filtered_traceback\u001B[0;34m(*args, **kwargs)\u001B[0m\n\u001B[1;32m    135\u001B[0m   \u001B[0;32mdef\u001B[0m \u001B[0mreraise_with_filtered_traceback\u001B[0m\u001B[0;34m(\u001B[0m\u001B[0;34m*\u001B[0m\u001B[0margs\u001B[0m\u001B[0;34m,\u001B[0m \u001B[0;34m**\u001B[0m\u001B[0mkwargs\u001B[0m\u001B[0;34m)\u001B[0m\u001B[0;34m:\u001B[0m\u001B[0;34m\u001B[0m\u001B[0;34m\u001B[0m\u001B[0m\n\u001B[1;32m    136\u001B[0m     \u001B[0;32mtry\u001B[0m\u001B[0;34m:\u001B[0m\u001B[0;34m\u001B[0m\u001B[0;34m\u001B[0m\u001B[0m\n\u001B[0;32m--> 137\u001B[0;31m       \u001B[0;32mreturn\u001B[0m \u001B[0mfun\u001B[0m\u001B[0;34m(\u001B[0m\u001B[0;34m*\u001B[0m\u001B[0margs\u001B[0m\u001B[0;34m,\u001B[0m \u001B[0;34m**\u001B[0m\u001B[0mkwargs\u001B[0m\u001B[0;34m)\u001B[0m\u001B[0;34m\u001B[0m\u001B[0;34m\u001B[0m\u001B[0m\n\u001B[0m\u001B[1;32m    138\u001B[0m     \u001B[0;32mexcept\u001B[0m \u001B[0mException\u001B[0m \u001B[0;32mas\u001B[0m \u001B[0me\u001B[0m\u001B[0;34m:\u001B[0m\u001B[0;34m\u001B[0m\u001B[0;34m\u001B[0m\u001B[0m\n\u001B[1;32m    139\u001B[0m       \u001B[0;32mif\u001B[0m \u001B[0;32mnot\u001B[0m \u001B[0mis_under_reraiser\u001B[0m\u001B[0;34m(\u001B[0m\u001B[0me\u001B[0m\u001B[0;34m)\u001B[0m\u001B[0;34m:\u001B[0m\u001B[0;34m\u001B[0m\u001B[0;34m\u001B[0m\u001B[0m\n",
      "\u001B[0;32m~/opt/anaconda3/envs/pytorch/lib/python3.8/site-packages/jax/api.py\u001B[0m in \u001B[0;36mvalue_and_grad_f\u001B[0;34m(*args, **kwargs)\u001B[0m\n\u001B[1;32m    802\u001B[0m     \u001B[0mtree_map\u001B[0m\u001B[0;34m(\u001B[0m\u001B[0mpartial\u001B[0m\u001B[0;34m(\u001B[0m\u001B[0m_check_input_dtype_grad\u001B[0m\u001B[0;34m,\u001B[0m \u001B[0mholomorphic\u001B[0m\u001B[0;34m)\u001B[0m\u001B[0;34m,\u001B[0m \u001B[0mdyn_args\u001B[0m\u001B[0;34m)\u001B[0m\u001B[0;34m\u001B[0m\u001B[0;34m\u001B[0m\u001B[0m\n\u001B[1;32m    803\u001B[0m     \u001B[0;32mif\u001B[0m \u001B[0;32mnot\u001B[0m \u001B[0mhas_aux\u001B[0m\u001B[0;34m:\u001B[0m\u001B[0;34m\u001B[0m\u001B[0;34m\u001B[0m\u001B[0m\n\u001B[0;32m--> 804\u001B[0;31m       \u001B[0mans\u001B[0m\u001B[0;34m,\u001B[0m \u001B[0mvjp_py\u001B[0m \u001B[0;34m=\u001B[0m \u001B[0m_vjp\u001B[0m\u001B[0;34m(\u001B[0m\u001B[0mf_partial\u001B[0m\u001B[0;34m,\u001B[0m \u001B[0;34m*\u001B[0m\u001B[0mdyn_args\u001B[0m\u001B[0;34m)\u001B[0m\u001B[0;34m\u001B[0m\u001B[0;34m\u001B[0m\u001B[0m\n\u001B[0m\u001B[1;32m    805\u001B[0m     \u001B[0;32melse\u001B[0m\u001B[0;34m:\u001B[0m\u001B[0;34m\u001B[0m\u001B[0;34m\u001B[0m\u001B[0m\n\u001B[1;32m    806\u001B[0m       \u001B[0mans\u001B[0m\u001B[0;34m,\u001B[0m \u001B[0mvjp_py\u001B[0m\u001B[0;34m,\u001B[0m \u001B[0maux\u001B[0m \u001B[0;34m=\u001B[0m \u001B[0m_vjp\u001B[0m\u001B[0;34m(\u001B[0m\u001B[0mf_partial\u001B[0m\u001B[0;34m,\u001B[0m \u001B[0;34m*\u001B[0m\u001B[0mdyn_args\u001B[0m\u001B[0;34m,\u001B[0m \u001B[0mhas_aux\u001B[0m\u001B[0;34m=\u001B[0m\u001B[0;32mTrue\u001B[0m\u001B[0;34m)\u001B[0m\u001B[0;34m\u001B[0m\u001B[0;34m\u001B[0m\u001B[0m\n",
      "\u001B[0;32m~/opt/anaconda3/envs/pytorch/lib/python3.8/site-packages/jax/api.py\u001B[0m in \u001B[0;36m_vjp\u001B[0;34m(fun, has_aux, *primals)\u001B[0m\n\u001B[1;32m   1846\u001B[0m   \u001B[0;32mif\u001B[0m \u001B[0;32mnot\u001B[0m \u001B[0mhas_aux\u001B[0m\u001B[0;34m:\u001B[0m\u001B[0;34m\u001B[0m\u001B[0;34m\u001B[0m\u001B[0m\n\u001B[1;32m   1847\u001B[0m     \u001B[0mflat_fun\u001B[0m\u001B[0;34m,\u001B[0m \u001B[0mout_tree\u001B[0m \u001B[0;34m=\u001B[0m \u001B[0mflatten_fun_nokwargs\u001B[0m\u001B[0;34m(\u001B[0m\u001B[0mfun\u001B[0m\u001B[0;34m,\u001B[0m \u001B[0min_tree\u001B[0m\u001B[0;34m)\u001B[0m\u001B[0;34m\u001B[0m\u001B[0;34m\u001B[0m\u001B[0m\n\u001B[0;32m-> 1848\u001B[0;31m     \u001B[0mout_primal\u001B[0m\u001B[0;34m,\u001B[0m \u001B[0mout_vjp\u001B[0m \u001B[0;34m=\u001B[0m \u001B[0mad\u001B[0m\u001B[0;34m.\u001B[0m\u001B[0mvjp\u001B[0m\u001B[0;34m(\u001B[0m\u001B[0mflat_fun\u001B[0m\u001B[0;34m,\u001B[0m \u001B[0mprimals_flat\u001B[0m\u001B[0;34m)\u001B[0m\u001B[0;34m\u001B[0m\u001B[0;34m\u001B[0m\u001B[0m\n\u001B[0m\u001B[1;32m   1849\u001B[0m     \u001B[0mout_tree\u001B[0m \u001B[0;34m=\u001B[0m \u001B[0mout_tree\u001B[0m\u001B[0;34m(\u001B[0m\u001B[0;34m)\u001B[0m\u001B[0;34m\u001B[0m\u001B[0;34m\u001B[0m\u001B[0m\n\u001B[1;32m   1850\u001B[0m   \u001B[0;32melse\u001B[0m\u001B[0;34m:\u001B[0m\u001B[0;34m\u001B[0m\u001B[0;34m\u001B[0m\u001B[0m\n",
      "\u001B[0;32m~/opt/anaconda3/envs/pytorch/lib/python3.8/site-packages/jax/interpreters/ad.py\u001B[0m in \u001B[0;36mvjp\u001B[0;34m(traceable, primals, has_aux)\u001B[0m\n\u001B[1;32m    108\u001B[0m \u001B[0;32mdef\u001B[0m \u001B[0mvjp\u001B[0m\u001B[0;34m(\u001B[0m\u001B[0mtraceable\u001B[0m\u001B[0;34m,\u001B[0m \u001B[0mprimals\u001B[0m\u001B[0;34m,\u001B[0m \u001B[0mhas_aux\u001B[0m\u001B[0;34m=\u001B[0m\u001B[0;32mFalse\u001B[0m\u001B[0;34m)\u001B[0m\u001B[0;34m:\u001B[0m\u001B[0;34m\u001B[0m\u001B[0;34m\u001B[0m\u001B[0m\n\u001B[1;32m    109\u001B[0m   \u001B[0;32mif\u001B[0m \u001B[0;32mnot\u001B[0m \u001B[0mhas_aux\u001B[0m\u001B[0;34m:\u001B[0m\u001B[0;34m\u001B[0m\u001B[0;34m\u001B[0m\u001B[0m\n\u001B[0;32m--> 110\u001B[0;31m     \u001B[0mout_primals\u001B[0m\u001B[0;34m,\u001B[0m \u001B[0mpvals\u001B[0m\u001B[0;34m,\u001B[0m \u001B[0mjaxpr\u001B[0m\u001B[0;34m,\u001B[0m \u001B[0mconsts\u001B[0m \u001B[0;34m=\u001B[0m \u001B[0mlinearize\u001B[0m\u001B[0;34m(\u001B[0m\u001B[0mtraceable\u001B[0m\u001B[0;34m,\u001B[0m \u001B[0;34m*\u001B[0m\u001B[0mprimals\u001B[0m\u001B[0;34m)\u001B[0m\u001B[0;34m\u001B[0m\u001B[0;34m\u001B[0m\u001B[0m\n\u001B[0m\u001B[1;32m    111\u001B[0m   \u001B[0;32melse\u001B[0m\u001B[0;34m:\u001B[0m\u001B[0;34m\u001B[0m\u001B[0;34m\u001B[0m\u001B[0m\n\u001B[1;32m    112\u001B[0m     \u001B[0mout_primals\u001B[0m\u001B[0;34m,\u001B[0m \u001B[0mpvals\u001B[0m\u001B[0;34m,\u001B[0m \u001B[0mjaxpr\u001B[0m\u001B[0;34m,\u001B[0m \u001B[0mconsts\u001B[0m\u001B[0;34m,\u001B[0m \u001B[0maux\u001B[0m \u001B[0;34m=\u001B[0m \u001B[0mlinearize\u001B[0m\u001B[0;34m(\u001B[0m\u001B[0mtraceable\u001B[0m\u001B[0;34m,\u001B[0m \u001B[0;34m*\u001B[0m\u001B[0mprimals\u001B[0m\u001B[0;34m,\u001B[0m \u001B[0mhas_aux\u001B[0m\u001B[0;34m=\u001B[0m\u001B[0;32mTrue\u001B[0m\u001B[0;34m)\u001B[0m\u001B[0;34m\u001B[0m\u001B[0;34m\u001B[0m\u001B[0m\n",
      "\u001B[0;32m~/opt/anaconda3/envs/pytorch/lib/python3.8/site-packages/jax/interpreters/ad.py\u001B[0m in \u001B[0;36mlinearize\u001B[0;34m(traceable, *primals, **kwargs)\u001B[0m\n\u001B[1;32m     95\u001B[0m   \u001B[0m_\u001B[0m\u001B[0;34m,\u001B[0m \u001B[0min_tree\u001B[0m \u001B[0;34m=\u001B[0m \u001B[0mtree_flatten\u001B[0m\u001B[0;34m(\u001B[0m\u001B[0;34m(\u001B[0m\u001B[0;34m(\u001B[0m\u001B[0mprimals\u001B[0m\u001B[0;34m,\u001B[0m \u001B[0mprimals\u001B[0m\u001B[0;34m)\u001B[0m\u001B[0;34m,\u001B[0m \u001B[0;34m{\u001B[0m\u001B[0;34m}\u001B[0m\u001B[0;34m)\u001B[0m\u001B[0;34m)\u001B[0m\u001B[0;34m\u001B[0m\u001B[0;34m\u001B[0m\u001B[0m\n\u001B[1;32m     96\u001B[0m   \u001B[0mjvpfun_flat\u001B[0m\u001B[0;34m,\u001B[0m \u001B[0mout_tree\u001B[0m \u001B[0;34m=\u001B[0m \u001B[0mflatten_fun\u001B[0m\u001B[0;34m(\u001B[0m\u001B[0mjvpfun\u001B[0m\u001B[0;34m,\u001B[0m \u001B[0min_tree\u001B[0m\u001B[0;34m)\u001B[0m\u001B[0;34m\u001B[0m\u001B[0;34m\u001B[0m\u001B[0m\n\u001B[0;32m---> 97\u001B[0;31m   \u001B[0mjaxpr\u001B[0m\u001B[0;34m,\u001B[0m \u001B[0mout_pvals\u001B[0m\u001B[0;34m,\u001B[0m \u001B[0mconsts\u001B[0m \u001B[0;34m=\u001B[0m \u001B[0mpe\u001B[0m\u001B[0;34m.\u001B[0m\u001B[0mtrace_to_jaxpr\u001B[0m\u001B[0;34m(\u001B[0m\u001B[0mjvpfun_flat\u001B[0m\u001B[0;34m,\u001B[0m \u001B[0min_pvals\u001B[0m\u001B[0;34m)\u001B[0m\u001B[0;34m\u001B[0m\u001B[0;34m\u001B[0m\u001B[0m\n\u001B[0m\u001B[1;32m     98\u001B[0m   \u001B[0mout_primals_pvals\u001B[0m\u001B[0;34m,\u001B[0m \u001B[0mout_tangents_pvals\u001B[0m \u001B[0;34m=\u001B[0m \u001B[0mtree_unflatten\u001B[0m\u001B[0;34m(\u001B[0m\u001B[0mout_tree\u001B[0m\u001B[0;34m(\u001B[0m\u001B[0;34m)\u001B[0m\u001B[0;34m,\u001B[0m \u001B[0mout_pvals\u001B[0m\u001B[0;34m)\u001B[0m\u001B[0;34m\u001B[0m\u001B[0;34m\u001B[0m\u001B[0m\n\u001B[1;32m     99\u001B[0m   \u001B[0;32massert\u001B[0m \u001B[0mall\u001B[0m\u001B[0;34m(\u001B[0m\u001B[0mout_primal_pval\u001B[0m\u001B[0;34m.\u001B[0m\u001B[0mis_known\u001B[0m\u001B[0;34m(\u001B[0m\u001B[0;34m)\u001B[0m \u001B[0;32mfor\u001B[0m \u001B[0mout_primal_pval\u001B[0m \u001B[0;32min\u001B[0m \u001B[0mout_primals_pvals\u001B[0m\u001B[0;34m)\u001B[0m\u001B[0;34m\u001B[0m\u001B[0;34m\u001B[0m\u001B[0m\n",
      "\u001B[0;32m~/opt/anaconda3/envs/pytorch/lib/python3.8/site-packages/jax/interpreters/partial_eval.py\u001B[0m in \u001B[0;36mtrace_to_jaxpr\u001B[0;34m(fun, pvals, instantiate)\u001B[0m\n\u001B[1;32m    402\u001B[0m   \u001B[0;32mwith\u001B[0m \u001B[0mcore\u001B[0m\u001B[0;34m.\u001B[0m\u001B[0mnew_main\u001B[0m\u001B[0;34m(\u001B[0m\u001B[0mJaxprTrace\u001B[0m\u001B[0;34m)\u001B[0m \u001B[0;32mas\u001B[0m \u001B[0mmain\u001B[0m\u001B[0;34m:\u001B[0m\u001B[0;34m\u001B[0m\u001B[0;34m\u001B[0m\u001B[0m\n\u001B[1;32m    403\u001B[0m     \u001B[0mfun\u001B[0m \u001B[0;34m=\u001B[0m \u001B[0mtrace_to_subjaxpr\u001B[0m\u001B[0;34m(\u001B[0m\u001B[0mfun\u001B[0m\u001B[0;34m,\u001B[0m \u001B[0mmain\u001B[0m\u001B[0;34m,\u001B[0m \u001B[0minstantiate\u001B[0m\u001B[0;34m)\u001B[0m\u001B[0;34m\u001B[0m\u001B[0;34m\u001B[0m\u001B[0m\n\u001B[0;32m--> 404\u001B[0;31m     \u001B[0mjaxpr\u001B[0m\u001B[0;34m,\u001B[0m \u001B[0;34m(\u001B[0m\u001B[0mout_pvals\u001B[0m\u001B[0;34m,\u001B[0m \u001B[0mconsts\u001B[0m\u001B[0;34m,\u001B[0m \u001B[0menv\u001B[0m\u001B[0;34m)\u001B[0m \u001B[0;34m=\u001B[0m \u001B[0mfun\u001B[0m\u001B[0;34m.\u001B[0m\u001B[0mcall_wrapped\u001B[0m\u001B[0;34m(\u001B[0m\u001B[0mpvals\u001B[0m\u001B[0;34m)\u001B[0m\u001B[0;34m\u001B[0m\u001B[0;34m\u001B[0m\u001B[0m\n\u001B[0m\u001B[1;32m    405\u001B[0m     \u001B[0;32massert\u001B[0m \u001B[0;32mnot\u001B[0m \u001B[0menv\u001B[0m\u001B[0;34m\u001B[0m\u001B[0;34m\u001B[0m\u001B[0m\n\u001B[1;32m    406\u001B[0m     \u001B[0;32mdel\u001B[0m \u001B[0mmain\u001B[0m\u001B[0;34m\u001B[0m\u001B[0;34m\u001B[0m\u001B[0m\n",
      "\u001B[0;32m~/opt/anaconda3/envs/pytorch/lib/python3.8/site-packages/jax/linear_util.py\u001B[0m in \u001B[0;36mcall_wrapped\u001B[0;34m(self, *args, **kwargs)\u001B[0m\n\u001B[1;32m    149\u001B[0m \u001B[0;34m\u001B[0m\u001B[0m\n\u001B[1;32m    150\u001B[0m     \u001B[0;32mtry\u001B[0m\u001B[0;34m:\u001B[0m\u001B[0;34m\u001B[0m\u001B[0;34m\u001B[0m\u001B[0m\n\u001B[0;32m--> 151\u001B[0;31m       \u001B[0mans\u001B[0m \u001B[0;34m=\u001B[0m \u001B[0mself\u001B[0m\u001B[0;34m.\u001B[0m\u001B[0mf\u001B[0m\u001B[0;34m(\u001B[0m\u001B[0;34m*\u001B[0m\u001B[0margs\u001B[0m\u001B[0;34m,\u001B[0m \u001B[0;34m**\u001B[0m\u001B[0mdict\u001B[0m\u001B[0;34m(\u001B[0m\u001B[0mself\u001B[0m\u001B[0;34m.\u001B[0m\u001B[0mparams\u001B[0m\u001B[0;34m,\u001B[0m \u001B[0;34m**\u001B[0m\u001B[0mkwargs\u001B[0m\u001B[0;34m)\u001B[0m\u001B[0;34m)\u001B[0m\u001B[0;34m\u001B[0m\u001B[0;34m\u001B[0m\u001B[0m\n\u001B[0m\u001B[1;32m    152\u001B[0m     \u001B[0;32mexcept\u001B[0m\u001B[0;34m:\u001B[0m\u001B[0;34m\u001B[0m\u001B[0;34m\u001B[0m\u001B[0m\n\u001B[1;32m    153\u001B[0m       \u001B[0;31m# Some transformations yield from inside context managers, so we have to\u001B[0m\u001B[0;34m\u001B[0m\u001B[0;34m\u001B[0m\u001B[0;34m\u001B[0m\u001B[0m\n",
      "\u001B[0;32m~/Documents/GitHub/CHE2064/tools/tree_array_transform.py\u001B[0m in \u001B[0;36mmodel_f\u001B[0;34m(x)\u001B[0m\n\u001B[1;32m     68\u001B[0m     \u001B[0;32mdef\u001B[0m \u001B[0msolve\u001B[0m\u001B[0;34m(\u001B[0m\u001B[0mself\u001B[0m\u001B[0;34m,\u001B[0m \u001B[0mjit\u001B[0m\u001B[0;34m=\u001B[0m\u001B[0;32mFalse\u001B[0m\u001B[0;34m,\u001B[0m \u001B[0mverbosity\u001B[0m\u001B[0;34m=\u001B[0m\u001B[0;36m1\u001B[0m\u001B[0;34m)\u001B[0m\u001B[0;34m:\u001B[0m\u001B[0;34m\u001B[0m\u001B[0;34m\u001B[0m\u001B[0m\n\u001B[1;32m     69\u001B[0m         \u001B[0;32mdef\u001B[0m \u001B[0mmodel_f\u001B[0m\u001B[0;34m(\u001B[0m\u001B[0mx\u001B[0m\u001B[0;34m)\u001B[0m\u001B[0;34m:\u001B[0m\u001B[0;34m\u001B[0m\u001B[0;34m\u001B[0m\u001B[0m\n\u001B[0;32m---> 70\u001B[0;31m             \u001B[0mres\u001B[0m \u001B[0;34m=\u001B[0m \u001B[0mself\u001B[0m\u001B[0;34m.\u001B[0m\u001B[0mmodel\u001B[0m\u001B[0;34m(\u001B[0m\u001B[0mDotMap\u001B[0m\u001B[0;34m(\u001B[0m\u001B[0mself\u001B[0m\u001B[0;34m.\u001B[0m\u001B[0mxtoc\u001B[0m\u001B[0;34m(\u001B[0m\u001B[0mx\u001B[0m\u001B[0;34m)\u001B[0m\u001B[0;34m)\u001B[0m\u001B[0;34m,\u001B[0m \u001B[0mself\u001B[0m\u001B[0;34m.\u001B[0m\u001B[0mr\u001B[0m\u001B[0;34m)\u001B[0m\u001B[0;34m\u001B[0m\u001B[0;34m\u001B[0m\u001B[0m\n\u001B[0m\u001B[1;32m     71\u001B[0m             \u001B[0mleft\u001B[0m \u001B[0;34m=\u001B[0m \u001B[0mjnp\u001B[0m\u001B[0;34m.\u001B[0m\u001B[0marray\u001B[0m\u001B[0;34m(\u001B[0m\u001B[0;34m[\u001B[0m\u001B[0;34m]\u001B[0m\u001B[0;34m)\u001B[0m\u001B[0;34m\u001B[0m\u001B[0;34m\u001B[0m\u001B[0m\n\u001B[1;32m     72\u001B[0m             \u001B[0mright\u001B[0m\u001B[0;34m=\u001B[0m \u001B[0mjnp\u001B[0m\u001B[0;34m.\u001B[0m\u001B[0marray\u001B[0m\u001B[0;34m(\u001B[0m\u001B[0;34m[\u001B[0m\u001B[0;34m]\u001B[0m\u001B[0;34m)\u001B[0m\u001B[0;34m\u001B[0m\u001B[0;34m\u001B[0m\u001B[0m\n",
      "\u001B[0;32m~/Documents/GitHub/CHE2064/tools/tree_array_transform.py\u001B[0m in \u001B[0;36mxtoc\u001B[0;34m(self, x)\u001B[0m\n\u001B[1;32m     29\u001B[0m     \u001B[0;32mdef\u001B[0m \u001B[0mxtoc\u001B[0m\u001B[0;34m(\u001B[0m\u001B[0mself\u001B[0m\u001B[0;34m,\u001B[0m\u001B[0mx\u001B[0m\u001B[0;34m)\u001B[0m\u001B[0;34m:\u001B[0m\u001B[0;34m\u001B[0m\u001B[0;34m\u001B[0m\u001B[0m\n\u001B[1;32m     30\u001B[0m         \u001B[0mc\u001B[0m \u001B[0;34m=\u001B[0m \u001B[0mself\u001B[0m\u001B[0;34m.\u001B[0m\u001B[0mc_flat\u001B[0m\u001B[0;34m.\u001B[0m\u001B[0mat\u001B[0m\u001B[0;34m[\u001B[0m\u001B[0mself\u001B[0m\u001B[0;34m.\u001B[0m\u001B[0mupdate_idx\u001B[0m\u001B[0;34m]\u001B[0m\u001B[0;34m.\u001B[0m\u001B[0mset\u001B[0m\u001B[0;34m(\u001B[0m\u001B[0mx\u001B[0m\u001B[0;34m)\u001B[0m\u001B[0;34m\u001B[0m\u001B[0;34m\u001B[0m\u001B[0m\n\u001B[0;32m---> 31\u001B[0;31m         \u001B[0;32mreturn\u001B[0m \u001B[0mDotMap\u001B[0m\u001B[0;34m(\u001B[0m\u001B[0munflatten\u001B[0m\u001B[0;34m(\u001B[0m\u001B[0mc\u001B[0m\u001B[0;34m,\u001B[0m \u001B[0mself\u001B[0m\u001B[0;34m.\u001B[0m\u001B[0midx\u001B[0m\u001B[0;34m,\u001B[0m \u001B[0mself\u001B[0m\u001B[0;34m.\u001B[0m\u001B[0mshapes\u001B[0m\u001B[0;34m,\u001B[0m \u001B[0mself\u001B[0m\u001B[0;34m.\u001B[0m\u001B[0mtree\u001B[0m\u001B[0;34m)\u001B[0m\u001B[0;34m)\u001B[0m\u001B[0;34m\u001B[0m\u001B[0;34m\u001B[0m\u001B[0m\n\u001B[0m\u001B[1;32m     32\u001B[0m \u001B[0;34m\u001B[0m\u001B[0m\n\u001B[1;32m     33\u001B[0m     \u001B[0;32mdef\u001B[0m \u001B[0mxtov\u001B[0m\u001B[0;34m(\u001B[0m\u001B[0mself\u001B[0m\u001B[0;34m,\u001B[0m\u001B[0mx\u001B[0m\u001B[0;34m)\u001B[0m\u001B[0;34m:\u001B[0m\u001B[0;34m\u001B[0m\u001B[0;34m\u001B[0m\u001B[0m\n",
      "\u001B[0;32m~/Documents/GitHub/CHE2064/tools/tree_array_transform.py\u001B[0m in \u001B[0;36munflatten\u001B[0;34m(x, idx, shapes, tree)\u001B[0m\n\u001B[1;32m    208\u001B[0m \u001B[0;34m\u001B[0m\u001B[0m\n\u001B[1;32m    209\u001B[0m \u001B[0;32mdef\u001B[0m \u001B[0munflatten\u001B[0m\u001B[0;34m(\u001B[0m\u001B[0mx\u001B[0m\u001B[0;34m,\u001B[0m \u001B[0midx\u001B[0m\u001B[0;34m,\u001B[0m \u001B[0mshapes\u001B[0m\u001B[0;34m,\u001B[0m \u001B[0mtree\u001B[0m\u001B[0;34m)\u001B[0m\u001B[0;34m:\u001B[0m\u001B[0;34m\u001B[0m\u001B[0;34m\u001B[0m\u001B[0m\n\u001B[0;32m--> 210\u001B[0;31m     \u001B[0;32mreturn\u001B[0m \u001B[0mjax\u001B[0m\u001B[0;34m.\u001B[0m\u001B[0mtree_unflatten\u001B[0m\u001B[0;34m(\u001B[0m\u001B[0mtree\u001B[0m\u001B[0;34m,\u001B[0m \u001B[0;34m[\u001B[0m\u001B[0mitem\u001B[0m\u001B[0;34m.\u001B[0m\u001B[0mreshape\u001B[0m\u001B[0;34m(\u001B[0m\u001B[0mshape\u001B[0m\u001B[0;34m)\u001B[0m \u001B[0;32mfor\u001B[0m \u001B[0mitem\u001B[0m\u001B[0;34m,\u001B[0m\u001B[0mshape\u001B[0m \u001B[0;32min\u001B[0m \u001B[0mzip\u001B[0m\u001B[0;34m(\u001B[0m\u001B[0mjnp\u001B[0m\u001B[0;34m.\u001B[0m\u001B[0msplit\u001B[0m\u001B[0;34m(\u001B[0m\u001B[0mx\u001B[0m\u001B[0;34m,\u001B[0m\u001B[0midx\u001B[0m\u001B[0;34m[\u001B[0m\u001B[0;34m:\u001B[0m\u001B[0;34m-\u001B[0m\u001B[0;36m1\u001B[0m\u001B[0;34m]\u001B[0m\u001B[0;34m)\u001B[0m\u001B[0;34m,\u001B[0m \u001B[0mshapes\u001B[0m\u001B[0;34m)\u001B[0m\u001B[0;34m]\u001B[0m\u001B[0;34m)\u001B[0m\u001B[0;34m\u001B[0m\u001B[0;34m\u001B[0m\u001B[0m\n\u001B[0m\u001B[1;32m    211\u001B[0m \u001B[0;34m\u001B[0m\u001B[0m\n\u001B[1;32m    212\u001B[0m \u001B[0;32mdef\u001B[0m \u001B[0mreplace_not_nan\u001B[0m\u001B[0;34m(\u001B[0m\u001B[0ma\u001B[0m\u001B[0;34m,\u001B[0m\u001B[0mb\u001B[0m\u001B[0;34m)\u001B[0m\u001B[0;34m:\u001B[0m\u001B[0;34m\u001B[0m\u001B[0;34m\u001B[0m\u001B[0m\n",
      "\u001B[0;32m~/opt/anaconda3/envs/pytorch/lib/python3.8/site-packages/jax/numpy/lax_numpy.py\u001B[0m in \u001B[0;36msplit\u001B[0;34m(ary, indices_or_sections, axis)\u001B[0m\n\u001B[1;32m   1578\u001B[0m \u001B[0;34m@\u001B[0m\u001B[0m_wraps\u001B[0m\u001B[0;34m(\u001B[0m\u001B[0mnp\u001B[0m\u001B[0;34m.\u001B[0m\u001B[0msplit\u001B[0m\u001B[0;34m)\u001B[0m\u001B[0;34m\u001B[0m\u001B[0;34m\u001B[0m\u001B[0m\n\u001B[1;32m   1579\u001B[0m \u001B[0;32mdef\u001B[0m \u001B[0msplit\u001B[0m\u001B[0;34m(\u001B[0m\u001B[0mary\u001B[0m\u001B[0;34m,\u001B[0m \u001B[0mindices_or_sections\u001B[0m\u001B[0;34m,\u001B[0m \u001B[0maxis\u001B[0m\u001B[0;34m=\u001B[0m\u001B[0;36m0\u001B[0m\u001B[0;34m)\u001B[0m\u001B[0;34m:\u001B[0m\u001B[0;34m\u001B[0m\u001B[0;34m\u001B[0m\u001B[0m\n\u001B[0;32m-> 1580\u001B[0;31m   \u001B[0;32mreturn\u001B[0m \u001B[0m_split\u001B[0m\u001B[0;34m(\u001B[0m\u001B[0;34m\"split\"\u001B[0m\u001B[0;34m,\u001B[0m \u001B[0mary\u001B[0m\u001B[0;34m,\u001B[0m \u001B[0mindices_or_sections\u001B[0m\u001B[0;34m,\u001B[0m \u001B[0maxis\u001B[0m\u001B[0;34m=\u001B[0m\u001B[0maxis\u001B[0m\u001B[0;34m)\u001B[0m\u001B[0;34m\u001B[0m\u001B[0;34m\u001B[0m\u001B[0m\n\u001B[0m\u001B[1;32m   1581\u001B[0m \u001B[0;34m\u001B[0m\u001B[0m\n\u001B[1;32m   1582\u001B[0m \u001B[0;32mdef\u001B[0m \u001B[0m_split_on_axis\u001B[0m\u001B[0;34m(\u001B[0m\u001B[0mnp_fun\u001B[0m\u001B[0;34m,\u001B[0m \u001B[0maxis\u001B[0m\u001B[0;34m)\u001B[0m\u001B[0;34m:\u001B[0m\u001B[0;34m\u001B[0m\u001B[0;34m\u001B[0m\u001B[0m\n",
      "\u001B[0;32m~/opt/anaconda3/envs/pytorch/lib/python3.8/site-packages/jax/numpy/lax_numpy.py\u001B[0m in \u001B[0;36m_split\u001B[0;34m(op, ary, indices_or_sections, axis)\u001B[0m\n\u001B[1;32m   1560\u001B[0m     \u001B[0msplit_indices\u001B[0m \u001B[0;34m=\u001B[0m \u001B[0mnp\u001B[0m\u001B[0;34m.\u001B[0m\u001B[0mconcatenate\u001B[0m\u001B[0;34m(\u001B[0m\u001B[0;34m[\u001B[0m\u001B[0;34m[\u001B[0m\u001B[0;36m0\u001B[0m\u001B[0;34m]\u001B[0m\u001B[0;34m,\u001B[0m \u001B[0mindices_or_sections\u001B[0m\u001B[0;34m,\u001B[0m \u001B[0;34m[\u001B[0m\u001B[0msize\u001B[0m\u001B[0;34m]\u001B[0m\u001B[0;34m]\u001B[0m\u001B[0;34m)\u001B[0m\u001B[0;34m\u001B[0m\u001B[0;34m\u001B[0m\u001B[0m\n\u001B[1;32m   1561\u001B[0m   \u001B[0;32melse\u001B[0m\u001B[0;34m:\u001B[0m\u001B[0;34m\u001B[0m\u001B[0;34m\u001B[0m\u001B[0m\n\u001B[0;32m-> 1562\u001B[0;31m     indices_or_sections = core.concrete_or_error(int, indices_or_sections,\n\u001B[0m\u001B[1;32m   1563\u001B[0m                                                  f\"in jax.numpy.{op} argument 1\")\n\u001B[1;32m   1564\u001B[0m     \u001B[0mpart_size\u001B[0m\u001B[0;34m,\u001B[0m \u001B[0mr\u001B[0m \u001B[0;34m=\u001B[0m \u001B[0m_divmod\u001B[0m\u001B[0;34m(\u001B[0m\u001B[0msize\u001B[0m\u001B[0;34m,\u001B[0m \u001B[0mindices_or_sections\u001B[0m\u001B[0;34m)\u001B[0m\u001B[0;34m\u001B[0m\u001B[0;34m\u001B[0m\u001B[0m\n",
      "\u001B[0;32m~/opt/anaconda3/envs/pytorch/lib/python3.8/site-packages/jax/core.py\u001B[0m in \u001B[0;36mconcrete_or_error\u001B[0;34m(force, val, context)\u001B[0m\n\u001B[1;32m    872\u001B[0m       \u001B[0;32mreturn\u001B[0m \u001B[0mforce\u001B[0m\u001B[0;34m(\u001B[0m\u001B[0mval\u001B[0m\u001B[0;34m.\u001B[0m\u001B[0maval\u001B[0m\u001B[0;34m.\u001B[0m\u001B[0mval\u001B[0m\u001B[0;34m)\u001B[0m\u001B[0;34m\u001B[0m\u001B[0;34m\u001B[0m\u001B[0m\n\u001B[1;32m    873\u001B[0m     \u001B[0;32melse\u001B[0m\u001B[0;34m:\u001B[0m\u001B[0;34m\u001B[0m\u001B[0;34m\u001B[0m\u001B[0m\n\u001B[0;32m--> 874\u001B[0;31m       \u001B[0mraise_concretization_error\u001B[0m\u001B[0;34m(\u001B[0m\u001B[0mval\u001B[0m\u001B[0;34m,\u001B[0m \u001B[0mcontext\u001B[0m\u001B[0;34m)\u001B[0m\u001B[0;34m\u001B[0m\u001B[0;34m\u001B[0m\u001B[0m\n\u001B[0m\u001B[1;32m    875\u001B[0m   \u001B[0;32melse\u001B[0m\u001B[0;34m:\u001B[0m\u001B[0;34m\u001B[0m\u001B[0;34m\u001B[0m\u001B[0m\n\u001B[1;32m    876\u001B[0m     \u001B[0;32mreturn\u001B[0m \u001B[0mforce\u001B[0m\u001B[0;34m(\u001B[0m\u001B[0mval\u001B[0m\u001B[0;34m)\u001B[0m\u001B[0;34m\u001B[0m\u001B[0;34m\u001B[0m\u001B[0m\n",
      "\u001B[0;32m~/opt/anaconda3/envs/pytorch/lib/python3.8/site-packages/jax/core.py\u001B[0m in \u001B[0;36mraise_concretization_error\u001B[0;34m(val, context)\u001B[0m\n\u001B[1;32m    851\u001B[0m          \u001B[0;34m\"See https://jax.readthedocs.io/en/latest/faq.html#abstract-tracer-value-encountered-where-concrete-value-is-expected-error for more information.\\n\\n\"\u001B[0m\u001B[0;34m\u001B[0m\u001B[0;34m\u001B[0m\u001B[0m\n\u001B[1;32m    852\u001B[0m           f\"Encountered tracer value: {val}\")\n\u001B[0;32m--> 853\u001B[0;31m   \u001B[0;32mraise\u001B[0m \u001B[0mConcretizationTypeError\u001B[0m\u001B[0;34m(\u001B[0m\u001B[0mmsg\u001B[0m\u001B[0;34m)\u001B[0m\u001B[0;34m\u001B[0m\u001B[0;34m\u001B[0m\u001B[0m\n\u001B[0m\u001B[1;32m    854\u001B[0m \u001B[0;34m\u001B[0m\u001B[0m\n\u001B[1;32m    855\u001B[0m \u001B[0;34m\u001B[0m\u001B[0m\n",
      "\u001B[0;31mConcretizationTypeError\u001B[0m: Abstract tracer value encountered where concrete value is expected.\n\nin jax.numpy.split argument 1\n\nWhile tracing the function hvp at /Users/carlosco/Documents/GitHub/CHE2064/tools/tree_array_transform.py:84, this value became a tracer due to JAX operations on these lines:\n\n  operation cr:int32[1] = broadcast_in_dim[ broadcast_dimensions=(  )\n                                shape=(1,) ] cq:int32[]\n    from line /Users/carlosco/Documents/GitHub/CHE2064/tools/tree_array_transform.py:210 (unflatten)\n\n  operation ct:int32[1] = concatenate[ dimension=0 ] cs:int32[0] cr:int32[1]\n    from line /Users/carlosco/Documents/GitHub/CHE2064/tools/tree_array_transform.py:210 (unflatten)\n\n  operation cv:int64[8] = gather[ dimension_numbers=GatherDimensionNumbers(offset_dims=(0,), collapsed_slice_dims=(), start_index_map=(0,))\n                      slice_sizes=(8,) ] cu:int64[9] ct:int32[1]\n    from line /Users/carlosco/Documents/GitHub/CHE2064/tools/tree_array_transform.py:210 (unflatten)\n\nYou can use transformation parameters such as `static_argnums` for `jit` to avoid tracing particular arguments of transformed functions.\n\nSee https://jax.readthedocs.io/en/latest/faq.html#abstract-tracer-value-encountered-where-concrete-value-is-expected-error for more information.\n\nEncountered tracer value: Traced<ShapedArray(int64[8])>with<DynamicJaxprTrace(level=0/1)>"
     ]
    }
   ]
  },
  {
   "cell_type": "code",
   "metadata": {
    "pycharm": {
     "name": "#%%\n"
    },
    "id": "IGnN0h9Vo-ZF",
    "colab_type": "code",
    "colab": {
     "base_uri": "https://localhost:8080/",
     "height": 130
    },
    "outputId": "a91aaff7-5b09-4b2d-ec76-565b98d2bc9f"
   },
   "source": [
    "# Dataframe of adjustable variables\n",
    "vsc.vdf"
   ],
   "execution_count": 5,
   "outputs": [
    {
     "data": {
      "text/plain": "      vector1\n            1\nT  365.719235",
      "text/html": "<div>\n<style scoped>\n    .dataframe tbody tr th:only-of-type {\n        vertical-align: middle;\n    }\n\n    .dataframe tbody tr th {\n        vertical-align: top;\n    }\n\n    .dataframe thead tr th {\n        text-align: left;\n    }\n</style>\n<table border=\"1\" class=\"dataframe\">\n  <thead>\n    <tr>\n      <th></th>\n      <th>vector1</th>\n    </tr>\n    <tr>\n      <th></th>\n      <th>1</th>\n    </tr>\n  </thead>\n  <tbody>\n    <tr>\n      <th>T</th>\n      <td>365.719235</td>\n    </tr>\n  </tbody>\n</table>\n</div>"
     },
     "execution_count": 5,
     "metadata": {},
     "output_type": "execute_result"
    }
   ]
  },
  {
   "cell_type": "code",
   "metadata": {
    "pycharm": {
     "name": "#%%\n"
    },
    "id": "2b9tj5txo-ZI",
    "colab_type": "code",
    "colab": {
     "base_uri": "https://localhost:8080/",
     "height": 160
    },
    "outputId": "dae75170-9ce4-40a8-9232-26fdc299c554"
   },
   "source": [
    "# Dataframe of intermediate results\n",
    "vsc.rdf"
   ],
   "execution_count": 6,
   "outputs": [
    {
     "data": {
      "text/plain": "          vector1\n                1\nPw   77275.424480\nP   200000.000101",
      "text/html": "<div>\n<style scoped>\n    .dataframe tbody tr th:only-of-type {\n        vertical-align: middle;\n    }\n\n    .dataframe tbody tr th {\n        vertical-align: top;\n    }\n\n    .dataframe thead tr th {\n        text-align: left;\n    }\n</style>\n<table border=\"1\" class=\"dataframe\">\n  <thead>\n    <tr>\n      <th></th>\n      <th>vector1</th>\n    </tr>\n    <tr>\n      <th></th>\n      <th>1</th>\n    </tr>\n  </thead>\n  <tbody>\n    <tr>\n      <th>Pw</th>\n      <td>77275.424480</td>\n    </tr>\n    <tr>\n      <th>P</th>\n      <td>200000.000101</td>\n    </tr>\n  </tbody>\n</table>\n</div>"
     },
     "execution_count": 6,
     "metadata": {},
     "output_type": "execute_result"
    }
   ]
  },
  {
   "cell_type": "code",
   "metadata": {
    "pycharm": {
     "name": "#%%\n"
    },
    "id": "eiRaI1-Lo-ZO",
    "colab_type": "code",
    "colab": {
     "base_uri": "https://localhost:8080/",
     "height": 343
    },
    "outputId": "569b5a00-94f4-4be6-9a28-131c41de8cbb"
   },
   "source": [
    "# Dataframe of static state parameters\n",
    "vsc.sdf"
   ],
   "execution_count": 41,
   "outputs": [
    {
     "output_type": "execute_result",
     "data": {
      "text/html": [
       "<div>\n",
       "<style scoped>\n",
       "    .dataframe tbody tr th:only-of-type {\n",
       "        vertical-align: middle;\n",
       "    }\n",
       "\n",
       "    .dataframe tbody tr th {\n",
       "        vertical-align: top;\n",
       "    }\n",
       "\n",
       "    .dataframe thead tr th {\n",
       "        text-align: left;\n",
       "    }\n",
       "</style>\n",
       "<table border=\"1\" class=\"dataframe\">\n",
       "  <thead>\n",
       "    <tr>\n",
       "      <th></th>\n",
       "      <th>vector1</th>\n",
       "    </tr>\n",
       "    <tr>\n",
       "      <th></th>\n",
       "      <th>1</th>\n",
       "    </tr>\n",
       "  </thead>\n",
       "  <tbody>\n",
       "    <tr>\n",
       "      <th>T_i</th>\n",
       "      <td>298.000000</td>\n",
       "    </tr>\n",
       "    <tr>\n",
       "      <th>P_f</th>\n",
       "      <td>200000.000000</td>\n",
       "    </tr>\n",
       "    <tr>\n",
       "      <th>V_vap</th>\n",
       "      <td>0.008995</td>\n",
       "    </tr>\n",
       "    <tr>\n",
       "      <th>V_tot</th>\n",
       "      <td>0.010000</td>\n",
       "    </tr>\n",
       "    <tr>\n",
       "      <th>W_tot</th>\n",
       "      <td>1.000000</td>\n",
       "    </tr>\n",
       "    <tr>\n",
       "      <th>air_n</th>\n",
       "      <td>0.363057</td>\n",
       "    </tr>\n",
       "    <tr>\n",
       "      <th>Vw_i</th>\n",
       "      <td>0.001005</td>\n",
       "    </tr>\n",
       "    <tr>\n",
       "      <th>P_i</th>\n",
       "      <td>100000.000000</td>\n",
       "    </tr>\n",
       "  </tbody>\n",
       "</table>\n",
       "</div>"
      ],
      "text/plain": [
       "             vector1\n",
       "                   1\n",
       "T_i       298.000000\n",
       "P_f    200000.000000\n",
       "V_vap       0.008995\n",
       "V_tot       0.010000\n",
       "W_tot       1.000000\n",
       "air_n       0.363057\n",
       "Vw_i        0.001005\n",
       "P_i    100000.000000"
      ]
     },
     "metadata": {
      "tags": []
     },
     "execution_count": 41
    }
   ]
  },
  {
   "cell_type": "code",
   "metadata": {
    "id": "eNOiONqXr698",
    "colab_type": "code",
    "colab": {
     "base_uri": "https://localhost:8080/",
     "height": 120
    },
    "outputId": "023df4c6-d4f0-46ee-b0e2-a12881099a5d"
   },
   "source": [
    "# Raw values available as DotMaps\n",
    "print(vsc.r) # intermediate results\n",
    "print(vsc.v) # solution\n",
    "\n",
    "#specific values\n",
    "print(f'Temperature to achieve desired pressure: {vsc.v.T}')\n",
    "print(f'Vapor pressure of water: {vsc.r.Pw}')\n",
    "print(f'Volume of vapor phase: {vsc.r.V_vap}')"
   ],
   "execution_count": 42,
   "outputs": [
    {
     "output_type": "stream",
     "text": [
      "DotMap(Pw=DeviceArray(77275.42448034, dtype=float64), P=DeviceArray([200000.00010126], dtype=float64))\n",
      "DotMap(T=DeviceArray([365.71923535], dtype=float64))\n",
      "Temperature to achieve desired pressure: [365.71923535]\n",
      "Vapor pressure of water: 77275.4244803356\n",
      "Volume of vapor phase: DotMap()\n"
     ],
     "name": "stdout"
    }
   ]
  },
  {
   "cell_type": "code",
   "metadata": {
    "pycharm": {
     "name": "#%%\n"
    },
    "id": "MaAySxSg0K2o",
    "colab_type": "code",
    "colab": {}
   },
   "source": [
    "# Set desired final pressure and moves of water in vapor phase\n",
    "# Adjustable variables: final temperature and total container volume\n",
    "def model2(c,r):\n",
    "    r.Pw = p.Pvap(c.T)[3]\n",
    "    r.V_vap = c.V_tot - c.Vw_i # Approximation - water in the vapor phase is negligible\n",
    "    r.air_n = c.P_i * r.V_vap / (R * c.T_i)\n",
    "\n",
    "    r.W_n_vap = r.Pw * r.V_vap / (R * c.T) \n",
    "    r.P = r.air_n  * R * c.T / r.V_vap + r.Pw\n",
    "\n",
    "    # tuples from left and right side of equations\n",
    "    P_constraint = (c.P_f, r.P)\n",
    "    W_n_constraint = (r.W_n_vap, c.W_n_vap_desired)\n",
    "    return (P_constraint, W_n_constraint)"
   ],
   "execution_count": 47,
   "outputs": []
  },
  {
   "cell_type": "code",
   "metadata": {
    "pycharm": {
     "name": "#%%\n"
    },
    "id": "Zfm8jxfY0K2s",
    "colab_type": "code",
    "colab": {}
   },
   "source": [
    "c=DotMap()\n",
    "c.W_tot = 1. # 1 kg\n",
    "c.V_tot = 0.01 # 10 Liters\n",
    "c.P_i = 1e5 # Pa air pressure\n",
    "c.P_f = 2e5 # Pa final pressure\n",
    "c.T_i = 298.\n",
    "c.W_n_vap_desired = 0.3\n",
    "\n",
    "c.Vw_i = c.W_tot/p.rhol(c.T_i)[3]\n",
    "c.T = Range(350, 300, 400) #final temperature\n",
    "c.V_tot = Range(0.015, 0., 0.03) # total container volume\n",
    "\n",
    "vsc=VSC(c,model2)\n",
    "vsc.solve(verbosity=0)"
   ],
   "execution_count": 48,
   "outputs": []
  },
  {
   "cell_type": "code",
   "metadata": {
    "pycharm": {
     "name": "#%%\n"
    },
    "id": "8wqWHVc30K2v",
    "colab_type": "code",
    "colab": {
     "base_uri": "https://localhost:8080/",
     "height": 160
    },
    "outputId": "20571a23-bacc-4d22-9ca3-e729de5fc001"
   },
   "source": [
    "vsc.vdf"
   ],
   "execution_count": 49,
   "outputs": [
    {
     "output_type": "execute_result",
     "data": {
      "text/html": [
       "<div>\n",
       "<style scoped>\n",
       "    .dataframe tbody tr th:only-of-type {\n",
       "        vertical-align: middle;\n",
       "    }\n",
       "\n",
       "    .dataframe tbody tr th {\n",
       "        vertical-align: top;\n",
       "    }\n",
       "\n",
       "    .dataframe thead tr th {\n",
       "        text-align: left;\n",
       "    }\n",
       "</style>\n",
       "<table border=\"1\" class=\"dataframe\">\n",
       "  <thead>\n",
       "    <tr>\n",
       "      <th></th>\n",
       "      <th>vector1</th>\n",
       "    </tr>\n",
       "    <tr>\n",
       "      <th></th>\n",
       "      <th>1</th>\n",
       "    </tr>\n",
       "  </thead>\n",
       "  <tbody>\n",
       "    <tr>\n",
       "      <th>T</th>\n",
       "      <td>365.719235</td>\n",
       "    </tr>\n",
       "    <tr>\n",
       "      <th>V_tot</th>\n",
       "      <td>0.012809</td>\n",
       "    </tr>\n",
       "  </tbody>\n",
       "</table>\n",
       "</div>"
      ],
      "text/plain": [
       "          vector1\n",
       "                1\n",
       "T      365.719235\n",
       "V_tot    0.012809"
      ]
     },
     "metadata": {
      "tags": []
     },
     "execution_count": 49
    }
   ]
  },
  {
   "cell_type": "code",
   "metadata": {
    "pycharm": {
     "name": "#%%\n"
    },
    "id": "YvmCAQtPo-Zb",
    "colab_type": "code",
    "colab": {
     "base_uri": "https://localhost:8080/",
     "height": 252
    },
    "outputId": "980718df-290f-49d4-b084-9cb7216000cd"
   },
   "source": [
    "vsc.rdf\n"
   ],
   "execution_count": 50,
   "outputs": [
    {
     "output_type": "execute_result",
     "data": {
      "text/html": [
       "<div>\n",
       "<style scoped>\n",
       "    .dataframe tbody tr th:only-of-type {\n",
       "        vertical-align: middle;\n",
       "    }\n",
       "\n",
       "    .dataframe tbody tr th {\n",
       "        vertical-align: top;\n",
       "    }\n",
       "\n",
       "    .dataframe thead tr th {\n",
       "        text-align: left;\n",
       "    }\n",
       "</style>\n",
       "<table border=\"1\" class=\"dataframe\">\n",
       "  <thead>\n",
       "    <tr>\n",
       "      <th></th>\n",
       "      <th>vector1</th>\n",
       "    </tr>\n",
       "    <tr>\n",
       "      <th></th>\n",
       "      <th>1</th>\n",
       "    </tr>\n",
       "  </thead>\n",
       "  <tbody>\n",
       "    <tr>\n",
       "      <th>Pw</th>\n",
       "      <td>77275.424383</td>\n",
       "    </tr>\n",
       "    <tr>\n",
       "      <th>V_vap</th>\n",
       "      <td>0.011804</td>\n",
       "    </tr>\n",
       "    <tr>\n",
       "      <th>air_n</th>\n",
       "      <td>0.476443</td>\n",
       "    </tr>\n",
       "    <tr>\n",
       "      <th>W_n_vap</th>\n",
       "      <td>0.300000</td>\n",
       "    </tr>\n",
       "    <tr>\n",
       "      <th>P</th>\n",
       "      <td>199999.999993</td>\n",
       "    </tr>\n",
       "  </tbody>\n",
       "</table>\n",
       "</div>"
      ],
      "text/plain": [
       "               vector1\n",
       "                     1\n",
       "Pw        77275.424383\n",
       "V_vap         0.011804\n",
       "air_n         0.476443\n",
       "W_n_vap       0.300000\n",
       "P        199999.999993"
      ]
     },
     "metadata": {
      "tags": []
     },
     "execution_count": 50
    }
   ]
  },
  {
   "cell_type": "code",
   "metadata": {
    "pycharm": {
     "name": "#%%\n"
    },
    "id": "Ifo8H6SskFhC",
    "colab_type": "code",
    "colab": {}
   },
   "source": [
    "# The reduction in liquid volume of water due to evaporation is negligibly small\n",
    "# usually.  Moles of water lost in vapor phase is set as an adjustable variable\n",
    "# then constrained to be equal to that calculated from its vapor pressure and \n",
    "# volume of the vapor phase.\n",
    "\n",
    "def model3(c, r):\n",
    "    Pw = p.Pvap(c.T)[3]\n",
    "    # volume of liquid water lost as water vapor ignored in model1\n",
    "    # evaluate the density of water at T, but do not propagate gradients through.\n",
    "    r.v_w_vap = c.W_n_vap*p.Mw[3]/1000/p.rhol(stop_gradient(c.T))[3]\n",
    "    r.V_vap = c.V_tot - (c.Vw_i - r.v_w_vap)\n",
    "    r.air_n = c.P_i * r.V_vap / (R * c.T_i)\n",
    "    r.W_n_vap = Pw * r.V_vap / (R * c.T)\n",
    "    P = (r.air_n + r.W_n_vap) * R * c.T / r.V_vap\n",
    "    P_constraint = (c.P_f, P)\n",
    "    W_constraint = (c.W_n_vap, r.W_n_vap)\n",
    "    return (P_constraint,W_constraint)"
   ],
   "execution_count": 53,
   "outputs": []
  },
  {
   "cell_type": "code",
   "metadata": {
    "pycharm": {
     "name": "#%%\n"
    },
    "id": "mrZwRd50kFhF",
    "colab_type": "code",
    "colab": {}
   },
   "source": [
    "c=DotMap()\n",
    "c.W_tot = 1. # 1 kg\n",
    "c.V_tot = 0.01 # 10 Liters\n",
    "c.P_i = 1e5 # Pa air pressure\n",
    "c.P_f = 2e5 # Pa final pressure\n",
    "c.T_i = 298.\n",
    "c.Vw_i = c.W_tot/p.rhol(c.T_i)[3]\n",
    "\n",
    "c.T = Range(350., 300., 400.)\n",
    "c.W_n_vap = Range(1., 0., 2.) # moles of water vapor\n",
    "\n",
    "vsc=VSC(c,model3)\n",
    "vsc.solve(verbosity=0)"
   ],
   "execution_count": 54,
   "outputs": []
  },
  {
   "cell_type": "code",
   "metadata": {
    "id": "e4WxV4C0o4Nx",
    "colab_type": "code",
    "colab": {
     "base_uri": "https://localhost:8080/",
     "height": 221
    },
    "outputId": "9b4b494b-d384-4829-b5cb-7b03e1a32c7f"
   },
   "source": [
    "vsc.rdf"
   ],
   "execution_count": 55,
   "outputs": [
    {
     "output_type": "execute_result",
     "data": {
      "text/html": [
       "<div>\n",
       "<style scoped>\n",
       "    .dataframe tbody tr th:only-of-type {\n",
       "        vertical-align: middle;\n",
       "    }\n",
       "\n",
       "    .dataframe tbody tr th {\n",
       "        vertical-align: top;\n",
       "    }\n",
       "\n",
       "    .dataframe thead tr th {\n",
       "        text-align: left;\n",
       "    }\n",
       "</style>\n",
       "<table border=\"1\" class=\"dataframe\">\n",
       "  <thead>\n",
       "    <tr>\n",
       "      <th></th>\n",
       "      <th>vector1</th>\n",
       "    </tr>\n",
       "    <tr>\n",
       "      <th></th>\n",
       "      <th>1</th>\n",
       "    </tr>\n",
       "  </thead>\n",
       "  <tbody>\n",
       "    <tr>\n",
       "      <th>v_w_vap</th>\n",
       "      <td>0.000004</td>\n",
       "    </tr>\n",
       "    <tr>\n",
       "      <th>V_vap</th>\n",
       "      <td>0.008999</td>\n",
       "    </tr>\n",
       "    <tr>\n",
       "      <th>air_n</th>\n",
       "      <td>0.363228</td>\n",
       "    </tr>\n",
       "    <tr>\n",
       "      <th>W_n_vap</th>\n",
       "      <td>0.228712</td>\n",
       "    </tr>\n",
       "  </tbody>\n",
       "</table>\n",
       "</div>"
      ],
      "text/plain": [
       "          vector1\n",
       "                1\n",
       "v_w_vap  0.000004\n",
       "V_vap    0.008999\n",
       "air_n    0.363228\n",
       "W_n_vap  0.228712"
      ]
     },
     "metadata": {
      "tags": []
     },
     "execution_count": 55
    }
   ]
  },
  {
   "cell_type": "code",
   "metadata": {
    "pycharm": {
     "name": "#%%\n"
    },
    "id": "0GzogvxfkFhQ",
    "colab_type": "code",
    "colab": {
     "base_uri": "https://localhost:8080/",
     "height": 160
    },
    "outputId": "70137ce8-a6a9-4ab0-edc2-8ee1a70cb334"
   },
   "source": [
    "vsc.vdf"
   ],
   "execution_count": 56,
   "outputs": [
    {
     "output_type": "execute_result",
     "data": {
      "text/html": [
       "<div>\n",
       "<style scoped>\n",
       "    .dataframe tbody tr th:only-of-type {\n",
       "        vertical-align: middle;\n",
       "    }\n",
       "\n",
       "    .dataframe tbody tr th {\n",
       "        vertical-align: top;\n",
       "    }\n",
       "\n",
       "    .dataframe thead tr th {\n",
       "        text-align: left;\n",
       "    }\n",
       "</style>\n",
       "<table border=\"1\" class=\"dataframe\">\n",
       "  <thead>\n",
       "    <tr>\n",
       "      <th></th>\n",
       "      <th>vector1</th>\n",
       "    </tr>\n",
       "    <tr>\n",
       "      <th></th>\n",
       "      <th>1</th>\n",
       "    </tr>\n",
       "  </thead>\n",
       "  <tbody>\n",
       "    <tr>\n",
       "      <th>T</th>\n",
       "      <td>365.719235</td>\n",
       "    </tr>\n",
       "    <tr>\n",
       "      <th>W_n_vap</th>\n",
       "      <td>0.228712</td>\n",
       "    </tr>\n",
       "  </tbody>\n",
       "</table>\n",
       "</div>"
      ],
      "text/plain": [
       "            vector1\n",
       "                  1\n",
       "T        365.719235\n",
       "W_n_vap    0.228712"
      ]
     },
     "metadata": {
      "tags": []
     },
     "execution_count": 56
    }
   ]
  },
  {
   "cell_type": "code",
   "metadata": {
    "id": "JPDbY1r_uw46",
    "colab_type": "code",
    "colab": {
     "base_uri": "https://localhost:8080/",
     "height": 71
    },
    "outputId": "4d9ee87b-5f7e-475a-d84e-ad47646d082a"
   },
   "source": [
    "# How does this affect the average molecular weight of the vapor phase?\n",
    "print(f'MW of pure air: {jnp.sum(p.Mw[:3] * jnp.array([0.78, 0.21, 0.01]))}')\n",
    "\n",
    "mass_air = jnp.sum(p.Mw[:3] * jnp.array([0.78, 0.21, 0.01]) * vsc.r.air_n)\n",
    "mass_water_vapor = p.Mw[3] * vsc.r.W_n_vap\n",
    "avg_MW = (mass_air+ mass_water_vapor)/(vsc.r.air_n + vsc.r.W_n_vap)\n",
    "print(f'MW of air/water vapor phase: {avg_MW}')\n",
    "# water vapor is lighter than air!"
   ],
   "execution_count": 60,
   "outputs": [
    {
     "output_type": "stream",
     "text": [
      "MW of pure air: 28.97019\n",
      "MW of air/water vapor phase: [24.73735522]\n"
     ],
     "name": "stdout"
    }
   ]
  },
  {
   "cell_type": "code",
   "metadata": {
    "id": "WSux5U76wZsd",
    "colab_type": "code",
    "colab": {}
   },
   "source": [
    ""
   ],
   "execution_count": null,
   "outputs": []
  }
 ]
}