{
  "nbformat": 4,
  "nbformat_minor": 0,
  "metadata": {
    "colab": {
      "name": "Generalized_Gauss_Radau_Lobatto.ipynb",
      "provenance": [],
      "collapsed_sections": []
    },
    "kernelspec": {
      "name": "python3",
      "display_name": "Python 3"
    }
  },
  "cells": [
    {
      "cell_type": "code",
      "metadata": {
        "id": "qAsDL2J36KJ3"
      },
      "source": [
        "import numpy as np\n",
        "from scipy.special import gamma, poch, comb, roots_jacobi, jacobi\n",
        "from scipy.integrate import quadrature, romberg\n",
        "import functools\n",
        "import math"
      ],
      "execution_count": 28,
      "outputs": []
    },
    {
      "cell_type": "code",
      "metadata": {
        "id": "RRLRUW268CZO"
      },
      "source": [
        "@functools.lru_cache(1000)\n",
        "def I(m, alpha, beta, delta):\n",
        "  return ((2**(delta+beta+1)) * gamma(delta+1)*gamma(beta+1+m)*gamma(alpha-delta+m)\n",
        "  /(poch(alpha+1,m)*gamma(beta+delta+2+m)*gamma(alpha-delta) ))"
      ],
      "execution_count": 2,
      "outputs": []
    },
    {
      "cell_type": "code",
      "metadata": {
        "id": "G7vdYxoWa3wq"
      },
      "source": [
        "@functools.lru_cache(1000)\n",
        "def Omega(m, alpha, beta, l):\n",
        "  if l==0:\n",
        "    return poch(alpha+1,m)\n",
        "  elif l>m:\n",
        "    return 0\n",
        "  else:\n",
        "    return poch(m-l+1,l)*poch(alpha+beta+m+1,l)*poch(alpha+l+1,m-l)/ (2**l)\n",
        "\n",
        "@functools.lru_cache(1000)\n",
        "def Psi(m, alpha, beta, l):\n",
        "  if l==0:\n",
        "    return poch(beta+1,m)\n",
        "  elif l>m:\n",
        "    return 0\n",
        "  else:\n",
        "    return (-1)**l* poch(m-l+1,l)*poch(alpha+beta+m+1,l)*poch(beta+l+1,m-l) / (2**l)\n",
        "\n",
        "@functools.lru_cache(1000)\n",
        "def Delta(m, alpha, beta):\n",
        "\n",
        "  return (2**(alpha+beta-1)*gamma(m+alpha+1)*gamma(m+beta+1)*((2*m+alpha+beta+2)**2)/\n",
        "                          (gamma(m+1)*gamma(m+alpha+beta+1)* ((m+1)**2) * ((m+alpha+beta+1)**2)))"
      ],
      "execution_count": 3,
      "outputs": []
    },
    {
      "cell_type": "code",
      "metadata": {
        "id": "Rsa6w6fXgWeJ"
      },
      "source": [
        "@functools.lru_cache(1000)\n",
        "def type1(m, r, alpha, beta):\n",
        "  x, _ = roots_jacobi(m,alpha+r+1,beta)\n",
        "\n",
        "  @functools.lru_cache(1000)\n",
        "  def e(i):\n",
        "    if i==r:\n",
        "      return (-1)**r/math.factorial(r)*I(m, alpha+r+1,beta,alpha+r)\n",
        "    else:\n",
        "      sum_term = sum(map(lambda s: e(s)*comb(s,i)*Omega(m, alpha+r+1,beta, s-i), range(i+1,r+1)))\n",
        "      return (-1)**i/math.factorial(i)*I(m, alpha+r+1,beta,alpha+i)-sum_term/poch(alpha+r+2,m)\n",
        "\n",
        "  def d(j):\n",
        "    return (Delta(m, alpha+r+1,beta)*(1+x[j])/(1-x[j])**r/(jacobi(m+1,alpha+r+1,beta)(x[j]))**2)\n",
        "\n",
        "  return x, np.array(list(map(d, range(m)))), np.array(list(map(lambda i: e(i), range(r+1))))"
      ],
      "execution_count": 4,
      "outputs": []
    },
    {
      "cell_type": "code",
      "metadata": {
        "id": "7f62RXVXdLxQ",
        "outputId": "0488dbd4-9c87-4e71-cb37-f81a14441138",
        "colab": {
          "base_uri": "https://localhost:8080/"
        }
      },
      "source": [
        "type1(m=7, r=4, alpha= -1/3 ,beta= 9/5)"
      ],
      "execution_count": 5,
      "outputs": [
        {
          "output_type": "execute_result",
          "data": {
            "text/plain": [
              "(array([-0.89314137, -0.71164856, -0.46606317, -0.1770745 ,  0.13098095,\n",
              "         0.4324918 ,  0.70399882]),\n",
              " array([0.00207763, 0.01930467, 0.07713412, 0.20191162, 0.40414103,\n",
              "        0.66884323, 0.98217162]),\n",
              " array([ 1.56104061e+00, -9.71652396e-02,  3.98143613e-03, -9.37262968e-05,\n",
              "         9.91762155e-07]))"
            ]
          },
          "metadata": {
            "tags": []
          },
          "execution_count": 5
        }
      ]
    },
    {
      "cell_type": "code",
      "metadata": {
        "id": "l696EEdLhMEa"
      },
      "source": [
        "@functools.lru_cache(1000)\n",
        "def type2(m, k, alpha, beta):\n",
        "  y, _ = roots_jacobi(m,alpha,beta+k+1)\n",
        "\n",
        "  @functools.lru_cache(1000)\n",
        "  def c(i):\n",
        "    if i==k:\n",
        "      return I(m, beta+k+1,alpha, beta+k)/math.factorial(k)\n",
        "    else:\n",
        "      sum_term = sum(map(lambda s: c(s)*comb(s,i)*Psi(m, alpha, beta+k+1, s-i), range(i+1,k+1)))\n",
        "      return I(m, beta+k+1, alpha, beta+i)/math.factorial(i) - sum_term/poch(beta+k+2,m)\n",
        "\n",
        "  def b(j):\n",
        "    return (Delta(m, alpha, beta+k+1)*(1-y[j])/(1+y[j])**k/(jacobi(m+1,alpha,beta+k+1)(y[j]))**2)\n",
        "\n",
        "  return y, np.array(list(map(b, range(m)))), np.array(list(map(lambda i: c(i), range(k+1))))"
      ],
      "execution_count": 6,
      "outputs": []
    },
    {
      "cell_type": "code",
      "metadata": {
        "id": "5hD904xWO1Di",
        "outputId": "ff4bc72c-94b3-4486-93c3-1e1243a317ae",
        "colab": {
          "base_uri": "https://localhost:8080/"
        }
      },
      "source": [
        "type2(m=7, k=4, alpha = 3/5, beta= -1/8)"
      ],
      "execution_count": 7,
      "outputs": [
        {
          "output_type": "execute_result",
          "data": {
            "text/plain": [
              "(array([-0.65942958, -0.36080952, -0.0378913 ,  0.28182959,  0.56920852,\n",
              "         0.79767534,  0.94600231]),\n",
              " array([0.43354878, 0.40060633, 0.33520123, 0.24503505, 0.14940954,\n",
              "        0.0681831 , 0.01643965]),\n",
              " array([4.23341973e-01, 3.55565566e-02, 1.72489124e-03, 4.65678271e-05,\n",
              "        5.56896093e-07]))"
            ]
          },
          "metadata": {
            "tags": []
          },
          "execution_count": 7
        }
      ]
    },
    {
      "cell_type": "code",
      "metadata": {
        "id": "j81bNwkZZAdi"
      },
      "source": [
        "\n",
        "def type3(m, k, r, alpha, beta):\n",
        "  z, _ = roots_jacobi(m,alpha+r+1,beta+k+1)\n",
        "\n",
        "  @functools.lru_cache(1000)\n",
        "  def Lambda(m, alpha, beta, l, p):\n",
        "    if l==0:\n",
        "      return (2**p)*Psi(m,alpha,beta,0)\n",
        "    elif l>0:\n",
        "      return sum(map(lambda j: comb(l,j)*(2**(p-j)) * ((-1)**j) * poch(p-j+1,j) *\n",
        "                                          Psi(m,alpha,beta,l-j), range(0,l+1)))\n",
        "  @functools.lru_cache(1000)\n",
        "  def lamb(i):\n",
        "    if i==k:\n",
        "      return I(m, beta+k+1,alpha+r+1, beta+k)/ (2**(r+1)) / math.factorial(k)\n",
        "    else:\n",
        "      sum_term = sum(map(lambda s: lamb(s)*comb(s,i)*Lambda(m, alpha+r+1, beta+k+1, s-i, r+1), range(i+1,k+1)))\n",
        "      return (I(m, beta+k+1, alpha+r+1, beta+i)/ (2**(r+1)) / math.factorial(i) -\n",
        "              sum_term /poch(beta+k+2,m) / 2**(r+1))\n",
        "\n",
        "  @functools.lru_cache(1000)\n",
        "  def Theta(m, alpha, beta, l, p):\n",
        "    if l==0:\n",
        "      return (2**p)*Omega(m,alpha,beta,0)\n",
        "    elif l>0:\n",
        "      return sum(map(lambda j: comb(l,j)*((2**(p-j))) * poch(p-j+1,j) *\n",
        "                                          Omega(m,alpha,beta,l-j), range(0,l+1)))\n",
        "\n",
        "  @functools.lru_cache(1000)\n",
        "  def mu(i):\n",
        "    if i==r:\n",
        "      return ((-1)**r)*I(m, alpha+r+1, beta+k+1, alpha+r)/ (2**(k+1)) / math.factorial(r)\n",
        "    else:\n",
        "      sum_term = sum(map(lambda s: mu(s)*comb(s,i)*Theta(m, alpha+r+1, beta+k+1, s-i, k+1), range(i+1,r+1)))\n",
        "      return (((-1)**i) * I(m, alpha+r+1, beta+k+1, alpha+i)/ (2**(k+1)) / math.factorial(i) - \n",
        "              sum_term /poch(alpha+r+2,m) / 2**(k+1))\n",
        "\n",
        "\n",
        "  def omega(j):\n",
        "    return (Delta(m, alpha+r+1, beta+k+1)/ (1+z[j])**k / (1-z[j])**r / (jacobi(m+1,alpha+r+1,beta+k+1)(z[j]))**2)\n",
        "\n",
        "  return (z, np.array(list(map(omega, range(m)))),\n",
        "          np.array(list(map(lambda i: lamb(i), range(k+1)))),\n",
        "          np.array(list(map(lambda i: mu(i), range(r+1))))\n",
        "          )"
      ],
      "execution_count": 8,
      "outputs": []
    },
    {
      "cell_type": "code",
      "metadata": {
        "id": "I8yc1WjSc-a6"
      },
      "source": [
        "m=3\n",
        "k=3\n",
        "r=2\n",
        "alpha=0\n",
        "beta=0\n",
        "z, omega, lamb, mu = type3(m=m, k=k, r=r, alpha=alpha, beta=beta)\n",
        "N = 2*m + k + r + 1"
      ],
      "execution_count": 55,
      "outputs": []
    },
    {
      "cell_type": "code",
      "metadata": {
        "id": "A_MkM9sqAjuo",
        "outputId": "708dedb4-4d2b-418e-ee8c-4a8817471f47",
        "colab": {
          "base_uri": "https://localhost:8080/"
        }
      },
      "source": [
        "p = np.polynomial.Polynomial(np.random.uniform(-1.,1.,N))\n",
        "def f(x):\n",
        "  return p(x) * ((1-x)**alpha) * ((1+x)**beta)\n",
        "lamb @ np.array([p.deriv(i)(-1) for i in range(0,k+1)]) + omega @ np.array([p(zz) for zz in z]) + mu @ np.array([p.deriv(i)(1) for i in range(0,r+1)])"
      ],
      "execution_count": 56,
      "outputs": [
        {
          "output_type": "execute_result",
          "data": {
            "text/plain": [
              "-2.1692996849036983"
            ]
          },
          "metadata": {
            "tags": []
          },
          "execution_count": 56
        }
      ]
    },
    {
      "cell_type": "code",
      "metadata": {
        "id": "YW9gA0l2BIoB",
        "outputId": "9212a8e5-e126-4610-f011-8ff2bf8513f4",
        "colab": {
          "base_uri": "https://localhost:8080/"
        }
      },
      "source": [
        "quadrature(f, -1, 1, maxiter=1000)"
      ],
      "execution_count": 57,
      "outputs": [
        {
          "output_type": "execute_result",
          "data": {
            "text/plain": [
              "(-2.1692996849036987, 8.881784197001252e-16)"
            ]
          },
          "metadata": {
            "tags": []
          },
          "execution_count": 57
        }
      ]
    },
    {
      "cell_type": "code",
      "metadata": {
        "id": "tKyaygzPBxe8"
      },
      "source": [
        ""
      ],
      "execution_count": null,
      "outputs": []
    }
  ]
}