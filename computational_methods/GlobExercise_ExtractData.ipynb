{
 "nbformat": 4,
 "nbformat_minor": 0,
 "metadata": {
  "colab": {
   "name": "GlobExercise_ExtractData.ipynb",
   "provenance": [],
   "collapsed_sections": [],
   "authorship_tag": "ABX9TyPHVh+kaGKc2VwOHo7t/9re",
   "include_colab_link": true
  },
  "kernelspec": {
   "name": "python3",
   "display_name": "Python 3"
  }
 },
 "cells": [
  {
   "cell_type": "markdown",
   "metadata": {
    "id": "view-in-github",
    "colab_type": "text"
   },
   "source": [
    "<a href=\"https://colab.research.google.com/github/profteachkids/CHE2064/blob/master/GlobExercise_ExtractData.ipynb\" target=\"_parent\"><img src=\"https://colab.research.google.com/assets/colab-badge.svg\" alt=\"Open In Colab\"/></a>"
   ]
  },
  {
   "cell_type": "code",
   "metadata": {
    "id": "8WhlNcOH3ars",
    "colab_type": "code",
    "colab": {}
   },
   "source": [
    "import numpy as np\n",
    "import datetime\n",
    "import time\n",
    "import os\n",
    "import shutil\n",
    "from pathlib import Path\n",
    "from itertools import islice\n",
    "\n"
   ],
   "execution_count": 15,
   "outputs": []
  },
  {
   "cell_type": "code",
   "metadata": {
    "id": "0uxhNNHc52Ze",
    "colab_type": "code",
    "colab": {
     "base_uri": "https://localhost:8080/",
     "height": 220
    },
    "outputId": "d703ef62-7857-4419-ffc5-dd58aff027e1"
   },
   "source": [
    "!wget https://raw.githubusercontent.com/profteachkids/CHE2064/master/data/glob_data.zip"
   ],
   "execution_count": 1,
   "outputs": [
    {
     "output_type": "stream",
     "text": [
      "--2020-08-23 11:32:34--  https://raw.githubusercontent.com/profteachkids/CHE2064/master/glob_data.zip\n",
      "Resolving raw.githubusercontent.com (raw.githubusercontent.com)... 151.101.0.133, 151.101.64.133, 151.101.128.133, ...\n",
      "Connecting to raw.githubusercontent.com (raw.githubusercontent.com)|151.101.0.133|:443... connected.\n",
      "HTTP request sent, awaiting response... 200 OK\n",
      "Length: 57367 (56K) [application/zip]\n",
      "Saving to: ‘glob_data.zip’\n",
      "\n",
      "\rglob_data.zip         0%[                    ]       0  --.-KB/s               \rglob_data.zip       100%[===================>]  56.02K  --.-KB/s    in 0.03s   \n",
      "\n",
      "2020-08-23 11:32:35 (2.12 MB/s) - ‘glob_data.zip’ saved [57367/57367]\n",
      "\n"
     ],
     "name": "stdout"
    }
   ]
  },
  {
   "cell_type": "code",
   "metadata": {
    "id": "bwCMHsts3oYk",
    "colab_type": "code",
    "colab": {}
   },
   "source": [
    "shutil.unpack_archive('glob_data.zip',extract_dir='./data')"
   ],
   "execution_count": 3,
   "outputs": []
  },
  {
   "cell_type": "code",
   "metadata": {
    "id": "Q32zX7M4Fjhv",
    "colab_type": "code",
    "colab": {}
   },
   "source": [
    "files = list(Path('/content/data').glob('**/*:*'))"
   ],
   "execution_count": 31,
   "outputs": []
  },
  {
   "cell_type": "code",
   "metadata": {
    "id": "4anuy_R4F-wM",
    "colab_type": "code",
    "colab": {
     "base_uri": "https://localhost:8080/",
     "height": 1000
    },
    "outputId": "a115cc87-0ce7-497a-8f6b-64f5846f6d27"
   },
   "source": [
    "for afile in files:\n",
    "  data=np.loadtxt(afile,delimiter=',')\n",
    "  *_, sample, month, day = afile.as_posix().split('/')\n",
    "  day=day.split(':')[-1]\n",
    "  m, b = np.polyfit(x=data[:,0],y=data[:,1],deg=1)\n",
    "  print(sample,month,day, f'  slope: {m:6.2f}   intercept:{b:6.2f}')\n"
   ],
   "execution_count": 57,
   "outputs": [
    {
     "output_type": "stream",
     "text": [
      "SampleB Jan 7   slope:   3.77   intercept: -3.30\n",
      "SampleB Jan 13   slope:  -3.85   intercept: -0.22\n",
      "SampleB Jan 25   slope:   1.94   intercept: -1.90\n",
      "SampleB Jan 22   slope:  -5.01   intercept: -4.93\n",
      "SampleB Jan 4   slope:   4.02   intercept:  2.12\n",
      "SampleB Jan 19   slope:   1.04   intercept: -3.13\n",
      "SampleB Jan 16   slope:  -4.75   intercept:  2.66\n",
      "SampleB Jan 1   slope:  -4.10   intercept: -0.74\n",
      "SampleB Jan 10   slope:  -3.03   intercept:  1.96\n",
      "SampleB Mar 7   slope:  -4.85   intercept:  2.62\n",
      "SampleB Mar 13   slope:  -2.86   intercept:  0.55\n",
      "SampleB Mar 25   slope:  -3.94   intercept: -5.30\n",
      "SampleB Mar 22   slope:   3.08   intercept: -5.35\n",
      "SampleB Mar 4   slope:  -4.64   intercept:  3.25\n",
      "SampleB Mar 19   slope:   2.96   intercept: -5.08\n",
      "SampleB Mar 16   slope:   0.02   intercept:  2.85\n",
      "SampleB Mar 1   slope:   3.04   intercept: -1.06\n",
      "SampleB Mar 10   slope:   2.92   intercept: -0.75\n",
      "SampleB Feb 7   slope:   4.02   intercept: -0.11\n",
      "SampleB Feb 13   slope:  -0.99   intercept: -0.99\n",
      "SampleB Feb 25   slope:  -4.88   intercept: -5.36\n",
      "SampleB Feb 22   slope:   0.94   intercept: -0.79\n",
      "SampleB Feb 4   slope:   4.03   intercept: -0.64\n",
      "SampleB Feb 19   slope:   4.13   intercept: -1.39\n",
      "SampleB Feb 16   slope:  -1.95   intercept:  0.99\n",
      "SampleB Feb 1   slope:  -1.03   intercept:  0.07\n",
      "SampleB Feb 10   slope:   3.86   intercept:  4.21\n",
      "SampleC Jan 7   slope:   2.05   intercept:  3.57\n",
      "SampleC Jan 13   slope:   2.08   intercept:  2.84\n",
      "SampleC Jan 25   slope:   0.99   intercept:  3.18\n",
      "SampleC Jan 22   slope:   3.10   intercept:  1.64\n",
      "SampleC Jan 4   slope:  -3.05   intercept:  1.26\n",
      "SampleC Jan 19   slope:   2.94   intercept: -0.97\n",
      "SampleC Jan 16   slope:  -1.97   intercept:  1.96\n",
      "SampleC Jan 1   slope:  -0.01   intercept: -3.01\n",
      "SampleC Jan 10   slope:   2.02   intercept: -0.09\n",
      "SampleC Mar 7   slope:  -1.00   intercept: -0.99\n",
      "SampleC Mar 13   slope:  -4.70   intercept: -2.78\n",
      "SampleC Mar 25   slope:   3.87   intercept:  0.35\n",
      "SampleC Mar 22   slope:   3.08   intercept: -5.32\n",
      "SampleC Mar 4   slope:  -3.02   intercept:  0.18\n",
      "SampleC Mar 19   slope:  -3.82   intercept: -5.63\n",
      "SampleC Mar 16   slope:   0.00   intercept:  0.00\n",
      "SampleC Mar 1   slope:  -2.00   intercept:  3.89\n",
      "SampleC Mar 10   slope:   1.95   intercept: -1.93\n",
      "SampleC Feb 7   slope:  -3.87   intercept: -4.50\n",
      "SampleC Feb 13   slope:   1.00   intercept:  2.02\n",
      "SampleC Feb 25   slope:   1.02   intercept:  0.90\n",
      "SampleC Feb 22   slope:  -1.01   intercept: -3.15\n",
      "SampleC Feb 4   slope:   1.97   intercept: -3.86\n",
      "SampleC Feb 19   slope:   1.00   intercept: -3.98\n",
      "SampleC Feb 16   slope:   3.03   intercept:  3.08\n",
      "SampleC Feb 1   slope:  -2.98   intercept: -5.26\n",
      "SampleC Feb 10   slope:   4.05   intercept: -1.00\n",
      "SampleA Jan 7   slope:  -0.01   intercept:  3.00\n",
      "SampleA Jan 13   slope:   0.00   intercept:  3.99\n",
      "SampleA Jan 25   slope:  -3.98   intercept:  1.95\n",
      "SampleA Jan 22   slope:  -0.96   intercept: -2.04\n",
      "SampleA Jan 4   slope:  -5.02   intercept:  2.02\n",
      "SampleA Jan 19   slope:  -1.99   intercept:  0.92\n",
      "SampleA Jan 16   slope:   0.02   intercept: -5.11\n",
      "SampleA Jan 1   slope:  -5.09   intercept:  1.17\n",
      "SampleA Jan 10   slope:  -1.97   intercept: -3.24\n",
      "SampleA Mar 7   slope:   4.06   intercept: -1.14\n",
      "SampleA Mar 13   slope:   0.96   intercept:  4.12\n",
      "SampleA Mar 25   slope:  -4.91   intercept:  0.84\n",
      "SampleA Mar 22   slope:  -1.95   intercept:  2.83\n",
      "SampleA Mar 4   slope:   0.00   intercept: -1.01\n",
      "SampleA Mar 19   slope:   4.06   intercept: -0.47\n",
      "SampleA Mar 16   slope:   3.03   intercept: -3.29\n",
      "SampleA Mar 1   slope:  -2.10   intercept: -0.63\n",
      "SampleA Mar 10   slope:   3.79   intercept: -4.44\n",
      "SampleA Feb 7   slope:  -2.93   intercept:  2.89\n",
      "SampleA Feb 13   slope:   2.06   intercept: -5.19\n",
      "SampleA Feb 25   slope:   2.94   intercept:  1.46\n",
      "SampleA Feb 22   slope:   2.86   intercept: -2.58\n",
      "SampleA Feb 4   slope:   0.00   intercept:  3.02\n",
      "SampleA Feb 19   slope:  -3.03   intercept: -0.97\n",
      "SampleA Feb 16   slope:  -4.84   intercept:  1.96\n",
      "SampleA Feb 1   slope:   4.20   intercept: -4.92\n",
      "SampleA Feb 10   slope:  -2.85   intercept:  0.45\n",
      "SampleD Jan 7   slope:   2.00   intercept:  0.88\n",
      "SampleD Jan 13   slope:  -2.85   intercept: -5.19\n",
      "SampleD Jan 25   slope:  -3.06   intercept:  1.86\n",
      "SampleD Jan 22   slope:   2.88   intercept:  0.47\n",
      "SampleD Jan 4   slope:  -4.28   intercept: -3.11\n",
      "SampleD Jan 19   slope:  -4.10   intercept:  3.19\n",
      "SampleD Jan 16   slope:  -3.94   intercept:  3.94\n",
      "SampleD Jan 1   slope:  -3.02   intercept:  2.03\n",
      "SampleD Jan 10   slope:   0.98   intercept:  1.22\n",
      "SampleD Mar 7   slope:   1.95   intercept:  1.26\n",
      "SampleD Mar 13   slope:  -1.05   intercept: -3.79\n",
      "SampleD Mar 25   slope:   3.06   intercept: -5.21\n",
      "SampleD Mar 22   slope:   1.96   intercept:  1.09\n",
      "SampleD Mar 4   slope:  -3.96   intercept:  3.72\n",
      "SampleD Mar 19   slope:   1.98   intercept: -3.95\n",
      "SampleD Mar 16   slope:  -2.01   intercept: -2.13\n",
      "SampleD Mar 1   slope:   2.90   intercept:  3.35\n",
      "SampleD Mar 10   slope:  -1.01   intercept: -5.07\n",
      "SampleD Feb 7   slope:   3.88   intercept: -1.90\n",
      "SampleD Feb 13   slope:   3.97   intercept:  3.21\n",
      "SampleD Feb 25   slope:  -1.00   intercept: -3.91\n",
      "SampleD Feb 22   slope:  -0.97   intercept:  3.85\n",
      "SampleD Feb 4   slope:   0.98   intercept: -2.97\n",
      "SampleD Feb 19   slope:  -5.10   intercept:  2.08\n",
      "SampleD Feb 16   slope:   3.84   intercept: -2.62\n",
      "SampleD Feb 1   slope:  -1.99   intercept:  2.93\n",
      "SampleD Feb 10   slope:   3.06   intercept: -5.16\n"
     ],
     "name": "stdout"
    }
   ]
  },
  {
   "cell_type": "code",
   "metadata": {
    "id": "KRGbNJ5SFn_Z",
    "colab_type": "code",
    "colab": {}
   },
   "source": [
    "afile=files[1]"
   ],
   "execution_count": 44,
   "outputs": []
  },
  {
   "cell_type": "code",
   "metadata": {
    "id": "OxaDiUOeHNB5",
    "colab_type": "code",
    "colab": {
     "base_uri": "https://localhost:8080/",
     "height": 54
    },
    "outputId": "465656cf-a63c-4a90-ca61-a0e31db77d62"
   },
   "source": [
    "afile.as_posix().split('/')"
   ],
   "execution_count": 49,
   "outputs": [
    {
     "output_type": "execute_result",
     "data": {
      "text/plain": [
       "['', 'content', 'data', 'SampleB', 'Jan', 'Day:13']"
      ]
     },
     "metadata": {
      "tags": []
     },
     "execution_count": 49
    }
   ]
  },
  {
   "cell_type": "code",
   "metadata": {
    "id": "nVmFMzS1IbZg",
    "colab_type": "code",
    "colab": {}
   },
   "source": [
    ""
   ],
   "execution_count": null,
   "outputs": []
  }
 ]
}