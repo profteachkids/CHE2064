{
 "nbformat": 4,
 "nbformat_minor": 0,
 "metadata": {
  "kernelspec": {
   "display_name": "Python 3",
   "language": "python",
   "name": "python3"
  },
  "language_info": {
   "codemirror_mode": {
    "name": "ipython",
    "version": 2
   },
   "file_extension": ".py",
   "mimetype": "text/x-python",
   "name": "python",
   "nbconvert_exporter": "python",
   "pygments_lexer": "ipython2",
   "version": "2.7.6"
  },
  "colab": {
   "name": "Closed_Water_Air.ipynb",
   "provenance": [],
   "include_colab_link": true
  }
 },
 "cells": [
  {
   "cell_type": "markdown",
   "metadata": {
    "id": "view-in-github",
    "colab_type": "text",
    "pycharm": {
     "name": "#%% md\n"
    }
   },
   "source": [
    "<a href=\"https://colab.research.google.com/github/profteachkids/CHE2064/blob/master/Closed_Water_Air.ipynb\" target=\"_parent\"><img src=\"https://colab.research.google.com/assets/colab-badge.svg\" alt=\"Open In Colab\"/></a>"
   ]
  },
  {
   "cell_type": "code",
   "metadata": {
    "id": "cqoR7kaA0RMm",
    "colab_type": "code",
    "colab": {}
   },
   "source": [
    "!git clone --depth 1 https://github.com/profteachkids/CHE2064.git &> /dev/null\n",
    "!pip install DotMap &> /dev/null\n",
    "import sys\n",
    "sys.path.insert(1, \"/content/CHE2064\") #Path to CHE module imports"
   ],
   "execution_count": null,
   "outputs": []
  },
  {
   "cell_type": "code",
   "metadata": {
    "pycharm": {
     "name": "#%%\n"
    },
    "id": "T-o9JMyd0K2V",
    "colab_type": "code",
    "colab": {}
   },
   "source": [
    "from dotmap import DotMap\n",
    "import pandas as pd\n",
    "import jax\n",
    "import jax.numpy as jnp\n",
    "from jax.config import config\n",
    "config.update(\"jax_enable_x64\", True) #JAX default is 32bit single precision\n",
    "\n",
    "from tools.tree_array_transform import VSC, Comp, Range, todf, report, tuple_keys\n",
    "from tools.trust_ncg import minimize\n",
    "import tools.che as che"
   ],
   "execution_count": null,
   "outputs": []
  },
  {
   "cell_type": "code",
   "metadata": {
    "pycharm": {
     "name": "#%%\n"
    },
    "id": "Wjacie-aul0U",
    "colab_type": "code",
    "colab": {
     "base_uri": "https://localhost:8080/",
     "height": 87
    },
    "outputId": "7faca1fb-60cf-4626-ef1a-783716ff0652"
   },
   "source": [
    "R=8.314 # J/(mol K)\n",
    "p = che.Props(['Nitrogen','Oxygen', 'Argon', 'Water'])\n",
    "\n",
    "def model(c):\n",
    "    Pw = p.Pvap(c.T)[3]\n",
    "    V_vap = c.V_tot - c.Vw_i\n",
    "    W_n_vap = Pw * V_vap / (R * c.T)\n",
    "    n_vap = jnp.concatenate((c.air_n, W_n_vap))\n",
    "    P = jnp.sum(n_vap) * R * c.T / V_vap\n",
    "    return (s.P_f - P)**2\n",
    "\n",
    "s=DotMap()\n",
    "s.air_y = jnp.array([0.78, 0.21, 0.01])\n",
    "s.W_tot = 1. # 1 kg\n",
    "s.V_tot = 0.01 # 10 Liters\n",
    "s.P_i = 1e5 # Pa air pressure\n",
    "s.P_f = 2e5 # Pa final pressure\n",
    "s.q = 2000. # watts\n",
    "s.T_i = 298.\n",
    "\n",
    "s.Vw_i = s.W_tot/p.rhol(s.T_i)[3]\n",
    "s.Vair_i = s.V_tot - s.Vw_i\n",
    "s.air_n = s.air_y * s.P_i * s.Vair_i / (R * s.T_i)\n",
    "\n",
    "v=DotMap()\n",
    "v.T = 360\n",
    "\n",
    "\n",
    "vsc=VSC(v,s)\n",
    "model_f = vsc.transform(model)\n",
    "model_f(vsc.x)"
   ],
   "execution_count": null,
   "outputs": []
  },
  {
   "cell_type": "code",
   "metadata": {
    "pycharm": {
     "name": "#%%\n"
    },
    "id": "HigobUA-0K2h",
    "colab_type": "code",
    "colab": {
     "base_uri": "https://localhost:8080/",
     "height": 186
    },
    "outputId": "ebdf1ebe-1985-4f9d-bd78-95d4977a6453"
   },
   "source": [
    "modelf = jax.jit(vsc.transform(model))\n",
    "x_min, f = minimize(modelf, vsc.x, verbosity=1)"
   ],
   "execution_count": null,
   "outputs": []
  },
  {
   "cell_type": "code",
   "metadata": {
    "pycharm": {
     "name": "#%%\n"
    },
    "id": "q2SDOFrQ0K2l",
    "colab_type": "code",
    "colab": {
     "base_uri": "https://localhost:8080/",
     "height": 54
    },
    "outputId": "1b5dc716-5b45-492b-9602-93f8d2db5650"
   },
   "source": [
    "v_sol = vsc.xtov(x_min)\n",
    "v_sol.pprint()\n"
   ],
   "execution_count": null,
   "outputs": []
  },
  {
   "cell_type": "code",
   "metadata": {
    "pycharm": {
     "name": "#%%\n"
    },
    "id": "MaAySxSg0K2o",
    "colab_type": "code",
    "colab": {}
   },
   "source": [
    "def model2(c):\n",
    "    r=DotMap()\n",
    "    Pw = p.Pvap(c.T)[3]\n",
    "    V_vap = c.V_tot - c.Vw_i\n",
    "    r.W_n_vap = Pw * V_vap / (R * c.T)\n",
    "    r.n_vap = jnp.concatenate((c.air_n, r.W_n_vap))\n",
    "    P = jnp.sum(r.n_vap) * R * c.T / V_vap\n",
    "    return ((s.P_f - P)/s.P_f)**2 + (r.W_n_vap - 0.3)**2, r"
   ],
   "execution_count": null,
   "outputs": []
  },
  {
   "cell_type": "code",
   "metadata": {
    "pycharm": {
     "name": "#%%\n"
    },
    "id": "Zfm8jxfY0K2s",
    "colab_type": "code",
    "colab": {}
   },
   "source": [
    "s=DotMap()\n",
    "s.air_y = jnp.array([0.78, 0.21, 0.01])\n",
    "s.W_tot = 1. # 1 kg\n",
    "s.V_tot = 0.01 # 10 Liters\n",
    "s.P_i = 1e5 # Pa air pressure\n",
    "s.P_f = 2e5 # Pa final pressure\n",
    "s.q = 2000. # watts\n",
    "s.T_i = 298.\n",
    "\n",
    "s.Vw_i = s.W_tot/p.rhol(s.T_i)[3]\n",
    "s.Vair_i = s.V_tot - s.Vw_i\n",
    "s.air_n = s.air_y * s.P_i * s.Vair_i / (R * s.T_i)\n",
    "\n",
    "v=DotMap()\n",
    "v.T = Range(350, 300, 400)\n",
    "v.V_tot = Range(0.015, 0., 0.03)\n",
    "\n",
    "vsc=VSC(v,s)"
   ],
   "execution_count": null,
   "outputs": []
  },
  {
   "cell_type": "code",
   "metadata": {
    "pycharm": {
     "name": "#%%\n"
    },
    "id": "8wqWHVc30K2v",
    "colab_type": "code",
    "colab": {
     "base_uri": "https://localhost:8080/",
     "height": 137
    },
    "outputId": "9cd41254-8376-44c6-ed26-28cfbb5c3c33"
   },
   "source": [
    "modelf = jax.jit(vsc.transform(model2))\n",
    "x_min, f = minimize(modelf, vsc.x, verbosity=1)"
   ],
   "execution_count": null,
   "outputs": []
  },
  {
   "cell_type": "code",
   "metadata": {
    "pycharm": {
     "name": "#%%\n"
    },
    "id": "m1u1Uny_0K20",
    "colab_type": "code",
    "colab": {
     "base_uri": "https://localhost:8080/",
     "height": 71
    },
    "outputId": "3a5464c8-543f-47e3-b714-66457af1fd28"
   },
   "source": [
    "v_sol = vsc.xtov(x_min)\n",
    "v_sol.pprint()\n"
   ],
   "execution_count": null,
   "outputs": []
  },
  {
   "cell_type": "code",
   "metadata": {
    "pycharm": {
     "name": "#%%\n"
    },
    "id": "_41LfC9m0K23",
    "colab_type": "code",
    "colab": {
     "base_uri": "https://localhost:8080/",
     "height": 160
    },
    "outputId": "ec0d843b-61a5-4160-b3a0-13b0e7f207d1"
   },
   "source": [
    "report(model2, vsc.xtoc(x_min))"
   ],
   "execution_count": null,
   "outputs": []
  },
  {
   "cell_type": "code",
   "execution_count": null,
   "outputs": [],
   "source": [
    "df=todf(s)"
   ],
   "metadata": {
    "collapsed": false,
    "pycharm": {
     "name": "#%%\n"
    }
   }
  },
  {
   "cell_type": "code",
   "execution_count": 36,
   "outputs": [
    {
     "data": {
      "text/plain": "    vector3     vector1\n          1 2 3       1\nP_i              100000\nT_i                 298",
      "text/html": "<div>\n<style scoped>\n    .dataframe tbody tr th:only-of-type {\n        vertical-align: middle;\n    }\n\n    .dataframe tbody tr th {\n        vertical-align: top;\n    }\n\n    .dataframe thead tr th {\n        text-align: left;\n    }\n</style>\n<table border=\"1\" class=\"dataframe\">\n  <thead>\n    <tr>\n      <th></th>\n      <th colspan=\"3\" halign=\"left\">vector3</th>\n      <th>vector1</th>\n    </tr>\n    <tr>\n      <th></th>\n      <th>1</th>\n      <th>2</th>\n      <th>3</th>\n      <th>1</th>\n    </tr>\n  </thead>\n  <tbody>\n    <tr>\n      <th>P_i</th>\n      <td></td>\n      <td></td>\n      <td></td>\n      <td>100000</td>\n    </tr>\n    <tr>\n      <th>T_i</th>\n      <td></td>\n      <td></td>\n      <td></td>\n      <td>298</td>\n    </tr>\n  </tbody>\n</table>\n</div>"
     },
     "execution_count": 36,
     "metadata": {},
     "output_type": "execute_result"
    }
   ],
   "source": [],
   "metadata": {
    "collapsed": false,
    "pycharm": {
     "name": "#%%\n"
    }
   }
  },
  {
   "cell_type": "code",
   "execution_count": null,
   "outputs": [],
   "source": [],
   "metadata": {
    "collapsed": false,
    "pycharm": {
     "name": "#%%\n"
    }
   }
  },
  {
   "cell_type": "code",
   "metadata": {
    "pycharm": {
     "name": "#%%\n"
    },
    "id": "eiRatjj30K26",
    "colab_type": "code",
    "colab": {
     "base_uri": "https://localhost:8080/",
     "height": 405
    },
    "outputId": "ec5940d2-9d7a-4b4f-e4fb-88dd083bfd83"
   },
   "source": [],
   "execution_count": null,
   "outputs": []
  },
  {
   "cell_type": "code",
   "metadata": {
    "pycharm": {
     "name": "#%%\n"
    },
    "id": "VXZ6LUJX0K29",
    "colab_type": "code",
    "colab": {}
   },
   "source": [
    ""
   ],
   "execution_count": null,
   "outputs": []
  }
 ]
}