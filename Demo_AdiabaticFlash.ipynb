{
 "nbformat": 4,
 "nbformat_minor": 0,
 "metadata": {
  "kernelspec": {
   "display_name": "Python 3",
   "language": "python",
   "name": "python3"
  },
  "language_info": {
   "codemirror_mode": {
    "name": "ipython",
    "version": 2
   },
   "file_extension": ".py",
   "mimetype": "text/x-python",
   "name": "python",
   "nbconvert_exporter": "python",
   "pygments_lexer": "ipython2",
   "version": "2.7.6"
  },
  "colab": {
   "name": "Demo_AdiabaticFlash.ipynb",
   "provenance": [],
   "include_colab_link": true
  }
 },
 "cells": [
  {
   "cell_type": "markdown",
   "metadata": {
    "id": "view-in-github",
    "colab_type": "text",
    "pycharm": {
     "name": "#%% md\n"
    }
   },
   "source": [
    "<a href=\"https://colab.research.google.com/github/profteachkids/CHE2064/blob/master/Demo_AdiabaticFlash.ipynb\" target=\"_parent\"><img src=\"https://colab.research.google.com/assets/colab-badge.svg\" alt=\"Open In Colab\"/></a>"
   ]
  },
  {
   "cell_type": "code",
   "metadata": {
    "pycharm": {
     "name": "#%%\n"
    },
    "id": "CiXlQcV0ul0G",
    "colab_type": "code",
    "colab": {
     "base_uri": "https://localhost:8080/",
     "height": 649
    },
    "outputId": "378d118e-7e08-48ff-b62b-7761c830c198"
   },
   "source": [
    "!wget https://raw.githubusercontent.com/profteachkids/CHE2064/master/vsc.py\n",
    "!wget https://raw.githubusercontent.com/profteachkids/CHE2064/master/trust_ncg.py\n",
    "!wget https://raw.githubusercontent.com/profteachkids/CHE2064/master/che_tools.py\n",
    "!pip install DotMap"
   ],
   "execution_count": null,
   "outputs": []
  },
  {
   "cell_type": "code",
   "metadata": {
    "id": "DLGVgv4Pul0O",
    "colab_type": "code",
    "colab": {}
   },
   "source": [
    "from dotmap import DotMap\n",
    "import jax.numpy as jnp\n",
    "import jax\n",
    "import vsc\n",
    "import trust_ncg as tncg\n",
    "import che_tools as che"
   ],
   "execution_count": 1,
   "outputs": []
  },
  {
   "cell_type": "code",
   "metadata": {
    "pycharm": {
     "name": "#%%\n"
    },
    "id": "Wjacie-aul0U",
    "colab_type": "code",
    "colab": {}
   },
   "source": [
    "p = che.Props(['Ethanol','Isopropanol', 'Water'])"
   ],
   "execution_count": 15,
   "outputs": []
  },
  {
   "cell_type": "code",
   "metadata": {
    "pycharm": {
     "name": "#%%\n"
    },
    "id": "DzvIFEmsqJ87",
    "colab_type": "code",
    "colab": {}
   },
   "source": [
    "def model(c):\n",
    "    c=DotMap(c)\n",
    "    Ltot = c.Ftot - c.Vtot\n",
    "    V = c.Vy * c.Vtot\n",
    "    L = c.Lx * Ltot\n",
    "    F = c.Fz * c.Ftot\n",
    "    mass_balance = (F - V - L)\n",
    "    mass_balance = (mass_balance/jnp.sum(F))**2\n",
    "\n",
    "    FH = p.Hmix(0., F, c.FT)\n",
    "    VH = p.Hmix(V, 0., c.flashT)\n",
    "    LH = p.Hmix(0., L, c.flashT)\n",
    "    energy_balance = (FH - VH - LH)\n",
    "    energy_balance = (energy_balance/jnp.sum(FH))**2\n",
    "\n",
    "    fugacity = (c.Lx  * p.NRTL_gamma(c.Lx,c.flashT)* p.Pvap(c.flashT)\n",
    "                - c.Vy*c.flashP)\n",
    "    fugacity = (fugacity/jnp.sum(c.Vy*c.flashP))**2\n",
    "\n",
    "    return jnp.sum(mass_balance + energy_balance + fugacity)"
   ],
   "execution_count": 16,
   "outputs": []
  },
  {
   "cell_type": "code",
   "metadata": {
    "pycharm": {
     "name": "#%%\n"
    },
    "id": "s1Krs9e2qJ8_",
    "colab_type": "code",
    "colab": {
     "base_uri": "https://localhost:8080/",
     "height": 87
    },
    "outputId": "d0a95781-f001-4f99-eae0-57aa3c05d112"
   },
   "source": [
    "s=DotMap()\n",
    "s.Ftot=10\n",
    "s.Fz = jnp.array([1/3, 1/3, 1/3])\n",
    "s.FT = 400\n",
    "\n",
    "s.flashP= 101325\n",
    "v=DotMap()\n",
    "v.Vy = vsc.Comp(s.Fz)\n",
    "v.Lx = vsc.Comp(s.Fz)\n",
    "v.flashT = vsc.Range(360, 300, s.FT)\n",
    "v.Vtot = vsc.Range(s.Ftot/2, 0., s.Ftot)"
   ],
   "execution_count": 17,
   "outputs": []
  },
  {
   "cell_type": "code",
   "metadata": {
    "pycharm": {
     "name": "#%%\n"
    },
    "id": "B_qzKOKtul0a",
    "colab_type": "code",
    "colab": {
     "base_uri": "https://localhost:8080/",
     "height": 368
    },
    "outputId": "4f8e6394-4dd0-463a-e796-a5bc4376b699"
   },
   "source": [
    "c=vsc.VSC(v,s)\n",
    "model(c.xtoc(c.x))"
   ],
   "execution_count": 18,
   "outputs": [
    {
     "data": {
      "text/plain": "DeviceArray(0.06531803, dtype=float64)"
     },
     "execution_count": 18,
     "metadata": {},
     "output_type": "execute_result"
    }
   ]
  },
  {
   "cell_type": "code",
   "execution_count": 19,
   "outputs": [
    {
     "name": "stdout",
     "output_type": "stream",
     "text": [
      "0:3, f: 0.06531803353475606\n",
      "1:5, f: 0.004322823697925632\n",
      "2:5, f: 0.00017278942431539642\n",
      "3:5, f: 2.9528721063611253e-06\n",
      "4:5, f: 2.0437620162466306e-09\n",
      "Final results:\n",
      "f: 1.137291061949767e-15\n",
      "x: [-0.06257052 -0.03792896 -1.53089992  0.29515518  0.19118277  0.11507143]\n"
     ]
    }
   ],
   "source": [
    "modelf = jax.jit(c.transform(model))\n",
    "x_min, f = tncg.minimize(modelf,c.x, verbosity=1)"
   ],
   "metadata": {
    "collapsed": false,
    "pycharm": {
     "name": "#%%\n"
    }
   }
  },
  {
   "cell_type": "code",
   "execution_count": 20,
   "outputs": [
    {
     "data": {
      "text/plain": "                (vector3, 1) (vector3, 2) (vector3, 3)\nFT          400                                       \nFtot         10                                       \nFz                  0.333333     0.333333     0.333333\nLx                  0.323675      0.33175     0.344575\nVtot    1.77862                                       \nVy                  0.377977     0.340651     0.281372\nflashP   101325                                       \nflashT  352.874                                       ",
      "text/html": "<div>\n<style scoped>\n    .dataframe tbody tr th:only-of-type {\n        vertical-align: middle;\n    }\n\n    .dataframe tbody tr th {\n        vertical-align: top;\n    }\n\n    .dataframe thead th {\n        text-align: right;\n    }\n</style>\n<table border=\"1\" class=\"dataframe\">\n  <thead>\n    <tr style=\"text-align: right;\">\n      <th></th>\n      <th></th>\n      <th>(vector3, 1)</th>\n      <th>(vector3, 2)</th>\n      <th>(vector3, 3)</th>\n    </tr>\n  </thead>\n  <tbody>\n    <tr>\n      <th>FT</th>\n      <td>400</td>\n      <td></td>\n      <td></td>\n      <td></td>\n    </tr>\n    <tr>\n      <th>Ftot</th>\n      <td>10</td>\n      <td></td>\n      <td></td>\n      <td></td>\n    </tr>\n    <tr>\n      <th>Fz</th>\n      <td></td>\n      <td>0.333333</td>\n      <td>0.333333</td>\n      <td>0.333333</td>\n    </tr>\n    <tr>\n      <th>Lx</th>\n      <td></td>\n      <td>0.323675</td>\n      <td>0.33175</td>\n      <td>0.344575</td>\n    </tr>\n    <tr>\n      <th>Vtot</th>\n      <td>1.77862</td>\n      <td></td>\n      <td></td>\n      <td></td>\n    </tr>\n    <tr>\n      <th>Vy</th>\n      <td></td>\n      <td>0.377977</td>\n      <td>0.340651</td>\n      <td>0.281372</td>\n    </tr>\n    <tr>\n      <th>flashP</th>\n      <td>101325</td>\n      <td></td>\n      <td></td>\n      <td></td>\n    </tr>\n    <tr>\n      <th>flashT</th>\n      <td>352.874</td>\n      <td></td>\n      <td></td>\n      <td></td>\n    </tr>\n  </tbody>\n</table>\n</div>"
     },
     "execution_count": 20,
     "metadata": {},
     "output_type": "execute_result"
    }
   ],
   "source": [
    "v_sol = c.xtoc(x_min)\n",
    "df=vsc.todf(v_sol)\n",
    "df"
   ],
   "metadata": {
    "collapsed": false,
    "pycharm": {
     "name": "#%%\n"
    }
   }
  },
  {
   "cell_type": "code",
   "execution_count": null,
   "outputs": [],
   "source": [],
   "metadata": {
    "collapsed": false,
    "pycharm": {
     "name": "#%%\n"
    }
   }
  },
  {
   "cell_type": "code",
   "execution_count": null,
   "outputs": [],
   "source": [],
   "metadata": {
    "collapsed": false,
    "pycharm": {
     "name": "#%%\n"
    }
   }
  }
 ]
}