{
 "nbformat": 4,
 "nbformat_minor": 0,
 "metadata": {
  "kernelspec": {
   "display_name": "Python 3",
   "language": "python",
   "name": "python3"
  },
  "language_info": {
   "codemirror_mode": {
    "name": "ipython",
    "version": 2
   },
   "file_extension": ".py",
   "mimetype": "text/x-python",
   "name": "python",
   "nbconvert_exporter": "python",
   "pygments_lexer": "ipython2",
   "version": "2.7.6"
  },
  "colab": {
   "name": "Demo_AdiabaticFlash.ipynb",
   "provenance": [],
   "include_colab_link": true
  }
 },
 "cells": [
  {
   "cell_type": "markdown",
   "metadata": {
    "id": "view-in-github",
    "colab_type": "text"
   },
   "source": [
    "<a href=\"https://colab.research.google.com/github/profteachkids/CHE2064/blob/master/Demo_AdiabaticFlash.ipynb\" target=\"_parent\"><img src=\"https://colab.research.google.com/assets/colab-badge.svg\" alt=\"Open In Colab\"/></a>"
   ]
  },
  {
   "cell_type": "markdown",
   "metadata": {
    "id": "o6cpMVAA9pfN",
    "colab_type": "text"
   },
   "source": [
    "## Import libraries\n",
    "This section is somewhat intimidating to new users, but modifications are necessary only to access advanced features."
   ]
  },
  {
   "cell_type": "code",
   "metadata": {
    "pycharm": {
     "name": "#%%\n"
    },
    "id": "CiXlQcV0ul0G",
    "colab_type": "code",
    "colab": {}
   },
   "source": [
    "!git clone --depth 1 https://github.com/profteachkids/CHE2064.git &> /dev/null\n",
    "!pip install DotMap &> /dev/null\n",
    "import sys\n",
    "sys.path.insert(1, \"/content/CHE2064\") #Path to CHE module imports"
   ],
   "execution_count": 1,
   "outputs": []
  },
  {
   "cell_type": "code",
   "metadata": {
    "pycharm": {
     "name": "#%%\n"
    },
    "id": "3Xcv-3GycYZc",
    "colab_type": "code",
    "colab": {}
   },
   "source": [
    "from dotmap import DotMap\n",
    "import pandas as pd\n",
    "import jax\n",
    "import jax.numpy as jnp\n",
    "from jax.config import config\n",
    "config.update(\"jax_enable_x64\", True) #JAX default is 32bit single precision\n",
    "\n",
    "from tools.tree_array_transform2 import VSC, Comp, Range\n",
    "import tools.che as che"
   ],
   "execution_count": 1,
   "outputs": []
  },
  {
   "cell_type": "markdown",
   "metadata": {
    "id": "W9jA7D-b-WcP",
    "colab_type": "text",
    "pycharm": {
     "name": "#%% md\n"
    }
   },
   "source": [
    "## Dot-access to chemical properties and calculations\n",
    "ChemCAD data properties and binary interaction parameters can be exported as text files.  A few common chemicals are stored in a Github repository.  Users with ChemCad access can export and access their own data files.  The *che.Props* class parses these files for convenient dot-access and implementations of common calculations."
   ]
  },
  {
   "cell_type": "code",
   "metadata": {
    "pycharm": {
     "name": "#%%\n"
    },
    "id": "Wjacie-aul0U",
    "colab_type": "code",
    "colab": {}
   },
   "source": [
    "p = che.Props(['Ethanol','Isopropanol', 'Water'])"
   ],
   "execution_count": 2,
   "outputs": [
    {
     "name": "stderr",
     "output_type": "stream",
     "text": [
      "/Users/carlosco/opt/anaconda3/envs/pytorch/lib/python3.8/site-packages/jax/lib/xla_bridge.py:130: UserWarning: No GPU/TPU found, falling back to CPU.\n",
      "  warnings.warn('No GPU/TPU found, falling back to CPU.')\n"
     ]
    }
   ]
  },
  {
   "cell_type": "code",
   "metadata": {
    "id": "I-R-T5ALAEIH",
    "colab_type": "code",
    "colab": {
     "base_uri": "https://localhost:8080/",
     "height": 137
    },
    "outputId": "6c7678d4-678b-4d48-b7f1-cb4ead43533c"
   },
   "source": [
    "print(f'Tc: {p.Tc}')\n",
    "print(f'Pc: {p.Tc}')\n",
    "print(f'Vapor Pressure at 432.1 K {p.Pvap(432.1)} Pa')\n",
    "print(f'NRTL activity coefficients for equimolar mixture {p.NRTL_gamma([1/3,1/3,1/3], 300)} ')"
   ],
   "execution_count": 3,
   "outputs": [
    {
     "name": "stdout",
     "output_type": "stream",
     "text": [
      "Tc: [513.92 508.31 647.35]\n",
      "Pc: [513.92 508.31 647.35]\n",
      "Vapor Pressure at 432.1 K [1220670.06610508 1069634.05615236  600793.6517417 ] Pa\n",
      "NRTL activity coefficients for equimolar mixture [1.11669551 1.12519412 1.85757473] \n"
     ]
    }
   ]
  },
  {
   "cell_type": "markdown",
   "metadata": {
    "id": "vMg5Zj-dCPmz",
    "colab_type": "text",
    "pycharm": {
     "name": "#%% md\n"
    }
   },
   "source": [
    "## Adiabatic Flash Calculation\n",
    "Model mass/energy balance and VLE - all variables (knowns and unknowns) are in a convenient DotMap structure (c).  The model is written once.\n",
    "\n",
    "Sum up weighted square deviations for minimization.\n",
    " "
   ]
  },
  {
   "cell_type": "code",
   "metadata": {
    "pycharm": {
     "name": "#%%\n"
    },
    "id": "DzvIFEmsqJ87",
    "colab_type": "code",
    "colab": {}
   },
   "source": [
    "def model(c):\n",
    "    # c: combination of adjustable variables and static state parameters\n",
    "    # r: DotMap - store intermediate results for reporting\n",
    "    r=DotMap()\n",
    "    r.V = c.Vy * c.Vtot # Moles of each component = mole fractions * total moles\n",
    "    r.L = c.Lx * c.Ltot\n",
    "    r.F = c.Fz * c.Ftot\n",
    "    mass_balance = r.F - r.V - r.L # Mass balance for each component (vectors!)\n",
    "\n",
    "    # Hmix calculates the enthalpy given the temperature and moles of each\n",
    "    # component in the vapor and liquid phases\n",
    "    r.FH = p.Hl(nL=r.F, T=c.FT)\n",
    "    r.VH = p.Hv(nV=r.V, T=c.flashT)\n",
    "    r.LH = p.Hl(nL=r.L, T=c.flashT)\n",
    "    energy_balance = (r.FH - r.VH - r.LH)\n",
    "\n",
    "    # Raoults with NRTL activity coefficient correction.  One-liner!\n",
    "    r.fugL = c.Lx  * p.NRTL_gamma(c.Lx,c.flashT)* p.Pvap(c.flashT)\n",
    "    r.fugV = c.Vy*c.flashP\n",
    "    VLE = r.fugL - r.fugV\n",
    "    return [mass_balance, energy_balance, VLE], r"
   ],
   "execution_count": 4,
   "outputs": []
  },
  {
   "cell_type": "markdown",
   "metadata": {
    "id": "-mgmDN7IF3Cx",
    "colab_type": "text",
    "pycharm": {
     "name": "#%% md\n"
    }
   },
   "source": [
    "## What's known (static) and unknown (variable) - automatically combined and tracked.\n",
    "\n",
    "What's known and unknown can be easily swapped around without having to modify the model.  The DotMap structures can have nested lists of DotMaps with nested lists of arrays, and so forth."
   ]
  },
  {
   "cell_type": "code",
   "metadata": {
    "pycharm": {
     "name": "#%%\n"
    },
    "id": "s1Krs9e2qJ8_",
    "colab_type": "code",
    "colab": {}
   },
   "source": [
    "# Static parameters (Total feed, feed mole fractions, feed temperature and )\n",
    "c=DotMap()\n",
    "c.Ftot=10 # Total Feed moles\n",
    "c.Fz = jnp.array([1/3, 1/3, 1/3]) # Equimolar feed composition\n",
    "c.FT = 450 # Feed temperature\n",
    "c.flashP= 101325 # Flash drum pressure\n",
    "\n",
    "c.Vy = Comp(c.Fz) # Guess vapor/liquid composition equal to feed\n",
    "c.Lx = Comp(c.Fz) # Comp - constrains mole fractions to behave like mole fractions!\n",
    "c.flashT = Range(360, 273.15, c.FT)  # Guess and bounds for flash temperature\n",
    "c.Vtot = Range(c.Ftot/2, 0., c.Ftot)  # Guess half of feed in vapor\n",
    "c.Ltot = Range(c.Ftot/2, 0., c.Ftot)"
   ],
   "execution_count": 5,
   "outputs": []
  },
  {
   "cell_type": "markdown",
   "metadata": {
    "id": "IuEzfh8PIA9b",
    "colab_type": "text",
    "pycharm": {
     "name": "#%% md\n"
    }
   },
   "source": [
    "## Magic happens here\n",
    "The VSC class combines unknown variables and static parameters into a convenient DotMap structure.  Transformations between known/unknown DotMaps and the flat arrays required by the minimization routine is automated.\n",
    "\n",
    "The minimization algorithm is a robust Trust-Newton Conjugate Gradient coded to take advantage of JAX automatic Jacobian vector products.  \n",
    "\n",
    "The initial JAX model compilation is a bit slow, but subsequent repeat calculations are fast."
   ]
  },
  {
   "cell_type": "code",
   "metadata": {
    "pycharm": {
     "name": "#%%\n"
    },
    "id": "B_qzKOKtul0a",
    "colab_type": "code",
    "colab": {
     "base_uri": "https://localhost:8080/",
     "height": 533
    },
    "outputId": "11e8b98d-c756-4b7e-b074-0a70917187ab"
   },
   "source": [
    "vsc=VSC(c, model)\n",
    "vsc.solve(jit=True, verbosity=2)"
   ],
   "execution_count": 6,
   "outputs": [
    {
     "name": "stdout",
     "output_type": "stream",
     "text": [
      "[ 5.17046448e-02  2.81163464e-02 -7.98209912e-02 -5.09255225e+02\n",
      "  1.79496583e+03  1.06713303e+03  2.47943503e+02]\n",
      "[-2.09536091e-05  4.40752856e-04 -4.19799247e-04 -1.06997496e+01\n",
      "  5.76406407e+00  2.02818440e+01  1.18929182e+01]\n",
      "[ 2.89740512e-08 -1.98521790e-08 -9.12187081e-09  6.39993697e-04\n",
      "  1.25677070e-03  1.79309135e-03  3.06712660e-03]\n",
      "[ 4.44089210e-16  4.44089210e-16 -1.33226763e-15  0.00000000e+00\n",
      " -1.88674336e-10 -6.47894696e-11 -1.00057705e-10]\n",
      "     fun: 0.0\n",
      "     jac: array([0., 0., 0., 0., 0., 0., 0.])\n",
      " message: 'Optimization terminated successfully.'\n",
      "    nfev: 37\n",
      "     nit: 4\n",
      "    njev: 4\n",
      "  status: 0\n",
      " success: True\n",
      "       x: array([ 0.41635312, -0.14989824, -0.10167514, -0.41635312,  0.23361765,\n",
      "        0.16785474, -0.19533281])\n",
      "([DeviceArray([ 6.66133815e-16,  4.44089210e-16, -1.33226763e-15], dtype=float64), DeviceArray(-4.65661287e-10, dtype=float64), DeviceArray([7.27595761e-11, 4.94765118e-10, 1.60071068e-10], dtype=float64)], DotMap(V=DeviceArray([1.45669804, 1.36398335, 1.15321606], dtype=float64), L=DeviceArray([1.87663529, 1.96934998, 2.18011728], dtype=float64), F=DeviceArray([3.33333333, 3.33333333, 3.33333333], dtype=float64), FH=DeviceArray(-2707524.04348632, dtype=float64), VH=DeviceArray(-979738.63210606, dtype=float64), LH=DeviceArray(-1727785.41138026, dtype=float64), fugL=DeviceArray([37142.35989141, 34778.35417135, 29404.28593725], dtype=float64), fugV=DeviceArray([37142.35989141, 34778.35417134, 29404.28593725], dtype=float64)))\n"
     ]
    }
   ]
  },
  {
   "cell_type": "code",
   "metadata": {
    "pycharm": {
     "name": "#%%\n"
    },
    "id": "V_b2kMtcpRTA",
    "colab_type": "code",
    "colab": {
     "base_uri": "https://localhost:8080/",
     "height": 221
    },
    "outputId": "45ca38f4-88fb-46dc-f9e7-a6ef2e067fc9"
   },
   "source": [
    "# State parameters\n",
    "vsc.sdf"
   ],
   "execution_count": 7,
   "outputs": [
    {
     "data": {
      "text/plain": "       vector1   vector3                    \n             1         1         2         3\nFz              0.333333  0.333333  0.333333\nFT         450                              \nflashP  101325                              \nFtot        10                              ",
      "text/html": "<div>\n<style scoped>\n    .dataframe tbody tr th:only-of-type {\n        vertical-align: middle;\n    }\n\n    .dataframe tbody tr th {\n        vertical-align: top;\n    }\n\n    .dataframe thead tr th {\n        text-align: left;\n    }\n</style>\n<table border=\"1\" class=\"dataframe\">\n  <thead>\n    <tr>\n      <th></th>\n      <th>vector1</th>\n      <th colspan=\"3\" halign=\"left\">vector3</th>\n    </tr>\n    <tr>\n      <th></th>\n      <th>1</th>\n      <th>1</th>\n      <th>2</th>\n      <th>3</th>\n    </tr>\n  </thead>\n  <tbody>\n    <tr>\n      <th>Fz</th>\n      <td></td>\n      <td>0.333333</td>\n      <td>0.333333</td>\n      <td>0.333333</td>\n    </tr>\n    <tr>\n      <th>FT</th>\n      <td>450</td>\n      <td></td>\n      <td></td>\n      <td></td>\n    </tr>\n    <tr>\n      <th>flashP</th>\n      <td>101325</td>\n      <td></td>\n      <td></td>\n      <td></td>\n    </tr>\n    <tr>\n      <th>Ftot</th>\n      <td>10</td>\n      <td></td>\n      <td></td>\n      <td></td>\n    </tr>\n  </tbody>\n</table>\n</div>"
     },
     "execution_count": 7,
     "metadata": {},
     "output_type": "execute_result"
    }
   ]
  },
  {
   "cell_type": "code",
   "metadata": {
    "pycharm": {
     "name": "#%%\n"
    },
    "id": "QtAKhphJpRTD",
    "colab_type": "code",
    "colab": {
     "base_uri": "https://localhost:8080/",
     "height": 221
    },
    "outputId": "0f4e46f5-3727-4ff6-bcf4-974c8f726f34"
   },
   "source": [
    "# Adjustable Variables\n",
    "vsc.vdf"
   ],
   "execution_count": 8,
   "outputs": [
    {
     "data": {
      "text/plain": "        vector1   vector3                    \n              1         1         2         3\nLtot     6.0261                              \nLx               0.311418  0.326803  0.361779\nVtot     3.9739                              \nVy               0.366567  0.343236  0.290198\nflashT  352.966                              ",
      "text/html": "<div>\n<style scoped>\n    .dataframe tbody tr th:only-of-type {\n        vertical-align: middle;\n    }\n\n    .dataframe tbody tr th {\n        vertical-align: top;\n    }\n\n    .dataframe thead tr th {\n        text-align: left;\n    }\n</style>\n<table border=\"1\" class=\"dataframe\">\n  <thead>\n    <tr>\n      <th></th>\n      <th>vector1</th>\n      <th colspan=\"3\" halign=\"left\">vector3</th>\n    </tr>\n    <tr>\n      <th></th>\n      <th>1</th>\n      <th>1</th>\n      <th>2</th>\n      <th>3</th>\n    </tr>\n  </thead>\n  <tbody>\n    <tr>\n      <th>Ltot</th>\n      <td>6.0261</td>\n      <td></td>\n      <td></td>\n      <td></td>\n    </tr>\n    <tr>\n      <th>Lx</th>\n      <td></td>\n      <td>0.311418</td>\n      <td>0.326803</td>\n      <td>0.361779</td>\n    </tr>\n    <tr>\n      <th>Vtot</th>\n      <td>3.9739</td>\n      <td></td>\n      <td></td>\n      <td></td>\n    </tr>\n    <tr>\n      <th>Vy</th>\n      <td></td>\n      <td>0.366567</td>\n      <td>0.343236</td>\n      <td>0.290198</td>\n    </tr>\n    <tr>\n      <th>flashT</th>\n      <td>352.966</td>\n      <td></td>\n      <td></td>\n      <td></td>\n    </tr>\n  </tbody>\n</table>\n</div>"
     },
     "execution_count": 8,
     "metadata": {},
     "output_type": "execute_result"
    }
   ]
  },
  {
   "cell_type": "code",
   "metadata": {
    "id": "3JjpMqYzDf_m",
    "colab_type": "code",
    "colab": {
     "base_uri": "https://localhost:8080/",
     "height": 282
    },
    "outputId": "3b15cf7d-5a8d-47ae-b5ea-e6a77ea1a93e"
   },
   "source": [
    "# Intermediate results\n",
    "vsc.rdf\n",
    "\n"
   ],
   "execution_count": 9,
   "outputs": [
    {
     "data": {
      "text/plain": "      vector3                        vector1\n            1        2        3            1\nV      1.4567  1.36398  1.15322             \nL     1.87664  1.96935  2.18012             \nF     3.33333  3.33333  3.33333             \nFH                              -2.70752e+06\nVH                                   -979739\nLH                              -1.72779e+06\nfugL  37142.4  34778.4  29404.3             \nfugV  37142.4  34778.4  29404.3             ",
      "text/html": "<div>\n<style scoped>\n    .dataframe tbody tr th:only-of-type {\n        vertical-align: middle;\n    }\n\n    .dataframe tbody tr th {\n        vertical-align: top;\n    }\n\n    .dataframe thead tr th {\n        text-align: left;\n    }\n</style>\n<table border=\"1\" class=\"dataframe\">\n  <thead>\n    <tr>\n      <th></th>\n      <th colspan=\"3\" halign=\"left\">vector3</th>\n      <th>vector1</th>\n    </tr>\n    <tr>\n      <th></th>\n      <th>1</th>\n      <th>2</th>\n      <th>3</th>\n      <th>1</th>\n    </tr>\n  </thead>\n  <tbody>\n    <tr>\n      <th>V</th>\n      <td>1.4567</td>\n      <td>1.36398</td>\n      <td>1.15322</td>\n      <td></td>\n    </tr>\n    <tr>\n      <th>L</th>\n      <td>1.87664</td>\n      <td>1.96935</td>\n      <td>2.18012</td>\n      <td></td>\n    </tr>\n    <tr>\n      <th>F</th>\n      <td>3.33333</td>\n      <td>3.33333</td>\n      <td>3.33333</td>\n      <td></td>\n    </tr>\n    <tr>\n      <th>FH</th>\n      <td></td>\n      <td></td>\n      <td></td>\n      <td>-2.70752e+06</td>\n    </tr>\n    <tr>\n      <th>VH</th>\n      <td></td>\n      <td></td>\n      <td></td>\n      <td>-979739</td>\n    </tr>\n    <tr>\n      <th>LH</th>\n      <td></td>\n      <td></td>\n      <td></td>\n      <td>-1.72779e+06</td>\n    </tr>\n    <tr>\n      <th>fugL</th>\n      <td>37142.4</td>\n      <td>34778.4</td>\n      <td>29404.3</td>\n      <td></td>\n    </tr>\n    <tr>\n      <th>fugV</th>\n      <td>37142.4</td>\n      <td>34778.4</td>\n      <td>29404.3</td>\n      <td></td>\n    </tr>\n  </tbody>\n</table>\n</div>"
     },
     "execution_count": 9,
     "metadata": {},
     "output_type": "execute_result"
    }
   ]
  },
  {
   "cell_type": "code",
   "metadata": {
    "pycharm": {
     "name": "#%%\n"
    },
    "id": "oSX0NJT1pRTI",
    "colab_type": "code",
    "colab": {
     "base_uri": "https://localhost:8080/",
     "height": 343
    },
    "outputId": "b60d999a-4f72-4281-af5b-58b1a1f14489"
   },
   "source": [
    "vsc.cdf\n"
   ],
   "execution_count": 10,
   "outputs": [
    {
     "data": {
      "text/plain": "        vector1   vector3                    \n              1         1         2         3\nFT          450                              \nFtot         10                              \nFz               0.333333  0.333333  0.333333\nLtot     6.0261                              \nLx               0.311418  0.326803  0.361779\nVtot     3.9739                              \nVy               0.366567  0.343236  0.290198\nflashP   101325                              \nflashT  352.966                              ",
      "text/html": "<div>\n<style scoped>\n    .dataframe tbody tr th:only-of-type {\n        vertical-align: middle;\n    }\n\n    .dataframe tbody tr th {\n        vertical-align: top;\n    }\n\n    .dataframe thead tr th {\n        text-align: left;\n    }\n</style>\n<table border=\"1\" class=\"dataframe\">\n  <thead>\n    <tr>\n      <th></th>\n      <th>vector1</th>\n      <th colspan=\"3\" halign=\"left\">vector3</th>\n    </tr>\n    <tr>\n      <th></th>\n      <th>1</th>\n      <th>1</th>\n      <th>2</th>\n      <th>3</th>\n    </tr>\n  </thead>\n  <tbody>\n    <tr>\n      <th>FT</th>\n      <td>450</td>\n      <td></td>\n      <td></td>\n      <td></td>\n    </tr>\n    <tr>\n      <th>Ftot</th>\n      <td>10</td>\n      <td></td>\n      <td></td>\n      <td></td>\n    </tr>\n    <tr>\n      <th>Fz</th>\n      <td></td>\n      <td>0.333333</td>\n      <td>0.333333</td>\n      <td>0.333333</td>\n    </tr>\n    <tr>\n      <th>Ltot</th>\n      <td>6.0261</td>\n      <td></td>\n      <td></td>\n      <td></td>\n    </tr>\n    <tr>\n      <th>Lx</th>\n      <td></td>\n      <td>0.311418</td>\n      <td>0.326803</td>\n      <td>0.361779</td>\n    </tr>\n    <tr>\n      <th>Vtot</th>\n      <td>3.9739</td>\n      <td></td>\n      <td></td>\n      <td></td>\n    </tr>\n    <tr>\n      <th>Vy</th>\n      <td></td>\n      <td>0.366567</td>\n      <td>0.343236</td>\n      <td>0.290198</td>\n    </tr>\n    <tr>\n      <th>flashP</th>\n      <td>101325</td>\n      <td></td>\n      <td></td>\n      <td></td>\n    </tr>\n    <tr>\n      <th>flashT</th>\n      <td>352.966</td>\n      <td></td>\n      <td></td>\n      <td></td>\n    </tr>\n  </tbody>\n</table>\n</div>"
     },
     "execution_count": 10,
     "metadata": {},
     "output_type": "execute_result"
    }
   ]
  },
  {
   "cell_type": "code",
   "metadata": {
    "pycharm": {
     "name": "#%%\n"
    },
    "id": "1dQXIQTNhzYc",
    "colab_type": "code",
    "colab": {}
   },
   "source": [
    "vsc.r.FH - vsc.r.VH - vsc.r.LH"
   ],
   "execution_count": 11,
   "outputs": [
    {
     "data": {
      "text/plain": "DeviceArray(-4.65661287e-10, dtype=float64)"
     },
     "execution_count": 11,
     "metadata": {},
     "output_type": "execute_result"
    }
   ]
  },
  {
   "cell_type": "code",
   "execution_count": 12,
   "outputs": [
    {
     "data": {
      "text/plain": "DeviceArray([7.27595761e-11, 4.94765118e-10, 1.60071068e-10], dtype=float64)"
     },
     "execution_count": 12,
     "metadata": {},
     "output_type": "execute_result"
    }
   ],
   "source": [
    "vsc.r.fugL - vsc.r.fugV\n",
    "\n",
    "\n",
    "\n"
   ],
   "metadata": {
    "collapsed": false,
    "pycharm": {
     "name": "#%%\n"
    }
   }
  }
 ]
}