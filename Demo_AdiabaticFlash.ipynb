{
  "nbformat": 4,
  "nbformat_minor": 0,
  "metadata": {
    "kernelspec": {
      "display_name": "Python 3",
      "language": "python",
      "name": "python3"
    },
    "language_info": {
      "codemirror_mode": {
        "name": "ipython",
        "version": 2
      },
      "file_extension": ".py",
      "mimetype": "text/x-python",
      "name": "python",
      "nbconvert_exporter": "python",
      "pygments_lexer": "ipython2",
      "version": "2.7.6"
    },
    "colab": {
      "name": "Demo_AdiabaticFlash.ipynb",
      "provenance": [],
      "include_colab_link": true
    }
  },
  "cells": [
    {
      "cell_type": "markdown",
      "metadata": {
        "id": "view-in-github",
        "colab_type": "text"
      },
      "source": [
        "<a href=\"https://colab.research.google.com/github/profteachkids/CHE2064/blob/master/Demo_AdiabaticFlash.ipynb\" target=\"_parent\"><img src=\"https://colab.research.google.com/assets/colab-badge.svg\" alt=\"Open In Colab\"/></a>"
      ]
    },
    {
      "cell_type": "code",
      "metadata": {
        "pycharm": {
          "name": "#%%\n"
        },
        "id": "CiXlQcV0ul0G",
        "colab_type": "code",
        "colab": {
          "base_uri": "https://localhost:8080/",
          "height": 649
        },
        "outputId": "3ff3eddb-6516-4885-f41f-be5d7edec09d"
      },
      "source": [
        "!wget https://raw.githubusercontent.com/profteachkids/CHE2064/master/vsc.py\n",
        "!wget https://raw.githubusercontent.com/profteachkids/CHE2064/master/trust_ncg.py\n",
        "!wget https://raw.githubusercontent.com/profteachkids/CHE2064/master/che_tools.py\n",
        "!pip install DotMap"
      ],
      "execution_count": 1,
      "outputs": [
        {
          "output_type": "stream",
          "text": [
            "--2020-09-09 00:22:43--  https://raw.githubusercontent.com/profteachkids/CHE2064/master/vsc.py\n",
            "Resolving raw.githubusercontent.com (raw.githubusercontent.com)... 151.101.0.133, 151.101.64.133, 151.101.128.133, ...\n",
            "Connecting to raw.githubusercontent.com (raw.githubusercontent.com)|151.101.0.133|:443... connected.\n",
            "HTTP request sent, awaiting response... 200 OK\n",
            "Length: 3549 (3.5K) [text/plain]\n",
            "Saving to: ‘vsc.py’\n",
            "\n",
            "vsc.py              100%[===================>]   3.47K  --.-KB/s    in 0s      \n",
            "\n",
            "2020-09-09 00:22:44 (53.4 MB/s) - ‘vsc.py’ saved [3549/3549]\n",
            "\n",
            "--2020-09-09 00:22:44--  https://raw.githubusercontent.com/profteachkids/CHE2064/master/trust_ncg.py\n",
            "Resolving raw.githubusercontent.com (raw.githubusercontent.com)... 151.101.0.133, 151.101.64.133, 151.101.128.133, ...\n",
            "Connecting to raw.githubusercontent.com (raw.githubusercontent.com)|151.101.0.133|:443... connected.\n",
            "HTTP request sent, awaiting response... 200 OK\n",
            "Length: 2871 (2.8K) [text/plain]\n",
            "Saving to: ‘trust_ncg.py’\n",
            "\n",
            "trust_ncg.py        100%[===================>]   2.80K  --.-KB/s    in 0s      \n",
            "\n",
            "2020-09-09 00:22:44 (41.6 MB/s) - ‘trust_ncg.py’ saved [2871/2871]\n",
            "\n",
            "--2020-09-09 00:22:44--  https://raw.githubusercontent.com/profteachkids/CHE2064/master/che_tools.py\n",
            "Resolving raw.githubusercontent.com (raw.githubusercontent.com)... 151.101.0.133, 151.101.64.133, 151.101.128.133, ...\n",
            "Connecting to raw.githubusercontent.com (raw.githubusercontent.com)|151.101.0.133|:443... connected.\n",
            "HTTP request sent, awaiting response... 200 OK\n",
            "Length: 6403 (6.3K) [text/plain]\n",
            "Saving to: ‘che_tools.py’\n",
            "\n",
            "che_tools.py        100%[===================>]   6.25K  --.-KB/s    in 0s      \n",
            "\n",
            "2020-09-09 00:22:44 (34.2 MB/s) - ‘che_tools.py’ saved [6403/6403]\n",
            "\n",
            "Collecting DotMap\n",
            "  Downloading https://files.pythonhosted.org/packages/52/47/9ca39d01b872c1bf2da0f0031cb3c4e3a016170c181e34d889253e404d59/dotmap-1.3.17-py3-none-any.whl\n",
            "Installing collected packages: DotMap\n",
            "Successfully installed DotMap-1.3.17\n"
          ],
          "name": "stdout"
        }
      ]
    },
    {
      "cell_type": "code",
      "metadata": {
        "id": "DLGVgv4Pul0O",
        "colab_type": "code",
        "colab": {}
      },
      "source": [
        "from dotmap import DotMap\n",
        "import jax.numpy as jnp\n",
        "import jax\n",
        "import vsc\n",
        "import trust_ncg as tncg\n",
        "import che_tools as che"
      ],
      "execution_count": 2,
      "outputs": []
    },
    {
      "cell_type": "code",
      "metadata": {
        "pycharm": {
          "name": "#%%\n"
        },
        "id": "Wjacie-aul0U",
        "colab_type": "code",
        "colab": {}
      },
      "source": [
        "p = che.Props(['Ethanol', 'Isopropanol', 'Water'])"
      ],
      "execution_count": 3,
      "outputs": []
    },
    {
      "cell_type": "code",
      "metadata": {
        "pycharm": {
          "name": "#%%\n"
        },
        "id": "DzvIFEmsqJ87",
        "colab_type": "code",
        "colab": {}
      },
      "source": [
        "def model(c):\n",
        "    c=DotMap(c)\n",
        "    x=che.qtox(c.Vq)\n",
        "    y=che.qtox(c.Lq)\n",
        "    z=che.qtox(c.Fq)\n",
        "    V = x * c.Vtot\n",
        "    L = y * c.Ltot\n",
        "    F = z * c.Ftot\n",
        "    mass_balance = (F - V - L)\n",
        "    mass_balance = (mass_balance/jnp.sum(F))**2\n",
        "\n",
        "    FH = p.Hmix( (1.-c.q)*F, c.q*F, c.FT)\n",
        "    VH = p.Hmix(V, 0, c.flashT)\n",
        "    LH = p.Hmix(0, L, c.flashT)\n",
        "    energy_balance = (FH - VH - LH)\n",
        "    energy_balance = (energy_balance/jnp.sum(FH))**2\n",
        "\n",
        "    fugacity = (x*p.Pvap(c.flashT) - y*c.flashP)\n",
        "    fugacity = (fugacity/jnp.sum(y*c.flashP))**2\n",
        "\n",
        "    return jnp.sum(mass_balance + energy_balance + fugacity)"
      ],
      "execution_count": 4,
      "outputs": []
    },
    {
      "cell_type": "code",
      "metadata": {
        "pycharm": {
          "name": "#%%\n"
        },
        "id": "s1Krs9e2qJ8_",
        "colab_type": "code",
        "colab": {
          "base_uri": "https://localhost:8080/",
          "height": 87
        },
        "outputId": "df1b8c0d-7a73-452c-9d56-1dfe3ceffb68"
      },
      "source": [
        "s=DotMap()\n",
        "s.Ftot=10\n",
        "s.Fq = che.xtoq([1/3, 1/3, 1/3])\n",
        "s.FT = 350\n",
        "s.flashP= 101325\n",
        "s.q = 0.5 #fraction liquid\n",
        "\n",
        "v=DotMap()\n",
        "v.Vq = che.xtoq([0.4, 0.35, 0.25])\n",
        "v.Lq = che.xtoq([0.25, 0.35, 0.4])\n",
        "v.flashT = 300\n",
        "v.Vtot = s.Ftot/2\n",
        "v.Ltot = s.Ftot/2"
      ],
      "execution_count": 5,
      "outputs": [
        {
          "output_type": "stream",
          "text": [
            "[Traced<ShapedArray(float64[], weak_type=True):JaxprTrace(level=-1/1)>, Traced<ShapedArray(float64[], weak_type=True):JaxprTrace(level=-1/1)>, Traced<ShapedArray(float64[], weak_type=True):JaxprTrace(level=-1/1)>]\n"
          ],
          "name": "stdout"
        },
        {
          "output_type": "stream",
          "text": [
            "/usr/local/lib/python3.6/dist-packages/jax/lib/xla_bridge.py:130: UserWarning: No GPU/TPU found, falling back to CPU.\n",
            "  warnings.warn('No GPU/TPU found, falling back to CPU.')\n"
          ],
          "name": "stderr"
        }
      ]
    },
    {
      "cell_type": "code",
      "metadata": {
        "pycharm": {
          "name": "#%%\n"
        },
        "id": "B_qzKOKtul0a",
        "colab_type": "code",
        "colab": {
          "base_uri": "https://localhost:8080/",
          "height": 368
        },
        "outputId": "bcced819-5261-4d43-d72a-14cc7bda5a90"
      },
      "source": [
        "c=vsc.VSC(v,s)\n",
        "modelf = jax.jit(c.transform(model))\n",
        "x_min, f = tncg.minimize(modelf,c.x, verbosity=1)"
      ],
      "execution_count": 6,
      "outputs": [
        {
          "output_type": "stream",
          "text": [
            "0:4, f: 0.3182956617493208\n",
            "1:3, f: 0.2951542974058736\n",
            "2:5, f: 0.2895570764862791\n",
            "3:4, f: 0.2805715753193567\n",
            "4:5, f: 0.25219124942674875\n",
            "5:4, f: 0.1934232645111691\n",
            "6:2, f: 0.1934232645111691\n",
            "7:2, f: 0.1934232645111691\n",
            "8:4, f: 0.17067381117819186\n",
            "9:4, f: 0.15238815883140183\n",
            "10:4, f: 0.13187458640068903\n",
            "11:5, f: 0.08792602805737397\n",
            "12:6, f: 0.012659903933506063\n",
            "13:6, f: 0.0005386452972950885\n",
            "14:6, f: 3.525986138217572e-06\n",
            "15:6, f: 4.6408293175236376e-10\n",
            "Final results:\n",
            "f: 8.83358843701275e-18\n",
            "x: [ 4.01011698e-01  3.36410535e-01  5.28612421e+00 -4.14090787e-01\n",
            " -3.21380334e-01  4.71387582e+00  3.59966484e+02]\n"
          ],
          "name": "stdout"
        }
      ]
    },
    {
      "cell_type": "code",
      "metadata": {
        "pycharm": {
          "name": "#%%\n"
        },
        "id": "yLjuFWEePc3_",
        "colab_type": "code",
        "colab": {
          "base_uri": "https://localhost:8080/",
          "height": 540
        },
        "outputId": "41927daf-daa6-48b5-e8d3-0f8e3f6b0dbf"
      },
      "source": [
        "v_sol = c.xtoc(x_min)\n",
        "df=vsc.todf(v_sol)\n",
        "df\n"
      ],
      "execution_count": 7,
      "outputs": [
        {
          "output_type": "stream",
          "text": [
            "[350.] FT\n",
            "[0. 0.] Fq\n",
            "[10.] Ftot\n",
            "[0.4010117  0.33641054] Lq\n",
            "[5.28612421] Ltot\n",
            "[-0.41409079 -0.32138033] Vq\n",
            "[4.71387582] Vtot\n",
            "[101325.] flashP\n",
            "[359.96648358] flashT\n",
            "[0.5] q\n"
          ],
          "name": "stdout"
        },
        {
          "output_type": "execute_result",
          "data": {
            "text/html": [
              "<div>\n",
              "<style scoped>\n",
              "    .dataframe tbody tr th:only-of-type {\n",
              "        vertical-align: middle;\n",
              "    }\n",
              "\n",
              "    .dataframe tbody tr th {\n",
              "        vertical-align: top;\n",
              "    }\n",
              "\n",
              "    .dataframe thead th {\n",
              "        text-align: right;\n",
              "    }\n",
              "</style>\n",
              "<table border=\"1\" class=\"dataframe\">\n",
              "  <thead>\n",
              "    <tr style=\"text-align: right;\">\n",
              "      <th></th>\n",
              "      <th></th>\n",
              "      <th>(vector2, 1)</th>\n",
              "      <th>(vector2, 2)</th>\n",
              "    </tr>\n",
              "  </thead>\n",
              "  <tbody>\n",
              "    <tr>\n",
              "      <th>FT</th>\n",
              "      <td>350</td>\n",
              "      <td></td>\n",
              "      <td></td>\n",
              "    </tr>\n",
              "    <tr>\n",
              "      <th>Fq</th>\n",
              "      <td></td>\n",
              "      <td>0</td>\n",
              "      <td>0</td>\n",
              "    </tr>\n",
              "    <tr>\n",
              "      <th>Ftot</th>\n",
              "      <td>10</td>\n",
              "      <td></td>\n",
              "      <td></td>\n",
              "    </tr>\n",
              "    <tr>\n",
              "      <th>Lq</th>\n",
              "      <td></td>\n",
              "      <td>0.401012</td>\n",
              "      <td>0.336411</td>\n",
              "    </tr>\n",
              "    <tr>\n",
              "      <th>Ltot</th>\n",
              "      <td>5.28612</td>\n",
              "      <td></td>\n",
              "      <td></td>\n",
              "    </tr>\n",
              "    <tr>\n",
              "      <th>Vq</th>\n",
              "      <td></td>\n",
              "      <td>-0.414091</td>\n",
              "      <td>-0.32138</td>\n",
              "    </tr>\n",
              "    <tr>\n",
              "      <th>Vtot</th>\n",
              "      <td>4.71388</td>\n",
              "      <td></td>\n",
              "      <td></td>\n",
              "    </tr>\n",
              "    <tr>\n",
              "      <th>flashP</th>\n",
              "      <td>101325</td>\n",
              "      <td></td>\n",
              "      <td></td>\n",
              "    </tr>\n",
              "    <tr>\n",
              "      <th>flashT</th>\n",
              "      <td>359.966</td>\n",
              "      <td></td>\n",
              "      <td></td>\n",
              "    </tr>\n",
              "    <tr>\n",
              "      <th>q</th>\n",
              "      <td>0.5</td>\n",
              "      <td></td>\n",
              "      <td></td>\n",
              "    </tr>\n",
              "  </tbody>\n",
              "</table>\n",
              "</div>"
            ],
            "text/plain": [
              "                (vector2, 1) (vector2, 2)\n",
              "FT          350                          \n",
              "Fq                         0            0\n",
              "Ftot         10                          \n",
              "Lq                  0.401012     0.336411\n",
              "Ltot    5.28612                          \n",
              "Vq                 -0.414091     -0.32138\n",
              "Vtot    4.71388                          \n",
              "flashP   101325                          \n",
              "flashT  359.966                          \n",
              "q           0.5                          "
            ]
          },
          "metadata": {
            "tags": []
          },
          "execution_count": 7
        }
      ]
    },
    {
      "cell_type": "code",
      "metadata": {
        "pycharm": {
          "name": "#%%\n"
        },
        "id": "PiIHK6UsPc4B",
        "colab_type": "code",
        "colab": {
          "base_uri": "https://localhost:8080/",
          "height": 71
        },
        "outputId": "abf3695e-20e9-45db-ffae-f6598996c83c"
      },
      "source": [
        " print(f'Vapor composition: {che.qtox(v_sol.Vq)}')\n",
        " print(f'Liquid composition: {che.qtox(v_sol.Lq)}')\n",
        " "
      ],
      "execution_count": 10,
      "outputs": [
        {
          "output_type": "stream",
          "text": [
            "Vapor composition: [0.27699768 0.30390635 0.41909597]\n",
            "Liquid composition: [0.38357038 0.3595747  0.25685492]\n"
          ],
          "name": "stdout"
        }
      ]
    },
    {
      "cell_type": "code",
      "metadata": {
        "pycharm": {
          "name": "#%%\n"
        },
        "id": "mGaxrV7zqJ9H",
        "colab_type": "code",
        "colab": {
          "base_uri": "https://localhost:8080/",
          "height": 374
        },
        "outputId": "e680c8b4-b3be-467a-fd3a-f48ee03d6e3f"
      },
      "source": [
        ""
      ],
      "execution_count": null,
      "outputs": [
        {
          "output_type": "execute_result",
          "data": {
            "text/html": [
              "<div>\n",
              "<style scoped>\n",
              "    .dataframe tbody tr th:only-of-type {\n",
              "        vertical-align: middle;\n",
              "    }\n",
              "\n",
              "    .dataframe tbody tr th {\n",
              "        vertical-align: top;\n",
              "    }\n",
              "\n",
              "    .dataframe thead th {\n",
              "        text-align: right;\n",
              "    }\n",
              "</style>\n",
              "<table border=\"1\" class=\"dataframe\">\n",
              "  <thead>\n",
              "    <tr style=\"text-align: right;\">\n",
              "      <th></th>\n",
              "      <th></th>\n",
              "      <th>(vector2, 1)</th>\n",
              "      <th>(vector2, 2)</th>\n",
              "    </tr>\n",
              "  </thead>\n",
              "  <tbody>\n",
              "    <tr>\n",
              "      <th>FT</th>\n",
              "      <td>350</td>\n",
              "      <td></td>\n",
              "      <td></td>\n",
              "    </tr>\n",
              "    <tr>\n",
              "      <th>Fq</th>\n",
              "      <td></td>\n",
              "      <td>0</td>\n",
              "      <td>0</td>\n",
              "    </tr>\n",
              "    <tr>\n",
              "      <th>Ftot</th>\n",
              "      <td>10</td>\n",
              "      <td></td>\n",
              "      <td></td>\n",
              "    </tr>\n",
              "    <tr>\n",
              "      <th>Lq</th>\n",
              "      <td></td>\n",
              "      <td>0.401012</td>\n",
              "      <td>0.336411</td>\n",
              "    </tr>\n",
              "    <tr>\n",
              "      <th>Ltot</th>\n",
              "      <td>5.28612</td>\n",
              "      <td></td>\n",
              "      <td></td>\n",
              "    </tr>\n",
              "    <tr>\n",
              "      <th>Vq</th>\n",
              "      <td></td>\n",
              "      <td>-0.414091</td>\n",
              "      <td>-0.32138</td>\n",
              "    </tr>\n",
              "    <tr>\n",
              "      <th>Vtot</th>\n",
              "      <td>4.71388</td>\n",
              "      <td></td>\n",
              "      <td></td>\n",
              "    </tr>\n",
              "    <tr>\n",
              "      <th>flashP</th>\n",
              "      <td>101325</td>\n",
              "      <td></td>\n",
              "      <td></td>\n",
              "    </tr>\n",
              "    <tr>\n",
              "      <th>flashT</th>\n",
              "      <td>359.966</td>\n",
              "      <td></td>\n",
              "      <td></td>\n",
              "    </tr>\n",
              "    <tr>\n",
              "      <th>q</th>\n",
              "      <td>0.5</td>\n",
              "      <td></td>\n",
              "      <td></td>\n",
              "    </tr>\n",
              "  </tbody>\n",
              "</table>\n",
              "</div>"
            ],
            "text/plain": [
              "                (vector2, 1) (vector2, 2)\n",
              "FT          350                          \n",
              "Fq                         0            0\n",
              "Ftot         10                          \n",
              "Lq                  0.401012     0.336411\n",
              "Ltot    5.28612                          \n",
              "Vq                 -0.414091     -0.32138\n",
              "Vtot    4.71388                          \n",
              "flashP   101325                          \n",
              "flashT  359.966                          \n",
              "q           0.5                          "
            ]
          },
          "metadata": {
            "tags": []
          },
          "execution_count": 7
        }
      ]
    },
    {
      "cell_type": "code",
      "metadata": {
        "pycharm": {
          "name": "#%%\n"
        },
        "id": "uSyi5RStqJ9J",
        "colab_type": "code",
        "colab": {}
      },
      "source": [
        ""
      ],
      "execution_count": null,
      "outputs": []
    }
  ]
}