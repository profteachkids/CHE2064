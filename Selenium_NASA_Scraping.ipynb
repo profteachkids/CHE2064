{
  "nbformat": 4,
  "nbformat_minor": 0,
  "metadata": {
    "colab": {
      "name": "Selenium_NASA_Scraping.ipynb",
      "provenance": [],
      "toc_visible": true,
      "authorship_tag": "ABX9TyMiUtyXQMltSY4Ps+b6Vvcg",
      "include_colab_link": true
    },
    "kernelspec": {
      "name": "python3",
      "display_name": "Python 3"
    }
  },
  "cells": [
    {
      "cell_type": "markdown",
      "metadata": {
        "id": "view-in-github",
        "colab_type": "text"
      },
      "source": [
        "<a href=\"https://colab.research.google.com/github/profteachkids/CHE2064/blob/master/Selenium_NASA_Scraping.ipynb\" target=\"_parent\"><img src=\"https://colab.research.google.com/assets/colab-badge.svg\" alt=\"Open In Colab\"/></a>"
      ]
    },
    {
      "cell_type": "code",
      "metadata": {
        "colab": {
          "base_uri": "https://localhost:8080/"
        },
        "id": "qvT88VkiV8fE",
        "outputId": "fba181db-27d9-48b5-ad05-7fd795cc2f13"
      },
      "source": [
        "!pip install selenium\r\n",
        "!apt-get update # to update ubuntu to correctly run apt install\r\n",
        "!apt install chromium-chromedriver\r\n",
        "!cp /usr/lib/chromium-browser/chromedriver /usr/bin\r\n"
      ],
      "execution_count": 1,
      "outputs": [
        {
          "output_type": "stream",
          "text": [
            "Collecting selenium\n",
            "\u001b[?25l  Downloading https://files.pythonhosted.org/packages/80/d6/4294f0b4bce4de0abf13e17190289f9d0613b0a44e5dd6a7f5ca98459853/selenium-3.141.0-py2.py3-none-any.whl (904kB)\n",
            "\r\u001b[K     |▍                               | 10kB 17.7MB/s eta 0:00:01\r\u001b[K     |▊                               | 20kB 10.7MB/s eta 0:00:01\r\u001b[K     |█                               | 30kB 8.6MB/s eta 0:00:01\r\u001b[K     |█▌                              | 40kB 7.3MB/s eta 0:00:01\r\u001b[K     |█▉                              | 51kB 4.4MB/s eta 0:00:01\r\u001b[K     |██▏                             | 61kB 4.9MB/s eta 0:00:01\r\u001b[K     |██▌                             | 71kB 5.0MB/s eta 0:00:01\r\u001b[K     |███                             | 81kB 5.3MB/s eta 0:00:01\r\u001b[K     |███▎                            | 92kB 5.5MB/s eta 0:00:01\r\u001b[K     |███▋                            | 102kB 5.6MB/s eta 0:00:01\r\u001b[K     |████                            | 112kB 5.6MB/s eta 0:00:01\r\u001b[K     |████▍                           | 122kB 5.6MB/s eta 0:00:01\r\u001b[K     |████▊                           | 133kB 5.6MB/s eta 0:00:01\r\u001b[K     |█████                           | 143kB 5.6MB/s eta 0:00:01\r\u001b[K     |█████▍                          | 153kB 5.6MB/s eta 0:00:01\r\u001b[K     |█████▉                          | 163kB 5.6MB/s eta 0:00:01\r\u001b[K     |██████▏                         | 174kB 5.6MB/s eta 0:00:01\r\u001b[K     |██████▌                         | 184kB 5.6MB/s eta 0:00:01\r\u001b[K     |██████▉                         | 194kB 5.6MB/s eta 0:00:01\r\u001b[K     |███████▎                        | 204kB 5.6MB/s eta 0:00:01\r\u001b[K     |███████▋                        | 215kB 5.6MB/s eta 0:00:01\r\u001b[K     |████████                        | 225kB 5.6MB/s eta 0:00:01\r\u001b[K     |████████▎                       | 235kB 5.6MB/s eta 0:00:01\r\u001b[K     |████████▊                       | 245kB 5.6MB/s eta 0:00:01\r\u001b[K     |█████████                       | 256kB 5.6MB/s eta 0:00:01\r\u001b[K     |█████████▍                      | 266kB 5.6MB/s eta 0:00:01\r\u001b[K     |█████████▉                      | 276kB 5.6MB/s eta 0:00:01\r\u001b[K     |██████████▏                     | 286kB 5.6MB/s eta 0:00:01\r\u001b[K     |██████████▌                     | 296kB 5.6MB/s eta 0:00:01\r\u001b[K     |██████████▉                     | 307kB 5.6MB/s eta 0:00:01\r\u001b[K     |███████████▎                    | 317kB 5.6MB/s eta 0:00:01\r\u001b[K     |███████████▋                    | 327kB 5.6MB/s eta 0:00:01\r\u001b[K     |████████████                    | 337kB 5.6MB/s eta 0:00:01\r\u001b[K     |████████████▎                   | 348kB 5.6MB/s eta 0:00:01\r\u001b[K     |████████████▊                   | 358kB 5.6MB/s eta 0:00:01\r\u001b[K     |█████████████                   | 368kB 5.6MB/s eta 0:00:01\r\u001b[K     |█████████████▍                  | 378kB 5.6MB/s eta 0:00:01\r\u001b[K     |█████████████▊                  | 389kB 5.6MB/s eta 0:00:01\r\u001b[K     |██████████████▏                 | 399kB 5.6MB/s eta 0:00:01\r\u001b[K     |██████████████▌                 | 409kB 5.6MB/s eta 0:00:01\r\u001b[K     |██████████████▉                 | 419kB 5.6MB/s eta 0:00:01\r\u001b[K     |███████████████▏                | 430kB 5.6MB/s eta 0:00:01\r\u001b[K     |███████████████▋                | 440kB 5.6MB/s eta 0:00:01\r\u001b[K     |████████████████                | 450kB 5.6MB/s eta 0:00:01\r\u001b[K     |████████████████▎               | 460kB 5.6MB/s eta 0:00:01\r\u001b[K     |████████████████▋               | 471kB 5.6MB/s eta 0:00:01\r\u001b[K     |█████████████████               | 481kB 5.6MB/s eta 0:00:01\r\u001b[K     |█████████████████▍              | 491kB 5.6MB/s eta 0:00:01\r\u001b[K     |█████████████████▊              | 501kB 5.6MB/s eta 0:00:01\r\u001b[K     |██████████████████▏             | 512kB 5.6MB/s eta 0:00:01\r\u001b[K     |██████████████████▌             | 522kB 5.6MB/s eta 0:00:01\r\u001b[K     |██████████████████▉             | 532kB 5.6MB/s eta 0:00:01\r\u001b[K     |███████████████████▏            | 542kB 5.6MB/s eta 0:00:01\r\u001b[K     |███████████████████▋            | 552kB 5.6MB/s eta 0:00:01\r\u001b[K     |████████████████████            | 563kB 5.6MB/s eta 0:00:01\r\u001b[K     |████████████████████▎           | 573kB 5.6MB/s eta 0:00:01\r\u001b[K     |████████████████████▋           | 583kB 5.6MB/s eta 0:00:01\r\u001b[K     |█████████████████████           | 593kB 5.6MB/s eta 0:00:01\r\u001b[K     |█████████████████████▍          | 604kB 5.6MB/s eta 0:00:01\r\u001b[K     |█████████████████████▊          | 614kB 5.6MB/s eta 0:00:01\r\u001b[K     |██████████████████████          | 624kB 5.6MB/s eta 0:00:01\r\u001b[K     |██████████████████████▌         | 634kB 5.6MB/s eta 0:00:01\r\u001b[K     |██████████████████████▉         | 645kB 5.6MB/s eta 0:00:01\r\u001b[K     |███████████████████████▏        | 655kB 5.6MB/s eta 0:00:01\r\u001b[K     |███████████████████████▌        | 665kB 5.6MB/s eta 0:00:01\r\u001b[K     |████████████████████████        | 675kB 5.6MB/s eta 0:00:01\r\u001b[K     |████████████████████████▎       | 686kB 5.6MB/s eta 0:00:01\r\u001b[K     |████████████████████████▋       | 696kB 5.6MB/s eta 0:00:01\r\u001b[K     |█████████████████████████       | 706kB 5.6MB/s eta 0:00:01\r\u001b[K     |█████████████████████████▍      | 716kB 5.6MB/s eta 0:00:01\r\u001b[K     |█████████████████████████▊      | 727kB 5.6MB/s eta 0:00:01\r\u001b[K     |██████████████████████████      | 737kB 5.6MB/s eta 0:00:01\r\u001b[K     |██████████████████████████▍     | 747kB 5.6MB/s eta 0:00:01\r\u001b[K     |██████████████████████████▉     | 757kB 5.6MB/s eta 0:00:01\r\u001b[K     |███████████████████████████▏    | 768kB 5.6MB/s eta 0:00:01\r\u001b[K     |███████████████████████████▌    | 778kB 5.6MB/s eta 0:00:01\r\u001b[K     |████████████████████████████    | 788kB 5.6MB/s eta 0:00:01\r\u001b[K     |████████████████████████████▎   | 798kB 5.6MB/s eta 0:00:01\r\u001b[K     |████████████████████████████▋   | 808kB 5.6MB/s eta 0:00:01\r\u001b[K     |█████████████████████████████   | 819kB 5.6MB/s eta 0:00:01\r\u001b[K     |█████████████████████████████▍  | 829kB 5.6MB/s eta 0:00:01\r\u001b[K     |█████████████████████████████▊  | 839kB 5.6MB/s eta 0:00:01\r\u001b[K     |██████████████████████████████  | 849kB 5.6MB/s eta 0:00:01\r\u001b[K     |██████████████████████████████▍ | 860kB 5.6MB/s eta 0:00:01\r\u001b[K     |██████████████████████████████▉ | 870kB 5.6MB/s eta 0:00:01\r\u001b[K     |███████████████████████████████▏| 880kB 5.6MB/s eta 0:00:01\r\u001b[K     |███████████████████████████████▌| 890kB 5.6MB/s eta 0:00:01\r\u001b[K     |███████████████████████████████▉| 901kB 5.6MB/s eta 0:00:01\r\u001b[K     |████████████████████████████████| 911kB 5.6MB/s \n",
            "\u001b[?25hRequirement already satisfied: urllib3 in /usr/local/lib/python3.6/dist-packages (from selenium) (1.24.3)\n",
            "Installing collected packages: selenium\n",
            "Successfully installed selenium-3.141.0\n",
            "Get:1 https://cloud.r-project.org/bin/linux/ubuntu bionic-cran40/ InRelease [3,626 B]\n",
            "Ign:2 https://developer.download.nvidia.com/compute/cuda/repos/ubuntu1804/x86_64  InRelease\n",
            "Get:3 http://security.ubuntu.com/ubuntu bionic-security InRelease [88.7 kB]\n",
            "Ign:4 https://developer.download.nvidia.com/compute/machine-learning/repos/ubuntu1804/x86_64  InRelease\n",
            "Get:5 https://cloud.r-project.org/bin/linux/ubuntu bionic-cran40/ Packages [40.7 kB]\n",
            "Hit:6 https://developer.download.nvidia.com/compute/cuda/repos/ubuntu1804/x86_64  Release\n",
            "Hit:7 https://developer.download.nvidia.com/compute/machine-learning/repos/ubuntu1804/x86_64  Release\n",
            "Hit:9 http://archive.ubuntu.com/ubuntu bionic InRelease\n",
            "Get:10 http://ppa.launchpad.net/c2d4u.team/c2d4u4.0+/ubuntu bionic InRelease [15.9 kB]\n",
            "Get:12 http://archive.ubuntu.com/ubuntu bionic-updates InRelease [88.7 kB]\n",
            "Get:13 http://security.ubuntu.com/ubuntu bionic-security/universe amd64 Packages [1,372 kB]\n",
            "Get:14 http://ppa.launchpad.net/graphics-drivers/ppa/ubuntu bionic InRelease [21.3 kB]\n",
            "Get:15 http://archive.ubuntu.com/ubuntu bionic-backports InRelease [74.6 kB]\n",
            "Get:16 http://ppa.launchpad.net/c2d4u.team/c2d4u4.0+/ubuntu bionic/main Sources [1,699 kB]\n",
            "Get:17 http://archive.ubuntu.com/ubuntu bionic-updates/universe amd64 Packages [2,136 kB]\n",
            "Get:18 http://security.ubuntu.com/ubuntu bionic-security/restricted amd64 Packages [237 kB]\n",
            "Get:19 http://security.ubuntu.com/ubuntu bionic-security/main amd64 Packages [1,814 kB]\n",
            "Get:20 http://security.ubuntu.com/ubuntu bionic-security/multiverse amd64 Packages [15.3 kB]\n",
            "Get:21 http://archive.ubuntu.com/ubuntu bionic-updates/main amd64 Packages [2,241 kB]\n",
            "Get:22 http://archive.ubuntu.com/ubuntu bionic-updates/restricted amd64 Packages [266 kB]\n",
            "Get:23 http://archive.ubuntu.com/ubuntu bionic-updates/multiverse amd64 Packages [53.8 kB]\n",
            "Get:24 http://ppa.launchpad.net/c2d4u.team/c2d4u4.0+/ubuntu bionic/main amd64 Packages [870 kB]\n",
            "Get:25 http://ppa.launchpad.net/graphics-drivers/ppa/ubuntu bionic/main amd64 Packages [46.5 kB]\n",
            "Fetched 11.1 MB in 7s (1,670 kB/s)\n",
            "Reading package lists... Done\n",
            "Reading package lists... Done\n",
            "Building dependency tree       \n",
            "Reading state information... Done\n",
            "The following additional packages will be installed:\n",
            "  chromium-browser chromium-browser-l10n chromium-codecs-ffmpeg-extra\n",
            "Suggested packages:\n",
            "  webaccounts-chromium-extension unity-chromium-extension adobe-flashplugin\n",
            "The following NEW packages will be installed:\n",
            "  chromium-browser chromium-browser-l10n chromium-chromedriver\n",
            "  chromium-codecs-ffmpeg-extra\n",
            "0 upgraded, 4 newly installed, 0 to remove and 36 not upgraded.\n",
            "Need to get 81.0 MB of archives.\n",
            "After this operation, 273 MB of additional disk space will be used.\n",
            "Get:1 http://archive.ubuntu.com/ubuntu bionic-updates/universe amd64 chromium-codecs-ffmpeg-extra amd64 87.0.4280.66-0ubuntu0.18.04.1 [1,122 kB]\n",
            "Get:2 http://archive.ubuntu.com/ubuntu bionic-updates/universe amd64 chromium-browser amd64 87.0.4280.66-0ubuntu0.18.04.1 [71.7 MB]\n",
            "Get:3 http://archive.ubuntu.com/ubuntu bionic-updates/universe amd64 chromium-browser-l10n all 87.0.4280.66-0ubuntu0.18.04.1 [3,716 kB]\n",
            "Get:4 http://archive.ubuntu.com/ubuntu bionic-updates/universe amd64 chromium-chromedriver amd64 87.0.4280.66-0ubuntu0.18.04.1 [4,488 kB]\n",
            "Fetched 81.0 MB in 9s (9,123 kB/s)\n",
            "Selecting previously unselected package chromium-codecs-ffmpeg-extra.\n",
            "(Reading database ... 144865 files and directories currently installed.)\n",
            "Preparing to unpack .../chromium-codecs-ffmpeg-extra_87.0.4280.66-0ubuntu0.18.04.1_amd64.deb ...\n",
            "Unpacking chromium-codecs-ffmpeg-extra (87.0.4280.66-0ubuntu0.18.04.1) ...\n",
            "Selecting previously unselected package chromium-browser.\n",
            "Preparing to unpack .../chromium-browser_87.0.4280.66-0ubuntu0.18.04.1_amd64.deb ...\n",
            "Unpacking chromium-browser (87.0.4280.66-0ubuntu0.18.04.1) ...\n",
            "Selecting previously unselected package chromium-browser-l10n.\n",
            "Preparing to unpack .../chromium-browser-l10n_87.0.4280.66-0ubuntu0.18.04.1_all.deb ...\n",
            "Unpacking chromium-browser-l10n (87.0.4280.66-0ubuntu0.18.04.1) ...\n",
            "Selecting previously unselected package chromium-chromedriver.\n",
            "Preparing to unpack .../chromium-chromedriver_87.0.4280.66-0ubuntu0.18.04.1_amd64.deb ...\n",
            "Unpacking chromium-chromedriver (87.0.4280.66-0ubuntu0.18.04.1) ...\n",
            "Setting up chromium-codecs-ffmpeg-extra (87.0.4280.66-0ubuntu0.18.04.1) ...\n",
            "Setting up chromium-browser (87.0.4280.66-0ubuntu0.18.04.1) ...\n",
            "update-alternatives: using /usr/bin/chromium-browser to provide /usr/bin/x-www-browser (x-www-browser) in auto mode\n",
            "update-alternatives: using /usr/bin/chromium-browser to provide /usr/bin/gnome-www-browser (gnome-www-browser) in auto mode\n",
            "Setting up chromium-chromedriver (87.0.4280.66-0ubuntu0.18.04.1) ...\n",
            "Setting up chromium-browser-l10n (87.0.4280.66-0ubuntu0.18.04.1) ...\n",
            "Processing triggers for hicolor-icon-theme (0.17-2) ...\n",
            "Processing triggers for mime-support (3.60ubuntu1) ...\n",
            "Processing triggers for man-db (2.8.3-2ubuntu0.1) ...\n",
            "cp: '/usr/lib/chromium-browser/chromedriver' and '/usr/bin/chromedriver' are the same file\n"
          ],
          "name": "stdout"
        }
      ]
    },
    {
      "cell_type": "code",
      "metadata": {
        "id": "uzaJpdonnSPj"
      },
      "source": [
        "\r\n",
        "import sys\r\n",
        "sys.path.insert(0,'/usr/lib/chromium-browser/chromedriver')\r\n",
        "from selenium import webdriver\r\n",
        "from lxml import html\r\n",
        "import time\r\n",
        "\r\n",
        "options = webdriver.ChromeOptions()\r\n",
        "options.add_argument('--headless')\r\n",
        "options.add_argument('--no-sandbox')\r\n",
        "options.add_argument('--disable-dev-shm-usage')\r\n",
        "driver = webdriver.Chrome(options=options)"
      ],
      "execution_count": 2,
      "outputs": []
    },
    {
      "cell_type": "code",
      "metadata": {
        "id": "lMhsEVwoV-eE"
      },
      "source": [
        "def crawl(url, f):\r\n",
        "    global num_links, processed\r\n",
        "    if url in processed:\r\n",
        "        return\r\n",
        "    processed.add(url)\r\n",
        "    num_links+=1\r\n",
        "    f.write(f'{num_links} {url}\\n')\r\n",
        "    f.flush()\r\n",
        "    print(f'{num_links} {url}')\r\n",
        "    driver.get(root + url)\r\n",
        "    time.sleep(1)\r\n",
        "    tree = html.fromstring(driver.page_source)\r\n",
        "    links=tree.xpath('//a[starts-with(@href,\"/\") and string-length(@href)>1]/@href')\r\n",
        "    for link in links:\r\n",
        "        crawl(link, f)"
      ],
      "execution_count": 3,
      "outputs": []
    },
    {
      "cell_type": "code",
      "metadata": {
        "colab": {
          "base_uri": "https://localhost:8080/"
        },
        "id": "0aIWFE_9X649",
        "outputId": "bc650108-5549-4209-9f6b-009a18fbd7ea"
      },
      "source": [
        "root = 'https://www.nasa.gov'\r\n",
        "processed=set()\r\n",
        "num_links=0\r\n",
        "with open('links.txt', 'w') as f:\r\n",
        "    crawl('', f)"
      ],
      "execution_count": null,
      "outputs": [
        {
          "output_type": "stream",
          "text": [
            "1 \n",
            "2 /topics/humans-in-space\n",
            "3 /topics/moon-to-mars/\n",
            "4 /topics/earth/index.html\n",
            "5 /topics/technology/index.html\n",
            "6 /topics/aeronautics/index.html\n",
            "7 /topics/solarsystem/index.html\n",
            "8 /stem\n"
          ],
          "name": "stdout"
        }
      ]
    },
    {
      "cell_type": "code",
      "metadata": {
        "id": "FtkuqbfwR_5H"
      },
      "source": [
        ""
      ],
      "execution_count": null,
      "outputs": []
    }
  ]
}