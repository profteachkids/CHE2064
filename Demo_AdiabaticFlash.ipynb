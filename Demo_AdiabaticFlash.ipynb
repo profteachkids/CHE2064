{
  "nbformat": 4,
  "nbformat_minor": 0,
  "metadata": {
    "kernelspec": {
      "display_name": "Python 3",
      "language": "python",
      "name": "python3"
    },
    "language_info": {
      "codemirror_mode": {
        "name": "ipython",
        "version": 2
      },
      "file_extension": ".py",
      "mimetype": "text/x-python",
      "name": "python",
      "nbconvert_exporter": "python",
      "pygments_lexer": "ipython2",
      "version": "2.7.6"
    },
    "colab": {
      "name": "Demo_AdiabaticFlash.ipynb",
      "provenance": []
    }
  },
  "cells": [
    {
      "cell_type": "code",
      "metadata": {
        "pycharm": {
          "name": "#%%\n"
        },
        "id": "CiXlQcV0ul0G",
        "colab_type": "code",
        "colab": {
          "base_uri": "https://localhost:8080/",
          "height": 467
        },
        "outputId": "7e8e45de-73ed-436e-901c-81e05dedfd55"
      },
      "source": [
        "!wget https://raw.githubusercontent.com/profteachkids/CHE2064/master/trust_ncg.py\n",
        "!wget https://raw.githubusercontent.com/profteachkids/CHE2064/master/che_tools.py\n",
        "!pip install DotMap"
      ],
      "execution_count": 1,
      "outputs": [
        {
          "output_type": "stream",
          "text": [
            "--2020-09-07 13:21:35--  https://raw.githubusercontent.com/profteachkids/CHE2064/master/trust_ncg.py\n",
            "Resolving raw.githubusercontent.com (raw.githubusercontent.com)... 151.101.0.133, 151.101.64.133, 151.101.128.133, ...\n",
            "Connecting to raw.githubusercontent.com (raw.githubusercontent.com)|151.101.0.133|:443... connected.\n",
            "HTTP request sent, awaiting response... 200 OK\n",
            "Length: 5583 (5.5K) [text/plain]\n",
            "Saving to: ‘trust_ncg.py’\n",
            "\n",
            "trust_ncg.py        100%[===================>]   5.45K  --.-KB/s    in 0s      \n",
            "\n",
            "2020-09-07 13:21:35 (47.9 MB/s) - ‘trust_ncg.py’ saved [5583/5583]\n",
            "\n",
            "--2020-09-07 13:21:35--  https://raw.githubusercontent.com/profteachkids/CHE2064/master/che_tools.py\n",
            "Resolving raw.githubusercontent.com (raw.githubusercontent.com)... 151.101.0.133, 151.101.64.133, 151.101.128.133, ...\n",
            "Connecting to raw.githubusercontent.com (raw.githubusercontent.com)|151.101.0.133|:443... connected.\n",
            "HTTP request sent, awaiting response... 200 OK\n",
            "Length: 6401 (6.3K) [text/plain]\n",
            "Saving to: ‘che_tools.py’\n",
            "\n",
            "che_tools.py        100%[===================>]   6.25K  --.-KB/s    in 0s      \n",
            "\n",
            "2020-09-07 13:21:35 (50.1 MB/s) - ‘che_tools.py’ saved [6401/6401]\n",
            "\n",
            "Collecting DotMap\n",
            "  Downloading https://files.pythonhosted.org/packages/52/47/9ca39d01b872c1bf2da0f0031cb3c4e3a016170c181e34d889253e404d59/dotmap-1.3.17-py3-none-any.whl\n",
            "Installing collected packages: DotMap\n",
            "Successfully installed DotMap-1.3.17\n"
          ],
          "name": "stdout"
        }
      ]
    },
    {
      "cell_type": "code",
      "metadata": {
        "id": "DLGVgv4Pul0O",
        "colab_type": "code",
        "colab": {}
      },
      "source": [
        "import trust_ncg as tncg\n",
        "import jax\n",
        "import jax.numpy as jnp\n",
        "import copy\n",
        "import che_tools as che\n",
        "from dotmap import DotMap\n",
        "import pandas as pd\n",
        "\n",
        "p = che.Props(['Ethanol', 'Isopropanol', 'Water'])"
      ],
      "execution_count": 2,
      "outputs": []
    },
    {
      "cell_type": "code",
      "metadata": {
        "pycharm": {
          "name": "#%%\n"
        },
        "id": "Wjacie-aul0U",
        "colab_type": "code",
        "colab": {
          "base_uri": "https://localhost:8080/",
          "height": 87
        },
        "outputId": "66bff6e5-f8e7-4d6e-a378-942e51619d47"
      },
      "source": [
        "s=DotMap()\n",
        "s.F = jnp.array([1/3, 1/3, 1/3])\n",
        "s.FT = 350\n",
        "s.flashP= 101325\n",
        "s.q = 0.5 #fraction liquid feed\n",
        "\n",
        "v=DotMap()\n",
        "v.Vq = che.xtoq([0.4, 0.35, 0.25])\n",
        "v.Lq = che.xtoq([0.25, 0.35, 0.4])\n",
        "v.flashT = 300\n",
        "v.Vtot = jnp.sum(s.F)/2.\n",
        "v.Ltot = jnp.sum(s.F)/2."
      ],
      "execution_count": 3,
      "outputs": [
        {
          "output_type": "stream",
          "text": [
            "/usr/local/lib/python3.6/dist-packages/jax/lib/xla_bridge.py:130: UserWarning: No GPU/TPU found, falling back to CPU.\n",
            "  warnings.warn('No GPU/TPU found, falling back to CPU.')\n"
          ],
          "name": "stderr"
        },
        {
          "output_type": "stream",
          "text": [
            "[Traced<ShapedArray(float64[], weak_type=True):JaxprTrace(level=-1/1)>, Traced<ShapedArray(float64[], weak_type=True):JaxprTrace(level=-1/1)>, Traced<ShapedArray(float64[], weak_type=True):JaxprTrace(level=-1/1)>]\n"
          ],
          "name": "stdout"
        }
      ]
    },
    {
      "cell_type": "code",
      "metadata": {
        "pycharm": {
          "name": "#%%\n"
        },
        "id": "B_qzKOKtul0a",
        "colab_type": "code",
        "colab": {}
      },
      "source": [
        "def model(c):\n",
        "    c=DotMap(c)\n",
        "    x=che.qtox(c.Vq)\n",
        "    y=che.qtox(c.Lq)\n",
        "    V = x * c.Vtot\n",
        "    L = y * c.Ltot\n",
        "    mass_balance = (c.F - V - L)\n",
        "    mass_balance = (mass_balance/jnp.sum(c.F))**2\n",
        "\n",
        "    FH = p.Hmix( (1.-c.q)*c.F, c.q*c.F, c.FT)\n",
        "    VH = p.Hmix(V, 0, c.flashT)\n",
        "    LH = p.Hmix(0, L, c.flashT)\n",
        "    energy_balance = (FH - VH - LH)\n",
        "    energy_balance = (energy_balance/jnp.sum(FH))**2\n",
        "\n",
        "    fugacity = (x*p.Pvap(c.flashT) - y*c.flashP)\n",
        "    fugacity = (fugacity/jnp.sum(y*c.flashP))**2\n",
        "    # print(mass_balance.)\n",
        "    # print(energy_balance)\n",
        "    # print(fugacity)\n",
        "\n",
        "    return jnp.sum(mass_balance + energy_balance + fugacity)"
      ],
      "execution_count": 4,
      "outputs": []
    },
    {
      "cell_type": "code",
      "metadata": {
        "pycharm": {
          "name": "#%%\n"
        },
        "id": "KFWDwGiIul0d",
        "colab_type": "code",
        "colab": {}
      },
      "source": [
        "model_f, guess_f , transform_sol= tncg.transform(model,v,s)\n",
        "model_f = jax.jit(model_f)"
      ],
      "execution_count": 5,
      "outputs": []
    },
    {
      "cell_type": "code",
      "metadata": {
        "pycharm": {
          "name": "#%%\n"
        },
        "id": "ILX1pvyBul0h",
        "colab_type": "code",
        "colab": {
          "base_uri": "https://localhost:8080/",
          "height": 87
        },
        "outputId": "2f607dd8-88b4-4541-9205-1076ca4f1c04"
      },
      "source": [
        "guess_f"
      ],
      "execution_count": 6,
      "outputs": [
        {
          "output_type": "execute_result",
          "data": {
            "text/plain": [
              "DeviceArray([-4.70003629e-01, -1.33531393e-01,  5.00000000e-01,\n",
              "              4.70003629e-01,  3.36472237e-01,  5.00000000e-01,\n",
              "              3.00000000e+02], dtype=float64)"
            ]
          },
          "metadata": {
            "tags": []
          },
          "execution_count": 6
        }
      ]
    },
    {
      "cell_type": "code",
      "metadata": {
        "pycharm": {
          "name": "#%%\n"
        },
        "id": "Rfr9AnyHul0k",
        "colab_type": "code",
        "colab": {
          "base_uri": "https://localhost:8080/",
          "height": 1000
        },
        "outputId": "852100d8-cfe8-4505-88bc-b08e9c5ad622"
      },
      "source": [
        "x_min, model_min = tncg.minimize(model_f, guess_f, verbose=True)\n",
        "x_min, df_x_min, combined, df_combined, x_tree= transform_sol(x_min)"
      ],
      "execution_count": 7,
      "outputs": [
        {
          "output_type": "stream",
          "text": [
            "0:5, f: 0.3182956617493208\n",
            "x: [ 1.44269061e-01 -6.53666781e-02  3.66904750e-01 -1.26643113e-01\n",
            "  3.58293048e-02  6.19800357e-01  3.00373608e+02]\n",
            "grad: [-0.04721111 -0.00737482 -0.23497796  0.01166882 -0.01378311 -0.47082382\n",
            " -0.002646  ]\n",
            "dx: [ 0.61427269  0.06816471 -0.13309525 -0.59664674 -0.30064293  0.11980036\n",
            "  0.37360762]\n",
            "\n",
            "1:6, f: 0.29481745844341756\n",
            "x: [5.62298623e-02 4.44164391e-02 3.96339396e-01 2.31489098e-01\n",
            " 2.20352242e-01 6.01420712e-01 3.02327241e+02]\n",
            "grad: [ 0.02232552 -0.02059477  0.00349715 -0.00930881  0.00272291  0.01913257\n",
            " -0.00229122]\n",
            "dx: [-0.0880392   0.10978312  0.02943465  0.35813221  0.18452294 -0.01837965\n",
            "  1.95363384]\n",
            "\n",
            "2:5, f: 0.28723735962710917\n",
            "x: [ 7.68557878e-02  1.24923415e-01  2.78646174e-01  1.74647430e-01\n",
            " -2.57054697e-01  6.75721962e-01  3.06294933e+02]\n",
            "grad: [ 0.00264648  0.00452797  0.00026278  0.00167349  0.00466356  0.00464323\n",
            " -0.0026232 ]\n",
            "dx: [ 0.02062593  0.08050698 -0.11769322 -0.05684167 -0.47740694  0.07430125\n",
            "  3.96769108]\n",
            "\n",
            "3:5, f: 0.2807055460149983\n",
            "x: [2.21885591e-01 1.49574100e-01 3.04761288e-01 2.06446540e-01\n",
            " 3.00152552e-01 6.38774290e-01 3.14273956e+02]\n",
            "grad: [-0.00278182  0.00900557 -0.01920766  0.01474707 -0.01877323  0.00684083\n",
            " -0.00302454]\n",
            "dx: [ 0.1450298   0.02465069  0.02611511  0.03179911  0.55720725 -0.03694767\n",
            "  7.97902378]\n",
            "\n",
            "4:5, f: 0.24996843906907013\n",
            "x: [ 2.93267514e-01  2.44039559e-01  3.99685926e-01 -6.47122679e-01\n",
            " -5.50906000e-01  5.81585972e-01  3.30227665e+02]\n",
            "grad: [ 0.01272197  0.00524651  0.00261783 -0.00774064  0.01504549  0.04132522\n",
            " -0.00427282]\n",
            "dx: [ 0.07138192  0.09446546  0.09492464 -0.85356922 -0.85105855 -0.05718832\n",
            " 15.95370862]\n",
            "\n",
            "5:6, f: 0.1842236756668792\n",
            "x: [ 2.93267514e-01  2.44039559e-01  3.99685926e-01 -6.47122679e-01\n",
            " -5.50906000e-01  5.81585972e-01  3.30227665e+02]\n",
            "grad: [ 0.00774523  0.00637276  0.00549817 -0.03599706 -0.02178943  0.06810795\n",
            " -0.00620424]\n",
            "dx: [ 0.07950215 -0.30195087 -0.99185388  3.94822051  0.88130021  0.60001769\n",
            " 31.72055445]\n",
            "\n",
            "6:6, f: 0.1842236756668792\n",
            "x: [ 2.93267514e-01  2.44039559e-01  3.99685926e-01 -6.47122679e-01\n",
            " -5.50906000e-01  5.81585972e-01  3.30227665e+02]\n",
            "grad: [ 0.00774523  0.00637276  0.00549817 -0.03599706 -0.02178943  0.06810795\n",
            " -0.00620424]\n",
            "dx: [-6.35735853e-03 -2.56142502e-01 -6.68577896e-01  2.77406361e+00\n",
            "  6.57002951e-01  4.16370116e-01  7.42878916e+00]\n",
            "\n",
            "7:4, f: 0.1842236756668792\n",
            "x: [ 2.93267514e-01  2.44039559e-01  3.99685926e-01 -6.47122679e-01\n",
            " -5.50906000e-01  5.81585972e-01  3.30227665e+02]\n",
            "grad: [ 0.00774523  0.00637276  0.00549817 -0.03599706 -0.02178943  0.06810795\n",
            " -0.00620424]\n",
            "dx: [-0.21439507 -0.25367593 -0.41459389  1.58410242  0.94901021  0.23869452\n",
            "  0.50081858]\n",
            "\n",
            "8:2, f: 0.1842236756668792\n",
            "x: [ 2.13203407e-01  1.78188334e-01  5.69389874e-01 -2.80941487e-01\n",
            " -3.04077022e-01  4.84371513e-01  3.30305060e+02]\n",
            "grad: [ 0.00774523  0.00637276  0.00549817 -0.03599706 -0.02178943  0.06810795\n",
            " -0.00620424]\n",
            "dx: [-0.08006411 -0.06585123  0.16970395  0.36618119  0.24682898 -0.09721446\n",
            "  0.07739551]\n",
            "\n",
            "9:3, f: 0.16849632552847893\n",
            "x: [2.26065798e-01 9.59966311e-02 3.42664739e-01 4.21459228e-01\n",
            " 2.60499263e-01 6.13255387e-01 3.30641142e+02]\n",
            "grad: [ 0.00180374  0.00326225  0.01535312 -0.01572251 -0.01256382  0.00035265\n",
            " -0.0064978 ]\n",
            "dx: [ 0.01286239 -0.0821917  -0.22672514  0.70240072  0.56457628  0.12888387\n",
            "  0.33608124]\n",
            "\n",
            "10:3, f: 0.15891000667008792\n",
            "x: [ 7.85453204e-02 -1.86991179e-02  5.43443133e-01  1.42463220e-01\n",
            " -4.27353687e-02  5.02694152e-01  3.32575762e+02]\n",
            "grad: [ 0.0012691  -0.00634226  0.00091323  0.00847404 -0.00162781  0.02839615\n",
            " -0.00649662]\n",
            "dx: [-0.14752048 -0.11469575  0.20077839 -0.27899601 -0.30323463 -0.11056124\n",
            "  1.93462059]\n",
            "\n",
            "11:5, f: 0.14876171048374554\n",
            "x: [1.31504349e-01 3.39491137e-03 3.28522980e-01 4.59916139e-01\n",
            " 6.97603925e-01 6.02927750e-01 3.36486209e+02]\n",
            "grad: [-0.01111489 -0.01603008  0.01959984  0.00155813 -0.0109926   0.00927498\n",
            " -0.00652628]\n",
            "dx: [ 0.05295903  0.02209403 -0.21492015  0.31745292  0.74033929  0.1002336\n",
            "  3.91044641]\n",
            "\n",
            "12:6, f: 0.12998290556358016\n",
            "x: [1.31504349e-01 3.39491137e-03 3.28522980e-01 4.59916139e-01\n",
            " 6.97603925e-01 6.02927750e-01 3.36486209e+02]\n",
            "grad: [-0.00655213 -0.02736061  0.01094155 -0.0206272   0.04122849  0.09290321\n",
            " -0.00615825]\n",
            "dx: [ 0.2190656   0.25262435 -0.35186585 -1.69771966 -2.06174823  0.21705045\n",
            "  7.52224786]\n",
            "\n",
            "13:4, f: 0.12998290556358016\n",
            "x: [1.31504349e-01 3.39491137e-03 3.28522980e-01 4.59916139e-01\n",
            " 6.97603925e-01 6.02927750e-01 3.36486209e+02]\n",
            "grad: [-0.00655213 -0.02736061  0.01094155 -0.0206272   0.04122849  0.09290321\n",
            " -0.00615825]\n",
            "dx: [ 0.28094004  0.24688035 -0.23812278 -0.62565761 -1.09325133  0.15049099\n",
            "  1.48125854]\n",
            "\n",
            "14:3, f: 0.12998290556358016\n",
            "x: [3.27931085e-01 2.76609307e-01 4.18530208e-01 3.80126081e-01\n",
            " 4.30765061e-01 5.54249080e-01 3.36706958e+02]\n",
            "grad: [-0.00655213 -0.02736061  0.01094155 -0.0206272   0.04122849  0.09290321\n",
            " -0.00615825]\n",
            "dx: [ 0.19642674  0.2732144   0.09000723 -0.07979006 -0.26683886 -0.04867867\n",
            "  0.22074892]\n",
            "\n",
            "15:3, f: 0.11728374543754175\n",
            "x: [1.67121517e-01 5.67046867e-02 4.29729374e-01 5.23148200e-02\n",
            " 2.96571303e-02 5.55613601e-01 3.37517702e+02]\n",
            "grad: [-0.00063262  0.00588629  0.0083405  -0.00257224  0.01060533  0.0243574\n",
            " -0.00697138]\n",
            "dx: [-0.16080957 -0.21990462  0.01119917 -0.32781126 -0.40110793  0.00136452\n",
            "  0.81074482]\n",
            "\n",
            "16:5, f: 0.112650341238722\n",
            "x: [3.04856134e-01 1.78943133e-01 4.86991064e-01 5.64381109e-01\n",
            " 4.59253730e-01 5.18833496e-01 3.39392453e+02]\n",
            "grad: [-0.00762431 -0.01303968  0.00343685 -0.00707424 -0.00147578  0.01240435\n",
            " -0.00684595]\n",
            "dx: [ 0.13773462  0.12223845  0.05726169  0.51206629  0.4295966  -0.03678011\n",
            "  1.87475069]\n",
            "\n",
            "17:6, f: 0.10026076690523991\n",
            "x: [3.04856134e-01 1.78943133e-01 4.86991064e-01 5.64381109e-01\n",
            " 4.59253730e-01 5.18833496e-01 3.39392453e+02]\n",
            "grad: [-0.00223344 -0.00624796  0.00747245  0.01465957 -0.00059803  0.0097536\n",
            " -0.00652658]\n",
            "dx: [-0.03357088 -0.04895647 -0.15011056 -1.23968991 -1.26351487  0.09412943\n",
            "  3.58214766]\n",
            "\n",
            "18:3, f: 0.10026076690523991\n",
            "x: [ 4.54456036e-01  3.64721317e-01  3.92246262e-01  3.72485488e-02\n",
            " -5.75980116e-02  5.72490185e-01  3.40013940e+02]\n",
            "grad: [-0.00223344 -0.00624796  0.00747245  0.01465957 -0.00059803  0.0097536\n",
            " -0.00652658]\n",
            "dx: [ 0.1495999   0.18577818 -0.0947448  -0.52713256 -0.51685174  0.05365669\n",
            "  0.62148714]\n",
            "\n",
            "19:3, f: 0.09541832755227853\n",
            "x: [3.37612495e-01 2.88899179e-01 4.90842084e-01 2.15287065e-01\n",
            " 2.91592258e-01 5.08183114e-01 3.40915667e+02]\n",
            "grad: [ 0.00575585  0.01059833 -0.0071108  -0.00533755 -0.01004477 -0.0090709\n",
            " -0.00729304]\n",
            "dx: [-0.11684354 -0.07582214  0.09859582  0.17803852  0.34919027 -0.06430707\n",
            "  0.9017264 ]\n",
            "\n",
            "20:4, f: 0.08734738817715043\n",
            "x: [ 4.84584079e-01  4.00993829e-01  2.33799004e-01 -1.28446420e-01\n",
            " -1.81172939e-01  6.59290504e-01  3.42795898e+02]\n",
            "grad: [-0.0009139   0.00322411  0.00485319 -0.00392769  0.0071597  -0.00253886\n",
            " -0.00689777]\n",
            "dx: [ 0.14697158  0.11209465 -0.25704308 -0.34373348 -0.4727652   0.15110739\n",
            "  1.88023135]\n",
            "\n",
            "21:4, f: 0.08190037397672313\n",
            "x: [4.80205856e-01 2.49133439e-01 2.66531107e-01 2.82715805e-01\n",
            " 6.49200570e-02 6.46037094e-01 3.44731371e+02]\n",
            "grad: [ 0.00301853  0.0125852  -0.03628729 -0.01928981 -0.01461374 -0.00568929\n",
            " -0.00721386]\n",
            "dx: [-0.00437822 -0.15186039  0.0327321   0.41116223  0.246093   -0.01325341\n",
            "  1.93547309]\n",
            "\n",
            "22:5, f: 0.0635813743392641\n",
            "x: [ 6.68668340e-02  4.77608878e-02  4.97961257e-01 -1.19628386e-01\n",
            "  1.52694005e-02  4.99617349e-01  3.48674625e+02]\n",
            "grad: [-0.00186784 -0.0050491  -0.01156726  0.01471676 -0.00872181  0.00899348\n",
            " -0.00631287]\n",
            "dx: [-0.41333902 -0.20137255  0.23143015 -0.40234419 -0.04965066 -0.14641974\n",
            "  3.9432544 ]\n",
            "\n",
            "23:6, f: 0.04493820438095918\n",
            "x: [ 3.98075708e-01  5.29374401e-01  6.16624329e-01 -2.40735474e-01\n",
            "  1.03334394e-01  4.08980394e-01  3.56650441e+02]\n",
            "grad: [-0.02970292 -0.02052393  0.00255673 -0.00247112  0.00957578  0.00717296\n",
            " -0.00516499]\n",
            "dx: [ 0.33120887  0.48161351  0.11866307 -0.12110709  0.08806499 -0.09063695\n",
            "  7.97581537]\n",
            "\n",
            "24:7, f: 0.010803887634446707\n",
            "x: [  0.39919627   0.37369248   0.50381901  -0.54673664  -0.43418197\n",
            "   0.48556941 361.03334337]\n",
            "grad: [-0.00939594  0.01403613  0.03806461 -0.00803408  0.02964893  0.02737686\n",
            " -0.00158015]\n",
            "dx: [ 1.12056639e-03 -1.55681923e-01 -1.12805317e-01 -3.06001166e-01\n",
            " -5.37516363e-01  7.65890171e-02  4.38290254e+00]\n",
            "\n",
            "25:7, f: 0.0017220157234213523\n",
            "x: [ 3.98343456e-01  3.31804730e-01  5.28524300e-01 -4.27487604e-01\n",
            " -3.37795223e-01  4.71528067e-01  3.60100151e+02]\n",
            "grad: [ 0.00025812  0.01051211  0.00275056 -0.00957687 -0.01076819  0.02328702\n",
            "  0.0003945 ]\n",
            "dx: [-8.52818591e-04 -4.18877472e-02  2.47052877e-02  1.19249036e-01\n",
            "  9.63867457e-02 -1.40413439e-02 -9.33192214e-01]\n",
            "\n",
            "26:7, f: 1.5468295530999475e-05\n",
            "x: [ 4.01008066e-01  3.36418668e-01  5.28594909e-01 -4.14255299e-01\n",
            " -3.21520710e-01  4.71398493e-01  3.59967902e+02]\n",
            "grad: [ 3.19839327e-04  1.73054660e-04 -8.57212973e-04 -5.30889966e-04\n",
            " -1.12626138e-03 -2.03250829e-04  5.27629348e-05]\n",
            "dx: [ 2.66461024e-03  4.61393768e-03  7.06091708e-05  1.32323054e-02\n",
            "  1.62745137e-02 -1.29574182e-04 -1.32249068e-01]\n",
            "\n",
            "27:7, f: 2.0640303029919673e-09\n",
            "x: [ 4.01011712e-01  3.36410545e-01  5.28612413e-01 -4.14090799e-01\n",
            " -3.21380353e-01  4.71387587e-01  3.59966484e+02]\n",
            "grad: [ 5.29120550e-06  4.93006985e-06  5.01811782e-06 -1.33320061e-05\n",
            " -6.96625823e-06  2.59509011e-05  5.22362828e-07]\n",
            "dx: [ 3.64615987e-06 -8.12299336e-06  1.75032565e-05  1.64499255e-04\n",
            "  1.40356485e-04 -1.09061755e-05 -1.41831710e-03]\n",
            "\n",
            "Final results:\n",
            "f: 4.1378095509422335e-17\n",
            "x: [ 4.01011712e-01  3.36410545e-01  5.28612413e-01 -4.14090799e-01\n",
            " -3.21380353e-01  4.71387587e-01  3.59966484e+02]\n",
            "grad: [ 6.81629583e-10  4.22889993e-10 -7.97299161e-10 -1.12090073e-09\n",
            " -1.70309343e-09  9.84512236e-10  7.86776173e-11]\n",
            "dx: [ 3.64615987e-06 -8.12299336e-06  1.75032565e-05  1.64499255e-04\n",
            "  1.40356485e-04 -1.09061755e-05 -1.41831710e-03]\n",
            "\n"
          ],
          "name": "stdout"
        }
      ]
    },
    {
      "cell_type": "code",
      "metadata": {
        "pycharm": {
          "name": "#%%\n"
        },
        "id": "Q9D2dkiJul0m",
        "colab_type": "code",
        "colab": {
          "base_uri": "https://localhost:8080/",
          "height": 120
        },
        "outputId": "9788036b-91e6-40ed-a425-d230fd34405a"
      },
      "source": [
        "DotMap(x_min).pprint()"
      ],
      "execution_count": 8,
      "outputs": [
        {
          "output_type": "stream",
          "text": [
            "{'Lq': DeviceArray([0.40101171, 0.33641055], dtype=float64),\n",
            " 'Ltot': DeviceArray([0.52861241], dtype=float64),\n",
            " 'Vq': DeviceArray([-0.4140908 , -0.32138035], dtype=float64),\n",
            " 'Vtot': DeviceArray([0.47138759], dtype=float64),\n",
            " 'flashT': DeviceArray([359.96648377], dtype=float64)}\n"
          ],
          "name": "stdout"
        }
      ]
    },
    {
      "cell_type": "code",
      "metadata": {
        "pycharm": {
          "name": "#%%\n"
        },
        "id": "BgBdhg0eul0o",
        "colab_type": "code",
        "colab": {
          "base_uri": "https://localhost:8080/",
          "height": 252
        },
        "outputId": "7338aca9-c543-4d07-846f-1a1c0c6540e3"
      },
      "source": [
        "df_x_min\n"
      ],
      "execution_count": 9,
      "outputs": [
        {
          "output_type": "execute_result",
          "data": {
            "text/html": [
              "<div>\n",
              "<style scoped>\n",
              "    .dataframe tbody tr th:only-of-type {\n",
              "        vertical-align: middle;\n",
              "    }\n",
              "\n",
              "    .dataframe tbody tr th {\n",
              "        vertical-align: top;\n",
              "    }\n",
              "\n",
              "    .dataframe thead tr th {\n",
              "        text-align: left;\n",
              "    }\n",
              "</style>\n",
              "<table border=\"1\" class=\"dataframe\">\n",
              "  <thead>\n",
              "    <tr>\n",
              "      <th></th>\n",
              "      <th colspan=\"2\" halign=\"left\">v2</th>\n",
              "      <th>v1</th>\n",
              "    </tr>\n",
              "    <tr>\n",
              "      <th></th>\n",
              "      <th>x1</th>\n",
              "      <th>x2</th>\n",
              "      <th>x1</th>\n",
              "    </tr>\n",
              "  </thead>\n",
              "  <tbody>\n",
              "    <tr>\n",
              "      <th>Lq</th>\n",
              "      <td>0.401012</td>\n",
              "      <td>0.336411</td>\n",
              "      <td></td>\n",
              "    </tr>\n",
              "    <tr>\n",
              "      <th>Ltot</th>\n",
              "      <td></td>\n",
              "      <td></td>\n",
              "      <td>0.528612</td>\n",
              "    </tr>\n",
              "    <tr>\n",
              "      <th>Vq</th>\n",
              "      <td>-0.414091</td>\n",
              "      <td>-0.32138</td>\n",
              "      <td></td>\n",
              "    </tr>\n",
              "    <tr>\n",
              "      <th>Vtot</th>\n",
              "      <td></td>\n",
              "      <td></td>\n",
              "      <td>0.471388</td>\n",
              "    </tr>\n",
              "    <tr>\n",
              "      <th>flashT</th>\n",
              "      <td></td>\n",
              "      <td></td>\n",
              "      <td>359.966</td>\n",
              "    </tr>\n",
              "  </tbody>\n",
              "</table>\n",
              "</div>"
            ],
            "text/plain": [
              "              v2                  v1\n",
              "              x1        x2        x1\n",
              "Lq      0.401012  0.336411          \n",
              "Ltot                        0.528612\n",
              "Vq     -0.414091  -0.32138          \n",
              "Vtot                        0.471388\n",
              "flashT                       359.966"
            ]
          },
          "metadata": {
            "tags": []
          },
          "execution_count": 9
        }
      ]
    },
    {
      "cell_type": "code",
      "metadata": {
        "pycharm": {
          "name": "#%%\n"
        },
        "id": "6C4ykM--ul0q",
        "colab_type": "code",
        "colab": {
          "base_uri": "https://localhost:8080/",
          "height": 186
        },
        "outputId": "0f4df2a2-84ed-4853-b9a4-308cc3e1a9c8"
      },
      "source": [
        "DotMap(combined).pprint()"
      ],
      "execution_count": 10,
      "outputs": [
        {
          "output_type": "stream",
          "text": [
            "{'F': DeviceArray([0.33333333, 0.33333333, 0.33333333], dtype=float64),\n",
            " 'FT': DeviceArray([350.], dtype=float64),\n",
            " 'Lq': DeviceArray([0.40101171, 0.33641055], dtype=float64),\n",
            " 'Ltot': DeviceArray([0.52861241], dtype=float64),\n",
            " 'Vq': DeviceArray([-0.4140908 , -0.32138035], dtype=float64),\n",
            " 'Vtot': DeviceArray([0.47138759], dtype=float64),\n",
            " 'flashP': DeviceArray([101325.], dtype=float64),\n",
            " 'flashT': DeviceArray([359.96648377], dtype=float64),\n",
            " 'q': DeviceArray([0.5], dtype=float64)}\n"
          ],
          "name": "stdout"
        }
      ]
    },
    {
      "cell_type": "code",
      "metadata": {
        "pycharm": {
          "name": "#%%\n"
        },
        "id": "3wbFTfRvul0s",
        "colab_type": "code",
        "colab": {}
      },
      "source": [
        "df_combined"
      ],
      "execution_count": null,
      "outputs": []
    },
    {
      "cell_type": "code",
      "metadata": {
        "pycharm": {
          "name": "#%%\n"
        },
        "id": "thCce5Viul0u",
        "colab_type": "code",
        "colab": {}
      },
      "source": [
        "x_tree\n",
        "idx = pd.IndexSlice\n",
        "df2=df_combined.loc[idx[:,'q'],('v3')]\n",
        "df3 = df2.style.format('{:6.2f}' )\n",
        "df3"
      ],
      "execution_count": null,
      "outputs": []
    },
    {
      "cell_type": "code",
      "metadata": {
        "pycharm": {
          "name": "#%%\n"
        },
        "id": "A9ObMwdqul0v",
        "colab_type": "code",
        "colab": {}
      },
      "source": [
        ""
      ],
      "execution_count": null,
      "outputs": []
    }
  ]
}