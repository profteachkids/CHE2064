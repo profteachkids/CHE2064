{
  "nbformat": 4,
  "nbformat_minor": 0,
  "metadata": {
    "colab": {
      "name": "Generate_CSV_Pandas.ipynb",
      "provenance": [],
      "authorship_tag": "ABX9TyPFrNTbbAwDzKcnnnfLWY+0",
      "include_colab_link": true
    },
    "kernelspec": {
      "name": "python3",
      "display_name": "Python 3"
    }
  },
  "cells": [
    {
      "cell_type": "markdown",
      "metadata": {
        "id": "view-in-github",
        "colab_type": "text"
      },
      "source": [
        "<a href=\"https://colab.research.google.com/github/profteachkids/CHE2064/blob/master/Generate_CSV_Pandas.ipynb\" target=\"_parent\"><img src=\"https://colab.research.google.com/assets/colab-badge.svg\" alt=\"Open In Colab\"/></a>"
      ]
    },
    {
      "cell_type": "code",
      "metadata": {
        "colab": {
          "base_uri": "https://localhost:8080/"
        },
        "id": "6CmDPtWJGyVU",
        "outputId": "22cabbc4-a782-4275-bbb2-8000da977fb0"
      },
      "source": [
        "!wget https://raw.githubusercontent.com/profteachkids/CHE2064/master/data/maintenance_log.txt"
      ],
      "execution_count": 214,
      "outputs": [
        {
          "output_type": "stream",
          "text": [
            "--2020-12-22 00:16:58--  https://raw.githubusercontent.com/profteachkids/CHE2064/master/data/maintenance_log.txt\n",
            "Resolving raw.githubusercontent.com (raw.githubusercontent.com)... 151.101.0.133, 151.101.64.133, 151.101.128.133, ...\n",
            "Connecting to raw.githubusercontent.com (raw.githubusercontent.com)|151.101.0.133|:443... connected.\n",
            "HTTP request sent, awaiting response... 200 OK\n",
            "Length: 40187 (39K) [text/plain]\n",
            "Saving to: ‘maintenance_log.txt’\n",
            "\n",
            "maintenance_log.txt 100%[===================>]  39.25K  --.-KB/s    in 0.005s  \n",
            "\n",
            "2020-12-22 00:16:58 (7.63 MB/s) - ‘maintenance_log.txt’ saved [40187/40187]\n",
            "\n"
          ],
          "name": "stdout"
        }
      ]
    },
    {
      "cell_type": "code",
      "metadata": {
        "id": "CNM8feHqHDqy"
      },
      "source": [
        "import pandas as pd"
      ],
      "execution_count": 215,
      "outputs": []
    },
    {
      "cell_type": "code",
      "metadata": {
        "colab": {
          "base_uri": "https://localhost:8080/"
        },
        "id": "HuMbeSFPHLqP",
        "outputId": "962e6a92-819b-4df3-abea-2fc37a821041"
      },
      "source": [
        "df=pd.read_csv('/content/maintenance_log.txt')\n",
        "df.head"
      ],
      "execution_count": 216,
      "outputs": [
        {
          "output_type": "execute_result",
          "data": {
            "text/plain": [
              "<bound method NDFrame.head of     equipment      task    cost    name        date\n",
              "0       TankB   Inspect  777585  Stuart  2020-07-20\n",
              "1       TankA  Maintain  874058    Pena  2020-06-10\n",
              "2       TankB  Maintain  304179   Davis  2020-08-08\n",
              "3     ColumnB  Overhaul  534194   Davis  2020-07-27\n",
              "4       TankC  Overhaul   19028    Cole  2020-08-12\n",
              "..        ...       ...     ...     ...         ...\n",
              "995   Reactor  Maintain  514073   Davis  2020-07-30\n",
              "996   Reactor  Maintain  881985  Ramsey  2020-08-06\n",
              "997     TankB  Maintain  741689  Ramsey  2020-08-10\n",
              "998     TankA   Inspect  579868  Stuart  2020-08-06\n",
              "999     TankA  Maintain  551868  Stuart  2020-06-05\n",
              "\n",
              "[1000 rows x 5 columns]>"
            ]
          },
          "metadata": {
            "tags": []
          },
          "execution_count": 216
        }
      ]
    },
    {
      "cell_type": "code",
      "metadata": {
        "colab": {
          "base_uri": "https://localhost:8080/"
        },
        "id": "7ZagFkU9HbhH",
        "outputId": "a460a02e-bb66-4872-efa5-f896e5ee8ecb"
      },
      "source": [
        "df=df.astype({'equipment':'category','task':'category','name':'category','cost':'float64','date':'datetime64[ns]'})\n",
        "df.dtypes"
      ],
      "execution_count": 217,
      "outputs": [
        {
          "output_type": "execute_result",
          "data": {
            "text/plain": [
              "equipment          category\n",
              "task               category\n",
              "cost                float64\n",
              "name               category\n",
              "date         datetime64[ns]\n",
              "dtype: object"
            ]
          },
          "metadata": {
            "tags": []
          },
          "execution_count": 217
        }
      ]
    },
    {
      "cell_type": "code",
      "metadata": {
        "id": "BXqrvJvbJPNL"
      },
      "source": [
        "df2=df.set_index(['date','equipment','task','name'])\n",
        "df2.sort_index(inplace=True)\n",
        "idx = pd.IndexSlice"
      ],
      "execution_count": 218,
      "outputs": []
    },
    {
      "cell_type": "code",
      "metadata": {
        "colab": {
          "base_uri": "https://localhost:8080/",
          "height": 544
        },
        "id": "OAj877F-Jr_d",
        "outputId": "30a81bdd-b457-4f05-a6aa-15c348c23196"
      },
      "source": [
        "df2.loc[idx['2020-05-30':'2020-06-5',['ColumnA','TankA'],'Inspect',:]]"
      ],
      "execution_count": 219,
      "outputs": [
        {
          "output_type": "execute_result",
          "data": {
            "text/html": [
              "<div>\n",
              "<style scoped>\n",
              "    .dataframe tbody tr th:only-of-type {\n",
              "        vertical-align: middle;\n",
              "    }\n",
              "\n",
              "    .dataframe tbody tr th {\n",
              "        vertical-align: top;\n",
              "    }\n",
              "\n",
              "    .dataframe thead th {\n",
              "        text-align: right;\n",
              "    }\n",
              "</style>\n",
              "<table border=\"1\" class=\"dataframe\">\n",
              "  <thead>\n",
              "    <tr style=\"text-align: right;\">\n",
              "      <th></th>\n",
              "      <th></th>\n",
              "      <th></th>\n",
              "      <th></th>\n",
              "      <th>cost</th>\n",
              "    </tr>\n",
              "    <tr>\n",
              "      <th>date</th>\n",
              "      <th>equipment</th>\n",
              "      <th>task</th>\n",
              "      <th>name</th>\n",
              "      <th></th>\n",
              "    </tr>\n",
              "  </thead>\n",
              "  <tbody>\n",
              "    <tr>\n",
              "      <th rowspan=\"4\" valign=\"top\">2020-05-30</th>\n",
              "      <th>ColumnA</th>\n",
              "      <th>Inspect</th>\n",
              "      <th>Sandoval</th>\n",
              "      <td>502535.0</td>\n",
              "    </tr>\n",
              "    <tr>\n",
              "      <th rowspan=\"3\" valign=\"top\">TankA</th>\n",
              "      <th rowspan=\"3\" valign=\"top\">Inspect</th>\n",
              "      <th>Holt</th>\n",
              "      <td>606534.0</td>\n",
              "    </tr>\n",
              "    <tr>\n",
              "      <th>Pena</th>\n",
              "      <td>693885.0</td>\n",
              "    </tr>\n",
              "    <tr>\n",
              "      <th>Stuart</th>\n",
              "      <td>822256.0</td>\n",
              "    </tr>\n",
              "    <tr>\n",
              "      <th rowspan=\"2\" valign=\"top\">2020-05-31</th>\n",
              "      <th>ColumnA</th>\n",
              "      <th>Inspect</th>\n",
              "      <th>Pena</th>\n",
              "      <td>497402.0</td>\n",
              "    </tr>\n",
              "    <tr>\n",
              "      <th>TankA</th>\n",
              "      <th>Inspect</th>\n",
              "      <th>Pena</th>\n",
              "      <td>62118.0</td>\n",
              "    </tr>\n",
              "    <tr>\n",
              "      <th rowspan=\"2\" valign=\"top\">2020-06-01</th>\n",
              "      <th>ColumnA</th>\n",
              "      <th>Inspect</th>\n",
              "      <th>Pena</th>\n",
              "      <td>890050.0</td>\n",
              "    </tr>\n",
              "    <tr>\n",
              "      <th>TankA</th>\n",
              "      <th>Inspect</th>\n",
              "      <th>Sandoval</th>\n",
              "      <td>868966.0</td>\n",
              "    </tr>\n",
              "    <tr>\n",
              "      <th>2020-06-03</th>\n",
              "      <th>ColumnA</th>\n",
              "      <th>Inspect</th>\n",
              "      <th>Ramsey</th>\n",
              "      <td>457614.0</td>\n",
              "    </tr>\n",
              "    <tr>\n",
              "      <th>2020-06-04</th>\n",
              "      <th>TankA</th>\n",
              "      <th>Inspect</th>\n",
              "      <th>Sandoval</th>\n",
              "      <td>112571.0</td>\n",
              "    </tr>\n",
              "    <tr>\n",
              "      <th rowspan=\"4\" valign=\"top\">2020-06-05</th>\n",
              "      <th rowspan=\"2\" valign=\"top\">ColumnA</th>\n",
              "      <th rowspan=\"2\" valign=\"top\">Inspect</th>\n",
              "      <th>Delgado</th>\n",
              "      <td>485924.0</td>\n",
              "    </tr>\n",
              "    <tr>\n",
              "      <th>Stuart</th>\n",
              "      <td>187723.0</td>\n",
              "    </tr>\n",
              "    <tr>\n",
              "      <th rowspan=\"2\" valign=\"top\">TankA</th>\n",
              "      <th rowspan=\"2\" valign=\"top\">Inspect</th>\n",
              "      <th>Cole</th>\n",
              "      <td>27868.0</td>\n",
              "    </tr>\n",
              "    <tr>\n",
              "      <th>Holt</th>\n",
              "      <td>604017.0</td>\n",
              "    </tr>\n",
              "  </tbody>\n",
              "</table>\n",
              "</div>"
            ],
            "text/plain": [
              "                                           cost\n",
              "date       equipment task    name              \n",
              "2020-05-30 ColumnA   Inspect Sandoval  502535.0\n",
              "           TankA     Inspect Holt      606534.0\n",
              "                             Pena      693885.0\n",
              "                             Stuart    822256.0\n",
              "2020-05-31 ColumnA   Inspect Pena      497402.0\n",
              "           TankA     Inspect Pena       62118.0\n",
              "2020-06-01 ColumnA   Inspect Pena      890050.0\n",
              "           TankA     Inspect Sandoval  868966.0\n",
              "2020-06-03 ColumnA   Inspect Ramsey    457614.0\n",
              "2020-06-04 TankA     Inspect Sandoval  112571.0\n",
              "2020-06-05 ColumnA   Inspect Delgado   485924.0\n",
              "                             Stuart    187723.0\n",
              "           TankA     Inspect Cole       27868.0\n",
              "                             Holt      604017.0"
            ]
          },
          "metadata": {
            "tags": []
          },
          "execution_count": 219
        }
      ]
    },
    {
      "cell_type": "code",
      "metadata": {
        "id": "UZvpw_NJJ-ZM"
      },
      "source": [
        "df3=df.set_index('date')\n",
        "df3.sort_index(inplace=True)"
      ],
      "execution_count": 194,
      "outputs": []
    },
    {
      "cell_type": "code",
      "metadata": {
        "id": "ZXL5AtIBcVeL"
      },
      "source": [
        "df4=pd.pivot_table(data=df,values=['cost'],columns=['name','task'],aggfunc=['mean','min','max'])"
      ],
      "execution_count": 224,
      "outputs": []
    },
    {
      "cell_type": "code",
      "metadata": {
        "colab": {
          "base_uri": "https://localhost:8080/",
          "height": 194
        },
        "id": "DlmwGhhO0J4l",
        "outputId": "912484bd-a35b-42ab-a1e2-b75059be3607"
      },
      "source": [
        "df4"
      ],
      "execution_count": 225,
      "outputs": [
        {
          "output_type": "execute_result",
          "data": {
            "text/html": [
              "<div>\n",
              "<style scoped>\n",
              "    .dataframe tbody tr th:only-of-type {\n",
              "        vertical-align: middle;\n",
              "    }\n",
              "\n",
              "    .dataframe tbody tr th {\n",
              "        vertical-align: top;\n",
              "    }\n",
              "\n",
              "    .dataframe thead tr th {\n",
              "        text-align: left;\n",
              "    }\n",
              "</style>\n",
              "<table border=\"1\" class=\"dataframe\">\n",
              "  <thead>\n",
              "    <tr>\n",
              "      <th></th>\n",
              "      <th colspan=\"30\" halign=\"left\">mean</th>\n",
              "      <th colspan=\"21\" halign=\"left\">min</th>\n",
              "      <th colspan=\"30\" halign=\"left\">max</th>\n",
              "    </tr>\n",
              "    <tr>\n",
              "      <th>name</th>\n",
              "      <th colspan=\"3\" halign=\"left\">Cole</th>\n",
              "      <th colspan=\"3\" halign=\"left\">Davis</th>\n",
              "      <th colspan=\"3\" halign=\"left\">Delgado</th>\n",
              "      <th colspan=\"3\" halign=\"left\">Holt</th>\n",
              "      <th colspan=\"3\" halign=\"left\">Johnson</th>\n",
              "      <th colspan=\"3\" halign=\"left\">Pena</th>\n",
              "      <th colspan=\"3\" halign=\"left\">Ramsey</th>\n",
              "      <th colspan=\"3\" halign=\"left\">Sandoval</th>\n",
              "      <th colspan=\"3\" halign=\"left\">Stuart</th>\n",
              "      <th colspan=\"3\" halign=\"left\">Young</th>\n",
              "      <th colspan=\"3\" halign=\"left\">Cole</th>\n",
              "      <th colspan=\"3\" halign=\"left\">Davis</th>\n",
              "      <th colspan=\"3\" halign=\"left\">Delgado</th>\n",
              "      <th>Holt</th>\n",
              "      <th>...</th>\n",
              "      <th>Ramsey</th>\n",
              "      <th colspan=\"3\" halign=\"left\">Sandoval</th>\n",
              "      <th colspan=\"3\" halign=\"left\">Stuart</th>\n",
              "      <th colspan=\"3\" halign=\"left\">Young</th>\n",
              "      <th colspan=\"3\" halign=\"left\">Cole</th>\n",
              "      <th colspan=\"3\" halign=\"left\">Davis</th>\n",
              "      <th colspan=\"3\" halign=\"left\">Delgado</th>\n",
              "      <th colspan=\"3\" halign=\"left\">Holt</th>\n",
              "      <th colspan=\"3\" halign=\"left\">Johnson</th>\n",
              "      <th colspan=\"3\" halign=\"left\">Pena</th>\n",
              "      <th colspan=\"3\" halign=\"left\">Ramsey</th>\n",
              "      <th colspan=\"3\" halign=\"left\">Sandoval</th>\n",
              "      <th colspan=\"3\" halign=\"left\">Stuart</th>\n",
              "      <th colspan=\"3\" halign=\"left\">Young</th>\n",
              "    </tr>\n",
              "    <tr>\n",
              "      <th>task</th>\n",
              "      <th>Inspect</th>\n",
              "      <th>Maintain</th>\n",
              "      <th>Overhaul</th>\n",
              "      <th>Inspect</th>\n",
              "      <th>Maintain</th>\n",
              "      <th>Overhaul</th>\n",
              "      <th>Inspect</th>\n",
              "      <th>Maintain</th>\n",
              "      <th>Overhaul</th>\n",
              "      <th>Inspect</th>\n",
              "      <th>Maintain</th>\n",
              "      <th>Overhaul</th>\n",
              "      <th>Inspect</th>\n",
              "      <th>Maintain</th>\n",
              "      <th>Overhaul</th>\n",
              "      <th>Inspect</th>\n",
              "      <th>Maintain</th>\n",
              "      <th>Overhaul</th>\n",
              "      <th>Inspect</th>\n",
              "      <th>Maintain</th>\n",
              "      <th>Overhaul</th>\n",
              "      <th>Inspect</th>\n",
              "      <th>Maintain</th>\n",
              "      <th>Overhaul</th>\n",
              "      <th>Inspect</th>\n",
              "      <th>Maintain</th>\n",
              "      <th>Overhaul</th>\n",
              "      <th>Inspect</th>\n",
              "      <th>Maintain</th>\n",
              "      <th>Overhaul</th>\n",
              "      <th>Inspect</th>\n",
              "      <th>Maintain</th>\n",
              "      <th>Overhaul</th>\n",
              "      <th>Inspect</th>\n",
              "      <th>Maintain</th>\n",
              "      <th>Overhaul</th>\n",
              "      <th>Inspect</th>\n",
              "      <th>Maintain</th>\n",
              "      <th>Overhaul</th>\n",
              "      <th>Inspect</th>\n",
              "      <th>...</th>\n",
              "      <th>Overhaul</th>\n",
              "      <th>Inspect</th>\n",
              "      <th>Maintain</th>\n",
              "      <th>Overhaul</th>\n",
              "      <th>Inspect</th>\n",
              "      <th>Maintain</th>\n",
              "      <th>Overhaul</th>\n",
              "      <th>Inspect</th>\n",
              "      <th>Maintain</th>\n",
              "      <th>Overhaul</th>\n",
              "      <th>Inspect</th>\n",
              "      <th>Maintain</th>\n",
              "      <th>Overhaul</th>\n",
              "      <th>Inspect</th>\n",
              "      <th>Maintain</th>\n",
              "      <th>Overhaul</th>\n",
              "      <th>Inspect</th>\n",
              "      <th>Maintain</th>\n",
              "      <th>Overhaul</th>\n",
              "      <th>Inspect</th>\n",
              "      <th>Maintain</th>\n",
              "      <th>Overhaul</th>\n",
              "      <th>Inspect</th>\n",
              "      <th>Maintain</th>\n",
              "      <th>Overhaul</th>\n",
              "      <th>Inspect</th>\n",
              "      <th>Maintain</th>\n",
              "      <th>Overhaul</th>\n",
              "      <th>Inspect</th>\n",
              "      <th>Maintain</th>\n",
              "      <th>Overhaul</th>\n",
              "      <th>Inspect</th>\n",
              "      <th>Maintain</th>\n",
              "      <th>Overhaul</th>\n",
              "      <th>Inspect</th>\n",
              "      <th>Maintain</th>\n",
              "      <th>Overhaul</th>\n",
              "      <th>Inspect</th>\n",
              "      <th>Maintain</th>\n",
              "      <th>Overhaul</th>\n",
              "    </tr>\n",
              "  </thead>\n",
              "  <tbody>\n",
              "    <tr>\n",
              "      <th>cost</th>\n",
              "      <td>461922.153846</td>\n",
              "      <td>595759.583333</td>\n",
              "      <td>458339.171429</td>\n",
              "      <td>426771.16129</td>\n",
              "      <td>447582.441176</td>\n",
              "      <td>574343.958333</td>\n",
              "      <td>496493.424242</td>\n",
              "      <td>504924.472222</td>\n",
              "      <td>571080.875</td>\n",
              "      <td>543383.828571</td>\n",
              "      <td>477176.785714</td>\n",
              "      <td>521462.259259</td>\n",
              "      <td>395370.48</td>\n",
              "      <td>638359.130435</td>\n",
              "      <td>470595.057143</td>\n",
              "      <td>425252.945946</td>\n",
              "      <td>505664.810811</td>\n",
              "      <td>580787.261905</td>\n",
              "      <td>452099.931034</td>\n",
              "      <td>561591.028571</td>\n",
              "      <td>480977.358974</td>\n",
              "      <td>463334.483871</td>\n",
              "      <td>490262.064516</td>\n",
              "      <td>482521.902439</td>\n",
              "      <td>479004.690476</td>\n",
              "      <td>556341.961538</td>\n",
              "      <td>447682.103448</td>\n",
              "      <td>485589.285714</td>\n",
              "      <td>468007.47619</td>\n",
              "      <td>645421.342857</td>\n",
              "      <td>27868.0</td>\n",
              "      <td>33997.0</td>\n",
              "      <td>19028.0</td>\n",
              "      <td>17645.0</td>\n",
              "      <td>24711.0</td>\n",
              "      <td>44487.0</td>\n",
              "      <td>43297.0</td>\n",
              "      <td>24861.0</td>\n",
              "      <td>62705.0</td>\n",
              "      <td>40997.0</td>\n",
              "      <td>...</td>\n",
              "      <td>16031.0</td>\n",
              "      <td>11475.0</td>\n",
              "      <td>24062.0</td>\n",
              "      <td>36762.0</td>\n",
              "      <td>22988.0</td>\n",
              "      <td>63341.0</td>\n",
              "      <td>19100.0</td>\n",
              "      <td>20561.0</td>\n",
              "      <td>23338.0</td>\n",
              "      <td>99996.0</td>\n",
              "      <td>966616.0</td>\n",
              "      <td>969472.0</td>\n",
              "      <td>952616.0</td>\n",
              "      <td>972715.0</td>\n",
              "      <td>979856.0</td>\n",
              "      <td>998821.0</td>\n",
              "      <td>996792.0</td>\n",
              "      <td>992471.0</td>\n",
              "      <td>991943.0</td>\n",
              "      <td>985170.0</td>\n",
              "      <td>985868.0</td>\n",
              "      <td>920464.0</td>\n",
              "      <td>996912.0</td>\n",
              "      <td>986280.0</td>\n",
              "      <td>936579.0</td>\n",
              "      <td>931636.0</td>\n",
              "      <td>927923.0</td>\n",
              "      <td>986011.0</td>\n",
              "      <td>993520.0</td>\n",
              "      <td>984536.0</td>\n",
              "      <td>984029.0</td>\n",
              "      <td>868966.0</td>\n",
              "      <td>984010.0</td>\n",
              "      <td>994364.0</td>\n",
              "      <td>990281.0</td>\n",
              "      <td>923841.0</td>\n",
              "      <td>999182.0</td>\n",
              "      <td>980811.0</td>\n",
              "      <td>956914.0</td>\n",
              "      <td>972259.0</td>\n",
              "    </tr>\n",
              "  </tbody>\n",
              "</table>\n",
              "<p>1 rows × 90 columns</p>\n",
              "</div>"
            ],
            "text/plain": [
              "               mean                                ...       max                    \n",
              "name           Cole                                ...     Young                    \n",
              "task        Inspect       Maintain       Overhaul  ...   Inspect  Maintain  Overhaul\n",
              "cost  461922.153846  595759.583333  458339.171429  ...  980811.0  956914.0  972259.0\n",
              "\n",
              "[1 rows x 90 columns]"
            ]
          },
          "metadata": {
            "tags": []
          },
          "execution_count": 225
        }
      ]
    },
    {
      "cell_type": "code",
      "metadata": {
        "id": "b0-507tJxKhg"
      },
      "source": [
        "df5=df4.unstack()"
      ],
      "execution_count": 234,
      "outputs": []
    },
    {
      "cell_type": "code",
      "metadata": {
        "id": "jvz5rvLc2Az9"
      },
      "source": [
        "df6=df5.unstack(0)"
      ],
      "execution_count": 236,
      "outputs": []
    },
    {
      "cell_type": "code",
      "metadata": {
        "colab": {
          "base_uri": "https://localhost:8080/"
        },
        "id": "UT8xtond0nHl",
        "outputId": "6cca49db-e696-4089-f4d6-3c6cb72f76fd"
      },
      "source": [
        "with pd.option_context('display.max_rows', None, 'display.max_columns', None): \n",
        "  print(df6)"
      ],
      "execution_count": 237,
      "outputs": [
        {
          "output_type": "stream",
          "text": [
            "                                 mean      min       max\n",
            "name     task                                           \n",
            "Cole     Inspect  cost  461922.153846  27868.0  966616.0\n",
            "         Maintain cost  595759.583333  33997.0  969472.0\n",
            "         Overhaul cost  458339.171429  19028.0  952616.0\n",
            "Davis    Inspect  cost  426771.161290  17645.0  972715.0\n",
            "         Maintain cost  447582.441176  24711.0  979856.0\n",
            "         Overhaul cost  574343.958333  44487.0  998821.0\n",
            "Delgado  Inspect  cost  496493.424242  43297.0  996792.0\n",
            "         Maintain cost  504924.472222  24861.0  992471.0\n",
            "         Overhaul cost  571080.875000  62705.0  991943.0\n",
            "Holt     Inspect  cost  543383.828571  40997.0  985170.0\n",
            "         Maintain cost  477176.785714  25759.0  985868.0\n",
            "         Overhaul cost  521462.259259  34681.0  920464.0\n",
            "Johnson  Inspect  cost  395370.480000  36200.0  996912.0\n",
            "         Maintain cost  638359.130435  42770.0  986280.0\n",
            "         Overhaul cost  470595.057143  26004.0  936579.0\n",
            "Pena     Inspect  cost  425252.945946  34280.0  931636.0\n",
            "         Maintain cost  505664.810811  89321.0  927923.0\n",
            "         Overhaul cost  580787.261905  71097.0  986011.0\n",
            "Ramsey   Inspect  cost  452099.931034  34824.0  993520.0\n",
            "         Maintain cost  561591.028571  37305.0  984536.0\n",
            "         Overhaul cost  480977.358974  16031.0  984029.0\n",
            "Sandoval Inspect  cost  463334.483871  11475.0  868966.0\n",
            "         Maintain cost  490262.064516  24062.0  984010.0\n",
            "         Overhaul cost  482521.902439  36762.0  994364.0\n",
            "Stuart   Inspect  cost  479004.690476  22988.0  990281.0\n",
            "         Maintain cost  556341.961538  63341.0  923841.0\n",
            "         Overhaul cost  447682.103448  19100.0  999182.0\n",
            "Young    Inspect  cost  485589.285714  20561.0  980811.0\n",
            "         Maintain cost  468007.476190  23338.0  956914.0\n",
            "         Overhaul cost  645421.342857  99996.0  972259.0\n"
          ],
          "name": "stdout"
        }
      ]
    },
    {
      "cell_type": "code",
      "metadata": {
        "id": "B_t3eLuT2cu0"
      },
      "source": [
        "df7=df6.reset_index()"
      ],
      "execution_count": 242,
      "outputs": []
    },
    {
      "cell_type": "code",
      "metadata": {
        "colab": {
          "base_uri": "https://localhost:8080/",
          "height": 447
        },
        "id": "v5PMjHwyMVqK",
        "outputId": "62fcf5b1-0e81-4c0e-c029-153b8e5aacba"
      },
      "source": [
        "df7.melt(id_vars=[ 'name','task'], value_vars=['max','min','mean'])"
      ],
      "execution_count": 243,
      "outputs": [
        {
          "output_type": "execute_result",
          "data": {
            "text/html": [
              "<div>\n",
              "<style scoped>\n",
              "    .dataframe tbody tr th:only-of-type {\n",
              "        vertical-align: middle;\n",
              "    }\n",
              "\n",
              "    .dataframe tbody tr th {\n",
              "        vertical-align: top;\n",
              "    }\n",
              "\n",
              "    .dataframe thead th {\n",
              "        text-align: right;\n",
              "    }\n",
              "</style>\n",
              "<table border=\"1\" class=\"dataframe\">\n",
              "  <thead>\n",
              "    <tr style=\"text-align: right;\">\n",
              "      <th></th>\n",
              "      <th>name</th>\n",
              "      <th>task</th>\n",
              "      <th>variable</th>\n",
              "      <th>value</th>\n",
              "    </tr>\n",
              "  </thead>\n",
              "  <tbody>\n",
              "    <tr>\n",
              "      <th>0</th>\n",
              "      <td>Cole</td>\n",
              "      <td>Inspect</td>\n",
              "      <td>max</td>\n",
              "      <td>966616.000000</td>\n",
              "    </tr>\n",
              "    <tr>\n",
              "      <th>1</th>\n",
              "      <td>Cole</td>\n",
              "      <td>Maintain</td>\n",
              "      <td>max</td>\n",
              "      <td>969472.000000</td>\n",
              "    </tr>\n",
              "    <tr>\n",
              "      <th>2</th>\n",
              "      <td>Cole</td>\n",
              "      <td>Overhaul</td>\n",
              "      <td>max</td>\n",
              "      <td>952616.000000</td>\n",
              "    </tr>\n",
              "    <tr>\n",
              "      <th>3</th>\n",
              "      <td>Davis</td>\n",
              "      <td>Inspect</td>\n",
              "      <td>max</td>\n",
              "      <td>972715.000000</td>\n",
              "    </tr>\n",
              "    <tr>\n",
              "      <th>4</th>\n",
              "      <td>Davis</td>\n",
              "      <td>Maintain</td>\n",
              "      <td>max</td>\n",
              "      <td>979856.000000</td>\n",
              "    </tr>\n",
              "    <tr>\n",
              "      <th>...</th>\n",
              "      <td>...</td>\n",
              "      <td>...</td>\n",
              "      <td>...</td>\n",
              "      <td>...</td>\n",
              "    </tr>\n",
              "    <tr>\n",
              "      <th>85</th>\n",
              "      <td>Stuart</td>\n",
              "      <td>Maintain</td>\n",
              "      <td>mean</td>\n",
              "      <td>556341.961538</td>\n",
              "    </tr>\n",
              "    <tr>\n",
              "      <th>86</th>\n",
              "      <td>Stuart</td>\n",
              "      <td>Overhaul</td>\n",
              "      <td>mean</td>\n",
              "      <td>447682.103448</td>\n",
              "    </tr>\n",
              "    <tr>\n",
              "      <th>87</th>\n",
              "      <td>Young</td>\n",
              "      <td>Inspect</td>\n",
              "      <td>mean</td>\n",
              "      <td>485589.285714</td>\n",
              "    </tr>\n",
              "    <tr>\n",
              "      <th>88</th>\n",
              "      <td>Young</td>\n",
              "      <td>Maintain</td>\n",
              "      <td>mean</td>\n",
              "      <td>468007.476190</td>\n",
              "    </tr>\n",
              "    <tr>\n",
              "      <th>89</th>\n",
              "      <td>Young</td>\n",
              "      <td>Overhaul</td>\n",
              "      <td>mean</td>\n",
              "      <td>645421.342857</td>\n",
              "    </tr>\n",
              "  </tbody>\n",
              "</table>\n",
              "<p>90 rows × 4 columns</p>\n",
              "</div>"
            ],
            "text/plain": [
              "      name      task variable          value\n",
              "0     Cole   Inspect      max  966616.000000\n",
              "1     Cole  Maintain      max  969472.000000\n",
              "2     Cole  Overhaul      max  952616.000000\n",
              "3    Davis   Inspect      max  972715.000000\n",
              "4    Davis  Maintain      max  979856.000000\n",
              "..     ...       ...      ...            ...\n",
              "85  Stuart  Maintain     mean  556341.961538\n",
              "86  Stuart  Overhaul     mean  447682.103448\n",
              "87   Young   Inspect     mean  485589.285714\n",
              "88   Young  Maintain     mean  468007.476190\n",
              "89   Young  Overhaul     mean  645421.342857\n",
              "\n",
              "[90 rows x 4 columns]"
            ]
          },
          "metadata": {
            "tags": []
          },
          "execution_count": 243
        }
      ]
    },
    {
      "cell_type": "code",
      "metadata": {
        "id": "vu5KHocWMf-S"
      },
      "source": [
        ""
      ],
      "execution_count": null,
      "outputs": []
    }
  ]
}