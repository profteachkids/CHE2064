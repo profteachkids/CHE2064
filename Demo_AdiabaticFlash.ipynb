{
 "nbformat": 4,
 "nbformat_minor": 0,
 "metadata": {
  "kernelspec": {
   "display_name": "Python 3",
   "language": "python",
   "name": "python3"
  },
  "language_info": {
   "codemirror_mode": {
    "name": "ipython",
    "version": 2
   },
   "file_extension": ".py",
   "mimetype": "text/x-python",
   "name": "python",
   "nbconvert_exporter": "python",
   "pygments_lexer": "ipython2",
   "version": "2.7.6"
  },
  "colab": {
   "name": "Demo_AdiabaticFlash.ipynb",
   "provenance": [],
   "include_colab_link": true
  }
 },
 "cells": [
  {
   "cell_type": "markdown",
   "metadata": {
    "id": "view-in-github",
    "colab_type": "text",
    "pycharm": {
     "name": "#%% md\n"
    }
   },
   "source": [
    "<a href=\"https://colab.research.google.com/github/profteachkids/CHE2064/blob/master/Demo_AdiabaticFlash.ipynb\" target=\"_parent\"><img src=\"https://colab.research.google.com/assets/colab-badge.svg\" alt=\"Open In Colab\"/></a>"
   ]
  },
  {
   "cell_type": "code",
   "metadata": {
    "pycharm": {
     "name": "#%%\n"
    },
    "id": "CiXlQcV0ul0G",
    "colab_type": "code",
    "colab": {
     "base_uri": "https://localhost:8080/",
     "height": 649
    },
    "outputId": "378d118e-7e08-48ff-b62b-7761c830c198"
   },
   "source": [
    "!wget https://raw.githubusercontent.com/profteachkids/CHE2064/master/vsc.py\n",
    "!wget https://raw.githubusercontent.com/profteachkids/CHE2064/master/trust_ncg.py\n",
    "!wget https://raw.githubusercontent.com/profteachkids/CHE2064/master/che_tools.py\n",
    "!pip install DotMap"
   ],
   "execution_count": 1,
   "outputs": [
    {
     "output_type": "stream",
     "text": [
      "--2020-09-08 12:20:11--  https://raw.githubusercontent.com/profteachkids/CHE2064/master/vsc.py\n",
      "Resolving raw.githubusercontent.com (raw.githubusercontent.com)... 151.101.0.133, 151.101.64.133, 151.101.128.133, ...\n",
      "Connecting to raw.githubusercontent.com (raw.githubusercontent.com)|151.101.0.133|:443... connected.\n",
      "HTTP request sent, awaiting response... 200 OK\n",
      "Length: 3247 (3.2K) [text/plain]\n",
      "Saving to: ‘vsc.py’\n",
      "\n",
      "vsc.py              100%[===================>]   3.17K  --.-KB/s    in 0s      \n",
      "\n",
      "2020-09-08 12:20:11 (49.1 MB/s) - ‘vsc.py’ saved [3247/3247]\n",
      "\n",
      "--2020-09-08 12:20:11--  https://raw.githubusercontent.com/profteachkids/CHE2064/master/trust_ncg.py\n",
      "Resolving raw.githubusercontent.com (raw.githubusercontent.com)... 151.101.0.133, 151.101.64.133, 151.101.128.133, ...\n",
      "Connecting to raw.githubusercontent.com (raw.githubusercontent.com)|151.101.0.133|:443... connected.\n",
      "HTTP request sent, awaiting response... 200 OK\n",
      "Length: 2871 (2.8K) [text/plain]\n",
      "Saving to: ‘trust_ncg.py’\n",
      "\n",
      "trust_ncg.py        100%[===================>]   2.80K  --.-KB/s    in 0s      \n",
      "\n",
      "2020-09-08 12:20:11 (41.0 MB/s) - ‘trust_ncg.py’ saved [2871/2871]\n",
      "\n",
      "--2020-09-08 12:20:11--  https://raw.githubusercontent.com/profteachkids/CHE2064/master/che_tools.py\n",
      "Resolving raw.githubusercontent.com (raw.githubusercontent.com)... 151.101.0.133, 151.101.64.133, 151.101.128.133, ...\n",
      "Connecting to raw.githubusercontent.com (raw.githubusercontent.com)|151.101.0.133|:443... connected.\n",
      "HTTP request sent, awaiting response... 200 OK\n",
      "Length: 6401 (6.3K) [text/plain]\n",
      "Saving to: ‘che_tools.py’\n",
      "\n",
      "che_tools.py        100%[===================>]   6.25K  --.-KB/s    in 0s      \n",
      "\n",
      "2020-09-08 12:20:12 (61.5 MB/s) - ‘che_tools.py’ saved [6401/6401]\n",
      "\n",
      "Collecting DotMap\n",
      "  Downloading https://files.pythonhosted.org/packages/52/47/9ca39d01b872c1bf2da0f0031cb3c4e3a016170c181e34d889253e404d59/dotmap-1.3.17-py3-none-any.whl\n",
      "Installing collected packages: DotMap\n",
      "Successfully installed DotMap-1.3.17\n"
     ],
     "name": "stdout"
    }
   ]
  },
  {
   "cell_type": "code",
   "metadata": {
    "id": "DLGVgv4Pul0O",
    "colab_type": "code",
    "colab": {}
   },
   "source": [
    "from dotmap import DotMap\n",
    "import jax.numpy as jnp\n",
    "import jax\n",
    "import vsc\n",
    "import trust_ncg as tncg\n",
    "import che_tools as che"
   ],
   "execution_count": 1,
   "outputs": []
  },
  {
   "cell_type": "code",
   "metadata": {
    "pycharm": {
     "name": "#%%\n"
    },
    "id": "Wjacie-aul0U",
    "colab_type": "code",
    "colab": {}
   },
   "source": [
    "p = che.Props(['Ethanol', 'Isopropanol', 'Water'])"
   ],
   "execution_count": 2,
   "outputs": []
  },
  {
   "cell_type": "code",
   "metadata": {
    "pycharm": {
     "name": "#%%\n"
    },
    "id": "DzvIFEmsqJ87",
    "colab_type": "code",
    "colab": {}
   },
   "source": [
    "def model(c):\n",
    "    c=DotMap(c)\n",
    "    x=che.qtox(c.Vq)\n",
    "    y=che.qtox(c.Lq)\n",
    "    z=che.qtox(c.Fq)\n",
    "    V = x * c.Vtot\n",
    "    L = y * c.Ltot\n",
    "    F = z * c.Ftot\n",
    "    mass_balance = (F - V - L)\n",
    "    mass_balance = (mass_balance/jnp.sum(F))**2\n",
    "\n",
    "    FH = p.Hmix(0., F, c.FT)\n",
    "    VH = p.Hmix(V, 0., c.flashT)\n",
    "    LH = p.Hmix(0., L, c.flashT)\n",
    "    energy_balance = (FH - VH - LH)\n",
    "    energy_balance = (energy_balance/jnp.sum(FH))**2\n",
    "\n",
    "    fugacity = (x*p.Pvap(c.flashT) - y*c.flashP)\n",
    "    fugacity = (fugacity/jnp.sum(y*c.flashP))**2\n",
    "\n",
    "    return jnp.sum(mass_balance + energy_balance + fugacity)"
   ],
   "execution_count": 3,
   "outputs": []
  },
  {
   "cell_type": "code",
   "metadata": {
    "pycharm": {
     "name": "#%%\n"
    },
    "id": "s1Krs9e2qJ8_",
    "colab_type": "code",
    "colab": {
     "base_uri": "https://localhost:8080/",
     "height": 87
    },
    "outputId": "d0a95781-f001-4f99-eae0-57aa3c05d112"
   },
   "source": [
    "s=DotMap()\n",
    "s.Ftot=10\n",
    "s.Fq = che.xtoq([1/3, 1/3, 1/3])\n",
    "s.FT = 380\n",
    "s.flashP= 101325\n",
    "\n",
    "v=DotMap()\n",
    "v.Vq = che.xtoq([0.4, 0.35, 0.25])\n",
    "v.Lq = che.xtoq([0.25, 0.35, 0.4])\n",
    "v.flashT = 300\n",
    "v.Vtot = s.Ftot/2\n",
    "v.Ltot = s.Ftot/2"
   ],
   "execution_count": 4,
   "outputs": [
    {
     "name": "stderr",
     "output_type": "stream",
     "text": [
      "/Users/carlosco/opt/anaconda3/envs/pytorch/lib/python3.8/site-packages/jax/lib/xla_bridge.py:130: UserWarning: No GPU/TPU found, falling back to CPU.\n",
      "  warnings.warn('No GPU/TPU found, falling back to CPU.')\n"
     ]
    }
   ]
  },
  {
   "cell_type": "code",
   "metadata": {
    "pycharm": {
     "name": "#%%\n"
    },
    "id": "B_qzKOKtul0a",
    "colab_type": "code",
    "colab": {
     "base_uri": "https://localhost:8080/",
     "height": 368
    },
    "outputId": "4f8e6394-4dd0-463a-e796-a5bc4376b699"
   },
   "source": [
    "c=vsc.VSC(v,s)\n",
    "model(c.xtoc(c.x))"
   ],
   "execution_count": 5,
   "outputs": [
    {
     "name": "stdout",
     "output_type": "stream",
     "text": [
      "[\"<class 'int'>, 380\\n\", \"<class 'jax.interpreters.xla.DeviceArray'>, [0. 0.]\\n\", \"<class 'int'>, 10\\n\", \"<class 'jax.interpreters.xla.DeviceArray'>, [-0.47000363 -0.13353139]\\n\", \"<class 'float'>, 5.0\\n\", \"<class 'jax.interpreters.xla.DeviceArray'>, [0.47000363 0.33647224]\\n\", \"<class 'float'>, 5.0\\n\", \"<class 'int'>, 101325\\n\", \"<class 'int'>, 300\\n\"]\n",
      "[\"<class 'float'>, nan\\n\", \"<class 'jax.interpreters.xla.DeviceArray'>, [nan nan]\\n\", \"<class 'float'>, nan\\n\", \"<class 'jax.interpreters.xla.DeviceArray'>, [-0.47000363 -0.13353139]\\n\", \"<class 'float'>, 5.0\\n\", \"<class 'jax.interpreters.xla.DeviceArray'>, [0.47000363 0.33647224]\\n\", \"<class 'float'>, 5.0\\n\", \"<class 'float'>, nan\\n\", \"<class 'int'>, 300\\n\"]\n"
     ]
    },
    {
     "data": {
      "text/plain": "DeviceArray(0.32308156, dtype=float64)"
     },
     "execution_count": 5,
     "metadata": {},
     "output_type": "execute_result"
    }
   ]
  },
  {
   "cell_type": "code",
   "execution_count": 6,
   "outputs": [
    {
     "name": "stdout",
     "output_type": "stream",
     "text": [
      "0:2, f: 0.323081563517435\n",
      "1:3, f: 0.3015989558452608\n",
      "2:3, f: 0.29402088854662245\n",
      "3:3, f: 0.2878546352760357\n",
      "4:5, f: 0.2791400448297653\n",
      "5:5, f: 0.25240606407786015\n",
      "6:5, f: 0.2081318611612712\n",
      "7:4, f: 0.2081318611612712\n",
      "8:8, f: 0.14723663436738843\n",
      "9:5, f: 0.14723663436738843\n",
      "10:2, f: 0.15338836552591653\n",
      "11:2, f: 0.15338836552591653\n",
      "12:4, f: 0.14070486983726183\n",
      "13:3, f: 0.14070486983726183\n",
      "14:2, f: 0.12535651455110527\n",
      "15:3, f: 0.11233212403008636\n",
      "16:4, f: 0.08954008726444519\n",
      "17:7, f: 0.07207024809728627\n",
      "18:7, f: 0.06494446419008368\n",
      "19:7, f: 0.06494446419008368\n",
      "20:3, f: 0.06494446419008368\n",
      "21:4, f: 0.06470209530151522\n",
      "22:3, f: 0.06419681737154025\n",
      "23:7, f: 0.06192898206416038\n",
      "24:4, f: 0.06422171879826846\n",
      "25:2, f: 0.0540641391263168\n",
      "26:2, f: 0.0540641391263168\n",
      "27:4, f: 0.040905898542103615\n",
      "28:3, f: 0.040905898542103615\n",
      "29:3, f: 0.033710571628278764\n",
      "30:4, f: 0.027296067785333403\n",
      "31:2, f: 0.0233288203038306\n",
      "32:4, f: 0.009065074416898657\n",
      "33:6, f: 0.004045007462079778\n",
      "34:7, f: 7.682480715177879e-05\n",
      "35:6, f: 4.311249375957627e-08\n",
      "Final results:\n",
      "f: 1.3984660281036785e-14\n",
      "x: [ 5.87177833e-02  5.06120313e-02  9.31140157e+00 -7.54227466e-01\n",
      " -6.06328131e-01  6.88598808e-01  3.61398725e+02]\n"
     ]
    }
   ],
   "source": [
    "modelf = jax.jit(c.transform(model))\n",
    "x_min, f = tncg.minimize(modelf,c.x, verbosity=1)"
   ],
   "metadata": {
    "collapsed": false,
    "pycharm": {
     "name": "#%%\n"
    }
   }
  },
  {
   "cell_type": "code",
   "execution_count": 7,
   "outputs": [
    {
     "data": {
      "text/plain": "                 (vector2, 1) (vector2, 2)\nFT           380                          \nFq                          0            0\nFtot          10                          \nLq                  0.0587178     0.050612\nLtot      9.3114                          \nVq                  -0.754227    -0.606328\nVtot    0.688599                          \nflashP    101325                          \nflashT   361.399                          ",
      "text/html": "<div>\n<style scoped>\n    .dataframe tbody tr th:only-of-type {\n        vertical-align: middle;\n    }\n\n    .dataframe tbody tr th {\n        vertical-align: top;\n    }\n\n    .dataframe thead th {\n        text-align: right;\n    }\n</style>\n<table border=\"1\" class=\"dataframe\">\n  <thead>\n    <tr style=\"text-align: right;\">\n      <th></th>\n      <th></th>\n      <th>(vector2, 1)</th>\n      <th>(vector2, 2)</th>\n    </tr>\n  </thead>\n  <tbody>\n    <tr>\n      <th>FT</th>\n      <td>380</td>\n      <td></td>\n      <td></td>\n    </tr>\n    <tr>\n      <th>Fq</th>\n      <td></td>\n      <td>0</td>\n      <td>0</td>\n    </tr>\n    <tr>\n      <th>Ftot</th>\n      <td>10</td>\n      <td></td>\n      <td></td>\n    </tr>\n    <tr>\n      <th>Lq</th>\n      <td></td>\n      <td>0.0587178</td>\n      <td>0.050612</td>\n    </tr>\n    <tr>\n      <th>Ltot</th>\n      <td>9.3114</td>\n      <td></td>\n      <td></td>\n    </tr>\n    <tr>\n      <th>Vq</th>\n      <td></td>\n      <td>-0.754227</td>\n      <td>-0.606328</td>\n    </tr>\n    <tr>\n      <th>Vtot</th>\n      <td>0.688599</td>\n      <td></td>\n      <td></td>\n    </tr>\n    <tr>\n      <th>flashP</th>\n      <td>101325</td>\n      <td></td>\n      <td></td>\n    </tr>\n    <tr>\n      <th>flashT</th>\n      <td>361.399</td>\n      <td></td>\n      <td></td>\n    </tr>\n  </tbody>\n</table>\n</div>"
     },
     "execution_count": 7,
     "metadata": {},
     "output_type": "execute_result"
    }
   ],
   "source": [
    "v_sol = c.xtoc(x_min)\n",
    "df=vsc.todf(v_sol)\n",
    "df\n"
   ],
   "metadata": {
    "collapsed": false,
    "pycharm": {
     "name": "#%%\n"
    }
   }
  },
  {
   "cell_type": "code",
   "execution_count": null,
   "outputs": [],
   "source": [],
   "metadata": {
    "collapsed": false,
    "pycharm": {
     "name": "#%%\n"
    }
   }
  },
  {
   "cell_type": "code",
   "metadata": {
    "pycharm": {
     "name": "#%%\n"
    },
    "id": "mGaxrV7zqJ9H",
    "colab_type": "code",
    "colab": {
     "base_uri": "https://localhost:8080/",
     "height": 374
    },
    "outputId": "e680c8b4-b3be-467a-fd3a-f48ee03d6e3f"
   },
   "source": [],
   "execution_count": 7,
   "outputs": [
    {
     "output_type": "execute_result",
     "data": {
      "text/html": [
       "<div>\n",
       "<style scoped>\n",
       "    .dataframe tbody tr th:only-of-type {\n",
       "        vertical-align: middle;\n",
       "    }\n",
       "\n",
       "    .dataframe tbody tr th {\n",
       "        vertical-align: top;\n",
       "    }\n",
       "\n",
       "    .dataframe thead th {\n",
       "        text-align: right;\n",
       "    }\n",
       "</style>\n",
       "<table border=\"1\" class=\"dataframe\">\n",
       "  <thead>\n",
       "    <tr style=\"text-align: right;\">\n",
       "      <th></th>\n",
       "      <th></th>\n",
       "      <th>(vector2, 1)</th>\n",
       "      <th>(vector2, 2)</th>\n",
       "    </tr>\n",
       "  </thead>\n",
       "  <tbody>\n",
       "    <tr>\n",
       "      <th>FT</th>\n",
       "      <td>350</td>\n",
       "      <td></td>\n",
       "      <td></td>\n",
       "    </tr>\n",
       "    <tr>\n",
       "      <th>Fq</th>\n",
       "      <td></td>\n",
       "      <td>0</td>\n",
       "      <td>0</td>\n",
       "    </tr>\n",
       "    <tr>\n",
       "      <th>Ftot</th>\n",
       "      <td>10</td>\n",
       "      <td></td>\n",
       "      <td></td>\n",
       "    </tr>\n",
       "    <tr>\n",
       "      <th>Lq</th>\n",
       "      <td></td>\n",
       "      <td>0.401012</td>\n",
       "      <td>0.336411</td>\n",
       "    </tr>\n",
       "    <tr>\n",
       "      <th>Ltot</th>\n",
       "      <td>5.28612</td>\n",
       "      <td></td>\n",
       "      <td></td>\n",
       "    </tr>\n",
       "    <tr>\n",
       "      <th>Vq</th>\n",
       "      <td></td>\n",
       "      <td>-0.414091</td>\n",
       "      <td>-0.32138</td>\n",
       "    </tr>\n",
       "    <tr>\n",
       "      <th>Vtot</th>\n",
       "      <td>4.71388</td>\n",
       "      <td></td>\n",
       "      <td></td>\n",
       "    </tr>\n",
       "    <tr>\n",
       "      <th>flashP</th>\n",
       "      <td>101325</td>\n",
       "      <td></td>\n",
       "      <td></td>\n",
       "    </tr>\n",
       "    <tr>\n",
       "      <th>flashT</th>\n",
       "      <td>359.966</td>\n",
       "      <td></td>\n",
       "      <td></td>\n",
       "    </tr>\n",
       "    <tr>\n",
       "      <th>q</th>\n",
       "      <td>0.5</td>\n",
       "      <td></td>\n",
       "      <td></td>\n",
       "    </tr>\n",
       "  </tbody>\n",
       "</table>\n",
       "</div>"
      ],
      "text/plain": [
       "                (vector2, 1) (vector2, 2)\n",
       "FT          350                          \n",
       "Fq                         0            0\n",
       "Ftot         10                          \n",
       "Lq                  0.401012     0.336411\n",
       "Ltot    5.28612                          \n",
       "Vq                 -0.414091     -0.32138\n",
       "Vtot    4.71388                          \n",
       "flashP   101325                          \n",
       "flashT  359.966                          \n",
       "q           0.5                          "
      ]
     },
     "metadata": {
      "tags": []
     },
     "execution_count": 7
    }
   ]
  },
  {
   "cell_type": "code",
   "metadata": {
    "pycharm": {
     "name": "#%%\n"
    },
    "id": "uSyi5RStqJ9J",
    "colab_type": "code",
    "colab": {}
   },
   "source": [
    ""
   ],
   "execution_count": null,
   "outputs": []
  }
 ]
}